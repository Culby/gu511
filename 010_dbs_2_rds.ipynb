{
 "cells": [
  {
   "cell_type": "markdown",
   "metadata": {
    "slideshow": {
     "slide_type": "slide"
    }
   },
   "source": [
    "# `aws rds`"
   ]
  },
  {
   "cell_type": "markdown",
   "metadata": {
    "slideshow": {
     "slide_type": "subslide"
    }
   },
   "source": [
    "`aws rds` (Relational Database Service) is a remotely hosted service for spinning up databases.\n",
    "\n",
    "what follows will cover the most important elements of the `rds` service, and will losely follow [the `aws rds` documentation](http://docs.aws.amazon.com/AmazonRDS/latest/UserGuide/Welcome.html), so look there for more details"
   ]
  },
  {
   "cell_type": "markdown",
   "metadata": {
    "slideshow": {
     "slide_type": "slide"
    }
   },
   "source": [
    "## why `rds`?"
   ]
  },
  {
   "cell_type": "markdown",
   "metadata": {
    "collapsed": true,
    "slideshow": {
     "slide_type": "subslide"
    }
   },
   "source": [
    "it is absolutely possible to install a database on our remote `ec2` servers.\n",
    "\n",
    "if we did that, we'd have total control over that database's configuration, security, resource usage, replication, archival... total control is a two-edged sword though: maybe we don't want the responsibility, or have the expertise?\n",
    "\n",
    "we can let `aws` take on some of that burden"
   ]
  },
  {
   "cell_type": "markdown",
   "metadata": {
    "slideshow": {
     "slide_type": "subslide"
    }
   },
   "source": [
    "the tradeoff is the same as it has been for almost all of the `aws` services we've seen so far:\n",
    "\n",
    "+ self-run: more granular control; but more admin overhead, complexity, and responsibility\n",
    "+ managed: less admin overhead, complexity, and responsibility; but less granular control"
   ]
  },
  {
   "cell_type": "markdown",
   "metadata": {
    "slideshow": {
     "slide_type": "subslide"
    }
   },
   "source": [
    "additionally, it is almost guaranteed that the managed option will be easier and cheaper to operate at large scales (not that that matters to us in this moment!)\n",
    "\n",
    "scaling to meet resource consumption or consumer demand, replication and backup, security, and other nice-to-have features are click-button options in `rds`"
   ]
  },
  {
   "cell_type": "markdown",
   "metadata": {
    "slideshow": {
     "slide_type": "slide"
    }
   },
   "source": [
    "## what makes up an `rds` instance\n",
    "\n",
    "an `rds` instance is a database, an availability zone, a security group, and parameterization"
   ]
  },
  {
   "cell_type": "markdown",
   "metadata": {
    "slideshow": {
     "slide_type": "subslide"
    }
   },
   "source": [
    "### database instances\n",
    "\n",
    "each `rds` instance has a database instance -- actual database service software running on some `aws`-managed machine. \n",
    "\n",
    "as with `ec2` services before them, this means you must choose the hardware (memory and storage) and software (database service) that you want to use"
   ]
  },
  {
   "cell_type": "markdown",
   "metadata": {
    "slideshow": {
     "slide_type": "subslide"
    }
   },
   "source": [
    "#### hardware choices\n",
    "\n",
    "the main dimensions here are\n",
    "\n",
    "1. memory (will allow you to perform queries involving larger datasets)\n",
    "2. cpu (will allow you to perform queries faster)\n",
    "3. storage (will allow you to save more records)\n",
    "\n",
    "at it's heart, you're doing the same thing you did when you set up your `ec2` server: identifying which of the above are important to you and selecting the instance type that performs best for your use case.\n",
    "\n",
    "or just picking the free one. there's always that."
   ]
  },
  {
   "cell_type": "markdown",
   "metadata": {
    "slideshow": {
     "slide_type": "subslide"
    }
   },
   "source": [
    "####  software choices\n",
    "\n",
    "by \"software\" here we mean the installed sql database flavor. there are many flavors of relational databases, and `aws` supports some of the most popular:\n",
    "\n",
    "1. `mysql`\n",
    "2. `mariadb` (a special flavor / fork of `mysql`)\n",
    "3. `postgres`\n",
    "4. `oracle`\n",
    "5. `mssql`\n",
    "6. `amazon aurora` (an in-house modification of `mysql`)"
   ]
  },
  {
   "cell_type": "markdown",
   "metadata": {
    "slideshow": {
     "slide_type": "subslide"
    }
   },
   "source": [
    "### regions and availability zones\n",
    "\n",
    "each instance you create will be located -- that is, physically -- in one or more (your choice) data centers in whatever region you select.\n",
    "\n",
    "a *region* is a particular geographic area (*e.g.* US East 1, Northern Virginia).\n",
    "\n",
    "an *availability zone* is an isolated datacenter within a given region. different availability zones are designed to be completely isolated, such that a problem or outage at one does not affect the others."
   ]
  },
  {
   "cell_type": "markdown",
   "metadata": {
    "slideshow": {
     "slide_type": "subslide"
    }
   },
   "source": [
    "the default behavior (and the only free behavior) is to create *one* instance in *one* availability zone. in a sensitive and robust production setting, you would want to have multiple availability zones."
   ]
  },
  {
   "cell_type": "markdown",
   "metadata": {
    "slideshow": {
     "slide_type": "subslide"
    }
   },
   "source": [
    "### security groups\n",
    "\n",
    "just as with `ec2`, each database will need a security group to control access to and from this database. you can choose to open the database to the entire world, just your ip address, *etc*. it's the same song and dance."
   ]
  },
  {
   "cell_type": "markdown",
   "metadata": {
    "slideshow": {
     "slide_type": "subslide"
    }
   },
   "source": [
    "### db parameter and option groups\n",
    "\n",
    "there are *a lot* of configuration parameters and options associated with database management. `aws` separates them into two groups, and you created a normalized configuration object called a group for each type:\n",
    "\n",
    "1. db paramater group\n",
    "    1. these are parameters which determine how the database *itself* is configured\n",
    "    2. car analogy: every car has an engine; the number of cylinders in the engine is a parameter of the engine\n",
    "2. db option group\n",
    "    1. these are parameters which determine how optional, extra features (database dependent) are configured, *if* they are activated or utilized\n",
    "    2. car analogy: spoiler color; not every car has a spoiler, but if you want yours to be **AWESOME** and **FAST**, you should get a red one"
   ]
  },
  {
   "cell_type": "markdown",
   "metadata": {
    "slideshow": {
     "slide_type": "slide"
    }
   },
   "source": [
    "## connecting two ways"
   ]
  },
  {
   "cell_type": "markdown",
   "metadata": {
    "slideshow": {
     "slide_type": "subslide"
    }
   },
   "source": [
    "once we've created an `rds` database, we will have *two* things we could connect to / interact with\n",
    "\n",
    "1. the database itself\n",
    "2. the `rds` service\n",
    "\n",
    "generally speaking, when we discuss connections in what follows we're talking about connecting *to the database*. don't forget, though, that we can connect to and manipulate the `rds` service as well, via the `aws cli` or the `boto3` library."
   ]
  },
  {
   "cell_type": "markdown",
   "metadata": {
    "slideshow": {
     "slide_type": "slide"
    }
   },
   "source": [
    "## enough talk, let's make a database!"
   ]
  },
  {
   "cell_type": "markdown",
   "metadata": {
    "slideshow": {
     "slide_type": "subslide"
    }
   },
   "source": [
    "let's create some databases.\n",
    "\n",
    "follow along while I create a `psql` database. start at the `rds` console: https://console.aws.amazon.com/rds/home\n",
    "\n",
    "<br><div align=\"center\">**walkthrough: create a `postgres` database**</div>"
   ]
  },
  {
   "cell_type": "markdown",
   "metadata": {
    "slideshow": {
     "slide_type": "notes"
    }
   },
   "source": [
    "this is what happens in the above walkthrough:\n",
    "\n",
    "1. navigate to [the `rds` console](https://console.aws.amazon.com/rds/home)\n",
    "2. create a new `rds` instance\n",
    "    1. click on the \"get started now\" button or the \"Launch\" icon on the Dashboard page, or the \"Launch DB Instance\" button on the \"Instances\" page\n",
    "    2. engine choice\n",
    "        1. click the \"free usage tier\" button\n",
    "            1. note: this drops amazon aurora as an option, but *also* \"step 2: Choose use case\"\n",
    "        2. unclick the \"free usage tier\" button\n",
    "        3. let's go with `postgresql`\n",
    "        4. click \"next\"\n",
    "    3. use case\n",
    "        1. this option is only available for non-free options\n",
    "        2. the \"Production\" use case is not free because it comes with\n",
    "            1. multi-az deployment (availability in multiple availability zones for increased redundancy and load balancing)\n",
    "            2. provisioned iops storage\n",
    "        3. we don't have production requirements -- this is about as dev/test-y as it gets.\n",
    "        4. switch to \"Dev/Test\"\n",
    "        5. click \"next\"\n",
    "    4. db details\n",
    "        1. click the \"Free tier\" checkbox\n",
    "        2. pick the most recent db engine version\n",
    "        3. observe: only one db option\n",
    "        4. observe: multi-az deployment is not an option\n",
    "        5. observe: only one storaget type option\n",
    "        6. increase allocated storage to 10 GB\n",
    "        7. fill in any info you want, but **don't forget the username and password**!\n",
    "        8. click \"Next\"\n",
    "    5. configure advanced settings\n",
    "        1. network and security\n",
    "            1. a VPC is an isolated network within the `aws` network, for full isolation within your apps and services\n",
    "            2. select \"Yes\" for \"Public accessibility\"\n",
    "            3. \"No preference\" for AZ\n",
    "            4. leave \"Create new\" selected for the Security group\n",
    "        2. database\n",
    "            1. one `postgresql` *server* may have several *databases* (isolated collections of tables, table schemas, users, permissions, indices, etc)\n",
    "            2. leave the other defaults\n",
    "        3. encryption\n",
    "            1. same as with `s3`, encrypts on local machine\n",
    "            2. apps which access this db see *decrypted* values only\n",
    "        4. backup\n",
    "            1. set the retention period to be 1 day\n",
    "            2. no preference for backup window\n",
    "        5. monitoring\n",
    "            1. only useful if you want to see system resources (e.g. which query is causing me to burn through iops)\n",
    "        6. maintenance\n",
    "            1. takes care of patching database software\n",
    "        7. click \"Launch DB Instance\"\n",
    "    6. click \"View DB Instance details\""
   ]
  },
  {
   "cell_type": "markdown",
   "metadata": {
    "slideshow": {
     "slide_type": "subslide"
    }
   },
   "source": [
    "### connecting to our db: `pgadmin` gui\n",
    "\n",
    "while `aws` is spinning up that postgres database (takes a few minutes), go install the `pgadmin` program:\n",
    "\n",
    "https://www.pgadmin.org/download/\n",
    "\n",
    "install the most recent non-release candidate of `pgadmin 4` (or the RC, if you're feeling saucy)\n",
    "\n",
    "<br><div align=\"center\">**mini exercise: download and install `pgadmin`**</div>"
   ]
  },
  {
   "cell_type": "markdown",
   "metadata": {
    "slideshow": {
     "slide_type": "subslide"
    }
   },
   "source": [
    "`pgadmin` is not the *only* gui available for interacting with `postgres` databases, but it is the one developed by and supported by the `postgres` project -- hence my choice here.\n",
    "\n",
    "there are a lot of other options, some of which have a prettier interface and more features. If you're looking for bells and whistles, give [one of these](https://wiki.postgresql.org/wiki/Community_Guide_to_PostgreSQL_GUI_Tools) a shot (and [here, a list with screencaps](https://www.quora.com/What-is-a-good-GUI-tool-for-PostgreSQL-that-has-a-comfy-tabbed-view-for-results-and-queries-easy-sorting-and-grouping-of-results-IntelliSense-a-good-%E2%80%9Cquery-builder%E2%80%9D-to-help-with-syntax-support-for-versioning-of-SQL-code-and-a-good-debug-mode))"
   ]
  },
  {
   "cell_type": "markdown",
   "metadata": {
    "slideshow": {
     "slide_type": "subslide"
    }
   },
   "source": [
    "alright! status check: we should have the following:\n",
    "\n",
    "1. `pgadmin` installed\n",
    "2. a `postgresql` database in an \"available\" state\n",
    "3. a security group accepting your *current* ip address\n",
    "\n",
    "let's connect to our db with `pgadmin`"
   ]
  },
  {
   "cell_type": "markdown",
   "metadata": {
    "slideshow": {
     "slide_type": "subslide"
    }
   },
   "source": [
    "<div align=\"center\">**mini exercise: connect to your `postgresql` instance using `pgadmin`**</div>\n",
    "\n",
    "1. open your `psql` server to your current `ip`\n",
    "    1. find your `psql` server's security group\n",
    "    2. add an `inbound` rule of `postgresql` type from this or all `ip` addresses\n",
    "2. open your `psql` server using `pgadmin`\n",
    "    1. \"Add New Server\" button\n",
    "    2. \"Host\" --> \"Endpoint\" and \"Port\" --> \"Port\", \"Username\" and \"Password\" from memory\n",
    "3. create a table\n",
    "    1. navigate to your database > Schema > Public > Tables\n",
    "    2. right click and \"create new table\""
   ]
  },
  {
   "cell_type": "markdown",
   "metadata": {
    "slideshow": {
     "slide_type": "subslide"
    }
   },
   "source": [
    "you probably know what's next by now: we just connected to a thing we built using a nice gui with helpful pictures and drop down menus and click-button options, so naturally it is time to eschew all of those finer things and access the same database from *the command line only*!"
   ]
  },
  {
   "cell_type": "markdown",
   "metadata": {
    "slideshow": {
     "slide_type": "subslide"
    }
   },
   "source": [
    "### connecting to our db: `psql cli`\n",
    "\n",
    "really, though, we will often want to execute scripts directly from the command line, or do simple querying while developing, our use connecting libraries from within our `python` or `R` scripts, so it's good to build some familiarity with accessing databases from the `cl`"
   ]
  },
  {
   "cell_type": "markdown",
   "metadata": {
    "slideshow": {
     "slide_type": "subslide"
    }
   },
   "source": [
    "<div align=\"center\">**mini exercise: install `psql` command line client**</div>\n",
    "\n",
    "1. open your `ec2` server\n",
    "2. install: `sudo apt install postgresql-client`\n",
    "3. verify: `which psql`\n",
    "4. rtfm: `man psql`\n",
    "    1. figure out how to specify `host`, `port`, `username`, `dbname`, and `password`"
   ]
  },
  {
   "cell_type": "markdown",
   "metadata": {
    "slideshow": {
     "slide_type": "subslide"
    }
   },
   "source": [
    "the `psql` command is yet another programming language shell. just like the `python` or `R` command, this will open a `shell` (an environment where certain typed commands will do certain things) and allow us to write `postgres sql` statements to query a database."
   ]
  },
  {
   "cell_type": "markdown",
   "metadata": {
    "slideshow": {
     "slide_type": "subslide"
    }
   },
   "source": [
    "<div align=\"center\">**mini exercise: connecting to our `postgres` server using `psql` command line client**</div>\n",
    "\n",
    "connect to your database by passing the `host`, `port`, `username`, and `dbname`, and then typing the `password`:\n",
    "\n",
    "```bash\n",
    "psql --host HOSTNAME \\\n",
    "     --port PORT_NUMBER \\\n",
    "     --username USER_NAME \\\n",
    "     --dbname DATABASE_NAME\n",
    "```"
   ]
  },
  {
   "cell_type": "markdown",
   "metadata": {
    "slideshow": {
     "slide_type": "fragment"
    }
   },
   "source": [
    "what happened? why do you think that happened?"
   ]
  },
  {
   "cell_type": "markdown",
   "metadata": {
    "slideshow": {
     "slide_type": "subslide"
    }
   },
   "source": [
    "<div align=\"center\">**mini exercise: add your `ec2` servers to your security group and *then* connecting **</div>\n",
    "\n",
    "1. go to your `rds` instance's page\n",
    "2. select the `security group`\n",
    "3. edit the `inbound` rules\n",
    "    1. add TCP access to port 5419 for your `ec2` server's IP address or security group name\n",
    "4. try to connect from your `ec2` server again\n",
    "\n",
    "```bash\n",
    "psql --host HOSTNAME --port PORT_NUMBER --username USER_NAME --dbname DATABASE_NAME\n",
    "```\n",
    "\n",
    "notice a difference?"
   ]
  },
  {
   "cell_type": "markdown",
   "metadata": {
    "slideshow": {
     "slide_type": "subslide"
    }
   },
   "source": [
    "note: if you don't pass `dbname` explicitly, `psql` will try to connect to a database with name `USER_NAME` by default. this will usually not exist, but it's not uncommon to forget this and receive a\n",
    "\n",
    "```\n",
    "psql: FATAL:  database \"USER_NAME\" does not exist\n",
    "```\n",
    "\n",
    "error"
   ]
  },
  {
   "cell_type": "markdown",
   "metadata": {
    "slideshow": {
     "slide_type": "subslide"
    }
   },
   "source": [
    "#### a review of `psql` commands\n",
    "\n",
    "when in the `psql` shell, you effectively have access to two languages:\n",
    "\n",
    "1. traditional `sql`: `SELECT ... FROM ... WHERE` and the `LIKE`\n",
    "2. `psql` commands\n",
    "    1. these all start with the `\\` character (e.g. `\\h`, or `\\password`)"
   ]
  },
  {
   "cell_type": "markdown",
   "metadata": {
    "slideshow": {
     "slide_type": "subslide"
    }
   },
   "source": [
    "to get an idea of the options available, try the following:\n",
    "\n",
    "1. `\\h`: a general `sql` help function\n",
    "    1. on its own, it lists all the `sql` commands available\n",
    "2. `\\h SQL_COMMAND`: a concise help menu for a given `sql` command\n",
    "    1. example: `\\h select`\n",
    "3. `\\?`: lists all the `psql` commands available with a short description\n",
    "    1. example: `\\d`\n",
    "    2. example: `\\l`"
   ]
  },
  {
   "cell_type": "markdown",
   "metadata": {
    "slideshow": {
     "slide_type": "subslide"
    }
   },
   "source": [
    "<div align=\"center\">**mini exercise: create a new table in our database**</div>\n",
    "\n",
    "1. first, make sure you're connected to the database you think you are\n",
    "    1. check the prompt: `databasename=>`, or the results of command `\\c`\n",
    "2. list the existing tables (relations): `\\d`\n",
    "3. execte the below `sql` statement\n",
    "4. run `\\d` and `select` lines from your table (there will be none unless you `insert` your own)\n",
    "\n",
    "```sql\n",
    "create table YOUR_NAME_HERE (\n",
    "    id serial not null\n",
    "    , name varchar\n",
    ");\n",
    "```"
   ]
  },
  {
   "cell_type": "markdown",
   "metadata": {},
   "source": []
  },
  {
   "cell_type": "markdown",
   "metadata": {
    "slideshow": {
     "slide_type": "notes"
    }
   },
   "source": [
    "+ Purchase methods:\n",
    "    + Up-front reserved\n",
    "    + On-demand hourly\n",
    "    + spot"
   ]
  },
  {
   "cell_type": "markdown",
   "metadata": {
    "slideshow": {
     "slide_type": "subslide"
    }
   },
   "source": [
    "+ exercises\n",
    "    + dynamodb\n",
    "        + insert event, lambda function to trigger email sent or some file being written to s3 or something silly\n",
    "        + aws dynamodb and boto3 dynamodb example cases"
   ]
  },
  {
   "cell_type": "code",
   "execution_count": null,
   "metadata": {
    "collapsed": true
   },
   "outputs": [],
   "source": []
  }
 ],
 "metadata": {
  "celltoolbar": "Slideshow",
  "kernelspec": {
   "display_name": "Python 3",
   "language": "python",
   "name": "python3"
  },
  "language_info": {
   "codemirror_mode": {
    "name": "ipython",
    "version": 3
   },
   "file_extension": ".py",
   "mimetype": "text/x-python",
   "name": "python",
   "nbconvert_exporter": "python",
   "pygments_lexer": "ipython3",
   "version": "3.6.2"
  }
 },
 "nbformat": 4,
 "nbformat_minor": 2
}

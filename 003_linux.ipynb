{
 "cells": [
  {
   "cell_type": "markdown",
   "metadata": {
    "slideshow": {
     "slide_type": "slide"
    }
   },
   "source": [
    "# linux crash course"
   ]
  },
  {
   "cell_type": "markdown",
   "metadata": {
    "slideshow": {
     "slide_type": "subslide"
    }
   },
   "source": [
    "[linux](https://en.wikipedia.org/wiki/Linux) is one of the most popular operating systems in the world and perhaps the most powerful for data analytics. familiarity with the ins and outs of the linux operating system are an absolute must in the modern cloud computing environment in particular.\n",
    "\n",
    "at the same time, \"linux\" as a topic is enough to fill several courses (let alone slides). much of the material I leave out here *will* be relevant to you in your future.\n",
    "\n",
    "this is all to say: I've tried to pare down the linux world to the things I think are *most useful* and *most frequently seen* in the wild. at the very least, I hope that when you encounter these commands and utilities in the wild you will think \"I think we talked about that that one time...\" -- those mental guideposts can be a lifesaver."
   ]
  },
  {
   "cell_type": "markdown",
   "metadata": {
    "slideshow": {
     "slide_type": "subslide"
    }
   },
   "source": [
    "<div align=\"center\">**start up and log in to your ec2 instance and follow along**</div>"
   ]
  },
  {
   "cell_type": "markdown",
   "metadata": {
    "slideshow": {
     "slide_type": "slide"
    }
   },
   "source": [
    "## file system, paths, and organization"
   ]
  },
  {
   "cell_type": "markdown",
   "metadata": {
    "slideshow": {
     "slide_type": "subslide"
    }
   },
   "source": [
    "most users are familiar with the windows/dos \"drive\" concept of file system organization -- you have lettered drives (e.g. the `C:\\\\`) and some top-level folders in that drive:\n",
    "\n",
    "+ `C:\\\\`\n",
    "    + Program Files\n",
    "        + Google Chrome\n",
    "    + Program Files (x86)\n",
    "        + Minesweeper\n",
    "    + Users\n",
    "        + myname\n",
    "            + AppData\n",
    "            + My Documents\n",
    "            + My Pictures\n",
    "    + Windows\n",
    "+ `D:\\\\`\n",
    "    + no one knows. floppy disk? insanity.\n",
    "    \n",
    "over time and use, you've perhaps gotten used to know \"where\" things are, so when you need to tweak something, install something, or save something,  you have some instinct built up.\n",
    "\n",
    "what are those instincts in the linux world?"
   ]
  },
  {
   "cell_type": "markdown",
   "metadata": {
    "slideshow": {
     "slide_type": "subslide"
    }
   },
   "source": [
    "there is a pretty tried-and-true filesystem hierarchy in the linux world and although it is not as human-readable as the windows analogs, knowing the organization can often prove helpful"
   ]
  },
  {
   "cell_type": "markdown",
   "metadata": {
    "slideshow": {
     "slide_type": "slide"
    }
   },
   "source": [
    "### paths\n",
    "\n",
    "You've probably heard this phrase before, but for completeness' sake: a \"path\" is a sequence of \"directories\" (\"folders\" in the windows and mac worlds) and possibly a file name with an extension. Directories have paths (hence \"possibly\" a file name).\n",
    "\n",
    "these sequences are separated by the foward slash character (/) in linux world."
   ]
  },
  {
   "cell_type": "markdown",
   "metadata": {
    "slideshow": {
     "slide_type": "subslide"
    }
   },
   "source": [
    "paths can be written in two ways:\n",
    "\n",
    "1. absolute\n",
    "    1. this is a path that contains every single directory (folder) relative to some shared root point (called the root folder, discussed below)\n",
    "2. relative\n",
    "    1. this is a path which looks for the path relative to the place your terminal \"is\"\n",
    "    2. by default, your session will start in your home directory (discussed below), and paths can be relative to this point in the file system"
   ]
  },
  {
   "cell_type": "markdown",
   "metadata": {
    "slideshow": {
     "slide_type": "subslide"
    }
   },
   "source": [
    "there is a special concept often utilized in linux path discussions: \"[globbing](http://tldp.org/LDP/abs/html/globbingref.html)\". a \"glob\" is a string that looks like a path, but contains wild card characters (`*`, ?, and a handful of others). You can use glob expressions to *match* several files. For example, if you want to find every `csv` file in the current directory, you could look for the glob\n",
    "\n",
    "```bash\n",
    "*.csv\n",
    "```\n",
    "\n",
    "the `*` character will match anything.\n",
    "\n",
    "advanced: globs are not equivalent to regular expressions. they are a subset in both syntax and capabilities"
   ]
  },
  {
   "cell_type": "markdown",
   "metadata": {
    "slideshow": {
     "slide_type": "slide"
    }
   },
   "source": [
    "### root folder"
   ]
  },
  {
   "cell_type": "markdown",
   "metadata": {
    "slideshow": {
     "slide_type": "subslide"
    }
   },
   "source": [
    "the \"root\" folder is (as the name implies) the base of all file paths on your computer. This is similar to the `C:\\\\` in windows-world except there is no analogy to \"other\" root folders.\n",
    "\n",
    "The root folder is symbolized by just one single \"`/`\" character.\n",
    "\n",
    "Open a termainal and try the following:\n",
    "\n",
    "``` bash\n",
    "ls -lh /\n",
    "```\n",
    "\n",
    "*we'll get into the details later but this command \"lists\" (`ls`) the contents of the directory \"`/`\", and makes the list \"long\" (`-l`) and human-readable (`-h`)*"
   ]
  },
  {
   "cell_type": "code",
   "execution_count": null,
   "metadata": {},
   "outputs": [],
   "source": [
    "%%bash\n",
    "ls -lh /"
   ]
  },
  {
   "cell_type": "markdown",
   "metadata": {
    "slideshow": {
     "slide_type": "subslide"
    }
   },
   "source": [
    "The contents of the [root folder](http://www.tldp.org/LDP/intro-linux/html/sect_03_01.html) are pretty established in the linux community. As your machines are all the same (Ubuntu 16.04) you should be seeing identical collections of directories and paths. From linux machine to machine there may be some changes, but you can usually count on the same structure.\n",
    "\n",
    "*note: the linux documentation project (or \"tldp\") which I linked above is a great beginners resource. It has become outdated over time, but is often the best and fullest resource for explaining linux concepts -- keep an eye out!*"
   ]
  },
  {
   "cell_type": "markdown",
   "metadata": {
    "slideshow": {
     "slide_type": "subslide"
    }
   },
   "source": [
    "There are a couple of directories in `/` that deserve special mention."
   ]
  },
  {
   "cell_type": "markdown",
   "metadata": {
    "slideshow": {
     "slide_type": "subslide"
    }
   },
   "source": [
    "#### `/bin`\n",
    "\n",
    "the `/bin` directory (short for \"binaries\") contains common executible stuff (that is, stuff you can run which will do something).\n",
    "\n",
    "the word \"binary\" is a bit of an anachronism now, as non-binary things commonly live in the `/bin` directory\n",
    "\n",
    "check out the results of\n",
    "\n",
    "```bash\n",
    "ls -alh /bin/\n",
    "```\n",
    "\n",
    "notice anyting?"
   ]
  },
  {
   "cell_type": "code",
   "execution_count": null,
   "metadata": {},
   "outputs": [],
   "source": [
    "%%bash\n",
    "ls -alh /bin/"
   ]
  },
  {
   "cell_type": "markdown",
   "metadata": {
    "slideshow": {
     "slide_type": "subslide"
    }
   },
   "source": [
    "#### `/etc`\n",
    "\n",
    "Although the name comes from \"*et cetera*\" (it originally held all sorts of things), in modern times this folder is home to pretty much one type of file: system-wide configuration files. of all of these directories, this is the one that will most benefit you to know about.\n",
    "\n",
    "linux has a multi-level understanding of configuration:\n",
    "\n",
    "1. this command's configuration as I invoke it right now\n",
    "    1. example: command line flags (`myapp --env dev --db mysql`)\n",
    "2. \"nearby\" configuration\n",
    "    1. example: a configuration file (`myapp.conf`) in this directory\n",
    "3. user level configuration\n",
    "    1. example: a configuration file (`~/myapp/myapp.conf`) in a user's home directory\n",
    "4. system level configuration\n",
    "    1. example: a configuration file (`/etc/myapp/myapp.conf`)"
   ]
  },
  {
   "cell_type": "markdown",
   "metadata": {
    "slideshow": {
     "slide_type": "subslide"
    }
   },
   "source": [
    "#### `/etc` (cont.)\n",
    "\n",
    "the order above represents the order of importance -- the higher up in the list and closer you are to the user typing the command that is about to run, the more important that configuration is.\n",
    "\n",
    "**by default**, almost all behavior is controlled by the `/etc/` configuration. these files are created as you install packages (\"packages\" is a term loosely meaning software you can use)\n",
    "\n",
    "let's check out `/etc`\n",
    "\n",
    "```bash\n",
    "ls -alh /etc\n",
    "```"
   ]
  },
  {
   "cell_type": "code",
   "execution_count": null,
   "metadata": {},
   "outputs": [],
   "source": [
    "%%bash\n",
    "ls -alh /etc"
   ]
  },
  {
   "cell_type": "markdown",
   "metadata": {
    "slideshow": {
     "slide_type": "subslide"
    }
   },
   "source": [
    "#### `/etc` (cont.)\n",
    "\n",
    "generally speaking, you should not mess around with files in `/etc`.\n",
    "\n",
    "generally speaking.\n",
    "\n",
    "that being said, eventually they will come up and you'll have to do something about it. You'll want to know how to allow a made-up user access a postgres database, or how to allow `http` access to a neo4j database, or how to restrict access to you cloud computer to *only* via ssh key authentication (a really good idea!)."
   ]
  },
  {
   "cell_type": "markdown",
   "metadata": {
    "slideshow": {
     "slide_type": "subslide"
    }
   },
   "source": [
    "#### `/home`\n",
    "\n",
    "the linux os developed out of an environment where multiple users utilized the same resources (an im-personal computer, so to speak), so keeping different user's items separate was important.\n",
    "\n",
    "the `/home` directory (sometimes called `/user`) contains seperate, isolated directories for each user of the computer.\n",
    "\n",
    "it is considered to be best practice to physically or \"virtually physically\" isolate these directories from everything else. this is so that you can copy your profile and configuration files from one installation / distribution / computer to the next and keep “your” stuff."
   ]
  },
  {
   "cell_type": "markdown",
   "metadata": {
    "slideshow": {
     "slide_type": "subslide"
    }
   },
   "source": [
    "#### `/home` (cont.)\n",
    "\n",
    "as I said, every user has a director in home. see if your user (ubuntu) has one:\n",
    "\n",
    "```bash\n",
    "ls -alh /home\n",
    "```"
   ]
  },
  {
   "cell_type": "code",
   "execution_count": null,
   "metadata": {},
   "outputs": [],
   "source": [
    "%%bash\n",
    "ls -alh /home"
   ]
  },
  {
   "cell_type": "markdown",
   "metadata": {
    "slideshow": {
     "slide_type": "subslide"
    }
   },
   "source": [
    "#### `/mnt`\n",
    "\n",
    "Short for \"mount\", this directory is where external or network drives are \"mounted\" (*i.e.* networked and attached to the file system so that they can be accessed). If you were to plug in a USB drive to a linux laptop or desktop, for example, those files would be \"mounted\" to the file system and visible from this directory.\n",
    "\n",
    "You probably don't have anything mounted to your cloud computer, but take a peak:"
   ]
  },
  {
   "cell_type": "code",
   "execution_count": null,
   "metadata": {},
   "outputs": [],
   "source": [
    "%%bash\n",
    "ls -alh /mnt"
   ]
  },
  {
   "cell_type": "markdown",
   "metadata": {
    "slideshow": {
     "slide_type": "subslide"
    }
   },
   "source": [
    "#### `/opt`\n",
    "\n",
    "historically, this directory contained \"optional\" add-on software packages. This is still often the place on the filesystem you or your sysad might install \"special\" things (e.g. Citrix for making remote desktop connections, or special text editors). These things are sometimes also installed in another directory (`/usr/local`), so this isn't a hard-and-fast rule.\n",
    "\n",
    "*Note: not a lot of people know that this exists or that this is what it should be used for!\n",
    "If there is a thing you want to install and you think \"where should I put this...\" and you think maybe other users might also use it, a great answer is `/opt`*\n",
    "\n",
    "what's in your `/opt`?\n",
    "\n",
    "```bash\n",
    "ls -alh /opt\n",
    "```"
   ]
  },
  {
   "cell_type": "code",
   "execution_count": null,
   "metadata": {},
   "outputs": [],
   "source": [
    "%%bash\n",
    "ls -alh /opt"
   ]
  },
  {
   "cell_type": "markdown",
   "metadata": {
    "slideshow": {
     "slide_type": "subslide"
    }
   },
   "source": [
    "#### `/tmp`\n",
    "\n",
    "the name \"tmp\" is (as you guessed) short for \"temporary. this directory provides an ephemeral (*i.e.* it gets wiped with some frequency, usually on restart) bucket for any temporary thing you may want to save. \n",
    "\n",
    "This includes cache files (spotify or chrome downloads), backups of files (autosaved by some editors), *.etc*. You should feel absolutely comfortable using it in your work with the obvious caveat that you shouldn't put anything **important** in a place called \"temporary\"\n",
    "\n",
    "what's already in your temporary folder?\n",
    "\n",
    "```bash\n",
    "ls -alh /tmp\n",
    "```"
   ]
  },
  {
   "cell_type": "code",
   "execution_count": null,
   "metadata": {},
   "outputs": [],
   "source": [
    "%%bash\n",
    "ls -alh /tmp"
   ]
  },
  {
   "cell_type": "markdown",
   "metadata": {
    "slideshow": {
     "slide_type": "subslide"
    }
   },
   "source": [
    "#### `/var`\n",
    "\n",
    "here \"var\" is short for \"variable\". this is not in the sense of a programmatic of mathematical variable, but rather as an item in of unknown duration, number, or volume. these are files which are separated from all other files because they *must* be writable and changeable for a computer to work.\n",
    "\n",
    "TLDP has [a good write-up](http://www.tldp.org/LDP/Linux-Filesystem-Hierarchy/html/var.html) of the sorts of items kept in `/var`: backups, cahe files, logs, database instances, and logs\n",
    "\n",
    "Pay attention to `/var/log` in particular -- in linux world, when things go wrong this is often where you need to go to figure out what happened\n",
    "\n",
    "```bash\n",
    "ls -alh /var\n",
    "```"
   ]
  },
  {
   "cell_type": "code",
   "execution_count": null,
   "metadata": {},
   "outputs": [],
   "source": [
    "%%bash\n",
    "ls -alh /var"
   ]
  },
  {
   "cell_type": "markdown",
   "metadata": {
    "slideshow": {
     "slide_type": "subslide"
    }
   },
   "source": [
    "### special folders\n",
    "\n",
    "you may have noticed above that every call to `ls` starts with two special lines that end in `.` and `..`. Those are special path tokens that refer to\n",
    "\n",
    "+ `.`: the current directory (i.e. the results of command `pwd`)\n",
    "+ `..`: the directory one level above this one"
   ]
  },
  {
   "cell_type": "markdown",
   "metadata": {
    "slideshow": {
     "slide_type": "slide"
    }
   },
   "source": [
    "### home folders"
   ]
  },
  {
   "cell_type": "markdown",
   "metadata": {
    "slideshow": {
     "slide_type": "subslide"
    }
   },
   "source": [
    "as I mentioned above, one of the directories within the root directory is `/home`, and this contains an isolated directory for each user. this directory is so important that there is a permanent shortcut for getting there -- a bash environment variable (more on that below) that contains that path. to show this, let's print it out -- `echo` is the most common \"print\" command in linux, and will print to the screen whatever is written after it (after resolving variables):\n",
    "\n",
    "```bash\n",
    "echo ~\n",
    "```"
   ]
  },
  {
   "cell_type": "code",
   "execution_count": null,
   "metadata": {},
   "outputs": [],
   "source": [
    "%%bash\n",
    "echo ~"
   ]
  },
  {
   "cell_type": "markdown",
   "metadata": {},
   "source": [
    "your terminal should return `/home/ubuntu`, since your user name is `ubuntu`."
   ]
  },
  {
   "cell_type": "markdown",
   "metadata": {
    "slideshow": {
     "slide_type": "subslide"
    }
   },
   "source": [
    "Let's go a step further and check out what is in that directory:\n",
    "\n",
    "```bash\n",
    "ls -alh ~\n",
    "```"
   ]
  },
  {
   "cell_type": "code",
   "execution_count": null,
   "metadata": {},
   "outputs": [],
   "source": [
    "%%bash\n",
    "ls -alh ~"
   ]
  },
  {
   "cell_type": "markdown",
   "metadata": {
    "slideshow": {
     "slide_type": "subslide"
    }
   },
   "source": [
    "note that almost all of the items in the `/` directory had the phrase \"`root root`\" in the lines describing the files, and the files in this directory instead have `ubuntu ubuntu`.\n",
    "\n",
    "what do you think is going on there?"
   ]
  },
  {
   "cell_type": "markdown",
   "metadata": {
    "slideshow": {
     "slide_type": "fragment"
    }
   },
   "source": [
    "those two words are the `owner` and `group` of the file. They don't have to be the same and they can change. we'll cover permissions and permissions structure in just a second."
   ]
  },
  {
   "cell_type": "markdown",
   "metadata": {
    "slideshow": {
     "slide_type": "subslide"
    }
   },
   "source": [
    "among those files, there are a few worth pointing out right away -- the ones beginning with the phrase `.bash`. let's list them in our terminal, utilizing a glob (note the `*` character):\n",
    "\n",
    "```bash\n",
    "ls -alh ~/.bash*\n",
    "```\n",
    "\n",
    "this should match every file in our home directory `~` that starts with a `.bash` and ends with any number of characters of any kind"
   ]
  },
  {
   "cell_type": "code",
   "execution_count": null,
   "metadata": {},
   "outputs": [],
   "source": [
    "%%bash\n",
    "ls -alh ~/.bash*"
   ]
  },
  {
   "cell_type": "markdown",
   "metadata": {
    "slideshow": {
     "slide_type": "subslide"
    }
   },
   "source": [
    "these files all configure how [*bash*](https://en.wikipedia.org/wiki/Bash_%28Unix_shell%29) (Bourne-again shell) operates, and are responsible for a lot of the ways you interact with the terminal.\n",
    "\n",
    "within the main file (`.bashrc`) we can set our own environment variable, change program configurations, change the color and wording in our command prompts, and much more.\n",
    "\n",
    "*note: the \"`xxxxxx rc `\" naming convention is fairly ubiquitous in the linux world. it stands for \"run control\" for archaic reasons, but generally speaking it means \"the configuration for '`xxxxxx`'\"*\n",
    "\n",
    "speaking of environment variables..."
   ]
  },
  {
   "cell_type": "markdown",
   "metadata": {
    "slideshow": {
     "slide_type": "slide"
    }
   },
   "source": [
    "## `bash` and environment variables"
   ]
  },
  {
   "cell_type": "markdown",
   "metadata": {
    "slideshow": {
     "slide_type": "subslide"
    }
   },
   "source": [
    "the commands you are executing in your terminal are a disparate set of decades-old `C` and `python` scripts. The process which exposes them to you as commands you can type is a *shell*, and there are different implementations of shells. The most common -- and the default in ubuntu (and therefore the one on your ec2 instances) -- is one called the \"Bourne-again shell\", or `bash`. `bash` acts as a powerful wrapper around another built in process in the linux world which is just called `shell`, or `sh` for short.\n",
    "\n",
    "Aside from being a way of interactively executing commands, `bash` is also a scripting language -- you can save a sequence of commands you enter in your terminal for repeat use -- this basically how batch processing works in the linux world.\n",
    "\n",
    "again, entire text books have been written about just `bash` and `bash` scripting; we don't have the time to cover it all in this course. For now, just the basics."
   ]
  },
  {
   "cell_type": "markdown",
   "metadata": {
    "slideshow": {
     "slide_type": "subslide"
    }
   },
   "source": [
    "### environment variables"
   ]
  },
  {
   "cell_type": "markdown",
   "metadata": {
    "slideshow": {
     "slide_type": "subslide"
    }
   },
   "source": [
    "Just like `python` or `R`, shell sessions have a concept of variables. They are strings following a dollar sign:\n",
    "\n",
    "```bash\n",
    "$VARIABLE_NAME\n",
    "```\n",
    "\n",
    "and usually come in that all-caps snake case.\n",
    "\n",
    "a lot of environment variables are already set -- look at the following, for example:\n",
    "\n",
    "```bash\n",
    "echo $USER\n",
    "echo $HOME\n",
    "echo $PWD\n",
    "```"
   ]
  },
  {
   "cell_type": "code",
   "execution_count": null,
   "metadata": {},
   "outputs": [],
   "source": [
    "%%bash\n",
    "echo $USER\n",
    "echo $HOME\n",
    "echo $PWD"
   ]
  },
  {
   "cell_type": "markdown",
   "metadata": {},
   "source": [
    "those are your user name, your home directory, and directory you are currently \"in\" (`pwd` is short for Print Work Directory)."
   ]
  },
  {
   "cell_type": "markdown",
   "metadata": {
    "slideshow": {
     "slide_type": "subslide"
    }
   },
   "source": [
    "many of these variables were set on a system level (in the aforementioned `/etc` files), and each user's `.bashrc` gives them the ability to make updates as desired.\n",
    "\n",
    "Let's check out what variables already exist without us making changes via our `.bashrc` files. we can do this with the `env` (environment) command:\n",
    "\n",
    "```bash\n",
    "env\n",
    "```"
   ]
  },
  {
   "cell_type": "code",
   "execution_count": null,
   "metadata": {
    "scrolled": true,
    "slideshow": {
     "slide_type": "-"
    }
   },
   "outputs": [],
   "source": [
    "%%bash\n",
    "env"
   ]
  },
  {
   "cell_type": "markdown",
   "metadata": {
    "slideshow": {
     "slide_type": "subslide"
    }
   },
   "source": [
    "That's a lot!\n",
    "\n",
    "note that `USER`, `HOME`, and `PWD` all exist in that list, along with many more."
   ]
  },
  {
   "cell_type": "markdown",
   "metadata": {
    "slideshow": {
     "slide_type": "subslide"
    }
   },
   "source": [
    "At the moment, I'll only point out one other important variable, because it comes up all the time: the `PATH` variable.\n",
    "\n",
    "```bash\n",
    "echo $PATH\n",
    "```"
   ]
  },
  {
   "cell_type": "code",
   "execution_count": null,
   "metadata": {},
   "outputs": [],
   "source": [
    "%%bash\n",
    "echo $PATH"
   ]
  },
  {
   "cell_type": "markdown",
   "metadata": {
    "slideshow": {
     "slide_type": "subslide"
    }
   },
   "source": [
    "the `PATH` variable is a `:`-separated list of directories in which the shell process should look for anything.\n",
    "\n",
    "suppose you just installed an awesome program called `l33tmode` and you want to run it from the command line. when you type in `l33tmode`, the bash process will check those paths one at a time to see if `l33tmode` is within any of them. If it finds `l33tmode` once, it will execute it. If it makes it through every directory and finds nothing, it will return an error"
   ]
  },
  {
   "cell_type": "code",
   "execution_count": null,
   "metadata": {},
   "outputs": [],
   "source": [
    "%%bash\n",
    "command_that_doesnt_exist"
   ]
  },
  {
   "cell_type": "markdown",
   "metadata": {
    "slideshow": {
     "slide_type": "subslide"
    }
   },
   "source": [
    "**why bring this up?**\n",
    "\n",
    "whether or not a given thing is found in a directory in your path is often a primary cause of unexpected problems. it's also something that you often find yourself updating based on trouble-shooting or installation instructions, so you it's good to know what it's there for.\n",
    "\n",
    "For example, if you installed a program you want to use in `/opt`, for example -- that may have been a good idea, but without adding `/opt` to your path, you will need to be explicit when calling that command -- `/opt/zachs_super_programs/l33tmode`, for example."
   ]
  },
  {
   "cell_type": "markdown",
   "metadata": {
    "slideshow": {
     "slide_type": "subslide"
    }
   },
   "source": [
    "### `.bashrc`\n",
    "\n",
    "as I mentioned above, `bash` has a primary configuration file for each user located at `~/.bashrc`. \n",
    "\n",
    "let's look at the contents of that file using the `cat` (concatenate) command \n",
    "\n",
    "```bash\n",
    "cat ~/.bashrc\n",
    "```"
   ]
  },
  {
   "cell_type": "code",
   "execution_count": null,
   "metadata": {},
   "outputs": [],
   "source": [
    "%%bash\n",
    "cat ~/.bashrc"
   ]
  },
  {
   "cell_type": "markdown",
   "metadata": {
    "slideshow": {
     "slide_type": "subslide"
    }
   },
   "source": [
    "**diversion**: \n",
    "\n",
    "why did we `cat` this time and `echo` before?\n",
    "\n",
    "what's different about the two programs?"
   ]
  },
  {
   "cell_type": "markdown",
   "metadata": {
    "slideshow": {
     "slide_type": "fragment"
    }
   },
   "source": [
    "+ `echo` will print exactly what is passed (after resolving variables) back to the screen\n",
    "    + we used it above to *resolve* the variable `~` and then print it so we could read the result\n",
    "    + if we attempted to `echo` that file, it would literally echo us -- it would take that file name and print it to screen. try it\n",
    "+ `cat` is expecting a file, and it will open that file and print the contents\n",
    "\n",
    "```bash\n",
    "echo ~/.bashrc\n",
    "```"
   ]
  },
  {
   "cell_type": "code",
   "execution_count": null,
   "metadata": {},
   "outputs": [],
   "source": [
    "%%bash\n",
    "echo ~/.bashrc"
   ]
  },
  {
   "cell_type": "markdown",
   "metadata": {
    "slideshow": {
     "slide_type": "subslide"
    }
   },
   "source": [
    "Many things are done in `.bashrc` files, but three are most common:\n",
    "\n",
    "1. run a command every time we start a command line session\n",
    "    1. example: `source activate my_conda_environment`\n",
    "2. update or set our own variables\n",
    "    1. example: `export ENV=DEV`\n",
    "3. create aliases\n",
    "    1. example: `alias l33t=my_complicated --expression -t hat -i am --tired oftyping`\n",
    "    2. an alias is a shortcut for a larger command or sequence of commands\n",
    "    3. technically, this is just a type of the first element"
   ]
  },
  {
   "cell_type": "markdown",
   "metadata": {
    "slideshow": {
     "slide_type": "subslide"
    }
   },
   "source": [
    "let's focus on piece 3 -- creating an alias. Note that we've typed the same thing many times above:\n",
    "\n",
    "```bash\n",
    "ls -alh /some/path\n",
    "```\n",
    "\n",
    "it would be convenient if we didn't have to type that all the time -- maybe we should make an alias? Try\n",
    "\n",
    "```bash\n",
    "ll ~\n",
    "```"
   ]
  },
  {
   "cell_type": "code",
   "execution_count": null,
   "metadata": {},
   "outputs": [],
   "source": [
    "%%bash\n",
    "ll ~/"
   ]
  },
  {
   "cell_type": "markdown",
   "metadata": {
    "slideshow": {
     "slide_type": "subslide"
    }
   },
   "source": [
    "on your ec2 system, that should have worked -- some one already put that alias in your `.bashrc` (that some one is the AMI creator).\n",
    "\n",
    "This command -- and others you will get used to, over time -- are not pre-configured on every machine. Eventually you'll get to a machine where you don't have the `ll` command, and you'll have to remember to create the alias and where you save aliases.\n",
    "\n",
    "here's [a list of awesome aliases](https://www.cyberciti.biz/tips/bash-aliases-mac-centos-linux-unix.html). don't add them yet -- learning the commands the \"long\" way is useful itself, and gives you the appreciation of the reasons for these shorthands."
   ]
  },
  {
   "cell_type": "markdown",
   "metadata": {
    "slideshow": {
     "slide_type": "subslide"
    }
   },
   "source": [
    "### keeping things separate\n",
    "\n",
    "perhaps at this point you may have an appreciation for an off-hand comment back in the \"file structure and organization\" segment: the files in `/home` are seperated from the rest for a specific reason. As time goes on, you will tweak and update your `.bashrc` file to get your bash session *juuuuust* the way you want it. You'll do this for many other files too, and those tweaks and updates will live in your `~` directory.\n",
    "\n",
    "when the sysad wants to do something reckless (like update the OS without a UAT phase, for example), it will be good to have all the files that define *your* experience living in a place that isn't disrupted by this.\n",
    "\n",
    "it's also easier, when migrating, to just zip up the contents of your home directory and move them to your new computer. Anyone who has ever bought a new windows desktop knows the dance of keeping the old computer around long enough to be sure you haven't missed any super important files while copying over -- well, in the linux world that is a problem that is solved via discipline and the `/home` directory"
   ]
  },
  {
   "cell_type": "markdown",
   "metadata": {
    "slideshow": {
     "slide_type": "slide"
    }
   },
   "source": [
    "## permissions"
   ]
  },
  {
   "cell_type": "markdown",
   "metadata": {
    "slideshow": {
     "slide_type": "subslide"
    }
   },
   "source": [
    "Let's dig in to the printout information that we see every time we run the `ll -h` command:\n",
    "\n",
    "```\n",
    "drwxr-xr-x 4 ubuntu ubuntu 4.0K Aug 23 02:58 ./\n",
    "drwxr-xr-x 3 root   root   4.0K Aug 23 02:55 ../\n",
    "-rw-r--r-- 1 ubuntu ubuntu  220 Aug 31  2015 .bash_logout\n",
    "-rw-r--r-- 1 ubuntu ubuntu 3.7K Aug 31  2015 .bashrc\n",
    "drwx------ 2 ubuntu ubuntu 4.0K Aug 23 02:58 .cache/\n",
    "-rw-r--r-- 1 ubuntu ubuntu  655 May 16 12:49 .profile\n",
    "drwx------ 2 ubuntu ubuntu 4.0K Aug 23 02:55 .ssh/\n",
    "```"
   ]
  },
  {
   "cell_type": "markdown",
   "metadata": {
    "slideshow": {
     "slide_type": "subslide"
    }
   },
   "source": [
    "each of the above lines comes with 7 elements:\n",
    "\n",
    "```\n",
    "-rw-r--r-- 1 ubuntu ubuntu 3.7k Aug 31  2015 .bashrc\n",
    "```\n",
    "\n",
    "1. the permission bits\n",
    "    1. a 10-character string with characters d, r, w, x, and -\n",
    "2. the number of \"links\"\n",
    "    1. for directories, the number of sub-directories including `.` and `..`\n",
    "    2. for files, 1\n",
    "3. the owner name\n",
    "    1. a user name (`ubuntu` or `root`, here)\n",
    "4. the owner group\n",
    "    1. a group name (`ubuntu` or `root`, here)\n",
    "5. the file size\n",
    "    1. the flag `-h` writes them as **h**uman readable\n",
    "6. a timestamp\n",
    "    1. when the file was last touched\n",
    "7. the file or directory name\n",
    "\n",
    "we're going to focus on the permission items -- 1, 3, and 4"
   ]
  },
  {
   "cell_type": "markdown",
   "metadata": {
    "slideshow": {
     "slide_type": "subslide"
    }
   },
   "source": [
    "### permissions: user and group"
   ]
  },
  {
   "cell_type": "markdown",
   "metadata": {
    "slideshow": {
     "slide_type": "subslide"
    }
   },
   "source": [
    "the first thing to know is that the linux world considers three levels of permissions for every file on the system\n",
    "\n",
    "1. user\n",
    "2. group\n",
    "3. global\n",
    "\n",
    "every file has permissions that apply to the user that owns it, the group that owns it, and then everyone who does not fall into those first two buckets."
   ]
  },
  {
   "cell_type": "markdown",
   "metadata": {
    "slideshow": {
     "slide_type": "subslide"
    }
   },
   "source": [
    "right now, your user is `ubuntu`. You could find this with either of the two following commands:\n",
    "\n",
    "```bash\n",
    "whoami\n",
    "```\n",
    "\n",
    "or\n",
    "\n",
    "```bash\n",
    "echo $USER\n",
    "```"
   ]
  },
  {
   "cell_type": "code",
   "execution_count": null,
   "metadata": {},
   "outputs": [],
   "source": [
    "%%bash\n",
    "whoami"
   ]
  },
  {
   "cell_type": "code",
   "execution_count": null,
   "metadata": {},
   "outputs": [],
   "source": [
    "%%bash\n",
    "echo $USER"
   ]
  },
  {
   "cell_type": "markdown",
   "metadata": {
    "slideshow": {
     "slide_type": "subslide"
    }
   },
   "source": [
    "each user is also a member of some number of groups (a \"group\" is a collection of users or other groups). By default, every user in the ubuntu OS is put into a group with the same name as the user name, but you may be in many more\n",
    "\n",
    "to check the groups your user is in:\n",
    "\n",
    "```bash\n",
    "groups\n",
    "```"
   ]
  },
  {
   "cell_type": "code",
   "execution_count": null,
   "metadata": {},
   "outputs": [],
   "source": [
    "%%bash\n",
    "groups"
   ]
  },
  {
   "cell_type": "markdown",
   "metadata": {
    "slideshow": {
     "slide_type": "subslide"
    }
   },
   "source": [
    "so, returning for a moment to our home directory:\n",
    "\n",
    "```\n",
    "drwxr-xr-x 4 ubuntu ubuntu 4.0K Aug 23 02:58 ./\n",
    "drwxr-xr-x 3 root   root   4.0K Aug 23 02:55 ../\n",
    "-rw-r--r-- 1 ubuntu ubuntu  220 Aug 31  2015 .bash_logout\n",
    "-rw-r--r-- 1 ubuntu ubuntu 3.7K Aug 31  2015 .bashrc\n",
    "drwx------ 2 ubuntu ubuntu 4.0K Aug 23 02:58 .cache/\n",
    "-rw-r--r-- 1 ubuntu ubuntu  655 May 16 12:49 .profile\n",
    "drwx------ 2 ubuntu ubuntu 4.0K Aug 23 02:55 .ssh/\n",
    "```\n",
    "\n",
    "we see that the parent directory (`..`) is owned by user `root` and group `root`, but every other item is owned by us (user `ubuntu` and group `ubuntu`)"
   ]
  },
  {
   "cell_type": "markdown",
   "metadata": {
    "slideshow": {
     "slide_type": "subslide"
    }
   },
   "source": [
    "how does that compare to the root directory? \n",
    "\n",
    "to `/var/log`?\n",
    "\n",
    "*what is the command for displaying these directories, and who are the users and groups which owns those files?*"
   ]
  },
  {
   "cell_type": "markdown",
   "metadata": {
    "slideshow": {
     "slide_type": "subslide"
    }
   },
   "source": [
    "#### changing user or group ownership\n",
    "\n",
    "**if** you are the user which owns the file, you can change the user or the group\n",
    "\n",
    "**if** you are a member of the group which owns the file, you can change the group.\n",
    "\n",
    "\n",
    "the command to change the owner is `chown`\n",
    "\n",
    "the command to change the group is `chgrp`"
   ]
  },
  {
   "cell_type": "markdown",
   "metadata": {
    "slideshow": {
     "slide_type": "subslide"
    }
   },
   "source": [
    "### permissions: mode bit string"
   ]
  },
  {
   "cell_type": "markdown",
   "metadata": {
    "slideshow": {
     "slide_type": "subslide"
    }
   },
   "source": [
    "the real secret sauce of linux permissioning is these leading ten characters, and learning to read them and modify them is a huge win.\n",
    "\n",
    "the very first character is either a `d` (for \"directory\"), or a `-` (not a directory).\n",
    "\n",
    "the remaining 9 charaters are actually 3 groups of 3 characters."
   ]
  },
  {
   "cell_type": "markdown",
   "metadata": {
    "slideshow": {
     "slide_type": "fragment"
    }
   },
   "source": [
    "the first group of 3 characters is for the **user** which owns the file\n",
    "\n",
    "the second group of 3 characters is for the **group** which owns the file\n",
    "\n",
    "the final group of 3 characters if for **everyone else**"
   ]
  },
  {
   "cell_type": "markdown",
   "metadata": {
    "slideshow": {
     "slide_type": "subslide"
    }
   },
   "source": [
    "each group of 3 characters lays out the privelege level of the user, group, or system:\n",
    "\n",
    "1. a `r` (for \"read\") or a `-`\n",
    "2. a `w` (for \"write\") or a `-`\n",
    "3. a `x` (for \"execute\") or a `-`\n",
    "\n",
    "\"execute\" means you the file is something which can be run (if the system knows how), or is a directory users can open."
   ]
  },
  {
   "cell_type": "markdown",
   "metadata": {},
   "source": [
    "again, returning to the `ll -h` results:\n",
    "\n",
    "```\n",
    "drwxr-xr-x 4 ubuntu ubuntu 4.0K Aug 23 02:58 ./\n",
    "drwxr-xr-x 3 root   root   4.0K Aug 23 02:55 ../\n",
    "-rw-r--r-- 1 ubuntu ubuntu  220 Aug 31  2015 .bash_logout\n",
    "-rw-r--r-- 1 ubuntu ubuntu 3.7K Aug 31  2015 .bashrc\n",
    "drwx------ 2 ubuntu ubuntu 4.0K Aug 23 02:58 .cache/\n",
    "-rw-r--r-- 1 ubuntu ubuntu  655 May 16 12:49 .profile\n",
    "drwx------ 2 ubuntu ubuntu 4.0K Aug 23 02:55 .ssh/\n",
    "```\n",
    "\n",
    "what are the permissions on `.bashrc`?"
   ]
  },
  {
   "cell_type": "markdown",
   "metadata": {
    "slideshow": {
     "slide_type": "fragment"
    }
   },
   "source": [
    "what are the permissions on `.ssh`?"
   ]
  },
  {
   "cell_type": "markdown",
   "metadata": {
    "slideshow": {
     "slide_type": "fragment"
    }
   },
   "source": [
    "why might the permissions between the two be different?"
   ]
  },
  {
   "cell_type": "markdown",
   "metadata": {
    "slideshow": {
     "slide_type": "subslide"
    }
   },
   "source": [
    "#### bit representation\n",
    "\n",
    "there is a common shorthand for discussing those 9 permission characters as a set of 3 digits. the rule is as follows:\n",
    "\n",
    "+ start with a value of 0\n",
    "+ if the `x` flag is set, add 1 ($2^0$)\n",
    "+ if the `w` flag is set, add 2 ($2^1$)\n",
    "+ if the `r` flag is set, add 4 ($2^2$)\n",
    "\n",
    "this guarantees a unique permission number for every one of the 8 possible permission combinations:\n",
    "\n",
    "| permission string | value |\n",
    "|-------------------|-------|\n",
    "| `---` | 0 |\n",
    "| `--x` | 1 |\n",
    "| `-w-` | 2 |\n",
    "| `-wx` | 3 |\n",
    "| `r--` | 4 |\n",
    "| `r-x` | 5 |\n",
    "| `rw-` | 6 |\n",
    "| `rwx` | 7 |\n",
    "\n",
    "Because of this, a sequence of 9 characters is often discussed as 3 numbers:\n",
    "\n",
    "+ `rwxrwxrwx` is 777\n",
    "+ `rw-r-----` is 640"
   ]
  },
  {
   "cell_type": "markdown",
   "metadata": {
    "slideshow": {
     "slide_type": "subslide"
    }
   },
   "source": [
    "#### changing permission mode string\n",
    "\n",
    "the command to change the permission mode string is `chmod`, and it works in both the chracter representation and the bit representation\n",
    "\n",
    "to update the permission mode string using the character representation, you ask the following:\n",
    "\n",
    "+ am I changing permissions for the\n",
    "    + `u`: user\n",
    "    + `g`: group\n",
    "    + `a`: all others\n",
    "+ am I\n",
    "    + `+`: adding permission\n",
    "    + `-`: revoking permission\n",
    "+ is the permission\n",
    "    + `r`: read\n",
    "    + `w`: write\n",
    "    + `x`: execute\n",
    "    \n",
    "given the above answers, you concatenate them. To give (`+`) all users (`a`) read permission (`r`) you would run\n",
    "\n",
    "```bash\n",
    "chmod a+r /my/file\n",
    "```"
   ]
  },
  {
   "cell_type": "markdown",
   "metadata": {
    "slideshow": {
     "slide_type": "subslide"
    }
   },
   "source": [
    "to update the permission mode string using the numeric representation, you simply calculate the exact permission string you wish to have as a number and assign it.\n",
    "\n",
    "for example, to give users and groups complete control over a file, but completely restrict the outside world, you would apply\n",
    "\n",
    "```bash\n",
    "chmod 770 /my/file\n",
    "```\n",
    "\n",
    "for your `ssh` key, you probably had to make the permissions more restrictive -- this is to make sure that you and only you can edit them. To do this, we would make the file readable by us and remove all permissions from group owners and everyone else:\n",
    "\n",
    "```bash\n",
    "chmod 400 ~/.ssh/my_aws_private_key.pem\n",
    "```"
   ]
  },
  {
   "cell_type": "markdown",
   "metadata": {
    "slideshow": {
     "slide_type": "subslide"
    }
   },
   "source": [
    "changing file permissions is a bit of a black art at first. You'll open the same webpages for the same tutorials every time. You'll learn that there are special characters beyond `rwx` and they do wild and mysterious things.\n",
    "\n",
    "Eventually, you'll get the hang of it!\n",
    "\n",
    "at the very least, you should know how to read these permission strings. They will explain so many of the errors you encounter."
   ]
  },
  {
   "cell_type": "markdown",
   "metadata": {
    "slideshow": {
     "slide_type": "slide"
    }
   },
   "source": [
    "## super user, *aka* [`sudo`](https://xkcd.com/149/)"
   ]
  },
  {
   "cell_type": "markdown",
   "metadata": {
    "slideshow": {
     "slide_type": "subslide"
    }
   },
   "source": [
    "there is one major exception to the rules listed above: the super user.\n",
    "\n",
    "linux has a concept called \"super user\" which is, as the name implies, pretty super. this user can be thought of as the adminstrator account on the linux machine, and as administrator it owns many of the most important configuration files and runs most of the essential processes.\n",
    "\n",
    "Anything that the super user does is protected by the permission structure -- only the super user may change the files or alter the processes run by the super user.\n",
    "\n",
    "the super user is often colloquially and sometimes literally called `root` (literally on ubuntu -- you will notice that a user named `root` owns and runs most things)."
   ]
  },
  {
   "cell_type": "markdown",
   "metadata": {
    "slideshow": {
     "slide_type": "subslide"
    }
   },
   "source": [
    "this all begs the question: when I want to break everything, how do I do it? if this super user has been put in place to properlyconfigure everything on my machine and keep things running smoothly, how am I expected to make a mess of it?\n",
    "\n",
    "linux developers thought of this, too, and have constructed a system whereby non-`root` users can be given root permissions in some or all cases.\n",
    "\n",
    "on your ec2 instance, user `ubuntu` has already been granted most sudo priveleges. in the real world, the sysad will make this decision. If a sysad *doesn't* give you sudo priveleges, know that while that is annoying that is *actually a very good sign* -- that sysad has standards and control policies in place and there is likely a centralized way of doing things.\n",
    "\n",
    "*weeds note: granting sudo permission is done by adding users to a \"sudoers\" file, where you can configure the level and types of access granted to each user on the machine. it can be configured down to the command level*"
   ]
  },
  {
   "cell_type": "markdown",
   "metadata": {
    "slideshow": {
     "slide_type": "subslide"
    }
   },
   "source": [
    "you *use* your sudo priveleges by \"becoming\" the super user. you can do this in two ways:\n",
    "\n",
    "1. `sudo su`\n",
    "    1. this will have you \"log in\" and create a new shell in which you are acting in all way as the super user.\n",
    "    2. every command you type after this until you `exit` will be performed as the root user\n",
    "    3. **BE CAREFUL!**\n",
    "    4. probably don't\n",
    "2. `sudo [type my command here]`\n",
    "    1. this will momentarily log you in as the root user and execute the provided command, then log you out\n",
    "    2. **STILL BE CAREFUL!**\n",
    "    3. still probably don't\n",
    "    \n",
    "note: `sudo su` is technically just a special instance of `sudo [type my command here]` where the command is `su`."
   ]
  },
  {
   "cell_type": "markdown",
   "metadata": {
    "slideshow": {
     "slide_type": "slide"
    }
   },
   "source": [
    "## philosophy"
   ]
  },
  {
   "cell_type": "markdown",
   "metadata": {
    "slideshow": {
     "slide_type": "subslide"
    }
   },
   "source": [
    "there is a much ballyhooed [list of linux and unix philosophies](https://en.wikipedia.org/wiki/Unix_philosophy#Mike_Gancarz:_The_UNIX_Philosophy):\n",
    "\n",
    "1. small is beautiful\n",
    "2. do one thing and do it well (DOTADIW)\n",
    "3. build a prototype as soon as possible\n",
    "4. choose portability over efficiency\n",
    "5. store data in flat text files\n",
    "6. use software leverage to your advantage\n",
    "7. use shell scripts to increase leverage and portability\n",
    "8. avoid captive user interfaces\n",
    "9. make every program a filter\n",
    "\n",
    "most of these are guidelines on how to *develop* linux, but there are important lessons in here about how you are intended to *use* linux."
   ]
  },
  {
   "cell_type": "markdown",
   "metadata": {
    "slideshow": {
     "slide_type": "subslide"
    }
   },
   "source": [
    "##### do one thing and do it well (DOTADIW)\n",
    "\n",
    "this is the most commonly cited linux philosophy, and is pretty central to the identity. I'd note that this is the opposite of many windows or mac world solutions, which attempt to act as swiss army knives across multiple domains.\n",
    "\n",
    "as such, you should be wary of commands which purport the ability to do many things. though they may fail to live up to their promise, that is not the reason: the real reason to avoid such tools is that the community at large is likely to reject them, and support for them may not extend past the first developer. if that developer becomes distracted or disinterested, they may become *abandonware*\n",
    "\n",
    "this is not a problem all that often, but something worth knowing ahead of time."
   ]
  },
  {
   "cell_type": "markdown",
   "metadata": {
    "slideshow": {
     "slide_type": "subslide"
    }
   },
   "source": [
    "##### store data in flat text files\n",
    "\n",
    "many of the linux and bash tools you will use are specifically optimized for reading and writing files. this is contrary to some data science and data engineering instincts, which favor databases or data lakes\n",
    "\n",
    "personally, I recommend the following approach: flat text files are the default; advanced storage methods are the exception. "
   ]
  },
  {
   "cell_type": "markdown",
   "metadata": {
    "slideshow": {
     "slide_type": "subslide"
    }
   },
   "source": [
    "##### avoid captive user interfaces\n",
    "\n",
    "this is related to a basic usability question: should running a program require active participation from a user?\n",
    "\n",
    "beginning programmers often rely on interactive prompts or hard-coded pieces of programs to set the variables and constants which configure how your program will be processed. *both* of these approaches cause a user to \"interact\" with the codebase in order to run a specific instance of a program.\n",
    "\n",
    "for example, whend eveloping a data engineering pipeline, you may be inspired to program the number of folds in your cross-validation. you probably know that it's going to be annoying to have to type that number in every time you run."
   ]
  },
  {
   "cell_type": "markdown",
   "metadata": {
    "slideshow": {
     "slide_type": "fragment"
    }
   },
   "source": [
    "why is hard-coding the number better?\n",
    "\n",
    "why is it worse?"
   ]
  },
  {
   "cell_type": "markdown",
   "metadata": {
    "slideshow": {
     "slide_type": "fragment"
    }
   },
   "source": [
    "what is another option?"
   ]
  },
  {
   "cell_type": "markdown",
   "metadata": {
    "slideshow": {
     "slide_type": "subslide"
    }
   },
   "source": [
    "put these possibly changeable parameters and constants into *configuration* files, and build a program which knows how to *read* configuration files.\n",
    "\n",
    "this has several benefits:\n",
    "\n",
    "1. the user doesn't change the code *in any way* to run a particular version of the process\n",
    "2. the configuration files can be version controlled separately\n",
    "3. the configuration files can stand in as a strucutred representation of the particular modelling process"
   ]
  },
  {
   "cell_type": "markdown",
   "metadata": {
    "slideshow": {
     "slide_type": "subslide"
    }
   },
   "source": [
    "on the configuration points above: when you start to have several feature selection options, several modelling approaches, several evaluation criteria, several test/train split methods.... you see how it might be nice to have a compact representation of those options. for example:\n",
    "\n",
    "```python\n",
    "# file: my_fav_params.conf\n",
    "myparams = {\n",
    "    'featureselectors': ['boruta', 'lasso'],\n",
    "    'bootstrap': True,\n",
    "    'models': ['neuralnet', 'lasso', 'adaboost'],\n",
    "}\n",
    "\n",
    "clientparams = {\n",
    "    'featureselectors': ['identity'],\n",
    "    'bootstrap': False,\n",
    "    'models': ['linear_regression'],\n",
    "}\n",
    "```"
   ]
  },
  {
   "cell_type": "markdown",
   "metadata": {
    "slideshow": {
     "slide_type": "subslide"
    }
   },
   "source": [
    "##### make every program a filter\n",
    "\n",
    "most linux programs are designed to take in lines of text, perform some calculation, and spit out lines of text. in modern data engineering parlance, linux programs are ETL processes where the extract and load steps are both normalizing results to sequences of text lines. these sequences of text lines are pulled from or put into buffer objects called `stdin` and `stdout` (respectively). if errors occur, they are put into a separate buffer called `stderr`\n",
    "\n",
    "the output of any command (`stdout`) is printed to the terminal by default. You may wish to save it to file instead -- you can change this output by routing it to a file with the `>` or `>>` characters. There are actually several options, and [this stack overflow answer](https://askubuntu.com/a/731237) lays them out well."
   ]
  },
  {
   "cell_type": "markdown",
   "metadata": {
    "slideshow": {
     "slide_type": "subslide"
    }
   },
   "source": [
    "one of the advantages of this ETL approach is the results of one program can be passed directly to another -- this is called \"piping\" in linux world, and the character which does the passing around of line is \"`|`\" (capital backslash on most keyboards). This character is often called \"pipe\" because of this.\n",
    "\n",
    "take, for example, the following command\n",
    "\n",
    "```bash\n",
    "who | awk '{print $1}' | sort | uniq\n",
    "```"
   ]
  },
  {
   "cell_type": "code",
   "execution_count": null,
   "metadata": {
    "slideshow": {
     "slide_type": "-"
    }
   },
   "outputs": [],
   "source": [
    "%%bash\n",
    "who | awk '{print $1}' | sort | uniq"
   ]
  },
  {
   "cell_type": "markdown",
   "metadata": {
    "slideshow": {
     "slide_type": "fragment"
    }
   },
   "source": [
    "what just happend?"
   ]
  },
  {
   "cell_type": "code",
   "execution_count": null,
   "metadata": {
    "slideshow": {
     "slide_type": "subslide"
    }
   },
   "outputs": [],
   "source": [
    "%%bash\n",
    "whatis who\n",
    "whatis awk\n",
    "whatis sort\n",
    "whatis uniq"
   ]
  },
  {
   "cell_type": "code",
   "execution_count": null,
   "metadata": {
    "slideshow": {
     "slide_type": "fragment"
    }
   },
   "outputs": [],
   "source": [
    "%%bash\n",
    "who"
   ]
  },
  {
   "cell_type": "code",
   "execution_count": null,
   "metadata": {
    "slideshow": {
     "slide_type": "fragment"
    }
   },
   "outputs": [],
   "source": [
    "%%bash\n",
    "who | awk '{print $1}'"
   ]
  },
  {
   "cell_type": "code",
   "execution_count": null,
   "metadata": {
    "slideshow": {
     "slide_type": "fragment"
    }
   },
   "outputs": [],
   "source": [
    "%%bash\n",
    "who | awk '{print $1}' | sort"
   ]
  },
  {
   "cell_type": "code",
   "execution_count": null,
   "metadata": {
    "slideshow": {
     "slide_type": "fragment"
    }
   },
   "outputs": [],
   "source": [
    "%%bash\n",
    "who | awk '{print $1}' | sort | uniq"
   ]
  },
  {
   "cell_type": "markdown",
   "metadata": {
    "slideshow": {
     "slide_type": "slide"
    }
   },
   "source": [
    "## common commands and tools\n",
    "\n",
    "finally -- let's get into the real crash course: the commands!"
   ]
  },
  {
   "cell_type": "markdown",
   "metadata": {
    "slideshow": {
     "slide_type": "slide"
    }
   },
   "source": [
    "### help and information\n",
    "\n",
    "there are a couple of built-in help and information facilities for every linux command. they mostly require knowing the name of a command first (an unavoidable problem, I think). I'll use `ls` as my test command, but the following should work for most linux commands."
   ]
  },
  {
   "cell_type": "markdown",
   "metadata": {
    "slideshow": {
     "slide_type": "subslide"
    }
   },
   "source": [
    "##### `man`\n",
    "\n",
    "the `man` command (short for \"manual\") is one of the least used but most useful linux commands. I expect that this is because of the way that the manual entry is opened -- let's talk about that in a second.\n",
    "\n",
    "`man` will open up a somewhat-standard-formatted manual document with the following information about any command\n",
    "\n",
    "1. name\n",
    "2. synopsis\n",
    "    1. a standard-format description of how to invoke the command\n",
    "    2. example: `ls [OPTION]... [FILE]...`\n",
    "    3. anything in `[]` characters is *optional*\n",
    "3. description\n",
    "    1. begins with a short paragraph explaining what the program does\n",
    "4. parameterization\n",
    "    1. lists all the flags (ways of passing in parameters)\n",
    "    2. may list configuration files\n",
    "    3. may list meaningful environment variables\n",
    "5. trailing information\n",
    "    + a collection of items such as author, copyright, licensing, and further information"
   ]
  },
  {
   "cell_type": "markdown",
   "metadata": {
    "slideshow": {
     "slide_type": "subslide"
    }
   },
   "source": [
    "let's look at an example:\n",
    "\n",
    "```bash\n",
    "man python\n",
    "```\n",
    "\n",
    "*note: exit this viewer by pressing the `q` key*"
   ]
  },
  {
   "cell_type": "code",
   "execution_count": null,
   "metadata": {},
   "outputs": [],
   "source": [
    "%%bash\n",
    "man python"
   ]
  },
  {
   "cell_type": "markdown",
   "metadata": {
    "slideshow": {
     "slide_type": "subslide"
    }
   },
   "source": [
    "### `-h` and `--help`\n",
    "\n",
    "#### an aside: command flags\n",
    "\n",
    "As I mentioned above, one of the primary ways of parameterizing linux programs is through a concept called a \"flag\". a flag is a string starting with a `-`. Generally, there are two types of flags:\n",
    "\n",
    "1. one dash followed by one character (`-h`)\n",
    "2. two dashes folled by a spaceless word (`--help`)\n",
    "\n",
    "usually they come in pairs where one is the full word and the other is the leading character.\n",
    "\n",
    "sometimes just the existence of a flag signals that some action should be taken. other times it is expected that a value will be provided after the flag as well, either following an `=` sign (`-f=myfval`) or separated by a space (`-f myfval`) -- the implementation here depends on the particular program."
   ]
  },
  {
   "cell_type": "markdown",
   "metadata": {
    "slideshow": {
     "slide_type": "subslide"
    }
   },
   "source": [
    "in practice, there are plenty of little nuances and tricks.\n",
    "\n",
    "For example, often times the single-letter flags can be put together. Supposing `-a`, `-b`, and `-c` were all valid flags, some programs will allow you to save time by writing `-abc` instead of `-a -b -c`. \n",
    "\n",
    "Convenient, but confusing.\n",
    "\n",
    "also, java makes everything different, because it's java. Java command line parameters are passed in as *single* dashes with *full word* strings.\n",
    "\n",
    "*generally speaking*, if you pass every flag as a separate string you won't go wrong. I prefer the full words for clarity's sake. Treat everything beyond that as an optimization -- pick it up when you need it, not now."
   ]
  },
  {
   "cell_type": "markdown",
   "metadata": {
    "slideshow": {
     "slide_type": "subslide"
    }
   },
   "source": [
    "### `-h` and `--help`\n",
    "\n",
    "back to the information commands: many commands implement a special flag: `-h` and `--help` which will print out a short description of the process and all the allowable command line flags:\n",
    "\n",
    "```bash\n",
    "python -h\n",
    "```"
   ]
  },
  {
   "cell_type": "code",
   "execution_count": null,
   "metadata": {},
   "outputs": [],
   "source": [
    "%%bash\n",
    "python -h"
   ]
  },
  {
   "cell_type": "markdown",
   "metadata": {
    "slideshow": {
     "slide_type": "subslide"
    }
   },
   "source": [
    "##### `which`\n",
    "\n",
    "the `which` command will tell you the full path of the program which will be executed by a single command, or will return that no such command exists. This becomes particularly useful when you have more than one installations of a program and confusion about which is being used (*c.f.* python distributions).\n",
    "\n",
    "```bash\n",
    "which python\n",
    "```"
   ]
  },
  {
   "cell_type": "code",
   "execution_count": null,
   "metadata": {},
   "outputs": [],
   "source": [
    "%%bash\n",
    "which python"
   ]
  },
  {
   "cell_type": "markdown",
   "metadata": {
    "slideshow": {
     "slide_type": "subslide"
    }
   },
   "source": [
    "##### `whatis`\n",
    "\n",
    "the `whatis` command provides a very short description of any command.\n",
    "\n",
    "```bash\n",
    "whatis python\n",
    "```"
   ]
  },
  {
   "cell_type": "code",
   "execution_count": null,
   "metadata": {},
   "outputs": [],
   "source": [
    "%%bash\n",
    "whatis python"
   ]
  },
  {
   "cell_type": "markdown",
   "metadata": {
    "slideshow": {
     "slide_type": "slide"
    }
   },
   "source": [
    "### navigation and file movement\n",
    "\n",
    "for most users, not having access to a point-and-click file explorer is the first major hurdle when getting used to linux. there are just a few commands needed to move around the file system and manipulate files, and learning them is critical"
   ]
  },
  {
   "cell_type": "markdown",
   "metadata": {
    "slideshow": {
     "slide_type": "subslide"
    }
   },
   "source": [
    "##### `pwd`\n",
    "\n",
    "the `pwd` (print work directory) will print to the screen the \"work\" directory -- the directory your session is \"in\". All of the commands you may wish to execute, and all paths that you might write will be judged *relative* to this path"
   ]
  },
  {
   "cell_type": "code",
   "execution_count": null,
   "metadata": {},
   "outputs": [],
   "source": [
    "%%bash\n",
    "pwd"
   ]
  },
  {
   "cell_type": "markdown",
   "metadata": {
    "slideshow": {
     "slide_type": "subslide"
    }
   },
   "source": [
    "##### `ls`\n",
    "\n",
    "we've already used this command many times, so you likely already know: to list the files in your current working directory you use the `ls` command.\n",
    "\n",
    "the default behavior of `ls` is to print only filenames in a tabular format:\n",
    "\n",
    "```bash\n",
    "ls ~\n",
    "```"
   ]
  },
  {
   "cell_type": "code",
   "execution_count": null,
   "metadata": {},
   "outputs": [],
   "source": [
    "%%bash\n",
    "ls ~"
   ]
  },
  {
   "cell_type": "markdown",
   "metadata": {
    "slideshow": {
     "slide_type": "subslide"
    }
   },
   "source": [
    "##### `ls` (cont.)\n",
    "\n",
    "the default behavior is useful in some instances (especially in scripting), but usually you want more information than just file names. Because of this, I usually invoke `ls` with at least three flags:\n",
    "\n",
    "1. `-a`: print all files, including hidden files\n",
    "2. `-l`: print the files in a detailed list format, not just names in a table\n",
    "3. `-h`: print file sizes in a human-readable format\n",
    "\n",
    "it is fairly typical for people to create the alias `ll = ls -alh`; in fact, this is a default alias on all ubuntu instances.\n",
    "\n",
    "```bash\n",
    "ll ~\n",
    "```"
   ]
  },
  {
   "cell_type": "code",
   "execution_count": null,
   "metadata": {},
   "outputs": [],
   "source": [
    "%%bash\n",
    "ls -alh ~"
   ]
  },
  {
   "cell_type": "markdown",
   "metadata": {
    "slideshow": {
     "slide_type": "subslide"
    }
   },
   "source": [
    "##### `cd`\n",
    "\n",
    "`cd` (short for *c*hange *d*irectory) will do just that -- change the directory you are in. You can pass in relative or absolute paths.\n",
    "\n",
    "passing no argument will change your working directory to your home directory."
   ]
  },
  {
   "cell_type": "code",
   "execution_count": null,
   "metadata": {},
   "outputs": [],
   "source": [
    "%%bash\n",
    "cd /tmp\n",
    "echo \"after 'cd /tmp'\"\n",
    "pwd\n",
    "\n",
    "cd\n",
    "echo \"after 'cd'\"\n",
    "pwd"
   ]
  },
  {
   "cell_type": "markdown",
   "metadata": {
    "slideshow": {
     "slide_type": "subslide"
    }
   },
   "source": [
    "##### `touch`\n",
    "\n",
    "this command will \"touch\" a file, which does two things:\n",
    "\n",
    "1. creates it if it doesn't exist\n",
    "2. updates the \"last updated\" timestamp of the file to be right now\n",
    "\n",
    "this command is mostly useful for creating empty files just to have a filename (when starting a git repo with an empty `README` file, or when you're writing a large tutorial of linux commands, for example).\n",
    "\n",
    "```bash\n",
    "touch ~/testfile\n",
    "ll ~/testfile\n",
    "```"
   ]
  },
  {
   "cell_type": "code",
   "execution_count": null,
   "metadata": {},
   "outputs": [],
   "source": [
    "%%bash\n",
    "touch ~/testfile\n",
    "ls -alh ~/testfile"
   ]
  },
  {
   "cell_type": "markdown",
   "metadata": {
    "slideshow": {
     "slide_type": "subslide"
    }
   },
   "source": [
    "##### `cp`\n",
    "\n",
    "copy a file from one path to another using `cp`\n",
    "\n",
    "```bash\n",
    "cp [file that exists] [file I want to exist]\n",
    "```"
   ]
  },
  {
   "cell_type": "code",
   "execution_count": null,
   "metadata": {},
   "outputs": [],
   "source": [
    "%%bash\n",
    "cp ~/testfile ~/testfile.bak\n",
    "ls -alh ~/testfile*"
   ]
  },
  {
   "cell_type": "markdown",
   "metadata": {
    "slideshow": {
     "slide_type": "subslide"
    }
   },
   "source": [
    "##### `rm`\n",
    "\n",
    "remove a file with `rm`\n",
    "\n",
    "```bash\n",
    "rm ~/testfile.bak\n",
    "```"
   ]
  },
  {
   "cell_type": "code",
   "execution_count": null,
   "metadata": {},
   "outputs": [],
   "source": [
    "%%bash\n",
    "ls -alh ~/testfile*\n",
    "rm ~/testfile.bak\n",
    "echo\n",
    "ls -alh ~/testfile*"
   ]
  },
  {
   "cell_type": "markdown",
   "metadata": {
    "slideshow": {
     "slide_type": "subslide"
    }
   },
   "source": [
    "##### `mv`\n",
    "\n",
    "move a file (literally: copy and then remove) a file with `mv`\n",
    "\n",
    "```bash\n",
    "mv [current file name] [new file name\n",
    "```"
   ]
  },
  {
   "cell_type": "code",
   "execution_count": null,
   "metadata": {},
   "outputs": [],
   "source": [
    "%%bash\n",
    "ls -alh ~/testfile*\n",
    "mv ~/testfile ~/testfile.newname\n",
    "echo\n",
    "ls -alh ~/testfile*"
   ]
  },
  {
   "cell_type": "markdown",
   "metadata": {
    "slideshow": {
     "slide_type": "subslide"
    }
   },
   "source": [
    "##### `ln`\n",
    "\n",
    "create a \"link\" (a shortcut) to a file or directory. Generally, you want to create \"symbolic\" links (flag `-s`).\n",
    "\n",
    "```bash\n",
    "ln -s [thing the shortcut points at] [shortcut name]\n",
    "```"
   ]
  },
  {
   "cell_type": "code",
   "execution_count": null,
   "metadata": {},
   "outputs": [],
   "source": [
    "%%bash\n",
    "ln -s /tmp ~/tmpshortcut\n",
    "ls -alh ~/tm*"
   ]
  },
  {
   "cell_type": "markdown",
   "metadata": {
    "slideshow": {
     "slide_type": "subslide"
    }
   },
   "source": [
    "##### `mkdir`\n",
    "\n",
    "make a new directory with `mkdir`. note: the `-p` (parents) flag will create all of the pieces of the path if they haven't been created before (good for creating folders several levels deep), and also will not throw an error if the directories already exist.\n",
    "\n",
    "```bash\n",
    "mkdir -p ~/code\n",
    "```"
   ]
  },
  {
   "cell_type": "code",
   "execution_count": null,
   "metadata": {},
   "outputs": [],
   "source": [
    "%%bash\n",
    "mkdir -p ~/code\n",
    "ls -alh ~"
   ]
  },
  {
   "cell_type": "markdown",
   "metadata": {
    "slideshow": {
     "slide_type": "slide"
    }
   },
   "source": [
    "### editing and viewing files\n",
    "\n",
    "no matter what your preference is for editor on your laptop, there will be times where you *must* use terminal editors -- and you should! `vim` and `emacs` are among the two most full-featured and best supported text editors ever made!\n",
    "\n",
    "There are about twelveteen million articles on which text editor is best. In particular, there is a [nerd culture war](https://en.wikipedia.org/wiki/Editor_war) between `vim` and `emacs` as best editor. I was raises in an `emacs` home. There are, presumably, people who like `nano`. there are pros and cons to all of them.\n",
    "\n",
    "[Just pick one and learn it!](https://xkcd.com/378/)"
   ]
  },
  {
   "cell_type": "markdown",
   "metadata": {
    "slideshow": {
     "slide_type": "subslide"
    }
   },
   "source": [
    "##### `vi` and `vim`\n",
    "\n",
    "this is the grand-mommy of 'em all. `vi` (for \"visual\") or `vim` (vi improved) is one of the virst ever terminal-based editors.\n",
    "\n",
    "The first thing to know about `vi` is that it is highly optimized for *performing editing actions* and not necessarily for *text entry*. The idea is that users will far wish to do things like cut, paste, delete characters or words, or move around documents just as often as they want to actually type out characters. Normally, the action of moving up several paragraphs, copying and pasting a word, and moving back to the bottom may take considerably longer than typing. This time debt is optimized away with an extensive list of single-character shortcuts."
   ]
  },
  {
   "cell_type": "markdown",
   "metadata": {
    "slideshow": {
     "slide_type": "subslide"
    }
   },
   "source": [
    "as a result, there are two *modes* within the `vi` editor, and you need to toggle between them to do different things:\n",
    "\n",
    "1. \"normal\" mode, where keystrokes are commands that *do* things, and\n",
    "2. \"insert\" mode, where keystrokes are literally printed to the document\n",
    "\n",
    "when you enter `vi` you are in the *normal* mode, so you can't just start typing without accidentally executing a million strange commands.\n",
    "\n",
    "to move from normal mode to insert mode, you need to type the `i` key. To move from the insert mode to the normal mode, you press the `ESC` key.\n",
    "\n",
    "most importantly, when you've landed in vi and just want to leave, [ask stack overflow how to exit `vi`](https://stackoverflow.blog/2017/05/23/stack-overflow-helping-one-million-developers-exit-vim/) and they will tell you:\n",
    "\n",
    "1. be in normal mode (so hammer `ESC` for a bit)\n",
    "2. press `:`\n",
    "3. then if you want to\n",
    "    1. save changes (write to file) and exit: `wq`\n",
    "    2. just quit: `q`\n",
    "    3. quit and discard changes: `q!`"
   ]
  },
  {
   "cell_type": "markdown",
   "metadata": {
    "slideshow": {
     "slide_type": "subslide"
    }
   },
   "source": [
    "<div align=\"center\">**open and exit vim**</div>"
   ]
  },
  {
   "cell_type": "markdown",
   "metadata": {
    "slideshow": {
     "slide_type": "subslide"
    }
   },
   "source": [
    "##### `emacs`\n",
    "\n",
    "`emacs` (short for *E*diting *MAC*ro*S*) is the primary competitor to `vim`. the best way to describe `emacs` is via a popular backhanded compliment:\n",
    "\n",
    "> `emacs` is a great operating system, lacking only a decent editor\n",
    "\n",
    "`emacs` itself is actually a shell for a particular programming language (`lisp`), and as such it can do arbitrarily complicated things. fortunately, there are armies of dedicated hobbyists to make these awful monstrocities:\n",
    "\n",
    "1. [open your ipython notebooks in emacs](https://github.com/millejoh/emacs-ipython-notebook)\n",
    "2. [use emacs to browse the web](https://www.emacswiki.org/emacs/eww)\n",
    "3. [play chess](https://github.com/jwiegley/emacs-chess)\n",
    "4. [put on a holiday fireplace](https://github.com/johanvts/emacs-fireplace/)\n",
    "5. [nyan cat mode](https://github.com/wasamasa/zone-nyan)\n",
    "6. [make sounds like a typewriter](https://github.com/rbanffy/selectric-mode)\n",
    "\n",
    "who even are these people? bless them."
   ]
  },
  {
   "cell_type": "markdown",
   "metadata": {
    "slideshow": {
     "slide_type": "subslide"
    }
   },
   "source": [
    "Of course, for every crazy, silly `emacs` package there are hundreds of useful ones. \n",
    "\n",
    "the process of editing becomes *much* more reliant on chains of keyboard shortcuts and modifier keys. are you aware that in addition to `alt` and `ctrl` there is a `hyper` key? just because no keyboard has it doesn't mean it doesn't exist -- you just have to *BELIEVE*!\n",
    "\n",
    "you will also (silently) activate context-dependent modes for different file types, which opens up different sets of commands that are specific to that context."
   ]
  },
  {
   "cell_type": "markdown",
   "metadata": {
    "slideshow": {
     "slide_type": "subslide"
    }
   },
   "source": [
    "generally speaking, though, you probably only *really* need to know a few things:\n",
    "\n",
    "1. open a file by pressing `ctrl + x` and then `ctrl + f`\n",
    "2. write changes to file by pressing `ctrl + x` and then `ctrl + w`\n",
    "3. exit by pressing `ctrl + x` and then `ctrl + c`"
   ]
  },
  {
   "cell_type": "markdown",
   "metadata": {
    "slideshow": {
     "slide_type": "subslide"
    }
   },
   "source": [
    "<div align=\"center\">**open and exit emacs**</div>"
   ]
  },
  {
   "cell_type": "markdown",
   "metadata": {
    "slideshow": {
     "slide_type": "fragment"
    }
   },
   "source": [
    "that's right -- it's usually not installed by default, because it's so much larger than `vim` or `nano`"
   ]
  },
  {
   "cell_type": "markdown",
   "metadata": {
    "slideshow": {
     "slide_type": "subslide"
    }
   },
   "source": [
    "##### `nano`\n",
    "\n",
    "`nano` is a great starter option for editors. It uses a small handful of `ctrl`- and `alt`-modified key sequences (like emacs), but is much more like a standard press-arrow-keys-and-type editor. Plus, the simple commands are listed at the bottom of the window at all times.\n",
    "\n",
    "+ the `^` character stands for the `ctrl` modifier, which is the `ctrl` key\n",
    "+ the `M` character stands for the `meta` modifier, which is the `alt` key or `esc` key (and often both)"
   ]
  },
  {
   "cell_type": "markdown",
   "metadata": {
    "slideshow": {
     "slide_type": "subslide"
    }
   },
   "source": [
    "<div align=\"center\">**open and exit nano**</div>"
   ]
  },
  {
   "cell_type": "markdown",
   "metadata": {
    "slideshow": {
     "slide_type": "subslide"
    }
   },
   "source": [
    "##### `less`\n",
    "\n",
    "the `less` command (a play on an older command called `more`, which displayed \"more\" of a file) is a file *viewer*, not an editor. there are [a couple of useful navigation commands](https://en.wikipedia.org/wiki/Less_(Unix)#Frequently_used_commands) you can use within the `less` program (mostly stolen from `vi`). The ones I end up using every time:\n",
    "\n",
    "+ quit: `q`\n",
    "+ search for text: `/`\n",
    "    + once matches have been found, cycle *foward* with: `n`\n",
    "    + cycle *backward* with: `N`\n",
    "+ page up: `u`\n",
    "+ page down: `d`\n",
    "\n",
    "```bash\n",
    "less ~/.bashrc\n",
    "```\n",
    "\n",
    "note: this doesn't require you to load the whole file, which may make it better for viewing large files than many other options (see `head` below, too)"
   ]
  },
  {
   "cell_type": "markdown",
   "metadata": {
    "slideshow": {
     "slide_type": "subslide"
    }
   },
   "source": [
    "##### `cat`\n",
    "\n",
    "`cat` (for concatenate) *prints* files to `stdout` (and thus the terminal). Because it prints the *entire* file, this will be probelmatic for long files. Personally, I never use `cat` -- I always use `less`. that's a matter of preference, though. `cat` often is useful in shell scripting\n",
    "\n",
    "```bash\n",
    "cat ~/.bashrc\n",
    "```"
   ]
  },
  {
   "cell_type": "code",
   "execution_count": null,
   "metadata": {},
   "outputs": [],
   "source": [
    "%%bash\n",
    "cat ~/.bashrc"
   ]
  },
  {
   "cell_type": "markdown",
   "metadata": {
    "slideshow": {
     "slide_type": "subslide"
    }
   },
   "source": [
    "##### `echo`\n",
    "\n",
    "`echo` will simply take whatever follows it on the line and print it to `stdout` (and therefore the terminal). This is *mostly* useful for resolving environment variables (as discussed above).\n",
    "\n",
    "```bash\n",
    "echo \"user = $USER\"\n",
    "```"
   ]
  },
  {
   "cell_type": "code",
   "execution_count": null,
   "metadata": {},
   "outputs": [],
   "source": [
    "%%bash\n",
    "echo \"user = $USER\""
   ]
  },
  {
   "cell_type": "markdown",
   "metadata": {
    "slideshow": {
     "slide_type": "subslide"
    }
   },
   "source": [
    "##### `head`\n",
    "\n",
    "the `head` command will display the first few lines (by default, 10) of a file (similar to head in the `R` or `python` dataframe contexts -- I wonder where they got the name...)\n",
    "\n",
    "the flag `-n` modifies the number of records printed.\n",
    "\n",
    "```bash\n",
    "head -n 20 ~/.bashrc\n",
    "```"
   ]
  },
  {
   "cell_type": "code",
   "execution_count": null,
   "metadata": {},
   "outputs": [],
   "source": [
    "%%bash\n",
    "head -n 20 ~/.bashrc"
   ]
  },
  {
   "cell_type": "markdown",
   "metadata": {
    "slideshow": {
     "slide_type": "subslide"
    }
   },
   "source": [
    "##### `tail`\n",
    "\n",
    "as the name implies, `tail` is the other half of `head` -- it prints the last few lines (default, 10) of a file.\n",
    "\n",
    "again, the flag `-n` modifies the number of records printed. \n",
    "\n",
    "`tail` also has the flag `-f` for *following* a file. this means that the last `N` rows are printed, but we stay in the viewer process and update live as new lines are written. this can be perfect for watching logs. press `ctrl + c` to quit the \"following\" process.\n",
    "\n",
    "```bash\n",
    "tail -n 20 ~/.bashrc\n",
    "```"
   ]
  },
  {
   "cell_type": "code",
   "execution_count": null,
   "metadata": {
    "slideshow": {
     "slide_type": "-"
    }
   },
   "outputs": [],
   "source": [
    "%%bash\n",
    "tail -n 20 ~/.bashrc"
   ]
  },
  {
   "cell_type": "markdown",
   "metadata": {
    "slideshow": {
     "slide_type": "slide"
    }
   },
   "source": [
    "### filesystem info\n",
    "\n",
    "you may have picked up on this by now, but the linux world is a bit more focused on files and the filesystem. Mac and Windows OS's abstract away a bit of this complexity from users, but linux does not.\n",
    "\n",
    "There are some commonly occurring commands which deal directly with the file system that you should know about."
   ]
  },
  {
   "cell_type": "markdown",
   "metadata": {
    "slideshow": {
     "slide_type": "subslide"
    }
   },
   "source": [
    "##### `file`\n",
    "\n",
    "this command can be used to figure out roughly what *type* of file a given file is. Under the hood, it is performing hundreds of different checks (mostly regular expressions) to see if there are any common sequences of characters, and making a best guess -- so this is by no means the final story.\n",
    "\n",
    "```bash\n",
    "file ~/.bashrc\n",
    "```"
   ]
  },
  {
   "cell_type": "code",
   "execution_count": null,
   "metadata": {},
   "outputs": [],
   "source": [
    "%%bash\n",
    "file ~/.bashrc"
   ]
  },
  {
   "cell_type": "markdown",
   "metadata": {
    "slideshow": {
     "slide_type": "subslide"
    }
   },
   "source": [
    "##### `df`\n",
    "\n",
    "the `df` command (for \"disk free\") lists the free (and used) space on all available mounted file systems (separate partitions, separated drives, system-use drives). my most common use case is just to see how much free space is available anywhere on the machine:\n",
    "\n",
    "```bash\n",
    "df -h\n",
    "```\n",
    "\n",
    "but sometimes you only care about the filesystem you are currently working in (usually `/`, but not always):\n",
    "\n",
    "```bash\n",
    "df -h .\n",
    "```"
   ]
  },
  {
   "cell_type": "code",
   "execution_count": null,
   "metadata": {},
   "outputs": [],
   "source": [
    "%%bash\n",
    "df -h"
   ]
  },
  {
   "cell_type": "markdown",
   "metadata": {
    "slideshow": {
     "slide_type": "subslide"
    }
   },
   "source": [
    "##### `du`\n",
    "\n",
    "the `du` command (short for \"Disk Usage\") lists out the total file size of every file under a provided directory. By default, it will list look at the current work directory.\n",
    "\n",
    "let's use this command as a means of exploring somethign we talked about above -- help flags.\n",
    "\n",
    "start by doing the simplest thing: execute `du` from your home directory.\n",
    "\n",
    "```bash\n",
    "du -ah ~\n",
    "```\n",
    "\n",
    "*note: the `a` and `h` flags are doing the same things here as they did for the `ls` command: including hidden files and printing file sizes with human readable units.*"
   ]
  },
  {
   "cell_type": "code",
   "execution_count": null,
   "metadata": {
    "collapsed": true
   },
   "outputs": [],
   "source": [
    "%%bash\n",
    "#du -ah ~"
   ]
  },
  {
   "cell_type": "markdown",
   "metadata": {
    "slideshow": {
     "slide_type": "subslide"
    }
   },
   "source": [
    "this likely produced a small number of files and the sizes of each. note that it is ordered in a nested way such that every sub-directory is immediately followed by the directory it is in, and the last record is the top level (and has a size that is the sum of all it's children).\n",
    "\n",
    "let's try that same command on a much bigger directory and see what happens:\n",
    "\n",
    "```bash\n",
    "du -ah /etc\n",
    "```"
   ]
  },
  {
   "cell_type": "markdown",
   "metadata": {
    "slideshow": {
     "slide_type": "fragment"
    }
   },
   "source": [
    "what do you *think* will happen?"
   ]
  },
  {
   "cell_type": "code",
   "execution_count": null,
   "metadata": {
    "slideshow": {
     "slide_type": "fragment"
    }
   },
   "outputs": [],
   "source": [
    "%%bash\n",
    "du -ah /etc"
   ]
  },
  {
   "cell_type": "markdown",
   "metadata": {
    "slideshow": {
     "slide_type": "subslide"
    }
   },
   "source": [
    "with so many items printed out, it would be nice if we could limit them -- especially the items that are several levels deep in the tree. let's see if that's possible:\n",
    "\n",
    "```bash\n",
    "du --help\n",
    "```"
   ]
  },
  {
   "cell_type": "code",
   "execution_count": null,
   "metadata": {},
   "outputs": [],
   "source": [
    "%%bash\n",
    "du --help"
   ]
  },
  {
   "cell_type": "markdown",
   "metadata": {},
   "source": [
    "Let's try out `--summarize`\n",
    "\n",
    "```bash\n",
    "du -h --summarize /etc\n",
    "```"
   ]
  },
  {
   "cell_type": "code",
   "execution_count": null,
   "metadata": {},
   "outputs": [],
   "source": [
    "%%bash\n",
    "du -h --summarize /etc"
   ]
  },
  {
   "cell_type": "markdown",
   "metadata": {},
   "source": [
    "that's pretty nice. What if I still wanted to know at least the size of the items in the directory, and the size of each sub-directory, but not further? there we could use the `-d` / `--max-depth` flag to specify we are interested in a maximum depth of 1:\n",
    "\n",
    "```bash\n",
    "du -h --max-depth 1 /etc\n",
    "```"
   ]
  },
  {
   "cell_type": "code",
   "execution_count": null,
   "metadata": {},
   "outputs": [],
   "source": [
    "%%bash\n",
    "du -h --max-depth 1 /etc"
   ]
  },
  {
   "cell_type": "markdown",
   "metadata": {
    "slideshow": {
     "slide_type": "subslide"
    }
   },
   "source": [
    "so why spend time talking about this command? Well, if you've never written a program which accidentally produced a dataset that was too large for your file system, you should really give it a try. And when you do, this set of commands will be fairly invaluable in determining which files are the real offenders and getting rid of them asap."
   ]
  },
  {
   "cell_type": "markdown",
   "metadata": {
    "slideshow": {
     "slide_type": "subslide"
    }
   },
   "source": [
    "##### `tree`\n",
    "\n",
    "one last file command, and this one is the best of the bunch -- you simply cannot live without it. It's called `tree` and it prints out the directory contents (*a la* `ls`), but in a graphical \"tree\"-like way such that the relationship between directories, sub-directories and file is visually obvious. It's a life-saver.\n",
    "\n",
    "it will expand to all depths by default (like `du` above), so let's limit it to only 1 level deep first using the `-L` flag. we'll also want to see all files, so `-a` should be included as well.\n",
    "\n",
    "```bash\n",
    "tree -a -L 1 ~\n",
    "```"
   ]
  },
  {
   "cell_type": "code",
   "execution_count": null,
   "metadata": {},
   "outputs": [],
   "source": [
    "%%bash\n",
    "tree -a -L 1 ~"
   ]
  },
  {
   "cell_type": "markdown",
   "metadata": {
    "slideshow": {
     "slide_type": "subslide"
    }
   },
   "source": [
    "wat\n",
    "\n",
    "```\n",
    "The program 'tree' is currently not installed. You can install it by typing:\n",
    "sudo apt install tree\n",
    "```"
   ]
  },
  {
   "cell_type": "markdown",
   "metadata": {
    "slideshow": {
     "slide_type": "slide"
    }
   },
   "source": [
    "### packages\n",
    "\n",
    "We simply *have* to have `tree` installed, but before we go fire off that command in the error message, let's talk for a second about packages.\n",
    "\n",
    "packages are the linux world standard for installable software. they are basically just compressed (think \"zipped\", but technically don't think that) directories of all of the files needed to run an application, plus some other files needed to create or install that software and get it to \"play nice\" with the rest of your operating system.\n",
    "\n",
    "unlike MSIs or DMGs in the windows and mac world, these are not programs which install software, but rather sets of files that *one* unified program can use to install software."
   ]
  },
  {
   "cell_type": "markdown",
   "metadata": {
    "slideshow": {
     "slide_type": "subslide"
    }
   },
   "source": [
    "for you as a user, you will generally\n",
    "\n",
    "1. want to install some software\n",
    "2. know the name of that software\n",
    "3. ...?\n",
    "\n",
    "this is where *package managers* come in. a package manager is a program which will\n",
    "\n",
    "1. find packages of applications (by name, typically)\n",
    "2. resolve the *dependencies* of that package (look up all of the *other* software that you might need to download in order to have that software work)\n",
    "3. download the package files and the dependency package files\n",
    "4. perform any of the installation instructions or configurations in those package files\n",
    "5. make sure that all parts of the system that \"need to know\" about new packages are informed"
   ]
  },
  {
   "cell_type": "markdown",
   "metadata": {
    "slideshow": {
     "slide_type": "subslide"
    }
   },
   "source": [
    "there are a handful of different package managers in linux world, but they are usually one-to-one with distributions:\n",
    "\n",
    "1. `apt` (for \"Advanced Package Tool\")\n",
    "    1. the primary package manager in modern debian (including Ubuntu) distributions\n",
    "2. `apt-get` \n",
    "    1. is part of the same project as `apt`, but is an older version (being replaced everywhere by `apt`)\n",
    "3. `yum` (for \"Yellowdog Updater Modified\")\n",
    "    1. wrapper around `rpm` (below)\n",
    "    2. primary package manager for Red Hat (RHEL), CentOS, and Fedora\n",
    "4. `rpm` (for \"Redhat Package Manager\")\n",
    "    1. basic package manager for Red Hat\n",
    "5. downloading files and installing them yourself (usually via `make` and `make install`)\n",
    "    1. this is possible and obviously a bit more advanced, but sometimes it is useful to be able to install what *you* want instead of what the package maintainer will allow you to install (which can lag behind development by years at times)"
   ]
  },
  {
   "cell_type": "markdown",
   "metadata": {
    "slideshow": {
     "slide_type": "subslide"
    }
   },
   "source": [
    "enough yaking, let's install `tree` already:\n",
    "\n",
    "```bash\n",
    "sudo apt install tree\n",
    "```\n",
    "\n",
    "one way we can check that tree is installed is just to run the command again:\n",
    "\n",
    "```bash\n",
    "tree -a -L 1 ~\n",
    "```"
   ]
  },
  {
   "cell_type": "markdown",
   "metadata": {
    "slideshow": {
     "slide_type": "slide"
    }
   },
   "source": [
    "### process information\n",
    "\n",
    "you may have experience with the window \"task manager\" or the mac \"activity manager\", and if so you know how helpful they can be. there are gui versions of those same utilities in linux world, but they are less standard and often require a bit more configuration or user knowledge.\n",
    "\n",
    "the tools that *are* standard tend to be a little more low-level and also a bit more single-use / niche (in following with the DOTADIW philosophy).\n",
    "\n",
    "knowing these commands is often essential to doing any sort of debugging of system performance. that being said, you will use these much less as a linux *user* than as an admin."
   ]
  },
  {
   "cell_type": "markdown",
   "metadata": {
    "slideshow": {
     "slide_type": "subslide"
    }
   },
   "source": [
    "##### `top` and `htop`\n",
    "\n",
    "both `top` (Table of Processes) and `htop` (Hisham (author's name) TOP) are programs used to list out all the currently running processes (think of the \"processes\" tab on task or activity monitor).\n",
    "\n",
    "both open in an interactive terminal window and can be exited (like `less`) with the `q` key.\n",
    "\n",
    "try both!\n",
    "\n",
    "```bash\n",
    "top\n",
    "```\n",
    "\n",
    "note: you may well have to install htop with `sudo apt install htop`\n",
    "\n",
    "```bash\n",
    "htop\n",
    "```"
   ]
  },
  {
   "cell_type": "markdown",
   "metadata": {
    "slideshow": {
     "slide_type": "subslide"
    }
   },
   "source": [
    "as far as I can tell, the one and only reason to use `top` instead of `htop` is that `htop` isn't installed and you can't install it"
   ]
  },
  {
   "cell_type": "markdown",
   "metadata": {
    "slideshow": {
     "slide_type": "subslide"
    }
   },
   "source": [
    "##### `ps`\n",
    "\n",
    "short for \"Process Status\", this command prints out some summary information about all running processes. unlike `top` and `htop`, this is a snapshot program, so you do not see updates.\n",
    "\n",
    "the default behavior is to print out only the running commands initiated by the current user (*e.g.* `ubuntu`), and the following valued:\n",
    "\n",
    "1. PID: the process id, an integer which uniquely identifies that process among all running processes on the system\n",
    "2. TTY: a value identifying the terminal in which that command is running (may be none for graphical or background processes)\n",
    "3. TIME: the time the command began (relative to the machine' start time)\n",
    "4. CMD: the actual executed command\n",
    "\n",
    "```bash\n",
    "ps\n",
    "```"
   ]
  },
  {
   "cell_type": "code",
   "execution_count": null,
   "metadata": {},
   "outputs": [],
   "source": [
    "%%bash\n",
    "ps"
   ]
  },
  {
   "cell_type": "markdown",
   "metadata": {
    "slideshow": {
     "slide_type": "subslide"
    }
   },
   "source": [
    "it is fairly common to modify this command with the `aux` flag, which will\n",
    "\n",
    "1. `a`: list commands run by all users\n",
    "2. `u`: add a column listing the user\n",
    "3. `x`: include processes that weren't started in a terminal\n",
    "\n",
    "```bash\n",
    "ps -aux\n",
    "```"
   ]
  },
  {
   "cell_type": "code",
   "execution_count": null,
   "metadata": {},
   "outputs": [],
   "source": [
    "%%bash\n",
    "ps -aux"
   ]
  },
  {
   "cell_type": "markdown",
   "metadata": {
    "slideshow": {
     "slide_type": "subslide"
    }
   },
   "source": [
    "##### `kill` and `pkill`\n",
    "\n",
    "sometimes you have a long-running process that you realize was a mistake, or has become unresponsive (*aka* a zombie process). it is nice to be able to kill these processes, but often difficult -- especially when there is no gui interface with an X button.\n",
    "\n",
    "the command to kill a process is, appropriately, `kill`, and it takes that unique process identifier we just saw via `ps`.\n",
    "\n",
    "```bash\n",
    "kill [the PID goes here]\n",
    "```\n",
    "\n",
    "the common workflow is to run `ps`, look up the PID (this is easier done via `ps` than `[h]top` because `ps` is a static snapshot), and run kill."
   ]
  },
  {
   "cell_type": "markdown",
   "metadata": {
    "slideshow": {
     "slide_type": "subslide"
    }
   },
   "source": [
    "under the hood, the `kill` command is sending a *signal* to the running process. there are several different signals that all effectively mean \"stop this process\", but they come with different levels of urgency (with lower meaning more urgent). the only two you really need to know are\n",
    "\n",
    "1. `SIGTERM`, level 15\n",
    "    1. default\n",
    "    2. this requests the process be \"terminated\"\n",
    "    3. graceful: will try and do useful cleanup before quitting (if the process supports such a thing)\n",
    "    4. not guaranteed to work\n",
    "2. `SIGKILL`, level 9\n",
    "    1. the \"just do it\" option\n",
    "    2. not graceful: kills the process immediately and without cleanup"
   ]
  },
  {
   "cell_type": "markdown",
   "metadata": {
    "slideshow": {
     "slide_type": "subslide"
    }
   },
   "source": [
    "an alternative to `kill` is to run `pkill`, which takes a *name* instead of a PID and will kill any proces running where that name is in the CMD of that process.\n",
    "\n",
    "this can be dangerous: for example, it is very possible that you might have several `python` scripts running, and only one becomes a zombie. In that case, you will not want to `pkill python`, and will *have* to look up the correct process id and use plain `kill` to stop it."
   ]
  },
  {
   "cell_type": "markdown",
   "metadata": {},
   "source": [
    "note: you can also kill process from within `htop` by selecting the process with the keyboard, pressing `k`, and selecting the signal to send (basically: `15 SIGTERM` or `9 SIGKILL`) "
   ]
  },
  {
   "cell_type": "markdown",
   "metadata": {
    "slideshow": {
     "slide_type": "subslide"
    }
   },
   "source": [
    "##### `shutdown` and `reboot`\n",
    "\n",
    "you know what these command will do by the name: they will `shutdown` or `reboot` the computer.\n",
    "\n",
    "technically, `reboot` is a specail instance of `shutdown`: `shutdown -r`.\n",
    "\n",
    "you can test these if you want. I won't ;)"
   ]
  },
  {
   "cell_type": "markdown",
   "metadata": {
    "slideshow": {
     "slide_type": "slide"
    }
   },
   "source": [
    "### utilities\n",
    "\n",
    "the following commands are a grabbag of utilities I use regularly for various purposes. your mileage may vary"
   ]
  },
  {
   "cell_type": "markdown",
   "metadata": {
    "slideshow": {
     "slide_type": "subslide"
    }
   },
   "source": [
    "##### `history`\n",
    "\n",
    "this prints out all of the commands you have recently executed.\n",
    "\n",
    "```bash\n",
    "history\n",
    "```"
   ]
  },
  {
   "cell_type": "code",
   "execution_count": null,
   "metadata": {
    "collapsed": true
   },
   "outputs": [],
   "source": [
    "%%bash\n",
    "history 20"
   ]
  },
  {
   "cell_type": "markdown",
   "metadata": {
    "slideshow": {
     "slide_type": "subslide"
    }
   },
   "source": [
    "note: if you press `ctrl + r` you will be able to type and recursively search for commands you previously entered (those in your history) among all commands that contain that information.\n",
    "\n",
    "try it out -- with an empty terminal line, enter `ctrl + r` and then type `apt ` and see what happens."
   ]
  },
  {
   "cell_type": "markdown",
   "metadata": {
    "slideshow": {
     "slide_type": "subslide"
    }
   },
   "source": [
    "##### `date`\n",
    "\n",
    "this command is among the most useful of all linux commands. in addition to the default behavior (just printing the date and time to the terminal), it is possible to print out a large number of strings representing different formats and arrangements of time values as desired. \n",
    "\n",
    "Let's try out two examples:\n",
    "\n",
    "```bash\n",
    "# print out the Y, M, D, and then H, M, and S as a timestamp with \n",
    "# periods separating the date from the time characters\n",
    "date +%Y%m%d.%H%M%S\n",
    "```"
   ]
  },
  {
   "cell_type": "code",
   "execution_count": null,
   "metadata": {},
   "outputs": [],
   "source": [
    "%%bash\n",
    "date +%Y%m%d.%H%M%S"
   ]
  },
  {
   "cell_type": "markdown",
   "metadata": {},
   "source": [
    "and now the same timestamp, but last Friday and then 20 days ago\n",
    "\n",
    "```bash\n",
    "date --date=\"last Friday\" +%Y%m%d.%H%M%S\n",
    "date --date=\"20 days ago\" +%Y%m%d.%H%M%S\n",
    "```"
   ]
  },
  {
   "cell_type": "code",
   "execution_count": null,
   "metadata": {},
   "outputs": [],
   "source": [
    "%%bash\n",
    "date --date=\"last Friday\" +%Y%m%d.%H%M%S\n",
    "date --date=\"20 days ago\" +%Y%m%d.%H%M%S"
   ]
  },
  {
   "cell_type": "markdown",
   "metadata": {
    "slideshow": {
     "slide_type": "subslide"
    }
   },
   "source": [
    "##### `wc`\n",
    "\n",
    "`wc` is short for \"word count\", and it does just what you expect -- counts words in strings or files. It has the ability to count bytes, chards, lines, paragraphs, and maximum line lenghts as well.\n",
    "\n",
    "in all honesty, while it is *nice* to know the number of words in a file, I use this more often to count the number of *files* in a directory. If you print the number of files as a list (`ls -l`) and use `wc -l` to count the lines, you will have the number of files (plus two: `.` and `..`).\n",
    "\n",
    "```bash\n",
    "ls -l /etc | wc -l\n",
    "```"
   ]
  },
  {
   "cell_type": "code",
   "execution_count": null,
   "metadata": {},
   "outputs": [],
   "source": [
    "%%bash\n",
    "ls -l /etc | wc -l"
   ]
  },
  {
   "cell_type": "markdown",
   "metadata": {
    "slideshow": {
     "slide_type": "subslide"
    }
   },
   "source": [
    "##### `dirname` and `basename`\n",
    "\n",
    "every path in linux can be described as a full directory name (the list of all directories between the file and root) and the filename. If you consider directories themselves to be named what they are name (generalize filename to \"basename\"), every path can be split in half as a \"directory name\" and \"base name\". The commands `dirname` and `basename` will convert every file into those two components\n",
    "\n",
    "```bash\n",
    "dirname /this/is/a/test/path/to/file.txt\n",
    "basename /this/is/a/test/path/to/file.txt\n",
    "```\n",
    "\n",
    "*note: this is parsing strings based on path name rules, not looking at actual paths on the actual file system*"
   ]
  },
  {
   "cell_type": "code",
   "execution_count": null,
   "metadata": {},
   "outputs": [],
   "source": [
    "%%bash\n",
    "dirname /this/is/a/test/path/to/file.txt\n",
    "basename /this/is/a/test/path/to/file.txt"
   ]
  },
  {
   "cell_type": "markdown",
   "metadata": {
    "slideshow": {
     "slide_type": "subslide"
    }
   },
   "source": [
    "##### `grep`\n",
    "\n",
    "as I've said about a couple different linux features and utilities now, you could take an entire class on using `grep` (short for \"Globally search a Regular Expression and Print\" -- catchy). \n",
    "\n",
    "the purpose of `grep` is to provide a fast and flexible way of performing generalized text searches (*i.e.* regular expression searches). Often we may want to find all of the files in which we referenced a certain variable (*e.g.*, we want to change the variable `LogisticRegression` to `NeuralNet`, because we're feeling *spicy*), or find all instances of a known typo in a single file. this is the primary use case for `grep`.\n",
    "\n",
    "As an example, let's suppose we want to see all of the aliases we created in our `bash` profile. We could perform a case-insensitive search (`-i`) and print off all the line numbers (`-n`) for all of the files under (`-r`, aka recursive) our home directory:\n",
    "\n",
    "```bash\n",
    "grep -nir alias ~/\n",
    "```"
   ]
  },
  {
   "cell_type": "code",
   "execution_count": null,
   "metadata": {},
   "outputs": [],
   "source": [
    "%%bash\n",
    "grep -nir alias ~/"
   ]
  },
  {
   "cell_type": "markdown",
   "metadata": {
    "slideshow": {
     "slide_type": "subslide"
    }
   },
   "source": [
    "##### `diff`\n",
    "\n",
    "this utility compares two files to find the differences (hence, `diff`). this is mostly pointless for *different* files; it is used mostly to compare different iterations / versions of files. under the hood, the basic action of `git` (the preeminent version control system) is to track `diff` output between previous and current versions of code files.\n",
    "\n",
    "just to get an example of what diff output looks and feels like, let's do the following:\n",
    "\n",
    "```bash\n",
    "echo \"hello world my name is zach\" > ~/test.txt\n",
    "echo \"hello world my awesome name is zach\" > ~/test.2.txt\n",
    "diff ~/test.txt ~/test.2.txt\n",
    "```"
   ]
  },
  {
   "cell_type": "code",
   "execution_count": null,
   "metadata": {},
   "outputs": [],
   "source": [
    "%%bash\n",
    "echo \"hello world my name is zach\" > ~/test.txt\n",
    "echo \"hello world my awesome name is zach\" > ~/test.2.txt\n",
    "diff ~/test.txt ~/test.2.txt"
   ]
  },
  {
   "cell_type": "markdown",
   "metadata": {},
   "source": [
    "the way that `diff` displays differences is to find lines which disagree or are additions / subtractions and to print out the two different versions. The lines as they appear in the \"first\" file (to the left in the command line statement) get a `<` character in front of them. they are separated from the \"second\" file (to the right in the command line statement) by a row of `-` characters, and the second / right file lines are lead by a `>` character"
   ]
  },
  {
   "cell_type": "markdown",
   "metadata": {
    "slideshow": {
     "slide_type": "subslide"
    }
   },
   "source": [
    "##### `tar` and `unzip`\n",
    "\n",
    "you may not often think about Tape ARchives (`tar`) as a thing that happens, but in a lot of fields it is actually a legal compliance obligration (e.g. pretty much the entire financial sector, much of the government). that being said, you don't actually have to create tape archives -- but you will *very* often use the compression algorithms used in tape archives to compress collection of files before sending them to other folks, or decompressing files sent to you.\n",
    "\n",
    "in the windows and mac world, you are probably used to finding `.zip` files, and you are familiar with decompressing (\"extracting\") these archive files into several files and folders. you will soon also become familiar with `tar` and `tar.gz` file extensions -- these are archives in the linux world, and the command you use to compress or decompress files is `tar`.\n",
    "\n",
    "because of the ubiquitous of `zip` files, the `unzip` function is also available on most linux distributions for decompressing `zip` archives."
   ]
  },
  {
   "cell_type": "markdown",
   "metadata": {
    "slideshow": {
     "slide_type": "subslide"
    }
   },
   "source": [
    "##### `locate` and `find`\n",
    "\n",
    "both `locate` and `find` can be used to find files by file names, but `locate` is much faster and simpler for general use. `find` is more useful for collecting names which follow certain patterns, and that in turn is useful for scripting purposes.\n",
    "\n",
    "until you find  yourself reading about `find` on stack overflow posts, you should default to always using `locate`.\n",
    "\n",
    "```bash\n",
    "locate .bashrc\n",
    "```"
   ]
  },
  {
   "cell_type": "code",
   "execution_count": null,
   "metadata": {},
   "outputs": [],
   "source": [
    "%%bash\n",
    "locate .bashrc"
   ]
  },
  {
   "cell_type": "markdown",
   "metadata": {
    "slideshow": {
     "slide_type": "subslide"
    }
   },
   "source": [
    "##### `sort` and `unique`\n",
    "\n",
    "these two commands will take in lists of strings and sort them (`sort`, obviously) and remove duplicates / reduce them to a list of unique values (`unique`). As with `find`, these are usually more useful for scripting purposes, though `sort` finds some general application."
   ]
  },
  {
   "cell_type": "markdown",
   "metadata": {
    "slideshow": {
     "slide_type": "subslide"
    }
   },
   "source": [
    "##### `xargs`\n",
    "\n",
    "this command is a bit advanced, but let's quickly discuss *what* it does. As we mentioned in the philosophy section, each linux command is meant to act as a filter on an input variable. for historic reasons this was not always implemented in the same way: sometimes commands were built to take in *only* items from the command line (instead of standard in, so pipes are broken), or have a capped number of allowed arguments.\n",
    "\n",
    "`xargs` was created to solve many of these problems, and to help make sure that even \"broken\" or \"old\" processes will follow the linux philosophy.\n",
    "\n",
    "basically, `xargs` will take a list of items and use them to build as many executions of a single command on all the items in that list.\n",
    "\n",
    "as a side effect, the ability to chunk up list items into smaller groups allows for multi-threading and parallelization via `xargs`. this is a dirty hack, but [a pretty common one](https://github.com/RZachLamberty/zshell/blob/master/hydra-curl-nofrills.sh)"
   ]
  },
  {
   "cell_type": "markdown",
   "metadata": {
    "slideshow": {
     "slide_type": "subslide"
    }
   },
   "source": [
    "##### `screen`\n",
    "\n",
    "one thing that is probably not obvious yet: what if the command you want to run takes a *long* time and you just kicked it off? \n",
    "\n",
    "what does your terminal look like now?\n",
    "\n",
    "Can you do anything?\n",
    "\n",
    "what happens if you close the terminal window?"
   ]
  },
  {
   "cell_type": "markdown",
   "metadata": {
    "slideshow": {
     "slide_type": "subslide"
    }
   },
   "source": [
    "as it so happens, if you start a process in a terminal window, and then close that process, it will generally be killed. this is obviously less than desirable. you could leave terminals open until process close, but what about *permanent* processes?\n",
    "\n",
    "`screen` is a way of creating \"pseudo-terminals\" that you can access as you wish, but that you do not need to remain logged into.\n",
    "\n",
    "I pretty much exclusively use `screen` to run my long-running processes (like web apps or persistent API calls / web scrapers). We may get to use of screen in the future, but for now I will just mention it so you know about this super useful package"
   ]
  },
  {
   "cell_type": "markdown",
   "metadata": {
    "slideshow": {
     "slide_type": "subslide"
    }
   },
   "source": [
    "##### `cron` and `crontab`\n",
    "\n",
    "`cron` is named after the greek work for time, $\\chi\\rho\\omicron\\nu\\omicron\\sigma$ (*chronos*), and is the *de facto* methdo for scheduling executions of processes and jobs. all basic operating system actions are scheduled using this utility, so you absolutely should use it for your scheduling unless it is impossible.\n",
    "\n",
    "the basic frequency in `cron` is 1 minutes -- in my opinion, one of the only reason to move beyond `cron` as a scheduler is to get sub-minute frequency (some like things like web apps and dashboards, but I'm pretty happy with log files!).\n",
    "\n",
    "basically, a `cron` entry is a execution time pattern and a set of `bash` commands that you want to execute. To avoid writing it for the 18 billionth time, I'll refer to [the corresponding section on wikipedia](https://en.wikipedia.org/wiki/Cron#Overview).\n",
    "\n",
    "to add your own entries to `cron` you will use the `crontab` utility with the `-e` (edit) flag. this will open an editor and all you will need to do is add the timestamp and command"
   ]
  },
  {
   "cell_type": "markdown",
   "metadata": {
    "slideshow": {
     "slide_type": "slide"
    }
   },
   "source": [
    "### Networking\n",
    "\n",
    "given that we are working on remote desktops, we will now often be interested in networked communication between computers. there are a couple of commands which feature fairly prominently in these interactions.\n",
    "\n",
    "although this is explicitly a linux tutorial, many of these actions can be done with dedicated analogous programs in windows, and I will discuss those as well"
   ]
  },
  {
   "cell_type": "markdown",
   "metadata": {
    "slideshow": {
     "slide_type": "subslide"
    }
   },
   "source": [
    "##### `ssh`\n",
    "\n",
    "you've already used this -- `ssh` is the basic command for all Secure SHell connections between computers.\n",
    "\n",
    "1. linux, mac: the command `ssh` often comes pre-installed, but if not it can be installed as part of the `openssh` package\n",
    "2. windows: the industry standard is [PuTTY](https://www.chiark.greenend.org.uk/~sgtatham/putty/latest.html)"
   ]
  },
  {
   "cell_type": "markdown",
   "metadata": {
    "slideshow": {
     "slide_type": "subslide"
    }
   },
   "source": [
    "##### `scp`\n",
    "\n",
    "`scp` is short for Secure CoPy. basically, this is just an implementation of the copy command using the ssh connection protocol. It relies on all the same technology as `ssh` including configuration files and privay / public key exchange.\n",
    "\n",
    "1. linux, mac: the `scp` command is a part of the `openssh` package, so if you have `ssh` installed you will have `scp` available.\n",
    "2. windows: the industry standard is [WinSCP](https://winscp.net/eng/download.php)"
   ]
  },
  {
   "cell_type": "markdown",
   "metadata": {
    "slideshow": {
     "slide_type": "subslide"
    }
   },
   "source": [
    "##### `ftp`, `lftp`, and `sftp`\n",
    "\n",
    "I mentioned it briefly in a previous lecture, but there are a few protocols (rules for constructing messages and sending them to remote services) that are explicitly dedicated to file transfer. They fall into two camps:\n",
    "\n",
    "1. ftp: the first iteration, stands for File Transfer Protocol\n",
    "2. sftp: the second iteration, stands for Secure (or SSH) File Transfer Protocol\n",
    "\n",
    "in linux and mac world, each of these protocols has a command of the same name that implements the command line interface (cli) for that protocol. `lftp` is a general purpose command that provides many useful features in addition to the basic `ftp` and `sftp` commands"
   ]
  },
  {
   "cell_type": "markdown",
   "metadata": {
    "slideshow": {
     "slide_type": "subslide"
    }
   },
   "source": [
    "in terms of usage, these commands will effectively\n",
    "\n",
    "1. create a connection using the corresponding protocol\n",
    "2. create a new interactive session for executing ftp or sftp commands\n",
    "    1. example of commands: GET, PUT, MV, CP\n",
    "3. logging and error messages are all handled and displayed as needed\n",
    "\n",
    "the growing use of S3 as a file storage and sharing utility means that *our* file storage will be done in an entirely different way. that being said, ftp and sftp are still ubiquitous. I have used an FTP or SFTP server on every project I have worked on."
   ]
  },
  {
   "cell_type": "markdown",
   "metadata": {
    "slideshow": {
     "slide_type": "subslide"
    }
   },
   "source": [
    "let's do a quick demo of using one of these protocols (the simpler: ftp).\n",
    "\n",
    "first, in your browser, open [the NOAA CLASS (comprehensive large array-data stewardship system) ftp site for satelite data distribution](ftp://ftp-npp.class.ngdc.noaa.gov/20170827/)\n",
    "\n",
    "then, in your ec2 terminal try the following:\n",
    "\n",
    "```bash\n",
    "ftp ftp-npp.class.ngdc.noaa.gov\n",
    "# just press enter for the user name and password\n",
    "# or enter anything you want\n",
    "\n",
    "# then enter help to see the type of commands available\n",
    "# some should be familiar (ls, cd, pwd)\n",
    "ftp> help\n",
    "```"
   ]
  },
  {
   "cell_type": "markdown",
   "metadata": {
    "slideshow": {
     "slide_type": "subslide"
    }
   },
   "source": [
    "when you log in to an ftp server, you and all users are (by default) dropped off into a single root directory.\n",
    "\n",
    "let's try to get our bearings by listing out the contents of this root directory in which we find ourselves. for silly reasons, you [need to turn on \"passive\" mode](https://serverfault.com/a/450655) before you can do anything useful.\n",
    "\n",
    "```bash\n",
    "ftp> pass\n",
    "ftp> ls\n",
    "ftp> cd 20170830\n",
    "ftp> ls\n",
    "```"
   ]
  },
  {
   "cell_type": "markdown",
   "metadata": {
    "slideshow": {
     "slide_type": "subslide"
    }
   },
   "source": [
    "1. linux, mac: `ftp`, `lftp`, and `sftp`\n",
    "2. windows: [winscp](https://winscp.net/eng/index.php) (this is my recommendation for both ftp and sftp), also [filezilla](https://filezilla-project.org/)"
   ]
  },
  {
   "cell_type": "markdown",
   "metadata": {
    "slideshow": {
     "slide_type": "subslide"
    }
   },
   "source": [
    "##### `curl` and `wget`\n",
    "\n",
    "these two tools are the primary command line tools for downloading materials over the HTTP and HTTPS protocols. They each have many, many features, and I have found myself using both for various purposes. I recommend installing and being open to using both (as opposed to learning one well, as I would recommend for editors).\n",
    "\n",
    "let's just try the simples thing we can -- download a single, simple test webpage.\n",
    "\n",
    "```bash\n",
    "# curl: download and print to the screen\n",
    "curl https://www.york.ac.uk/teaching/cws/wws/webpage1.html\n",
    "\n",
    "# curl: download and write to file\n",
    "curl -o curl.html https://www.york.ac.uk/teaching/cws/wws/webpage1.html\n",
    "\n",
    "# wget: default behavior is to write to file \"webpage1.html\" (basename of url)\n",
    "#       let's write to a different file name\n",
    "wget -O wget.html https://www.york.ac.uk/teaching/cws/wws/webpage1.html\n",
    "```"
   ]
  },
  {
   "cell_type": "markdown",
   "metadata": {
    "slideshow": {
     "slide_type": "subslide"
    }
   },
   "source": [
    "1. linux, mac: `curl`, `wget`\n",
    "2. windows: [curl](https://curl.haxx.se/download.html#Win64), [wget](http://gnuwin32.sourceforge.net/packages/wget.htm)"
   ]
  },
  {
   "cell_type": "markdown",
   "metadata": {
    "slideshow": {
     "slide_type": "subslide"
    }
   },
   "source": [
    "##### `ping`\n",
    "\n",
    "often we simply want to know if a server exists and is responsive. the act of sending a single \"packet\" (a single piece of information) over the internet to ask if \"anyone is there\" is called \"pinging\", and `ping` is the command which does it.\n",
    "\n",
    "let's check on google:\n",
    "\n",
    "```bash\n",
    "ping -c 5 www.google.com\n",
    "```\n",
    "\n",
    "in addition to the fact that we hear back on all 5 of our \"pings\", we have some additional info:\n",
    "\n",
    "1. the ip address we received for \"www.google.com\"\n",
    "2. the round trip time (about 8 ms)"
   ]
  },
  {
   "cell_type": "markdown",
   "metadata": {
    "slideshow": {
     "slide_type": "subslide"
    }
   },
   "source": [
    "1. linux, mac: `ping`\n",
    "2. windows: `ping` is a built-in `cmd` and `powershell` command"
   ]
  },
  {
   "cell_type": "markdown",
   "metadata": {
    "slideshow": {
     "slide_type": "subslide"
    }
   },
   "source": [
    "##### `mtr`\n",
    "\n",
    "sometimes we would like some more information about how our packets are travelling from our server to others (c.f. complaining to comcast about internet latency). `ping` is nice for demonstrating that we can reach a server, but `mtr` is the standard command for debugging *how* we reached a server (called a \"traceroute\").\n",
    "\n",
    "```bash\n",
    "mtr www.google.com\n",
    "```\n",
    "\n",
    "in all honesty, I've never performed a similar operation in windows. there is a built-in command, though:\n",
    "\n",
    "1. linux, mac: `mtr`\n",
    "2. windows: `tracert` is a built-in `cmd` and `powershell` command"
   ]
  },
  {
   "cell_type": "markdown",
   "metadata": {
    "slideshow": {
     "slide_type": "subslide"
    }
   },
   "source": [
    "##### `hostname`\n",
    "\n",
    "this one is pretty simple: print out the name of your system's host (this is the human-readable text that corresponds to your ip address).\n",
    "\n",
    "```bash\n",
    "hostname\n",
    "```"
   ]
  },
  {
   "cell_type": "code",
   "execution_count": null,
   "metadata": {},
   "outputs": [],
   "source": [
    "%%bash\n",
    "hostname"
   ]
  },
  {
   "cell_type": "markdown",
   "metadata": {
    "slideshow": {
     "slide_type": "subslide"
    }
   },
   "source": [
    "##### `ifconfig`\n",
    "\n",
    "this command is generally used to simply get your IP address. \n",
    "\n",
    "```bash\n",
    "ifconfig\n",
    "```\n",
    "\n",
    "the address you are looking for will appear in the `eth0` block after \"`inet addr`\".\n",
    "\n",
    "on a windows machine, I would probably just google search \"what is my ip\" and let google figure it out for me."
   ]
  },
  {
   "cell_type": "markdown",
   "metadata": {
    "slideshow": {
     "slide_type": "slide"
    }
   },
   "source": [
    "<div align=\"center\">have we become... ***TOO*** powerful?</div>\n",
    "<img src=\"https://techviral.net/wp-content/uploads/2015/04/Why-Hackers-Use-Linux.jpg\"></img>\n",
    "\n",
    "# END OF LECTURE\n",
    "\n",
    "next lecture: [environment management and python](004_python.ipynb)"
   ]
  }
 ],
 "metadata": {
  "celltoolbar": "Slideshow",
  "kernelspec": {
   "display_name": "Python 3",
   "language": "python",
   "name": "python3"
  },
  "language_info": {
   "codemirror_mode": {
    "name": "ipython",
    "version": 3
   },
   "file_extension": ".py",
   "mimetype": "text/x-python",
   "name": "python",
   "nbconvert_exporter": "python",
   "pygments_lexer": "ipython3",
   "version": "3.6.1"
  }
 },
 "nbformat": 4,
 "nbformat_minor": 2
}

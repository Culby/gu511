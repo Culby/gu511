{
 "cells": [
  {
   "cell_type": "markdown",
   "metadata": {
    "slideshow": {
     "slide_type": "slide"
    }
   },
   "source": [
    "# linux crash course"
   ]
  },
  {
   "cell_type": "markdown",
   "metadata": {
    "slideshow": {
     "slide_type": "subslide"
    }
   },
   "source": [
    "[linux](https://en.wikipedia.org/wiki/Linux) is one of the most popular operating systems in the world and perhaps the most powerful for data analytics. familiarity with the ins and outs of the linux operating system are an absolute must in the modern cloud computing environment in particular.\n",
    "\n",
    "at the same time, \"linux\" as a topic is enough to fill several courses (let alone slides). much of the material I leave out here *will* be relevant to you in your future.\n",
    "\n",
    "this is all to say: I've tried to pare down the linux world to the things I think are *most useful* and *most frequently seen* in the wild. at the very least, I hope that when you encounter these commands and utilities in the wild you will think \"I think we talked about that that one time...\" -- those mental guideposts can be a lifesaver."
   ]
  },
  {
   "cell_type": "markdown",
   "metadata": {
    "slideshow": {
     "slide_type": "subslide"
    }
   },
   "source": [
    "<div align=\"center\">**start up and log in to your ec2 instance and follow along**</div>"
   ]
  },
  {
   "cell_type": "markdown",
   "metadata": {
    "slideshow": {
     "slide_type": "slide"
    }
   },
   "source": [
    "## file system, paths, and organization"
   ]
  },
  {
   "cell_type": "markdown",
   "metadata": {
    "slideshow": {
     "slide_type": "subslide"
    }
   },
   "source": [
    "most users are familiar with the windows/dos \"drive\" concept of file system organization -- you have lettered drives (e.g. the `C:\\\\`) and some top-level folders in that drive:\n",
    "\n",
    "+ `C:\\\\`\n",
    "    + Program Files\n",
    "        + Google Chrome\n",
    "    + Program Files (x86)\n",
    "        + Minesweeper\n",
    "    + Users\n",
    "        + myname\n",
    "            + AppData\n",
    "            + My Documents\n",
    "            + My Pictures\n",
    "    + Windows\n",
    "+ `D:\\\\`\n",
    "    + no one knows. floppy disk? insanity.\n",
    "    \n",
    "over time and use, you've perhaps gotten used to know \"where\" things are, so when you need to tweak something, install something, or save something,  you have some instinct built up.\n",
    "\n",
    "what are those instincts in the linux world?"
   ]
  },
  {
   "cell_type": "markdown",
   "metadata": {
    "slideshow": {
     "slide_type": "subslide"
    }
   },
   "source": [
    "there is a pretty tried-and-true filesystem hierarchy in the linux world and although it is not as human-readable as the windows analogs, knowing the organization can often prove helpful"
   ]
  },
  {
   "cell_type": "markdown",
   "metadata": {
    "slideshow": {
     "slide_type": "slide"
    }
   },
   "source": [
    "### paths\n",
    "\n",
    "You've probably heard this phrase before, but for completeness' sake: a \"path\" is a sequence of \"directories\" (\"folders\" in the windows and mac worlds) and possibly a file name with an extension. Directories have paths (hence \"possibly\" a file name).\n",
    "\n",
    "these sequences are separated by the foward slash character (/) in linux world."
   ]
  },
  {
   "cell_type": "markdown",
   "metadata": {
    "slideshow": {
     "slide_type": "subslide"
    }
   },
   "source": [
    "paths can be written in two ways:\n",
    "\n",
    "1. absolute\n",
    "    1. this is a path that contains every single directory (folder) relative to some shared root point (called the root folder, discussed below)\n",
    "2. relative\n",
    "    1. this is a path which looks for the path relative to the place your terminal \"is\"\n",
    "    2. by default, your session will start in your home directory (discussed below), and paths can be relative to this point in the file system"
   ]
  },
  {
   "cell_type": "markdown",
   "metadata": {
    "slideshow": {
     "slide_type": "subslide"
    }
   },
   "source": [
    "there is a special concept often utilized in linux path discussions: \"[globbing](http://tldp.org/LDP/abs/html/globbingref.html)\". a \"glob\" is a string that looks like a path, but contains wild card characters (`*`, ?, and a handful of others). You can use glob expressions to *match* several files. For example, if you want to find every `csv` file in the current directory, you could look for the glob\n",
    "\n",
    "```bash\n",
    "*.csv\n",
    "```\n",
    "\n",
    "the `*` character will match anything.\n",
    "\n",
    "advanced: globs are not equivalent to regular expressions. they are a subset in both syntax and capabilities"
   ]
  },
  {
   "cell_type": "markdown",
   "metadata": {
    "slideshow": {
     "slide_type": "slide"
    }
   },
   "source": [
    "### root folder"
   ]
  },
  {
   "cell_type": "markdown",
   "metadata": {
    "slideshow": {
     "slide_type": "subslide"
    }
   },
   "source": [
    "the \"root\" folder is (as the name implies) the base of all file paths on your computer. This is similar to the `C:\\\\` in windows-world except there is no analogy to \"other\" root folders.\n",
    "\n",
    "The root folder is symbolized by just one single \"`/`\" character.\n",
    "\n",
    "Open a termainal and try the following:\n",
    "\n",
    "``` bash\n",
    "ls -lh /\n",
    "```\n",
    "\n",
    "*we'll get into the details later but this command \"lists\" (`ls`) the contents of the directory \"`/`\", and makes the list \"long\" (`-l`) and human-readable (`-h`)*"
   ]
  },
  {
   "cell_type": "code",
   "execution_count": 5,
   "metadata": {},
   "outputs": [
    {
     "name": "stdout",
     "output_type": "stream",
     "text": [
      "total 152K\n",
      "drwxrwxr-x   2 root root 4.0K May 17 23:21 bin\n",
      "drwxr-xr-x   3 root root 4.0K Aug 18 23:30 boot\n",
      "drwxr-xr-x  20 root root 3.4K Aug 21 09:37 dev\n",
      "drwxr-xr-x   3 root root 4.0K Dec 29  2015 disk2\n",
      "drwxr-xr-x 159 root root  12K Aug 18 23:30 etc\n",
      "drwxr-xr-x   4 root root 4.0K Dec 29  2015 home\n",
      "lrwxrwxrwx   1 root root   31 Dec 29  2015 initrd.img -> /boot/initrd.img-3.16.0-4-amd64\n",
      "drwxr-xr-x  19 root root 4.0K Jun 19 20:52 lib\n",
      "drwxr-xr-x   2 root root 4.0K Jun 19 20:51 lib32\n",
      "drwxr-xr-x   2 root root 4.0K Jun 19 20:52 lib64\n",
      "drwxr-xr-x   2 root root 4.0K Jun 19 20:51 libx32\n",
      "drwx------   2 root root  16K Dec 29  2015 lost+found\n",
      "drwxr-xr-x   3 root root 4.0K Dec 29  2015 media\n",
      "drwxr-xr-x   2 root root 4.0K Jul 10  2016 mnt\n",
      "drwxr-xr-x  10 root root 4.0K Jan 29  2017 opt\n",
      "dr-xr-xr-x 304 root root    0 Aug 10 19:52 proc\n",
      "drwx------  19 root root 4.0K Jul 27 23:49 root\n",
      "drwxr-xr-x  33 root root 1.2K Aug 18 23:30 run\n",
      "drwxr-xr-x   2 root root  12K Jul 28 22:48 sbin\n",
      "drwxr-xr-x   2 root root 4.0K Dec 29  2015 srv\n",
      "dr-xr-xr-x  13 root root    0 Aug 21 22:14 sys\n",
      "drwxrwxrwt  41 root root  48K Aug 21 22:14 tmp\n",
      "drwxr-xr-x  12 root root 4.0K Dec 30  2015 usr\n",
      "drwxr-xr-x  14 root root 4.0K Jun 26  2016 var\n",
      "lrwxrwxrwx   1 root root   27 Dec 29  2015 vmlinuz -> boot/vmlinuz-3.16.0-4-amd64\n"
     ]
    }
   ],
   "source": [
    "%%bash\n",
    "ls -lh /"
   ]
  },
  {
   "cell_type": "markdown",
   "metadata": {
    "slideshow": {
     "slide_type": "subslide"
    }
   },
   "source": [
    "The contents of the [root folder](http://www.tldp.org/LDP/intro-linux/html/sect_03_01.html) are pretty established in the linux community. As your machines are all the same (Ubuntu 16.04) you should be seeing identical collections of directories and paths. From linux machine to machine there may be some changes, but you can usually count on the same structure.\n",
    "\n",
    "*note: the linux documentation project (or \"tldp\") which I linked above is a great beginners resource. It has become outdated over time, but is often the best and fullest resource for explaining linux concepts -- keep an eye out!*"
   ]
  },
  {
   "cell_type": "markdown",
   "metadata": {
    "slideshow": {
     "slide_type": "subslide"
    }
   },
   "source": [
    "There are a couple of directories in `/` that deserve special mention."
   ]
  },
  {
   "cell_type": "markdown",
   "metadata": {
    "slideshow": {
     "slide_type": "subslide"
    }
   },
   "source": [
    "#### `/bin`\n",
    "\n",
    "the `/bin` directory (short for \"binaries\") contains common executible stuff (that is, stuff you can run which will do something).\n",
    "\n",
    "the word \"binary\" is a bit of an anachronism now, as non-binary things commonly live in the `/bin` directory\n",
    "\n",
    "check out the results of\n",
    "\n",
    "```bash\n",
    "ls -alh /bin/\n",
    "```\n",
    "\n",
    "notice anyting?"
   ]
  },
  {
   "cell_type": "code",
   "execution_count": 8,
   "metadata": {},
   "outputs": [
    {
     "name": "stdout",
     "output_type": "stream",
     "text": [
      "total 9.9M\n",
      "drwxrwxr-x  2 root root  4.0K May 17 23:21 .\n",
      "drwxr-xr-x 25 root root  4.0K Dec 30  2015 ..\n",
      "-rwxr-xr-x  1 root root 1006K Nov  5  2016 bash\n",
      "-rwxr-xr-x  3 root root   31K Mar 27  2015 bunzip2\n",
      "-rwxr-xr-x  1 root root  626K Feb 18  2015 busybox\n",
      "-rwxr-xr-x  3 root root   31K Mar 27  2015 bzcat\n",
      "lrwxrwxrwx  1 root root     6 Mar 27  2015 bzcmp -> bzdiff\n",
      "-rwxr-xr-x  1 root root  2.1K Mar 27  2015 bzdiff\n",
      "lrwxrwxrwx  1 root root     6 Mar 27  2015 bzegrep -> bzgrep\n",
      "-rwxr-xr-x  1 root root  4.8K Mar 27  2015 bzexe\n",
      "lrwxrwxrwx  1 root root     6 Mar 27  2015 bzfgrep -> bzgrep\n",
      "-rwxr-xr-x  1 root root  3.6K Mar 27  2015 bzgrep\n",
      "-rwxr-xr-x  3 root root   31K Mar 27  2015 bzip2\n",
      "-rwxr-xr-x  1 root root   15K Mar 27  2015 bzip2recover\n",
      "lrwxrwxrwx  1 root root     6 Mar 27  2015 bzless -> bzmore\n",
      "-rwxr-xr-x  1 root root  1.3K Mar 27  2015 bzmore\n",
      "-rwxr-xr-x  1 root root   51K Mar 14  2015 cat\n",
      "-rwxr-xr-x  1 root root   15K Sep  8  2014 chacl\n",
      "-rwxr-xr-x  1 root root   59K Mar 14  2015 chgrp\n",
      "-rwxr-xr-x  1 root root   55K Mar 14  2015 chmod\n",
      "-rwxr-xr-x  1 root root   63K Mar 14  2015 chown\n",
      "-rwxr-xr-x  1 root root   11K Oct 25  2014 chvt\n",
      "-rwxr-xr-x  1 root root  148K Mar 14  2015 cp\n",
      "-rwxr-xr-x  1 root root  139K Feb 14  2016 cpio\n",
      "-rwxr-xr-x  1 root root  123K Nov  8  2014 dash\n",
      "-rwxr-xr-x  1 root root   63K Mar 14  2015 date\n",
      "-rwxr-xr-x  1 root root   59K Mar 14  2015 dd\n",
      "-rwxr-xr-x  1 root root  100K Mar 14  2015 df\n",
      "-rwxr-xr-x  1 root root  116K Mar 14  2015 dir\n",
      "-rwxr-xr-x  1 root root   51K Mar 29  2015 dmesg\n",
      "lrwxrwxrwx  1 root root     8 Nov  3  2013 dnsdomainname -> hostname\n",
      "lrwxrwxrwx  1 root root     8 Nov  3  2013 domainname -> hostname\n",
      "-rwxr-xr-x  1 root root   77K Oct 25  2014 dumpkeys\n",
      "-rwxr-xr-x  1 root root   31K Mar 14  2015 echo\n",
      "-rwxr-xr-x  1 root root    29 Feb 13  2015 egrep\n",
      "-rwxr-xr-x  1 root root   27K Mar 14  2015 false\n",
      "-rwxr-xr-x  1 root root   11K Oct 25  2014 fgconsole\n",
      "-rwxr-xr-x  1 root root    29 Feb 13  2015 fgrep\n",
      "-rwxr-xr-x  1 root root   45K Mar 29  2015 findmnt\n",
      "-rwxr-xr-x  1 root root   35K Mar 24  2014 fuser\n",
      "-rwsr-xr-x  1 root root   31K Jan 21  2016 fusermount\n",
      "-rwxr-xr-x  1 root root   24K Sep  8  2014 getfacl\n",
      "-rwxr-xr-x  1 root root  199K Feb 13  2015 grep\n",
      "-rwxr-xr-x  2 root root  2.3K Sep 26  2014 gunzip\n",
      "-rwxr-xr-x  1 root root  5.8K Sep 26  2014 gzexe\n",
      "-rwxr-xr-x  1 root root   96K Sep 26  2014 gzip\n",
      "-rwxr-xr-x  1 root root  173K Jan  3  2015 hciconfig\n",
      "-rwxr-xr-x  1 root root   15K Nov  3  2013 hostname\n",
      "-rwxr-xr-x  1 root root  308K Sep  5  2014 ip\n",
      "-rwxr-xr-x  1 root root  215K Apr  8 17:08 journalctl\n",
      "-rwxr-xr-x  1 root root   11K Oct 25  2014 kbd_mode\n",
      "-rwxr-xr-x  1 root root   31K Nov 27  2014 keyctl\n",
      "-rwxr-xr-x  1 root root   23K Mar  6  2015 kill\n",
      "-rwxr-xr-x  1 root root  155K Sep 27  2014 kmod\n",
      "-rwxr-xr-x  1 root root  162K Sep  8  2014 less\n",
      "-rwxr-xr-x  1 root root  9.9K Sep  8  2014 lessecho\n",
      "lrwxrwxrwx  1 root root     8 Sep  8  2014 lessfile -> lesspipe\n",
      "-rwxr-xr-x  1 root root   20K Sep  8  2014 lesskey\n",
      "-rwxr-xr-x  1 root root  7.6K Sep  8  2014 lesspipe\n",
      "-rwxr-xr-x  1 root root   55K Mar 14  2015 ln\n",
      "-rwxr-xr-x  1 root root  109K Oct 25  2014 loadkeys\n",
      "-rwxr-xr-x  1 root root   51K May 17 11:07 login\n",
      "-rwxr-xr-x  1 root root  303K Apr  8 17:08 loginctl\n",
      "-rwxr-xr-x  1 root root  103K Jan 28  2017 lowntfs-3g\n",
      "-rwxr-xr-x  1 root root  116K Mar 14  2015 ls\n",
      "-rwxr-xr-x  1 root root   64K Mar 29  2015 lsblk\n",
      "lrwxrwxrwx  1 root root     4 Sep 27  2014 lsmod -> kmod\n",
      "-rwxr-xr-x  1 root root  275K Apr  8 17:08 machinectl\n",
      "-rwxr-xr-x  1 root root   79K Mar 14  2015 mkdir\n",
      "-rwxr-xr-x  1 root root   63K Mar 14  2015 mknod\n",
      "-rwxr-xr-x  1 root root   39K Mar 14  2015 mktemp\n",
      "-rwxr-xr-x  1 root root   39K Mar 29  2015 more\n",
      "-rwsr-xr-x  1 root root   40K Mar 29  2015 mount\n",
      "-rwxr-xr-x  1 root root   11K Apr  6  2015 mountpoint\n",
      "lrwxrwxrwx  1 root root    20 Dec 29  2015 mt -> /etc/alternatives/mt\n",
      "-rwxr-xr-x  1 root root   72K Feb 14  2016 mt-gnu\n",
      "-rwxr-xr-x  1 root root  128K Mar 14  2015 mv\n",
      "-rwxr-xr-x  1 root root  192K Jul 16  2014 nano\n",
      "lrwxrwxrwx  1 root root    20 Dec 29  2015 nc -> /etc/alternatives/nc\n",
      "-rwxr-xr-x  1 root root   27K Sep 11  2014 nc.traditional\n",
      "lrwxrwxrwx  1 root root    24 Dec 29  2015 netcat -> /etc/alternatives/netcat\n",
      "-rwxr-xr-x  1 root root  118K Nov  8  2014 netstat\n",
      "lrwxrwxrwx  1 root root     8 Nov  3  2013 nisdomainname -> hostname\n",
      "-rwsr-xr-x  1 root root  143K Jan 28  2017 ntfs-3g\n",
      "-rwxr-xr-x  1 root root   11K Jan 28  2017 ntfs-3g.probe\n",
      "-rwxr-xr-x  1 root root   71K Jan 28  2017 ntfs-3g.secaudit\n",
      "-rwxr-xr-x  1 root root   18K Jan 28  2017 ntfs-3g.usermap\n",
      "-rwxr-xr-x  1 root root   27K Jan 28  2017 ntfscat\n",
      "-rwxr-xr-x  1 root root   39K Jan 28  2017 ntfscluster\n",
      "-rwxr-xr-x  1 root root   35K Jan 28  2017 ntfscmp\n",
      "-rwxr-xr-x  1 root root   35K Jan 28  2017 ntfsfallocate\n",
      "-rwxr-xr-x  1 root root   39K Jan 28  2017 ntfsfix\n",
      "-rwxr-xr-x  1 root root   55K Jan 28  2017 ntfsinfo\n",
      "-rwxr-xr-x  1 root root   36K Jan 28  2017 ntfsls\n",
      "-rwxr-xr-x  1 root root   31K Jan 28  2017 ntfsmove\n",
      "-rwxr-xr-x  1 root root   35K Jan 28  2017 ntfstruncate\n",
      "-rwxr-xr-x  1 root root   47K Jan 28  2017 ntfswipe\n",
      "lrwxrwxrwx  1 root root     6 Oct 25  2014 open -> openvt\n",
      "-rwxr-xr-x  1 root root   19K Oct 25  2014 openvt\n",
      "lrwxrwxrwx  1 root root    14 Apr  6  2015 pidof -> /sbin/killall5\n",
      "-rwxr-xr-x  1 root root   44K Nov  8  2014 ping\n",
      "-rwxr-xr-x  1 root root   44K Nov  8  2014 ping6\n",
      "-rwxr-xr-x  1 root root   91K Mar  6  2015 ps\n",
      "-rwxr-xr-x  1 root root   31K Mar 14  2015 pwd\n",
      "lrwxrwxrwx  1 root root     4 Nov  5  2016 rbash -> bash\n",
      "-rwxr-xr-x  1 root root   39K Mar 14  2015 readlink\n",
      "-rwxr-xr-x  1 root root   59K Mar 14  2015 rm\n",
      "-rwxr-xr-x  1 root root   43K Mar 14  2015 rmdir\n",
      "lrwxrwxrwx  1 root root     4 Jul 16  2014 rnano -> nano\n",
      "-rwxr-xr-x  1 root root   19K Nov  8  2014 run-parts\n",
      "-rwxr-xr-x  1 root root   72K Sep 19  2016 sed\n",
      "-rwxr-xr-x  1 root root   36K Sep  8  2014 setfacl\n",
      "-rwxr-xr-x  1 root root   39K Oct 25  2014 setfont\n",
      "-rwxr-xr-x  1 root root   32K Apr 21  2015 setupcon\n",
      "lrwxrwxrwx  1 root root     4 Nov  8  2014 sh -> dash\n",
      "lrwxrwxrwx  1 root root     4 Dec 29  2015 sh.distrib -> dash\n",
      "-rwxr-xr-x  1 root root   31K Mar 14  2015 sleep\n",
      "-rwxr-xr-x  1 root root   77K Sep  5  2014 ss\n",
      "-rwxr-xr-x  1 root root   67K Mar 14  2015 stty\n",
      "-rwsr-xr-x  1 root root   40K May 17 11:07 su\n",
      "-rwxr-xr-x  1 root root   27K Mar 14  2015 sync\n",
      "-rwxr-xr-x  1 root root  527K Apr  8 17:08 systemctl\n",
      "lrwxrwxrwx  1 root root    20 Apr  8 17:08 systemd -> /lib/systemd/systemd\n",
      "-rwxr-xr-x  1 root root   39K Apr  8 17:08 systemd-ask-password\n",
      "-rwxr-xr-x  1 root root   31K Apr  8 17:08 systemd-escape\n",
      "-rwxr-xr-x  1 root root  235K Apr  8 17:08 systemd-inhibit\n",
      "-rwxr-xr-x  1 root root   35K Apr  8 17:08 systemd-machine-id-setup\n",
      "-rwxr-xr-x  1 root root   27K Apr  8 17:08 systemd-notify\n",
      "-rwxr-xr-x  1 root root   79K Apr  8 17:08 systemd-tmpfiles\n",
      "-rwxr-xr-x  1 root root   59K Apr  8 17:08 systemd-tty-ask-password-agent\n",
      "-rwxr-xr-x  1 root root   19K Mar 29  2015 tailf\n",
      "-rwxr-xr-x  1 root root  350K Oct 31  2016 tar\n",
      "-rwxr-xr-x  1 root root   11K Nov  8  2014 tempfile\n",
      "-rwxr-xr-x  1 root root   59K Mar 14  2015 touch\n",
      "-rwxr-xr-x  1 root root   27K Mar 14  2015 true\n",
      "-rwxr-xr-x  1 root root  307K Apr  8 17:08 udevadm\n",
      "-rwxr-xr-x  1 root root   14K Jan 21  2016 ulockmgr_server\n",
      "-rwsr-xr-x  1 root root   27K Mar 29  2015 umount\n",
      "-rwxr-xr-x  1 root root   31K Mar 14  2015 uname\n",
      "-rwxr-xr-x  2 root root  2.3K Sep 26  2014 uncompress\n",
      "-rwxr-xr-x  1 root root  2.7K Oct 25  2014 unicode_start\n",
      "-rwxr-xr-x  1 root root  116K Mar 14  2015 vdir\n",
      "-rwxr-xr-x  1 root root  5.3K Jul  8  2014 vmmouse_detect\n",
      "-rwxr-xr-x  1 root root   27K Mar 29  2015 wdctl\n",
      "-rwxr-xr-x  1 root root   946 Nov  8  2014 which\n",
      "lrwxrwxrwx  1 root root     8 Nov  3  2013 ypdomainname -> hostname\n",
      "-rwxr-xr-x  1 root root  1.9K Sep 26  2014 zcat\n",
      "-rwxr-xr-x  1 root root  1.8K Sep 26  2014 zcmp\n",
      "-rwxr-xr-x  1 root root  5.7K Sep 26  2014 zdiff\n",
      "-rwxr-xr-x  1 root root   140 Sep 26  2014 zegrep\n",
      "-rwxr-xr-x  1 root root   140 Sep 26  2014 zfgrep\n",
      "-rwxr-xr-x  1 root root  2.1K Sep 26  2014 zforce\n",
      "-rwxr-xr-x  1 root root  5.8K Sep 26  2014 zgrep\n",
      "-rwxr-xr-x  1 root root  2.0K Sep 26  2014 zless\n",
      "-rwxr-xr-x  1 root root  1.9K Sep 26  2014 zmore\n",
      "-rwxr-xr-x  1 root root  5.0K Sep 26  2014 znew\n"
     ]
    }
   ],
   "source": [
    "%%bash\n",
    "ls -alh /bin/"
   ]
  },
  {
   "cell_type": "markdown",
   "metadata": {
    "slideshow": {
     "slide_type": "subslide"
    }
   },
   "source": [
    "#### `/etc`\n",
    "\n",
    "Although the name comes from \"*et cetera*\" (it originally held all sorts of things), in modern times this folder is home to pretty much one type of file: system-wide configuration files. of all of these directories, this is the one that will most benefit you to know about.\n",
    "\n",
    "linux has a multi-level understanding of configuration:\n",
    "\n",
    "1. this command's configuration as I invoke it right now\n",
    "    1. example: command line flags (`myapp --env dev --db mysql`)\n",
    "2. \"nearby\" configuration\n",
    "    1. example: a configuration file (`myapp.conf`) in this directory\n",
    "3. user level configuration\n",
    "    1. example: a configuration file (`~/myapp/myapp.conf`) in a user's home directory\n",
    "4. system level configuration\n",
    "    1. example: a configuration file (`/etc/myapp/myapp.conf`)"
   ]
  },
  {
   "cell_type": "markdown",
   "metadata": {
    "slideshow": {
     "slide_type": "subslide"
    }
   },
   "source": [
    "#### `/etc` (cont.)\n",
    "\n",
    "the order above represents the order of importance -- the higher up in the list and closer you are to the user typing the command that is about to run, the more important that configuration is.\n",
    "\n",
    "**by default**, almost all behavior is controlled by the `/etc/` configuration. these files are created as you install packages (\"packages\" is a term loosely meaning software you can use)\n",
    "\n",
    "let's check out `/etc`\n",
    "\n",
    "```bash\n",
    "ls -alh /etc\n",
    "```"
   ]
  },
  {
   "cell_type": "code",
   "execution_count": 9,
   "metadata": {},
   "outputs": [
    {
     "name": "stdout",
     "output_type": "stream",
     "text": [
      "total 1.5M\n",
      "drwxr-xr-x 159 root  root    12K Aug 18 23:30 .\n",
      "drwxr-xr-x  25 root  root   4.0K Dec 30  2015 ..\n",
      "drwxr-xr-x   3 root  root   4.0K Dec 29  2015 acpi\n",
      "-rw-r--r--   1 root  root   3.0K Dec 29  2015 adduser.conf\n",
      "-rw-r--r--   1 root  root     45 Feb 27 22:08 adjtime\n",
      "-rw-r--r--   1 root  root    201 Dec 29  2015 aliases\n",
      "drwxr-xr-x   2 root  root    20K Jul 13 21:40 alternatives\n",
      "-rw-r--r--   1 root  root    401 Dec 28  2014 anacrontab\n",
      "-rw-r--r--   1 root  root   4.1K Oct 15  2014 analog.cfg\n",
      "drwxr-xr-x   8 root  root   4.0K Jul 28 22:50 apache2\n",
      "-rw-r--r--   1 root  root    112 Jun 20  2007 apg.conf\n",
      "drwxr-xr-x   3 root  root   4.0K Dec 29  2015 apm\n",
      "drwxr-xr-x   4 root  root   4.0K Jul 28 22:51 apparmor.d\n",
      "drwxr-xr-x   6 root  root   4.0K Sep 20  2016 apt\n",
      "-rw-r-----   1 root  daemon  144 Sep 30  2014 at.deny\n",
      "drwxr-xr-x   2 root  root   4.0K Feb  6  2016 ati\n",
      "drwxr-xr-x   2 root  root   4.0K Dec 29  2015 at-spi2\n",
      "drwxr-xr-x   3 root  root   4.0K Dec 29  2015 avahi\n",
      "-rw-r--r--   1 root  root   1.9K Nov 12  2014 bash.bashrc\n",
      "-rw-r--r--   1 root  root     45 Mar 22  2014 bash_completion\n",
      "drwxr-xr-x   2 root  root   4.0K Aug 10 19:59 bash_completion.d\n",
      "-rw-r--r--   1 root  root    367 May 18  2014 bindresvport.blacklist\n",
      "drwxr-xr-x   2 root  root   4.0K Aug 29  2015 binfmt.d\n",
      "drwxr-xr-x   2 root  root   4.0K Dec 29  2015 bluetooth\n",
      "-rw-r--r--   1 root  root   1.6K Aug 30  2014 bmon.conf\n",
      "drwxr-xr-x   2 root  root   4.0K Dec 29  2015 bonobo-activation\n",
      "drwxr-xr-x   3 root  root   4.0K Dec 29  2015 ca-certificates\n",
      "-rw-r--r--   1 root  root   8.9K Jan 16  2017 ca-certificates.conf\n",
      "-rw-r--r--   1 root  root   8.5K Jan 28  2016 ca-certificates.conf.dpkg-old\n",
      "drwxr-xr-x   2 root  root   4.0K Dec 29  2015 calendar\n",
      "drwxr-s---   2 root  dip    4.0K Dec 29  2015 chatscripts\n",
      "drwxr-xr-x   2 root  root   4.0K Mar 18 16:31 chromium.d\n",
      "drwxr-xr-x   2 root  root   4.0K Aug 29  2016 conky\n",
      "drwxr-xr-x   2 root  root   4.0K Dec 29  2015 console-setup\n",
      "-rw-r--r--   1 root  root   6.4K Apr  3  2015 cowpoke.conf\n",
      "drwxr-xr-x   2 root  root   4.0K Dec 29  2015 cracklib\n",
      "drwxr-xr-x   2 root  root   4.0K Jul 13 21:15 cron.d\n",
      "drwxr-xr-x   2 root  root   4.0K Aug 18 23:30 cron.daily\n",
      "drwxr-xr-x   2 root  root   4.0K Dec 29  2015 cron.hourly\n",
      "drwxr-xr-x   2 root  root   4.0K Dec 29  2015 cron.monthly\n",
      "-rw-r--r--   1 root  root    722 Jun 11  2015 crontab\n",
      "drwxr-xr-x   2 root  root   4.0K Dec 29  2015 cron.weekly\n",
      "drwxr-xr-x   5 root  lp     4.0K Aug 21 22:17 cups\n",
      "drwxr-xr-x   2 root  root   4.0K Dec 29  2015 cupshelpers\n",
      "-rw-r--r--   1 root  root    141 Jun 14  2010 daemon.conf\n",
      "drwxr-xr-x   4 root  root   4.0K Jan 16  2017 dbus-1\n",
      "-rw-r--r--   1 root  root   2.9K Mar 18  2015 debconf.conf\n",
      "-rw-r--r--   1 root  root      4 Jul 13 08:56 debian_version\n",
      "drwxr-xr-x   3 root  root   4.0K Aug  5 18:28 default\n",
      "-rw-r--r--   1 root  root    604 May 15  2012 deluser.conf\n",
      "-rw-r--r--   1 root  root    18K Dec 30  2015 devscripts.conf\n",
      "drwxr-xr-x   4 root  root   4.0K Jan 13  2016 dhcp\n",
      "drwxr-xr-x   2 root  root   4.0K Dec 29  2015 dictionaries-common\n",
      "drwxr-xr-x   2 root  root   4.0K Dec 29  2015 discover.conf.d\n",
      "-rw-r--r--   1 root  root    346 Sep  1  2014 discover-modprobe.conf\n",
      "drwxr-xr-x   3 root  root   4.0K Apr 17  2016 dkms\n",
      "-rw-r--r--   1 root  root   1.2K Jan  2  2014 dleyna-server-service.conf\n",
      "drwxr-xr-x   4 root  root   4.0K Jun  9  2016 dpkg\n",
      "-rw-r--r--   1 root  root   2.9K Jul 19  2013 dput.cf\n",
      "-rw-r--r--   1 root  root   3.7K Aug 19  2015 drirc\n",
      "drwxr-xr-x   3 root  root   4.0K Dec 29  2015 emacs\n",
      "drwxr-xr-x   3 root  root   4.0K Dec 30  2015 emacs24\n",
      "-rw-r--r--   1 root  root    312 Feb 17  2015 email-addresses\n",
      "-rw-r--r--   1 root  root      0 Dec 29  2015 environment\n",
      "drwxr-xr-x   3 root  root   4.0K Jun 19 20:53 exim4\n",
      "drwxr-xr-x   6 root  root   4.0K Jul 27 23:49 fail2ban\n",
      "drwxr-xr-x   2 root  root   4.0K Aug 18 23:30 firefox-esr\n",
      "drwxr-xr-x   4 root  root   4.0K Aug  9  2016 fonts\n",
      "drwxr-xr-x   2 root  root   4.0K Mar 24  2014 foomatic\n",
      "-rw-r--r--   1 root  root   1.1K Jul 10  2016 fstab\n",
      "-rw-r--r--   1 root  root   1.1K Jul 10  2016 fstab~\n",
      "-rw-r--r--   1 root  root    280 May 21  2015 fuse.conf\n",
      "-rw-r--r--   1 root  root   2.6K Feb  7  2014 gai.conf\n",
      "drwxr-xr-x   5 root  root   4.0K Dec 29  2015 gconf\n",
      "drwxr-xr-x   2 root  root   4.0K Dec 29  2015 geoclue\n",
      "drwxr-xr-x   4 root  root   4.0K Dec 29  2015 ghostscript\n",
      "drwxr-xr-x   3 root  root   4.0K Dec 29  2015 gimp\n",
      "drwxr-xr-x   2 root  root   4.0K Dec 29  2015 gnome-chess\n",
      "drwxr-xr-x   3 root  root   4.0K Dec 29  2015 gnome-vfs-2.0\n",
      "-rw-r--r--   1 root  root    11K Apr  4  2007 gnome-vfs-mime-magic\n",
      "drwxr-xr-x   2 root  root   4.0K Dec 29  2015 GNUstep\n",
      "drwxr-xr-x   2 root  root   4.0K Dec 29  2015 groff\n",
      "-rw-r--r--   1 root  root   1.2K Jul 13 21:09 group\n",
      "-rw-------   1 root  root   1.2K Apr 13 23:38 group-\n",
      "drwxr-xr-x   2 root  root   4.0K Dec 29  2015 grub.d\n",
      "-rw-r-----   1 root  shadow  985 Jul 13 21:09 gshadow\n",
      "-rw-------   1 root  root    975 Apr 13 23:38 gshadow-\n",
      "drwxr-xr-x   3 root  root   4.0K Dec 29  2015 gss\n",
      "drwxr-xr-x   2 root  root   4.0K Jul 28 22:50 gtk-2.0\n",
      "drwxr-xr-x   2 root  root   4.0K Dec 29  2015 gtk-3.0\n",
      "-rw-r--r--   1 root  root   6.6K Jul  9  2012 hddtemp.db\n",
      "-rw-r--r--   1 root  root      9 Aug  7  2006 host.conf\n",
      "-rw-r--r--   1 root  root      8 Dec 29  2015 hostname\n",
      "-rw-r--r--   1 root  root    187 Dec 29  2015 hosts\n",
      "-rw-r--r--   1 root  root    411 Dec 29  2015 hosts.allow\n",
      "-rw-r--r--   1 root  root    711 Dec 29  2015 hosts.deny\n",
      "drwxr-xr-x   2 root  root   4.0K Jan 16  2017 hp\n",
      "drwxr-xr-x   4 root  root   4.0K Aug 11  2016 icaclient\n",
      "dr-xr-xr-x   2 root  root   4.0K Aug 11  2016 icalicense\n",
      "drwxr-xr-x   5 root  root   4.0K Dec 29  2015 iceweasel\n",
      "-rw-r--r--   1 root  root    206 Aug 12  2014 idmapd.conf\n",
      "drwxr-xr-x   3 root  root   4.0K Dec 29  2015 ifplugd\n",
      "drwxr-xr-x   2 root  root   4.0K Jul 28 22:50 ImageMagick-6\n",
      "drwxr-xr-x   2 root  root   4.0K Jul 28 22:51 init\n",
      "drwxr-xr-x   2 root  root   4.0K Aug  5 18:28 init.d\n",
      "drwxr-xr-x   5 root  root   4.0K May  7 17:29 initramfs-tools\n",
      "-rw-r--r--   1 root  root   1.8K Aug  3  2014 inputrc\n",
      "drwxr-xr-x   3 root  root   4.0K Dec 29  2015 insserv\n",
      "-rw-r--r--   1 root  root    859 Nov 23  2012 insserv.conf\n",
      "drwxr-xr-x   2 root  root   4.0K May  8 21:28 insserv.conf.d\n",
      "drwxr-xr-x   2 root  root   4.0K Dec 29  2015 iproute2\n",
      "drwxr-xr-x   2 root  root   4.0K Dec 29  2015 iscsi\n",
      "-rw-r--r--   1 root  root     26 Aug 26  2015 issue\n",
      "-rw-r--r--   1 root  root     19 Aug 26  2015 issue.net\n",
      "drwxr-xr-x   3 root  root   4.0K Feb 27  2016 .java\n",
      "drwxr-xr-x   2 root  root   4.0K May  7 17:30 java-6-sun\n",
      "drwxr-xr-x   5 root  root   4.0K Feb 27  2016 java-8-openjdk\n",
      "drwxr-xr-x   2 root  root   4.0K Dec 29  2015 kbd\n",
      "drwxr-xr-x   6 root  root   4.0K Feb  6  2016 kernel\n",
      "-rw-r--r--   1 root  root    144 Dec 29  2015 kernel-img.conf\n",
      "drwxr-xr-x   2 root  root   4.0K Jun  2 00:22 ldap\n",
      "-rw-r--r--   1 root  root   139K Aug 18 23:30 ld.so.cache\n",
      "-rw-r--r--   1 root  root     34 Jun 17  2014 ld.so.conf\n",
      "drwxr-xr-x   2 root  root   4.0K Jun 19 20:53 ld.so.conf.d\n",
      "-rw-r--r--   1 root  root   3.6K Jan 31  2015 lftp.conf\n",
      "-rw-r--r--   1 root  root     26 Aug 30  2014 libao.conf\n",
      "-rw-r--r--   1 root  root    191 Sep  7  2014 libaudit.conf\n",
      "drwxr-xr-x   2 root  root   4.0K Dec 29  2015 libnl-3\n",
      "drwxr-xr-x   2 root  root   4.0K Nov  1  2014 libpaper.d\n",
      "drwxr-xr-x   2 root  root   4.0K Jul  8  2016 libreoffice\n",
      "drwxr-xr-x   2 root  root   4.0K Dec 29  2015 lightdm\n",
      "drwxr-xr-x   4 root  root   4.0K Dec 29  2015 lighttpd\n",
      "-rw-r--r--   1 root  root   1.3K Apr  9  2015 lintianrc\n",
      "-rw-r--r--   1 root  root   2.5K Aug 29  2015 locale.alias\n",
      "-rw-r--r--   1 root  root   8.9K Jun 19 20:53 locale.gen\n",
      "-rw-r--r--   1 root  root   3.5K Apr 16 00:48 localtime\n",
      "drwxr-xr-x   5 root  root   4.0K Jul 13 21:09 logcheck\n",
      "-rw-r--r--   1 root  root    11K Nov 20  2014 login.defs\n",
      "-rw-r--r--   1 root  root    599 Feb 19  2009 logrotate.conf\n",
      "drwxr-xr-x   2 root  root   4.0K Jul 28 22:51 logrotate.d\n",
      "-r--r--r--   1 root  root     33 Dec 29  2015 machine-id\n",
      "-rw-r--r--   1 root  root    111 Mar 10  2015 magic\n",
      "-rw-r--r--   1 root  root    111 Mar 10  2015 magic.mime\n",
      "-rw-r--r--   1 root  root    44K Aug 18 23:30 mailcap\n",
      "-rw-r--r--   1 root  root    449 Dec 28  2014 mailcap.order\n",
      "-rw-r--r--   1 root  root      8 Jun 19 20:53 mailname\n",
      "-rw-r--r--   1 root  root    125 Mar 15  2015 mail.rc\n",
      "-rw-r--r--   1 root  root   5.1K Dec 31  2014 manpath.config\n",
      "-rw-r--r--   1 root  root    26K Feb 13  2015 matplotlibrc\n",
      "drwxr-xr-x   3 root  root   4.0K Sep 14  2016 mercurial\n",
      "-rw-r--r--   1 root  root    24K Dec 28  2014 mime.types\n",
      "-rw-r--r--   1 root  root    956 Feb 24  2015 mke2fs.conf\n",
      "drwxr-xr-x   2 root  root   4.0K May  7 17:27 modprobe.d\n",
      "-rw-r--r--   1 root  root    195 Dec 29  2015 modules\n",
      "drwxr-xr-x   2 root  root   4.0K May  7 17:28 modules-load.d\n",
      "-rw-r--r--   1 root  root   2.1K Nov 13  2013 mongodb.conf\n",
      "-rw-r--r--   1 root  root    286 Aug 26  2015 motd\n",
      "lrwxrwxrwx   1 root  root     12 Dec 29  2015 mtab -> /proc/mounts\n",
      "-rw-r--r--   1 root  root   4.5K Dec  4  2014 Muttrc\n",
      "drwxr-xr-x   2 root  root   4.0K Dec 29  2015 Muttrc.d\n",
      "drwxr-xr-x   3 root  root   4.0K Jul 28 22:51 mysql\n",
      "-rw-r--r--   1 root  root   8.3K Jul 16  2014 nanorc\n",
      "drwxr-xr-x   2 neo4j adm    4.0K Aug  5 18:28 neo4j\n",
      "-rw-r--r--   1 root  root    767 Sep  8  2014 netconfig\n",
      "-rw-r--r--   1 root  root   2.1K Nov 23  2006 netscsid.conf\n",
      "drwxr-xr-x   7 root  root   4.0K Dec 29  2015 network\n",
      "drwxr-xr-x   6 root  root   4.0K Dec 29  2015 NetworkManager\n",
      "-rw-r--r--   1 root  root     60 Dec 29  2015 networks\n",
      "drwxr-xr-x   2 root  root   4.0K Dec 29  2015 newt\n",
      "drwxr-xr-x   6 root  root   4.0K Jul 13 21:51 nginx\n",
      "-rw-r--r--   1 root  root    540 Dec 29  2015 nsswitch.conf\n",
      "-rw-r--r--   1 root  root   2.0K Jul 22  2016 ntp.conf\n",
      "drwxr-xr-x   2 root  root   4.0K Dec 29  2015 openal\n",
      "drwxr-xr-x   2 root  root   4.0K Dec 29  2015 opt\n",
      "lrwxrwxrwx   1 root  root     21 Jul 13 09:01 os-release -> ../usr/lib/os-release\n",
      "drwxr-xr-x   2 root  root   4.0K Dec 29  2015 PackageKit\n",
      "-rw-r--r--   1 root  root    552 Aug  9  2014 pam.conf\n",
      "drwxr-xr-x   2 root  root   4.0K Jul 28 22:51 pam.d\n",
      "-rw-r--r--   1 root  root      7 Dec 29  2015 papersize\n",
      "-rw-r--r--   1 root  root   2.5K Jul 13 21:09 passwd\n",
      "-rw-------   1 root  root   2.5K Jul 13 21:09 passwd-\n",
      "drwxr-xr-x   5 root  root   4.0K Jul 28 22:50 perl\n",
      "drwxr-xr-x   5 root  root   4.0K Jul 13 21:14 php5\n",
      "drwxr-xr-x   2 root  root   4.0K Sep 12  2016 plymouth\n",
      "drwxr-xr-x   3 root  root   4.0K Aug 13  2016 pm\n",
      "-rw-r--r--   1 root  root   7.5K Dec 29  2015 pnm2ppa.conf\n",
      "drwxr-xr-x   5 root  root   4.0K Dec 29  2015 polkit-1\n",
      "-rw-r--r--   1 root  root    351 Dec 29  2015 popularity-contest.conf\n",
      "drwxr-xr-x   3 root  root   4.0K Sep  5  2016 postgresql\n",
      "drwxr-xr-x   3 root  root   4.0K Jan 16  2017 postgresql-common\n",
      "drwxr-xr-x   7 root  root   4.0K Jun 17 17:31 ppp\n",
      "-rw-r--r--   1 root  root    761 Oct 22  2014 profile\n",
      "drwxr-xr-x   2 root  root   4.0K Dec 29  2015 profile.d\n",
      "-rw-r--r--   1 root  root   2.9K Oct 20  2014 protocols\n",
      "drwxr-xr-x   2 root  root   4.0K Dec 29  2015 pulse\n",
      "drwxr-xr-x   2 root  root   4.0K Jul 20  2016 purple\n",
      "-rw-------   1 root  root      0 Dec 29  2015 .pwd.lock\n",
      "drwxr-xr-x   2 root  root   4.0K Dec 29  2015 python\n",
      "drwxr-xr-x   2 root  root   4.0K Sep 18  2016 python2.7\n",
      "drwxr-xr-x   2 root  root   4.0K Dec 29  2015 python3\n",
      "drwxr-xr-x   2 root  root   4.0K Dec 29  2015 python3.4\n",
      "drwxr-xr-x   2 root  root   4.0K Mar 13 23:31 R\n",
      "drwxr-xr-x   2 root  root   4.0K Jul 13 21:09 rc0.d\n",
      "drwxr-xr-x   2 root  root   4.0K Jul 13 21:09 rc1.d\n",
      "drwxr-xr-x   2 root  root   4.0K Jul 13 21:09 rc2.d\n",
      "drwxr-xr-x   2 root  root   4.0K Jul 13 21:09 rc3.d\n",
      "drwxr-xr-x   2 root  root   4.0K Jul 13 21:09 rc4.d\n",
      "drwxr-xr-x   2 root  root   4.0K Jul 13 21:09 rc5.d\n",
      "drwxr-xr-x   2 root  root   4.0K Jul 13 21:09 rc6.d\n",
      "-rwxr-xr-x   1 root  root    306 Dec 29  2015 rc.local\n",
      "drwxr-xr-x   2 root  root   4.0K Sep 20  2016 rcS.d\n",
      "drwxr-xr-x   2 root  root   4.0K May  7 17:29 rdnssd\n",
      "-rw-r--r--   1 root  root   3.1K Jan  4  2015 reportbug.conf\n",
      "-rw-r--r--   1 root  root   1.9K Nov 27  2014 request-key.conf\n",
      "drwxr-xr-x   2 root  root   4.0K Feb  6  2016 request-key.d\n",
      "drwxr-xr-x   3 root  root   4.0K Dec 29  2015 resolvconf\n",
      "-rw-r--r--   1 root  root     53 Aug 10 19:52 resolv.conf\n",
      "-rwxr-xr-x   1 root  root    268 Nov  8  2014 rmt\n",
      "-rw-r--r--   1 root  root    887 Oct 20  2014 rpc\n",
      "-rw-r--r--   1 root  root   2.6K Aug 29  2015 rsyslog.conf\n",
      "drwxr-xr-x   2 root  root   4.0K Aug 29  2015 rsyslog.d\n",
      "-rw-r--r--   1 root  root   5.0K Mar 15  2015 rygel.conf\n",
      "drwxr-xr-x   3 root  root   4.0K Jul 28 22:51 samba\n",
      "drwxr-xr-x   3 root  root    12K May  7 17:30 sane.d\n",
      "lrwxrwxrwx   1 root  root     19 Apr 12 07:08 sbt -> /usr/share/sbt/conf\n",
      "-rw-r--r--   1 root  root   3.6K Jul 26  2014 screenrc\n",
      "-rw-r--r--   1 root  root   4.0K Nov 20  2014 securetty\n",
      "drwxr-xr-x   4 root  root   4.0K Jul 28 22:48 security\n",
      "drwxr-xr-x   2 root  root   4.0K Dec 29  2015 selinux\n",
      "-rw-r--r--   1 root  root    11K May  8  2014 sensors3.conf\n",
      "drwxr-xr-x   2 root  root   4.0K Dec 29  2015 sensors.d\n",
      "-rw-r--r--   1 root  root    20K Oct 20  2014 services\n",
      "drwxr-xr-x   3 root  root   4.0K Dec 29  2015 sgml\n",
      "-rw-r-----   1 root  shadow 1.5K Jul 13 21:09 shadow\n",
      "-rw-------   1 root  root   1.5K Jul 13 21:09 shadow-\n",
      "-rw-r--r--   1 root  root     89 Sep 20  2016 shells\n",
      "drwxr-xr-x   2 root  root   4.0K Jan 16  2017 skel\n",
      "drwxr-xr-x   3 root  root   4.0K Dec 29  2015 sound\n",
      "drwxr-xr-x   4 root  root   4.0K Dec 29  2015 speech-dispatcher\n",
      "drwxr-xr-x   2 root  root   4.0K Jul  6 23:35 ssh\n",
      "drwxr-xr-x   4 root  root   4.0K Jan 27  2017 ssl\n",
      "-rw-r--r--   1 root  root    771 Jun  9  2012 staff-group-for-usr-local\n",
      "-rw-r--r--   1 root  root    613 Jul 13 21:09 subgid\n",
      "-rw-------   1 root  root    593 Apr 13 23:38 subgid-\n",
      "-rw-r--r--   1 root  root    613 Jul 13 21:09 subuid\n",
      "-rw-------   1 root  root    593 Apr 13 23:38 subuid-\n",
      "-r--r-----   1 root  root    669 Mar 11  2015 sudoers\n",
      "drwxr-xr-x   2 root  root   4.0K Jun  2 00:22 sudoers.d\n",
      "-rw-r--r--   1 root  root   2.1K Mar  6  2015 sysctl.conf\n",
      "drwxr-xr-x   2 root  root   4.0K May  7 17:28 sysctl.d\n",
      "drwxr-xr-x   6 root  root   4.0K May  7 17:28 systemd\n",
      "drwxr-xr-x   2 root  root   4.0K Aug 29  2016 teamviewer\n",
      "drwxr-xr-x   2 root  root   4.0K Dec 29  2015 terminfo\n",
      "drwxr-xr-x   3 root  root   4.0K Dec 29  2015 texmf\n",
      "drwxr-xr-x   3 root  root   4.0K Jun 15 23:39 thunderbird\n",
      "-rw-r--r--   1 root  root     17 Apr 16 00:48 timezone\n",
      "drwxr-xr-x   2 root  root   4.0K Dec 29  2015 timidity\n",
      "drwxr-xr-x   2 root  root   4.0K Aug 29  2015 tmpfiles.d\n",
      "-rw-r--r--   1 root  root   1.3K May 26  2014 ucf.conf\n",
      "drwxr-xr-x   4 root  root   4.0K May  7 17:27 udev\n",
      "drwxr-xr-x   2 root  root   4.0K Sep 30  2014 udisks2\n",
      "drwxr-xr-x   3 root  root   4.0K Dec 29  2015 ufw\n",
      "-rw-r--r--   1 root  root    279 Jun 13  2013 updatedb.conf\n",
      "drwxr-xr-x   2 root  root   4.0K Dec 29  2015 UPower\n",
      "-rw-r--r--   1 root  root    888 Aug 12  2014 usb_modeswitch.conf\n",
      "drwxr-xr-x   2 root  root   4.0K Apr 14  2015 usb_modeswitch.d\n",
      "drwxr-xr-x   4 root  root   4.0K Sep 11  2016 uwsgi\n",
      "drwxr-xr-x   2 root  root   4.0K Apr 28 13:22 vbox\n",
      "-rw-r--r--   1 root  root     51 Nov  2  2015 vdpau_wrapper.cfg\n",
      "drwxr-xr-x   2 root  root   4.0K May  7 17:29 vim\n",
      "drwxr-xr-x   2 root  root   4.0K Jul 28 22:51 w3m\n",
      "-rw-r--r--   1 root  root   4.7K Oct 27  2014 wgetrc\n",
      "drwxr-xr-x   2 root  root   4.0K Dec 29  2015 wildmidi\n",
      "-rw-r--r--   1 root  root   1.4K Jan  9  2007 wodim.conf\n",
      "drwxr-xr-x   2 root  root   4.0K Sep 18  2016 wpa_supplicant\n",
      "drwxr-xr-x  10 root  root   4.0K Dec 29  2015 X11\n",
      "drwxr-xr-x   2 root  root   4.0K Dec 29  2015 xboard\n",
      "drwxr-xr-x   5 root  root   4.0K Mar 14 09:00 xdg\n",
      "drwxr-xr-x   2 root  root   4.0K Dec 29  2015 xml\n"
     ]
    }
   ],
   "source": [
    "%%bash\n",
    "ls -alh /etc"
   ]
  },
  {
   "cell_type": "markdown",
   "metadata": {
    "slideshow": {
     "slide_type": "subslide"
    }
   },
   "source": [
    "#### `/etc` (cont.)\n",
    "\n",
    "generally speaking, you should not mess around with files in `/etc`.\n",
    "\n",
    "generally speaking.\n",
    "\n",
    "that being said, eventually they will come up and you'll have to do something about it. You'll want to know how to allow a made-up user access a postgres database, or how to allow `http` access to a neo4j database, or how to restrict access to you cloud computer to *only* via ssh key authentication (a really good idea!)."
   ]
  },
  {
   "cell_type": "markdown",
   "metadata": {
    "slideshow": {
     "slide_type": "subslide"
    }
   },
   "source": [
    "#### `/home`\n",
    "\n",
    "the linux os developed out of an environment where multiple users utilized the same resources (an im-personal computer, so to speak), so keeping different user's items separate was important.\n",
    "\n",
    "the `/home` directory (sometimes called `/user`) contains seperate, isolated directories for each user of the computer.\n",
    "\n",
    "it is considered to be best practice to physically or \"virtually physically\" isolate these directories from everything else. this is so that you can copy your profile and configuration files from one installation / distribution / computer to the next and keep “your” stuff."
   ]
  },
  {
   "cell_type": "markdown",
   "metadata": {
    "slideshow": {
     "slide_type": "subslide"
    }
   },
   "source": [
    "#### `/home` (cont.)\n",
    "\n",
    "as I said, every user has a director in home. see if your user (ubuntu) has one:\n",
    "\n",
    "```bash\n",
    "ls -alh /home\n",
    "```"
   ]
  },
  {
   "cell_type": "code",
   "execution_count": 10,
   "metadata": {},
   "outputs": [
    {
     "name": "stdout",
     "output_type": "stream",
     "text": [
      "total 28K\n",
      "drwxr-xr-x  4 root      root      4.0K Dec 29  2015 .\n",
      "drwxr-xr-x 25 root      root      4.0K Dec 30  2015 ..\n",
      "drwx------  2 root      root       16K Dec 29  2015 lost+found\n",
      "drwxr-xr-x 69 zlamberty zlamberty 4.0K Aug 14 22:17 zlamberty\n"
     ]
    }
   ],
   "source": [
    "%%bash\n",
    "ls -alh /home"
   ]
  },
  {
   "cell_type": "markdown",
   "metadata": {
    "slideshow": {
     "slide_type": "subslide"
    }
   },
   "source": [
    "#### `/mnt`\n",
    "\n",
    "Short for \"mount\", this directory is where external or network drives are \"mounted\" (*i.e.* networked and attached to the file system so that they can be accessed). If you were to plug in a USB drive to a linux laptop or desktop, for example, those files would be \"mounted\" to the file system and visible from this directory.\n",
    "\n",
    "You probably don't have anything mounted to your cloud computer, but take a peak:"
   ]
  },
  {
   "cell_type": "code",
   "execution_count": 15,
   "metadata": {},
   "outputs": [
    {
     "name": "stdout",
     "output_type": "stream",
     "text": [
      "total 8.0K\n",
      "drwxr-xr-x  2 root root 4.0K Jul 10  2016 .\n",
      "drwxr-xr-x 25 root root 4.0K Dec 30  2015 ..\n"
     ]
    }
   ],
   "source": [
    "%%bash\n",
    "ls -alh /mnt"
   ]
  },
  {
   "cell_type": "markdown",
   "metadata": {
    "slideshow": {
     "slide_type": "subslide"
    }
   },
   "source": [
    "#### `/opt`\n",
    "\n",
    "historically, this directory contained \"optional\" add-on software packages. This is still often the place on the filesystem you or your sysad might install \"special\" things (e.g. Citrix for making remote desktop connections, or special text editors). These things are sometimes also installed in another directory (`/usr/local`), so this isn't a hard-and-fast rule.\n",
    "\n",
    "*Note: not a lot of people know that this exists or that this is what it should be used for!\n",
    "If there is a thing you want to install and you think \"where should I put this...\" and you think maybe other users might also use it, a great answer is `/opt`*\n",
    "\n",
    "what's in your `/opt`?\n",
    "\n",
    "```bash\n",
    "ls -alh /opt\n",
    "```"
   ]
  },
  {
   "cell_type": "code",
   "execution_count": 20,
   "metadata": {},
   "outputs": [
    {
     "name": "stdout",
     "output_type": "stream",
     "text": [
      "total 28M\n",
      "drwxr-xr-x 10 root      root      4.0K Jan 29  2017 .\n",
      "drwxr-xr-x 25 root      root      4.0K Dec 30  2015 ..\n",
      "drwxr-xr-x  3 root      root      4.0K Jun 26  2016 backup\n",
      "drwxr-xr-x  3 root      root      4.0K Aug 11  2016 Citrix\n",
      "drwxr-xr-x  8 root      root      4.0K Oct 19  2016 firefox\n",
      "drwxr-xr-x  3 root      root      4.0K Sep 20  2016 google\n",
      "drwxr-xr-x  3 zlamberty zlamberty 4.0K Apr  4  2016 IntelliJ\n",
      "lrwxrwxrwx  1 root      root        37 Jan 29  2017 robomongo -> robomongo-0.9.0-linux-x86_64-0786489/\n",
      "drwxr-xr-x  4 root      root      4.0K Jan 29  2017 robomongo-0.9.0-linux-x86_64-0786489\n",
      "-rw-r--r--  1 root      root       28M Jan 29  2017 robomongo-0.9.0-linux-x86_64-0786489.tar.gz\n",
      "drwxr-xr-x  4 root      root      4.0K Jan 29  2017 Rocket.Chat+\n",
      "drwxr-xr-x  6 root      root      4.0K Mar 23  2016 wine-devel\n"
     ]
    }
   ],
   "source": [
    "%%bash\n",
    "ls -alh /opt"
   ]
  },
  {
   "cell_type": "markdown",
   "metadata": {
    "slideshow": {
     "slide_type": "subslide"
    }
   },
   "source": [
    "#### `/tmp`\n",
    "\n",
    "the name \"tmp\" is (as you guessed) short for \"temporary. this directory provides an ephemeral (*i.e.* it gets wiped with some frequency, usually on restart) bucket for any temporary thing you may want to save. \n",
    "\n",
    "This includes cache files (spotify or chrome downloads), backups of files (autosaved by some editors), *.etc*. You should feel absolutely comfortable using it in your work with the obvious caveat that you shouldn't put anything **important** in a place called \"temporary\"\n",
    "\n",
    "what's already in your temporary folder?\n",
    "\n",
    "```bash\n",
    "ls -alh /tmp\n",
    "```"
   ]
  },
  {
   "cell_type": "code",
   "execution_count": 21,
   "metadata": {},
   "outputs": [
    {
     "name": "stdout",
     "output_type": "stream",
     "text": [
      "total 3.6M\n",
      "drwxrwxrwt 41 root      root       48K Aug 21 22:43 .\n",
      "drwxr-xr-x 25 root      root      4.0K Dec 30  2015 ..\n",
      "-rw-r--r--  1 zlamberty zlamberty 9.4K Aug 20 17:21 01714Y.mediaplayer-cover\n",
      "-rw-------  1 zlamberty zlamberty    0 Aug 20 14:26 02AZ4Y.mediaplayer-cover\n",
      "-rw-r--r--  1 zlamberty zlamberty 7.8K Aug 11 13:50 03IF4Y.mediaplayer-cover\n",
      "-rw-r--r--  1 zlamberty zlamberty 5.2K Aug 11 16:41 09VM4Y.mediaplayer-cover\n",
      "-rw-r--r--  1 zlamberty zlamberty 6.0K Aug 11 13:38 0APV4Y.mediaplayer-cover\n",
      "-rw-r--r--  1 zlamberty zlamberty 5.5K Aug 20 16:42 0RND5Y.mediaplayer-cover\n",
      "-rw-r--r--  1 zlamberty zlamberty  11K Aug 16 23:28 0VG44Y.mediaplayer-cover\n",
      "-rw-r--r--  1 zlamberty zlamberty 9.7K Aug 11 10:02 0XCM4Y.mediaplayer-cover\n",
      "-rw-------  1 zlamberty zlamberty    0 Aug 11 19:57 13JQ4Y.mediaplayer-cover\n",
      "-rw-r--r--  1 zlamberty zlamberty 6.4K Aug 11 14:14 14DI4Y.mediaplayer-cover\n",
      "-rw-r--r--  1 zlamberty zlamberty 5.3K Aug 11 11:25 14XV4Y.mediaplayer-cover\n",
      "-rw-r--r--  1 zlamberty zlamberty 6.9K Aug 20 17:22 163B5Y.mediaplayer-cover\n",
      "-rw-r--r--  1 zlamberty zlamberty 9.3K Aug 20 14:05 187E5Y.mediaplayer-cover\n",
      "-rw-r--r--  1 zlamberty zlamberty 3.5K Aug 11 15:09 19AV4Y.mediaplayer-cover\n",
      "-rw-r--r--  1 zlamberty zlamberty  11K Aug 16 23:29 1DX24Y.mediaplayer-cover\n",
      "-rw-r--r--  1 zlamberty zlamberty 8.2K Aug 11 14:20 1FSO4Y.mediaplayer-cover\n",
      "-rw-------  1 zlamberty zlamberty    0 Aug 11 16:30 1HJK4Y.mediaplayer-cover\n",
      "-rw-r--r--  1 zlamberty zlamberty 9.7K Aug 11 11:33 1X3I4Y.mediaplayer-cover\n",
      "-rw-r--r--  1 zlamberty zlamberty 8.2K Aug 11 16:06 21QJ4Y.mediaplayer-cover\n",
      "-rw-r--r--  1 zlamberty zlamberty 9.2K Aug 11 18:43 2A3F4Y.mediaplayer-cover\n",
      "-rw-r--r--  1 zlamberty zlamberty 6.8K Aug 20 14:23 2FGZ4Y.mediaplayer-cover\n",
      "-rw-r--r--  1 zlamberty zlamberty 6.1K Aug 20 16:22 2MTA5Y.mediaplayer-cover\n",
      "-rw-------  1 zlamberty zlamberty    0 Aug 11 21:28 2RBO4Y.mediaplayer-cover\n",
      "-rw-r--r--  1 zlamberty zlamberty 5.1K Aug 11 12:10 31HK4Y.mediaplayer-cover\n",
      "-rw-r--r--  1 zlamberty zlamberty 6.0K Aug 20 15:02 33I84Y.mediaplayer-cover\n",
      "-rw-r--r--  1 zlamberty zlamberty 6.6K Aug 11 10:28 354J4Y.mediaplayer-cover\n",
      "-rw-r--r--  1 zlamberty zlamberty 9.3K Aug 11 13:04 37FL4Y.mediaplayer-cover\n",
      "-rw-r--r--  1 zlamberty zlamberty 7.8K Aug 20 14:50 3C2C5Y.mediaplayer-cover\n",
      "-rw-r--r--  1 zlamberty zlamberty 9.0K Aug 20 17:21 3E4Z4Y.mediaplayer-cover\n",
      "-rw-r--r--  1 zlamberty zlamberty 7.9K Aug 11 19:22 3EFN4Y.mediaplayer-cover\n",
      "-rw-------  1 zlamberty zlamberty    0 Aug 11 17:00 3PND4Y.mediaplayer-cover\n",
      "-rw-r--r--  1 zlamberty zlamberty 7.6K Aug 20 14:51 3V6H5Y.mediaplayer-cover\n",
      "-rw-r--r--  1 zlamberty zlamberty 7.0K Aug 11 15:22 3Y2N4Y.mediaplayer-cover\n",
      "-rw-------  1 zlamberty zlamberty    0 Aug 11 16:27 3Y6Q4Y.mediaplayer-cover\n",
      "-rw-r--r--  1 zlamberty zlamberty 8.0K Aug 20 16:53 40CG5Y.mediaplayer-cover\n",
      "-rw-r--r--  1 zlamberty zlamberty 2.9K Aug 11 10:19 426L4Y.mediaplayer-cover\n",
      "-rw-r--r--  1 zlamberty zlamberty 7.0K Aug 11 12:56 45OT4Y.mediaplayer-cover\n",
      "-rw-r--r--  1 zlamberty zlamberty 5.9K Aug 20 14:26 4GM24Y.mediaplayer-cover\n",
      "-rw-r--r--  1 zlamberty zlamberty 8.7K Aug 16 23:29 4RCH5Y.mediaplayer-cover\n",
      "-rw-r--r--  1 zlamberty zlamberty  11K Aug 20 19:52 4T384Y.mediaplayer-cover\n",
      "-rw-r--r--  1 zlamberty zlamberty 9.4K Aug 11 11:55 4VSA4Y.mediaplayer-cover\n",
      "-rw-r--r--  1 zlamberty zlamberty 3.7K Aug 11 14:57 545F4Y.mediaplayer-cover\n",
      "-rw-r--r--  1 zlamberty zlamberty 2.6K Aug 11 18:24 54HA4Y.mediaplayer-cover\n",
      "-rw-------  1 zlamberty zlamberty    0 Aug 11 22:30 56CN4Y.mediaplayer-cover\n",
      "-rw-r--r--  1 zlamberty zlamberty 9.8K Aug 16 23:30 56GW4Y.mediaplayer-cover\n",
      "-rw-r--r--  1 zlamberty zlamberty  15K Aug 11 11:18 57AI4Y.mediaplayer-cover\n",
      "-rw-r--r--  1 zlamberty zlamberty 8.0K Aug 20 16:25 59CC5Y.mediaplayer-cover\n",
      "-rw-r--r--  1 zlamberty zlamberty 5.8K Aug 16 23:27 5CKX4Y.mediaplayer-cover\n",
      "-rw-r--r--  1 zlamberty zlamberty 8.5K Aug 20 17:22 5KEI5Y.mediaplayer-cover\n",
      "-rw-r--r--  1 zlamberty zlamberty  13K Aug 11 20:02 5NSK4Y.mediaplayer-cover\n",
      "-rw-r--r--  1 zlamberty zlamberty 7.9K Aug 11 17:56 5ODH4Y.mediaplayer-cover\n",
      "-rw-r--r--  1 zlamberty zlamberty 9.0K Aug 20 17:22 60D84Y.mediaplayer-cover\n",
      "-rw-r--r--  1 zlamberty zlamberty 6.5K Aug 16 23:28 61C24Y.mediaplayer-cover\n",
      "-rw-r--r--  1 zlamberty zlamberty 7.4K Aug 20 16:27 62JY4Y.mediaplayer-cover\n",
      "-rw-------  1 zlamberty zlamberty    0 Aug 11 16:16 64WP4Y.mediaplayer-cover\n",
      "-rw-------  1 zlamberty zlamberty    0 Aug 11 21:56 68HD4Y.mediaplayer-cover\n",
      "-rw-r--r--  1 zlamberty zlamberty 2.6K Aug 11 11:22 6DHU4Y.mediaplayer-cover\n",
      "-rw-r--r--  1 zlamberty zlamberty 2.6K Aug 11 12:21 6I7S4Y.mediaplayer-cover\n",
      "-rw-------  1 zlamberty zlamberty    0 Aug 11 19:13 6J1A4Y.mediaplayer-cover\n",
      "-rw-r--r--  1 zlamberty zlamberty 9.0K Aug 20 17:00 6WTF5Y.mediaplayer-cover\n",
      "-rw-r--r--  1 zlamberty zlamberty 5.0K Aug 11 18:00 6XSJ4Y.mediaplayer-cover\n",
      "-rw-r--r--  1 zlamberty zlamberty 7.0K Aug 16 23:28 72TW4Y.mediaplayer-cover\n",
      "-rw-r--r--  1 zlamberty zlamberty 2.6K Aug 11 10:46 7A493Y.mediaplayer-cover\n",
      "-rw-r--r--  1 zlamberty zlamberty  11K Aug 20 14:08 7A5D5Y.mediaplayer-cover\n",
      "-rw-r--r--  1 zlamberty zlamberty  12K Aug 11 13:22 7BTE4Y.mediaplayer-cover\n",
      "-rw-r--r--  1 zlamberty zlamberty 7.4K Aug 20 16:18 7DTW4Y.mediaplayer-cover\n",
      "-rw-r--r--  1 zlamberty zlamberty 3.7K Aug 11 21:47 7FVL4Y.mediaplayer-cover\n",
      "-rw-r--r--  1 zlamberty zlamberty 3.7K Aug 19 15:43 7GA14Y.mediaplayer-cover\n",
      "-rw-r--r--  1 zlamberty zlamberty 6.4K Aug 11 13:45 7LHH4Y.mediaplayer-cover\n",
      "-rw-r--r--  1 zlamberty zlamberty 3.7K Aug 11 13:17 7Q4K4Y.mediaplayer-cover\n",
      "-rw-r--r--  1 zlamberty zlamberty 6.4K Aug 11 20:32 7X3H4Y.mediaplayer-cover\n",
      "-rw-r--r--  1 zlamberty zlamberty 5.1K Aug 11 20:55 87ET4Y.mediaplayer-cover\n",
      "-rw-r--r--  1 zlamberty zlamberty 5.4K Aug 20 14:18 8A6X4Y.mediaplayer-cover\n",
      "-rw-r--r--  1 zlamberty zlamberty 8.0K Aug 11 12:46 8E9M4Y.mediaplayer-cover\n",
      "-rw-r--r--  1 zlamberty zlamberty 6.9K Aug 20 17:11 8OQY4Y.mediaplayer-cover\n",
      "-rw-------  1 zlamberty zlamberty 158K Aug 20 14:05 8zAV2vvyiK\n",
      "-rw-r--r--  1 zlamberty zlamberty 8.5K Aug 20 16:57 8ZEE5Y.mediaplayer-cover\n",
      "-rw-r--r--  1 zlamberty zlamberty  13K Aug 16 23:28 91674Y.mediaplayer-cover\n",
      "-rw-r--r--  1 zlamberty zlamberty 6.6K Aug 20 16:30 91QG5Y.mediaplayer-cover\n",
      "-rw-r--r--  1 zlamberty zlamberty 6.1K Aug 20 16:22 98VA5Y.mediaplayer-cover\n",
      "-rw-------  1 zlamberty zlamberty    0 Aug 11 22:26 9ARB4Y.mediaplayer-cover\n",
      "-rw-r--r--  1 zlamberty zlamberty 9.4K Aug 11 09:58 9FOK4Y.mediaplayer-cover\n",
      "-rw-r--r--  1 zlamberty zlamberty 4.6K Aug 11 10:24 9JPD4Y.mediaplayer-cover\n",
      "-rw-r--r--  1 zlamberty zlamberty 9.3K Aug 11 10:16 9MPQ4Y.mediaplayer-cover\n",
      "-rw-------  1 zlamberty zlamberty    0 Aug 11 19:16 9MUP4Y.mediaplayer-cover\n",
      "-rw-r--r--  1 zlamberty zlamberty 5.8K Aug 11 10:07 9NKK4Y.mediaplayer-cover\n",
      "-rw-r--r--  1 zlamberty zlamberty 5.7K Aug 11 21:04 9SSD4Y.mediaplayer-cover\n",
      "-rw-r--r--  1 zlamberty zlamberty 6.4K Aug 11 14:42 9UMK4Y.mediaplayer-cover\n",
      "-rw-r--r--  1 zlamberty zlamberty  11K Aug 16 23:29 A2ZZ4Y.mediaplayer-cover\n",
      "-rw-------  1 zlamberty zlamberty    0 Aug 11 16:34 A5BA4Y.mediaplayer-cover\n",
      "-rw-r--r--  1 zlamberty zlamberty 6.4K Aug 11 12:50 AHAL4Y.mediaplayer-cover\n",
      "-rw-r--r--  1 zlamberty zlamberty 3.7K Aug 20 14:00 AMZH5Y.mediaplayer-cover\n",
      "-rw-r--r--  1 zlamberty zlamberty 7.2K Aug 16 23:29 ASR54Y.mediaplayer-cover\n",
      "-rw-r--r--  1 zlamberty zlamberty 7.1K Aug 20 16:16 B6R04Y.mediaplayer-cover\n",
      "-rw-------  1 zlamberty zlamberty 164K Aug 20 14:06 BCYDzPpI5E\n",
      "-rw-r--r--  1 zlamberty zlamberty 6.8K Aug 20 14:01 BZ7G5Y.mediaplayer-cover\n",
      "-rw-r--r--  1 zlamberty zlamberty 7.9K Aug 11 11:29 C2IB4Y.mediaplayer-cover\n",
      "-rw-r--r--  1 zlamberty zlamberty  12K Aug 20 16:33 C4FD5Y.mediaplayer-cover\n",
      "-rw-r--r--  1 zlamberty zlamberty  11K Aug 20 14:08 C60D5Y.mediaplayer-cover\n",
      "-rw-r--r--  1 zlamberty zlamberty 7.6K Aug 11 15:14 CB3T4Y.mediaplayer-cover\n",
      "-rw-r--r--  1 zlamberty zlamberty 9.1K Aug 20 16:14 CEJA5Y.mediaplayer-cover\n",
      "-rw-r--r--  1 zlamberty zlamberty 5.8K Aug 16 23:29 CFVH5Y.mediaplayer-cover\n",
      "-rw-r--r--  1 zlamberty zlamberty 6.7K Aug 11 18:34 CNXR4Y.mediaplayer-cover\n",
      "-rw-r--r--  1 zlamberty zlamberty 5.9K Aug 20 14:26 D58Y4Y.mediaplayer-cover\n",
      "-rw-r--r--  1 zlamberty zlamberty  14K Aug 20 14:53 D5DY4Y.mediaplayer-cover\n",
      "-rw-r--r--  1 zlamberty zlamberty 9.3K Aug 20 14:05 D74E5Y.mediaplayer-cover\n",
      "-rw-r--r--  1 zlamberty zlamberty 8.7K Aug 11 13:42 D81D4Y.mediaplayer-cover\n",
      "-rw-r--r--  1 zlamberty zlamberty 4.2K Aug 11 20:51 DC293Y.mediaplayer-cover\n",
      "-rw-r--r--  1 zlamberty zlamberty 5.4K Aug 20 14:18 DC2X4Y.mediaplayer-cover\n",
      "-rw-r--r--  1 zlamberty zlamberty 6.8K Aug 20 14:01 DHTH5Y.mediaplayer-cover\n",
      "-rw-r--r--  1 zlamberty zlamberty 6.8K Aug 20 14:23 DPKZ4Y.mediaplayer-cover\n",
      "-rw-r--r--  1 zlamberty zlamberty 6.5K Aug 11 12:38 DPQI4Y.mediaplayer-cover\n",
      "-rw-r--r--  1 zlamberty zlamberty  10K Aug 16 23:29 DS494Y.mediaplayer-cover\n",
      "-rw-r--r--  1 zlamberty zlamberty 8.5K Aug 20 19:47 EES34Y.mediaplayer-cover\n",
      "-rw-r--r--  1 zlamberty zlamberty  14K Aug 20 14:53 EIEY4Y.mediaplayer-cover\n",
      "drwx------  2 zlamberty zlamberty 4.0K Aug 10 19:57 emacs1000\n",
      "-rw-r--r--  1 zlamberty zlamberty 7.6K Aug 11 12:01 ENXS4Y.mediaplayer-cover\n",
      "-rw-r--r--  1 zlamberty zlamberty 6.6K Aug 11 17:11 EQFJ4Y.mediaplayer-cover\n",
      "-rw-r--r--  1 zlamberty zlamberty 7.5K Aug 11 19:42 ET7O4Y.mediaplayer-cover\n",
      "-rw-------  1 zlamberty zlamberty    0 Aug 11 21:33 FBFE4Y.mediaplayer-cover\n",
      "-rw-------  1 zlamberty zlamberty    0 Aug 11 19:04 FDWU4Y.mediaplayer-cover\n",
      "-rw-r--r--  1 zlamberty zlamberty  10K Aug 16 23:31 FFZF5Y.mediaplayer-cover\n",
      "drwx------  2 zlamberty zlamberty 4.0K Aug 18 23:30 firefox-esr_zlamberty\n",
      "-rw-r--r--  1 zlamberty zlamberty 6.4K Aug 20 14:26 FJ0F5Y.mediaplayer-cover\n",
      "-rw-r--r--  1 zlamberty zlamberty 9.4K Aug 20 17:21 FL514Y.mediaplayer-cover\n",
      "drwxrwxrwt  2 root      root      4.0K Aug 10 19:52 .font-unix\n",
      "-rw-r--r--  1 zlamberty zlamberty 8.5K Aug 20 19:47 FQH34Y.mediaplayer-cover\n",
      "-rw-r--r--  1 zlamberty zlamberty 4.6K Aug 11 17:52 FZTT4Y.mediaplayer-cover\n",
      "-rw-------  1 zlamberty zlamberty    0 Aug 11 21:30 G6GL4Y.mediaplayer-cover\n",
      "-rw-r--r--  1 zlamberty zlamberty 3.5K Aug 11 21:16 G6MN4Y.mediaplayer-cover\n",
      "-rw-------  1 zlamberty zlamberty    0 Aug 11 21:21 GKYL4Y.mediaplayer-cover\n",
      "-rw-r--r--  1 zlamberty zlamberty  11K Aug 20 19:52 GNE94Y.mediaplayer-cover\n",
      "-rw-r--r--  1 zlamberty zlamberty 6.9K Aug 16 23:29 GPKH5Y.mediaplayer-cover\n",
      "-rw-------  1 zlamberty zlamberty    0 Aug 11 18:16 GSHB4Y.mediaplayer-cover\n",
      "-rw-r--r--  1 zlamberty zlamberty 9.8K Aug 10 20:09 H4TK4Y.mediaplayer-cover\n",
      "-rw-r--r--  1 zlamberty zlamberty 7.8K Aug 16 23:30 H90B5Y.mediaplayer-cover\n",
      "-rw-r--r--  1 zlamberty zlamberty 6.5K Aug 11 10:41 H98K4Y.mediaplayer-cover\n",
      "-rw-r--r--  1 zlamberty zlamberty 9.4K Aug 20 17:06 HBQ44Y.mediaplayer-cover\n",
      "-rw-r--r--  1 zlamberty zlamberty 7.3K Aug 11 11:36 HCPQ4Y.mediaplayer-cover\n",
      "-rw-r--r--  1 zlamberty zlamberty  12K Aug 11 17:44 HDQO4Y.mediaplayer-cover\n",
      "-rw-r--r--  1 zlamberty zlamberty 7.9K Aug 11 14:32 HDWV4Y.mediaplayer-cover\n",
      "-rw-r--r--  1 zlamberty zlamberty 4.9K Aug 11 11:51 HG1E4Y.mediaplayer-cover\n",
      "-rw-r--r--  1 zlamberty zlamberty  421 Jan 20  2017 !home!zlamberty!temp!temp.py~\n",
      "-rwxr-xr-x  1 zlamberty zlamberty 1.2K Aug 13 13:19 #!home!zlamberty!temp!temp.py#\n",
      "-rw-r--r--  1 zlamberty zlamberty 2.5K Aug 13 13:15 .!home!zlamberty!temp!temp.py.~undo-tree~\n",
      "-rw-r--r--  1 zlamberty zlamberty  256 Aug 12 14:37 .!home!zlamberty!temp!test.txt.~undo-tree~\n",
      "drwxrwxrwt  2 root      root      4.0K Aug 10 19:53 .ICE-unix\n",
      "-rw-r--r--  1 zlamberty zlamberty 8.6K Aug 11 21:53 ID4G4Y.mediaplayer-cover\n",
      "-rw-r--r--  1 zlamberty zlamberty 8.0K Aug 20 16:53 IJIG5Y.mediaplayer-cover\n",
      "-rw-r--r--  1 zlamberty zlamberty  12K Aug 20 16:33 INBD5Y.mediaplayer-cover\n",
      "-rw-r--r--  1 zlamberty zlamberty 6.6K Aug 16 23:29 IPFG5Y.mediaplayer-cover\n",
      "-rw-r--r--  1 zlamberty zlamberty 4.8K Aug 20 20:01 IQKE5Y.mediaplayer-cover\n",
      "-rw-r--r--  1 zlamberty zlamberty 6.0K Aug 20 15:02 IRE84Y.mediaplayer-cover\n",
      "-rw-r--r--  1 zlamberty zlamberty 8.0K Aug 20 14:10 IS094Y.mediaplayer-cover\n",
      "-rw-r--r--  1 zlamberty zlamberty  14K Aug 20 20:01 IVT94Y.mediaplayer-cover\n",
      "-rw-r--r--  1 zlamberty zlamberty 7.0K Aug 16 23:28 IZUI5Y.mediaplayer-cover\n",
      "-rw-r--r--  1 zlamberty zlamberty 7.1K Aug 11 15:02 J31I4Y.mediaplayer-cover\n",
      "-rw-------  1 zlamberty zlamberty    0 Aug 11 20:11 J3LE4Y.mediaplayer-cover\n",
      "-rw-r--r--  1 zlamberty zlamberty 8.5K Aug 11 15:59 J46L4Y.mediaplayer-cover\n",
      "-rw-------  1 zlamberty zlamberty    0 Aug 11 19:52 JH3M4Y.mediaplayer-cover\n",
      "-rw-r--r--  1 zlamberty zlamberty 8.0K Aug 20 16:25 JX9B5Y.mediaplayer-cover\n",
      "-rw-r--r--  1 zlamberty zlamberty 2.6K Aug 11 14:00 JZBF4Y.mediaplayer-cover\n",
      "-rw-r--r--  1 zlamberty zlamberty 7.4K Aug 20 16:18 K11W4Y.mediaplayer-cover\n",
      "-rw-r--r--  1 zlamberty zlamberty 2.5K Aug 11 14:24 K3DT4Y.mediaplayer-cover\n",
      "-rw-r--r--  1 zlamberty zlamberty 6.4K Aug 20 14:26 K81F5Y.mediaplayer-cover\n",
      "-rw-------  1 zlamberty zlamberty 1.7K Aug 10 20:01 key\n",
      "-rw-r--r--  1 zlamberty zlamberty  399 Aug 10 20:01 key.pub\n",
      "-rw-r--r--  1 zlamberty zlamberty 1.7K Aug 10 20:37 key.pub.pem\n",
      "-rw-r--r--  1 zlamberty zlamberty 6.4K Aug 11 09:55 KHAW4Y.mediaplayer-cover\n",
      "-rw-r--r--  1 zlamberty zlamberty 9.1K Aug 20 16:14 KHHA5Y.mediaplayer-cover\n",
      "-rw-r--r--  1 zlamberty zlamberty 6.5K Aug 11 18:38 KIPO4Y.mediaplayer-cover\n",
      "-rw-r--r--  1 zlamberty zlamberty 6.9K Aug 20 17:22 KW6B5Y.mediaplayer-cover\n",
      "-rw-r--r--  1 zlamberty zlamberty  11K Aug 11 12:19 KX4L4Y.mediaplayer-cover\n",
      "-rw-r--r--  1 zlamberty zlamberty 8.5K Aug 11 15:20 L2GR4Y.mediaplayer-cover\n",
      "-rw-r--r--  1 zlamberty zlamberty 9.4K Aug 11 13:55 L48U4Y.mediaplayer-cover\n",
      "-rw-r--r--  1 zlamberty zlamberty 7.0K Aug 20 16:49 L50B5Y.mediaplayer-cover\n",
      "-rw-r--r--  1 zlamberty zlamberty 5.8K Aug 20 19:56 LDO04Y.mediaplayer-cover\n",
      "-rw-r--r--  1 zlamberty zlamberty 3.7K Aug 11 11:02 LHLC4Y.mediaplayer-cover\n",
      "-rw-r--r--  1 zlamberty zlamberty 5.9K Aug 20 14:26 LM614Y.mediaplayer-cover\n",
      "-rw-r--r--  1 zlamberty zlamberty  14K Aug 11 18:56 LMOV4Y.mediaplayer-cover\n",
      "-rw-r--r--  1 zlamberty zlamberty 6.4K Aug 20 14:27 LOO24Y.mediaplayer-cover\n",
      "-rw-r--r--  1 zlamberty zlamberty 7.2K Aug 11 12:51 LPUH4Y.mediaplayer-cover\n",
      "-rw-r--r--  1 zlamberty zlamberty  10K Aug 20 17:15 M0IW4Y.mediaplayer-cover\n",
      "-rw-r--r--  1 zlamberty zlamberty 5.4K Aug 20 14:26 M3R14Y.mediaplayer-cover\n",
      "-rw-r--r--  1 zlamberty zlamberty 5.1K Aug 11 14:01 MJJI4Y.mediaplayer-cover\n",
      "-rw-------  1 zlamberty zlamberty    0 Aug 11 22:12 MTRJ4Y.mediaplayer-cover\n",
      "-rw-r--r--  1 zlamberty zlamberty 7.3K Aug 11 12:07 MU0V4Y.mediaplayer-cover\n",
      "-rw-r--r--  1 zlamberty zlamberty 5.6K Aug 11 13:08 MZGE4Y.mediaplayer-cover\n",
      "-rw-r--r--  1 zlamberty zlamberty 9.4K Aug 11 19:34 NI3A4Y.mediaplayer-cover\n",
      "-rw-r--r--  1 zlamberty zlamberty 8.2K Aug 20 16:20 NKZ64Y.mediaplayer-cover\n",
      "-rw-r--r--  1 zlamberty zlamberty 6.4K Aug 11 19:39 NO4G4Y.mediaplayer-cover\n",
      "-rw-------  1 zlamberty zlamberty    0 Aug 11 22:19 NOIH4Y.mediaplayer-cover\n",
      "-rw-r--r--  1 zlamberty zlamberty 9.0K Aug 20 17:00 NOXF5Y.mediaplayer-cover\n",
      "-rw-r--r--  1 zlamberty zlamberty 7.8K Aug 11 20:35 NQ5S4Y.mediaplayer-cover\n",
      "-rw-r--r--  1 zlamberty zlamberty 7.1K Aug 11 21:38 NUDS4Y.mediaplayer-cover\n",
      "-rw-r--r--  1 zlamberty zlamberty 6.6K Aug 11 15:44 NULN4Y.mediaplayer-cover\n",
      "-rw-r--r--  1 zlamberty zlamberty 8.3K Aug 11 10:54 O6LG4Y.mediaplayer-cover\n",
      "-rw-r--r--  1 zlamberty zlamberty 6.8K Aug 16 23:29 OB2H5Y.mediaplayer-cover\n",
      "-rw-r--r--  1 zlamberty zlamberty 8.9K Aug 16 23:30 OD5B5Y.mediaplayer-cover\n",
      "drwx------  3 zlamberty zlamberty 4.0K Aug 12 08:04 .org.chromium.Chromium.6Bu3iR\n",
      "drwx------  3 zlamberty zlamberty 4.0K Aug 14 08:04 .org.chromium.Chromium.6Te5Wu\n",
      "drwx------  3 zlamberty zlamberty 4.0K Aug 11 20:04 .org.chromium.Chromium.81Axwm\n",
      "drwx------  3 zlamberty zlamberty 4.0K Aug 16 20:04 .org.chromium.Chromium.BwGDER\n",
      "drwx------  3 zlamberty zlamberty 4.0K Aug 17 08:04 .org.chromium.Chromium.Bxu737\n",
      "drwx------  3 zlamberty zlamberty 4.0K Aug 21 04:30 .org.chromium.Chromium.cOid96\n",
      "drwx------  3 zlamberty zlamberty 4.0K Aug 16 08:04 .org.chromium.Chromium.dFH4pj\n",
      "drwx------  3 zlamberty zlamberty 4.0K Aug 11 08:04 .org.chromium.Chromium.dMYONK\n",
      "drwx------  3 zlamberty zlamberty 4.0K Aug 13 08:04 .org.chromium.Chromium.dyS62x\n",
      "drwx------  3 zlamberty zlamberty 4.0K Aug 14 20:04 .org.chromium.Chromium.fFjp0O\n",
      "drwx------  3 zlamberty zlamberty 4.0K Aug 12 20:04 .org.chromium.Chromium.GRsgTG\n",
      "drwx------  3 zlamberty zlamberty 4.0K Aug 17 20:04 .org.chromium.Chromium.GW3It7\n",
      "drwx------  2 zlamberty zlamberty 4.0K Aug 17 22:24 .org.chromium.Chromium.hoL1e3\n",
      "drwx------  3 zlamberty zlamberty 4.0K Aug 19 16:30 .org.chromium.Chromium.JEswVf\n",
      "drwx------  3 zlamberty zlamberty 4.0K Aug 10 20:04 .org.chromium.Chromium.jqpYKj\n",
      "drwx------  3 zlamberty zlamberty 4.0K Aug 19 04:30 .org.chromium.Chromium.MVkS75\n",
      "drwx------  3 zlamberty zlamberty 4.0K Aug 13 20:04 .org.chromium.Chromium.nCDxes\n",
      "drwx------  3 zlamberty zlamberty 4.0K Aug 18 16:30 .org.chromium.Chromium.OpGpdf\n",
      "drwx------  3 zlamberty zlamberty 4.0K Aug 20 04:30 .org.chromium.Chromium.OUSXkU\n",
      "drwx------  3 zlamberty zlamberty 4.0K Aug 21 16:30 .org.chromium.Chromium.oUVazm\n",
      "drwx------  3 zlamberty zlamberty 4.0K Aug 15 08:04 .org.chromium.Chromium.pA60MZ\n",
      "drwx------  3 zlamberty zlamberty 4.0K Aug 20 16:30 .org.chromium.Chromium.s6qncs\n",
      "drwx------  2 zlamberty zlamberty 4.0K Aug 10 19:58 .org.chromium.Chromium.TmkTyL\n",
      "drwx------  3 zlamberty zlamberty 4.0K Aug 15 20:04 .org.chromium.Chromium.UhpFfg\n",
      "drwx------  2 zlamberty zlamberty 4.0K Aug 14 01:28 .org.chromium.Chromium.wKNpVp\n",
      "drwx------  3 zlamberty zlamberty 4.0K Aug 18 04:30 .org.chromium.Chromium.ZXZ7hF\n",
      "-rw-r--r--  1 zlamberty zlamberty 3.7K Aug 12 12:43 OSEO4Y.mediaplayer-cover\n",
      "-rw-r--r--  1 zlamberty zlamberty 5.0K Aug 11 10:10 OSZ93Y.mediaplayer-cover\n",
      "-rw-r--r--  1 zlamberty zlamberty 6.1K Aug 11 18:06 OYOV4Y.mediaplayer-cover\n",
      "-rw-------  1 zlamberty zlamberty 240K Aug 20 14:52 p5o1kx8V8U\n",
      "-rw-r--r--  1 zlamberty zlamberty 7.8K Aug 20 14:50 P5T74Y.mediaplayer-cover\n",
      "-rw-r--r--  1 zlamberty zlamberty  12K Aug 11 14:11 P6TO4Y.mediaplayer-cover\n",
      "-rw-r--r--  1 zlamberty zlamberty 5.6K Aug 11 19:29 PD0R4Y.mediaplayer-cover\n",
      "-rw-r--r--  1 zlamberty zlamberty 9.4K Aug 11 20:40 PGLN4Y.mediaplayer-cover\n",
      "-rw-r--r--  1 zlamberty zlamberty 6.6K Aug 11 17:38 PICM4Y.mediaplayer-cover\n",
      "-rw-r--r--  1 zlamberty zlamberty 4.7K Aug 20 19:52 PJY04Y.mediaplayer-cover\n",
      "-rw-r--r--  1 zlamberty zlamberty 7.2K Aug 16 23:27 PN804Y.mediaplayer-cover\n",
      "-rw-r--r--  1 zlamberty zlamberty 4.1K Aug 16 23:30 PQG24Y.mediaplayer-cover\n",
      "-rw-r--r--  1 zlamberty zlamberty 9.3K Aug 20 16:44 PQVY4Y.mediaplayer-cover\n",
      "-rw-r--r--  1 zlamberty zlamberty 4.0K Aug 20 16:36 PRLX4Y.mediaplayer-cover\n",
      "drwx------  2 root      root      4.0K Aug 10 19:52 pulse-PKdhtXMmr18n\n",
      "-rw-------  1 zlamberty zlamberty    0 Aug 11 17:04 PX9V4Y.mediaplayer-cover\n",
      "-rw-r--r--  1 zlamberty zlamberty 7.9K Aug 11 15:37 PYXD4Y.mediaplayer-cover\n",
      "-rw-------  1 zlamberty zlamberty    0 Aug 11 20:07 PZAV4Y.mediaplayer-cover\n",
      "-rw-r--r--  1 zlamberty zlamberty  12K Aug 11 14:06 Q1IJ4Y.mediaplayer-cover\n",
      "-rw-r--r--  1 zlamberty zlamberty 9.9K Aug 16 23:30 QAY24Y.mediaplayer-cover\n",
      "-rw-r--r--  1 zlamberty zlamberty 6.0K Aug 16 23:27 QDF54Y.mediaplayer-cover\n",
      "-rw-------  1 zlamberty zlamberty    0 Aug 11 16:13 QDTF4Y.mediaplayer-cover\n",
      "-rw-r--r--  1 zlamberty zlamberty 7.1K Aug 11 11:15 QFPF4Y.mediaplayer-cover\n",
      "-rw-------  1 zlamberty zlamberty    0 Aug 11 19:01 QI2V4Y.mediaplayer-cover\n",
      "-rw-r--r--  1 zlamberty zlamberty 5.8K Aug 20 19:56 QKQ04Y.mediaplayer-cover\n",
      "-rw-r--r--  1 zlamberty zlamberty  12K Aug 16 23:30 QSAY4Y.mediaplayer-cover\n",
      "-rw-r--r--  1 zlamberty zlamberty 8.0K Aug 11 16:45 QXQE4Y.mediaplayer-cover\n",
      "-rw-r--r--  1 zlamberty zlamberty 5.5K Aug 16 23:28 QZ0C5Y.mediaplayer-cover\n",
      "-rw-------  1 zlamberty zlamberty    0 Aug 11 16:18 R3CS4Y.mediaplayer-cover\n",
      "-rw-------  1 zlamberty zlamberty    0 Aug 11 22:16 R9ID4Y.mediaplayer-cover\n",
      "-rw-r--r--  1 zlamberty zlamberty 6.0K Aug 11 17:33 RAZN4Y.mediaplayer-cover\n",
      "-rw-r--r--  1 zlamberty zlamberty 8.5K Aug 20 16:57 RDHE5Y.mediaplayer-cover\n",
      "-rw-r--r--  1 zlamberty zlamberty 6.4K Aug 20 14:27 RPQ24Y.mediaplayer-cover\n",
      "-rw-r--r--  1 zlamberty zlamberty 4.9K Aug 20 15:05 RTQA5Y.mediaplayer-cover\n",
      "-rw-r--r--  1 zlamberty zlamberty  11K Aug 11 20:23 S1ZN4Y.mediaplayer-cover\n",
      "-rw-r--r--  1 zlamberty zlamberty 5.3K Aug 11 16:09 SCKA4Y.mediaplayer-cover\n",
      "drwx------  2 zlamberty zlamberty 4.0K Aug 14 01:28 Slack Crashes\n",
      "-rw-r--r--  1 zlamberty zlamberty 5.1K Aug 11 12:26 SLUM4Y.mediaplayer-cover\n",
      "-rw-r--r--  1 zlamberty zlamberty  11K Aug 11 14:54 SMPE4Y.mediaplayer-cover\n",
      "-rw-r--r--  1 zlamberty zlamberty 5.6K Aug 16 23:29 SQ044Y.mediaplayer-cover\n",
      "drwx------  2 zlamberty zlamberty 4.0K Aug 10 19:53 ssh-WS9fFbit3tX5\n",
      "-rw-------  1 zlamberty zlamberty    0 Aug 11 21:42 STIJ4Y.mediaplayer-cover\n",
      "-rw-r--r--  1 zlamberty zlamberty 3.7K Aug 11 12:30 STSF4Y.mediaplayer-cover\n",
      "-rw-r--r--  1 zlamberty zlamberty 9.4K Aug 20 17:06 SUM44Y.mediaplayer-cover\n",
      "-rw-r--r--  1 zlamberty zlamberty 6.4K Aug 11 15:26 SW4M4Y.mediaplayer-cover\n",
      "drwx------  3 root      root      4.0K Aug 10 19:53 systemd-private-2dbc0802865e4232896d0d531d8debef-colord.service-86qQA1\n",
      "drwx------  3 root      root      4.0K Aug 21 07:35 systemd-private-2dbc0802865e4232896d0d531d8debef-cups.service-Yjg76t\n",
      "drwx------  3 root      root      4.0K Aug 10 19:53 systemd-private-2dbc0802865e4232896d0d531d8debef-rtkit-daemon.service-fn2lpj\n",
      "-rw-r--r--  1 zlamberty zlamberty 7.2K Aug 16 23:30 T3YY4Y.mediaplayer-cover\n",
      "-rw-r--r--  1 zlamberty zlamberty 6.4K Aug 20 14:14 T4I14Y.mediaplayer-cover\n",
      "-rw-r--r--  1 zlamberty zlamberty 8.7K Aug 16 23:28 T7VH5Y.mediaplayer-cover\n",
      "-rw-------  1 zlamberty zlamberty 270K Aug 20 14:27 tAjtma8eq9\n",
      "-rw-r--r--  1 zlamberty zlamberty 9.3K Aug 11 18:52 TD6S4Y.mediaplayer-cover\n",
      "drwxrwxrwt  2 root      root      4.0K Aug 10 19:52 .Test-unix\n",
      "-rw-r--r--  1 zlamberty zlamberty 8.0K Aug 20 14:10 TJK94Y.mediaplayer-cover\n",
      "-rw-r--r--  1 zlamberty zlamberty 6.5K Aug 11 22:04 TL7O4Y.mediaplayer-cover\n",
      "-rw-r--r--  1 zlamberty zlamberty 9.2K Aug 16 23:30 TLSZ4Y.mediaplayer-cover\n",
      "-rw-r--r--  1 zlamberty zlamberty 8.7K Aug 11 21:01 TNRV4Y.mediaplayer-cover\n",
      "-rw-r--r--  1 zlamberty zlamberty 8.2K Aug 11 10:37 TO0D4Y.mediaplayer-cover\n",
      "-rw-r--r--  1 zlamberty zlamberty 7.3K Aug 11 13:00 TRGV4Y.mediaplayer-cover\n",
      "-rw-r--r--  1 zlamberty zlamberty 9.0K Aug 20 17:21 TS6Z4Y.mediaplayer-cover\n",
      "-rw-r--r--  1 zlamberty zlamberty 2.6K Aug 11 16:02 TT1I4Y.mediaplayer-cover\n",
      "-rw-r--r--  1 zlamberty zlamberty 6.7K Aug 16 23:27 TVQ74Y.mediaplayer-cover\n",
      "-rw-r--r--  1 zlamberty zlamberty 5.7K Aug 11 15:29 U13R4Y.mediaplayer-cover\n",
      "-rw-r--r--  1 zlamberty zlamberty 7.7K Aug 11 12:42 U3HL4Y.mediaplayer-cover\n",
      "-rw-r--r--  1 zlamberty zlamberty 7.9K Aug 11 18:29 U4AT4Y.mediaplayer-cover\n",
      "-rw-r--r--  1 zlamberty zlamberty 6.7K Aug 11 13:03 U5QO4Y.mediaplayer-cover\n",
      "-rw-r--r--  1 zlamberty zlamberty 3.7K Aug 10 20:10 U8AO4Y.mediaplayer-cover\n",
      "-rw-r--r--  1 zlamberty zlamberty 4.7K Aug 20 19:52 UAO04Y.mediaplayer-cover\n",
      "-rw-r--r--  1 zlamberty zlamberty 8.5K Aug 11 20:43 UBDJ4Y.mediaplayer-cover\n",
      "-rw-r--r--  1 zlamberty zlamberty 8.2K Aug 20 16:20 UD164Y.mediaplayer-cover\n",
      "-rw-r--r--  1 zlamberty zlamberty 7.1K Aug 11 14:39 UFVB4Y.mediaplayer-cover\n",
      "-rw-r--r--  1 zlamberty zlamberty 7.4K Aug 20 16:27 UJGY4Y.mediaplayer-cover\n",
      "-rw-------  1 zlamberty zlamberty 154K Aug 20 14:08 uV7IdfJONr\n",
      "-rw-r--r--  1 zlamberty zlamberty 7.0K Aug 20 16:49 V13B5Y.mediaplayer-cover\n",
      "-rw-------  1 zlamberty zlamberty    0 Aug 11 22:08 V7WB4Y.mediaplayer-cover\n",
      "-rw-r--r--  1 zlamberty zlamberty  12K Aug 16 23:31 V9WY4Y.mediaplayer-cover\n",
      "-rw-r--r--  1 zlamberty zlamberty 6.8K Aug 11 17:27 VBGJ4Y.mediaplayer-cover\n",
      "-rw-------  1 zlamberty zlamberty    0 Aug 11 18:58 VC4C4Y.mediaplayer-cover\n",
      "-rw-r--r--  1 zlamberty zlamberty 4.9K Aug 16 23:29 VD454Y.mediaplayer-cover\n",
      "-rw-r--r--  1 zlamberty zlamberty 4.8K Aug 20 20:01 VEME5Y.mediaplayer-cover\n",
      "-rw-r--r--  1 zlamberty zlamberty 5.5K Aug 11 13:31 VGIG4Y.mediaplayer-cover\n",
      "-rw-r--r--  1 zlamberty zlamberty 7.1K Aug 11 20:27 VHKD4Y.mediaplayer-cover\n",
      "-rw-r--r--  1 zlamberty zlamberty 7.9K Aug 11 11:07 VPBA4Y.mediaplayer-cover\n",
      "-rw-r--r--  1 zlamberty zlamberty  10K Aug 20 17:15 VQMW4Y.mediaplayer-cover\n",
      "-rw-r--r--  1 zlamberty zlamberty 4.9K Aug 20 15:05 VVSA5Y.mediaplayer-cover\n",
      "-rw-r--r--  1 zlamberty zlamberty 2.6K Aug 11 11:43 W03M4Y.mediaplayer-cover\n",
      "-rw-r--r--  1 zlamberty zlamberty 8.3K Aug 11 13:13 W4QH4Y.mediaplayer-cover\n",
      "-rw-r--r--  1 zlamberty zlamberty 4.8K Aug 11 10:33 WANK4Y.mediaplayer-cover\n",
      "-rw-r--r--  1 zlamberty zlamberty 7.3K Aug 11 15:06 WAVF4Y.mediaplayer-cover\n",
      "-rw-r--r--  1 zlamberty zlamberty 6.0K Aug 11 14:45 WCGO4Y.mediaplayer-cover\n",
      "-rw-r--r--  1 zlamberty zlamberty 7.6K Aug 20 14:51 WFUH5Y.mediaplayer-cover\n",
      "-rw-------  1 zlamberty zlamberty    0 Aug 11 19:08 WJKO4Y.mediaplayer-cover\n",
      "-rw-r--r--  1 zlamberty zlamberty 6.4K Aug 11 18:42 WSEE4Y.mediaplayer-cover\n",
      "-rw-r--r--  1 zlamberty zlamberty 9.0K Aug 20 17:22 WWG84Y.mediaplayer-cover\n",
      "-rw-r--r--  1 zlamberty zlamberty 5.5K Aug 20 16:42 WXPD5Y.mediaplayer-cover\n",
      "-r--r--r--  1 root      root        11 Aug 10 19:52 .X0-lock\n",
      "drwxrwxrwt  2 root      root      4.0K Aug 10 19:52 .X11-unix\n",
      "-rw-r--r--  1 zlamberty zlamberty 6.4K Aug 20 14:14 X8M14Y.mediaplayer-cover\n",
      "-rw-r--r--  1 zlamberty zlamberty 5.8K Aug 16 23:27 XDG54Y.mediaplayer-cover\n",
      "drwxrwxrwt  2 root      root      4.0K Aug 10 19:52 .XIM-unix\n",
      "-rw-r--r--  1 zlamberty zlamberty 9.4K Aug 11 10:59 XL0O4Y.mediaplayer-cover\n",
      "-rw-r--r--  1 zlamberty zlamberty  14K Aug 20 20:01 XN394Y.mediaplayer-cover\n",
      "-rw-------  1 zlamberty zlamberty    0 Aug 11 16:55 XSOG4Y.mediaplayer-cover\n",
      "-rw-r--r--  1 zlamberty zlamberty  15K Aug 11 14:49 XSYT4Y.mediaplayer-cover\n",
      "-rw-r--r--  1 zlamberty zlamberty 6.9K Aug 20 17:11 YHRY4Y.mediaplayer-cover\n",
      "-rw-r--r--  1 zlamberty zlamberty 4.0K Aug 20 16:36 YJPX4Y.mediaplayer-cover\n",
      "-rw-r--r--  1 zlamberty zlamberty 5.5K Aug 11 17:19 YPDA4Y.mediaplayer-cover\n",
      "-rw-------  1 zlamberty zlamberty    0 Aug 11 16:24 YPEQ4Y.mediaplayer-cover\n",
      "-rw-r--r--  1 zlamberty zlamberty 6.4K Aug 11 16:50 YTBI4Y.mediaplayer-cover\n",
      "-rw-r--r--  1 zlamberty zlamberty 9.0K Aug 19 15:43 YUB84Y.mediaplayer-cover\n",
      "-rw-------  1 zlamberty zlamberty    0 Aug 11 20:17 Z1CV4Y.mediaplayer-cover\n",
      "-rw-r--r--  1 zlamberty zlamberty 8.7K Aug 11 15:34 Z2SE4Y.mediaplayer-cover\n",
      "-rw-r--r--  1 zlamberty zlamberty 6.5K Aug 11 12:16 Z47F4Y.mediaplayer-cover\n",
      "-rw-r--r--  1 zlamberty zlamberty 6.6K Aug 20 16:30 Z4MG5Y.mediaplayer-cover\n",
      "-rw-r--r--  1 zlamberty zlamberty 7.1K Aug 20 16:16 Z5N04Y.mediaplayer-cover\n",
      "-rw-r--r--  1 zlamberty zlamberty 8.3K Aug 11 15:55 ZEEF4Y.mediaplayer-cover\n",
      "-rw-------  1 zlamberty zlamberty    0 Aug 20 17:22 ZGCI5Y.mediaplayer-cover\n",
      "-rw-r--r--  1 zlamberty zlamberty 9.0K Aug 16 23:31 ZGR34Y.mediaplayer-cover\n",
      "-rw-------  1 zlamberty zlamberty    0 Aug 11 21:08 ZGUH4Y.mediaplayer-cover\n",
      "-rw-r--r--  1 zlamberty zlamberty 9.3K Aug 20 16:44 ZH1Y4Y.mediaplayer-cover\n",
      "-rw-r--r--  1 zlamberty zlamberty 7.2K Aug 11 18:11 ZPFJ4Y.mediaplayer-cover\n",
      "-rw-r--r--  1 zlamberty zlamberty 6.1K Aug 11 11:46 ZT7K4Y.mediaplayer-cover\n",
      "-rw-r--r--  1 zlamberty zlamberty 7.9K Aug 11 19:45 ZTPB4Y.mediaplayer-cover\n",
      "-rw-r--r--  1 zlamberty zlamberty 8.4K Aug 16 23:29 ZUG24Y.mediaplayer-cover\n",
      "-rw-r--r--  1 zlamberty zlamberty 8.5K Aug 11 15:50 ZUTK4Y.mediaplayer-cover\n",
      "-rw-r--r--  1 zlamberty zlamberty 5.4K Aug 20 14:26 ZVT14Y.mediaplayer-cover\n"
     ]
    }
   ],
   "source": [
    "%%bash\n",
    "ls -alh /tmp"
   ]
  },
  {
   "cell_type": "markdown",
   "metadata": {
    "slideshow": {
     "slide_type": "subslide"
    }
   },
   "source": [
    "#### `/var`\n",
    "\n",
    "here \"var\" is short for \"variable\". this is not in the sense of a programmatic of mathematical variable, but rather as an item in of unknown duration, number, or volume. these are files which are separated from all other files because they *must* be writable and changeable for a computer to work.\n",
    "\n",
    "TLDP has [a good write-up](http://www.tldp.org/LDP/Linux-Filesystem-Hierarchy/html/var.html) of the sorts of items kept in `/var`: backups, cahe files, logs, database instances, and logs\n",
    "\n",
    "Pay attention to `/var/log` in particular -- in linux world, when things go wrong this is often where you need to go to figure out what happened\n",
    "\n",
    "```bash\n",
    "ls -alh /var\n",
    "```"
   ]
  },
  {
   "cell_type": "code",
   "execution_count": 22,
   "metadata": {},
   "outputs": [
    {
     "name": "stdout",
     "output_type": "stream",
     "text": [
      "total 56K\n",
      "drwxr-xr-x 14 root root  4.0K Jun 26  2016 .\n",
      "drwxr-xr-x 25 root root  4.0K Dec 30  2015 ..\n",
      "drwxr-xr-x  2 root root  4.0K Aug 19 07:35 backups\n",
      "drwxr-xr-x 19 root root  4.0K Sep 11  2016 cache\n",
      "drwxrwxr-x  3 root root  4.0K Jun 26  2016 data\n",
      "drwxr-xr-x  2 root root  4.0K Dec 29  2015 games\n",
      "drwxr-xr-x 68 root root  4.0K Jul 13 21:36 lib\n",
      "drwxrwsr-x  2 root staff 4.0K Aug 26  2015 local\n",
      "lrwxrwxrwx  1 root root     9 Dec 29  2015 lock -> /run/lock\n",
      "drwxr-xr-x 20 root root  4.0K Aug 21 07:35 log\n",
      "drwxrwsr-x  2 root mail  4.0K Jul  9 07:36 mail\n",
      "drwxr-xr-x  2 root root  4.0K Dec 29  2015 opt\n",
      "lrwxrwxrwx  1 root root     4 Dec 29  2015 run -> /run\n",
      "drwxr-xr-x  8 root root  4.0K Oct 26  2016 spool\n",
      "drwxrwxrwt 51 root root  4.0K Aug 21 22:55 tmp\n",
      "drwxr-xr-x  3 root root  4.0K Dec 29  2015 www\n"
     ]
    }
   ],
   "source": [
    "%%bash\n",
    "ls -alh /var"
   ]
  },
  {
   "cell_type": "markdown",
   "metadata": {
    "slideshow": {
     "slide_type": "subslide"
    }
   },
   "source": [
    "### special folders\n",
    "\n",
    "you may have noticed above that every call to `ls` starts with two special lines that end in `.` and `..`. Those are special path tokens that refer to\n",
    "\n",
    "+ `.`: the current directory (i.e. the results of command `pwd`)\n",
    "+ `..`: the directory one level above this one"
   ]
  },
  {
   "cell_type": "markdown",
   "metadata": {
    "slideshow": {
     "slide_type": "slide"
    }
   },
   "source": [
    "### home folders"
   ]
  },
  {
   "cell_type": "markdown",
   "metadata": {
    "slideshow": {
     "slide_type": "subslide"
    }
   },
   "source": [
    "as I mentioned above, one of the directories within the root directory is `/home`, and this contains an isolated directory for each user. this directory is so important that there is a permanent shortcut for getting there -- a bash environment variable (more on that below) that contains that path. to show this, let's print it out -- `echo` is the most common \"print\" command in linux, and will print to the screen whatever is written after it (after resolving variables):\n",
    "\n",
    "```bash\n",
    "echo ~\n",
    "```"
   ]
  },
  {
   "cell_type": "code",
   "execution_count": 23,
   "metadata": {},
   "outputs": [
    {
     "name": "stdout",
     "output_type": "stream",
     "text": [
      "/home/zlamberty\n"
     ]
    }
   ],
   "source": [
    "%%bash\n",
    "echo ~"
   ]
  },
  {
   "cell_type": "markdown",
   "metadata": {},
   "source": [
    "your terminal should return `/home/ubuntu`, since your user name is `ubuntu`."
   ]
  },
  {
   "cell_type": "markdown",
   "metadata": {
    "slideshow": {
     "slide_type": "subslide"
    }
   },
   "source": [
    "Let's go a step further and check out what is in that directory:\n",
    "\n",
    "```bash\n",
    "ls -alh ~\n",
    "```"
   ]
  },
  {
   "cell_type": "code",
   "execution_count": 25,
   "metadata": {},
   "outputs": [
    {
     "name": "stdout",
     "output_type": "stream",
     "text": [
      "total 55M\n",
      "drwxr-xr-x  69 zlamberty zlamberty 4.0K Aug 14 22:17 .\n",
      "drwxr-xr-x   4 root      root      4.0K Dec 29  2015 ..\n",
      "drwx------   3 zlamberty zlamberty 4.0K Dec  7  2016 .adobe\n",
      "drwxr-xr-x  20 zlamberty zlamberty 4.0K May 29 22:35 anaconda3\n",
      "drwxr-xr-x   3 zlamberty zlamberty 4.0K May 13 16:10 .anaconda_backup\n",
      "-rw-r--r--   1 zlamberty zlamberty  271 Dec 30  2015 .bash_aliases\n",
      "-rw-------   1 zlamberty zlamberty  53K Aug 21 23:48 .bash_history\n",
      "-rw-r--r--   1 zlamberty zlamberty  220 Dec 30  2015 .bash_logout\n",
      "-rw-r--r--   1 zlamberty zlamberty 4.4K May 13 21:15 .bashrc\n",
      "-rw-r--r--   1 zlamberty zlamberty 3.5K Dec 30  2015 .bashrc-anaconda2.bak\n",
      "-rw-r--r--   1 zlamberty zlamberty 4.4K May 13 16:13 .bashrc-anaconda3.bak\n",
      "drwx------  21 zlamberty zlamberty 4.0K May 17 00:26 .cache\n",
      "drwxr-xr-x   5 zlamberty zlamberty 4.0K Oct 29  2016 .cinnamon\n",
      "drwxr-xr-x  29 zlamberty zlamberty 4.0K Aug  9 21:55 code\n",
      "drwxr-xr-x   3 zlamberty zlamberty 4.0K May 13 16:15 .conda\n",
      "drwx------  42 zlamberty zlamberty 4.0K Jul  9 23:19 .config\n",
      "-rw-r--r--   1 zlamberty zlamberty 2.5K Aug 29  2016 .conkyrc\n",
      "-rw-r--r--   1 zlamberty zlamberty    5 Jan 29  2017 .dbshell\n",
      "drwx------   3 zlamberty zlamberty 4.0K Dec 29  2015 .dbus\n",
      "drwxr-xr-x   2 zlamberty zlamberty 4.0K Aug 19  2016 Desktop\n",
      "-rw-r--r--   1 zlamberty zlamberty   55 Dec 29  2015 .dmrc\n",
      "drwxr-xr-x   2 zlamberty zlamberty 4.0K Sep 19  2016 Documents\n",
      "drwxr-xr-x   8 zlamberty zlamberty  20K Aug 22 17:12 Downloads\n",
      "drwxr-xr-x   4 zlamberty zlamberty 4.0K Apr  4  2016 eclipse\n",
      "drwxr-xr-x   7 zlamberty zlamberty 4.0K Apr  4  2016 .eclipse\n",
      "drwxr-xr-x  15 zlamberty zlamberty 4.0K Aug  6 14:29 .emacs.d\n",
      "drwxr-xr-x   3 zlamberty zlamberty 4.0K Dec 30  2015 .erc\n",
      "drwx------   3 zlamberty zlamberty 4.0K Aug 10 19:53 .gconf\n",
      "drwxr-xr-x   4 zlamberty zlamberty 4.0K Jan 16  2016 .gem\n",
      "drwxr-xr-x  24 zlamberty zlamberty 4.0K Dec  7  2016 .gimp-2.8\n",
      "-rw-r--r--   1 zlamberty zlamberty 1.3K Dec 30  2015 .gitconfig\n",
      "-rw-r-----   1 zlamberty zlamberty    0 Aug 31  2016 .gksu.lock\n",
      "drwx------   3 zlamberty zlamberty 4.0K Feb  7  2016 .gnome\n",
      "drwxr-xr-x   4 zlamberty zlamberty 4.0K Dec 29  2015 .gnome2\n",
      "drwx------   2 zlamberty zlamberty 4.0K Dec 29  2015 .gnome2_private\n",
      "drwx------   2 zlamberty zlamberty 4.0K May 11  2016 .gnupg\n",
      "drwx------   5 zlamberty zlamberty 4.0K Aug 11  2016 .ICAClient\n",
      "-rw-------   1 zlamberty zlamberty  18K Aug 10 19:53 .ICEauthority\n",
      "drwxr-xr-x   3 zlamberty zlamberty 4.0K Apr  4  2016 .idea-build\n",
      "drwxr-xr-x   4 zlamberty zlamberty 4.0K Apr  4  2016 .IdeaIC2016.1\n",
      "drwxr-xr-x   5 zlamberty zlamberty 4.0K May 13 16:19 .ipython\n",
      "drwxr-xr-x   3 zlamberty zlamberty 4.0K Apr  4  2016 .ivy2\n",
      "drwxr-xr-x   4 zlamberty zlamberty 4.0K Apr  4  2016 .java\n",
      "drwxr-xr-x   2 zlamberty zlamberty 4.0K Jun  6 19:57 .jupyter\n",
      "-rw-------   1 zlamberty zlamberty  282 Aug 20 20:19 .lesshst\n",
      "drwx------   3 zlamberty zlamberty 4.0K Dec 29  2015 .local\n",
      "drwx------   2 zlamberty zlamberty 4.0K Apr  4  2016 Mail\n",
      "-rw-r--r--   1 zlamberty zlamberty    0 Jan 29  2017 .mongorc.js\n",
      "drwx------   4 zlamberty zlamberty 4.0K Dec 29  2015 .mozilla\n",
      "drwxr-xr-x   3 zlamberty zlamberty 4.0K Aug 10 21:45 mtg\n",
      "drwxr-xr-x   2 zlamberty zlamberty 4.0K Dec 29  2015 Music\n",
      "drwx------   3 zlamberty zlamberty 4.0K Aug 20  2016 .mysql\n",
      "-rw-r--r--   1 zlamberty zlamberty   12 Feb 27  2016 .neo4j_shell_history\n",
      "drwxr-xr-x   4 zlamberty zlamberty 4.0K Jun  6 20:21 nltk_data\n",
      "-rw-------   1 zlamberty zlamberty  400 Jan 29  2017 .node_repl_history\n",
      "drwxr-xr-x 257 zlamberty zlamberty  12K Jan 29  2017 .npm\n",
      "-rw-------   1 zlamberty zlamberty   70 Jan 29  2017 .npmrc\n",
      "drwxr-xr-x   8 zlamberty zlamberty 4.0K Jan 29  2017 .nvm\n",
      "-rw-r--r--   1 zlamberty zlamberty    0 Apr 17  2016 .odbc.ini\n",
      "drwxr-xr-x   6 zlamberty zlamberty 4.0K Apr  4  2016 .p2\n",
      "-rw-r--r--   1 zlamberty zlamberty 3.3K Jan  7  2017 .pgadmin3\n",
      "-rw-r--r--   1 zlamberty zlamberty   55 Jan  7  2017 .pgadmin_histoqueries\n",
      "-rw-r--r--   1 zlamberty zlamberty  443 Jan  7  2017 pgadmin.log\n",
      "-rw-------   1 zlamberty zlamberty   33 Jan  7  2017 .pgpass\n",
      "drwxr-xr-x   2 zlamberty zlamberty 4.0K Aug 20 14:52 Pictures\n",
      "drwxr-xr-x   2 zlamberty zlamberty 4.0K Sep 12  2016 .pip\n",
      "drwx------   3 zlamberty zlamberty 4.0K Dec 29  2015 .pki\n",
      "drwxr-xr-x  13 zlamberty zlamberty 4.0K Jun 23 20:21 .PlayOnLinux\n",
      "lrwxrwxrwx   1 zlamberty zlamberty   41 Apr  4  2016 PlayOnLinux's virtual drives -> /home/zlamberty/.PlayOnLinux//wineprefix/\n",
      "drwxr-xr-x   2 zlamberty zlamberty 4.0K Jun 25 22:30 .plotly\n",
      "-rw-r--r--   1 zlamberty zlamberty  675 Dec 29  2015 .profile\n",
      "-rw-------   1 zlamberty zlamberty  14K Aug 14 22:17 .psql_history\n",
      "drwxr-xr-x   2 zlamberty zlamberty 4.0K Dec 29  2015 Public\n",
      "-rw-------   1 zlamberty zlamberty  256 Aug  4  2016 .pulse-cookie\n",
      "drwxr-xr-x   2 zlamberty zlamberty 4.0K Aug 13 13:15 .pylint.d\n",
      "-rw-------   1 zlamberty zlamberty 2.6K Aug 10 20:42 .python_history\n",
      "drwxr-xr-x   3 zlamberty zlamberty 4.0K Jan 28  2016 R\n",
      "-rw-r--r--   1 zlamberty zlamberty 8.8K Jun 26 21:38 results.csv\n",
      "drwxr-xr-x  13 zlamberty zlamberty 4.0K Apr 16  2016 .rstudio-desktop\n",
      "drwxr-xr-x   4 zlamberty zlamberty 4.0K Apr  4  2016 .sbt\n",
      "drwx------   2 zlamberty zlamberty 4.0K Jun 23 19:15 .secrets\n",
      "drwxr-xr-x   3 zlamberty zlamberty 4.0K Sep  7  2016 .shutter\n",
      "-rw-r--r--   1 zlamberty zlamberty   36 Feb  6  2016 .smbfsrc\n",
      "-rw-r--r--   1 zlamberty zlamberty   37 Feb  6  2016 .smbfsrc~\n",
      "drwxr-xr-x   2 zlamberty zlamberty 4.0K Jul 23 14:37 .ssh\n",
      "drwxr-xr-x  21 zlamberty zlamberty 4.0K Jan  7  2017 .steam\n",
      "drwxr-xr-x   3 zlamberty zlamberty 4.0K Aug  4  2016 Steam\n",
      "lrwxrwxrwx   1 zlamberty zlamberty   34 Jan  7  2017 .steampath -> /home/zlamberty/.steam/bin32/steam\n",
      "lrwxrwxrwx   1 zlamberty zlamberty   32 Jan  7  2017 .steampid -> /home/zlamberty/.steam/steam.pid\n",
      "drwxr-xr-x   6 zlamberty zlamberty  12K Aug 20 20:51 temp\n",
      "drwxr-xr-x   2 zlamberty zlamberty 4.0K Dec 29  2015 Templates\n",
      "-rw-r--r--   1 zlamberty zlamberty    0 Aug 11  2016 test.csv\n",
      "drwxr-xr-x  12 zlamberty zlamberty 4.0K Aug 29  2016 .themes\n",
      "drwx------   3 zlamberty zlamberty 4.0K Aug 20  2016 .thumbnails\n",
      "drwxr-xr-x   4 zlamberty zlamberty 4.0K Sep 12  2016 .venvs\n",
      "drwxr-xr-x   2 zlamberty zlamberty 4.0K Dec 29  2015 Videos\n",
      "drwxr-xr-x   4 zlamberty zlamberty 4.0K Jul  9 20:08 VirtualBox VMs\n",
      "drwx------   2 zlamberty zlamberty 4.0K Jul  8 18:26 .w3m\n",
      "drwxr-xr-x  11 zlamberty zlamberty 4.0K Dec  1  2016 .weechat\n",
      "drwxr-xr-x   4 zlamberty zlamberty 4.0K Aug 19  2016 .wine\n",
      "-rw-r--r--   1 zlamberty zlamberty 649K Apr 17  2016 winetricks\n",
      "drwxr-xr-x   3 zlamberty zlamberty 4.0K Apr  4  2016 workspace\n",
      "-rw-------   1 zlamberty zlamberty  317 Aug 10 19:53 .Xauthority\n",
      "drwx------   3 zlamberty zlamberty 4.0K Jun 11  2016 .xchat2\n",
      "-rw-------   1 zlamberty zlamberty  47M Aug 22 18:34 .xsession-errors\n",
      "-rw-------   1 zlamberty zlamberty 6.9M Aug 10 19:50 .xsession-errors.old\n"
     ]
    }
   ],
   "source": [
    "%%bash\n",
    "ls -alh ~"
   ]
  },
  {
   "cell_type": "markdown",
   "metadata": {
    "slideshow": {
     "slide_type": "subslide"
    }
   },
   "source": [
    "note that almost all of the items in the `/` directory had the phrase \"`root root`\" in the lines describing the files, and the files in this directory instead have `ubuntu ubuntu`.\n",
    "\n",
    "what do you think is going on there?"
   ]
  },
  {
   "cell_type": "markdown",
   "metadata": {
    "slideshow": {
     "slide_type": "fragment"
    }
   },
   "source": [
    "those two words are the `owner` and `group` of the file. They don't have to be the same and they can change. we'll cover permissions and permissions structure in just a second."
   ]
  },
  {
   "cell_type": "markdown",
   "metadata": {
    "slideshow": {
     "slide_type": "subslide"
    }
   },
   "source": [
    "among those files, there are a few worth pointing out right away -- the ones beginning with the phrase `.bash`. let's list them in our terminal, utilizing a glob (note the `*` character):\n",
    "\n",
    "```bash\n",
    "ls -alh ~/.bash*\n",
    "```\n",
    "\n",
    "this should match every file in our home directory `~` that starts with a `.bash` and ends with any number of characters of any kind"
   ]
  },
  {
   "cell_type": "code",
   "execution_count": 26,
   "metadata": {},
   "outputs": [
    {
     "name": "stdout",
     "output_type": "stream",
     "text": [
      "-rw-r--r-- 1 zlamberty zlamberty  271 Dec 30  2015 /home/zlamberty/.bash_aliases\n",
      "-rw------- 1 zlamberty zlamberty  53K Aug 21 23:48 /home/zlamberty/.bash_history\n",
      "-rw-r--r-- 1 zlamberty zlamberty  220 Dec 30  2015 /home/zlamberty/.bash_logout\n",
      "-rw-r--r-- 1 zlamberty zlamberty 4.4K May 13 21:15 /home/zlamberty/.bashrc\n",
      "-rw-r--r-- 1 zlamberty zlamberty 3.5K Dec 30  2015 /home/zlamberty/.bashrc-anaconda2.bak\n",
      "-rw-r--r-- 1 zlamberty zlamberty 4.4K May 13 16:13 /home/zlamberty/.bashrc-anaconda3.bak\n"
     ]
    }
   ],
   "source": [
    "%%bash\n",
    "ls -alh ~/.bash*"
   ]
  },
  {
   "cell_type": "markdown",
   "metadata": {
    "slideshow": {
     "slide_type": "subslide"
    }
   },
   "source": [
    "these files all configure how [*bash*](https://en.wikipedia.org/wiki/Bash_%28Unix_shell%29) (Bourne-again shell) operates, and are responsible for a lot of the ways you interact with the terminal.\n",
    "\n",
    "within the main file (`.bashrc`) we can set our own environment variable, change program configurations, change the color and wording in our command prompts, and much more.\n",
    "\n",
    "*note: the \"`xxxxxx rc `\" naming convention is fairly ubiquitous in the linux world. it stands for \"run control\" for archaic reasons, but generally speaking it means \"the configuration for '`xxxxxx`'\"*\n",
    "\n",
    "speaking of environment variables..."
   ]
  },
  {
   "cell_type": "markdown",
   "metadata": {
    "slideshow": {
     "slide_type": "slide"
    }
   },
   "source": [
    "## `bash` and environment variables"
   ]
  },
  {
   "cell_type": "markdown",
   "metadata": {
    "slideshow": {
     "slide_type": "subslide"
    }
   },
   "source": [
    "the commands you are executing in your terminal are a disparate set of decades-old `C` and `python` scripts. The process which exposes them to you as commands you can type is a *shell*, and there are different implementations of shells. The most common -- and the default in ubuntu (and therefore the one on your ec2 instances) -- is one called the \"Bourne-again shell\", or `bash`. `bash` acts as a powerful wrapper around another built in process in the linux world which is just called `shell`, or `sh` for short.\n",
    "\n",
    "Aside from being a way of interactively executing commands, `bash` is also a scripting language -- you can save a sequence of commands you enter in your terminal for repeat use -- this basically how batch processing works in the linux world.\n",
    "\n",
    "again, entire text books have been written about just `bash` and `bash` scripting; we don't have the time to cover it all in this course. For now, just the basics."
   ]
  },
  {
   "cell_type": "markdown",
   "metadata": {
    "slideshow": {
     "slide_type": "subslide"
    }
   },
   "source": [
    "### environment variables"
   ]
  },
  {
   "cell_type": "markdown",
   "metadata": {
    "slideshow": {
     "slide_type": "subslide"
    }
   },
   "source": [
    "Just like `python` or `R`, shell sessions have a concept of variables. They are strings following a dollar sign:\n",
    "\n",
    "```bash\n",
    "$VARIABLE_NAME\n",
    "```\n",
    "\n",
    "and usually come in that all-caps snake case.\n",
    "\n",
    "a lot of environment variables are already set -- look at the following, for example:\n",
    "\n",
    "```bash\n",
    "echo $USER\n",
    "echo $HOME\n",
    "echo $PWD\n",
    "```"
   ]
  },
  {
   "cell_type": "code",
   "execution_count": 33,
   "metadata": {},
   "outputs": [
    {
     "name": "stdout",
     "output_type": "stream",
     "text": [
      "zlamberty\n",
      "/home/zlamberty\n",
      "/home/zlamberty/code/gu/511\n"
     ]
    }
   ],
   "source": [
    "%%bash\n",
    "echo $USER\n",
    "echo $HOME\n",
    "echo $PWD"
   ]
  },
  {
   "cell_type": "markdown",
   "metadata": {},
   "source": [
    "those are your user name, your home directory, and directory you are currently \"in\" (`pwd` is short for Print Work Directory)."
   ]
  },
  {
   "cell_type": "markdown",
   "metadata": {
    "slideshow": {
     "slide_type": "subslide"
    }
   },
   "source": [
    "many of these variables were set on a system level (in the aforementioned `/etc` files), and each user's `.bashrc` gives them the ability to make updates as desired.\n",
    "\n",
    "Let's check out what variables already exist without us making changes via our `.bashrc` files. we can do this with the `env` (environment) command:\n",
    "\n",
    "```bash\n",
    "env\n",
    "```"
   ]
  },
  {
   "cell_type": "code",
   "execution_count": 36,
   "metadata": {
    "scrolled": true,
    "slideshow": {
     "slide_type": "-"
    }
   },
   "outputs": [
    {
     "name": "stdout",
     "output_type": "stream",
     "text": [
      "XDG_VTNR=7\n",
      "MANPATH=/home/zlamberty/.nvm/versions/node/v7.4.0/share/man:/usr/share/man\n",
      "XDG_SESSION_ID=1\n",
      "SSH_AGENT_PID=2020\n",
      "XDG_GREETER_DATA_DIR=/var/lib/lightdm/data/zlamberty\n",
      "GPG_AGENT_INFO=/run/user/1000/keyring/gpg:0:1\n",
      "NVM_CD_FLAGS=\n",
      "VTE_VERSION=3801\n",
      "SHELL=/bin/bash\n",
      "TERM=xterm-color\n",
      "CLICOLOR=1\n",
      "CURL_CA_BUNDLE=/etc/ssl/certs/ca-certificates.crt\n",
      "WINDOWID=44041512\n",
      "USER=zlamberty\n",
      "NVM_DIR=/home/zlamberty/.nvm\n",
      "DESKTOP_AUTOSTART_ID=1022191414f20a761a150240919263230400000019980002\n",
      "LS_COLORS=rs=0:di=01;34:ln=01;36:mh=00:pi=40;33:so=01;35:do=01;35:bd=40;33;01:cd=40;33;01:or=40;31;01:su=37;41:sg=30;43:ca=30;41:tw=30;42:ow=34;42:st=37;44:ex=01;32:*.tar=01;31:*.tgz=01;31:*.arc=01;31:*.arj=01;31:*.taz=01;31:*.lha=01;31:*.lz4=01;31:*.lzh=01;31:*.lzma=01;31:*.tlz=01;31:*.txz=01;31:*.tzo=01;31:*.t7z=01;31:*.zip=01;31:*.z=01;31:*.Z=01;31:*.dz=01;31:*.gz=01;31:*.lrz=01;31:*.lz=01;31:*.lzo=01;31:*.xz=01;31:*.bz2=01;31:*.bz=01;31:*.tbz=01;31:*.tbz2=01;31:*.tz=01;31:*.deb=01;31:*.rpm=01;31:*.jar=01;31:*.war=01;31:*.ear=01;31:*.sar=01;31:*.rar=01;31:*.alz=01;31:*.ace=01;31:*.zoo=01;31:*.cpio=01;31:*.7z=01;31:*.rz=01;31:*.cab=01;31:*.jpg=01;35:*.jpeg=01;35:*.gif=01;35:*.bmp=01;35:*.pbm=01;35:*.pgm=01;35:*.ppm=01;35:*.tga=01;35:*.xbm=01;35:*.xpm=01;35:*.tif=01;35:*.tiff=01;35:*.png=01;35:*.svg=01;35:*.svgz=01;35:*.mng=01;35:*.pcx=01;35:*.mov=01;35:*.mpg=01;35:*.mpeg=01;35:*.m2v=01;35:*.mkv=01;35:*.webm=01;35:*.ogm=01;35:*.mp4=01;35:*.m4v=01;35:*.mp4v=01;35:*.vob=01;35:*.qt=01;35:*.nuv=01;35:*.wmv=01;35:*.asf=01;35:*.rm=01;35:*.rmvb=01;35:*.flc=01;35:*.avi=01;35:*.fli=01;35:*.flv=01;35:*.gl=01;35:*.dl=01;35:*.xcf=01;35:*.xwd=01;35:*.yuv=01;35:*.cgm=01;35:*.emf=01;35:*.axv=01;35:*.anx=01;35:*.ogv=01;35:*.ogx=01;35:*.aac=00;36:*.au=00;36:*.flac=00;36:*.m4a=00;36:*.mid=00;36:*.midi=00;36:*.mka=00;36:*.mp3=00;36:*.mpc=00;36:*.ogg=00;36:*.ra=00;36:*.wav=00;36:*.axa=00;36:*.oga=00;36:*.spx=00;36:*.xspf=00;36:\n",
      "DEBEMAIL=r.zach.lamberty@gmail.com\n",
      "XDG_SESSION_PATH=/org/freedesktop/DisplayManager/Session0\n",
      "XDG_SEAT_PATH=/org/freedesktop/DisplayManager/Seat0\n",
      "SSH_AUTH_SOCK=/run/user/1000/keyring/ssh\n",
      "JPY_PARENT_PID=22534\n",
      "SESSION_MANAGER=local/megaman:@/tmp/.ICE-unix/1998,unix/megaman:/tmp/.ICE-unix/1998\n",
      "PAGER=cat\n",
      "DESKTOP_SESSION=lightdm-xsession\n",
      "PATH=/home/zlamberty/anaconda3/envs/bs/bin:/home/zlamberty/anaconda3/envs/bs/bin:/home/zlamberty/anaconda3/bin:/home/zlamberty/.nvm/versions/node/v7.4.0/bin:/usr/local/bin:/usr/bin:/bin:/usr/local/games:/usr/games\n",
      "CONDA_PATH_BACKUP=/home/zlamberty/anaconda3/bin:/home/zlamberty/.nvm/versions/node/v7.4.0/bin:/usr/local/bin:/usr/bin:/bin:/usr/local/games:/usr/games\n",
      "_=/usr/bin/env\n",
      "NVM_NODEJS_ORG_MIRROR=https://nodejs.org/dist\n",
      "CONDA_PREFIX=/home/zlamberty/anaconda3/envs/bs\n",
      "PWD=/home/zlamberty/code/gu/511\n",
      "MPLBACKEND=module://ipykernel.pylab.backend_inline\n",
      "EDITOR=emacsclient -t\n",
      "LANG=en_US.UTF-8\n",
      "GDM_LANG=en_US.utf8\n",
      "GDMSESSION=lightdm-xsession\n",
      "HOME=/home/zlamberty\n",
      "XDG_SEAT=seat0\n",
      "SHLVL=2\n",
      "GNOME_DESKTOP_SESSION_ID=this-is-deprecated\n",
      "CONDA_PS1_BACKUP=\\[\\e]0;\\u@\\h: \\w\\a\\]${debian_chroot:+($debian_chroot)}\\u@\\h:\\w\\$ \n",
      "LOGNAME=zlamberty\n",
      "VISUAL=emacsclient -c -a emacs\n",
      "DBUS_SESSION_BUS_ADDRESS=unix:abstract=/tmp/dbus-TIg4lUUf66,guid=0c15a5371cfc52a21a9a52c5598cf1e8\n",
      "XDG_DATA_DIRS=/usr/share/gnome:/usr/local/share/:/usr/share/\n",
      "DEBFULLNAME=R Zach Lamberty\n",
      "NVM_BIN=/home/zlamberty/.nvm/versions/node/v7.4.0/bin\n",
      "CONDA_DEFAULT_ENV=bs\n",
      "NVM_IOJS_ORG_MIRROR=https://iojs.org/dist\n",
      "DISPLAY=:0\n",
      "XDG_RUNTIME_DIR=/run/user/1000\n",
      "ALTERNATE_EDITOR=\n",
      "GIT_PAGER=cat\n",
      "XDG_CURRENT_DESKTOP=X-Cinnamon\n",
      "XAUTHORITY=/home/zlamberty/.Xauthority\n"
     ]
    }
   ],
   "source": [
    "%%bash\n",
    "env"
   ]
  },
  {
   "cell_type": "markdown",
   "metadata": {
    "slideshow": {
     "slide_type": "subslide"
    }
   },
   "source": [
    "That's a lot!\n",
    "\n",
    "note that `USER`, `HOME`, and `PWD` all exist in that list, along with many more."
   ]
  },
  {
   "cell_type": "markdown",
   "metadata": {
    "slideshow": {
     "slide_type": "subslide"
    }
   },
   "source": [
    "At the moment, I'll only point out one other important variable, because it comes up all the time: the `PATH` variable.\n",
    "\n",
    "```bash\n",
    "echo $PATH\n",
    "```"
   ]
  },
  {
   "cell_type": "code",
   "execution_count": 37,
   "metadata": {},
   "outputs": [
    {
     "name": "stdout",
     "output_type": "stream",
     "text": [
      "/home/zlamberty/anaconda3/envs/bs/bin:/home/zlamberty/anaconda3/envs/bs/bin:/home/zlamberty/anaconda3/bin:/home/zlamberty/.nvm/versions/node/v7.4.0/bin:/usr/local/bin:/usr/bin:/bin:/usr/local/games:/usr/games\n"
     ]
    }
   ],
   "source": [
    "%%bash\n",
    "echo $PATH"
   ]
  },
  {
   "cell_type": "markdown",
   "metadata": {
    "slideshow": {
     "slide_type": "subslide"
    }
   },
   "source": [
    "the `PATH` variable is a `:`-separated list of directories in which the shell process should look for anything.\n",
    "\n",
    "suppose you just installed an awesome program called `l33tmode` and you want to run it from the command line. when you type in `l33tmode`, the bash process will check those paths one at a time to see if `l33tmode` is within any of them. If it finds `l33tmode` once, it will execute it. If it makes it through every directory and finds nothing, it will return an error"
   ]
  },
  {
   "cell_type": "code",
   "execution_count": 38,
   "metadata": {},
   "outputs": [
    {
     "name": "stderr",
     "output_type": "stream",
     "text": [
      "bash: line 1: command_that_doesnt_exist: command not found\n"
     ]
    }
   ],
   "source": [
    "%%bash\n",
    "command_that_doesnt_exist"
   ]
  },
  {
   "cell_type": "markdown",
   "metadata": {
    "slideshow": {
     "slide_type": "subslide"
    }
   },
   "source": [
    "**why bring this up?**\n",
    "\n",
    "whether or not a given thing is found in a directory in your path is often a primary cause of unexpected problems. it's also something that you often find yourself updating based on trouble-shooting or installation instructions, so you it's good to know what it's there for.\n",
    "\n",
    "For example, if you installed a program you want to use in `/opt`, for example -- that may have been a good idea, but without adding `/opt` to your path, you will need to be explicit when calling that command -- `/opt/zachs_super_programs/l33tmode`, for example."
   ]
  },
  {
   "cell_type": "markdown",
   "metadata": {
    "slideshow": {
     "slide_type": "subslide"
    }
   },
   "source": [
    "### `.bashrc`\n",
    "\n",
    "as I mentioned above, `bash` has a primary configuration file for each user located at `~/.bashrc`. \n",
    "\n",
    "let's look at the contents of that file using the `cat` (concatenate) command \n",
    "\n",
    "```bash\n",
    "cat ~/.bashrc\n",
    "```"
   ]
  },
  {
   "cell_type": "code",
   "execution_count": 39,
   "metadata": {},
   "outputs": [
    {
     "name": "stdout",
     "output_type": "stream",
     "text": [
      "# ~/.bashrc: executed by bash(1) for non-login shells.\n",
      "# see /usr/share/doc/bash/examples/startup-files (in the package bash-doc)\n",
      "# for examples\n",
      "\n",
      "# If not running interactively, don't do anything\n",
      "case $- in\n",
      "    *i*) ;;\n",
      "      *) return;;\n",
      "esac\n",
      "\n",
      "# don't put duplicate lines or lines starting with space in the history.\n",
      "# See bash(1) for more options\n",
      "HISTCONTROL=ignoreboth\n",
      "\n",
      "# append to the history file, don't overwrite it\n",
      "shopt -s histappend\n",
      "\n",
      "# for setting history length see HISTSIZE and HISTFILESIZE in bash(1)\n",
      "HISTSIZE=1000\n",
      "HISTFILESIZE=2000\n",
      "\n",
      "# check the window size after each command and, if necessary,\n",
      "# update the values of LINES and COLUMNS.\n",
      "shopt -s checkwinsize\n",
      "\n",
      "# If set, the pattern \"**\" used in a pathname expansion context will\n",
      "# match all files and zero or more directories and subdirectories.\n",
      "#shopt -s globstar\n",
      "\n",
      "# make less more friendly for non-text input files, see lesspipe(1)\n",
      "#[ -x /usr/bin/lesspipe ] && eval \"$(SHELL=/bin/sh lesspipe)\"\n",
      "\n",
      "# set variable identifying the chroot you work in (used in the prompt below)\n",
      "if [ -z \"${debian_chroot:-}\" ] && [ -r /etc/debian_chroot ]; then\n",
      "    debian_chroot=$(cat /etc/debian_chroot)\n",
      "fi\n",
      "\n",
      "# set a fancy prompt (non-color, unless we know we \"want\" color)\n",
      "case \"$TERM\" in\n",
      "    xterm-color) color_prompt=yes;;\n",
      "esac\n",
      "\n",
      "# uncomment for a colored prompt, if the terminal has the capability; turned\n",
      "# off by default to not distract the user: the focus in a terminal window\n",
      "# should be on the output of commands, not on the prompt\n",
      "#force_color_prompt=yes\n",
      "\n",
      "if [ -n \"$force_color_prompt\" ]; then\n",
      "    if [ -x /usr/bin/tput ] && tput setaf 1 >&/dev/null; then\n",
      "\t# We have color support; assume it's compliant with Ecma-48\n",
      "\t# (ISO/IEC-6429). (Lack of such support is extremely rare, and such\n",
      "\t# a case would tend to support setf rather than setaf.)\n",
      "\tcolor_prompt=yes\n",
      "    else\n",
      "\tcolor_prompt=\n",
      "    fi\n",
      "fi\n",
      "\n",
      "if [ \"$color_prompt\" = yes ]; then\n",
      "    PS1='${debian_chroot:+($debian_chroot)}\\[\\033[01;32m\\]\\u@\\h\\[\\033[00m\\]:\\[\\033[01;34m\\]\\w\\[\\033[00m\\]\\$ '\n",
      "else\n",
      "    PS1='${debian_chroot:+($debian_chroot)}\\u@\\h:\\w\\$ '\n",
      "fi\n",
      "unset color_prompt force_color_prompt\n",
      "\n",
      "# If this is an xterm set the title to user@host:dir\n",
      "case \"$TERM\" in\n",
      "xterm*|rxvt*)\n",
      "    PS1=\"\\[\\e]0;${debian_chroot:+($debian_chroot)}\\u@\\h: \\w\\a\\]$PS1\"\n",
      "    ;;\n",
      "*)\n",
      "    ;;\n",
      "esac\n",
      "\n",
      "# enable color support of ls and also add handy aliases\n",
      "if [ -x /usr/bin/dircolors ]; then\n",
      "    test -r ~/.dircolors && eval \"$(dircolors -b ~/.dircolors)\" || eval \"$(dircolors -b)\"\n",
      "    alias ls='ls --color=auto'\n",
      "    #alias dir='dir --color=auto'\n",
      "    #alias vdir='vdir --color=auto'\n",
      "\n",
      "    #alias grep='grep --color=auto'\n",
      "    #alias fgrep='fgrep --color=auto'\n",
      "    #alias egrep='egrep --color=auto'\n",
      "fi\n",
      "\n",
      "# some more ls aliases\n",
      "#alias ll='ls -l'\n",
      "#alias la='ls -A'\n",
      "#alias l='ls -CF'\n",
      "\n",
      "# Alias definitions.\n",
      "# You may want to put all your additions into a separate file like\n",
      "# ~/.bash_aliases, instead of adding them here directly.\n",
      "# See /usr/share/doc/bash-doc/examples in the bash-doc package.\n",
      "\n",
      "if [ -f ~/.bash_aliases ]; then\n",
      "    . ~/.bash_aliases\n",
      "fi\n",
      "\n",
      "# enable programmable completion features (you don't need to enable\n",
      "# this, if it's already enabled in /etc/bash.bashrc and /etc/profile\n",
      "# sources /etc/bash.bashrc).\n",
      "if ! shopt -oq posix; then\n",
      "  if [ -f /usr/share/bash-completion/bash_completion ]; then\n",
      "    . /usr/share/bash-completion/bash_completion\n",
      "  elif [ -f /etc/bash_completion ]; then\n",
      "    . /etc/bash_completion\n",
      "  fi\n",
      "fi\n",
      "\n",
      "\n",
      "# R Zach Lamberty specific configs\n",
      "export TERM=xterm-256color\n",
      "\n",
      "# Base16 Shell\n",
      "BASE16_SHELL=\"$HOME/.config/base16-shell/base16-monokai.dark.sh\"\n",
      "[[ -s $BASE16_SHELL ]] && source $BASE16_SHELL\n",
      "\n",
      "# debian stuff (from the debian package maintainer's guide)\n",
      "export DEBEMAIL=\"r.zach.lamberty@gmail.com\"\n",
      "export DEBFULLNAME=\"R Zach Lamberty\"\n",
      "alias dquilt=\"quilt --quiltrc=${HOME}/.quiltrc-dpkg\"\n",
      "complete -F _quilt_completion $_quilt_complete_opt dquilt\n",
      "\n",
      "# emacs stuff\n",
      "export ALTERNATE_EDITOR=\"\"\n",
      "export EDITOR=\"emacsclient -t\"           # $EDITOR should open in terminal\n",
      "export VISUAL=\"emacsclient -c -a emacs\"  # $VISUAL opens in GUI with non-daemon as alternate\n",
      "\n",
      "export NVM_DIR=\"/home/zlamberty/.nvm\"\n",
      "[ -s \"$NVM_DIR/nvm.sh\" ] && \\. \"$NVM_DIR/nvm.sh\"  # This loads nvm\n",
      "\n",
      "# solving a curl certs issue (cropped up in nvm installation but probably a more\n",
      "# generic problem than just that)\n",
      "export CURL_CA_BUNDLE=/etc/ssl/certs/ca-certificates.crt\n",
      "\n",
      "# added by Anaconda3 4.3.1 installer\n",
      "export PATH=\"/home/zlamberty/anaconda3/bin:$PATH\"\n",
      "\n",
      "# anaconda environment I basically always want to load\n",
      "source activate bs\n"
     ]
    }
   ],
   "source": [
    "%%bash\n",
    "cat ~/.bashrc"
   ]
  },
  {
   "cell_type": "markdown",
   "metadata": {
    "slideshow": {
     "slide_type": "subslide"
    }
   },
   "source": [
    "**diversion**: \n",
    "\n",
    "why did we `cat` this time and `echo` before?\n",
    "\n",
    "what's different about the two programs?"
   ]
  },
  {
   "cell_type": "markdown",
   "metadata": {
    "slideshow": {
     "slide_type": "fragment"
    }
   },
   "source": [
    "+ `echo` will print exactly what is passed (after resolving variables) back to the screen\n",
    "    + we used it above to *resolve* the variable `~` and then print it so we could read the result\n",
    "    + if we attempted to `echo` that file, it would literally echo us -- it would take that file name and print it to screen. try it\n",
    "+ `cat` is expecting a file, and it will open that file and print the contents\n",
    "\n",
    "```bash\n",
    "echo ~/.bashrc\n",
    "```"
   ]
  },
  {
   "cell_type": "code",
   "execution_count": 40,
   "metadata": {},
   "outputs": [
    {
     "name": "stdout",
     "output_type": "stream",
     "text": [
      "/home/zlamberty/.bashrc\n"
     ]
    }
   ],
   "source": [
    "%%bash\n",
    "echo ~/.bashrc"
   ]
  },
  {
   "cell_type": "markdown",
   "metadata": {
    "slideshow": {
     "slide_type": "subslide"
    }
   },
   "source": [
    "Many things are done in `.bashrc` files, but three are most common:\n",
    "\n",
    "1. run a command every time we start a command line session\n",
    "    1. example: `source activate my_conda_environment`\n",
    "2. update or set our own variables\n",
    "    1. example: `export ENV=DEV`\n",
    "3. create aliases\n",
    "    1. example: `alias l33t=my_complicated --expression -t hat -i am --tired oftyping`\n",
    "    2. an alias is a shortcut for a larger command or sequence of commands\n",
    "    3. technically, this is just a type of the first element"
   ]
  },
  {
   "cell_type": "markdown",
   "metadata": {
    "slideshow": {
     "slide_type": "subslide"
    }
   },
   "source": [
    "let's focus on piece 3 -- creating an alias. Note that we've typed the same thing many times above:\n",
    "\n",
    "```bash\n",
    "ls -alh /some/path\n",
    "```\n",
    "\n",
    "it would be convenient if we didn't have to type that all the time -- maybe we should make an alias? Try\n",
    "\n",
    "```bash\n",
    "ll ~\n",
    "```"
   ]
  },
  {
   "cell_type": "code",
   "execution_count": 42,
   "metadata": {},
   "outputs": [
    {
     "name": "stderr",
     "output_type": "stream",
     "text": [
      "bash: line 1: ll: command not found\n"
     ]
    }
   ],
   "source": [
    "%%bash\n",
    "ll ~/"
   ]
  },
  {
   "cell_type": "markdown",
   "metadata": {
    "slideshow": {
     "slide_type": "subslide"
    }
   },
   "source": [
    "on your ec2 system, that should have worked -- some one already put that alias in your `.bashrc` (that some one is the AMI creator).\n",
    "\n",
    "This command -- and others you will get used to, over time -- are not pre-configured on every machine. Eventually you'll get to a machine where you don't have the `ll` command, and you'll have to remember to create the alias and where you save aliases.\n",
    "\n",
    "here's [a list of awesome aliases](https://www.cyberciti.biz/tips/bash-aliases-mac-centos-linux-unix.html). don't add them yet -- learning the commands the \"long\" way is useful itself, and gives you the appreciation of the reasons for these shorthands."
   ]
  },
  {
   "cell_type": "markdown",
   "metadata": {
    "slideshow": {
     "slide_type": "subslide"
    }
   },
   "source": [
    "### keeping things separate\n",
    "\n",
    "perhaps at this point you may have an appreciation for an off-hand comment back in the \"file structure and organization\" segment: the files in `/home` are seperated from the rest for a specific reason. As time goes on, you will tweak and update your `.bashrc` file to get your bash session *juuuuust* the way you want it. You'll do this for many other files too, and those tweaks and updates will live in your `~` directory.\n",
    "\n",
    "when the sysad wants to do something reckless (like update the OS without a UAT phase, for example), it will be good to have all the files that define *your* experience living in a place that isn't disrupted by this.\n",
    "\n",
    "it's also easier, when migrating, to just zip up the contents of your home directory and move them to your new computer. Anyone who has ever bought a new windows desktop knows the dance of keeping the old computer around long enough to be sure you haven't missed any super important files while copying over -- well, in the linux world that is a problem that is solved via discipline and the `/home` directory"
   ]
  },
  {
   "cell_type": "markdown",
   "metadata": {
    "slideshow": {
     "slide_type": "slide"
    }
   },
   "source": [
    "## permissions"
   ]
  },
  {
   "cell_type": "markdown",
   "metadata": {
    "slideshow": {
     "slide_type": "subslide"
    }
   },
   "source": [
    "Let's dig in to the printout information that we see every time we run the `ll -h` command:\n",
    "\n",
    "```\n",
    "drwxr-xr-x 4 ubuntu ubuntu 4.0K Aug 23 02:58 ./\n",
    "drwxr-xr-x 3 root   root   4.0K Aug 23 02:55 ../\n",
    "-rw-r--r-- 1 ubuntu ubuntu  220 Aug 31  2015 .bash_logout\n",
    "-rw-r--r-- 1 ubuntu ubuntu 3.7K Aug 31  2015 .bashrc\n",
    "drwx------ 2 ubuntu ubuntu 4.0K Aug 23 02:58 .cache/\n",
    "-rw-r--r-- 1 ubuntu ubuntu  655 May 16 12:49 .profile\n",
    "drwx------ 2 ubuntu ubuntu 4.0K Aug 23 02:55 .ssh/\n",
    "```"
   ]
  },
  {
   "cell_type": "markdown",
   "metadata": {
    "slideshow": {
     "slide_type": "subslide"
    }
   },
   "source": [
    "each of the above lines comes with 7 elements:\n",
    "\n",
    "```\n",
    "-rw-r--r-- 1 ubuntu ubuntu 3.7k Aug 31  2015 .bashrc\n",
    "```\n",
    "\n",
    "1. the permission bits\n",
    "    1. a 10-character string with characters d, r, w, x, and -\n",
    "2. the number of \"links\"\n",
    "    1. for directories, the number of sub-directories including `.` and `..`\n",
    "    2. for files, 1\n",
    "3. the owner name\n",
    "    1. a user name (`ubuntu` or `root`, here)\n",
    "4. the owner group\n",
    "    1. a group name (`ubuntu` or `root`, here)\n",
    "5. the file size\n",
    "    1. the flag `-h` writes them as **h**uman readable\n",
    "6. a timestamp\n",
    "    1. when the file was last touched\n",
    "7. the file or directory name\n",
    "\n",
    "we're going to focus on the permission items -- 1, 3, and 4"
   ]
  },
  {
   "cell_type": "markdown",
   "metadata": {
    "slideshow": {
     "slide_type": "subslide"
    }
   },
   "source": [
    "### permissions: user and group"
   ]
  },
  {
   "cell_type": "markdown",
   "metadata": {
    "slideshow": {
     "slide_type": "subslide"
    }
   },
   "source": [
    "the first thing to know is that the linux world considers three levels of permissions for every file on the system\n",
    "\n",
    "1. user\n",
    "2. group\n",
    "3. global\n",
    "\n",
    "every file has permissions that apply to the user that owns it, the group that owns it, and then everyone who does not fall into those first two buckets."
   ]
  },
  {
   "cell_type": "markdown",
   "metadata": {
    "slideshow": {
     "slide_type": "subslide"
    }
   },
   "source": [
    "right now, your user is `ubuntu`. You could find this with either of the two following commands:\n",
    "\n",
    "```bash\n",
    "whoami\n",
    "```\n",
    "\n",
    "or\n",
    "\n",
    "```bash\n",
    "echo $USER\n",
    "```"
   ]
  },
  {
   "cell_type": "code",
   "execution_count": 43,
   "metadata": {},
   "outputs": [
    {
     "name": "stdout",
     "output_type": "stream",
     "text": [
      "zlamberty\n"
     ]
    }
   ],
   "source": [
    "%%bash\n",
    "whoami"
   ]
  },
  {
   "cell_type": "code",
   "execution_count": 44,
   "metadata": {},
   "outputs": [
    {
     "name": "stdout",
     "output_type": "stream",
     "text": [
      "zlamberty\n"
     ]
    }
   ],
   "source": [
    "%%bash\n",
    "echo $USER"
   ]
  },
  {
   "cell_type": "markdown",
   "metadata": {
    "slideshow": {
     "slide_type": "subslide"
    }
   },
   "source": [
    "each user is also a member of some number of groups (a \"group\" is a collection of users or other groups). By default, every user in the ubuntu OS is put into a group with the same name as the user name, but you may be in many more\n",
    "\n",
    "to check the groups your user is in:\n",
    "\n",
    "```bash\n",
    "groups\n",
    "```"
   ]
  },
  {
   "cell_type": "code",
   "execution_count": 46,
   "metadata": {},
   "outputs": [
    {
     "name": "stdout",
     "output_type": "stream",
     "text": [
      "zlamberty cdrom floppy sudo audio dip video plugdev netdev lpadmin scanner bluetooth\n"
     ]
    }
   ],
   "source": [
    "%%bash\n",
    "groups"
   ]
  },
  {
   "cell_type": "markdown",
   "metadata": {
    "slideshow": {
     "slide_type": "subslide"
    }
   },
   "source": [
    "so, returning for a moment to our home directory:\n",
    "\n",
    "```\n",
    "drwxr-xr-x 4 ubuntu ubuntu 4.0K Aug 23 02:58 ./\n",
    "drwxr-xr-x 3 root   root   4.0K Aug 23 02:55 ../\n",
    "-rw-r--r-- 1 ubuntu ubuntu  220 Aug 31  2015 .bash_logout\n",
    "-rw-r--r-- 1 ubuntu ubuntu 3.7K Aug 31  2015 .bashrc\n",
    "drwx------ 2 ubuntu ubuntu 4.0K Aug 23 02:58 .cache/\n",
    "-rw-r--r-- 1 ubuntu ubuntu  655 May 16 12:49 .profile\n",
    "drwx------ 2 ubuntu ubuntu 4.0K Aug 23 02:55 .ssh/\n",
    "```\n",
    "\n",
    "we see that the parent directory (`..`) is owned by user `root` and group `root`, but every other item is owned by us (user `ubuntu` and group `ubuntu`)"
   ]
  },
  {
   "cell_type": "markdown",
   "metadata": {
    "slideshow": {
     "slide_type": "subslide"
    }
   },
   "source": [
    "how does that compare to the root directory? \n",
    "\n",
    "to `/var/log`?\n",
    "\n",
    "*what is the command for displaying these directories, and who are the users and groups which owns those files?*"
   ]
  },
  {
   "cell_type": "markdown",
   "metadata": {
    "slideshow": {
     "slide_type": "subslide"
    }
   },
   "source": [
    "#### changing user or group ownership\n",
    "\n",
    "**if** you are the user which owns the file, you can change the user or the group\n",
    "\n",
    "**if** you are a member of the group which owns the file, you can change the group.\n",
    "\n",
    "\n",
    "the command to change the owner is `chown`\n",
    "\n",
    "the command to change the group is `chgrp`"
   ]
  },
  {
   "cell_type": "markdown",
   "metadata": {
    "slideshow": {
     "slide_type": "subslide"
    }
   },
   "source": [
    "### permissions: mode bit string"
   ]
  },
  {
   "cell_type": "markdown",
   "metadata": {
    "slideshow": {
     "slide_type": "subslide"
    }
   },
   "source": [
    "the real secret sauce of linux permissioning is these leading ten characters, and learning to read them and modify them is a huge win.\n",
    "\n",
    "the very first character is either a `d` (for \"directory\"), or a `-` (not a directory).\n",
    "\n",
    "the remaining 9 charaters are actually 3 groups of 3 characters."
   ]
  },
  {
   "cell_type": "markdown",
   "metadata": {
    "slideshow": {
     "slide_type": "fragment"
    }
   },
   "source": [
    "the first group of 3 characters is for the **user** which owns the file\n",
    "\n",
    "the second group of 3 characters is for the **group** which owns the file\n",
    "\n",
    "the final group of 3 characters if for **everyone else**"
   ]
  },
  {
   "cell_type": "markdown",
   "metadata": {
    "slideshow": {
     "slide_type": "subslide"
    }
   },
   "source": [
    "each group of 3 characters lays out the privelege level of the user, group, or system:\n",
    "\n",
    "1. a `r` (for \"read\") or a `-`\n",
    "2. a `w` (for \"write\") or a `-`\n",
    "3. a `x` (for \"execute\") or a `-`\n",
    "\n",
    "\"execute\" means you the file is something which can be run (if the system knows how), or is a directory users can open."
   ]
  },
  {
   "cell_type": "markdown",
   "metadata": {},
   "source": [
    "again, returning to the `ll -h` results:\n",
    "\n",
    "```\n",
    "drwxr-xr-x 4 ubuntu ubuntu 4.0K Aug 23 02:58 ./\n",
    "drwxr-xr-x 3 root   root   4.0K Aug 23 02:55 ../\n",
    "-rw-r--r-- 1 ubuntu ubuntu  220 Aug 31  2015 .bash_logout\n",
    "-rw-r--r-- 1 ubuntu ubuntu 3.7K Aug 31  2015 .bashrc\n",
    "drwx------ 2 ubuntu ubuntu 4.0K Aug 23 02:58 .cache/\n",
    "-rw-r--r-- 1 ubuntu ubuntu  655 May 16 12:49 .profile\n",
    "drwx------ 2 ubuntu ubuntu 4.0K Aug 23 02:55 .ssh/\n",
    "```\n",
    "\n",
    "what are the permissions on `.bashrc`?"
   ]
  },
  {
   "cell_type": "markdown",
   "metadata": {
    "slideshow": {
     "slide_type": "fragment"
    }
   },
   "source": [
    "what are the permissions on `.ssh`?"
   ]
  },
  {
   "cell_type": "markdown",
   "metadata": {
    "slideshow": {
     "slide_type": "fragment"
    }
   },
   "source": [
    "why might the permissions between the two be different?"
   ]
  },
  {
   "cell_type": "markdown",
   "metadata": {
    "slideshow": {
     "slide_type": "subslide"
    }
   },
   "source": [
    "#### bit representation\n",
    "\n",
    "there is a common shorthand for discussing those 9 permission characters as a set of 3 digits. the rule is as follows:\n",
    "\n",
    "+ start with a value of 0\n",
    "+ if the `x` flag is set, add 1 ($2^0$)\n",
    "+ if the `w` flag is set, add 2 ($2^1$)\n",
    "+ if the `r` flag is set, add 4 ($2^2$)\n",
    "\n",
    "this guarantees a unique permission number for every one of the 8 possible permission combinations:\n",
    "\n",
    "| permission string | value |\n",
    "|-------------------|-------|\n",
    "| `---` | 0 |\n",
    "| `--x` | 1 |\n",
    "| `-w-` | 2 |\n",
    "| `-wx` | 3 |\n",
    "| `r--` | 4 |\n",
    "| `r-x` | 5 |\n",
    "| `rw-` | 6 |\n",
    "| `rwx` | 7 |\n",
    "\n",
    "Because of this, a sequence of 9 characters is often discussed as 3 numbers:\n",
    "\n",
    "+ `rwxrwxrwx` is 777\n",
    "+ `rw-r-----` is 640"
   ]
  },
  {
   "cell_type": "markdown",
   "metadata": {
    "slideshow": {
     "slide_type": "subslide"
    }
   },
   "source": [
    "#### changing permission mode string\n",
    "\n",
    "the command to change the permission mode string is `chmod`, and it works in both the chracter representation and the bit representation\n",
    "\n",
    "to update the permission mode string using the character representation, you ask the following:\n",
    "\n",
    "+ am I changing permissions for the\n",
    "    + `u`: user\n",
    "    + `g`: group\n",
    "    + `a`: all others\n",
    "+ am I\n",
    "    + `+`: adding permission\n",
    "    + `-`: revoking permission\n",
    "+ is the permission\n",
    "    + `r`: read\n",
    "    + `w`: write\n",
    "    + `x`: execute\n",
    "    \n",
    "given the above answers, you concatenate them. To give (`+`) all users (`a`) read permission (`r`) you would run\n",
    "\n",
    "```bash\n",
    "chmod a+r /my/file\n",
    "```"
   ]
  },
  {
   "cell_type": "markdown",
   "metadata": {
    "slideshow": {
     "slide_type": "subslide"
    }
   },
   "source": [
    "to update the permission mode string using the numeric representation, you simply calculate the exact permission string you wish to have as a number and assign it.\n",
    "\n",
    "for example, to give users and groups complete control over a file, but completely restrict the outside world, you would apply\n",
    "\n",
    "```bash\n",
    "chmod 770 /my/file\n",
    "```\n",
    "\n",
    "for your `ssh` key, you probably had to make the permissions more restrictive -- this is to make sure that you and only you can edit them. To do this, we would make the file readable by us and remove all permissions from group owners and everyone else:\n",
    "\n",
    "```bash\n",
    "chmod 400 ~/.ssh/my_aws_private_key.pem\n",
    "```"
   ]
  },
  {
   "cell_type": "markdown",
   "metadata": {
    "slideshow": {
     "slide_type": "subslide"
    }
   },
   "source": [
    "changing file permissions is a bit of a black art at first. You'll open the same webpages for the same tutorials every time. You'll learn that there are special characters beyond `rwx` and they do wild and mysterious things.\n",
    "\n",
    "Eventually, you'll get the hang of it!\n",
    "\n",
    "at the very least, you should know how to read these permission strings. They will explain so many of the errors you encounter."
   ]
  },
  {
   "cell_type": "markdown",
   "metadata": {
    "slideshow": {
     "slide_type": "slide"
    }
   },
   "source": [
    "## super user, *aka* [`sudo`](https://xkcd.com/149/)"
   ]
  },
  {
   "cell_type": "markdown",
   "metadata": {
    "slideshow": {
     "slide_type": "subslide"
    }
   },
   "source": [
    "there is one major exception to the rules listed above: the super user.\n",
    "\n",
    "linux has a concept called \"super user\" which is, as the name implies, pretty super. this user can be thought of as the adminstrator account on the linux machine, and as administrator it owns many of the most important configuration files and runs most of the essential processes.\n",
    "\n",
    "Anything that the super user does is protected by the permission structure -- only the super user may change the files or alter the processes run by the super user.\n",
    "\n",
    "the super user is often colloquially and sometimes literally called `root` (literally on ubuntu -- you will notice that a user named `root` owns and runs most things)."
   ]
  },
  {
   "cell_type": "markdown",
   "metadata": {
    "slideshow": {
     "slide_type": "subslide"
    }
   },
   "source": [
    "this all begs the question: when I want to break everything, how do I do it? if this super user has been put in place to properlyconfigure everything on my machine and keep things running smoothly, how am I expected to make a mess of it?\n",
    "\n",
    "linux developers thought of this, too, and have constructed a system whereby non-`root` users can be given root permissions in some or all cases.\n",
    "\n",
    "on your ec2 instance, user `ubuntu` has already been granted most sudo priveleges. in the real world, the sysad will make this decision. If a sysad *doesn't* give you sudo priveleges, know that while that is annoying that is *actually a very good sign* -- that sysad has standards and control policies in place and there is likely a centralized way of doing things.\n",
    "\n",
    "*weeds note: granting sudo permission is done by adding users to a \"sudoers\" file, where you can configure the level and types of access granted to each user on the machine. it can be configured down to the command level*"
   ]
  },
  {
   "cell_type": "markdown",
   "metadata": {
    "slideshow": {
     "slide_type": "subslide"
    }
   },
   "source": [
    "you *use* your sudo priveleges by \"becoming\" the super user. you can do this in two ways:\n",
    "\n",
    "1. `sudo su`\n",
    "    1. this will have you \"log in\" and create a new shell in which you are acting in all way as the super user.\n",
    "    2. every command you type after this until you `exit` will be performed as the root user\n",
    "    3. **BE CAREFUL!**\n",
    "    4. probably don't\n",
    "2. `sudo [type my command here]`\n",
    "    1. this will momentarily log you in as the root user and execute the provided command, then log you out\n",
    "    2. **STILL BE CAREFUL!**\n",
    "    3. still probably don't\n",
    "    \n",
    "note: `sudo su` is technically just a special instance of `sudo [type my command here]` where the command is `su`."
   ]
  },
  {
   "cell_type": "markdown",
   "metadata": {
    "slideshow": {
     "slide_type": "slide"
    }
   },
   "source": [
    "## philosophy"
   ]
  },
  {
   "cell_type": "markdown",
   "metadata": {
    "slideshow": {
     "slide_type": "subslide"
    }
   },
   "source": [
    "there is a much ballyhooed [list of linux and unix philosophies](https://en.wikipedia.org/wiki/Unix_philosophy#Mike_Gancarz:_The_UNIX_Philosophy):\n",
    "\n",
    "1. small is beautiful\n",
    "2. do one thing and do it well (DOTADIW)\n",
    "3. build a prototype as soon as possible\n",
    "4. choose portability over efficiency\n",
    "5. store data in flat text files\n",
    "6. use software leverage to your advantage\n",
    "7. use shell scripts to increase leverage and portability\n",
    "8. avoid captive user interfaces\n",
    "9. make every program a filter\n",
    "\n",
    "most of these are guidelines on how to *develop* linux, but there are important lessons in here about how you are intended to *use* linux."
   ]
  },
  {
   "cell_type": "markdown",
   "metadata": {
    "slideshow": {
     "slide_type": "subslide"
    }
   },
   "source": [
    "##### do one thing and do it well (DOTADIW)\n",
    "\n",
    "this is the most commonly cited linux philosophy, and is pretty central to the identity. I'd note that this is the opposite of many windows or mac world solutions, which attempt to act as swiss army knives across multiple domains.\n",
    "\n",
    "as such, you should be wary of commands which purport the ability to do many things. though they may fail to live up to their promise, that is not the reason: the real reason to avoid such tools is that the community at large is likely to reject them, and support for them may not extend past the first developer. if that developer becomes distracted or disinterested, they may become *abandonware*\n",
    "\n",
    "this is not a problem all that often, but something worth knowing ahead of time."
   ]
  },
  {
   "cell_type": "markdown",
   "metadata": {
    "slideshow": {
     "slide_type": "subslide"
    }
   },
   "source": [
    "##### store data in flat text files\n",
    "\n",
    "many of the linux and bash tools you will use are specifically optimized for reading and writing files. this is contrary to some data science and data engineering instincts, which favor databases or data lakes\n",
    "\n",
    "personally, I recommend the following approach: flat text files are the default; advanced storage methods are the exception. "
   ]
  },
  {
   "cell_type": "markdown",
   "metadata": {
    "slideshow": {
     "slide_type": "subslide"
    }
   },
   "source": [
    "##### avoid captive user interfaces\n",
    "\n",
    "this is related to a basic usability question: should running a program require active participation from a user?\n",
    "\n",
    "beginning programmers often rely on interactive prompts or hard-coded pieces of programs to set the variables and constants which configure how your program will be processed. *both* of these approaches cause a user to \"interact\" with the codebase in order to run a specific instance of a program.\n",
    "\n",
    "for example, whend eveloping a data engineering pipeline, you may be inspired to program the number of folds in your cross-validation. you probably know that it's going to be annoying to have to type that number in every time you run."
   ]
  },
  {
   "cell_type": "markdown",
   "metadata": {
    "slideshow": {
     "slide_type": "fragment"
    }
   },
   "source": [
    "why is hard-coding the number better?\n",
    "\n",
    "why is it worse?"
   ]
  },
  {
   "cell_type": "markdown",
   "metadata": {
    "slideshow": {
     "slide_type": "fragment"
    }
   },
   "source": [
    "what is another option?"
   ]
  },
  {
   "cell_type": "markdown",
   "metadata": {
    "slideshow": {
     "slide_type": "subslide"
    }
   },
   "source": [
    "put these possibly changeable parameters and constants into *configuration* files, and build a program which knows how to *read* configuration files.\n",
    "\n",
    "this has several benefits:\n",
    "\n",
    "1. the user doesn't change the code *in any way* to run a particular version of the process\n",
    "2. the configuration files can be version controlled separately\n",
    "3. the configuration files can stand in as a strucutred representation of the particular modelling process"
   ]
  },
  {
   "cell_type": "markdown",
   "metadata": {
    "slideshow": {
     "slide_type": "subslide"
    }
   },
   "source": [
    "on the configuration points above: when you start to have several feature selection options, several modelling approaches, several evaluation criteria, several test/train split methods.... you see how it might be nice to have a compact representation of those options. for example:\n",
    "\n",
    "```python\n",
    "# file: my_fav_params.conf\n",
    "myparams = {\n",
    "    'featureselectors': ['boruta', 'lasso'],\n",
    "    'bootstrap': True,\n",
    "    'models': ['neuralnet', 'lasso', 'adaboost'],\n",
    "}\n",
    "\n",
    "clientparams = {\n",
    "    'featureselectors': ['identity'],\n",
    "    'bootstrap': False,\n",
    "    'models': ['linear_regression'],\n",
    "}\n",
    "```"
   ]
  },
  {
   "cell_type": "markdown",
   "metadata": {
    "slideshow": {
     "slide_type": "subslide"
    }
   },
   "source": [
    "##### make every program a filter\n",
    "\n",
    "most linux programs are designed to take in lines of text, perform some calculation, and spit out lines of text. in modern data engineering parlance, linux programs are ETL processes where the extract and load steps are both normalizing results to sequences of text lines. these sequences of text lines are pulled from or put into buffer objects called `stdin` and `stdout` (respectively). if errors occur, they are put into a separate buffer called `stderr`\n",
    "\n",
    "the output of any command (`stdout`) is printed to the terminal by default. You may wish to save it to file instead -- you can change this output by routing it to a file with the `>` or `>>` characters. There are actually several options, and [this stack overflow answer](https://askubuntu.com/a/731237) lays them out well."
   ]
  },
  {
   "cell_type": "markdown",
   "metadata": {
    "slideshow": {
     "slide_type": "subslide"
    }
   },
   "source": [
    "one of the advantages of this ETL approach is the results of one program can be passed directly to another -- this is called \"piping\" in linux world, and the character which does the passing around of line is \"`|`\" (capital backslash on most keyboards). This character is often called \"pipe\" because of this.\n",
    "\n",
    "take, for example, the following command\n",
    "\n",
    "```bash\n",
    "who | awk '{print $1}' | sort | uniq\n",
    "```"
   ]
  },
  {
   "cell_type": "code",
   "execution_count": 60,
   "metadata": {
    "slideshow": {
     "slide_type": "-"
    }
   },
   "outputs": [
    {
     "name": "stdout",
     "output_type": "stream",
     "text": [
      "zlamberty\n"
     ]
    }
   ],
   "source": [
    "%%bash\n",
    "who | awk '{print $1}' | sort | uniq"
   ]
  },
  {
   "cell_type": "markdown",
   "metadata": {
    "slideshow": {
     "slide_type": "fragment"
    }
   },
   "source": [
    "what just happend?"
   ]
  },
  {
   "cell_type": "code",
   "execution_count": 61,
   "metadata": {
    "slideshow": {
     "slide_type": "subslide"
    }
   },
   "outputs": [
    {
     "name": "stdout",
     "output_type": "stream",
     "text": [
      "who (1)              - show who is logged on\n",
      "awk (1)              - pattern scanning and text processing language\n",
      "sort (1)             - sort lines of text files\n",
      "uniq (1)             - report or omit repeated lines\n"
     ]
    }
   ],
   "source": [
    "%%bash\n",
    "whatis who\n",
    "whatis awk\n",
    "whatis sort\n",
    "whatis uniq"
   ]
  },
  {
   "cell_type": "code",
   "execution_count": 66,
   "metadata": {
    "slideshow": {
     "slide_type": "fragment"
    }
   },
   "outputs": [
    {
     "name": "stdout",
     "output_type": "stream",
     "text": [
      "zlamberty :0           2017-08-10 19:53 (:0)\n",
      "zlamberty pts/0        2017-08-10 19:56 (:0)\n",
      "zlamberty pts/1        2017-08-10 19:59 (:0)\n",
      "zlamberty pts/2        2017-08-10 19:57 (:0)\n",
      "zlamberty pts/3        2017-08-21 00:07 (:0)\n",
      "zlamberty pts/4        2017-08-22 22:58 (:0)\n",
      "zlamberty pts/5        2017-08-21 22:11 (:0)\n"
     ]
    }
   ],
   "source": [
    "%%bash\n",
    "who"
   ]
  },
  {
   "cell_type": "code",
   "execution_count": 67,
   "metadata": {
    "slideshow": {
     "slide_type": "fragment"
    }
   },
   "outputs": [
    {
     "name": "stdout",
     "output_type": "stream",
     "text": [
      "zlamberty\n",
      "zlamberty\n",
      "zlamberty\n",
      "zlamberty\n",
      "zlamberty\n",
      "zlamberty\n",
      "zlamberty\n"
     ]
    }
   ],
   "source": [
    "%%bash\n",
    "who | awk '{print $1}'"
   ]
  },
  {
   "cell_type": "code",
   "execution_count": 68,
   "metadata": {
    "slideshow": {
     "slide_type": "fragment"
    }
   },
   "outputs": [
    {
     "name": "stdout",
     "output_type": "stream",
     "text": [
      "zlamberty\n",
      "zlamberty\n",
      "zlamberty\n",
      "zlamberty\n",
      "zlamberty\n",
      "zlamberty\n",
      "zlamberty\n"
     ]
    }
   ],
   "source": [
    "%%bash\n",
    "who | awk '{print $1}' | sort"
   ]
  },
  {
   "cell_type": "code",
   "execution_count": 69,
   "metadata": {
    "slideshow": {
     "slide_type": "fragment"
    }
   },
   "outputs": [
    {
     "name": "stdout",
     "output_type": "stream",
     "text": [
      "zlamberty\n"
     ]
    }
   ],
   "source": [
    "%%bash\n",
    "who | awk '{print $1}' | sort | uniq"
   ]
  },
  {
   "cell_type": "markdown",
   "metadata": {
    "slideshow": {
     "slide_type": "slide"
    }
   },
   "source": [
    "## common commands and tools\n",
    "\n",
    "finally -- let's get into the real crash course: the commands!"
   ]
  },
  {
   "cell_type": "markdown",
   "metadata": {
    "slideshow": {
     "slide_type": "slide"
    }
   },
   "source": [
    "### help and information\n",
    "\n",
    "there are a couple of built-in help and information facilities for every linux command. they mostly require knowing the name of a command first (an unavoidable problem, I think). I'll use `ls` as my test command, but the following should work for most linux commands."
   ]
  },
  {
   "cell_type": "markdown",
   "metadata": {
    "slideshow": {
     "slide_type": "subslide"
    }
   },
   "source": [
    "##### `man`\n",
    "\n",
    "the `man` command (short for \"manual\") is one of the least used but most useful linux commands. I expect that this is because of the way that the manual entry is opened -- let's talk about that in a second.\n",
    "\n",
    "`man` will open up a somewhat-standard-formatted manual document with the following information about any command\n",
    "\n",
    "1. name\n",
    "2. synopsis\n",
    "    1. a standard-format description of how to invoke the command\n",
    "    2. example: `ls [OPTION]... [FILE]...`\n",
    "    3. anything in `[]` characters is *optional*\n",
    "3. description\n",
    "    1. begins with a short paragraph explaining what the program does\n",
    "4. parameterization\n",
    "    1. lists all the flags (ways of passing in parameters)\n",
    "    2. may list configuration files\n",
    "    3. may list meaningful environment variables\n",
    "5. trailing information\n",
    "    + a collection of items such as author, copyright, licensing, and further information"
   ]
  },
  {
   "cell_type": "markdown",
   "metadata": {
    "slideshow": {
     "slide_type": "subslide"
    }
   },
   "source": [
    "let's look at an example:\n",
    "\n",
    "```bash\n",
    "man python\n",
    "```\n",
    "\n",
    "*note: exit this viewer by pressing the `q` key*"
   ]
  },
  {
   "cell_type": "code",
   "execution_count": 73,
   "metadata": {},
   "outputs": [
    {
     "name": "stdout",
     "output_type": "stream",
     "text": [
      "PYTHON(1)                   General Commands Manual                  PYTHON(1)\n",
      "\n",
      "\n",
      "\n",
      "NAME\n",
      "       python  - an interpreted, interactive, object-oriented programming lan‐\n",
      "       guage\n",
      "\n",
      "SYNOPSIS\n",
      "       python [ -B ] [ -d ] [ -E ] [ -h ] [ -i ] [ -m module-name ]\n",
      "              [ -O ] [ -OO ] [ -R ] [ -Q argument ] [ -s ] [ -S ] [ -t ] [  -u\n",
      "       ]\n",
      "              [ -v ] [ -V ] [ -W argument ] [ -x ] [ -3 ] [ -?  ]\n",
      "              [ -c command | script | - ] [ arguments ]\n",
      "\n",
      "DESCRIPTION\n",
      "       Python is an interpreted, interactive, object-oriented programming lan‐\n",
      "       guage that combines remarkable power with very clear  syntax.   For  an\n",
      "       introduction  to  programming  in Python you are referred to the Python\n",
      "       Tutorial.  The Python Library Reference documents built-in and standard\n",
      "       types, constants, functions and modules.  Finally, the Python Reference\n",
      "       Manual describes the syntax and semantics of the core language in (per‐\n",
      "       haps  too) much detail.  (These documents may be located via the INTER‐\n",
      "       NET RESOURCES below; they may be installed on your system as well.)\n",
      "\n",
      "       Python's basic power can be extended with your own modules written in C\n",
      "       or  C++.   On  most  systems  such  modules  may be dynamically loaded.\n",
      "       Python is also adaptable as an extension language for existing applica‐\n",
      "       tions.  See the internal documentation for hints.\n",
      "\n",
      "       Documentation  for  installed Python modules and packages can be viewed\n",
      "       by running the pydoc program.\n",
      "\n",
      "COMMAND LINE OPTIONS\n",
      "       -B     Don't write .py[co] files on import. See  also  PYTHONDONTWRITE‐\n",
      "              BYTECODE.\n",
      "\n",
      "       -c command\n",
      "              Specify  the command to execute (see next section).  This termi‐\n",
      "              nates the option list (following options are passed as arguments\n",
      "              to the command).\n",
      "\n",
      "       -d     Turn  on parser debugging output (for wizards only, depending on\n",
      "              compilation options).\n",
      "\n",
      "       -E     Ignore environment variables like PYTHONPATH and PYTHONHOME that\n",
      "              modify the behavior of the interpreter.\n",
      "\n",
      "       -h ,  -? ,  --help\n",
      "              Prints the usage for the interpreter executable and exits.\n",
      "\n",
      "       -i     When  a  script  is passed as first argument or the -c option is\n",
      "              used, enter interactive mode after executing the script  or  the\n",
      "              command.  It does not read the $PYTHONSTARTUP file.  This can be\n",
      "              useful to inspect global variables  or  a  stack  trace  when  a\n",
      "              script raises an exception.\n",
      "\n",
      "       -m module-name\n",
      "              Searches  sys.path for the named module and runs the correspond‐\n",
      "              ing .py file as a script.\n",
      "\n",
      "       -O     Turn on basic optimizations.  This changes the  filename  exten‐\n",
      "              sion  for  compiled  (bytecode)  files from .pyc to .pyo.  Given\n",
      "              twice, causes docstrings to be discarded.\n",
      "\n",
      "       -OO    Discard docstrings in addition to the -O optimizations.\n",
      "\n",
      "       -R     Turn on \"hash randomization\", so that the hash() values of  str,\n",
      "              bytes  and  datetime  objects are \"salted\" with an unpredictable\n",
      "              pseudo-random value.  Although they remain  constant  within  an\n",
      "              individual  Python  process,  they  are  not predictable between\n",
      "              repeated invocations of Python.\n",
      "\n",
      "              This is intended to provide protection against a denial of  ser‐\n",
      "              vice  caused  by  carefully-chosen inputs that exploit the worst\n",
      "              case performance of a dict construction, O(n^2) complexity.  See\n",
      "              http://www.ocert.org/advisories/ocert-2011-003.html for details.\n",
      "\n",
      "       -Q argument\n",
      "              Division  control;  see  PEP  238.   The argument must be one of\n",
      "              \"old\" (the default, int/int  and  long/long  return  an  int  or\n",
      "              long), \"new\" (new division semantics, i.e. int/int and long/long\n",
      "              returns a float), \"warn\" (old division semantics with a  warning\n",
      "              for int/int and long/long), or \"warnall\" (old division semantics\n",
      "              with a warning for all use of the division operator).  For a use\n",
      "              of \"warnall\", see the Tools/scripts/fixdiv.py script.\n",
      "\n",
      "       -s     Don't add user site directory to sys.path.\n",
      "\n",
      "       -S     Disable  the  import  of  the module site and the site-dependent\n",
      "              manipulations of sys.path that it entails.\n",
      "\n",
      "       -t     Issue a warning when a source file mixes  tabs  and  spaces  for\n",
      "              indentation  in a way that makes it depend on the worth of a tab\n",
      "              expressed in spaces.  Issue an error when the  option  is  given\n",
      "              twice.\n",
      "\n",
      "       -u     Force  stdin,  stdout  and  stderr to be totally unbuffered.  On\n",
      "              systems where it matters, also put stdin, stdout and  stderr  in\n",
      "              binary  mode.   Note  that there is internal buffering in xread‐\n",
      "              lines(), readlines() and file-object  iterators  (\"for  line  in\n",
      "              sys.stdin\")  which  is  not  influenced by this option.  To work\n",
      "              around this, you will want to use \"sys.stdin.readline()\"  inside\n",
      "              a \"while 1:\" loop.\n",
      "\n",
      "       -v     Print  a  message each time a module is initialized, showing the\n",
      "              place (filename or built-in module) from  which  it  is  loaded.\n",
      "              When  given twice, print a message for each file that is checked\n",
      "              for when searching for a module.  Also provides  information  on\n",
      "              module cleanup at exit.\n",
      "\n",
      "       -V ,  --version\n",
      "              Prints the Python version number of the executable and exits.\n",
      "\n",
      "       -W argument\n",
      "              Warning  control.   Python  sometimes  prints warning message to\n",
      "              sys.stderr.  A typical warning message has the  following  form:\n",
      "              file:line:  category:  message.   By  default,  each  warning is\n",
      "              printed once for each source line where it occurs.  This  option\n",
      "              controls  how  often  warnings are printed.  Multiple -W options\n",
      "              may be given; when a warning matches more than one  option,  the\n",
      "              action  for  the  last matching option is performed.  Invalid -W\n",
      "              options are ignored (a warning message is printed about  invalid\n",
      "              options when the first warning is issued).  Warnings can also be\n",
      "              controlled from within a Python program using the warnings  mod‐\n",
      "              ule.\n",
      "\n",
      "              The  simplest  form  of  argument is one of the following action\n",
      "              strings (or a unique abbreviation): ignore to ignore  all  warn‐\n",
      "              ings; default to explicitly request the default behavior (print‐\n",
      "              ing each warning once per source line); all to print  a  warning\n",
      "              each  time it occurs (this may generate many messages if a warn‐\n",
      "              ing is triggered repeatedly for the same source  line,  such  as\n",
      "              inside a loop); module to print each warning only the first time\n",
      "              it occurs in each module; once to print each  warning  only  the\n",
      "              first time it occurs in the program; or error to raise an excep‐\n",
      "              tion instead of printing a warning message.\n",
      "\n",
      "              The  full  form  of  argument  is   action:message:category:mod‐\n",
      "              ule:line.   Here,  action is as explained above but only applies\n",
      "              to messages that match the remaining fields.  Empty fields match\n",
      "              all  values;  trailing empty fields may be omitted.  The message\n",
      "              field matches the start of the  warning  message  printed;  this\n",
      "              match is case-insensitive.  The category field matches the warn‐\n",
      "              ing category.  This must be a class name; the match test whether\n",
      "              the  actual warning category of the message is a subclass of the\n",
      "              specified warning category.  The full class name must be  given.\n",
      "              The module field matches the (fully-qualified) module name; this\n",
      "              match is case-sensitive.  The line field matches the  line  num‐\n",
      "              ber,  where zero matches all line numbers and is thus equivalent\n",
      "              to an omitted line number.\n",
      "\n",
      "       -x     Skip the first line of the source.  This is intended for  a  DOS\n",
      "              specific hack only.  Warning: the line numbers in error messages\n",
      "              will be off by one!\n",
      "\n",
      "       -3     Warn about Python 3.x incompatibilities that 2to3  cannot  triv‐\n",
      "              ially fix.\n",
      "\n",
      "INTERPRETER INTERFACE\n",
      "       The interpreter interface resembles that of the UNIX shell: when called\n",
      "       with standard input connected to a tty device, it prompts for  commands\n",
      "       and  executes  them  until an EOF is read; when called with a file name\n",
      "       argument or with a file as standard input,  it  reads  and  executes  a\n",
      "       script  from  that  file;  when called with -c command, it executes the\n",
      "       Python statement(s) given as command.  Here command may contain  multi‐\n",
      "       ple  statements  separated by newlines.  Leading whitespace is signifi‐\n",
      "       cant in Python statements!  In non-interactive mode, the  entire  input\n",
      "       is parsed before it is executed.\n",
      "\n",
      "       If  available,  the script name and additional arguments thereafter are\n",
      "       passed to the script in the Python variable sys.argv, which is  a  list\n",
      "       of  strings (you must first import sys to be able to access it).  If no\n",
      "       script name is given, sys.argv[0] is an empty string; if  -c  is  used,\n",
      "       sys.argv[0] contains the string '-c'.  Note that options interpreted by\n",
      "       the Python interpreter itself are not placed in sys.argv.\n",
      "\n",
      "       In interactive mode, the primary prompt is  `>>>';  the  second  prompt\n",
      "       (which  appears  when a command is not complete) is `...'.  The prompts\n",
      "       can be changed by assignment to sys.ps1 or  sys.ps2.   The  interpreter\n",
      "       quits  when  it  reads an EOF at a prompt.  When an unhandled exception\n",
      "       occurs, a stack trace is printed and control  returns  to  the  primary\n",
      "       prompt;  in  non-interactive mode, the interpreter exits after printing\n",
      "       the stack trace.  The interrupt  signal  raises  the  KeyboardInterrupt\n",
      "       exception;  other  UNIX  signals are not caught (except that SIGPIPE is\n",
      "       sometimes ignored, in favor of the IOError exception).  Error  messages\n",
      "       are written to stderr.\n",
      "\n",
      "FILES AND DIRECTORIES\n",
      "       These are subject to difference depending on local installation conven‐\n",
      "       tions; ${prefix}  and  ${exec_prefix}  are  installation-dependent  and\n",
      "       should  be  interpreted  as for GNU software; they may be the same.  On\n",
      "       Debian GNU/{Hurd,Linux} the default for both is /usr.\n",
      "\n",
      "       ${exec_prefix}/bin/python\n",
      "              Recommended location of the interpreter.\n",
      "\n",
      "       ${prefix}/lib/python<version>\n",
      "       ${exec_prefix}/lib/python<version>\n",
      "              Recommended locations of the directories containing the standard\n",
      "              modules.\n",
      "\n",
      "       ${prefix}/include/python<version>\n",
      "       ${exec_prefix}/include/python<version>\n",
      "              Recommended  locations of the directories containing the include\n",
      "              files needed for developing Python extensions and embedding  the\n",
      "              interpreter.\n",
      "\n",
      "       ~/.pythonrc.py\n",
      "              User-specific initialization file loaded by the user module; not\n",
      "              used by default or by most applications.\n",
      "\n",
      "ENVIRONMENT VARIABLES\n",
      "       PYTHONHOME\n",
      "              Change the  location  of  the  standard  Python  libraries.   By\n",
      "              default, the libraries are searched in ${prefix}/lib/python<ver‐\n",
      "              sion> and  ${exec_prefix}/lib/python<version>,  where  ${prefix}\n",
      "              and  ${exec_prefix} are installation-dependent directories, both\n",
      "              defaulting to /usr/local.  When $PYTHONHOME is set to  a  single\n",
      "              directory, its value replaces both ${prefix} and ${exec_prefix}.\n",
      "              To specify different values for these, set $PYTHONHOME to ${pre‐\n",
      "              fix}:${exec_prefix}.\n",
      "\n",
      "       PYTHONPATH\n",
      "              Augments  the  default search path for module files.  The format\n",
      "              is the same as the shell's $PATH: one or  more  directory  path‐\n",
      "              names   separated   by  colons.   Non-existent  directories  are\n",
      "              silently ignored.   The  default  search  path  is  installation\n",
      "              dependent,  but  generally begins with ${prefix}/lib/python<ver‐\n",
      "              sion> (see PYTHONHOME above).  The default search path is always\n",
      "              appended  to  $PYTHONPATH.   If  a script argument is given, the\n",
      "              directory containing the script is inserted in the path in front\n",
      "              of  $PYTHONPATH.  The search path can be manipulated from within\n",
      "              a Python program as the variable sys.path.\n",
      "\n",
      "       PYTHONSTARTUP\n",
      "              If this is the name of a readable file, the Python  commands  in\n",
      "              that  file  are executed before the first prompt is displayed in\n",
      "              interactive mode.  The file is executed in the same  name  space\n",
      "              where  interactive commands are executed so that objects defined\n",
      "              or imported in it can  be  used  without  qualification  in  the\n",
      "              interactive  session.   You  can also change the prompts sys.ps1\n",
      "              and sys.ps2 in this file.\n",
      "\n",
      "       PYTHONY2K\n",
      "              Set this to a non-empty string  to  cause  the  time  module  to\n",
      "              require  dates  specified  as  strings to include 4-digit years,\n",
      "              otherwise 2-digit years are converted based on  rules  described\n",
      "              in the time module documentation.\n",
      "\n",
      "       PYTHONOPTIMIZE\n",
      "              If  this is set to a non-empty string it is equivalent to speci‐\n",
      "              fying the -O option. If set to an integer, it is  equivalent  to\n",
      "              specifying -O multiple times.\n",
      "\n",
      "       PYTHONDEBUG\n",
      "              If  this is set to a non-empty string it is equivalent to speci‐\n",
      "              fying the -d option. If set to an integer, it is  equivalent  to\n",
      "              specifying -d multiple times.\n",
      "\n",
      "       PYTHONDONTWRITEBYTECODE\n",
      "              If  this is set to a non-empty string it is equivalent to speci‐\n",
      "              fying the -B option (don't try to write .py[co] files).\n",
      "\n",
      "       PYTHONINSPECT\n",
      "              If this is set to a non-empty string it is equivalent to  speci‐\n",
      "              fying the -i option.\n",
      "\n",
      "       PYTHONIOENCODING\n",
      "              If  this is set before running the interpreter, it overrides the\n",
      "              encoding used for stdin/stdout/stderr, in the  syntax  encoding‐\n",
      "              name:errorhandler  The errorhandler part is optional and has the\n",
      "              same meaning as in str.encode. For stderr, the errorhandler\n",
      "               part is ignored; the handler will always be ´backslashreplace´.\n",
      "\n",
      "       PYTHONNOUSERSITE\n",
      "              If this is set to a non-empty string it is equivalent to  speci‐\n",
      "              fying  the  -s  option  (Don't  add  the  user site directory to\n",
      "              sys.path).\n",
      "\n",
      "       PYTHONUNBUFFERED\n",
      "              If this is set to a non-empty string it is equivalent to  speci‐\n",
      "              fying the -u option.\n",
      "\n",
      "       PYTHONVERBOSE\n",
      "              If  this is set to a non-empty string it is equivalent to speci‐\n",
      "              fying the -v option. If set to an integer, it is  equivalent  to\n",
      "              specifying -v multiple times.\n",
      "\n",
      "       PYTHONWARNINGS\n",
      "              If  this  is set to a comma-separated string it is equivalent to\n",
      "              specifying the -W option for each separate value.\n",
      "\n",
      "       PYTHONHASHSEED\n",
      "              If this variable is set to \"random\", the effect is the  same  as\n",
      "              specifying  the  -R  option:  a random value is used to seed the\n",
      "              hashes of str, bytes and datetime objects.\n",
      "\n",
      "              If PYTHONHASHSEED is set to an integer value, it is  used  as  a\n",
      "              fixed seed for generating the hash() of the types covered by the\n",
      "              hash randomization.  Its purpose is to allow repeatable hashing,\n",
      "              such  as for selftests for the interpreter itself, or to allow a\n",
      "              cluster of python processes to share hash values.\n",
      "\n",
      "              The  integer  must  be   a   decimal   number   in   the   range\n",
      "              [0,4294967295].   Specifying  the  value 0 will lead to the same\n",
      "              hash values as when hash randomization is disabled.\n",
      "\n",
      "AUTHOR\n",
      "       The Python Software Foundation: http://www.python.org/psf\n",
      "\n",
      "INTERNET RESOURCES\n",
      "       Main website:  http://www.python.org/\n",
      "       Documentation:  http://docs.python.org/\n",
      "       Developer resources:  http://docs.python.org/devguide/\n",
      "       Downloads:  http://python.org/download/\n",
      "       Module repository:  http://pypi.python.org/\n",
      "       Newsgroups:  comp.lang.python, comp.lang.python.announce\n",
      "\n",
      "LICENSING\n",
      "       Python is distributed under an  Open  Source  license.   See  the  file\n",
      "       \"LICENSE\"  in the Python source distribution for information on terms &\n",
      "       conditions for accessing and otherwise using  Python  and  for  a  DIS‐\n",
      "       CLAIMER OF ALL WARRANTIES.\n",
      "\n",
      "\n",
      "\n",
      "                                    $Date$                           PYTHON(1)\n"
     ]
    }
   ],
   "source": [
    "%%bash\n",
    "man python"
   ]
  },
  {
   "cell_type": "markdown",
   "metadata": {
    "slideshow": {
     "slide_type": "subslide"
    }
   },
   "source": [
    "### `-h` and `--help`\n",
    "\n",
    "#### an aside: command flags\n",
    "\n",
    "As I mentioned above, one of the primary ways of parameterizing linux programs is through a concept called a \"flag\". a flag is a string starting with a `-`. Generally, there are two types of flags:\n",
    "\n",
    "1. one dash followed by one character (`-h`)\n",
    "2. two dashes folled by a spaceless word (`--help`)\n",
    "\n",
    "usually they come in pairs where one is the full word and the other is the leading character.\n",
    "\n",
    "sometimes just the existence of a flag signals that some action should be taken. other times it is expected that a value will be provided after the flag as well, either following an `=` sign (`-f=myfval`) or separated by a space (`-f myfval`) -- the implementation here depends on the particular program."
   ]
  },
  {
   "cell_type": "markdown",
   "metadata": {
    "slideshow": {
     "slide_type": "subslide"
    }
   },
   "source": [
    "in practice, there are plenty of little nuances and tricks.\n",
    "\n",
    "For example, often times the single-letter flags can be put together. Supposing `-a`, `-b`, and `-c` were all valid flags, some programs will allow you to save time by writing `-abc` instead of `-a -b -c`. \n",
    "\n",
    "Convenient, but confusing.\n",
    "\n",
    "also, java makes everything different, because it's java. Java command line parameters are passed in as *single* dashes with *full word* strings.\n",
    "\n",
    "*generally speaking*, if you pass every flag as a separate string you won't go wrong. I prefer the full words for clarity's sake. Treat everything beyond that as an optimization -- pick it up when you need it, not now."
   ]
  },
  {
   "cell_type": "markdown",
   "metadata": {
    "slideshow": {
     "slide_type": "subslide"
    }
   },
   "source": [
    "### `-h` and `--help`\n",
    "\n",
    "back to the information commands: many commands implement a special flag: `-h` and `--help` which will print out a short description of the process and all the allowable command line flags:\n",
    "\n",
    "```bash\n",
    "python -h\n",
    "```"
   ]
  },
  {
   "cell_type": "code",
   "execution_count": 74,
   "metadata": {},
   "outputs": [
    {
     "name": "stdout",
     "output_type": "stream",
     "text": [
      "usage: python [option] ... [-c cmd | -m mod | file | -] [arg] ...\n",
      "Options and arguments (and corresponding environment variables):\n",
      "-b     : issue warnings about str(bytes_instance), str(bytearray_instance)\n",
      "         and comparing bytes/bytearray with str. (-bb: issue errors)\n",
      "-B     : don't write .py[co] files on import; also PYTHONDONTWRITEBYTECODE=x\n",
      "-c cmd : program passed in as string (terminates option list)\n",
      "-d     : debug output from parser; also PYTHONDEBUG=x\n",
      "-E     : ignore PYTHON* environment variables (such as PYTHONPATH)\n",
      "-h     : print this help message and exit (also --help)\n",
      "-i     : inspect interactively after running script; forces a prompt even\n",
      "         if stdin does not appear to be a terminal; also PYTHONINSPECT=x\n",
      "-I     : isolate Python from the user's environment (implies -E and -s)\n",
      "-m mod : run library module as a script (terminates option list)\n",
      "-O     : optimize generated bytecode slightly; also PYTHONOPTIMIZE=x\n",
      "-OO    : remove doc-strings in addition to the -O optimizations\n",
      "-q     : don't print version and copyright messages on interactive startup\n",
      "-s     : don't add user site directory to sys.path; also PYTHONNOUSERSITE\n",
      "-S     : don't imply 'import site' on initialization\n",
      "-u     : unbuffered binary stdout and stderr, stdin always buffered;\n",
      "         also PYTHONUNBUFFERED=x\n",
      "         see man page for details on internal buffering relating to '-u'\n",
      "-v     : verbose (trace import statements); also PYTHONVERBOSE=x\n",
      "         can be supplied multiple times to increase verbosity\n",
      "-V     : print the Python version number and exit (also --version)\n",
      "         when given twice, print more information about the build\n",
      "-W arg : warning control; arg is action:message:category:module:lineno\n",
      "         also PYTHONWARNINGS=arg\n",
      "-x     : skip first line of source, allowing use of non-Unix forms of #!cmd\n",
      "-X opt : set implementation-specific option\n",
      "file   : program read from script file\n",
      "-      : program read from stdin (default; interactive mode if a tty)\n",
      "arg ...: arguments passed to program in sys.argv[1:]\n",
      "\n",
      "Other environment variables:\n",
      "PYTHONSTARTUP: file executed on interactive startup (no default)\n",
      "PYTHONPATH   : ':'-separated list of directories prefixed to the\n",
      "               default module search path.  The result is sys.path.\n",
      "PYTHONHOME   : alternate <prefix> directory (or <prefix>:<exec_prefix>).\n",
      "               The default module search path uses <prefix>/pythonX.X.\n",
      "PYTHONCASEOK : ignore case in 'import' statements (Windows).\n",
      "PYTHONIOENCODING: Encoding[:errors] used for stdin/stdout/stderr.\n",
      "PYTHONFAULTHANDLER: dump the Python traceback on fatal errors.\n",
      "PYTHONHASHSEED: if this variable is set to 'random', a random value is used\n",
      "   to seed the hashes of str, bytes and datetime objects.  It can also be\n",
      "   set to an integer in the range [0,4294967295] to get hash values with a\n",
      "   predictable seed.\n",
      "PYTHONMALLOC: set the Python memory allocators and/or install debug hooks\n",
      "   on Python memory allocators. Use PYTHONMALLOC=debug to install debug\n",
      "   hooks.\n"
     ]
    }
   ],
   "source": [
    "%%bash\n",
    "python -h"
   ]
  },
  {
   "cell_type": "markdown",
   "metadata": {
    "slideshow": {
     "slide_type": "subslide"
    }
   },
   "source": [
    "##### `which`\n",
    "\n",
    "the `which` command will tell you the full path of the program which will be executed by a single command, or will return that no such command exists. This becomes particularly useful when you have more than one installations of a program and confusion about which is being used (*c.f.* python distributions).\n",
    "\n",
    "```bash\n",
    "which python\n",
    "```"
   ]
  },
  {
   "cell_type": "code",
   "execution_count": 77,
   "metadata": {},
   "outputs": [
    {
     "name": "stdout",
     "output_type": "stream",
     "text": [
      "/home/zlamberty/anaconda3/envs/bs/bin/python\n"
     ]
    }
   ],
   "source": [
    "%%bash\n",
    "which python"
   ]
  },
  {
   "cell_type": "markdown",
   "metadata": {
    "slideshow": {
     "slide_type": "subslide"
    }
   },
   "source": [
    "##### `whatis`\n",
    "\n",
    "the `whatis` command provides a very short description of any command.\n",
    "\n",
    "```bash\n",
    "whatis python\n",
    "```"
   ]
  },
  {
   "cell_type": "code",
   "execution_count": 76,
   "metadata": {},
   "outputs": [
    {
     "name": "stdout",
     "output_type": "stream",
     "text": [
      "python (1)           - an interpreted, interactive, object-oriented programmi...\n"
     ]
    }
   ],
   "source": [
    "%%bash\n",
    "whatis python"
   ]
  },
  {
   "cell_type": "markdown",
   "metadata": {
    "slideshow": {
     "slide_type": "slide"
    }
   },
   "source": [
    "### navigation and file movement\n",
    "\n",
    "for most users, not having access to a point-and-click file explorer is the first major hurdle when getting used to linux. there are just a few commands needed to move around the file system and manipulate files, and learning them is critical"
   ]
  },
  {
   "cell_type": "markdown",
   "metadata": {
    "slideshow": {
     "slide_type": "subslide"
    }
   },
   "source": [
    "##### `pwd`\n",
    "\n",
    "the `pwd` (print work directory) will print to the screen the \"work\" directory -- the directory your session is \"in\". All of the commands you may wish to execute, and all paths that you might write will be judged *relative* to this path"
   ]
  },
  {
   "cell_type": "code",
   "execution_count": 78,
   "metadata": {},
   "outputs": [
    {
     "name": "stdout",
     "output_type": "stream",
     "text": [
      "/home/zlamberty/code/gu/511\n"
     ]
    }
   ],
   "source": [
    "%%bash\n",
    "pwd"
   ]
  },
  {
   "cell_type": "markdown",
   "metadata": {
    "slideshow": {
     "slide_type": "subslide"
    }
   },
   "source": [
    "##### `ls`\n",
    "\n",
    "we've already used this command many times, so you likely already know: to list the files in your current working directory you use the `ls` command.\n",
    "\n",
    "the default behavior of `ls` is to print only filenames in a tabular format:\n",
    "\n",
    "```bash\n",
    "ls ~\n",
    "```"
   ]
  },
  {
   "cell_type": "code",
   "execution_count": 118,
   "metadata": {},
   "outputs": [
    {
     "name": "stdout",
     "output_type": "stream",
     "text": [
      "anaconda3\n",
      "code\n",
      "Desktop\n",
      "Documents\n",
      "Downloads\n",
      "eclipse\n",
      "Mail\n",
      "mtg\n",
      "Music\n",
      "nltk_data\n",
      "pgadmin.log\n",
      "Pictures\n",
      "PlayOnLinux's virtual drives\n",
      "Public\n",
      "R\n",
      "results.csv\n",
      "Steam\n",
      "temp\n",
      "Templates\n",
      "test.csv\n",
      "testfile.newname\n",
      "tmpshortcut\n",
      "Videos\n",
      "VirtualBox VMs\n",
      "winetricks\n",
      "workspace\n"
     ]
    }
   ],
   "source": [
    "%%bash\n",
    "ls ~"
   ]
  },
  {
   "cell_type": "markdown",
   "metadata": {
    "slideshow": {
     "slide_type": "subslide"
    }
   },
   "source": [
    "##### `ls` (cont.)\n",
    "\n",
    "the default behavior is useful in some instances (especially in scripting), but usually you want more information than just file names. Because of this, I usually invoke `ls` with at least three flags:\n",
    "\n",
    "1. `-a`: print all files, including hidden files\n",
    "2. `-l`: print the files in a detailed list format, not just names in a table\n",
    "3. `-h`: print file sizes in a human-readable format\n",
    "\n",
    "it is fairly typical for people to create the alias `ll = ls -alh`; in fact, this is a default alias on all ubuntu instances.\n",
    "\n",
    "```bash\n",
    "ll ~\n",
    "```"
   ]
  },
  {
   "cell_type": "code",
   "execution_count": 120,
   "metadata": {},
   "outputs": [
    {
     "name": "stdout",
     "output_type": "stream",
     "text": [
      "total 459M\n",
      "drwxr-xr-x  69 zlamberty zlamberty 4.0K Aug 25 16:01 .\n",
      "drwxr-xr-x   4 root      root      4.0K Dec 29  2015 ..\n",
      "drwx------   3 zlamberty zlamberty 4.0K Dec  7  2016 .adobe\n",
      "drwxr-xr-x  20 zlamberty zlamberty 4.0K May 29 22:35 anaconda3\n",
      "drwxr-xr-x   3 zlamberty zlamberty 4.0K May 13 16:10 .anaconda_backup\n",
      "-rw-r--r--   1 zlamberty zlamberty  271 Dec 30  2015 .bash_aliases\n",
      "-rw-------   1 zlamberty zlamberty  53K Aug 26 12:22 .bash_history\n",
      "-rw-r--r--   1 zlamberty zlamberty  220 Dec 30  2015 .bash_logout\n",
      "-rw-r--r--   1 zlamberty zlamberty 4.4K May 13 21:15 .bashrc\n",
      "-rw-r--r--   1 zlamberty zlamberty 3.5K Dec 30  2015 .bashrc-anaconda2.bak\n",
      "-rw-r--r--   1 zlamberty zlamberty 4.4K May 13 16:13 .bashrc-anaconda3.bak\n",
      "drwx------  21 zlamberty zlamberty 4.0K May 17 00:26 .cache\n",
      "drwxr-xr-x   5 zlamberty zlamberty 4.0K Oct 29  2016 .cinnamon\n",
      "drwxr-xr-x  29 zlamberty zlamberty 4.0K Aug  9 21:55 code\n",
      "drwxr-xr-x   3 zlamberty zlamberty 4.0K May 13 16:15 .conda\n",
      "drwx------  42 zlamberty zlamberty 4.0K Jul  9 23:19 .config\n",
      "-rw-r--r--   1 zlamberty zlamberty 2.5K Aug 29  2016 .conkyrc\n",
      "-rw-r--r--   1 zlamberty zlamberty    5 Jan 29  2017 .dbshell\n",
      "drwx------   3 zlamberty zlamberty 4.0K Dec 29  2015 .dbus\n",
      "drwxr-xr-x   2 zlamberty zlamberty 4.0K Aug 19  2016 Desktop\n",
      "-rw-r--r--   1 zlamberty zlamberty   55 Dec 29  2015 .dmrc\n",
      "drwxr-xr-x   2 zlamberty zlamberty 4.0K Sep 19  2016 Documents\n",
      "drwxr-xr-x   8 zlamberty zlamberty  20K Aug 26 12:18 Downloads\n",
      "drwxr-xr-x   4 zlamberty zlamberty 4.0K Apr  4  2016 eclipse\n",
      "drwxr-xr-x   7 zlamberty zlamberty 4.0K Apr  4  2016 .eclipse\n",
      "drwxr-xr-x  15 zlamberty zlamberty 4.0K Aug  6 14:29 .emacs.d\n",
      "drwxr-xr-x   3 zlamberty zlamberty 4.0K Dec 30  2015 .erc\n",
      "drwx------   3 zlamberty zlamberty 4.0K Aug 10 19:53 .gconf\n",
      "drwxr-xr-x   4 zlamberty zlamberty 4.0K Jan 16  2016 .gem\n",
      "drwxr-xr-x  24 zlamberty zlamberty 4.0K Dec  7  2016 .gimp-2.8\n",
      "-rw-r--r--   1 zlamberty zlamberty 1.3K Dec 30  2015 .gitconfig\n",
      "-rw-r-----   1 zlamberty zlamberty    0 Aug 31  2016 .gksu.lock\n",
      "drwx------   3 zlamberty zlamberty 4.0K Feb  7  2016 .gnome\n",
      "drwxr-xr-x   4 zlamberty zlamberty 4.0K Dec 29  2015 .gnome2\n",
      "drwx------   2 zlamberty zlamberty 4.0K Dec 29  2015 .gnome2_private\n",
      "drwx------   2 zlamberty zlamberty 4.0K May 11  2016 .gnupg\n",
      "drwx------   5 zlamberty zlamberty 4.0K Aug 11  2016 .ICAClient\n",
      "-rw-------   1 zlamberty zlamberty  18K Aug 10 19:53 .ICEauthority\n",
      "drwxr-xr-x   3 zlamberty zlamberty 4.0K Apr  4  2016 .idea-build\n",
      "drwxr-xr-x   4 zlamberty zlamberty 4.0K Apr  4  2016 .IdeaIC2016.1\n",
      "drwxr-xr-x   5 zlamberty zlamberty 4.0K May 13 16:19 .ipython\n",
      "drwxr-xr-x   3 zlamberty zlamberty 4.0K Apr  4  2016 .ivy2\n",
      "drwxr-xr-x   4 zlamberty zlamberty 4.0K Apr  4  2016 .java\n",
      "drwxr-xr-x   2 zlamberty zlamberty 4.0K Jun  6 19:57 .jupyter\n",
      "-rw-------   1 zlamberty zlamberty  282 Aug 20 20:19 .lesshst\n",
      "drwx------   3 zlamberty zlamberty 4.0K Dec 29  2015 .local\n",
      "drwx------   2 zlamberty zlamberty 4.0K Apr  4  2016 Mail\n",
      "-rw-r--r--   1 zlamberty zlamberty    0 Jan 29  2017 .mongorc.js\n",
      "drwx------   4 zlamberty zlamberty 4.0K Dec 29  2015 .mozilla\n",
      "drwxr-xr-x   3 zlamberty zlamberty 4.0K Aug 10 21:45 mtg\n",
      "drwxr-xr-x   2 zlamberty zlamberty 4.0K Dec 29  2015 Music\n",
      "drwx------   3 zlamberty zlamberty 4.0K Aug 20  2016 .mysql\n",
      "-rw-r--r--   1 zlamberty zlamberty   12 Feb 27  2016 .neo4j_shell_history\n",
      "drwxr-xr-x   4 zlamberty zlamberty 4.0K Jun  6 20:21 nltk_data\n",
      "-rw-------   1 zlamberty zlamberty  400 Jan 29  2017 .node_repl_history\n",
      "drwxr-xr-x 257 zlamberty zlamberty  12K Jan 29  2017 .npm\n",
      "-rw-------   1 zlamberty zlamberty   70 Jan 29  2017 .npmrc\n",
      "drwxr-xr-x   8 zlamberty zlamberty 4.0K Jan 29  2017 .nvm\n",
      "-rw-r--r--   1 zlamberty zlamberty    0 Apr 17  2016 .odbc.ini\n",
      "drwxr-xr-x   6 zlamberty zlamberty 4.0K Apr  4  2016 .p2\n",
      "-rw-r--r--   1 zlamberty zlamberty 3.3K Jan  7  2017 .pgadmin3\n",
      "-rw-r--r--   1 zlamberty zlamberty   55 Jan  7  2017 .pgadmin_histoqueries\n",
      "-rw-r--r--   1 zlamberty zlamberty  443 Jan  7  2017 pgadmin.log\n",
      "-rw-------   1 zlamberty zlamberty   33 Jan  7  2017 .pgpass\n",
      "drwxr-xr-x   2 zlamberty zlamberty 4.0K Aug 26 00:37 Pictures\n",
      "drwxr-xr-x   2 zlamberty zlamberty 4.0K Sep 12  2016 .pip\n",
      "drwx------   3 zlamberty zlamberty 4.0K Dec 29  2015 .pki\n",
      "drwxr-xr-x  13 zlamberty zlamberty 4.0K Jun 23 20:21 .PlayOnLinux\n",
      "lrwxrwxrwx   1 zlamberty zlamberty   41 Apr  4  2016 PlayOnLinux's virtual drives -> /home/zlamberty/.PlayOnLinux//wineprefix/\n",
      "drwxr-xr-x   2 zlamberty zlamberty 4.0K Jun 25 22:30 .plotly\n",
      "-rw-r--r--   1 zlamberty zlamberty  675 Dec 29  2015 .profile\n",
      "-rw-------   1 zlamberty zlamberty  14K Aug 14 22:17 .psql_history\n",
      "drwxr-xr-x   2 zlamberty zlamberty 4.0K Dec 29  2015 Public\n",
      "-rw-------   1 zlamberty zlamberty  256 Aug  4  2016 .pulse-cookie\n",
      "drwxr-xr-x   2 zlamberty zlamberty 4.0K Aug 13 13:15 .pylint.d\n",
      "-rw-------   1 zlamberty zlamberty 2.6K Aug 10 20:42 .python_history\n",
      "drwxr-xr-x   3 zlamberty zlamberty 4.0K Jan 28  2016 R\n",
      "-rw-r--r--   1 zlamberty zlamberty 8.8K Jun 26 21:38 results.csv\n",
      "drwxr-xr-x  13 zlamberty zlamberty 4.0K Apr 16  2016 .rstudio-desktop\n",
      "drwxr-xr-x   4 zlamberty zlamberty 4.0K Apr  4  2016 .sbt\n",
      "drwx------   2 zlamberty zlamberty 4.0K Jun 23 19:15 .secrets\n",
      "drwxr-xr-x   3 zlamberty zlamberty 4.0K Sep  7  2016 .shutter\n",
      "-rw-r--r--   1 zlamberty zlamberty   36 Feb  6  2016 .smbfsrc\n",
      "-rw-r--r--   1 zlamberty zlamberty   37 Feb  6  2016 .smbfsrc~\n",
      "drwxr-xr-x   2 zlamberty zlamberty 4.0K Aug 26 12:18 .ssh\n",
      "drwxr-xr-x  21 zlamberty zlamberty 4.0K Jan  7  2017 .steam\n",
      "drwxr-xr-x   3 zlamberty zlamberty 4.0K Aug  4  2016 Steam\n",
      "lrwxrwxrwx   1 zlamberty zlamberty   34 Jan  7  2017 .steampath -> /home/zlamberty/.steam/bin32/steam\n",
      "lrwxrwxrwx   1 zlamberty zlamberty   32 Jan  7  2017 .steampid -> /home/zlamberty/.steam/steam.pid\n",
      "drwxr-xr-x   6 zlamberty zlamberty  12K Aug 20 20:51 temp\n",
      "drwxr-xr-x   2 zlamberty zlamberty 4.0K Dec 29  2015 Templates\n",
      "-rw-r--r--   1 zlamberty zlamberty    0 Aug 11  2016 test.csv\n",
      "-rw-r--r--   1 zlamberty zlamberty    0 Aug 23 21:18 testfile.newname\n",
      "drwxr-xr-x  12 zlamberty zlamberty 4.0K Aug 29  2016 .themes\n",
      "drwx------   3 zlamberty zlamberty 4.0K Aug 20  2016 .thumbnails\n",
      "lrwxrwxrwx   1 zlamberty zlamberty    4 Aug 23 21:32 tmpshortcut -> /tmp\n",
      "drwxr-xr-x   4 zlamberty zlamberty 4.0K Sep 12  2016 .venvs\n",
      "drwxr-xr-x   2 zlamberty zlamberty 4.0K Dec 29  2015 Videos\n",
      "drwxr-xr-x   4 zlamberty zlamberty 4.0K Jul  9 20:08 VirtualBox VMs\n",
      "drwx------   2 zlamberty zlamberty 4.0K Jul  8 18:26 .w3m\n",
      "drwxr-xr-x  11 zlamberty zlamberty 4.0K Dec  1  2016 .weechat\n",
      "drwxr-xr-x   4 zlamberty zlamberty 4.0K Aug 19  2016 .wine\n",
      "-rw-r--r--   1 zlamberty zlamberty 649K Apr 17  2016 winetricks\n",
      "drwxr-xr-x   3 zlamberty zlamberty 4.0K Apr  4  2016 workspace\n",
      "-rw-------   1 zlamberty zlamberty  317 Aug 10 19:53 .Xauthority\n",
      "drwx------   3 zlamberty zlamberty 4.0K Jun 11  2016 .xchat2\n",
      "-rw-------   1 zlamberty zlamberty 451M Aug 26 12:22 .xsession-errors\n",
      "-rw-------   1 zlamberty zlamberty 6.9M Aug 10 19:50 .xsession-errors.old\n"
     ]
    }
   ],
   "source": [
    "%%bash\n",
    "ls -alh ~"
   ]
  },
  {
   "cell_type": "markdown",
   "metadata": {
    "slideshow": {
     "slide_type": "subslide"
    }
   },
   "source": [
    "##### `cd`\n",
    "\n",
    "`cd` (short for *c*hange *d*irectory) will do just that -- change the directory you are in. You can pass in relative or absolute paths.\n",
    "\n",
    "passing no argument will change your working directory to your home directory."
   ]
  },
  {
   "cell_type": "code",
   "execution_count": 81,
   "metadata": {},
   "outputs": [
    {
     "name": "stdout",
     "output_type": "stream",
     "text": [
      "after 'cd /tmp'\n",
      "/tmp\n",
      "after 'cd'\n",
      "/home/zlamberty\n"
     ]
    }
   ],
   "source": [
    "%%bash\n",
    "cd /tmp\n",
    "echo \"after 'cd /tmp'\"\n",
    "pwd\n",
    "\n",
    "cd\n",
    "echo \"after 'cd'\"\n",
    "pwd"
   ]
  },
  {
   "cell_type": "markdown",
   "metadata": {
    "slideshow": {
     "slide_type": "subslide"
    }
   },
   "source": [
    "##### `touch`\n",
    "\n",
    "this command will \"touch\" a file, which does two things:\n",
    "\n",
    "1. creates it if it doesn't exist\n",
    "2. updates the \"last updated\" timestamp of the file to be right now\n",
    "\n",
    "this command is mostly useful for creating empty files just to have a filename (when starting a git repo with an empty `README` file, or when you're writing a large tutorial of linux commands, for example).\n",
    "\n",
    "```bash\n",
    "touch ~/testfile\n",
    "ll ~/testfile\n",
    "```"
   ]
  },
  {
   "cell_type": "code",
   "execution_count": 85,
   "metadata": {},
   "outputs": [
    {
     "name": "stdout",
     "output_type": "stream",
     "text": [
      "-rw-r--r-- 1 zlamberty zlamberty 0 Aug 23 21:18 /home/zlamberty/testfile\n"
     ]
    }
   ],
   "source": [
    "%%bash\n",
    "touch ~/testfile\n",
    "ls -alh ~/testfile"
   ]
  },
  {
   "cell_type": "markdown",
   "metadata": {
    "slideshow": {
     "slide_type": "subslide"
    }
   },
   "source": [
    "##### `cp`\n",
    "\n",
    "copy a file from one path to another using `cp`\n",
    "\n",
    "```bash\n",
    "cp [file that exists] [file I want to exist]\n",
    "```"
   ]
  },
  {
   "cell_type": "code",
   "execution_count": 86,
   "metadata": {},
   "outputs": [
    {
     "name": "stdout",
     "output_type": "stream",
     "text": [
      "-rw-r--r-- 1 zlamberty zlamberty 0 Aug 23 21:18 /home/zlamberty/testfile\n",
      "-rw-r--r-- 1 zlamberty zlamberty 0 Aug 23 21:19 /home/zlamberty/testfile.bak\n"
     ]
    }
   ],
   "source": [
    "%%bash\n",
    "cp ~/testfile ~/testfile.bak\n",
    "ls -alh ~/testfile*"
   ]
  },
  {
   "cell_type": "markdown",
   "metadata": {
    "slideshow": {
     "slide_type": "subslide"
    }
   },
   "source": [
    "##### `rm`\n",
    "\n",
    "remove a file with `rm`\n",
    "\n",
    "```bash\n",
    "rm ~/testfile.bak\n",
    "```"
   ]
  },
  {
   "cell_type": "code",
   "execution_count": 87,
   "metadata": {},
   "outputs": [
    {
     "name": "stdout",
     "output_type": "stream",
     "text": [
      "-rw-r--r-- 1 zlamberty zlamberty 0 Aug 23 21:18 /home/zlamberty/testfile\n",
      "-rw-r--r-- 1 zlamberty zlamberty 0 Aug 23 21:19 /home/zlamberty/testfile.bak\n",
      "\n",
      "-rw-r--r-- 1 zlamberty zlamberty 0 Aug 23 21:18 /home/zlamberty/testfile\n"
     ]
    }
   ],
   "source": [
    "%%bash\n",
    "ls -alh ~/testfile*\n",
    "rm ~/testfile.bak\n",
    "echo\n",
    "ls -alh ~/testfile*"
   ]
  },
  {
   "cell_type": "markdown",
   "metadata": {
    "slideshow": {
     "slide_type": "subslide"
    }
   },
   "source": [
    "##### `mv`\n",
    "\n",
    "move a file (literally: copy and then remove) a file with `mv`\n",
    "\n",
    "```bash\n",
    "mv [current file name] [new file name\n",
    "```"
   ]
  },
  {
   "cell_type": "code",
   "execution_count": 88,
   "metadata": {},
   "outputs": [
    {
     "name": "stdout",
     "output_type": "stream",
     "text": [
      "-rw-r--r-- 1 zlamberty zlamberty 0 Aug 23 21:18 /home/zlamberty/testfile\n",
      "\n",
      "-rw-r--r-- 1 zlamberty zlamberty 0 Aug 23 21:18 /home/zlamberty/testfile.newname\n"
     ]
    }
   ],
   "source": [
    "%%bash\n",
    "ls -alh ~/testfile*\n",
    "mv ~/testfile ~/testfile.newname\n",
    "echo\n",
    "ls -alh ~/testfile*"
   ]
  },
  {
   "cell_type": "markdown",
   "metadata": {
    "slideshow": {
     "slide_type": "subslide"
    }
   },
   "source": [
    "##### `ln`\n",
    "\n",
    "create a \"link\" (a shortcut) to a file or directory. Generally, you want to create \"symbolic\" links (flag `-s`).\n",
    "\n",
    "```bash\n",
    "ln -s [thing the shortcut points at] [shortcut name]\n",
    "```"
   ]
  },
  {
   "cell_type": "code",
   "execution_count": 104,
   "metadata": {},
   "outputs": [
    {
     "name": "stdout",
     "output_type": "stream",
     "text": [
      "lrwxrwxrwx 1 zlamberty zlamberty 4 Aug 23 21:32 /home/zlamberty/tmpshortcut -> /tmp\n"
     ]
    }
   ],
   "source": [
    "%%bash\n",
    "ln -s /tmp ~/tmpshortcut\n",
    "ls -alh ~/tm*"
   ]
  },
  {
   "cell_type": "markdown",
   "metadata": {
    "slideshow": {
     "slide_type": "subslide"
    }
   },
   "source": [
    "##### `mkdir`\n",
    "\n",
    "make a new directory with `mkdir`. note: the `-p` (parents) flag will create all of the pieces of the path if they haven't been created before (good for creating folders several levels deep), and also will not throw an error if the directories already exist.\n",
    "\n",
    "```bash\n",
    "mkdir -p ~/code\n",
    "```"
   ]
  },
  {
   "cell_type": "code",
   "execution_count": 110,
   "metadata": {},
   "outputs": [
    {
     "name": "stdout",
     "output_type": "stream",
     "text": [
      "total 198M\n",
      "drwxr-xr-x  69 zlamberty zlamberty 4.0K Aug 23 21:32 .\n",
      "drwxr-xr-x   4 root      root      4.0K Dec 29  2015 ..\n",
      "drwx------   3 zlamberty zlamberty 4.0K Dec  7  2016 .adobe\n",
      "drwxr-xr-x  20 zlamberty zlamberty 4.0K May 29 22:35 anaconda3\n",
      "drwxr-xr-x   3 zlamberty zlamberty 4.0K May 13 16:10 .anaconda_backup\n",
      "-rw-r--r--   1 zlamberty zlamberty  271 Dec 30  2015 .bash_aliases\n",
      "-rw-------   1 zlamberty zlamberty  53K Aug 23 11:31 .bash_history\n",
      "-rw-r--r--   1 zlamberty zlamberty  220 Dec 30  2015 .bash_logout\n",
      "-rw-r--r--   1 zlamberty zlamberty 4.4K May 13 21:15 .bashrc\n",
      "-rw-r--r--   1 zlamberty zlamberty 3.5K Dec 30  2015 .bashrc-anaconda2.bak\n",
      "-rw-r--r--   1 zlamberty zlamberty 4.4K May 13 16:13 .bashrc-anaconda3.bak\n",
      "drwx------  21 zlamberty zlamberty 4.0K May 17 00:26 .cache\n",
      "drwxr-xr-x   5 zlamberty zlamberty 4.0K Oct 29  2016 .cinnamon\n",
      "drwxr-xr-x  29 zlamberty zlamberty 4.0K Aug  9 21:55 code\n",
      "drwxr-xr-x   3 zlamberty zlamberty 4.0K May 13 16:15 .conda\n",
      "drwx------  42 zlamberty zlamberty 4.0K Jul  9 23:19 .config\n",
      "-rw-r--r--   1 zlamberty zlamberty 2.5K Aug 29  2016 .conkyrc\n",
      "-rw-r--r--   1 zlamberty zlamberty    5 Jan 29  2017 .dbshell\n",
      "drwx------   3 zlamberty zlamberty 4.0K Dec 29  2015 .dbus\n",
      "drwxr-xr-x   2 zlamberty zlamberty 4.0K Aug 19  2016 Desktop\n",
      "-rw-r--r--   1 zlamberty zlamberty   55 Dec 29  2015 .dmrc\n",
      "drwxr-xr-x   2 zlamberty zlamberty 4.0K Sep 19  2016 Documents\n",
      "drwxr-xr-x   8 zlamberty zlamberty  20K Aug 23 16:02 Downloads\n",
      "drwxr-xr-x   4 zlamberty zlamberty 4.0K Apr  4  2016 eclipse\n",
      "drwxr-xr-x   7 zlamberty zlamberty 4.0K Apr  4  2016 .eclipse\n",
      "drwxr-xr-x  15 zlamberty zlamberty 4.0K Aug  6 14:29 .emacs.d\n",
      "drwxr-xr-x   3 zlamberty zlamberty 4.0K Dec 30  2015 .erc\n",
      "drwx------   3 zlamberty zlamberty 4.0K Aug 10 19:53 .gconf\n",
      "drwxr-xr-x   4 zlamberty zlamberty 4.0K Jan 16  2016 .gem\n",
      "drwxr-xr-x  24 zlamberty zlamberty 4.0K Dec  7  2016 .gimp-2.8\n",
      "-rw-r--r--   1 zlamberty zlamberty 1.3K Dec 30  2015 .gitconfig\n",
      "-rw-r-----   1 zlamberty zlamberty    0 Aug 31  2016 .gksu.lock\n",
      "drwx------   3 zlamberty zlamberty 4.0K Feb  7  2016 .gnome\n",
      "drwxr-xr-x   4 zlamberty zlamberty 4.0K Dec 29  2015 .gnome2\n",
      "drwx------   2 zlamberty zlamberty 4.0K Dec 29  2015 .gnome2_private\n",
      "drwx------   2 zlamberty zlamberty 4.0K May 11  2016 .gnupg\n",
      "drwx------   5 zlamberty zlamberty 4.0K Aug 11  2016 .ICAClient\n",
      "-rw-------   1 zlamberty zlamberty  18K Aug 10 19:53 .ICEauthority\n",
      "drwxr-xr-x   3 zlamberty zlamberty 4.0K Apr  4  2016 .idea-build\n",
      "drwxr-xr-x   4 zlamberty zlamberty 4.0K Apr  4  2016 .IdeaIC2016.1\n",
      "drwxr-xr-x   5 zlamberty zlamberty 4.0K May 13 16:19 .ipython\n",
      "drwxr-xr-x   3 zlamberty zlamberty 4.0K Apr  4  2016 .ivy2\n",
      "drwxr-xr-x   4 zlamberty zlamberty 4.0K Apr  4  2016 .java\n",
      "drwxr-xr-x   2 zlamberty zlamberty 4.0K Jun  6 19:57 .jupyter\n",
      "-rw-------   1 zlamberty zlamberty  282 Aug 20 20:19 .lesshst\n",
      "drwx------   3 zlamberty zlamberty 4.0K Dec 29  2015 .local\n",
      "drwx------   2 zlamberty zlamberty 4.0K Apr  4  2016 Mail\n",
      "-rw-r--r--   1 zlamberty zlamberty    0 Jan 29  2017 .mongorc.js\n",
      "drwx------   4 zlamberty zlamberty 4.0K Dec 29  2015 .mozilla\n",
      "drwxr-xr-x   3 zlamberty zlamberty 4.0K Aug 10 21:45 mtg\n",
      "drwxr-xr-x   2 zlamberty zlamberty 4.0K Dec 29  2015 Music\n",
      "drwx------   3 zlamberty zlamberty 4.0K Aug 20  2016 .mysql\n",
      "-rw-r--r--   1 zlamberty zlamberty   12 Feb 27  2016 .neo4j_shell_history\n",
      "drwxr-xr-x   4 zlamberty zlamberty 4.0K Jun  6 20:21 nltk_data\n",
      "-rw-------   1 zlamberty zlamberty  400 Jan 29  2017 .node_repl_history\n",
      "drwxr-xr-x 257 zlamberty zlamberty  12K Jan 29  2017 .npm\n",
      "-rw-------   1 zlamberty zlamberty   70 Jan 29  2017 .npmrc\n",
      "drwxr-xr-x   8 zlamberty zlamberty 4.0K Jan 29  2017 .nvm\n",
      "-rw-r--r--   1 zlamberty zlamberty    0 Apr 17  2016 .odbc.ini\n",
      "drwxr-xr-x   6 zlamberty zlamberty 4.0K Apr  4  2016 .p2\n",
      "-rw-r--r--   1 zlamberty zlamberty 3.3K Jan  7  2017 .pgadmin3\n",
      "-rw-r--r--   1 zlamberty zlamberty   55 Jan  7  2017 .pgadmin_histoqueries\n",
      "-rw-r--r--   1 zlamberty zlamberty  443 Jan  7  2017 pgadmin.log\n",
      "-rw-------   1 zlamberty zlamberty   33 Jan  7  2017 .pgpass\n",
      "drwxr-xr-x   2 zlamberty zlamberty 4.0K Aug 23 00:28 Pictures\n",
      "drwxr-xr-x   2 zlamberty zlamberty 4.0K Sep 12  2016 .pip\n",
      "drwx------   3 zlamberty zlamberty 4.0K Dec 29  2015 .pki\n",
      "drwxr-xr-x  13 zlamberty zlamberty 4.0K Jun 23 20:21 .PlayOnLinux\n",
      "lrwxrwxrwx   1 zlamberty zlamberty   41 Apr  4  2016 PlayOnLinux's virtual drives -> /home/zlamberty/.PlayOnLinux//wineprefix/\n",
      "drwxr-xr-x   2 zlamberty zlamberty 4.0K Jun 25 22:30 .plotly\n",
      "-rw-r--r--   1 zlamberty zlamberty  675 Dec 29  2015 .profile\n",
      "-rw-------   1 zlamberty zlamberty  14K Aug 14 22:17 .psql_history\n",
      "drwxr-xr-x   2 zlamberty zlamberty 4.0K Dec 29  2015 Public\n",
      "-rw-------   1 zlamberty zlamberty  256 Aug  4  2016 .pulse-cookie\n",
      "drwxr-xr-x   2 zlamberty zlamberty 4.0K Aug 13 13:15 .pylint.d\n",
      "-rw-------   1 zlamberty zlamberty 2.6K Aug 10 20:42 .python_history\n",
      "drwxr-xr-x   3 zlamberty zlamberty 4.0K Jan 28  2016 R\n",
      "-rw-r--r--   1 zlamberty zlamberty 8.8K Jun 26 21:38 results.csv\n",
      "drwxr-xr-x  13 zlamberty zlamberty 4.0K Apr 16  2016 .rstudio-desktop\n",
      "drwxr-xr-x   4 zlamberty zlamberty 4.0K Apr  4  2016 .sbt\n",
      "drwx------   2 zlamberty zlamberty 4.0K Jun 23 19:15 .secrets\n",
      "drwxr-xr-x   3 zlamberty zlamberty 4.0K Sep  7  2016 .shutter\n",
      "-rw-r--r--   1 zlamberty zlamberty   36 Feb  6  2016 .smbfsrc\n",
      "-rw-r--r--   1 zlamberty zlamberty   37 Feb  6  2016 .smbfsrc~\n",
      "drwxr-xr-x   2 zlamberty zlamberty 4.0K Aug 23 18:58 .ssh\n",
      "drwxr-xr-x  21 zlamberty zlamberty 4.0K Jan  7  2017 .steam\n",
      "drwxr-xr-x   3 zlamberty zlamberty 4.0K Aug  4  2016 Steam\n",
      "lrwxrwxrwx   1 zlamberty zlamberty   34 Jan  7  2017 .steampath -> /home/zlamberty/.steam/bin32/steam\n",
      "lrwxrwxrwx   1 zlamberty zlamberty   32 Jan  7  2017 .steampid -> /home/zlamberty/.steam/steam.pid\n",
      "drwxr-xr-x   6 zlamberty zlamberty  12K Aug 20 20:51 temp\n",
      "drwxr-xr-x   2 zlamberty zlamberty 4.0K Dec 29  2015 Templates\n",
      "-rw-r--r--   1 zlamberty zlamberty    0 Aug 11  2016 test.csv\n",
      "-rw-r--r--   1 zlamberty zlamberty    0 Aug 23 21:18 testfile.newname\n",
      "drwxr-xr-x  12 zlamberty zlamberty 4.0K Aug 29  2016 .themes\n",
      "drwx------   3 zlamberty zlamberty 4.0K Aug 20  2016 .thumbnails\n",
      "lrwxrwxrwx   1 zlamberty zlamberty    4 Aug 23 21:32 tmpshortcut -> /tmp\n",
      "drwxr-xr-x   4 zlamberty zlamberty 4.0K Sep 12  2016 .venvs\n",
      "drwxr-xr-x   2 zlamberty zlamberty 4.0K Dec 29  2015 Videos\n",
      "drwxr-xr-x   4 zlamberty zlamberty 4.0K Jul  9 20:08 VirtualBox VMs\n",
      "drwx------   2 zlamberty zlamberty 4.0K Jul  8 18:26 .w3m\n",
      "drwxr-xr-x  11 zlamberty zlamberty 4.0K Dec  1  2016 .weechat\n",
      "drwxr-xr-x   4 zlamberty zlamberty 4.0K Aug 19  2016 .wine\n",
      "-rw-r--r--   1 zlamberty zlamberty 649K Apr 17  2016 winetricks\n",
      "drwxr-xr-x   3 zlamberty zlamberty 4.0K Apr  4  2016 workspace\n",
      "-rw-------   1 zlamberty zlamberty  317 Aug 10 19:53 .Xauthority\n",
      "drwx------   3 zlamberty zlamberty 4.0K Jun 11  2016 .xchat2\n",
      "-rw-------   1 zlamberty zlamberty 190M Aug 23 21:35 .xsession-errors\n",
      "-rw-------   1 zlamberty zlamberty 6.9M Aug 10 19:50 .xsession-errors.old\n"
     ]
    }
   ],
   "source": [
    "%%bash\n",
    "mkdir -p ~/code\n",
    "ls -alh ~"
   ]
  },
  {
   "cell_type": "markdown",
   "metadata": {
    "slideshow": {
     "slide_type": "slide"
    }
   },
   "source": [
    "### editing and viewing files\n",
    "\n",
    "no matter what your preference is for editor on your laptop, there will be times where you *must* use terminal editors -- and you should! `vim` and `emacs` are among the two most full-featured and best supported text editors ever made!\n",
    "\n",
    "There are about twelveteen million articles on which text editor is best. In particular, there is a [nerd culture war](https://en.wikipedia.org/wiki/Editor_war) between `vim` and `emacs` as best editor. I was raises in an `emacs` home. There are, presumably, people who like `nano`. there are pros and cons to all of them.\n",
    "\n",
    "[Just pick one and learn it!](https://xkcd.com/378/)"
   ]
  },
  {
   "cell_type": "markdown",
   "metadata": {
    "slideshow": {
     "slide_type": "subslide"
    }
   },
   "source": [
    "##### `vi` and `vim`\n",
    "\n",
    "this is the grand-mommy of 'em all. `vi` (for \"visual\") or `vim` (vi improved) is one of the virst ever terminal-based editors.\n",
    "\n",
    "The first thing to know about `vi` is that it is highly optimized for *performing editing actions* and not necessarily for *text entry*. The idea is that users will far wish to do things like cut, paste, delete characters or words, or move around documents just as often as they want to actually type out characters. Normally, the action of moving up several paragraphs, copying and pasting a word, and moving back to the bottom may take considerably longer than typing. This time debt is optimized away with an extensive list of single-character shortcuts."
   ]
  },
  {
   "cell_type": "markdown",
   "metadata": {
    "slideshow": {
     "slide_type": "subslide"
    }
   },
   "source": [
    "as a result, there are two *modes* within the `vi` editor, and you need to toggle between them to do different things:\n",
    "\n",
    "1. \"normal\" mode, where keystrokes are commands that *do* things, and\n",
    "2. \"insert\" mode, where keystrokes are literally printed to the document\n",
    "\n",
    "when you enter `vi` you are in the *normal* mode, so you can't just start typing without accidentally executing a million strange commands.\n",
    "\n",
    "to move from normal mode to insert mode, you need to type the `i` key. To move from the insert mode to the normal mode, you press the `ESC` key.\n",
    "\n",
    "most importantly, when you've landed in vi and just want to leave, [ask stack overflow how to exit `vi`](https://stackoverflow.blog/2017/05/23/stack-overflow-helping-one-million-developers-exit-vim/) and they will tell you:\n",
    "\n",
    "1. be in normal mode (so hammer `ESC` for a bit)\n",
    "2. press `:`\n",
    "3. then if you want to\n",
    "    1. save changes (write to file) and exit: `wq`\n",
    "    2. just quit: `q`\n",
    "    3. quit and discard changes: `q!`"
   ]
  },
  {
   "cell_type": "markdown",
   "metadata": {
    "slideshow": {
     "slide_type": "subslide"
    }
   },
   "source": [
    "<div align=\"center\">**open and exit vim**</div>"
   ]
  },
  {
   "cell_type": "markdown",
   "metadata": {
    "slideshow": {
     "slide_type": "subslide"
    }
   },
   "source": [
    "##### `emacs`\n",
    "\n",
    "`emacs` (short for *E*diting *MAC*ro*S*) is the primary competitor to `vim`. the best way to describe `emacs` is via a popular backhanded compliment:\n",
    "\n",
    "> `emacs` is a great operating system, lacking only a decent editor\n",
    "\n",
    "`emacs` itself is actually a shell for a particular programming language (`lisp`), and as such it can do arbitrarily complicated things. fortunately, there are armies of dedicated hobbyists to make these awful monstrocities:\n",
    "\n",
    "1. [open your ipython notebooks in emacs](https://github.com/millejoh/emacs-ipython-notebook)\n",
    "2. [use emacs to browse the web](https://www.emacswiki.org/emacs/eww)\n",
    "3. [play chess](https://github.com/jwiegley/emacs-chess)\n",
    "4. [put on a holiday fireplace](https://github.com/johanvts/emacs-fireplace/)\n",
    "5. [nyan cat mode](https://github.com/wasamasa/zone-nyan)\n",
    "6. [make sounds like a typewriter](https://github.com/rbanffy/selectric-mode)\n",
    "\n",
    "who even are these people? bless them."
   ]
  },
  {
   "cell_type": "markdown",
   "metadata": {
    "slideshow": {
     "slide_type": "subslide"
    }
   },
   "source": [
    "Of course, for every crazy, silly `emacs` package there are hundreds of useful ones. \n",
    "\n",
    "the process of editing becomes *much* more reliant on chains of keyboard shortcuts and modifier keys. are you aware that in addition to `alt` and `ctrl` there is a `hyper` key? just because no keyboard has it doesn't mean it doesn't exist -- you just have to *BELIEVE*!\n",
    "\n",
    "you will also (silently) activate context-dependent modes for different file types, which opens up different sets of commands that are specific to that context."
   ]
  },
  {
   "cell_type": "markdown",
   "metadata": {
    "slideshow": {
     "slide_type": "subslide"
    }
   },
   "source": [
    "generally speaking, though, you probably only *really* need to know a few things:\n",
    "\n",
    "1. open a file by pressing `ctrl + x` and then `ctrl + f`\n",
    "2. write changes to file by pressing `ctrl + x` and then `ctrl + w`\n",
    "3. exit by pressing `ctrl + x` and then `ctrl + c`"
   ]
  },
  {
   "cell_type": "markdown",
   "metadata": {
    "slideshow": {
     "slide_type": "subslide"
    }
   },
   "source": [
    "<div align=\"center\">**open and exit emacs**</div>"
   ]
  },
  {
   "cell_type": "markdown",
   "metadata": {
    "slideshow": {
     "slide_type": "fragment"
    }
   },
   "source": [
    "that's right -- it's usually not installed by default, because it's so much larger than `vim` or `nano`"
   ]
  },
  {
   "cell_type": "markdown",
   "metadata": {
    "slideshow": {
     "slide_type": "subslide"
    }
   },
   "source": [
    "##### `nano`\n",
    "\n",
    "`nano` is a great starter option for editors. It uses a small handful of `ctrl`- and `alt`-modified key sequences (like emacs), but is much more like a standard press-arrow-keys-and-type editor. Plus, the simple commands are listed at the bottom of the window at all times.\n",
    "\n",
    "+ the `^` character stands for the `ctrl` modifier, which is the `ctrl` key\n",
    "+ the `M` character stands for the `meta` modifier, which is the `alt` key or `esc` key (and often both)"
   ]
  },
  {
   "cell_type": "markdown",
   "metadata": {
    "slideshow": {
     "slide_type": "subslide"
    }
   },
   "source": [
    "<div align=\"center\">**open and exit nano**</div>"
   ]
  },
  {
   "cell_type": "markdown",
   "metadata": {
    "slideshow": {
     "slide_type": "subslide"
    }
   },
   "source": [
    "##### `less`\n",
    "\n",
    "the `less` command (a play on an older command called `more`, which displayed \"more\" of a file) is a file *viewer*, not an editor. there are [a couple of useful navigation commands](https://en.wikipedia.org/wiki/Less_(Unix)#Frequently_used_commands) you can use within the `less` program (mostly stolen from `vi`). The ones I end up using every time:\n",
    "\n",
    "+ quit: `q`\n",
    "+ search for text: `/`\n",
    "    + once matches have been found, cycle *foward* with: `n`\n",
    "    + cycle *backward* with: `N`\n",
    "+ page up: `u`\n",
    "+ page down: `d`\n",
    "\n",
    "```bash\n",
    "less ~/.bashrc\n",
    "```\n",
    "\n",
    "note: this doesn't require you to load the whole file, which may make it better for viewing large files than many other options (see `head` below, too)"
   ]
  },
  {
   "cell_type": "markdown",
   "metadata": {
    "slideshow": {
     "slide_type": "subslide"
    }
   },
   "source": [
    "##### `cat`\n",
    "\n",
    "`cat` (for concatenate) *prints* files to `stdout` (and thus the terminal). Because it prints the *entire* file, this will be probelmatic for long files. Personally, I never use `cat` -- I always use `less`. that's a matter of preference, though. `cat` often is useful in shell scripting\n",
    "\n",
    "```bash\n",
    "cat ~/.bashrc\n",
    "```"
   ]
  },
  {
   "cell_type": "code",
   "execution_count": 111,
   "metadata": {},
   "outputs": [
    {
     "name": "stdout",
     "output_type": "stream",
     "text": [
      "# ~/.bashrc: executed by bash(1) for non-login shells.\n",
      "# see /usr/share/doc/bash/examples/startup-files (in the package bash-doc)\n",
      "# for examples\n",
      "\n",
      "# If not running interactively, don't do anything\n",
      "case $- in\n",
      "    *i*) ;;\n",
      "      *) return;;\n",
      "esac\n",
      "\n",
      "# don't put duplicate lines or lines starting with space in the history.\n",
      "# See bash(1) for more options\n",
      "HISTCONTROL=ignoreboth\n",
      "\n",
      "# append to the history file, don't overwrite it\n",
      "shopt -s histappend\n",
      "\n",
      "# for setting history length see HISTSIZE and HISTFILESIZE in bash(1)\n",
      "HISTSIZE=1000\n",
      "HISTFILESIZE=2000\n",
      "\n",
      "# check the window size after each command and, if necessary,\n",
      "# update the values of LINES and COLUMNS.\n",
      "shopt -s checkwinsize\n",
      "\n",
      "# If set, the pattern \"**\" used in a pathname expansion context will\n",
      "# match all files and zero or more directories and subdirectories.\n",
      "#shopt -s globstar\n",
      "\n",
      "# make less more friendly for non-text input files, see lesspipe(1)\n",
      "#[ -x /usr/bin/lesspipe ] && eval \"$(SHELL=/bin/sh lesspipe)\"\n",
      "\n",
      "# set variable identifying the chroot you work in (used in the prompt below)\n",
      "if [ -z \"${debian_chroot:-}\" ] && [ -r /etc/debian_chroot ]; then\n",
      "    debian_chroot=$(cat /etc/debian_chroot)\n",
      "fi\n",
      "\n",
      "# set a fancy prompt (non-color, unless we know we \"want\" color)\n",
      "case \"$TERM\" in\n",
      "    xterm-color) color_prompt=yes;;\n",
      "esac\n",
      "\n",
      "# uncomment for a colored prompt, if the terminal has the capability; turned\n",
      "# off by default to not distract the user: the focus in a terminal window\n",
      "# should be on the output of commands, not on the prompt\n",
      "#force_color_prompt=yes\n",
      "\n",
      "if [ -n \"$force_color_prompt\" ]; then\n",
      "    if [ -x /usr/bin/tput ] && tput setaf 1 >&/dev/null; then\n",
      "\t# We have color support; assume it's compliant with Ecma-48\n",
      "\t# (ISO/IEC-6429). (Lack of such support is extremely rare, and such\n",
      "\t# a case would tend to support setf rather than setaf.)\n",
      "\tcolor_prompt=yes\n",
      "    else\n",
      "\tcolor_prompt=\n",
      "    fi\n",
      "fi\n",
      "\n",
      "if [ \"$color_prompt\" = yes ]; then\n",
      "    PS1='${debian_chroot:+($debian_chroot)}\\[\\033[01;32m\\]\\u@\\h\\[\\033[00m\\]:\\[\\033[01;34m\\]\\w\\[\\033[00m\\]\\$ '\n",
      "else\n",
      "    PS1='${debian_chroot:+($debian_chroot)}\\u@\\h:\\w\\$ '\n",
      "fi\n",
      "unset color_prompt force_color_prompt\n",
      "\n",
      "# If this is an xterm set the title to user@host:dir\n",
      "case \"$TERM\" in\n",
      "xterm*|rxvt*)\n",
      "    PS1=\"\\[\\e]0;${debian_chroot:+($debian_chroot)}\\u@\\h: \\w\\a\\]$PS1\"\n",
      "    ;;\n",
      "*)\n",
      "    ;;\n",
      "esac\n",
      "\n",
      "# enable color support of ls and also add handy aliases\n",
      "if [ -x /usr/bin/dircolors ]; then\n",
      "    test -r ~/.dircolors && eval \"$(dircolors -b ~/.dircolors)\" || eval \"$(dircolors -b)\"\n",
      "    alias ls='ls --color=auto'\n",
      "    #alias dir='dir --color=auto'\n",
      "    #alias vdir='vdir --color=auto'\n",
      "\n",
      "    #alias grep='grep --color=auto'\n",
      "    #alias fgrep='fgrep --color=auto'\n",
      "    #alias egrep='egrep --color=auto'\n",
      "fi\n",
      "\n",
      "# some more ls aliases\n",
      "#alias ll='ls -l'\n",
      "#alias la='ls -A'\n",
      "#alias l='ls -CF'\n",
      "\n",
      "# Alias definitions.\n",
      "# You may want to put all your additions into a separate file like\n",
      "# ~/.bash_aliases, instead of adding them here directly.\n",
      "# See /usr/share/doc/bash-doc/examples in the bash-doc package.\n",
      "\n",
      "if [ -f ~/.bash_aliases ]; then\n",
      "    . ~/.bash_aliases\n",
      "fi\n",
      "\n",
      "# enable programmable completion features (you don't need to enable\n",
      "# this, if it's already enabled in /etc/bash.bashrc and /etc/profile\n",
      "# sources /etc/bash.bashrc).\n",
      "if ! shopt -oq posix; then\n",
      "  if [ -f /usr/share/bash-completion/bash_completion ]; then\n",
      "    . /usr/share/bash-completion/bash_completion\n",
      "  elif [ -f /etc/bash_completion ]; then\n",
      "    . /etc/bash_completion\n",
      "  fi\n",
      "fi\n",
      "\n",
      "\n",
      "# R Zach Lamberty specific configs\n",
      "export TERM=xterm-256color\n",
      "\n",
      "# Base16 Shell\n",
      "BASE16_SHELL=\"$HOME/.config/base16-shell/base16-monokai.dark.sh\"\n",
      "[[ -s $BASE16_SHELL ]] && source $BASE16_SHELL\n",
      "\n",
      "# debian stuff (from the debian package maintainer's guide)\n",
      "export DEBEMAIL=\"r.zach.lamberty@gmail.com\"\n",
      "export DEBFULLNAME=\"R Zach Lamberty\"\n",
      "alias dquilt=\"quilt --quiltrc=${HOME}/.quiltrc-dpkg\"\n",
      "complete -F _quilt_completion $_quilt_complete_opt dquilt\n",
      "\n",
      "# emacs stuff\n",
      "export ALTERNATE_EDITOR=\"\"\n",
      "export EDITOR=\"emacsclient -t\"           # $EDITOR should open in terminal\n",
      "export VISUAL=\"emacsclient -c -a emacs\"  # $VISUAL opens in GUI with non-daemon as alternate\n",
      "\n",
      "export NVM_DIR=\"/home/zlamberty/.nvm\"\n",
      "[ -s \"$NVM_DIR/nvm.sh\" ] && \\. \"$NVM_DIR/nvm.sh\"  # This loads nvm\n",
      "\n",
      "# solving a curl certs issue (cropped up in nvm installation but probably a more\n",
      "# generic problem than just that)\n",
      "export CURL_CA_BUNDLE=/etc/ssl/certs/ca-certificates.crt\n",
      "\n",
      "# added by Anaconda3 4.3.1 installer\n",
      "export PATH=\"/home/zlamberty/anaconda3/bin:$PATH\"\n",
      "\n",
      "# anaconda environment I basically always want to load\n",
      "source activate bs\n"
     ]
    }
   ],
   "source": [
    "%%bash\n",
    "cat ~/.bashrc"
   ]
  },
  {
   "cell_type": "markdown",
   "metadata": {
    "slideshow": {
     "slide_type": "subslide"
    }
   },
   "source": [
    "##### `echo`\n",
    "\n",
    "`echo` will simply take whatever follows it on the line and print it to `stdout` (and therefore the terminal). This is *mostly* useful for resolving environment variables (as discussed above).\n",
    "\n",
    "```bash\n",
    "echo \"user = $USER\"\n",
    "```"
   ]
  },
  {
   "cell_type": "code",
   "execution_count": 113,
   "metadata": {},
   "outputs": [
    {
     "name": "stdout",
     "output_type": "stream",
     "text": [
      "user = zlamberty\n"
     ]
    }
   ],
   "source": [
    "%%bash\n",
    "echo \"user = $USER\""
   ]
  },
  {
   "cell_type": "markdown",
   "metadata": {
    "slideshow": {
     "slide_type": "subslide"
    }
   },
   "source": [
    "##### `head`\n",
    "\n",
    "the `head` command will display the first few lines (by default, 10) of a file (similar to head in the `R` or `python` dataframe contexts -- I wonder where they got the name...)\n",
    "\n",
    "the flag `-n` modifies the number of records printed.\n",
    "\n",
    "```bash\n",
    "head -n 20 ~/.bashrc\n",
    "```"
   ]
  },
  {
   "cell_type": "code",
   "execution_count": 116,
   "metadata": {},
   "outputs": [
    {
     "name": "stdout",
     "output_type": "stream",
     "text": [
      "# ~/.bashrc: executed by bash(1) for non-login shells.\n",
      "# see /usr/share/doc/bash/examples/startup-files (in the package bash-doc)\n",
      "# for examples\n",
      "\n",
      "# If not running interactively, don't do anything\n",
      "case $- in\n",
      "    *i*) ;;\n",
      "      *) return;;\n",
      "esac\n",
      "\n",
      "# don't put duplicate lines or lines starting with space in the history.\n",
      "# See bash(1) for more options\n",
      "HISTCONTROL=ignoreboth\n",
      "\n",
      "# append to the history file, don't overwrite it\n",
      "shopt -s histappend\n",
      "\n",
      "# for setting history length see HISTSIZE and HISTFILESIZE in bash(1)\n",
      "HISTSIZE=1000\n",
      "HISTFILESIZE=2000\n"
     ]
    }
   ],
   "source": [
    "%%bash\n",
    "head -n 20 ~/.bashrc"
   ]
  },
  {
   "cell_type": "markdown",
   "metadata": {
    "slideshow": {
     "slide_type": "subslide"
    }
   },
   "source": [
    "##### `tail`\n",
    "\n",
    "as the name implies, `tail` is the other half of `head` -- it prints the last few lines (default, 10) of a file.\n",
    "\n",
    "again, the flag `-n` modifies the number of records printed. \n",
    "\n",
    "`tail` also has the flag `-f` for *following* a file. this means that the last `N` rows are printed, but we stay in the viewer process and update live as new lines are written. this can be perfect for watching logs. press `ctrl + c` to quit the \"following\" process.\n",
    "\n",
    "```bash\n",
    "tail -n 20 ~/.bashrc\n",
    "```"
   ]
  },
  {
   "cell_type": "code",
   "execution_count": 117,
   "metadata": {
    "slideshow": {
     "slide_type": "-"
    }
   },
   "outputs": [
    {
     "name": "stdout",
     "output_type": "stream",
     "text": [
      "alias dquilt=\"quilt --quiltrc=${HOME}/.quiltrc-dpkg\"\n",
      "complete -F _quilt_completion $_quilt_complete_opt dquilt\n",
      "\n",
      "# emacs stuff\n",
      "export ALTERNATE_EDITOR=\"\"\n",
      "export EDITOR=\"emacsclient -t\"           # $EDITOR should open in terminal\n",
      "export VISUAL=\"emacsclient -c -a emacs\"  # $VISUAL opens in GUI with non-daemon as alternate\n",
      "\n",
      "export NVM_DIR=\"/home/zlamberty/.nvm\"\n",
      "[ -s \"$NVM_DIR/nvm.sh\" ] && \\. \"$NVM_DIR/nvm.sh\"  # This loads nvm\n",
      "\n",
      "# solving a curl certs issue (cropped up in nvm installation but probably a more\n",
      "# generic problem than just that)\n",
      "export CURL_CA_BUNDLE=/etc/ssl/certs/ca-certificates.crt\n",
      "\n",
      "# added by Anaconda3 4.3.1 installer\n",
      "export PATH=\"/home/zlamberty/anaconda3/bin:$PATH\"\n",
      "\n",
      "# anaconda environment I basically always want to load\n",
      "source activate bs\n"
     ]
    }
   ],
   "source": [
    "%%bash\n",
    "tail -n 20 ~/.bashrc"
   ]
  },
  {
   "cell_type": "markdown",
   "metadata": {
    "slideshow": {
     "slide_type": "slide"
    }
   },
   "source": [
    "### filesystem info\n",
    "\n",
    "you may have picked up on this by now, but the linux world is a bit more focused on files and the filesystem. Mac and Windows OS's abstract away a bit of this complexity from users, but linux does not.\n",
    "\n",
    "There are some commonly occurring commands which deal directly with the file system that you should know about."
   ]
  },
  {
   "cell_type": "markdown",
   "metadata": {
    "slideshow": {
     "slide_type": "subslide"
    }
   },
   "source": [
    "##### `file`\n",
    "\n",
    "this command can be used to figure out roughly what *type* of file a given file is. Under the hood, it is performing hundreds of different checks (mostly regular expressions) to see if there are any common sequences of characters, and making a best guess -- so this is by no means the final story.\n",
    "\n",
    "```bash\n",
    "file ~/.bashrc\n",
    "```"
   ]
  },
  {
   "cell_type": "code",
   "execution_count": 122,
   "metadata": {},
   "outputs": [
    {
     "name": "stdout",
     "output_type": "stream",
     "text": [
      "/home/zlamberty/.bashrc: ASCII text\n"
     ]
    }
   ],
   "source": [
    "%%bash\n",
    "file ~/.bashrc"
   ]
  },
  {
   "cell_type": "markdown",
   "metadata": {
    "slideshow": {
     "slide_type": "subslide"
    }
   },
   "source": [
    "##### `df`\n",
    "\n",
    "the `df` command (for \"disk free\") lists the free (and used) space on all available mounted file systems (separate partitions, separated drives, system-use drives). my most common use case is just to see how much free space is available anywhere on the machine:\n",
    "\n",
    "```bash\n",
    "df -h\n",
    "```\n",
    "\n",
    "but sometimes you only care about the filesystem you are currently working in (usually `/`, but not always):\n",
    "\n",
    "```bash\n",
    "df -h .\n",
    "```"
   ]
  },
  {
   "cell_type": "code",
   "execution_count": 123,
   "metadata": {},
   "outputs": [
    {
     "name": "stdout",
     "output_type": "stream",
     "text": [
      "Filesystem      Size  Used Avail Use% Mounted on\n",
      "/dev/sda1        37G   22G   13G  63% /\n",
      "udev             10M     0   10M   0% /dev\n",
      "tmpfs           3.2G   18M  3.2G   1% /run\n",
      "tmpfs           7.9G  338M  7.5G   5% /dev/shm\n",
      "tmpfs           5.0M  4.0K  5.0M   1% /run/lock\n",
      "tmpfs           7.9G     0  7.9G   0% /sys/fs/cgroup\n",
      "/dev/sdb5       230G   60M  218G   1% /disk2\n",
      "/dev/sda6       184G   74G  101G  43% /home\n",
      "tmpfs           1.6G  4.0K  1.6G   1% /run/user/119\n",
      "tmpfs           1.6G   40K  1.6G   1% /run/user/1000\n"
     ]
    }
   ],
   "source": [
    "%%bash\n",
    "df -h"
   ]
  },
  {
   "cell_type": "markdown",
   "metadata": {
    "slideshow": {
     "slide_type": "subslide"
    }
   },
   "source": [
    "##### `du`\n",
    "\n",
    "the `du` command (short for \"Disk Usage\") lists out the total file size of every file under a provided directory. By default, it will list look at the current work directory.\n",
    "\n",
    "let's use this command as a means of exploring somethign we talked about above -- help flags.\n",
    "\n",
    "start by doing the simplest thing: execute `du` from your home directory.\n",
    "\n",
    "```bash\n",
    "du -ah ~\n",
    "```\n",
    "\n",
    "*note: the `a` and `h` flags are doing the same things here as they did for the `ls` command: including hidden files and printing file sizes with human readable units.*"
   ]
  },
  {
   "cell_type": "code",
   "execution_count": 126,
   "metadata": {
    "collapsed": true
   },
   "outputs": [],
   "source": [
    "%%bash\n",
    "#du -ah ~"
   ]
  },
  {
   "cell_type": "markdown",
   "metadata": {
    "slideshow": {
     "slide_type": "subslide"
    }
   },
   "source": [
    "this likely produced a small number of files and the sizes of each. note that it is ordered in a nested way such that every sub-directory is immediately followed by the directory it is in, and the last record is the top level (and has a size that is the sum of all it's children).\n",
    "\n",
    "let's try that same command on a much bigger directory and see what happens:\n",
    "\n",
    "```bash\n",
    "du -ah /etc\n",
    "```"
   ]
  },
  {
   "cell_type": "markdown",
   "metadata": {
    "slideshow": {
     "slide_type": "fragment"
    }
   },
   "source": [
    "what do you *think* will happen?"
   ]
  },
  {
   "cell_type": "code",
   "execution_count": 128,
   "metadata": {
    "slideshow": {
     "slide_type": "fragment"
    }
   },
   "outputs": [
    {
     "name": "stdout",
     "output_type": "stream",
     "text": [
      "4.0K\t/etc/chromium.d/README\n",
      "4.0K\t/etc/chromium.d/pepperflashplugin-nonfree\n",
      "4.0K\t/etc/chromium.d/apikeys\n",
      "16K\t/etc/chromium.d\n",
      "4.0K\t/etc/subgid\n",
      "4.0K\t/etc/grub.d/30_uefi-firmware\n",
      "4.0K\t/etc/grub.d/README\n",
      "12K\t/etc/grub.d/10_linux\n",
      "4.0K\t/etc/grub.d/40_custom\n",
      "8.0K\t/etc/grub.d/05_debian_theme\n",
      "12K\t/etc/grub.d/20_linux_xen\n",
      "4.0K\t/etc/grub.d/41_custom\n",
      "12K\t/etc/grub.d/00_header\n",
      "12K\t/etc/grub.d/30_os-prober\n",
      "76K\t/etc/grub.d\n",
      "4.0K\t/etc/ldap/ldap.conf\n",
      "8.0K\t/etc/ldap\n",
      "4.0K\t/etc/modprobe.d/fbdev-blacklist.conf\n",
      "4.0K\t/etc/modprobe.d/modesetting.conf\n",
      "4.0K\t/etc/modprobe.d/dkms.conf\n",
      "16K\t/etc/modprobe.d\n",
      "4.0K\t/etc/screenrc\n",
      "4.0K\t/etc/apm/event.d/anacron\n",
      "8.0K\t/etc/apm/event.d\n",
      "12K\t/etc/apm\n",
      "4.0K\t/etc/thunderbird/pref/thunderbird.js\n",
      "8.0K\t/etc/thunderbird/pref\n",
      "12K\t/etc/thunderbird\n",
      "4.0K\t/etc/mail.rc\n",
      "4.0K\t/etc/groff/mdoc.local\n",
      "4.0K\t/etc/groff/man.local\n",
      "12K\t/etc/groff\n",
      "4.0K\t/etc/binfmt.d\n",
      "4.0K\t/etc/tmpfiles.d\n",
      "4.0K\t/etc/at-spi2/accessibility.conf\n",
      "8.0K\t/etc/at-spi2\n",
      "4.0K\t/etc/debian_version\n",
      "4.0K\t/etc/conky/conky_no_x11.conf\n",
      "4.0K\t/etc/conky/conky.conf\n",
      "12K\t/etc/conky\n",
      "0\t/etc/rcS.d/S08kmod\n",
      "0\t/etc/rcS.d/S07checkfs.sh\n",
      "0\t/etc/rcS.d/S18console-setup\n",
      "0\t/etc/rcS.d/S19screen-cleanup\n",
      "0\t/etc/rcS.d/S19bootmisc.sh\n",
      "0\t/etc/rcS.d/S19lm-sensors\n",
      "0\t/etc/rcS.d/S13rpcbind\n",
      "0\t/etc/rcS.d/S01hostname.sh\n",
      "0\t/etc/rcS.d/S05hwclock.sh\n",
      "0\t/etc/rcS.d/S11pppd-dns\n",
      "0\t/etc/rcS.d/S15mountnfs.sh\n",
      "0\t/etc/rcS.d/S11procps\n",
      "4.0K\t/etc/rcS.d/README\n",
      "0\t/etc/rcS.d/S12networking\n",
      "0\t/etc/rcS.d/S02udev\n",
      "0\t/etc/rcS.d/S04mountdevsubfs.sh\n",
      "0\t/etc/rcS.d/S06checkroot.sh\n",
      "0\t/etc/rcS.d/S10mountall-bootclean.sh\n",
      "0\t/etc/rcS.d/S11rdnssd\n",
      "0\t/etc/rcS.d/S16mountnfs-bootclean.sh\n",
      "0\t/etc/rcS.d/S19plymouth-log\n",
      "0\t/etc/rcS.d/S17kbd\n",
      "0\t/etc/rcS.d/S03keyboard-setup\n",
      "0\t/etc/rcS.d/S09mountall.sh\n",
      "0\t/etc/rcS.d/S14nfs-common\n",
      "0\t/etc/rcS.d/S08checkroot-bootclean.sh\n",
      "0\t/etc/rcS.d/S19alsa-utils\n",
      "0\t/etc/rcS.d/S11urandom\n",
      "0\t/etc/rcS.d/S11udev-finish\n",
      "0\t/etc/rcS.d/S01mountkernfs.sh\n",
      "0\t/etc/rcS.d/S19x11-common\n",
      "8.0K\t/etc/rcS.d\n",
      "4.0K\t/etc/bash_completion\n",
      "4.0K\t/etc/subgid-\n",
      "12K\t/etc/nanorc\n",
      "12K\t/etc/dbus-1/system.d/org.freedesktop.ModemManager1.conf\n",
      "8.0K\t/etc/dbus-1/system.d/org.freedesktop.systemd1.conf\n",
      "4.0K\t/etc/dbus-1/system.d/org.freedesktop.hostname1.conf\n",
      "4.0K\t/etc/dbus-1/system.d/org.freedesktop.RealtimeKit1.conf\n",
      "4.0K\t/etc/dbus-1/system.d/org.opensuse.CupsPkHelper.Mechanism.conf\n",
      "4.0K\t/etc/dbus-1/system.d/org.freedesktop.ColorManager.conf\n",
      "4.0K\t/etc/dbus-1/system.d/org.freedesktop.UPower.conf\n",
      "4.0K\t/etc/dbus-1/system.d/nm-dispatcher.conf\n",
      "4.0K\t/etc/dbus-1/system.d/pulseaudio-system.conf\n",
      "4.0K\t/etc/dbus-1/system.d/Upstart.conf\n",
      "4.0K\t/etc/dbus-1/system.d/dnsmasq.conf\n",
      "4.0K\t/etc/dbus-1/system.d/org.freedesktop.DisplayManager.conf\n",
      "4.0K\t/etc/dbus-1/system.d/org.freedesktop.GeoClue2.Agent.conf\n",
      "4.0K\t/etc/dbus-1/system.d/org.freedesktop.realmd.conf\n",
      "4.0K\t/etc/dbus-1/system.d/org.freedesktop.timedate1.conf\n",
      "4.0K\t/etc/dbus-1/system.d/com.redhat.NewPrinterNotification.conf\n",
      "4.0K\t/etc/dbus-1/system.d/bluetooth.conf\n",
      "4.0K\t/etc/dbus-1/system.d/com.hp.hplip.conf\n",
      "4.0K\t/etc/dbus-1/system.d/org.freedesktop.PolicyKit1.conf\n",
      "12K\t/etc/dbus-1/system.d/org.freedesktop.login1.conf\n",
      "4.0K\t/etc/dbus-1/system.d/com.ubuntu.SoftwareProperties.conf\n",
      "4.0K\t/etc/dbus-1/system.d/org.cinnamon.SettingsDaemon.DateTimeMechanism.conf\n",
      "8.0K\t/etc/dbus-1/system.d/org.freedesktop.NetworkManager.conf\n",
      "4.0K\t/etc/dbus-1/system.d/com.redhat.PrinterDriversInstaller.conf\n",
      "4.0K\t/etc/dbus-1/system.d/Mountall.Server.conf\n",
      "4.0K\t/etc/dbus-1/system.d/nm-pptp-service.conf\n",
      "4.0K\t/etc/dbus-1/system.d/org.freedesktop.Accounts.conf\n",
      "4.0K\t/etc/dbus-1/system.d/wpa_supplicant.conf\n",
      "4.0K\t/etc/dbus-1/system.d/org.freedesktop.locale1.conf\n",
      "4.0K\t/etc/dbus-1/system.d/org.freedesktop.GeoClue2.conf\n",
      "4.0K\t/etc/dbus-1/system.d/org.freedesktop.PackageKit.conf\n",
      "4.0K\t/etc/dbus-1/system.d/org.freedesktop.UDisks2.conf\n",
      "4.0K\t/etc/dbus-1/system.d/org.freedesktop.machine1.conf\n",
      "4.0K\t/etc/dbus-1/system.d/nm-avahi-autoipd.conf\n",
      "4.0K\t/etc/dbus-1/system.d/avahi-dbus.conf\n",
      "168K\t/etc/dbus-1/system.d\n",
      "4.0K\t/etc/dbus-1/system.conf\n",
      "4.0K\t/etc/dbus-1/session.d\n",
      "4.0K\t/etc/dbus-1/session.conf\n",
      "184K\t/etc/dbus-1\n",
      "4.0K\t/etc/staff-group-for-usr-local\n",
      "4.0K\t/etc/ssh/ssh_host_dsa_key\n",
      "4.0K\t/etc/ssh/ssh_host_rsa_key\n",
      "4.0K\t/etc/ssh/sshd_config\n",
      "240K\t/etc/ssh/moduli\n",
      "4.0K\t/etc/ssh/ssh_host_dsa_key.pub\n",
      "4.0K\t/etc/ssh/ssh_config\n",
      "4.0K\t/etc/ssh/ssh_host_ecdsa_key\n",
      "4.0K\t/etc/ssh/ssh_host_ecdsa_key.pub\n",
      "4.0K\t/etc/ssh/ssh_host_rsa_key.pub\n",
      "4.0K\t/etc/ssh/ssh_host_ed25519_key\n",
      "4.0K\t/etc/ssh/ssh_host_ed25519_key.pub\n",
      "284K\t/etc/ssh\n",
      "4.0K\t/etc/adjtime\n",
      "4.0K\t/etc/bonobo-activation/bonobo-activation-config.xml\n",
      "8.0K\t/etc/bonobo-activation\n",
      "0\t/etc/rc5.d/S04avahi-daemon\n",
      "0\t/etc/rc5.d/S01mongodb\n",
      "0\t/etc/rc5.d/S01minissdpd\n",
      "0\t/etc/rc5.d/S01cgmanager\n",
      "0\t/etc/rc5.d/S05cups\n",
      "0\t/etc/rc5.d/S03fail2ban\n",
      "0\t/etc/rc5.d/S01uuidd\n",
      "0\t/etc/rc5.d/S06smbd\n",
      "0\t/etc/rc5.d/S01bootlogs\n",
      "0\t/etc/rc5.d/S04cron\n",
      "0\t/etc/rc5.d/S01rsyslog\n",
      "0\t/etc/rc5.d/S07rmnologin\n",
      "0\t/etc/rc5.d/S03mysql\n",
      "0\t/etc/rc5.d/S03ssh\n",
      "0\t/etc/rc5.d/S03rsync\n",
      "0\t/etc/rc5.d/S07rc.local\n",
      "0\t/etc/rc5.d/S01nginx\n",
      "0\t/etc/rc5.d/S03winbind\n",
      "0\t/etc/rc5.d/S03fglrx-atieventsd\n",
      "4.0K\t/etc/rc5.d/README\n",
      "0\t/etc/rc5.d/S05saned\n",
      "0\t/etc/rc5.d/S03postgresql\n",
      "0\t/etc/rc5.d/S03ntp\n",
      "0\t/etc/rc5.d/S03anacron\n",
      "0\t/etc/rc5.d/S03atd\n",
      "0\t/etc/rc5.d/S03gdomap\n",
      "0\t/etc/rc5.d/S03speech-dispatcher\n",
      "0\t/etc/rc5.d/S04bluetooth\n",
      "0\t/etc/rc5.d/S04exim4\n",
      "0\t/etc/rc5.d/S03neo4j\n",
      "0\t/etc/rc5.d/S02apache2\n",
      "0\t/etc/rc5.d/S04lightdm\n",
      "0\t/etc/rc5.d/S03dbus\n",
      "0\t/etc/rc5.d/S03cgproxy\n",
      "0\t/etc/rc5.d/S05cups-browsed\n",
      "0\t/etc/rc5.d/S01uwsgi\n",
      "0\t/etc/rc5.d/S01samba-ad-dc\n",
      "0\t/etc/rc5.d/S03acpid\n",
      "0\t/etc/rc5.d/S01nmbd\n",
      "0\t/etc/rc5.d/S04network-manager\n",
      "0\t/etc/rc5.d/S07plymouth\n",
      "0\t/etc/rc5.d/S01ctxusbd\n",
      "0\t/etc/rc5.d/S01motd\n",
      "0\t/etc/rc5.d/S03hddtemp\n",
      "8.0K\t/etc/rc5.d\n",
      "4.0K\t/etc/init/mountall-net.conf\n",
      "4.0K\t/etc/init/tty4.conf\n",
      "4.0K\t/etc/init/cgproxy.conf\n",
      "4.0K\t/etc/init/cgmanager.conf\n",
      "4.0K\t/etc/init/winbind.conf\n",
      "4.0K\t/etc/init/checkroot-bootclean.sh.conf\n",
      "4.0K\t/etc/init/mtab.sh.conf\n",
      "4.0K\t/etc/init/network-interface.conf\n",
      "4.0K\t/etc/init/coveyapp.conf\n",
      "4.0K\t/etc/init/mounted-debugfs.conf\n",
      "4.0K\t/etc/init/mounted-var.conf\n",
      "4.0K\t/etc/init/samba-ad-dc.conf\n",
      "4.0K\t/etc/init/upstart-socket-bridge.conf\n",
      "4.0K\t/etc/init/mountall-shell.conf\n",
      "4.0K\t/etc/init/mounted-run.conf\n",
      "4.0K\t/etc/init/dbus-reconnect.conf\n",
      "4.0K\t/etc/init/tty5.conf\n",
      "4.0K\t/etc/init/anacron.conf\n",
      "4.0K\t/etc/init/startpar-bridge.conf\n",
      "4.0K\t/etc/init/reload-smbd.conf\n",
      "4.0K\t/etc/init/rc-sysinit.conf\n",
      "4.0K\t/etc/init/tty6.conf\n",
      "4.0K\t/etc/init/wait-for-state.conf\n",
      "4.0K\t/etc/init/mountnfs-bootclean.sh.conf\n",
      "4.0K\t/etc/init/mountnfs.sh.conf\n",
      "4.0K\t/etc/init/network-interface-security.conf\n",
      "4.0K\t/etc/init/upstart-file-bridge.conf\n",
      "4.0K\t/etc/init/network-interface-container.conf\n",
      "4.0K\t/etc/init/rc.conf\n",
      "4.0K\t/etc/init/tty1.conf\n",
      "4.0K\t/etc/init/rpcbind.conf\n",
      "4.0K\t/etc/init/rpcbind-boot.conf\n",
      "4.0K\t/etc/init/console.conf\n",
      "4.0K\t/etc/init/mountall.sh.conf\n",
      "4.0K\t/etc/init/mountkernfs.sh.conf\n",
      "4.0K\t/etc/init/mongodb.conf\n",
      "4.0K\t/etc/init/udev-fallback-graphics.conf\n",
      "4.0K\t/etc/init/mountall-reboot.conf\n",
      "4.0K\t/etc/init/nmbd.conf\n",
      "4.0K\t/etc/init/upstart-udev-bridge.conf\n",
      "4.0K\t/etc/init/ssh.conf\n",
      "4.0K\t/etc/init/usb-modeswitch-upstart.conf\n",
      "4.0K\t/etc/init/flush-early-job-log.conf\n",
      "4.0K\t/etc/init/mountall-bootclean.sh.conf\n",
      "4.0K\t/etc/init/udev-finish.conf\n",
      "4.0K\t/etc/init/shutdown.conf\n",
      "4.0K\t/etc/init/bootmisc.sh.conf\n",
      "4.0K\t/etc/init/mountdevsubfs.sh.conf\n",
      "4.0K\t/etc/init/tty2.conf\n",
      "4.0K\t/etc/init/udev.conf\n",
      "4.0K\t/etc/init/networking.conf\n",
      "4.0K\t/etc/init/portmap-wait.conf\n",
      "4.0K\t/etc/init/control-alt-delete.conf\n",
      "4.0K\t/etc/init/rcS.conf\n",
      "4.0K\t/etc/init/checkfs.sh.conf\n",
      "4.0K\t/etc/init/udevtrigger.conf\n",
      "4.0K\t/etc/init/mounted-dev.conf\n",
      "4.0K\t/etc/init/checkroot.sh.conf\n",
      "4.0K\t/etc/init/container-detect.conf\n",
      "4.0K\t/etc/init/failsafe.conf\n",
      "4.0K\t/etc/init/smbd.conf\n",
      "4.0K\t/etc/init/mounted-tmp.conf\n",
      "4.0K\t/etc/init/mounted-proc.conf\n",
      "4.0K\t/etc/init/tty3.conf\n",
      "4.0K\t/etc/init/mountall.conf\n",
      "4.0K\t/etc/init/udevmonitor.conf\n",
      "268K\t/etc/init\n",
      "0\t/etc/rc4.d/S04avahi-daemon\n",
      "0\t/etc/rc4.d/S01mongodb\n",
      "0\t/etc/rc4.d/S01minissdpd\n",
      "0\t/etc/rc4.d/S01cgmanager\n",
      "0\t/etc/rc4.d/S05cups\n",
      "0\t/etc/rc4.d/S03fail2ban\n",
      "0\t/etc/rc4.d/S01uuidd\n",
      "0\t/etc/rc4.d/S06smbd\n",
      "0\t/etc/rc4.d/S01bootlogs\n",
      "0\t/etc/rc4.d/S04cron\n",
      "0\t/etc/rc4.d/S01rsyslog\n",
      "0\t/etc/rc4.d/S07rmnologin\n",
      "0\t/etc/rc4.d/S03mysql\n",
      "0\t/etc/rc4.d/S03ssh\n",
      "0\t/etc/rc4.d/S03rsync\n",
      "0\t/etc/rc4.d/S07rc.local\n",
      "0\t/etc/rc4.d/S01nginx\n",
      "0\t/etc/rc4.d/S03winbind\n",
      "0\t/etc/rc4.d/S03fglrx-atieventsd\n",
      "4.0K\t/etc/rc4.d/README\n",
      "0\t/etc/rc4.d/S05saned\n",
      "0\t/etc/rc4.d/S03postgresql\n",
      "0\t/etc/rc4.d/S03ntp\n",
      "0\t/etc/rc4.d/S03anacron\n",
      "0\t/etc/rc4.d/S03atd\n",
      "0\t/etc/rc4.d/S03gdomap\n",
      "0\t/etc/rc4.d/S03speech-dispatcher\n",
      "0\t/etc/rc4.d/S04bluetooth\n",
      "0\t/etc/rc4.d/S04exim4\n",
      "0\t/etc/rc4.d/S03neo4j\n",
      "0\t/etc/rc4.d/S02apache2\n",
      "0\t/etc/rc4.d/S04lightdm\n",
      "0\t/etc/rc4.d/S03dbus\n",
      "0\t/etc/rc4.d/S03cgproxy\n",
      "0\t/etc/rc4.d/S05cups-browsed\n",
      "0\t/etc/rc4.d/S01uwsgi\n",
      "0\t/etc/rc4.d/S01samba-ad-dc\n",
      "0\t/etc/rc4.d/S03acpid\n",
      "0\t/etc/rc4.d/S01nmbd\n",
      "0\t/etc/rc4.d/S04network-manager\n",
      "0\t/etc/rc4.d/S07plymouth\n",
      "0\t/etc/rc4.d/S01ctxusbd\n",
      "0\t/etc/rc4.d/S01motd\n",
      "0\t/etc/rc4.d/S03hddtemp\n",
      "8.0K\t/etc/rc4.d\n",
      "4.0K\t/etc/profile\n",
      "4.0K\t/etc/adduser.conf\n",
      "4.0K\t/etc/fuse.conf\n",
      "4.0K\t/etc/terminfo/README\n",
      "8.0K\t/etc/terminfo\n",
      "4.0K\t/etc/crontab\n",
      "4.0K\t/etc/securetty\n",
      "4.0K\t/etc/discover-modprobe.conf\n",
      "4.0K\t/etc/nsswitch.conf\n",
      "4.0K\t/etc/mke2fs.conf\n",
      "4.0K\t/etc/ufw/applications.d/openssh-server\n",
      "4.0K\t/etc/ufw/applications.d/nginx\n",
      "4.0K\t/etc/ufw/applications.d/cups\n",
      "16K\t/etc/ufw/applications.d\n",
      "20K\t/etc/ufw\n",
      "4.0K\t/etc/cron.d/anacron\n",
      "4.0K\t/etc/cron.d/php5\n",
      "4.0K\t/etc/cron.d/.placeholder\n",
      "16K\t/etc/cron.d\n",
      "4.0K\t/etc/logrotate.conf\n",
      "4.0K\t/etc/gtk-3.0/im-multipress.conf\n",
      "8.0K\t/etc/gtk-3.0\n",
      "4.0K\t/etc/protocols\n",
      "8.0K\t/etc/lightdm/lightdm.conf\n",
      "4.0K\t/etc/lightdm/keys.conf\n",
      "4.0K\t/etc/lightdm/lightdm-gtk-greeter.conf\n",
      "4.0K\t/etc/lightdm/users.conf\n",
      "24K\t/etc/lightdm\n",
      "4.0K\t/etc/uwsgi/apps-enabled/README\n",
      "8.0K\t/etc/uwsgi/apps-enabled\n",
      "4.0K\t/etc/uwsgi/apps-available/README\n",
      "8.0K\t/etc/uwsgi/apps-available\n",
      "20K\t/etc/uwsgi\n",
      "4.0K\t/etc/sane.d/stv680.conf\n",
      "4.0K\t/etc/sane.d/rts8891.conf\n",
      "4.0K\t/etc/sane.d/pie.conf\n",
      "4.0K\t/etc/sane.d/canon_pp.conf\n",
      "8.0K\t/etc/sane.d/gt68xx.conf\n",
      "4.0K\t/etc/sane.d/microtek.conf\n",
      "4.0K\t/etc/sane.d/ibm.conf\n",
      "4.0K\t/etc/sane.d/bh.conf\n",
      "4.0K\t/etc/sane.d/artec.conf\n",
      "4.0K\t/etc/sane.d/umax_pp.conf\n",
      "4.0K\t/etc/sane.d/teco3.conf\n",
      "4.0K\t/etc/sane.d/canon.conf\n",
      "4.0K\t/etc/sane.d/v4l.conf\n",
      "4.0K\t/etc/sane.d/umax1220u.conf\n",
      "4.0K\t/etc/sane.d/st400.conf\n",
      "4.0K\t/etc/sane.d/snapscan.conf\n",
      "4.0K\t/etc/sane.d/cardscan.conf\n",
      "4.0K\t/etc/sane.d/sp15c.conf\n",
      "4.0K\t/etc/sane.d/fujitsu.conf\n",
      "4.0K\t/etc/sane.d/xerox_mfp.conf\n",
      "4.0K\t/etc/sane.d/abaton.conf\n",
      "4.0K\t/etc/sane.d/hs2p.conf\n",
      "4.0K\t/etc/sane.d/dll.d/libsane-extras\n",
      "4.0K\t/etc/sane.d/dll.d/hplip\n",
      "12K\t/etc/sane.d/dll.d\n",
      "4.0K\t/etc/sane.d/ricoh.conf\n",
      "4.0K\t/etc/sane.d/agfafocus.conf\n",
      "4.0K\t/etc/sane.d/epson.conf\n",
      "4.0K\t/etc/sane.d/teco1.conf\n",
      "4.0K\t/etc/sane.d/hp4200.conf\n",
      "4.0K\t/etc/sane.d/tamarack.conf\n",
      "4.0K\t/etc/sane.d/magicolor.conf\n",
      "4.0K\t/etc/sane.d/apple.conf\n",
      "4.0K\t/etc/sane.d/plustek_pp.conf\n",
      "4.0K\t/etc/sane.d/canon_dr.conf\n",
      "4.0K\t/etc/sane.d/canon630u.conf\n",
      "4.0K\t/etc/sane.d/gphoto2.conf\n",
      "4.0K\t/etc/sane.d/dc210.conf\n",
      "4.0K\t/etc/sane.d/sceptre.conf\n",
      "4.0K\t/etc/sane.d/microtek2.conf\n",
      "4.0K\t/etc/sane.d/coolscan2.conf\n",
      "4.0K\t/etc/sane.d/teco2.conf\n",
      "4.0K\t/etc/sane.d/pixma.conf\n",
      "4.0K\t/etc/sane.d/dll.conf\n",
      "4.0K\t/etc/sane.d/dc240.conf\n",
      "4.0K\t/etc/sane.d/matsushita.conf\n",
      "8.0K\t/etc/sane.d/plustek.conf\n",
      "4.0K\t/etc/sane.d/umax.conf\n",
      "4.0K\t/etc/sane.d/s9036.conf\n",
      "4.0K\t/etc/sane.d/lexmark.conf\n",
      "4.0K\t/etc/sane.d/mustek.conf\n",
      "4.0K\t/etc/sane.d/qcam.conf\n",
      "4.0K\t/etc/sane.d/u12.conf\n",
      "4.0K\t/etc/sane.d/dc25.conf\n",
      "4.0K\t/etc/sane.d/hp3900.conf\n",
      "4.0K\t/etc/sane.d/sm3840.conf\n",
      "4.0K\t/etc/sane.d/p5.conf\n",
      "4.0K\t/etc/sane.d/sharp.conf\n",
      "4.0K\t/etc/sane.d/dmc.conf\n",
      "4.0K\t/etc/sane.d/hp5400.conf\n",
      "4.0K\t/etc/sane.d/hp.conf\n",
      "4.0K\t/etc/sane.d/genesys.conf\n",
      "4.0K\t/etc/sane.d/coolscan3.conf\n",
      "8.0K\t/etc/sane.d/artec_eplus48u.conf\n",
      "4.0K\t/etc/sane.d/dell1600n_net.conf\n",
      "4.0K\t/etc/sane.d/test.conf\n",
      "4.0K\t/etc/sane.d/hpsj5s.conf\n",
      "4.0K\t/etc/sane.d/coolscan.conf\n",
      "4.0K\t/etc/sane.d/nec.conf\n",
      "4.0K\t/etc/sane.d/geniusvp2.conf\n",
      "4.0K\t/etc/sane.d/saned.conf\n",
      "4.0K\t/etc/sane.d/net.conf\n",
      "4.0K\t/etc/sane.d/mustek_pp.conf\n",
      "4.0K\t/etc/sane.d/epson2.conf\n",
      "4.0K\t/etc/sane.d/leo.conf\n",
      "4.0K\t/etc/sane.d/ma1509.conf\n",
      "4.0K\t/etc/sane.d/kodak.conf\n",
      "4.0K\t/etc/sane.d/avision.conf\n",
      "4.0K\t/etc/sane.d/epjitsu.conf\n",
      "4.0K\t/etc/sane.d/kodakaio.conf\n",
      "4.0K\t/etc/sane.d/mustek_usb.conf\n",
      "348K\t/etc/sane.d\n",
      "8.0K\t/etc/analog.cfg\n",
      "4.0K\t/etc/perl/CPAN\n",
      "4.0K\t/etc/perl/XML/SAX/ParserDetails.ini\n",
      "8.0K\t/etc/perl/XML/SAX\n",
      "12K\t/etc/perl/XML\n",
      "4.0K\t/etc/perl/Net/libnet.cfg\n",
      "8.0K\t/etc/perl/Net\n",
      "4.0K\t/etc/perl/sitecustomize.pl\n",
      "32K\t/etc/perl\n",
      "4.0K\t/etc/at.deny\n",
      "4.0K\t/etc/insserv.conf.d/rpcbind\n",
      "8.0K\t/etc/insserv.conf.d\n",
      "4.0K\t/etc/discover.conf.d/00discover\n",
      "8.0K\t/etc/discover.conf.d\n",
      "8.0K\t/etc/pnm2ppa.conf\n",
      "4.0K\t/etc/group-\n",
      "4.0K\t/etc/reportbug.conf\n",
      "0\t/etc/.java/.systemPrefs/.system.lock\n",
      "0\t/etc/.java/.systemPrefs/.systemRootModFile\n",
      "4.0K\t/etc/.java/.systemPrefs\n",
      "8.0K\t/etc/.java\n",
      "4.0K\t/etc/usb_modeswitch.conf\n",
      "4.0K\t/etc/polkit-1/localauthority.conf.d/50-localauthority.conf\n",
      "4.0K\t/etc/polkit-1/localauthority.conf.d/51-debian-sudo.conf\n",
      "12K\t/etc/polkit-1/localauthority.conf.d\n",
      "4.0K\t/etc/polkit-1/localauthority\n",
      "4.0K\t/etc/polkit-1/nullbackend.conf.d/50-nullbackend.conf\n",
      "8.0K\t/etc/polkit-1/nullbackend.conf.d\n",
      "28K\t/etc/polkit-1\n",
      "4.0K\t/etc/plymouth/plymouthd.conf\n",
      "8.0K\t/etc/plymouth\n",
      "12K\t/etc/iscsi/iscsid.conf\n",
      "16K\t/etc/iscsi\n",
      "4.0K\t/etc/aliases\n",
      "4.0K\t/etc/networks\n",
      "4.0K\t/etc/insserv.conf\n",
      "8.0K\t/etc/cowpoke.conf\n",
      "4.0K\t/etc/bash_completion.d/thunderbird\n",
      "8.0K\t/etc/bash_completion.d/upstart\n",
      "12K\t/etc/bash_completion.d/grub\n",
      "4.0K\t/etc/bash_completion.d/whiptail\n",
      "8.0K\t/etc/bash_completion.d/fail2ban\n",
      "4.0K\t/etc/bash_completion.d/unar\n",
      "16K\t/etc/bash_completion.d/mercurial\n",
      "4.0K\t/etc/bash_completion.d/devscripts.chdist\n",
      "4.0K\t/etc/bash_completion.d/inkscape\n",
      "4.0K\t/etc/bash_completion.d/desktop-file-validate\n",
      "4.0K\t/etc/bash_completion.d/debmany\n",
      "4.0K\t/etc/bash_completion.d/pon\n",
      "4.0K\t/etc/bash_completion.d/dkms\n",
      "4.0K\t/etc/bash_completion.d/pygmentize\n",
      "16K\t/etc/bash_completion.d/pulseaudio-bash-completion.sh\n",
      "4.0K\t/etc/bash_completion.d/apache2\n",
      "4.0K\t/etc/bash_completion.d/devscripts.pkgnames\n",
      "4.0K\t/etc/bash_completion.d/debconf\n",
      "8.0K\t/etc/bash_completion.d/libreoffice.sh\n",
      "4.0K\t/etc/bash_completion.d/git-prompt\n",
      "4.0K\t/etc/bash_completion.d/debian-goodies.pkgnames\n",
      "4.0K\t/etc/bash_completion.d/dput\n",
      "4.0K\t/etc/bash_completion.d/initramfs-tools\n",
      "4.0K\t/etc/bash_completion.d/insserv\n",
      "144K\t/etc/bash_completion.d\n",
      "0\t/etc/alternatives/mailx.1.gz\n",
      "0\t/etc/alternatives/pinentry\n",
      "0\t/etc/alternatives/ROLLBACK.7.gz\n",
      "0\t/etc/alternatives/UPDATE.7.gz\n",
      "0\t/etc/alternatives/ebrowse\n",
      "4.0K\t/etc/alternatives/emacs-document.svg\n",
      "0\t/etc/alternatives/javadoc\n",
      "0\t/etc/alternatives/locate.1.gz\n",
      "4.0K\t/etc/alternatives/ALTER_TEXT_SEARCH_PARSER.7.gz\n",
      "0\t/etc/alternatives/rst2odt\n",
      "0\t/etc/alternatives/c89.1.gz\n",
      "0\t/etc/alternatives/jconsole\n",
      "0\t/etc/alternatives/jexec\n",
      "0\t/etc/alternatives/idlj.1.gz\n",
      "0\t/etc/alternatives/view.1.gz\n",
      "0\t/etc/alternatives/javah\n",
      "0\t/etc/alternatives/lzgrep\n",
      "0\t/etc/alternatives/tdbbackup\n",
      "0\t/etc/alternatives/jps.1.gz\n",
      "0\t/etc/alternatives/jexec-binfmt\n",
      "0\t/etc/alternatives/DROP_SERVER.7.gz\n",
      "0\t/etc/alternatives/faked.fr.1.gz\n",
      "0\t/etc/alternatives/jdb.1.gz\n",
      "0\t/etc/alternatives/aclocal\n",
      "4.0K\t/etc/alternatives/CREATE_FOREIGN_DATA_WRAPPER.7.gz\n",
      "0\t/etc/alternatives/DROP_INDEX.7.gz\n",
      "0\t/etc/alternatives/libblas.so.3\n",
      "0\t/etc/alternatives/idlj\n",
      "0\t/etc/alternatives/ALTER_FUNCTION.7.gz\n",
      "0\t/etc/alternatives/REINDEX.7.gz\n",
      "0\t/etc/alternatives/dropdb.1.gz\n",
      "0\t/etc/alternatives/ALTER_GROUP.7.gz\n",
      "0\t/etc/alternatives/Mail.1.gz\n",
      "0\t/etc/alternatives/ftp\n",
      "0\t/etc/alternatives/DELETE.7.gz\n",
      "0\t/etc/alternatives/CREATE_DOMAIN.7.gz\n",
      "0\t/etc/alternatives/lzdiff\n",
      "0\t/etc/alternatives/import\n",
      "0\t/etc/alternatives/emacs.1.gz\n",
      "0\t/etc/alternatives/compare.1.gz\n",
      "0\t/etc/alternatives/awk\n",
      "0\t/etc/alternatives/jps\n",
      "0\t/etc/alternatives/DROP_SEQUENCE.7.gz\n",
      "0\t/etc/alternatives/emacsclient\n",
      "4.0K\t/etc/alternatives/DROP_TEXT_SEARCH_TEMPLATE.7.gz\n",
      "0\t/etc/alternatives/CREATE_USER.7.gz\n",
      "0\t/etc/alternatives/lft\n",
      "0\t/etc/alternatives/traceroute6.1.gz\n",
      "0\t/etc/alternatives/CREATE_TYPE.7.gz\n",
      "0\t/etc/alternatives/DROP_COLLATION.7.gz\n",
      "0\t/etc/alternatives/lft.1.gz\n",
      "0\t/etc/alternatives/libGL.so-master\n",
      "0\t/etc/alternatives/postgres.1.gz\n",
      "0\t/etc/alternatives/jrunscript.1.gz\n",
      "0\t/etc/alternatives/php.1.gz\n",
      "0\t/etc/alternatives/WITH.7.gz\n",
      "0\t/etc/alternatives/DROP_FUNCTION.7.gz\n",
      "0\t/etc/alternatives/rvim\n",
      "0\t/etc/alternatives/policytool\n",
      "0\t/etc/alternatives/uwsgi\n",
      "0\t/etc/alternatives/mutt-doc-html\n",
      "0\t/etc/alternatives/x-session-manager.1.gz\n",
      "0\t/etc/alternatives/aptitude\n",
      "0\t/etc/alternatives/lzma\n",
      "0\t/etc/alternatives/x-terminal-emulator\n",
      "0\t/etc/alternatives/DROP_TRIGGER.7.gz\n",
      "0\t/etc/alternatives/ex.1.gz\n",
      "0\t/etc/alternatives/vi\n",
      "0\t/etc/alternatives/ABORT.7.gz\n",
      "0\t/etc/alternatives/DROP_RULE.7.gz\n",
      "0\t/etc/alternatives/ALTER_COLLATION.7.gz\n",
      "4.0K\t/etc/alternatives/DROP_TEXT_SEARCH_PARSER.7.gz\n",
      "0\t/etc/alternatives/appletviewer\n",
      "0\t/etc/alternatives/mutt\n",
      "0\t/etc/alternatives/glx--libGL.so.1-x86_64-linux-gnu\n",
      "0\t/etc/alternatives/CREATE_AGGREGATE.7.gz\n",
      "0\t/etc/alternatives/conjure.1.gz\n",
      "0\t/etc/alternatives/x-terminal-emulator.1.gz\n",
      "0\t/etc/alternatives/SET.7.gz\n",
      "0\t/etc/alternatives/ALTER_LARGE_OBJECT.7.gz\n",
      "0\t/etc/alternatives/x-www-browser\n",
      "0\t/etc/alternatives/vi.ru.1.gz\n",
      "4.0K\t/etc/alternatives/ALTER_TEXT_SEARCH_DICTIONARY.7.gz\n",
      "0\t/etc/alternatives/SECURITY_LABEL.7.gz\n",
      "0\t/etc/alternatives/gnome-www-browser\n",
      "0\t/etc/alternatives/CREATE_SEQUENCE.7.gz\n",
      "0\t/etc/alternatives/faked.1.gz\n",
      "0\t/etc/alternatives/CREATE_LANGUAGE.7.gz\n",
      "0\t/etc/alternatives/clusterdb.1.gz\n",
      "0\t/etc/alternatives/COMMIT_PREPARED.7.gz\n",
      "0\t/etc/alternatives/ALTER_SEQUENCE.7.gz\n",
      "0\t/etc/alternatives/ALTER_ROLE.7.gz\n",
      "4.0K\t/etc/alternatives/CREATE_OPERATOR_FAMILY.7.gz\n",
      "0\t/etc/alternatives/DROP_EVENT_TRIGGER.7.gz\n",
      "0\t/etc/alternatives/www-browser.1.gz\n",
      "0\t/etc/alternatives/pack200.1.gz\n",
      "0\t/etc/alternatives/f77\n",
      "0\t/etc/alternatives/start-here-16.png\n",
      "0\t/etc/alternatives/updatedb\n",
      "0\t/etc/alternatives/jconsole.1.gz\n",
      "0\t/etc/alternatives/nc.1.gz\n",
      "0\t/etc/alternatives/DROP_OPERATOR_CLASS.7.gz\n",
      "0\t/etc/alternatives/rename\n",
      "0\t/etc/alternatives/c99.1.gz\n",
      "0\t/etc/alternatives/stream\n",
      "0\t/etc/alternatives/google-chrome\n",
      "0\t/etc/alternatives/unlzma.1.gz\n",
      "0\t/etc/alternatives/DROP_GROUP.7.gz\n",
      "0\t/etc/alternatives/etags.1.gz\n",
      "0\t/etc/alternatives/rcp.1.gz\n",
      "0\t/etc/alternatives/jstat\n",
      "0\t/etc/alternatives/rst2xetex\n",
      "0\t/etc/alternatives/CREATE_TABLESPACE.7.gz\n",
      "0\t/etc/alternatives/ALTER_EVENT_TRIGGER.7.gz\n",
      "0\t/etc/alternatives/dropuser.1.gz\n",
      "0\t/etc/alternatives/DECLARE.7.gz\n",
      "0\t/etc/alternatives/view.it.1.gz\n",
      "0\t/etc/alternatives/vi.fr.1.gz\n",
      "0\t/etc/alternatives/pg_restore.1.gz\n",
      "4.0K\t/etc/alternatives/unpack200.1.gz\n",
      "0\t/etc/alternatives/faked.sv.1.gz\n",
      "0\t/etc/alternatives/uwsgi.1.gz\n",
      "0\t/etc/alternatives/lzdiff.1.gz\n",
      "0\t/etc/alternatives/DROP_LANGUAGE.7.gz\n",
      "0\t/etc/alternatives/rename.1.gz\n",
      "0\t/etc/alternatives/lzless.1.gz\n",
      "0\t/etc/alternatives/www-browser\n",
      "0\t/etc/alternatives/traceproto.1.gz\n",
      "0\t/etc/alternatives/vi.pl.1.gz\n",
      "0\t/etc/alternatives/traceroute6\n",
      "0\t/etc/alternatives/grep-changelog.1.gz\n",
      "0\t/etc/alternatives/identify\n",
      "0\t/etc/alternatives/automake.1.gz\n",
      "0\t/etc/alternatives/infobrowser.1.gz\n",
      "0\t/etc/alternatives/droplang.1.gz\n",
      "0\t/etc/alternatives/locate\n",
      "0\t/etc/alternatives/wsgen\n",
      "0\t/etc/alternatives/libblas.so.3gf\n",
      "0\t/etc/alternatives/stream.1.gz\n",
      "4.0K\t/etc/alternatives/CREATE_MATERIALIZED_VIEW.7.gz\n",
      "0\t/etc/alternatives/lzcmp.1.gz\n",
      "4.0K\t/etc/alternatives/CREATE_TEXT_SEARCH_PARSER.7.gz\n",
      "0\t/etc/alternatives/javap.1.gz\n",
      "0\t/etc/alternatives/view\n",
      "0\t/etc/alternatives/LOCK.7.gz\n",
      "0\t/etc/alternatives/telnet.1.gz\n",
      "0\t/etc/alternatives/liblapack.a\n",
      "0\t/etc/alternatives/builtins.7.gz\n",
      "0\t/etc/alternatives/pager\n",
      "0\t/etc/alternatives/wsgen.1.gz\n",
      "0\t/etc/alternatives/DROP_DOMAIN.7.gz\n",
      "0\t/etc/alternatives/serialver\n",
      "0\t/etc/alternatives/PREPARE.7.gz\n",
      "0\t/etc/alternatives/DO.7.gz\n",
      "0\t/etc/alternatives/MOVE.7.gz\n",
      "0\t/etc/alternatives/lzcat\n",
      "0\t/etc/alternatives/DROP_ROLE.7.gz\n",
      "0\t/etc/alternatives/CREATE_TABLE.7.gz\n",
      "4.0K\t/etc/alternatives/ALTER_OPERATOR_CLASS.7.gz\n",
      "0\t/etc/alternatives/tcptraceroute\n",
      "0\t/etc/alternatives/CREATE_CAST.7.gz\n",
      "0\t/etc/alternatives/start-here-256.png\n",
      "0\t/etc/alternatives/pg_upgrade.1.gz\n",
      "0\t/etc/alternatives/start-here-24.png\n",
      "0\t/etc/alternatives/jar\n",
      "0\t/etc/alternatives/emacs\n",
      "0\t/etc/alternatives/nawk\n",
      "0\t/etc/alternatives/emacs-48x48.png\n",
      "0\t/etc/alternatives/php\n",
      "0\t/etc/alternatives/NOTIFY.7.gz\n",
      "0\t/etc/alternatives/liblapack.so\n",
      "0\t/etc/alternatives/jjs.1.gz\n",
      "0\t/etc/alternatives/compare\n",
      "0\t/etc/alternatives/rmt.8.gz\n",
      "0\t/etc/alternatives/SET_TRANSACTION.7.gz\n",
      "0\t/etc/alternatives/fakeroot.es.1.gz\n",
      "0\t/etc/alternatives/fakeroot.sv.1.gz\n",
      "0\t/etc/alternatives/jstatd.1.gz\n",
      "0\t/etc/alternatives/DROP_TYPE.7.gz\n",
      "4.0K\t/etc/alternatives/native2ascii.1.gz\n",
      "0\t/etc/alternatives/SELECT_INTO.7.gz\n",
      "0\t/etc/alternatives/ALTER_VIEW.7.gz\n",
      "0\t/etc/alternatives/jmap\n",
      "4.0K\t/etc/alternatives/SET_SESSION_AUTHORIZATION.7.gz\n",
      "0\t/etc/alternatives/phar.1.gz\n",
      "0\t/etc/alternatives/DROP_EXTENSION.7.gz\n",
      "0\t/etc/alternatives/aptitude.cs.8.gz\n",
      "0\t/etc/alternatives/rcp\n",
      "4.0K\t/etc/alternatives/README\n",
      "0\t/etc/alternatives/CREATE_EXTENSION.7.gz\n",
      "0\t/etc/alternatives/vim\n",
      "0\t/etc/alternatives/mailx\n",
      "0\t/etc/alternatives/pg_resetxlog.1.gz\n",
      "0\t/etc/alternatives/DEALLOCATE.7.gz\n",
      "4.0K\t/etc/alternatives/ALTER_MATERIALIZED_VIEW.7.gz\n",
      "0\t/etc/alternatives/CLOSE.7.gz\n",
      "0\t/etc/alternatives/lapack.pc\n",
      "0\t/etc/alternatives/w.1.gz\n",
      "4.0K\t/etc/alternatives/ALTER_OPERATOR_FAMILY.7.gz\n",
      "0\t/etc/alternatives/ALTER_USER.7.gz\n",
      "0\t/etc/alternatives/lzgrep.1.gz\n",
      "0\t/etc/alternatives/wx.pth\n",
      "0\t/etc/alternatives/ex.ja.1.gz\n",
      "0\t/etc/alternatives/traceproto\n",
      "0\t/etc/alternatives/lzma.1.gz\n",
      "0\t/etc/alternatives/rsh\n",
      "0\t/etc/alternatives/libtxc-dxtn-i386-linux-gnu\n",
      "4.0K\t/etc/alternatives/flash-mozilla.so\n",
      "0\t/etc/alternatives/w\n",
      "0\t/etc/alternatives/liblapack.so.3gf\n",
      "0\t/etc/alternatives/jmap.1.gz\n",
      "0\t/etc/alternatives/mt.1.gz\n",
      "0\t/etc/alternatives/mail.1.gz\n",
      "4.0K\t/etc/alternatives/ROLLBACK_TO_SAVEPOINT.7.gz\n",
      "0\t/etc/alternatives/INSERT.7.gz\n",
      "0\t/etc/alternatives/rlogin.1.gz\n",
      "0\t/etc/alternatives/rmiregistry\n",
      "4.0K\t/etc/alternatives/DROP_MATERIALIZED_VIEW.7.gz\n",
      "0\t/etc/alternatives/ALTER_CONVERSION.7.gz\n",
      "0\t/etc/alternatives/ALTER_DOMAIN.7.gz\n",
      "0\t/etc/alternatives/netcat\n",
      "0\t/etc/alternatives/glx--libEGL.so.1-x86_64-linux-gnu\n",
      "0\t/etc/alternatives/ALTER_SYSTEM.7.gz\n",
      "0\t/etc/alternatives/LOAD.7.gz\n",
      "0\t/etc/alternatives/EXECUTE.7.gz\n",
      "0\t/etc/alternatives/ex.pl.1.gz\n",
      "0\t/etc/alternatives/convert.1.gz\n",
      "0\t/etc/alternatives/emacs-128x128.png\n",
      "0\t/etc/alternatives/CREATE_COLLATION.7.gz\n",
      "0\t/etc/alternatives/x-session-manager\n",
      "0\t/etc/alternatives/ALTER_DATABASE.7.gz\n",
      "0\t/etc/alternatives/fakeroot\n",
      "0\t/etc/alternatives/nawk.1.gz\n",
      "0\t/etc/alternatives/CLUSTER.7.gz\n",
      "0\t/etc/alternatives/emacs-32x32.png\n",
      "0\t/etc/alternatives/uwsgi_python\n",
      "0\t/etc/alternatives/aptitude.es.8.gz\n",
      "0\t/etc/alternatives/tcptraceroute.8.gz\n",
      "0\t/etc/alternatives/CREATE_VIEW.7.gz\n",
      "0\t/etc/alternatives/DROP_VIEW.7.gz\n",
      "0\t/etc/alternatives/SELECT.7.gz\n",
      "0\t/etc/alternatives/ctags.1.gz\n",
      "0\t/etc/alternatives/orbd.1.gz\n",
      "0\t/etc/alternatives/aptitude.8.gz\n",
      "0\t/etc/alternatives/aclocal.1.gz\n",
      "0\t/etc/alternatives/uwsgi_python3\n",
      "0\t/etc/alternatives/muttrc.5.gz\n",
      "0\t/etc/alternatives/aptitude.pl.8.gz\n",
      "0\t/etc/alternatives/convert\n",
      "4.0K\t/etc/alternatives/CREATE_TEXT_SEARCH_DICTIONARY.7.gz\n",
      "0\t/etc/alternatives/REVOKE.7.gz\n",
      "0\t/etc/alternatives/c99\n",
      "0\t/etc/alternatives/ftp.1.gz\n",
      "0\t/etc/alternatives/aptitude.de.8.gz\n",
      "0\t/etc/alternatives/view.ja.1.gz\n",
      "0\t/etc/alternatives/view.ru.1.gz\n",
      "0\t/etc/alternatives/ALTER_FOREIGN_TABLE.7.gz\n",
      "0\t/etc/alternatives/DROP_CONVERSION.7.gz\n",
      "0\t/etc/alternatives/rst2html\n",
      "0\t/etc/alternatives/CREATE_INDEX.7.gz\n",
      "0\t/etc/alternatives/VACUUM.7.gz\n",
      "0\t/etc/alternatives/REASSIGN_OWNED.7.gz\n",
      "0\t/etc/alternatives/x-cursor-theme\n",
      "0\t/etc/alternatives/jinfo\n",
      "0\t/etc/alternatives/uwsgi_python3.1.gz\n",
      "0\t/etc/alternatives/desktop-splash\n",
      "0\t/etc/alternatives/glx\n",
      "0\t/etc/alternatives/write.1.gz\n",
      "0\t/etc/alternatives/DROP_CAST.7.gz\n",
      "0\t/etc/alternatives/ALTER_INDEX.7.gz\n",
      "0\t/etc/alternatives/extcheck\n",
      "0\t/etc/alternatives/cc\n",
      "0\t/etc/alternatives/START_TRANSACTION.7.gz\n",
      "4.0K\t/etc/alternatives/DROP_OPERATOR_FAMILY.7.gz\n",
      "0\t/etc/alternatives/CHECKPOINT.7.gz\n",
      "0\t/etc/alternatives/CREATE_OPERATOR.7.gz\n",
      "0\t/etc/alternatives/infobrowser\n",
      "0\t/etc/alternatives/rmt\n",
      "0\t/etc/alternatives/wsimport.1.gz\n",
      "0\t/etc/alternatives/createuser.1.gz\n",
      "0\t/etc/alternatives/jstack.1.gz\n",
      "0\t/etc/alternatives/nc\n",
      "0\t/etc/alternatives/display.1.gz\n",
      "0\t/etc/alternatives/jhat\n",
      "0\t/etc/alternatives/javac\n",
      "0\t/etc/alternatives/ALTER_SERVER.7.gz\n",
      "0\t/etc/alternatives/CREATE_SERVER.7.gz\n",
      "0\t/etc/alternatives/rst-buildhtml\n",
      "0\t/etc/alternatives/c++\n",
      "0\t/etc/alternatives/vi.ja.1.gz\n",
      "0\t/etc/alternatives/traceroute.1.gz\n",
      "0\t/etc/alternatives/fakeroot.fr.1.gz\n",
      "0\t/etc/alternatives/rmid\n",
      "0\t/etc/alternatives/RELEASE_SAVEPOINT.7.gz\n",
      "0\t/etc/alternatives/fakeroot.1.gz\n",
      "0\t/etc/alternatives/write\n",
      "0\t/etc/alternatives/createdb.1.gz\n",
      "0\t/etc/alternatives/ANALYZE.7.gz\n",
      "0\t/etc/alternatives/vi.1.gz\n",
      "0\t/etc/alternatives/blas.pc\n",
      "0\t/etc/alternatives/unpack200\n",
      "4.0K\t/etc/alternatives/policytool.1.gz\n",
      "0\t/etc/alternatives/aptitude.it.8.gz\n",
      "0\t/etc/alternatives/lzmore\n",
      "0\t/etc/alternatives/start-here.svg\n",
      "0\t/etc/alternatives/vi.it.1.gz\n",
      "0\t/etc/alternatives/keytool.1.gz\n",
      "0\t/etc/alternatives/ALTER_OPERATOR.7.gz\n",
      "0\t/etc/alternatives/start-here-48.png\n",
      "4.0K\t/etc/alternatives/DROP_FOREIGN_DATA_WRAPPER.7.gz\n",
      "4.0K\t/etc/alternatives/rmiregistry.1.gz\n",
      "0\t/etc/alternatives/animate.1.gz\n",
      "0\t/etc/alternatives/ALTER_TABLE.7.gz\n",
      "0\t/etc/alternatives/libtxc-dxtn-x86_64-linux-gnu\n",
      "0\t/etc/alternatives/liblapack.so.3\n",
      "0\t/etc/alternatives/vacuumdb.1.gz\n",
      "0\t/etc/alternatives/x-window-manager\n",
      "0\t/etc/alternatives/conjure\n",
      "0\t/etc/alternatives/jrunscript\n",
      "0\t/etc/alternatives/COPY.7.gz\n",
      "0\t/etc/alternatives/tdbbackup.8.gz\n",
      "0\t/etc/alternatives/wsimport\n",
      "0\t/etc/alternatives/rmic.1.gz\n",
      "0\t/etc/alternatives/native2ascii\n",
      "0\t/etc/alternatives/start-here-22.png\n",
      "0\t/etc/alternatives/traceroute\n",
      "0\t/etc/alternatives/SHOW.7.gz\n",
      "0\t/etc/alternatives/ALTER_EXTENSION.7.gz\n",
      "0\t/etc/alternatives/display\n",
      "0\t/etc/alternatives/emacs-16x16.png\n",
      "0\t/etc/alternatives/jsadebugd.1.gz\n",
      "0\t/etc/alternatives/editor.1.gz\n",
      "0\t/etc/alternatives/DROP_USER_MAPPING.7.gz\n",
      "4.0K\t/etc/alternatives/CREATE_FOREIGN_TABLE.7.gz\n",
      "0\t/etc/alternatives/montage\n",
      "0\t/etc/alternatives/jdeps.1.gz\n",
      "0\t/etc/alternatives/keytool\n",
      "0\t/etc/alternatives/psql.1.gz\n",
      "0\t/etc/alternatives/pg_xlogdump.1.gz\n",
      "0\t/etc/alternatives/pinentry-x11\n",
      "0\t/etc/alternatives/orbd\n",
      "0\t/etc/alternatives/DROP_TABLE.7.gz\n",
      "0\t/etc/alternatives/DROP_USER.7.gz\n",
      "0\t/etc/alternatives/jstatd\n",
      "0\t/etc/alternatives/pico\n",
      "0\t/etc/alternatives/f95\n",
      "0\t/etc/alternatives/faked.es.1.gz\n",
      "0\t/etc/alternatives/aptitude.gl.8.gz\n",
      "0\t/etc/alternatives/grep-changelog\n",
      "0\t/etc/alternatives/xjc\n",
      "0\t/etc/alternatives/rst2man\n",
      "0\t/etc/alternatives/automake\n",
      "0\t/etc/alternatives/mutt.1.gz\n",
      "0\t/etc/alternatives/DROP_OWNED.7.gz\n",
      "0\t/etc/alternatives/pg_recvlogical.1.gz\n",
      "0\t/etc/alternatives/js.1.gz\n",
      "0\t/etc/alternatives/schemagen.1.gz\n",
      "0\t/etc/alternatives/tnameserv\n",
      "0\t/etc/alternatives/rst2xml\n",
      "0\t/etc/alternatives/uwsgi-plugin-python3\n",
      "0\t/etc/alternatives/view.pl.1.gz\n",
      "4.0K\t/etc/alternatives/DROP_TEXT_SEARCH_DICTIONARY.7.gz\n",
      "0\t/etc/alternatives/DROP_SCHEMA.7.gz\n",
      "0\t/etc/alternatives/pg_controldata.1.gz\n",
      "0\t/etc/alternatives/jarsigner.1.gz\n",
      "0\t/etc/alternatives/cpp\n",
      "0\t/etc/alternatives/ex.it.1.gz\n",
      "0\t/etc/alternatives/CREATE_FUNCTION.7.gz\n",
      "0\t/etc/alternatives/GRANT.7.gz\n",
      "0\t/etc/alternatives/mt\n",
      "0\t/etc/alternatives/ebrowse.1.gz\n",
      "0\t/etc/alternatives/RESET.7.gz\n",
      "0\t/etc/alternatives/jstack\n",
      "0\t/etc/alternatives/traceroute.sbin\n",
      "4.0K\t/etc/alternatives/CREATE_TEXT_SEARCH_TEMPLATE.7.gz\n",
      "0\t/etc/alternatives/desktop-background.xml\n",
      "0\t/etc/alternatives/SAVEPOINT.7.gz\n",
      "0\t/etc/alternatives/ex.ru.1.gz\n",
      "0\t/etc/alternatives/pinentry.1.gz\n",
      "0\t/etc/alternatives/etags\n",
      "0\t/etc/alternatives/animate\n",
      "4.0K\t/etc/alternatives/appletviewer.1.gz\n",
      "0\t/etc/alternatives/editor\n",
      "0\t/etc/alternatives/lzegrep.1.gz\n",
      "0\t/etc/alternatives/aptitude.fr.8.gz\n",
      "0\t/etc/alternatives/schemagen\n",
      "0\t/etc/alternatives/glx--libGL.so.1-i386-linux-gnu\n",
      "0\t/etc/alternatives/pg_receivexlog.1.gz\n",
      "0\t/etc/alternatives/javadoc.1.gz\n",
      "0\t/etc/alternatives/ALTER_USER_MAPPING.7.gz\n",
      "0\t/etc/alternatives/montage.1.gz\n",
      "0\t/etc/alternatives/c89\n",
      "0\t/etc/alternatives/FETCH.7.gz\n",
      "0\t/etc/alternatives/CREATE_DATABASE.7.gz\n",
      "0\t/etc/alternatives/postmaster.1.gz\n",
      "0\t/etc/alternatives/servertool\n",
      "0\t/etc/alternatives/from.1.gz\n",
      "0\t/etc/alternatives/javac.1.gz\n",
      "0\t/etc/alternatives/jdb\n",
      "0\t/etc/alternatives/SET_ROLE.7.gz\n",
      "0\t/etc/alternatives/jdeps\n",
      "0\t/etc/alternatives/LISTEN.7.gz\n",
      "0\t/etc/alternatives/composite\n",
      "0\t/etc/alternatives/mogrify.1.gz\n",
      "0\t/etc/alternatives/pager.1.gz\n",
      "4.0K\t/etc/alternatives/desktop-background\n",
      "0\t/etc/alternatives/pico.1.gz\n",
      "0\t/etc/alternatives/vimdiff\n",
      "0\t/etc/alternatives/composite.1.gz\n",
      "0\t/etc/alternatives/initdb.1.gz\n",
      "4.0K\t/etc/alternatives/ALTER_TEXT_SEARCH_TEMPLATE.7.gz\n",
      "0\t/etc/alternatives/identify.1.gz\n",
      "0\t/etc/alternatives/glx--libGL.so-x86_64-linux-gnu\n",
      "0\t/etc/alternatives/COMMENT.7.gz\n",
      "0\t/etc/alternatives/emacsclient.1.gz\n",
      "0\t/etc/alternatives/aptitude.ja.8.gz\n",
      "0\t/etc/alternatives/ALTER_LANGUAGE.7.gz\n",
      "0\t/etc/alternatives/awk.1.gz\n",
      "0\t/etc/alternatives/js\n",
      "0\t/etc/alternatives/rsh.1.gz\n",
      "0\t/etc/alternatives/libblas.a\n",
      "0\t/etc/alternatives/desktop-grub\n",
      "0\t/etc/alternatives/glx--libGLESv2.so.2-x86_64-linux-gnu\n",
      "4.0K\t/etc/alternatives/DROP_TEXT_SEARCH_CONFIGURATION.7.gz\n",
      "0\t/etc/alternatives/CREATE_ROLE.7.gz\n",
      "0\t/etc/alternatives/CREATE_RULE.7.gz\n",
      "0\t/etc/alternatives/emacs-24x24.png\n",
      "0\t/etc/alternatives/rlogin\n",
      "0\t/etc/alternatives/SET_CONSTRAINTS.7.gz\n",
      "0\t/etc/alternatives/ALTER_AGGREGATE.7.gz\n",
      "0\t/etc/alternatives/jsadebugd\n",
      "0\t/etc/alternatives/lzegrep\n",
      "0\t/etc/alternatives/DISCARD.7.gz\n",
      "0\t/etc/alternatives/telnet\n",
      "0\t/etc/alternatives/reindexdb.1.gz\n",
      "4.0K\t/etc/alternatives/ALTER_TEXT_SEARCH_CONFIGURATION.7.gz\n",
      "4.0K\t/etc/alternatives/ALTER_FOREIGN_DATA_WRAPPER.7.gz\n",
      "0\t/etc/alternatives/javah.1.gz\n",
      "0\t/etc/alternatives/ALTER_RULE.7.gz\n",
      "0\t/etc/alternatives/pg_dump.1.gz\n",
      "0\t/etc/alternatives/ex.fr.1.gz\n",
      "0\t/etc/alternatives/rmid.1.gz\n",
      "0\t/etc/alternatives/ex\n",
      "0\t/etc/alternatives/COMMIT.7.gz\n",
      "0\t/etc/alternatives/view.fr.1.gz\n",
      "0\t/etc/alternatives/CREATE_TABLE_AS.7.gz\n",
      "0\t/etc/alternatives/DROP_AGGREGATE.7.gz\n",
      "0\t/etc/alternatives/rst2latex\n",
      "0\t/etc/alternatives/pinentry-x11.1.gz\n",
      "0\t/etc/alternatives/pg_isready.1.gz\n",
      "0\t/etc/alternatives/lzless\n",
      "0\t/etc/alternatives/rst2odt_prepstyles\n",
      "4.0K\t/etc/alternatives/ALTER_DEFAULT_PRIVILEGES.7.gz\n",
      "0\t/etc/alternatives/Mail\n",
      "0\t/etc/alternatives/mogrify\n",
      "0\t/etc/alternatives/VALUES.7.gz\n",
      "0\t/etc/alternatives/jhat.1.gz\n",
      "0\t/etc/alternatives/TRUNCATE.7.gz\n",
      "0\t/etc/alternatives/phar\n",
      "0\t/etc/alternatives/CREATE_CONVERSION.7.gz\n",
      "0\t/etc/alternatives/TABLE.7.gz\n",
      "4.0K\t/etc/alternatives/CREATE_OPERATOR_CLASS.7.gz\n",
      "0\t/etc/alternatives/EXPLAIN.7.gz\n",
      "0\t/etc/alternatives/DROP_TABLESPACE.7.gz\n",
      "0\t/etc/alternatives/pg_dumpall.1.gz\n",
      "0\t/etc/alternatives/jar.1.gz\n",
      "0\t/etc/alternatives/lzcat.1.gz\n",
      "0\t/etc/alternatives/glx--libGLESv1_CM.so.1-x86_64-linux-gnu\n",
      "0\t/etc/alternatives/lzfgrep.1.gz\n",
      "0\t/etc/alternatives/ROLLBACK_PREPARED.7.gz\n",
      "0\t/etc/alternatives/uwsgi_python.1.gz\n",
      "0\t/etc/alternatives/start-here-32.png\n",
      "0\t/etc/alternatives/uwsgi-plugin-python\n",
      "4.0K\t/etc/alternatives/CREATE_EVENT_TRIGGER.7.gz\n",
      "0\t/etc/alternatives/DROP_DATABASE.7.gz\n",
      "0\t/etc/alternatives/BEGIN.7.gz\n",
      "0\t/etc/alternatives/lightdm-greeter\n",
      "0\t/etc/alternatives/jstat.1.gz\n",
      "4.0K\t/etc/alternatives/tnameserv.1.gz\n",
      "0\t/etc/alternatives/libblas.so\n",
      "0\t/etc/alternatives/CREATE_USER_MAPPING.7.gz\n",
      "0\t/etc/alternatives/aptitude.fi.8.gz\n",
      "0\t/etc/alternatives/UNLISTEN.7.gz\n",
      "0\t/etc/alternatives/DROP_FOREIGN_TABLE.7.gz\n",
      "0\t/etc/alternatives/ALTER_TRIGGER.7.gz\n",
      "0\t/etc/alternatives/ALTER_SCHEMA.7.gz\n",
      "0\t/etc/alternatives/rst2s5\n",
      "0\t/etc/alternatives/extcheck.1.gz\n",
      "4.0K\t/etc/alternatives/servertool.1.gz\n",
      "0\t/etc/alternatives/DROP_OPERATOR.7.gz\n",
      "0\t/etc/alternatives/jcmd\n",
      "0\t/etc/alternatives/CREATE_SCHEMA.7.gz\n",
      "0\t/etc/alternatives/emacs.svg\n",
      "0\t/etc/alternatives/rmic\n",
      "0\t/etc/alternatives/PREPARE_TRANSACTION.7.gz\n",
      "0\t/etc/alternatives/END.7.gz\n",
      "0\t/etc/alternatives/mutt-doc-manual\n",
      "0\t/etc/alternatives/CREATE_GROUP.7.gz\n",
      "0\t/etc/alternatives/netcat.1.gz\n",
      "0\t/etc/alternatives/rstpep2html\n",
      "0\t/etc/alternatives/rst2pseudoxml\n",
      "0\t/etc/alternatives/xjc.1.gz\n",
      "4.0K\t/etc/alternatives/CREATE_TEXT_SEARCH_CONFIGURATION.7.gz\n",
      "4.0K\t/etc/alternatives/REFRESH_MATERIALIZED_VIEW.7.gz\n",
      "0\t/etc/alternatives/ALTER_TYPE.7.gz\n",
      "0\t/etc/alternatives/jinfo.1.gz\n",
      "0\t/etc/alternatives/ALTER_TABLESPACE.7.gz\n",
      "0\t/etc/alternatives/ctags\n",
      "0\t/etc/alternatives/lzcmp\n",
      "0\t/etc/alternatives/import.1.gz\n",
      "0\t/etc/alternatives/mail\n",
      "0\t/etc/alternatives/pg_ctl.1.gz\n",
      "0\t/etc/alternatives/java\n",
      "0\t/etc/alternatives/jarsigner\n",
      "0\t/etc/alternatives/java.1.gz\n",
      "0\t/etc/alternatives/lzfgrep\n",
      "0\t/etc/alternatives/libgksu-gconf-defaults\n",
      "0\t/etc/alternatives/rview\n",
      "0\t/etc/alternatives/lzmore.1.gz\n",
      "0\t/etc/alternatives/from\n",
      "0\t/etc/alternatives/javap\n",
      "0\t/etc/alternatives/createlang.1.gz\n",
      "0\t/etc/alternatives/serialver.1.gz\n",
      "0\t/etc/alternatives/jjs\n",
      "0\t/etc/alternatives/unlzma\n",
      "0\t/etc/alternatives/CREATE_TRIGGER.7.gz\n",
      "0\t/etc/alternatives/jcmd.1.gz\n",
      "0\t/etc/alternatives/pg_basebackup.1.gz\n",
      "0\t/etc/alternatives/pack200\n",
      "180K\t/etc/alternatives\n",
      "4.0K\t/etc/localtime\n",
      "4.0K\t/etc/pulse/client.conf\n",
      "8.0K\t/etc/pulse/default.pa\n",
      "4.0K\t/etc/pulse/daemon.conf\n",
      "4.0K\t/etc/pulse/system.pa\n",
      "24K\t/etc/pulse\n",
      "4.0K\t/etc/dleyna-server-service.conf\n",
      "4.0K\t/etc/texmf/fmt.d/50cyrtexinfo.cnf\n",
      "8.0K\t/etc/texmf/fmt.d\n",
      "12K\t/etc/texmf\n",
      "4.0K\t/etc/python3/debian_config\n",
      "8.0K\t/etc/python3\n",
      "4.0K\t/etc/kbd/remap\n",
      "4.0K\t/etc/kbd/config\n",
      "12K\t/etc/kbd\n",
      "4.0K\t/etc/deluser.conf\n",
      "12K\t/etc/gnome-vfs-mime-magic\n",
      "4.0K\t/etc/logrotate.d/upstart\n",
      "4.0K\t/etc/logrotate.d/uwsgi\n",
      "4.0K\t/etc/logrotate.d/aptitude\n",
      "4.0K\t/etc/logrotate.d/rsyslog\n",
      "4.0K\t/etc/logrotate.d/mongodb-server\n",
      "4.0K\t/etc/logrotate.d/unattended-upgrades\n",
      "4.0K\t/etc/logrotate.d/cups-daemon\n",
      "4.0K\t/etc/logrotate.d/fail2ban\n",
      "4.0K\t/etc/logrotate.d/apt\n",
      "4.0K\t/etc/logrotate.d/samba\n",
      "4.0K\t/etc/logrotate.d/exim4-paniclog\n",
      "4.0K\t/etc/logrotate.d/ppp\n",
      "4.0K\t/etc/logrotate.d/exim4-base\n",
      "4.0K\t/etc/logrotate.d/dpkg\n",
      "4.0K\t/etc/logrotate.d/apache2\n",
      "4.0K\t/etc/logrotate.d/mysql-server\n",
      "4.0K\t/etc/logrotate.d/nginx\n",
      "4.0K\t/etc/logrotate.d/winbind\n",
      "4.0K\t/etc/logrotate.d/postgresql-common\n",
      "4.0K\t/etc/logrotate.d/speech-dispatcher\n",
      "84K\t/etc/logrotate.d\n",
      "4.0K\t/etc/init.d/lm-sensors\n",
      "4.0K\t/etc/init.d/umountroot\n",
      "4.0K\t/etc/init.d/cgmanager\n",
      "4.0K\t/etc/init.d/ssh\n",
      "4.0K\t/etc/init.d/hwclock.sh\n",
      "8.0K\t/etc/init.d/nfs-common\n",
      "4.0K\t/etc/init.d/lightdm\n",
      "8.0K\t/etc/init.d/uwsgi\n",
      "8.0K\t/etc/init.d/ctxusbd\n",
      "4.0K\t/etc/init.d/anacron\n",
      "4.0K\t/etc/init.d/sendsigs\n",
      "4.0K\t/etc/init.d/ntp\n",
      "8.0K\t/etc/init.d/networking\n",
      "4.0K\t/etc/init.d/plymouth\n",
      "4.0K\t/etc/init.d/rsyslog\n",
      "4.0K\t/etc/init.d/atd\n",
      "4.0K\t/etc/init.d/mountkernfs.sh\n",
      "4.0K\t/etc/init.d/mountdevsubfs.sh\n",
      "4.0K\t/etc/init.d/rcS\n",
      "4.0K\t/etc/init.d/udev-finish\n",
      "4.0K\t/etc/init.d/unattended-upgrades\n",
      "4.0K\t/etc/init.d/sudo\n",
      "8.0K\t/etc/init.d/kbd\n",
      "12K\t/etc/init.d/checkroot.sh\n",
      "8.0K\t/etc/init.d/fail2ban\n",
      "4.0K\t/etc/init.d/plymouth-log\n",
      "4.0K\t/etc/init.d/bluetooth\n",
      "4.0K\t/etc/init.d/kmod\n",
      "4.0K\t/etc/init.d/dbus\n",
      "4.0K\t/etc/init.d/keyboard-setup\n",
      "4.0K\t/etc/init.d/samba\n",
      "4.0K\t/etc/init.d/mountall.sh\n",
      "4.0K\t/etc/init.d/x11-common\n",
      "4.0K\t/etc/init.d/gdomap\n",
      "4.0K\t/etc/init.d/neo4j\n",
      "4.0K\t/etc/init.d/mountall-bootclean.sh\n",
      "4.0K\t/etc/init.d/README\n",
      "4.0K\t/etc/init.d/avahi-daemon\n",
      "4.0K\t/etc/init.d/rc.local\n",
      "4.0K\t/etc/init.d/nmbd\n",
      "4.0K\t/etc/init.d/single\n",
      "8.0K\t/etc/init.d/udev\n",
      "4.0K\t/etc/init.d/cron\n",
      "4.0K\t/etc/init.d/pppd-dns\n",
      "8.0K\t/etc/init.d/alsa-utils\n",
      "4.0K\t/etc/init.d/procps\n",
      "4.0K\t/etc/init.d/cgproxy\n",
      "4.0K\t/etc/init.d/rpcbind\n",
      "4.0K\t/etc/init.d/rdnssd\n",
      "4.0K\t/etc/init.d/umountnfs.sh\n",
      "4.0K\t/etc/init.d/hostname.sh\n",
      "4.0K\t/etc/init.d/cups-browsed\n",
      "8.0K\t/etc/init.d/mysql\n",
      "4.0K\t/etc/init.d/network-manager\n",
      "8.0K\t/etc/init.d/exim4\n",
      "4.0K\t/etc/init.d/checkroot-bootclean.sh\n",
      "4.0K\t/etc/init.d/umountfs\n",
      "4.0K\t/etc/init.d/.depend.stop\n",
      "8.0K\t/etc/init.d/rc\n",
      "4.0K\t/etc/init.d/checkfs.sh\n",
      "4.0K\t/etc/init.d/saned\n",
      "4.0K\t/etc/init.d/skeleton\n",
      "4.0K\t/etc/init.d/.depend.boot\n",
      "4.0K\t/etc/init.d/urandom\n",
      "4.0K\t/etc/init.d/smbd\n",
      "4.0K\t/etc/init.d/screen-cleanup\n",
      "4.0K\t/etc/init.d/bootmisc.sh\n",
      "4.0K\t/etc/init.d/samba-ad-dc\n",
      "4.0K\t/etc/init.d/mountnfs.sh\n",
      "8.0K\t/etc/init.d/nginx-debug\n",
      "4.0K\t/etc/init.d/uuidd\n",
      "4.0K\t/etc/init.d/rmnologin\n",
      "4.0K\t/etc/init.d/fglrx-atieventsd\n",
      "4.0K\t/etc/init.d/halt\n",
      "4.0K\t/etc/init.d/hddtemp\n",
      "8.0K\t/etc/init.d/rsync\n",
      "4.0K\t/etc/init.d/mountnfs-bootclean.sh\n",
      "12K\t/etc/init.d/apache2\n",
      "4.0K\t/etc/init.d/neo4j-service.dpkg-remove\n",
      "4.0K\t/etc/init.d/.depend.start\n",
      "4.0K\t/etc/init.d/postgresql\n",
      "4.0K\t/etc/init.d/bootlogs\n",
      "4.0K\t/etc/init.d/killprocs\n",
      "4.0K\t/etc/init.d/motd\n",
      "8.0K\t/etc/init.d/nginx\n",
      "4.0K\t/etc/init.d/acpid\n",
      "4.0K\t/etc/init.d/console-setup\n",
      "4.0K\t/etc/init.d/winbind\n",
      "4.0K\t/etc/init.d/minissdpd\n",
      "4.0K\t/etc/init.d/cups\n",
      "4.0K\t/etc/init.d/reboot\n",
      "8.0K\t/etc/init.d/mongodb\n",
      "4.0K\t/etc/init.d/speech-dispatcher\n",
      "452K\t/etc/init.d\n",
      "4.0K\t/etc/fail2ban/filter.d/apache-overflows.conf\n",
      "4.0K\t/etc/fail2ban/filter.d/3proxy.conf\n",
      "4.0K\t/etc/fail2ban/filter.d/common.conf\n",
      "4.0K\t/etc/fail2ban/filter.d/courierlogin.conf\n",
      "4.0K\t/etc/fail2ban/filter.d/sshd-ddos.conf\n",
      "4.0K\t/etc/fail2ban/filter.d/webmin-auth.conf\n",
      "4.0K\t/etc/fail2ban/filter.d/exim-common.conf\n",
      "4.0K\t/etc/fail2ban/filter.d/apache-badbots.conf\n",
      "4.0K\t/etc/fail2ban/filter.d/exim-spam.conf\n",
      "4.0K\t/etc/fail2ban/filter.d/pam-generic.conf\n",
      "4.0K\t/etc/fail2ban/filter.d/gssftpd.conf\n",
      "4.0K\t/etc/fail2ban/filter.d/ejabberd-auth.conf\n",
      "4.0K\t/etc/fail2ban/filter.d/vsftpd.conf\n",
      "4.0K\t/etc/fail2ban/filter.d/pure-ftpd.conf\n",
      "4.0K\t/etc/fail2ban/filter.d/wuftpd.conf\n",
      "4.0K\t/etc/fail2ban/filter.d/nagios.conf\n",
      "4.0K\t/etc/fail2ban/filter.d/freeswitch.conf\n",
      "4.0K\t/etc/fail2ban/filter.d/horde.conf\n",
      "4.0K\t/etc/fail2ban/filter.d/cyrus-imap.conf\n",
      "4.0K\t/etc/fail2ban/filter.d/dovecot.conf\n",
      "4.0K\t/etc/fail2ban/filter.d/mysqld-auth.conf\n",
      "4.0K\t/etc/fail2ban/filter.d/squid.conf\n",
      "4.0K\t/etc/fail2ban/filter.d/perdition.conf\n",
      "4.0K\t/etc/fail2ban/filter.d/suhosin.conf\n",
      "4.0K\t/etc/fail2ban/filter.d/lighttpd-auth.conf\n",
      "4.0K\t/etc/fail2ban/filter.d/solid-pop3d.conf\n",
      "4.0K\t/etc/fail2ban/filter.d/couriersmtp.conf\n",
      "4.0K\t/etc/fail2ban/filter.d/sendmail-auth.conf\n",
      "4.0K\t/etc/fail2ban/filter.d/apache-common.conf\n",
      "4.0K\t/etc/fail2ban/filter.d/exim.conf\n",
      "4.0K\t/etc/fail2ban/filter.d/apache-nohome.conf\n",
      "4.0K\t/etc/fail2ban/filter.d/nginx-http-auth.conf\n",
      "4.0K\t/etc/fail2ban/filter.d/named-refused.conf\n",
      "4.0K\t/etc/fail2ban/filter.d/apache-modsecurity.conf\n",
      "4.0K\t/etc/fail2ban/filter.d/postfix.conf\n",
      "4.0K\t/etc/fail2ban/filter.d/assp.conf\n",
      "4.0K\t/etc/fail2ban/filter.d/sshd.conf\n",
      "4.0K\t/etc/fail2ban/filter.d/apache-auth.conf\n",
      "4.0K\t/etc/fail2ban/filter.d/selinux-common.conf\n",
      "4.0K\t/etc/fail2ban/filter.d/nsd.conf\n",
      "4.0K\t/etc/fail2ban/filter.d/xinetd-fail.conf\n",
      "4.0K\t/etc/fail2ban/filter.d/uwimap-auth.conf\n",
      "4.0K\t/etc/fail2ban/filter.d/groupoffice.conf\n",
      "4.0K\t/etc/fail2ban/filter.d/sogo-auth.conf\n",
      "4.0K\t/etc/fail2ban/filter.d/qmail.conf\n",
      "4.0K\t/etc/fail2ban/filter.d/roundcube-auth.conf\n",
      "4.0K\t/etc/fail2ban/filter.d/sieve.conf\n",
      "4.0K\t/etc/fail2ban/filter.d/apache-noscript.conf\n",
      "4.0K\t/etc/fail2ban/filter.d/proftpd.conf\n",
      "4.0K\t/etc/fail2ban/filter.d/openwebmail.conf\n",
      "4.0K\t/etc/fail2ban/filter.d/sendmail-reject.conf\n",
      "4.0K\t/etc/fail2ban/filter.d/selinux-ssh.conf\n",
      "4.0K\t/etc/fail2ban/filter.d/php-url-fopen.conf\n",
      "4.0K\t/etc/fail2ban/filter.d/recidive.conf\n",
      "4.0K\t/etc/fail2ban/filter.d/postfix-sasl.conf\n",
      "4.0K\t/etc/fail2ban/filter.d/dropbear.conf\n",
      "4.0K\t/etc/fail2ban/filter.d/asterisk.conf\n",
      "232K\t/etc/fail2ban/filter.d\n",
      "4.0K\t/etc/fail2ban/jail.d\n",
      "4.0K\t/etc/fail2ban/fail2ban.conf\n",
      "16K\t/etc/fail2ban/jail.conf\n",
      "4.0K\t/etc/fail2ban/action.d/ufw.conf\n",
      "4.0K\t/etc/fail2ban/action.d/osx-ipfw.conf\n",
      "4.0K\t/etc/fail2ban/action.d/iptables-ipset-proto6.conf\n",
      "4.0K\t/etc/fail2ban/action.d/iptables-allports.conf\n",
      "4.0K\t/etc/fail2ban/action.d/pf.conf\n",
      "4.0K\t/etc/fail2ban/action.d/iptables-multiport.conf\n",
      "8.0K\t/etc/fail2ban/action.d/mynetwatchman.conf\n",
      "8.0K\t/etc/fail2ban/action.d/dshield.conf\n",
      "4.0K\t/etc/fail2ban/action.d/iptables.conf\n",
      "4.0K\t/etc/fail2ban/action.d/mail.conf\n",
      "4.0K\t/etc/fail2ban/action.d/iptables-multiport-log.conf\n",
      "4.0K\t/etc/fail2ban/action.d/firewallcmd-ipset.conf\n",
      "4.0K\t/etc/fail2ban/action.d/sendmail-whois-lines.conf\n",
      "4.0K\t/etc/fail2ban/action.d/iptables-ipset-proto4.conf\n",
      "4.0K\t/etc/fail2ban/action.d/apf.conf\n",
      "4.0K\t/etc/fail2ban/action.d/ipfw.conf\n",
      "4.0K\t/etc/fail2ban/action.d/iptables-new.conf\n",
      "4.0K\t/etc/fail2ban/action.d/firewallcmd-new.conf\n",
      "4.0K\t/etc/fail2ban/action.d/mail-whois.conf\n",
      "4.0K\t/etc/fail2ban/action.d/iptables-xt_recent-echo.conf\n",
      "4.0K\t/etc/fail2ban/action.d/hostsdeny.conf\n",
      "4.0K\t/etc/fail2ban/action.d/badips.conf\n",
      "4.0K\t/etc/fail2ban/action.d/shorewall.conf\n",
      "4.0K\t/etc/fail2ban/action.d/iptables-ipset-proto6-allports.conf\n",
      "4.0K\t/etc/fail2ban/action.d/sendmail-buffered.conf\n",
      "4.0K\t/etc/fail2ban/action.d/bsd-ipfw.conf\n",
      "4.0K\t/etc/fail2ban/action.d/sendmail.conf\n",
      "4.0K\t/etc/fail2ban/action.d/dummy.conf\n",
      "4.0K\t/etc/fail2ban/action.d/complain.conf\n",
      "4.0K\t/etc/fail2ban/action.d/ipfilter.conf\n",
      "4.0K\t/etc/fail2ban/action.d/sendmail-common.conf\n",
      "4.0K\t/etc/fail2ban/action.d/sendmail-whois.conf\n",
      "4.0K\t/etc/fail2ban/action.d/mail-buffered.conf\n",
      "4.0K\t/etc/fail2ban/action.d/osx-afctl.conf\n",
      "4.0K\t/etc/fail2ban/action.d/mail-whois-lines.conf\n",
      "4.0K\t/etc/fail2ban/action.d/route.conf\n",
      "4.0K\t/etc/fail2ban/action.d/iptables-blocktype.conf\n",
      "4.0K\t/etc/fail2ban/action.d/blocklist_de.conf\n",
      "164K\t/etc/fail2ban/action.d\n",
      "4.0K\t/etc/fail2ban/jail.local\n",
      "4.0K\t/etc/fail2ban/fail2ban.d\n",
      "432K\t/etc/fail2ban\n",
      "4.0K\t/etc/bluetooth/input.conf\n",
      "4.0K\t/etc/bluetooth/main.conf\n",
      "4.0K\t/etc/bluetooth/network.conf\n",
      "4.0K\t/etc/bluetooth/proximity.conf\n",
      "20K\t/etc/bluetooth\n",
      "4.0K\t/etc/papersize\n",
      "4.0K\t/etc/python/debian_config\n",
      "8.0K\t/etc/python\n",
      "8.0K\t/etc/gimp/2.0/templaterc\n",
      "4.0K\t/etc/gimp/2.0/gtkrc\n",
      "4.0K\t/etc/gimp/2.0/controllerrc\n",
      "24K\t/etc/gimp/2.0/gimprc\n",
      "4.0K\t/etc/gimp/2.0/sessionrc\n",
      "4.0K\t/etc/gimp/2.0/unitrc\n",
      "4.0K\t/etc/gimp/2.0/menurc\n",
      "56K\t/etc/gimp/2.0\n",
      "60K\t/etc/gimp\n",
      "4.0K\t/etc/sudoers\n",
      "4.0K\t/etc/issue\n",
      "4.0K\t/etc/apt/listchanges.conf\n",
      "20K\t/etc/apt/trusted.gpg~\n",
      "20K\t/etc/apt/trusted.gpg\n",
      "4.0K\t/etc/apt/preferences.d\n",
      "4.0K\t/etc/apt/apt.conf.d/50unattended-upgrades\n",
      "4.0K\t/etc/apt/apt.conf.d/20packagekit\n",
      "4.0K\t/etc/apt/apt.conf.d/01autoremove\n",
      "4.0K\t/etc/apt/apt.conf.d/70debconf\n",
      "4.0K\t/etc/apt/apt.conf.d/01autoremove-kernels\n",
      "4.0K\t/etc/apt/apt.conf.d/00trustcdrom\n",
      "4.0K\t/etc/apt/apt.conf.d/20listchanges\n",
      "4.0K\t/etc/apt/apt.conf.d/01autoremove-postgresql\n",
      "4.0K\t/etc/apt/apt.conf.d/00CDMountPoint\n",
      "4.0K\t/etc/apt/apt.conf.d/99synaptic\n",
      "44K\t/etc/apt/apt.conf.d\n",
      "4.0K\t/etc/apt/sources.list\n",
      "4.0K\t/etc/apt/sources.list.d/virtualbox.list~\n",
      "4.0K\t/etc/apt/sources.list.d/slack.list\n",
      "0\t/etc/apt/sources.list.d/shutter-ppa-jessie.list\n",
      "4.0K\t/etc/apt/sources.list.d/spotify.list\n",
      "0\t/etc/apt/sources.list.d/shutter-ppa-jessie.list.save\n",
      "4.0K\t/etc/apt/sources.list.d/virtualbox.list\n",
      "4.0K\t/etc/apt/sources.list.d/wine.list\n",
      "4.0K\t/etc/apt/sources.list.d/wine.list.save\n",
      "4.0K\t/etc/apt/sources.list.d/neo4j.list\n",
      "4.0K\t/etc/apt/sources.list.d/google-chrome.list\n",
      "4.0K\t/etc/apt/sources.list.d/spotify.list.save\n",
      "4.0K\t/etc/apt/sources.list.d/sbt.list.save\n",
      "4.0K\t/etc/apt/sources.list.d/sbt.list\n",
      "4.0K\t/etc/apt/sources.list.d/neo4j.list.save\n",
      "4.0K\t/etc/apt/sources.list.d/virtualbox.list.save\n",
      "56K\t/etc/apt/sources.list.d\n",
      "4.0K\t/etc/apt/sources.list~\n",
      "4.0K\t/etc/apt/sources.list.save\n",
      "4.0K\t/etc/apt/trusted.gpg.d/spotify-2015-05-28-D2C19886.gpg\n",
      "4.0K\t/etc/apt/trusted.gpg.d/debian-archive-stretch-stable.gpg\n",
      "8.0K\t/etc/apt/trusted.gpg.d/deb-multimedia-keyring.gpg\n",
      "8.0K\t/etc/apt/trusted.gpg.d/debian-archive-jessie-security-automatic.gpg\n",
      "8.0K\t/etc/apt/trusted.gpg.d/debian-archive-stretch-automatic.gpg\n",
      "4.0K\t/etc/apt/trusted.gpg.d/debian-archive-jessie-stable.gpg\n",
      "4.0K\t/etc/apt/trusted.gpg.d/debian-archive-wheezy-automatic.gpg\n",
      "0\t/etc/apt/trusted.gpg.d/shutter-ppa.gpg~\n",
      "4.0K\t/etc/apt/trusted.gpg.d/shutter-ppa.gpg\n",
      "8.0K\t/etc/apt/trusted.gpg.d/debian-archive-jessie-automatic.gpg\n",
      "4.0K\t/etc/apt/trusted.gpg.d/debian-archive-wheezy-stable.gpg\n",
      "8.0K\t/etc/apt/trusted.gpg.d/debian-archive-stretch-security-automatic.gpg\n",
      "68K\t/etc/apt/trusted.gpg.d\n",
      "232K\t/etc/apt\n",
      "4.0K\t/etc/anacrontab\n",
      "4.0K\t/etc/sysctl.conf\n",
      "4.0K\t/etc/opt\n",
      "4.0K\t/etc/magic\n",
      "4.0K\t/etc/samba/tls\n",
      "12K\t/etc/samba/smb.conf\n",
      "4.0K\t/etc/samba/gdbcommands\n",
      "24K\t/etc/samba\n",
      "4.0K\t/etc/libaudit.conf\n",
      "4.0K\t/etc/emacs/site-start.d/50python-docutils.el\n",
      "4.0K\t/etc/emacs/site-start.d/50autoconf.el\n",
      "4.0K\t/etc/emacs/site-start.d/50dictionaries-common.el\n",
      "4.0K\t/etc/emacs/site-start.d/00debian-vars.el\n",
      "4.0K\t/etc/emacs/site-start.d/50ess.el\n",
      "24K\t/etc/emacs/site-start.d\n",
      "4.0K\t/etc/emacs/site-start.el\n",
      "32K\t/etc/emacs\n",
      "4.0K\t/etc/calendar/default\n",
      "8.0K\t/etc/calendar\n",
      "4.0K\t/etc/sysctl.d/30-postgresql-shm.conf\n",
      "4.0K\t/etc/sysctl.d/README.sysctl\n",
      "0\t/etc/sysctl.d/99-sysctl.conf\n",
      "12K\t/etc/sysctl.d\n",
      "4.0K\t/etc/timezone\n",
      "4.0K\t/etc/lintianrc\n",
      "16K\t/etc/neo4j/neo4j.conf\n",
      "4.0K\t/etc/neo4j/neo4j-server.properties.dpkg-remove\n",
      "4.0K\t/etc/neo4j/neo4j.properties.dpkg-remove\n",
      "4.0K\t/etc/neo4j/neo4j-http-logging.xml.dpkg-remove\n",
      "4.0K\t/etc/neo4j/README.txt.dpkg-remove\n",
      "16K\t/etc/neo4j/neo4j.conf.dpkg-old\n",
      "8.0K\t/etc/neo4j/neo4j.conf~\n",
      "60K\t/etc/neo4j\n",
      "4.0K\t/etc/popularity-contest.conf\n",
      "4.0K\t/etc/gshadow-\n",
      "4.0K\t/etc/cracklib/cracklib.conf\n",
      "8.0K\t/etc/cracklib\n",
      "4.0K\t/etc/R/Renviron\n",
      "8.0K\t/etc/R/Makeconf\n",
      "4.0K\t/etc/R/ldpaths\n",
      "4.0K\t/etc/R/Rprofile.site\n",
      "4.0K\t/etc/R/repositories\n",
      "4.0K\t/etc/R/Renviron.site\n",
      "32K\t/etc/R\n",
      "4.0K\t/etc/vim/vimrc\n",
      "4.0K\t/etc/vim/vimrc.tiny\n",
      "12K\t/etc/vim\n",
      "0\t/etc/os-release\n",
      "4.0K\t/etc/mercurial/hgrc.d/hgext.rc\n",
      "4.0K\t/etc/mercurial/hgrc.d/cacerts.rc\n",
      "8.0K\t/etc/mercurial/hgrc.d/mergetools.rc\n",
      "20K\t/etc/mercurial/hgrc.d\n",
      "4.0K\t/etc/mercurial/hgrc\n",
      "28K\t/etc/mercurial\n",
      "4.0K\t/etc/ntp.conf\n",
      "4.0K\t/etc/rc.local\n",
      "4.0K\t/etc/cron.hourly/.placeholder\n",
      "8.0K\t/etc/cron.hourly\n",
      "0\t/etc/mtab\n",
      "4.0K\t/etc/shells\n",
      "4.0K\t/etc/hosts.allow\n",
      "8.0K\t/etc/manpath.config\n",
      "4.0K\t/etc/skel/.profile\n",
      "4.0K\t/etc/skel/.bash_logout\n",
      "4.0K\t/etc/skel/.bashrc\n",
      "16K\t/etc/skel\n",
      "4.0K\t/etc/libao.conf\n",
      "4.0K\t/etc/gnome-vfs-2.0/modules/extra-modules.conf\n",
      "4.0K\t/etc/gnome-vfs-2.0/modules/default-modules.conf\n",
      "12K\t/etc/gnome-vfs-2.0/modules\n",
      "16K\t/etc/gnome-vfs-2.0\n",
      "4.0K\t/etc/subuid\n",
      "4.0K\t/etc/udev/rules.d/60-vboxdrv.rules\n",
      "4.0K\t/etc/udev/rules.d/70-persistent-net.rules\n",
      "4.0K\t/etc/udev/rules.d/85-ica-usb.rules\n",
      "16K\t/etc/udev/rules.d\n",
      "4.0K\t/etc/udev/hwdb.d\n",
      "4.0K\t/etc/udev/udev.conf\n",
      "28K\t/etc/udev\n",
      "4.0K\t/etc/gshadow\n",
      "4.0K\t/etc/debconf.conf\n",
      "4.0K\t/etc/gss/mech.d/README\n",
      "8.0K\t/etc/gss/mech.d\n",
      "12K\t/etc/gss\n",
      "12K\t/etc/ca-certificates.conf\n",
      "4.0K\t/etc/python3.4/sitecustomize.py\n",
      "8.0K\t/etc/python3.4\n",
      "12K\t/etc/login.defs\n",
      "4.0K\t/etc/kernel-img.conf\n",
      "4.0K\t/etc/updatedb.conf\n",
      "4.0K\t/etc/icaclient/nls/es/wfclient.ini\n",
      "8.0K\t/etc/icaclient/nls/es/module.ini\n",
      "4.0K\t/etc/icaclient/nls/es/appsrv.ini\n",
      "20K\t/etc/icaclient/nls/es\n",
      "4.0K\t/etc/icaclient/nls/fr/wfclient.ini\n",
      "8.0K\t/etc/icaclient/nls/fr/module.ini\n",
      "4.0K\t/etc/icaclient/nls/fr/appsrv.ini\n",
      "20K\t/etc/icaclient/nls/fr\n",
      "4.0K\t/etc/icaclient/nls/ja/wfclient.ini\n",
      "8.0K\t/etc/icaclient/nls/ja/module.ini\n",
      "4.0K\t/etc/icaclient/nls/ja/appsrv.ini\n",
      "20K\t/etc/icaclient/nls/ja\n",
      "4.0K\t/etc/icaclient/nls/en/wfclient.ini\n",
      "8.0K\t/etc/icaclient/nls/en/module.ini\n",
      "8.0K\t/etc/icaclient/nls/en/module.ini.dpkg-old\n",
      "4.0K\t/etc/icaclient/nls/en/appsrv.ini\n",
      "28K\t/etc/icaclient/nls/en\n",
      "4.0K\t/etc/icaclient/nls/zh_HANS/wfclient.ini\n",
      "8.0K\t/etc/icaclient/nls/zh_HANS/module.ini\n",
      "4.0K\t/etc/icaclient/nls/zh_HANS/appsrv.ini\n",
      "20K\t/etc/icaclient/nls/zh_HANS\n",
      "4.0K\t/etc/icaclient/nls/de/wfclient.ini\n",
      "8.0K\t/etc/icaclient/nls/de/module.ini\n",
      "4.0K\t/etc/icaclient/nls/de/appsrv.ini\n",
      "20K\t/etc/icaclient/nls/de\n",
      "132K\t/etc/icaclient/nls\n",
      "8.0K\t/etc/icaclient/config/regions.ini\n",
      "4.0K\t/etc/icaclient/config/Trusted_Region.ini\n",
      "24K\t/etc/icaclient/config/All_Regions.ini\n",
      "4.0K\t/etc/icaclient/config/usertemplate/Trusted_Region.ini\n",
      "24K\t/etc/icaclient/config/usertemplate/All_Regions.ini\n",
      "4.0K\t/etc/icaclient/config/usertemplate/Unknown_Region.ini\n",
      "4.0K\t/etc/icaclient/config/usertemplate/Untrusted_Region.ini\n",
      "40K\t/etc/icaclient/config/usertemplate\n",
      "4.0K\t/etc/icaclient/config/Unknown_Region.ini\n",
      "12K\t/etc/icaclient/config/MediaStreamingConfig.tbl\n",
      "4.0K\t/etc/icaclient/config/Untrusted_Region.ini\n",
      "4.0K\t/etc/icaclient/config/canonicalization.ini\n",
      "104K\t/etc/icaclient/config\n",
      "240K\t/etc/icaclient\n",
      "8.0K\t/etc/rygel.conf\n",
      "0\t/etc/sensors.d/.placeholder\n",
      "4.0K\t/etc/sensors.d\n",
      "4.0K\t/etc/sudoers.d/README\n",
      "8.0K\t/etc/sudoers.d\n",
      "4.0K\t/etc/rdnssd/merge-hook\n",
      "8.0K\t/etc/rdnssd\n",
      "4.0K\t/etc/PackageKit/Vendor.conf\n",
      "4.0K\t/etc/PackageKit/PackageKit.conf\n",
      "12K\t/etc/PackageKit\n",
      "4.0K\t/etc/resolv.conf\n",
      "4.0K\t/etc/avahi/avahi-daemon.conf\n",
      "4.0K\t/etc/avahi/services\n",
      "4.0K\t/etc/avahi/hosts\n",
      "16K\t/etc/avahi\n",
      "4.0K\t/etc/kernel/postrm.d/zz-update-grub\n",
      "4.0K\t/etc/kernel/postrm.d/initramfs-tools\n",
      "12K\t/etc/kernel/postrm.d\n",
      "4.0K\t/etc/kernel/prerm.d/dkms\n",
      "8.0K\t/etc/kernel/prerm.d\n",
      "4.0K\t/etc/kernel/postinst.d/zz-update-grub\n",
      "4.0K\t/etc/kernel/postinst.d/unattended-upgrades\n",
      "4.0K\t/etc/kernel/postinst.d/apt-auto-removal\n",
      "4.0K\t/etc/kernel/postinst.d/dkms\n",
      "4.0K\t/etc/kernel/postinst.d/initramfs-tools\n",
      "24K\t/etc/kernel/postinst.d\n",
      "4.0K\t/etc/kernel/header_postinst.d/dkms\n",
      "8.0K\t/etc/kernel/header_postinst.d\n",
      "56K\t/etc/kernel\n",
      "4.0K\t/etc/mongodb.conf\n",
      "4.0K\t/etc/hostname\n",
      "4.0K\t/etc/emacs24/site-start.d/00debian-vars.elc\n",
      "0\t/etc/emacs24/site-start.d/00debian-vars.el\n",
      "8.0K\t/etc/emacs24/site-start.d\n",
      "12K\t/etc/emacs24\n",
      "4.0K\t/etc/mysql/my.cnf\n",
      "4.0K\t/etc/mysql/debian.cnf\n",
      "4.0K\t/etc/mysql/debian-start\n",
      "4.0K\t/etc/mysql/conf.d/mysqld_safe_syslog.cnf\n",
      "0\t/etc/mysql/conf.d/.keepme\n",
      "8.0K\t/etc/mysql/conf.d\n",
      "24K\t/etc/mysql\n",
      "4.0K\t/etc/hp/hplip.conf\n",
      "8.0K\t/etc/hp\n",
      "4.0K\t/etc/rmt\n",
      "4.0K\t/etc/resolvconf/update-libc.d/avahi-daemon\n",
      "8.0K\t/etc/resolvconf/update-libc.d\n",
      "12K\t/etc/resolvconf\n",
      "4.0K\t/etc/pam.d/lightdm\n",
      "4.0K\t/etc/pam.d/su\n",
      "4.0K\t/etc/pam.d/newusers\n",
      "4.0K\t/etc/pam.d/polkit-1\n",
      "4.0K\t/etc/pam.d/atd\n",
      "4.0K\t/etc/pam.d/common-auth\n",
      "4.0K\t/etc/pam.d/common-session\n",
      "4.0K\t/etc/pam.d/sudo\n",
      "4.0K\t/etc/pam.d/common-account\n",
      "4.0K\t/etc/pam.d/samba\n",
      "4.0K\t/etc/pam.d/chfn\n",
      "4.0K\t/etc/pam.d/cron\n",
      "4.0K\t/etc/pam.d/runuser\n",
      "4.0K\t/etc/pam.d/runuser-l\n",
      "4.0K\t/etc/pam.d/chsh\n",
      "4.0K\t/etc/pam.d/ppp\n",
      "4.0K\t/etc/pam.d/systemd-user\n",
      "4.0K\t/etc/pam.d/cinnamon-screensaver\n",
      "4.0K\t/etc/pam.d/other\n",
      "4.0K\t/etc/pam.d/lightdm-autologin\n",
      "4.0K\t/etc/pam.d/common-session-noninteractive\n",
      "4.0K\t/etc/pam.d/sshd\n",
      "4.0K\t/etc/pam.d/lightdm-greeter\n",
      "4.0K\t/etc/pam.d/chpasswd\n",
      "4.0K\t/etc/pam.d/cups\n",
      "4.0K\t/etc/pam.d/passwd\n",
      "8.0K\t/etc/pam.d/login\n",
      "4.0K\t/etc/pam.d/common-password\n",
      "120K\t/etc/pam.d\n",
      "4.0K\t/etc/gai.conf\n",
      "4.0K\t/etc/firefox-esr/firefox-esr.js\n",
      "8.0K\t/etc/firefox-esr\n",
      "4.0K\t/etc/foomatic\n",
      "4.0K\t/etc/rpc\n",
      "4.0K\t/etc/machine-id\n",
      "4.0K\t/etc/netconfig\n",
      "4.0K\t/etc/bindresvport.blacklist\n",
      "4.0K\t/etc/exim4/update-exim4.conf.conf\n",
      "4.0K\t/etc/exim4/passwd.client\n",
      "76K\t/etc/exim4/exim4.conf.template\n",
      "4.0K\t/etc/exim4/conf.d/auth/00_exim4-config_header\n",
      "12K\t/etc/exim4/conf.d/auth/30_exim4-config_examples\n",
      "20K\t/etc/exim4/conf.d/auth\n",
      "4.0K\t/etc/exim4/conf.d/retry/30_exim4-config\n",
      "4.0K\t/etc/exim4/conf.d/retry/00_exim4-config_header\n",
      "12K\t/etc/exim4/conf.d/retry\n",
      "4.0K\t/etc/exim4/conf.d/rewrite/00_exim4-config_header\n",
      "4.0K\t/etc/exim4/conf.d/rewrite/31_exim4-config_rewriting\n",
      "12K\t/etc/exim4/conf.d/rewrite\n",
      "4.0K\t/etc/exim4/conf.d/router/300_exim4-config_real_local\n",
      "4.0K\t/etc/exim4/conf.d/router/600_exim4-config_userforward\n",
      "4.0K\t/etc/exim4/conf.d/router/100_exim4-config_domain_literal\n",
      "4.0K\t/etc/exim4/conf.d/router/00_exim4-config_header\n",
      "4.0K\t/etc/exim4/conf.d/router/500_exim4-config_hubuser\n",
      "4.0K\t/etc/exim4/conf.d/router/700_exim4-config_procmail\n",
      "4.0K\t/etc/exim4/conf.d/router/900_exim4-config_local_user\n",
      "4.0K\t/etc/exim4/conf.d/router/400_exim4-config_system_aliases\n",
      "4.0K\t/etc/exim4/conf.d/router/200_exim4-config_primary\n",
      "4.0K\t/etc/exim4/conf.d/router/850_exim4-config_lowuid\n",
      "4.0K\t/etc/exim4/conf.d/router/150_exim4-config_hubbed_hosts\n",
      "4.0K\t/etc/exim4/conf.d/router/800_exim4-config_maildrop\n",
      "4.0K\t/etc/exim4/conf.d/router/mmm_mail4root\n",
      "56K\t/etc/exim4/conf.d/router\n",
      "4.0K\t/etc/exim4/conf.d/acl/30_exim4-config_check_mail\n",
      "4.0K\t/etc/exim4/conf.d/acl/00_exim4-config_header\n",
      "16K\t/etc/exim4/conf.d/acl/30_exim4-config_check_rcpt\n",
      "4.0K\t/etc/exim4/conf.d/acl/20_exim4-config_local_deny_exceptions\n",
      "4.0K\t/etc/exim4/conf.d/acl/40_exim4-config_check_data\n",
      "36K\t/etc/exim4/conf.d/acl\n",
      "4.0K\t/etc/exim4/conf.d/transport/30_exim4-config_address_reply\n",
      "4.0K\t/etc/exim4/conf.d/transport/30_exim4-config_procmail_pipe\n",
      "4.0K\t/etc/exim4/conf.d/transport/30_exim4-config_address_file\n",
      "4.0K\t/etc/exim4/conf.d/transport/00_exim4-config_header\n",
      "4.0K\t/etc/exim4/conf.d/transport/30_exim4-config_remote_smtp_smarthost\n",
      "4.0K\t/etc/exim4/conf.d/transport/35_exim4-config_address_directory\n",
      "4.0K\t/etc/exim4/conf.d/transport/30_exim4-config_maildrop_pipe\n",
      "4.0K\t/etc/exim4/conf.d/transport/30_exim4-config_remote_smtp\n",
      "4.0K\t/etc/exim4/conf.d/transport/30_exim4-config_address_pipe\n",
      "4.0K\t/etc/exim4/conf.d/transport/30_exim4-config_maildir_home\n",
      "4.0K\t/etc/exim4/conf.d/transport/30_exim4-config_mail_spool\n",
      "4.0K\t/etc/exim4/conf.d/transport/10_exim4-config_transport-macros\n",
      "52K\t/etc/exim4/conf.d/transport\n",
      "4.0K\t/etc/exim4/conf.d/main/90_exim4-config_log_selector\n",
      "8.0K\t/etc/exim4/conf.d/main/02_exim4-config_options\n",
      "4.0K\t/etc/exim4/conf.d/main/01_exim4-config_listmacrosdefs\n",
      "4.0K\t/etc/exim4/conf.d/main/03_exim4-config_tlsoptions\n",
      "24K\t/etc/exim4/conf.d/main\n",
      "216K\t/etc/exim4/conf.d\n",
      "304K\t/etc/exim4\n",
      "4.0K\t/etc/usb_modeswitch.d\n",
      "4.0K\t/etc/issue.net\n",
      "8.0K\t/etc/Muttrc\n",
      "20K\t/etc/devscripts.conf\n",
      "0\t/etc/sbt\n",
      "0\t/etc/dictionaries-common/ispell-default\n",
      "0\t/etc/dictionaries-common/default.hash\n",
      "0\t/etc/dictionaries-common/default.aff\n",
      "0\t/etc/dictionaries-common/words\n",
      "4.0K\t/etc/dictionaries-common\n",
      "4.0K\t/etc/fstab\n",
      "4.0K\t/etc/locale.alias\n",
      "4.0K\t/etc/ppp/chap-secrets\n",
      "16K\t/etc/ppp/options\n",
      "4.0K\t/etc/ppp/peers/provider\n",
      "8.0K\t/etc/ppp/peers\n",
      "4.0K\t/etc/ppp/ipv6-down.d\n",
      "4.0K\t/etc/ppp/ip-down\n",
      "4.0K\t/etc/ppp/ipv6-down\n",
      "4.0K\t/etc/ppp/ip-up\n",
      "4.0K\t/etc/ppp/pap-secrets\n",
      "4.0K\t/etc/ppp/ipv6-up\n",
      "4.0K\t/etc/ppp/ip-down.d/0000usepeerdns\n",
      "8.0K\t/etc/ppp/ip-down.d\n",
      "4.0K\t/etc/ppp/options.pptp\n",
      "4.0K\t/etc/ppp/ip-up.d/0000usepeerdns\n",
      "4.0K\t/etc/ppp/ip-up.d/exim4\n",
      "12K\t/etc/ppp/ip-up.d\n",
      "4.0K\t/etc/ppp/ipv6-up.d\n",
      "84K\t/etc/ppp\n",
      "0\t/etc/gconf/gconf.xml.defaults/%gconf-tree.xml\n",
      "4.0K\t/etc/gconf/gconf.xml.defaults\n",
      "4.0K\t/etc/gconf/2/evoldap.conf\n",
      "4.0K\t/etc/gconf/2/path\n",
      "12K\t/etc/gconf/2\n",
      "0\t/etc/gconf/gconf.xml.mandatory/%gconf-tree.xml\n",
      "4.0K\t/etc/gconf/gconf.xml.mandatory\n",
      "24K\t/etc/gconf\n",
      "4.0K\t/etc/cron.weekly/0anacron\n",
      "4.0K\t/etc/cron.weekly/man-db\n",
      "4.0K\t/etc/cron.weekly/.placeholder\n",
      "16K\t/etc/cron.weekly\n",
      "0\t/etc/newt/palette.original\n",
      "4.0K\t/etc/newt\n",
      "8.0K\t/etc/wildmidi/wildmidi.cfg\n",
      "12K\t/etc/wildmidi\n",
      "4.0K\t/etc/dkms/framework.conf\n",
      "4.0K\t/etc/dkms/template-dkms-mkdeb/Makefile\n",
      "4.0K\t/etc/dkms/template-dkms-mkdeb/debian/README.Debian\n",
      "4.0K\t/etc/dkms/template-dkms-mkdeb/debian/dirs\n",
      "4.0K\t/etc/dkms/template-dkms-mkdeb/debian/prerm\n",
      "4.0K\t/etc/dkms/template-dkms-mkdeb/debian/control\n",
      "4.0K\t/etc/dkms/template-dkms-mkdeb/debian/rules\n",
      "4.0K\t/etc/dkms/template-dkms-mkdeb/debian/changelog\n",
      "4.0K\t/etc/dkms/template-dkms-mkdeb/debian/compat\n",
      "4.0K\t/etc/dkms/template-dkms-mkdeb/debian/copyright\n",
      "4.0K\t/etc/dkms/template-dkms-mkdeb/debian/postinst\n",
      "40K\t/etc/dkms/template-dkms-mkdeb/debian\n",
      "48K\t/etc/dkms/template-dkms-mkdeb\n",
      "0\t/etc/dkms/template-dkms-mkdsc\n",
      "56K\t/etc/dkms\n",
      "4.0K\t/etc/purple/prefs.xml\n",
      "8.0K\t/etc/purple\n",
      "4.0K\t/etc/ssl/private\n",
      "0\t/etc/ssl/certs/04f60c28.0\n",
      "0\t/etc/ssl/certs/ACEDICOM_Root.pem\n",
      "0\t/etc/ssl/certs/a7d2cf64.0\n",
      "0\t/etc/ssl/certs/Swisscom_Root_CA_1.pem\n",
      "4.0K\t/etc/ssl/certs/Hongkong_Post_Root_CA_1.pem\n",
      "0\t/etc/ssl/certs/99d0fa06.0\n",
      "4.0K\t/etc/ssl/certs/DigiCert_Global_Root_CA.pem\n",
      "0\t/etc/ssl/certs/e113c810.0\n",
      "0\t/etc/ssl/certs/Certplus_Root_CA_G1.pem\n",
      "0\t/etc/ssl/certs/7d5a75e4.0\n",
      "0\t/etc/ssl/certs/RSA_Security_2048_v3.pem\n",
      "0\t/etc/ssl/certs/CA_WoSign_ECC_Root.pem\n",
      "0\t/etc/ssl/certs/52b525c7.0\n",
      "0\t/etc/ssl/certs/876f1e28.0\n",
      "0\t/etc/ssl/certs/7a481e66.0\n",
      "0\t/etc/ssl/certs/812e17de.0\n",
      "0\t/etc/ssl/certs/dd8e9d41.0\n",
      "4.0K\t/etc/ssl/certs/7992b8bb.0\n",
      "0\t/etc/ssl/certs/ff588423.0\n",
      "0\t/etc/ssl/certs/f39fc864.0\n",
      "0\t/etc/ssl/certs/fb126c6d.0\n",
      "0\t/etc/ssl/certs/67495436.0\n",
      "0\t/etc/ssl/certs/3513523f.0\n",
      "0\t/etc/ssl/certs/8d86cdd1.0\n",
      "0\t/etc/ssl/certs/08aef7bb.0\n",
      "0\t/etc/ssl/certs/Juur-SK.pem\n",
      "4.0K\t/etc/ssl/certs/ePKI_Root_Certification_Authority.pem\n",
      "4.0K\t/etc/ssl/certs/Global_Chambersign_Root_-_2008.pem\n",
      "0\t/etc/ssl/certs/24ad0b63.0\n",
      "4.0K\t/etc/ssl/certs/COMODO_RSA_Certification_Authority.pem\n",
      "0\t/etc/ssl/certs/559f7c71.0\n",
      "0\t/etc/ssl/certs/Certum_Root_CA.pem\n",
      "4.0K\t/etc/ssl/certs/cb357862.0\n",
      "4.0K\t/etc/ssl/certs/NetLock_Arany_=Class_Gold=_Főtanúsítvány.pem\n",
      "0\t/etc/ssl/certs/b1159c4c.0\n",
      "4.0K\t/etc/ssl/certs/DigiCert_Global_Root_G2.pem\n",
      "0\t/etc/ssl/certs/7999be0d.0\n",
      "4.0K\t/etc/ssl/certs/Buypass_Class_3_Root_CA.pem\n",
      "0\t/etc/ssl/certs/c51c224c.0\n",
      "4.0K\t/etc/ssl/certs/ee1365c0.0\n",
      "0\t/etc/ssl/certs/9d6523ce.0\n",
      "4.0K\t/etc/ssl/certs/Security_Communication_RootCA2.pem\n",
      "4.0K\t/etc/ssl/certs/QuoVadis_Root_CA_1_G3.pem\n",
      "0\t/etc/ssl/certs/Starfield_Class_2_CA.pem\n",
      "0\t/etc/ssl/certs/9339512a.0\n",
      "4.0K\t/etc/ssl/certs/65b876bd.0\n",
      "4.0K\t/etc/ssl/certs/SwissSign_Platinum_CA_-_G2.pem\n",
      "4.0K\t/etc/ssl/certs/c679bc3f.0\n",
      "0\t/etc/ssl/certs/c47d9980.0\n",
      "0\t/etc/ssl/certs/5c44d531.0\n",
      "4.0K\t/etc/ssl/certs/VeriSign_Universal_Root_Certification_Authority.pem\n",
      "0\t/etc/ssl/certs/244b5494.0\n",
      "0\t/etc/ssl/certs/ae8153b9.1\n",
      "4.0K\t/etc/ssl/certs/Certum_Trusted_Network_CA_2.pem\n",
      "0\t/etc/ssl/certs/9007ae68.0\n",
      "4.0K\t/etc/ssl/certs/7719f463.0\n",
      "0\t/etc/ssl/certs/bc3f2570.0\n",
      "0\t/etc/ssl/certs/c99398f3.0\n",
      "0\t/etc/ssl/certs/CA_Disig_Root_R2.pem\n",
      "0\t/etc/ssl/certs/d957f522.0\n",
      "0\t/etc/ssl/certs/WoSign.pem\n",
      "0\t/etc/ssl/certs/c7e2a638.0\n",
      "4.0K\t/etc/ssl/certs/USERTrust_RSA_Certification_Authority.pem\n",
      "0\t/etc/ssl/certs/c8763593.0\n",
      "0\t/etc/ssl/certs/d853d49e.0\n",
      "0\t/etc/ssl/certs/09789157.0\n",
      "4.0K\t/etc/ssl/certs/StartCom_Certification_Authority.pem\n",
      "0\t/etc/ssl/certs/578d5c04.0\n",
      "0\t/etc/ssl/certs/6fcc125d.0\n",
      "0\t/etc/ssl/certs/TWCA_Global_Root_CA.pem\n",
      "0\t/etc/ssl/certs/1e8e7201.0\n",
      "4.0K\t/etc/ssl/certs/b204d74a.0\n",
      "0\t/etc/ssl/certs/CFCA_EV_ROOT.pem\n",
      "0\t/etc/ssl/certs/ACCVRAIZ1.pem\n",
      "4.0K\t/etc/ssl/certs/AddTrust_Qualified_Certificates_Root.pem\n",
      "0\t/etc/ssl/certs/343eb6cb.0\n",
      "0\t/etc/ssl/certs/9c8dfbd4.0\n",
      "0\t/etc/ssl/certs/b872f2b4.0\n",
      "0\t/etc/ssl/certs/7a819ef2.0\n",
      "0\t/etc/ssl/certs/3b2716e5.0\n",
      "4.0K\t/etc/ssl/certs/418595b9.0\n",
      "4.0K\t/etc/ssl/certs/E-Tugra_Certification_Authority.pem\n",
      "0\t/etc/ssl/certs/4042bcee.0\n",
      "0\t/etc/ssl/certs/3e7271e8.0\n",
      "4.0K\t/etc/ssl/certs/Verisign_Class_1_Public_Primary_Certification_Authority.pem\n",
      "0\t/etc/ssl/certs/cb59f961.0\n",
      "0\t/etc/ssl/certs/0d1b923b.0\n",
      "0\t/etc/ssl/certs/b7a5b843.0\n",
      "0\t/etc/ssl/certs/2b349938.0\n",
      "0\t/etc/ssl/certs/ee64a828.0\n",
      "0\t/etc/ssl/certs/ae8153b9.0\n",
      "0\t/etc/ssl/certs/IGC_A.pem\n",
      "4.0K\t/etc/ssl/certs/Hellenic_Academic_and_Research_Institutions_RootCA_2011.pem\n",
      "0\t/etc/ssl/certs/57692373.0\n",
      "0\t/etc/ssl/certs/ca6e4ad9.0\n",
      "0\t/etc/ssl/certs/6e8bf996.0\n",
      "0\t/etc/ssl/certs/c491639e.0\n",
      "0\t/etc/ssl/certs/b1b8a7f3.0\n",
      "0\t/etc/ssl/certs/f3377b1b.0\n",
      "0\t/etc/ssl/certs/00673b5b.0\n",
      "4.0K\t/etc/ssl/certs/TÜBİTAK_UEKAE_Kök_Sertifika_Hizmet_Sağlayıcısı_-_Sürüm_3.pem\n",
      "0\t/etc/ssl/certs/26eaad2f.0\n",
      "0\t/etc/ssl/certs/ISRG_Root_X1.pem\n",
      "4.0K\t/etc/ssl/certs/ed62f4e3.0\n",
      "0\t/etc/ssl/certs/6187b673.0\n",
      "0\t/etc/ssl/certs/d4c339cb.0\n",
      "0\t/etc/ssl/certs/ec87c655.0\n",
      "0\t/etc/ssl/certs/bdacca6f.0\n",
      "0\t/etc/ssl/certs/40547a79.0\n",
      "4.0K\t/etc/ssl/certs/thawte_Primary_Root_CA_-_G3.pem\n",
      "0\t/etc/ssl/certs/d096b3fb\n",
      "0\t/etc/ssl/certs/19c1fa33.0\n",
      "0\t/etc/ssl/certs/8867006a.0\n",
      "4.0K\t/etc/ssl/certs/Hellenic_Academic_and_Research_Institutions_RootCA_2015.pem\n",
      "4.0K\t/etc/ssl/certs/StartCom_Certification_Authority_2.pem\n",
      "0\t/etc/ssl/certs/76579174.0\n",
      "0\t/etc/ssl/certs/124bbd54.0\n",
      "0\t/etc/ssl/certs/d096b3fb.0\n",
      "4.0K\t/etc/ssl/certs/AffirmTrust_Commercial.pem\n",
      "0\t/etc/ssl/certs/d6e6eab9.0\n",
      "0\t/etc/ssl/certs/024dc131.0\n",
      "0\t/etc/ssl/certs/48a195d8.0\n",
      "0\t/etc/ssl/certs/608a55ad.0\n",
      "0\t/etc/ssl/certs/27af790d.0\n",
      "0\t/etc/ssl/certs/75d1b2ed.0\n",
      "4.0K\t/etc/ssl/certs/DigiCert_Global_Root_G3.pem\n",
      "0\t/etc/ssl/certs/dfc0fe80.0\n",
      "4.0K\t/etc/ssl/certs/Buypass_Class_2_Root_CA.pem\n",
      "0\t/etc/ssl/certs/5046c355.0\n",
      "4.0K\t/etc/ssl/certs/AffirmTrust_Premium_ECC.pem\n",
      "0\t/etc/ssl/certs/40dc992e.0\n",
      "0\t/etc/ssl/certs/fc5a8f99.0\n",
      "0\t/etc/ssl/certs/8160b96c.0\n",
      "4.0K\t/etc/ssl/certs/AddTrust_Public_Services_Root.pem\n",
      "4.0K\t/etc/ssl/certs/Deutsche_Telekom_Root_CA_2.pem\n",
      "0\t/etc/ssl/certs/5a4d6896.0\n",
      "4.0K\t/etc/ssl/certs/VeriSign_Class_3_Public_Primary_Certification_Authority_-_G4.pem\n",
      "0\t/etc/ssl/certs/e73d606e.0\n",
      "0\t/etc/ssl/certs/SZAFIR_ROOT_CA2.pem\n",
      "0\t/etc/ssl/certs/2c11d503.0\n",
      "0\t/etc/ssl/certs/b13cc6df.0\n",
      "0\t/etc/ssl/certs/3efd4dc0.0\n",
      "4.0K\t/etc/ssl/certs/0d5a4e1c.0\n",
      "0\t/etc/ssl/certs/e48193cf.0\n",
      "0\t/etc/ssl/certs/3d441de8.0\n",
      "4.0K\t/etc/ssl/certs/7d453d8f.0\n",
      "0\t/etc/ssl/certs/cb1c3204.0\n",
      "0\t/etc/ssl/certs/85cde254.0\n",
      "0\t/etc/ssl/certs/7651b327.0\n",
      "0\t/etc/ssl/certs/790a7190.0\n",
      "4.0K\t/etc/ssl/certs/IdenTrust_Commercial_Root_CA_1.pem\n",
      "4.0K\t/etc/ssl/certs/Swisscom_Root_EV_CA_2.pem\n",
      "4.0K\t/etc/ssl/certs/D-TRUST_Root_Class_3_CA_2_2009.pem\n",
      "0\t/etc/ssl/certs/3e45d192.0\n",
      "0\t/etc/ssl/certs/607986c7.0\n",
      "0\t/etc/ssl/certs/Visa_eCommerce_Root.pem\n",
      "0\t/etc/ssl/certs/XRamp_Global_CA_Root.pem\n",
      "4.0K\t/etc/ssl/certs/Sonera_Class_2_Root_CA.pem\n",
      "0\t/etc/ssl/certs/69105f4f.0\n",
      "4.0K\t/etc/ssl/certs/COMODO_ECC_Certification_Authority.pem\n",
      "4.0K\t/etc/ssl/certs/Starfield_Root_Certificate_Authority_-_G2.pem\n",
      "4.0K\t/etc/ssl/certs/1676090a.0\n",
      "0\t/etc/ssl/certs/32888f65.0\n",
      "0\t/etc/ssl/certs/4a6481c9.0\n",
      "0\t/etc/ssl/certs/5f15c80c.0\n",
      "0\t/etc/ssl/certs/9d520b32.0\n",
      "0\t/etc/ssl/certs/f060240e.0\n",
      "0\t/etc/ssl/certs/d4dae3dd.0\n",
      "0\t/etc/ssl/certs/5cf9d536.0\n",
      "0\t/etc/ssl/certs/46b2fd3b.0\n",
      "0\t/etc/ssl/certs/Secure_Global_CA.pem\n",
      "0\t/etc/ssl/certs/81b9768f.0\n",
      "0\t/etc/ssl/certs/aeb67534.0\n",
      "0\t/etc/ssl/certs/b66938e9.0\n",
      "0\t/etc/ssl/certs/119afc2e.0\n",
      "0\t/etc/ssl/certs/76faf6c0.0\n",
      "0\t/etc/ssl/certs/9685a493.0\n",
      "4.0K\t/etc/ssl/certs/9479c8c3.0\n",
      "0\t/etc/ssl/certs/e268a4c5.0\n",
      "0\t/etc/ssl/certs/653b494a.0\n",
      "0\t/etc/ssl/certs/e536d871.0\n",
      "0\t/etc/ssl/certs/9f533518.0\n",
      "0\t/etc/ssl/certs/415660c1.0\n",
      "4.0K\t/etc/ssl/certs/Entrust.net_Premium_2048_Secure_Server_CA.pem\n",
      "0\t/etc/ssl/certs/bf64f35b.0\n",
      "4.0K\t/etc/ssl/certs/GeoTrust_Primary_Certification_Authority.pem\n",
      "0\t/etc/ssl/certs/Trustis_FPS_Root_CA.pem\n",
      "0\t/etc/ssl/certs/7672ac4b.0\n",
      "4.0K\t/etc/ssl/certs/GeoTrust_Universal_CA_2.pem\n",
      "0\t/etc/ssl/certs/OpenTrust_Root_CA_G1.pem\n",
      "4.0K\t/etc/ssl/certs/DigiCert_Assured_ID_Root_G2.pem\n",
      "0\t/etc/ssl/certs/034868d6.0\n",
      "0\t/etc/ssl/certs/fde84897.0\n",
      "0\t/etc/ssl/certs/f80cc7f6.0\n",
      "4.0K\t/etc/ssl/certs/Entrust_Root_Certification_Authority_-_EC1.pem\n",
      "0\t/etc/ssl/certs/3929ec9f.0\n",
      "0\t/etc/ssl/certs/8470719d.0\n",
      "0\t/etc/ssl/certs/35105088.0\n",
      "4.0K\t/etc/ssl/certs/GlobalSign_Root_CA_-_R2.pem\n",
      "4.0K\t/etc/ssl/certs/T-TeleSec_GlobalRoot_Class_3.pem\n",
      "0\t/etc/ssl/certs/861a399d.0\n",
      "0\t/etc/ssl/certs/e18bfb83.0\n",
      "4.0K\t/etc/ssl/certs/GeoTrust_Primary_Certification_Authority_-_G2.pem\n",
      "4.0K\t/etc/ssl/certs/GlobalSign_ECC_Root_CA_-_R4.pem\n",
      "0\t/etc/ssl/certs/d6325660.0\n",
      "0\t/etc/ssl/certs/052e396b.0\n",
      "0\t/etc/ssl/certs/6b99d060.0\n",
      "0\t/etc/ssl/certs/5cd81ad7.0\n",
      "0\t/etc/ssl/certs/5ed36f99.0\n",
      "4.0K\t/etc/ssl/certs/Certification_Authority_of_WoSign_G2.pem\n",
      "0\t/etc/ssl/certs/ef954a4e.0\n",
      "4.0K\t/etc/ssl/certs/Go_Daddy_Root_Certificate_Authority_-_G2.pem\n",
      "0\t/etc/ssl/certs/fcac10e3.0\n",
      "0\t/etc/ssl/certs/8c24b137.0\n",
      "4.0K\t/etc/ssl/certs/Staat_der_Nederlanden_EV_Root_CA.pem\n",
      "4.0K\t/etc/ssl/certs/Security_Communication_Root_CA.pem\n",
      "0\t/etc/ssl/certs/OpenTrust_Root_CA_G3.pem\n",
      "0\t/etc/ssl/certs/56657bde.0\n",
      "0\t/etc/ssl/certs/6410666e.0\n",
      "4.0K\t/etc/ssl/certs/D-TRUST_Root_Class_3_CA_2_EV_2009.pem\n",
      "0\t/etc/ssl/certs/1e09d511.0\n",
      "0\t/etc/ssl/certs/93bc0acc.0\n",
      "4.0K\t/etc/ssl/certs/Camerfirma_Global_Chambersign_Root.pem\n",
      "4.0K\t/etc/ssl/certs/StartCom_Certification_Authority_G2.pem\n",
      "0\t/etc/ssl/certs/b0ed035a.0\n",
      "0\t/etc/ssl/certs/c9f83a1c.0\n",
      "4.0K\t/etc/ssl/certs/T-TeleSec_GlobalRoot_Class_2.pem\n",
      "0\t/etc/ssl/certs/a7605362.0\n",
      "0\t/etc/ssl/certs/a81e292b.0\n",
      "4.0K\t/etc/ssl/certs/S-TRUST_Universal_Root_CA.pem\n",
      "0\t/etc/ssl/certs/class3.pem\n",
      "0\t/etc/ssl/certs/2fa87019.0\n",
      "0\t/etc/ssl/certs/450c6e38.0\n",
      "0\t/etc/ssl/certs/DST_ACES_CA_X6.pem\n",
      "4.0K\t/etc/ssl/certs/Cybertrust_Global_Root.pem\n",
      "4.0K\t/etc/ssl/certs/S-TRUST_Authentication_and_Encryption_Root_CA_2005_PN.pem\n",
      "0\t/etc/ssl/certs/02b73561.0\n",
      "0\t/etc/ssl/certs/631c779f.0\n",
      "0\t/etc/ssl/certs/8d6437c3.0\n",
      "0\t/etc/ssl/certs/9c2e7d30.0\n",
      "0\t/etc/ssl/certs/c90bc37d.0\n",
      "4.0K\t/etc/ssl/certs/GlobalSign_ECC_Root_CA_-_R5.pem\n",
      "4.0K\t/etc/ssl/certs/Equifax_Secure_eBusiness_CA_1.pem\n",
      "0\t/etc/ssl/certs/9282e51c.0\n",
      "0\t/etc/ssl/certs/ef2f636c.0\n",
      "0\t/etc/ssl/certs/0c4c9b6c.0\n",
      "4.0K\t/etc/ssl/certs/GlobalSign_Root_CA_-_R3.pem\n",
      "0\t/etc/ssl/certs/930ac5d2.0\n",
      "4.0K\t/etc/ssl/certs/Comodo_Secure_Services_root.pem\n",
      "0\t/etc/ssl/certs/e2799e36.0\n",
      "0\t/etc/ssl/certs/219d9499.0\n",
      "0\t/etc/ssl/certs/ba89ed3b.0\n",
      "0\t/etc/ssl/certs/PSCProcert.pem\n",
      "0\t/etc/ssl/certs/590d426f.0\n",
      "0\t/etc/ssl/certs/QuoVadis_Root_CA_3.pem\n",
      "0\t/etc/ssl/certs/3c860d51.0\n",
      "0\t/etc/ssl/certs/e775ed2d.0\n",
      "4.0K\t/etc/ssl/certs/OISTE_WISeKey_Global_Root_GB_CA.pem\n",
      "0\t/etc/ssl/certs/spi-cacert-2008.pem\n",
      "0\t/etc/ssl/certs/2edf7016.0\n",
      "0\t/etc/ssl/certs/157753a5.0\n",
      "4.0K\t/etc/ssl/certs/Verisign_Class_3_Public_Primary_Certification_Authority.pem\n",
      "4.0K\t/etc/ssl/certs/AddTrust_External_Root.pem\n",
      "0\t/etc/ssl/certs/4f316efb.0\n",
      "0\t/etc/ssl/certs/064e0aa9.0\n",
      "4.0K\t/etc/ssl/certs/Microsec_e-Szigno_Root_CA.pem\n",
      "0\t/etc/ssl/certs/4304c5e5.0\n",
      "0\t/etc/ssl/certs/ccc52f49.0\n",
      "4.0K\t/etc/ssl/certs/Microsec_e-Szigno_Root_CA_2009.pem\n",
      "4.0K\t/etc/ssl/certs/OISTE_WISeKey_Global_Root_GA_CA.pem\n",
      "0\t/etc/ssl/certs/21855f49.0\n",
      "0\t/etc/ssl/certs/9d04f354.0\n",
      "0\t/etc/ssl/certs/86212b19.0\n",
      "0\t/etc/ssl/certs/a94d09e5.0\n",
      "0\t/etc/ssl/certs/b3fb433b.0\n",
      "0\t/etc/ssl/certs/749e9e03.0\n",
      "0\t/etc/ssl/certs/1dcd6f4c.0\n",
      "0\t/etc/ssl/certs/f61bff45.0\n",
      "0\t/etc/ssl/certs/2c543cd1.0\n",
      "0\t/etc/ssl/certs/48bec511.0\n",
      "0\t/etc/ssl/certs/4e18c148.0\n",
      "0\t/etc/ssl/certs/988a38cb.0\n",
      "0\t/etc/ssl/certs/root.pem\n",
      "0\t/etc/ssl/certs/56e29e75.0\n",
      "4.0K\t/etc/ssl/certs/d16a5865.0\n",
      "0\t/etc/ssl/certs/b0e59380.0\n",
      "0\t/etc/ssl/certs/40193066.0\n",
      "0\t/etc/ssl/certs/SecureTrust_CA.pem\n",
      "0\t/etc/ssl/certs/9dbefe7b.0\n",
      "0\t/etc/ssl/certs/f559733c.0\n",
      "0\t/etc/ssl/certs/9772ca32.0\n",
      "0\t/etc/ssl/certs/dbc54cab.0\n",
      "0\t/etc/ssl/certs/03f2b8cf.0\n",
      "4.0K\t/etc/ssl/certs/DigiCert_High_Assurance_EV_Root_CA.pem\n",
      "0\t/etc/ssl/certs/3c9a4d3b.0\n",
      "0\t/etc/ssl/certs/ComSign_CA.pem\n",
      "4.0K\t/etc/ssl/certs/Staat_der_Nederlanden_Root_CA_-_G2.pem\n",
      "4.0K\t/etc/ssl/certs/UTN_USERFirst_Email_Root_CA.pem\n",
      "0\t/etc/ssl/certs/706f604c.0\n",
      "0\t/etc/ssl/certs/d7e8dc79.0\n",
      "0\t/etc/ssl/certs/cd58d51e.0\n",
      "4.0K\t/etc/ssl/certs/Equifax_Secure_Global_eBusiness_CA.pem\n",
      "0\t/etc/ssl/certs/895cad1a.0\n",
      "4.0K\t/etc/ssl/certs/IdenTrust_Public_Sector_Root_CA_1.pem\n",
      "0\t/etc/ssl/certs/33815e15.1\n",
      "0\t/etc/ssl/certs/02265526.0\n",
      "0\t/etc/ssl/certs/89c02a45.0\n",
      "0\t/etc/ssl/certs/ed39abd0.0\n",
      "4.0K\t/etc/ssl/certs/EE_Certification_Centre_Root_CA.pem\n",
      "4.0K\t/etc/ssl/certs/SwissSign_Silver_CA_-_G2.pem\n",
      "0\t/etc/ssl/certs/2e4eed3c.0\n",
      "0\t/etc/ssl/certs/33815e15.0\n",
      "0\t/etc/ssl/certs/cbeee9e2.0\n",
      "4.0K\t/etc/ssl/certs/AC_Raíz_Certicámara_S.A..pem\n",
      "0\t/etc/ssl/certs/111e6273.0\n",
      "0\t/etc/ssl/certs/c01cdfa2.0\n",
      "0\t/etc/ssl/certs/ff783690.0\n",
      "0\t/etc/ssl/certs/AffirmTrust_Premium.pem\n",
      "0\t/etc/ssl/certs/0b1b94ef.0\n",
      "0\t/etc/ssl/certs/87229d21.0\n",
      "0\t/etc/ssl/certs/cf701eeb.0\n",
      "0\t/etc/ssl/certs/a3896b44.0\n",
      "0\t/etc/ssl/certs/ee7cd6fb.0\n",
      "4.0K\t/etc/ssl/certs/Chambers_of_Commerce_Root_-_2008.pem\n",
      "0\t/etc/ssl/certs/b727005e.0\n",
      "0\t/etc/ssl/certs/d8317ada.0\n",
      "0\t/etc/ssl/certs/c089bbbd.0\n",
      "0\t/etc/ssl/certs/bb2d49a0.0\n",
      "4.0K\t/etc/ssl/certs/China_Internet_Network_Information_Center_EV_Certificates_Root.pem\n",
      "4.0K\t/etc/ssl/certs/QuoVadis_Root_CA_2_G3.pem\n",
      "0\t/etc/ssl/certs/QuoVadis_Root_CA_2.pem\n",
      "0\t/etc/ssl/certs/961f5451.0\n",
      "0\t/etc/ssl/certs/d5727d6a.0\n",
      "0\t/etc/ssl/certs/8096d0a9.0\n",
      "0\t/etc/ssl/certs/8b59b1ad.0\n",
      "0\t/etc/ssl/certs/5f47b495.0\n",
      "4.0K\t/etc/ssl/certs/USERTrust_ECC_Certification_Authority.pem\n",
      "4.0K\t/etc/ssl/certs/facacbc6.0\n",
      "0\t/etc/ssl/certs/e8de2f56.0\n",
      "4.0K\t/etc/ssl/certs/dc45b0bd.0\n",
      "0\t/etc/ssl/certs/Buypass_Class_2_CA_1.pem\n",
      "0\t/etc/ssl/certs/ea169617.0\n",
      "0\t/etc/ssl/certs/54657681.0\n",
      "0\t/etc/ssl/certs/79ad8b43.0\n",
      "0\t/etc/ssl/certs/5a250ea7.0\n",
      "0\t/etc/ssl/certs/9cb39f00.0\n",
      "0\t/etc/ssl/certs/480720ec.0\n",
      "4.0K\t/etc/ssl/certs/SwissSign_Gold_CA_-_G2.pem\n",
      "0\t/etc/ssl/certs/eed8c118.0\n",
      "0\t/etc/ssl/certs/DST_Root_CA_X3.pem\n",
      "0\t/etc/ssl/certs/bd1910d4.0\n",
      "0\t/etc/ssl/certs/399e7759.0\n",
      "0\t/etc/ssl/certs/72f369af.0\n",
      "0\t/etc/ssl/certs/5ad8a5d6.0\n",
      "0\t/etc/ssl/certs/Equifax_Secure_CA.pem\n",
      "0\t/etc/ssl/certs/91739615.0\n",
      "4.0K\t/etc/ssl/certs/COMODO_Certification_Authority.pem\n",
      "4.0K\t/etc/ssl/certs/EBG_Elektronik_Sertifika_Hizmet_Sağlayıcısı.pem\n",
      "4.0K\t/etc/ssl/certs/Comodo_Trusted_Services_root.pem\n",
      "0\t/etc/ssl/certs/2ae6433e.0\n",
      "0\t/etc/ssl/certs/a2df7ad7.0\n",
      "0\t/etc/ssl/certs/128805a3.0\n",
      "0\t/etc/ssl/certs/63a2c897.0\n",
      "0\t/etc/ssl/certs/76cb8f92.0\n",
      "0\t/etc/ssl/certs/87753b0d.0\n",
      "0\t/etc/ssl/certs/SecureSign_RootCA11.pem\n",
      "272K\t/etc/ssl/certs/ca-certificates.crt\n",
      "0\t/etc/ssl/certs/1f58a078.0\n",
      "0\t/etc/ssl/certs/1eb37bdf.0\n",
      "0\t/etc/ssl/certs/0810ba98.0\n",
      "4.0K\t/etc/ssl/certs/Starfield_Services_Root_Certificate_Authority_-_G2.pem\n",
      "0\t/etc/ssl/certs/2d9dafe4.0\n",
      "0\t/etc/ssl/certs/74c26bd0.0\n",
      "0\t/etc/ssl/certs/c5e082db.0\n",
      "0\t/etc/ssl/certs/667c66d4.0\n",
      "4.0K\t/etc/ssl/certs/Security_Communication_EV_RootCA1.pem\n",
      "0\t/etc/ssl/certs/02756ea4.0\n",
      "4.0K\t/etc/ssl/certs/Atos_TrustedRoot_2011.pem\n",
      "0\t/etc/ssl/certs/9ab62355.0\n",
      "0\t/etc/ssl/certs/1e1eab7c.0\n",
      "0\t/etc/ssl/certs/5d63b0ae.0\n",
      "4.0K\t/etc/ssl/certs/thawte_Primary_Root_CA.pem\n",
      "4.0K\t/etc/ssl/certs/Verisign_Class_1_Public_Primary_Certification_Authority_-_G3.pem\n",
      "0\t/etc/ssl/certs/d7746a63.0\n",
      "0\t/etc/ssl/certs/062cdee6.0\n",
      "0\t/etc/ssl/certs/9ec3a561.0\n",
      "4.0K\t/etc/ssl/certs/DigiCert_Assured_ID_Root_CA.pem\n",
      "4.0K\t/etc/ssl/certs/VeriSign_Class_3_Public_Primary_Certification_Authority_-_G5.pem\n",
      "0\t/etc/ssl/certs/e8651083.0\n",
      "0\t/etc/ssl/certs/524d9b43.0\n",
      "4.0K\t/etc/ssl/certs/d78a75c7.0\n",
      "0\t/etc/ssl/certs/QuoVadis_Root_CA.pem\n",
      "4.0K\t/etc/ssl/certs/GeoTrust_Universal_CA.pem\n",
      "0\t/etc/ssl/certs/1df5a75f.0\n",
      "0\t/etc/ssl/certs/GeoTrust_Global_CA.pem\n",
      "0\t/etc/ssl/certs/594f1775.0\n",
      "4.0K\t/etc/ssl/certs/Staat_der_Nederlanden_Root_CA_-_G3.pem\n",
      "4.0K\t/etc/ssl/certs/Comodo_AAA_Services_root.pem\n",
      "4.0K\t/etc/ssl/certs/Entrust_Root_Certification_Authority_-_G2.pem\n",
      "4.0K\t/etc/ssl/certs/Actalis_Authentication_Root_CA.pem\n",
      "0\t/etc/ssl/certs/e5662767.0\n",
      "0\t/etc/ssl/certs/cbf06781.0\n",
      "0\t/etc/ssl/certs/1d3472b9.0\n",
      "0\t/etc/ssl/certs/9576d26b.0\n",
      "0\t/etc/ssl/certs/fac084d7.0\n",
      "0\t/etc/ssl/certs/58a44af1.0\n",
      "0\t/etc/ssl/certs/b7db1890.0\n",
      "0\t/etc/ssl/certs/c28a8a30.0\n",
      "4.0K\t/etc/ssl/certs/Verisign_Class_2_Public_Primary_Certification_Authority_-_G2.pem\n",
      "0\t/etc/ssl/certs/442adcac.0\n",
      "0\t/etc/ssl/certs/GlobalSign_Root_CA.pem\n",
      "4.0K\t/etc/ssl/certs/ApplicationCA_-_Japanese_Government.pem\n",
      "4.0K\t/etc/ssl/certs/AffirmTrust_Networking.pem\n",
      "0\t/etc/ssl/certs/Certplus_Root_CA_G2.pem\n",
      "0\t/etc/ssl/certs/Taiwan_GRCA.pem\n",
      "0\t/etc/ssl/certs/ee90b008.0\n",
      "0\t/etc/ssl/certs/f90208f7.0\n",
      "0\t/etc/ssl/certs/a2c66da8.0\n",
      "0\t/etc/ssl/certs/75680d2e.0\n",
      "0\t/etc/ssl/certs/d06393bb.0\n",
      "0\t/etc/ssl/certs/ab5346f4.0\n",
      "0\t/etc/ssl/certs/b0f3e76e.0\n",
      "0\t/etc/ssl/certs/Izenpe.com.pem\n",
      "0\t/etc/ssl/certs/a760e1bd.0\n",
      "0\t/etc/ssl/certs/d59297b8.0\n",
      "0\t/etc/ssl/certs/Certinomis_-_Root_CA.pem\n",
      "0\t/etc/ssl/certs/262ba90f.0\n",
      "0\t/etc/ssl/certs/3a3b02ce.0\n",
      "0\t/etc/ssl/certs/451b5485.0\n",
      "0\t/etc/ssl/certs/9f0f5fd6.0\n",
      "0\t/etc/ssl/certs/certSIGN_ROOT_CA.pem\n",
      "4.0K\t/etc/ssl/certs/thawte_Primary_Root_CA_-_G2.pem\n",
      "0\t/etc/ssl/certs/cb156124.0\n",
      "0\t/etc/ssl/certs/f38a011e.0\n",
      "4.0K\t/etc/ssl/certs/3bde41ac.0\n",
      "0\t/etc/ssl/certs/f30dd6ad.0\n",
      "0\t/etc/ssl/certs/5443e9e3.0\n",
      "4.0K\t/etc/ssl/certs/WellsSecure_Public_Root_Certificate_Authority.pem\n",
      "0\t/etc/ssl/certs/0d69c7e1.0\n",
      "0\t/etc/ssl/certs/57bbd831.0\n",
      "0\t/etc/ssl/certs/2e5ac55d.0\n",
      "0\t/etc/ssl/certs/e7b8d656.0\n",
      "4.0K\t/etc/ssl/certs/Root_CA_Generalitat_Valenciana.pem\n",
      "0\t/etc/ssl/certs/e60bf0c0.0\n",
      "0\t/etc/ssl/certs/a8dee976.0\n",
      "0\t/etc/ssl/certs/3ad48a91.0\n",
      "0\t/etc/ssl/certs/882de061.0\n",
      "4.0K\t/etc/ssl/certs/5e4e69e7.0\n",
      "4.0K\t/etc/ssl/certs/TURKTRUST_Certificate_Services_Provider_Root_2007.pem\n",
      "0\t/etc/ssl/certs/9168f543.0\n",
      "0\t/etc/ssl/certs/1636090b.0\n",
      "0\t/etc/ssl/certs/82223c44.0\n",
      "4.0K\t/etc/ssl/certs/GeoTrust_Primary_Certification_Authority_-_G3.pem\n",
      "0\t/etc/ssl/certs/080911ac.0\n",
      "4.0K\t/etc/ssl/certs/Certplus_Class_2_Primary_CA.pem\n",
      "4.0K\t/etc/ssl/certs/7d0b38bd.0\n",
      "4.0K\t/etc/ssl/certs/Autoridad_de_Certificacion_Firmaprofesional_CIF_A62634068.pem\n",
      "0\t/etc/ssl/certs/5620c4aa.0\n",
      "4.0K\t/etc/ssl/certs/Baltimore_CyberTrust_Root.pem\n",
      "0\t/etc/ssl/certs/aee5f10d.0\n",
      "4.0K\t/etc/ssl/certs/Verisign_Class_3_Public_Primary_Certification_Authority_-_G3.pem\n",
      "0\t/etc/ssl/certs/f387163d.0\n",
      "0\t/etc/ssl/certs/fe8a2cd8.0\n",
      "0\t/etc/ssl/certs/5273a94c.0\n",
      "0\t/etc/ssl/certs/d66b55d9.0\n",
      "4.0K\t/etc/ssl/certs/1874d4aa.0\n",
      "0\t/etc/ssl/certs/1dac3003.0\n",
      "4.0K\t/etc/ssl/certs/TC_TrustCenter_Class_3_CA_II.pem\n",
      "0\t/etc/ssl/certs/OpenTrust_Root_CA_G2.pem\n",
      "0\t/etc/ssl/certs/d18e9066.0\n",
      "0\t/etc/ssl/certs/23f4c490.0\n",
      "4.0K\t/etc/ssl/certs/TÜRKTRUST_Elektronik_Sertifika_Hizmet_Sağlayıcısı_H5.pem\n",
      "0\t/etc/ssl/certs/Go_Daddy_Class_2_CA.pem\n",
      "0\t/etc/ssl/certs/381ce4dd.0\n",
      "4.0K\t/etc/ssl/certs/6645de82.0\n",
      "0\t/etc/ssl/certs/a0bc6fbb.0\n",
      "4.0K\t/etc/ssl/certs/TeliaSonera_Root_CA_v1.pem\n",
      "0\t/etc/ssl/certs/Certigna.pem\n",
      "4.0K\t/etc/ssl/certs/Network_Solutions_Certificate_Authority.pem\n",
      "0\t/etc/ssl/certs/03179a64.0\n",
      "0\t/etc/ssl/certs/17b51fe6.0\n",
      "4.0K\t/etc/ssl/certs/Certum_Trusted_Network_CA.pem\n",
      "4.0K\t/etc/ssl/certs/DigiCert_Assured_ID_Root_G3.pem\n",
      "0\t/etc/ssl/certs/2add47b6.0\n",
      "4.0K\t/etc/ssl/certs/11f154d6.0\n",
      "0\t/etc/ssl/certs/cc450945.0\n",
      "0\t/etc/ssl/certs/e36a6752.0\n",
      "4.0K\t/etc/ssl/certs/UTN_USERFirst_Hardware_Root_CA.pem\n",
      "0\t/etc/ssl/certs/6f2c1157.0\n",
      "0\t/etc/ssl/certs/7f3d5d1d.0\n",
      "0\t/etc/ssl/certs/3ee7e181.0\n",
      "4.0K\t/etc/ssl/certs/Camerfirma_Chambers_of_Commerce_Root.pem\n",
      "0\t/etc/ssl/certs/GeoTrust_Global_CA_2.pem\n",
      "0\t/etc/ssl/certs/1e08bfd1.0\n",
      "0\t/etc/ssl/certs/592c0a9a.0\n",
      "0\t/etc/ssl/certs/4be590e0.0\n",
      "4.0K\t/etc/ssl/certs/TÜRKTRUST_Elektronik_Sertifika_Hizmet_Sağlayıcısı_H6.pem\n",
      "0\t/etc/ssl/certs/CA_Disig_Root_R1.pem\n",
      "0\t/etc/ssl/certs/Swisscom_Root_CA_2.pem\n",
      "0\t/etc/ssl/certs/95aff9e3.0\n",
      "4.0K\t/etc/ssl/certs/c0ff1f52.0\n",
      "0\t/etc/ssl/certs/CNNIC_ROOT.pem\n",
      "4.0K\t/etc/ssl/certs/DigiCert_Trusted_Root_G4.pem\n",
      "4.0K\t/etc/ssl/certs/Hellenic_Academic_and_Research_Institutions_ECC_RootCA_2015.pem\n",
      "4.0K\t/etc/ssl/certs/Certinomis_-_Autorité_Racine.pem\n",
      "4.0K\t/etc/ssl/certs/Verisign_Class_2_Public_Primary_Certification_Authority_-_G3.pem\n",
      "0\t/etc/ssl/certs/cfa1c2ee.0\n",
      "212K\t/etc/ssl/certs/java/cacerts\n",
      "216K\t/etc/ssl/certs/java\n",
      "4.0K\t/etc/ssl/certs/ssl-cert-snakeoil.pem\n",
      "4.0K\t/etc/ssl/certs/QuoVadis_Root_CA_3_G3.pem\n",
      "0\t/etc/ssl/certs/3c58f906.0\n",
      "4.0K\t/etc/ssl/certs/Entrust_Root_Certification_Authority.pem\n",
      "0\t/etc/ssl/certs/dc99f41e.0\n",
      "0\t/etc/ssl/certs/9c3323d4.0\n",
      "0\t/etc/ssl/certs/60afe812.0\n",
      "0\t/etc/ssl/certs/f081611a.0\n",
      "4.0K\t/etc/ssl/certs/TWCA_Root_Certification_Authority.pem\n",
      "0\t/etc/ssl/certs/e442e424.0\n",
      "4.0K\t/etc/ssl/certs/AddTrust_Low-Value_Services_Root.pem\n",
      "0\t/etc/ssl/certs/EC-ACC.pem\n",
      "0\t/etc/ssl/certs/349f2832.0\n",
      "0\t/etc/ssl/certs/5a3f0ff8.0\n",
      "0\t/etc/ssl/certs/10531352.0\n",
      "0\t/etc/ssl/certs/WoSign_China.pem\n",
      "0\t/etc/ssl/certs/12d55845.0\n",
      "0\t/etc/ssl/certs/57bcb2da.0\n",
      "0\t/etc/ssl/certs/455f1b52.0\n",
      "0\t/etc/ssl/certs/116bf586.0\n",
      "0\t/etc/ssl/certs/18856ac4.0\n",
      "0\t/etc/ssl/certs/3c6676aa.0\n",
      "0\t/etc/ssl/certs/ad088e1d.0\n",
      "0\t/etc/ssl/certs/4bfab552.0\n",
      "0\t/etc/ssl/certs/c5d3212a.0\n",
      "0\t/etc/ssl/certs/106f3e4d.0\n",
      "1.1M\t/etc/ssl/certs\n",
      "12K\t/etc/ssl/openssl.cnf\n",
      "1.1M\t/etc/ssl\n",
      "44K\t/etc/mailcap\n",
      "4.0K\t/etc/cron.daily/bsdmainutils\n",
      "4.0K\t/etc/cron.daily/aptitude\n",
      "4.0K\t/etc/cron.daily/ntp\n",
      "4.0K\t/etc/cron.daily/popularity-contest\n",
      "0\t/etc/cron.daily/google-chrome\n",
      "4.0K\t/etc/cron.daily/logrotate\n",
      "4.0K\t/etc/cron.daily/cracklib-runtime\n",
      "4.0K\t/etc/cron.daily/0anacron\n",
      "16K\t/etc/cron.daily/slack\n",
      "16K\t/etc/cron.daily/apt\n",
      "4.0K\t/etc/cron.daily/samba\n",
      "4.0K\t/etc/cron.daily/man-db\n",
      "4.0K\t/etc/cron.daily/mlocate\n",
      "8.0K\t/etc/cron.daily/exim4-base\n",
      "4.0K\t/etc/cron.daily/dpkg\n",
      "4.0K\t/etc/cron.daily/apache2\n",
      "4.0K\t/etc/cron.daily/.placeholder\n",
      "4.0K\t/etc/cron.daily/passwd\n",
      "100K\t/etc/cron.daily\n",
      "4.0K\t/etc/UPower/UPower.conf\n",
      "8.0K\t/etc/UPower\n",
      "8.0K\t/etc/hddtemp.db\n",
      "4.0K\t/etc/modules\n",
      "4.0K\t/etc/default/bsdmainutils\n",
      "4.0K\t/etc/default/ssh\n",
      "4.0K\t/etc/default/nfs-common\n",
      "4.0K\t/etc/default/uwsgi\n",
      "4.0K\t/etc/default/anacron\n",
      "4.0K\t/etc/default/ntp\n",
      "4.0K\t/etc/default/networking\n",
      "4.0K\t/etc/default/devpts\n",
      "4.0K\t/etc/default/rsyslog\n",
      "4.0K\t/etc/default/google-chrome\n",
      "4.0K\t/etc/default/rcS\n",
      "4.0K\t/etc/default/nss\n",
      "4.0K\t/etc/default/slack\n",
      "4.0K\t/etc/default/cacerts\n",
      "4.0K\t/etc/default/grub\n",
      "4.0K\t/etc/default/fail2ban\n",
      "4.0K\t/etc/default/bluetooth\n",
      "4.0K\t/etc/default/dbus\n",
      "4.0K\t/etc/default/useradd\n",
      "4.0K\t/etc/default/gdomap\n",
      "4.0K\t/etc/default/neo4j\n",
      "4.0K\t/etc/default/avahi-daemon\n",
      "4.0K\t/etc/default/cron\n",
      "4.0K\t/etc/default/rdnssd\n",
      "4.0K\t/etc/default/hwclock\n",
      "4.0K\t/etc/default/keyboard\n",
      "4.0K\t/etc/default/crda\n",
      "4.0K\t/etc/default/exim4\n",
      "4.0K\t/etc/default/kdm.d/10_desktop-base\n",
      "8.0K\t/etc/default/kdm.d\n",
      "4.0K\t/etc/default/saned\n",
      "4.0K\t/etc/default/nginx-debug\n",
      "4.0K\t/etc/default/fglrx-atieventsd\n",
      "4.0K\t/etc/default/halt\n",
      "4.0K\t/etc/default/hddtemp\n",
      "4.0K\t/etc/default/rsync\n",
      "4.0K\t/etc/default/apache2\n",
      "4.0K\t/etc/default/locale\n",
      "4.0K\t/etc/default/tmpfs\n",
      "4.0K\t/etc/default/nginx\n",
      "4.0K\t/etc/default/acpid\n",
      "4.0K\t/etc/default/console-setup\n",
      "4.0K\t/etc/default/winbind\n",
      "4.0K\t/etc/default/minissdpd\n",
      "4.0K\t/etc/default/speech-dispatcher\n",
      "184K\t/etc/default\n",
      "8.0K\t/etc/timidity/freepats.cfg\n",
      "12K\t/etc/timidity\n",
      "0\t/etc/ifplugd/action.d/action_wpa\n",
      "4.0K\t/etc/ifplugd/action.d\n",
      "8.0K\t/etc/ifplugd\n",
      "8.0K\t/etc/wgetrc\n",
      "8.0K\t/etc/xdg/menus/cinnamon-applications.menu\n",
      "0\t/etc/xdg/menus/cinnamon-applications-merged\n",
      "4.0K\t/etc/xdg/menus/cinnamoncc.menu\n",
      "16K\t/etc/xdg/menus\n",
      "4.0K\t/etc/xdg/mimeapps.list\n",
      "8.0K\t/etc/xdg/autostart/gnome-keyring-gpg.desktop\n",
      "4.0K\t/etc/xdg/autostart/zeitgeist-datahub.desktop\n",
      "8.0K\t/etc/xdg/autostart/polkit-gnome-authentication-agent-1.desktop\n",
      "8.0K\t/etc/xdg/autostart/nm-applet.desktop\n",
      "4.0K\t/etc/xdg/autostart/orca-autostart.desktop\n",
      "8.0K\t/etc/xdg/autostart/print-applet.desktop\n",
      "4.0K\t/etc/xdg/autostart/pulseaudio-kde.desktop\n",
      "4.0K\t/etc/xdg/autostart/pulseaudio.desktop\n",
      "4.0K\t/etc/xdg/autostart/caribou-autostart.desktop\n",
      "8.0K\t/etc/xdg/autostart/gsettings-data-convert.desktop\n",
      "12K\t/etc/xdg/autostart/user-dirs-update-gtk.desktop\n",
      "4.0K\t/etc/xdg/autostart/at-spi-dbus-bus.desktop\n",
      "8.0K\t/etc/xdg/autostart/gnome-keyring-ssh.desktop\n",
      "8.0K\t/etc/xdg/autostart/gnome-keyring-secrets.desktop\n",
      "8.0K\t/etc/xdg/autostart/gnome-keyring-pkcs11.desktop\n",
      "8.0K\t/etc/xdg/autostart/cinnamon-sound-applet.desktop\n",
      "112K\t/etc/xdg/autostart\n",
      "4.0K\t/etc/xdg/user-dirs.defaults\n",
      "0\t/etc/xdg/systemd/user\n",
      "4.0K\t/etc/xdg/systemd\n",
      "4.0K\t/etc/xdg/user-dirs.conf\n",
      "148K\t/etc/xdg\n",
      "4.0K\t/etc/pam.conf\n",
      "4.0K\t/etc/bash.bashrc\n",
      "0\t/etc/.pwd.lock\n",
      "4.0K\t/etc/java-6-sun\n",
      "8.0K\t/etc/teamviewer/global.conf\n",
      "12K\t/etc/teamviewer\n",
      "0\t/etc/rc0.d/K10halt\n",
      "0\t/etc/rc0.d/K06nfs-common\n",
      "0\t/etc/rc0.d/K03sendsigs\n",
      "0\t/etc/rc0.d/K01nginx\n",
      "0\t/etc/rc0.d/K07networking\n",
      "0\t/etc/rc0.d/K01cgmanager\n",
      "0\t/etc/rc0.d/K01minissdpd\n",
      "0\t/etc/rc0.d/K02postgresql\n",
      "0\t/etc/rc0.d/K01saned\n",
      "0\t/etc/rc0.d/K02avahi-daemon\n",
      "0\t/etc/rc0.d/K06rpcbind\n",
      "0\t/etc/rc0.d/K01rdnssd\n",
      "0\t/etc/rc0.d/K01smbd\n",
      "0\t/etc/rc0.d/K01cgproxy\n",
      "0\t/etc/rc0.d/K01cups-browsed\n",
      "0\t/etc/rc0.d/K02mysql\n",
      "0\t/etc/rc0.d/K01fail2ban\n",
      "0\t/etc/rc0.d/K01samba-ad-dc\n",
      "0\t/etc/rc0.d/K01neo4j\n",
      "4.0K\t/etc/rc0.d/README\n",
      "0\t/etc/rc0.d/K01hddtemp\n",
      "0\t/etc/rc0.d/K01unattended-upgrades\n",
      "0\t/etc/rc0.d/K01bluetooth\n",
      "0\t/etc/rc0.d/K01atd\n",
      "0\t/etc/rc0.d/K01lightdm\n",
      "0\t/etc/rc0.d/K01uwsgi\n",
      "0\t/etc/rc0.d/K01mongodb\n",
      "0\t/etc/rc0.d/K01apache2\n",
      "0\t/etc/rc0.d/K05umountnfs.sh\n",
      "0\t/etc/rc0.d/K08umountfs\n",
      "0\t/etc/rc0.d/K09umountroot\n",
      "0\t/etc/rc0.d/K01gdomap\n",
      "0\t/etc/rc0.d/K01nmbd\n",
      "0\t/etc/rc0.d/K01plymouth\n",
      "0\t/etc/rc0.d/K01alsa-utils\n",
      "0\t/etc/rc0.d/K04rsyslog\n",
      "0\t/etc/rc0.d/K01fglrx-atieventsd\n",
      "0\t/etc/rc0.d/K01network-manager\n",
      "0\t/etc/rc0.d/K01winbind\n",
      "0\t/etc/rc0.d/K01speech-dispatcher\n",
      "0\t/etc/rc0.d/K01urandom\n",
      "0\t/etc/rc0.d/K01exim4\n",
      "0\t/etc/rc0.d/K01uuidd\n",
      "0\t/etc/rc0.d/K07hwclock.sh\n",
      "0\t/etc/rc0.d/K01ctxusbd\n",
      "8.0K\t/etc/rc0.d\n",
      "8.0K\t/etc/xboard/xboard.conf\n",
      "12K\t/etc/xboard\n",
      "4.0K\t/etc/host.conf\n",
      "4.0K\t/etc/systemd/resolved.conf\n",
      "4.0K\t/etc/systemd/user.conf\n",
      "4.0K\t/etc/systemd/ntp-units.d\n",
      "4.0K\t/etc/systemd/system.conf\n",
      "0\t/etc/systemd/system/shutdown.target.wants/unattended-upgrades.service\n",
      "4.0K\t/etc/systemd/system/shutdown.target.wants\n",
      "0\t/etc/systemd/system/dbus-org.freedesktop.ModemManager1.service\n",
      "0\t/etc/systemd/system/sockets.target.wants/uuidd.socket\n",
      "0\t/etc/systemd/system/sockets.target.wants/cups.socket\n",
      "0\t/etc/systemd/system/sockets.target.wants/avahi-daemon.socket\n",
      "0\t/etc/systemd/system/sockets.target.wants/acpid.socket\n",
      "4.0K\t/etc/systemd/system/sockets.target.wants\n",
      "0\t/etc/systemd/system/syslog.service\n",
      "0\t/etc/systemd/system/getty.target.wants/getty@tty1.service\n",
      "4.0K\t/etc/systemd/system/getty.target.wants\n",
      "0\t/etc/systemd/system/display-manager.service\n",
      "0\t/etc/systemd/system/graphical.target.wants/accounts-daemon.service\n",
      "4.0K\t/etc/systemd/system/graphical.target.wants\n",
      "0\t/etc/systemd/system/paths.target.wants/cups.path\n",
      "0\t/etc/systemd/system/paths.target.wants/acpid.path\n",
      "4.0K\t/etc/systemd/system/paths.target.wants\n",
      "0\t/etc/systemd/system/dbus-org.bluez.service\n",
      "0\t/etc/systemd/system/poweroff.target.wants/hwclock-save.service\n",
      "4.0K\t/etc/systemd/system/poweroff.target.wants\n",
      "0\t/etc/systemd/system/hybrid-sleep.target.wants/anacron-resume.service\n",
      "4.0K\t/etc/systemd/system/hybrid-sleep.target.wants\n",
      "0\t/etc/systemd/system/halt.target.wants/hwclock-save.service\n",
      "4.0K\t/etc/systemd/system/halt.target.wants\n",
      "0\t/etc/systemd/system/multi-user.target.wants/rsyslog.service\n",
      "0\t/etc/systemd/system/multi-user.target.wants/vboxdrv.service\n",
      "0\t/etc/systemd/system/multi-user.target.wants/cups-browsed.service\n",
      "0\t/etc/systemd/system/multi-user.target.wants/ModemManager.service\n",
      "0\t/etc/systemd/system/multi-user.target.wants/avahi-daemon.service\n",
      "0\t/etc/systemd/system/multi-user.target.wants/atd.service\n",
      "0\t/etc/systemd/system/multi-user.target.wants/remote-fs.target\n",
      "0\t/etc/systemd/system/multi-user.target.wants/anacron.service\n",
      "0\t/etc/systemd/system/multi-user.target.wants/pppd-dns.service\n",
      "0\t/etc/systemd/system/multi-user.target.wants/NetworkManager.service\n",
      "0\t/etc/systemd/system/multi-user.target.wants/postgresql.service\n",
      "0\t/etc/systemd/system/multi-user.target.wants/vboxballoonctrl-service.service\n",
      "0\t/etc/systemd/system/multi-user.target.wants/nginx.service\n",
      "0\t/etc/systemd/system/multi-user.target.wants/cron.service\n",
      "0\t/etc/systemd/system/multi-user.target.wants/vboxweb-service.service\n",
      "0\t/etc/systemd/system/multi-user.target.wants/lm-sensors.service\n",
      "0\t/etc/systemd/system/multi-user.target.wants/ssh.service\n",
      "0\t/etc/systemd/system/multi-user.target.wants/mongodb.service\n",
      "0\t/etc/systemd/system/multi-user.target.wants/vboxautostart-service.service\n",
      "4.0K\t/etc/systemd/system/multi-user.target.wants\n",
      "0\t/etc/systemd/system/dbus-org.freedesktop.Avahi.service\n",
      "0\t/etc/systemd/system/bluetooth.target.wants/bluetooth.service\n",
      "4.0K\t/etc/systemd/system/bluetooth.target.wants\n",
      "0\t/etc/systemd/system/reboot.target.wants/hwclock-save.service\n",
      "4.0K\t/etc/systemd/system/reboot.target.wants\n",
      "0\t/etc/systemd/system/sshd.service\n",
      "0\t/etc/systemd/system/dbus-org.freedesktop.nm-dispatcher.service\n",
      "0\t/etc/systemd/system/suspend.target.wants/anacron-resume.service\n",
      "4.0K\t/etc/systemd/system/suspend.target.wants\n",
      "0\t/etc/systemd/system/hibernate.target.wants/anacron-resume.service\n",
      "4.0K\t/etc/systemd/system/hibernate.target.wants\n",
      "0\t/etc/systemd/system/printer.target.wants/cups.service\n",
      "4.0K\t/etc/systemd/system/printer.target.wants\n",
      "60K\t/etc/systemd/system\n",
      "4.0K\t/etc/systemd/logind.conf\n",
      "4.0K\t/etc/systemd/user\n",
      "4.0K\t/etc/systemd/timesyncd.conf\n",
      "4.0K\t/etc/systemd/journald.conf\n",
      "4.0K\t/etc/systemd/network\n",
      "4.0K\t/etc/systemd/bootchart.conf\n",
      "104K\t/etc/systemd\n",
      "4.0K\t/etc/geoclue/geoclue.conf\n",
      "8.0K\t/etc/geoclue\n",
      "4.0K\t/etc/netscsid.conf\n",
      "4.0K\t/etc/vdpau_wrapper.cfg\n",
      "4.0K\t/etc/request-key.d/id_resolver.conf\n",
      "4.0K\t/etc/request-key.d/cifs.spnego.conf\n",
      "4.0K\t/etc/request-key.d/cifs.idmap.conf\n",
      "16K\t/etc/request-key.d\n",
      "0\t/etc/rc2.d/S04avahi-daemon\n",
      "0\t/etc/rc2.d/S01mongodb\n",
      "0\t/etc/rc2.d/S01minissdpd\n",
      "0\t/etc/rc2.d/S01cgmanager\n",
      "0\t/etc/rc2.d/S05cups\n",
      "0\t/etc/rc2.d/S03fail2ban\n",
      "0\t/etc/rc2.d/S01uuidd\n",
      "0\t/etc/rc2.d/S06smbd\n",
      "0\t/etc/rc2.d/S01bootlogs\n",
      "0\t/etc/rc2.d/S04cron\n",
      "0\t/etc/rc2.d/S01rsyslog\n",
      "0\t/etc/rc2.d/S07rmnologin\n",
      "0\t/etc/rc2.d/S03mysql\n",
      "0\t/etc/rc2.d/S03ssh\n",
      "0\t/etc/rc2.d/S03rsync\n",
      "0\t/etc/rc2.d/S07rc.local\n",
      "0\t/etc/rc2.d/S01nginx\n",
      "0\t/etc/rc2.d/S03winbind\n",
      "0\t/etc/rc2.d/S03fglrx-atieventsd\n",
      "4.0K\t/etc/rc2.d/README\n",
      "0\t/etc/rc2.d/S05saned\n",
      "0\t/etc/rc2.d/S03postgresql\n",
      "0\t/etc/rc2.d/S03ntp\n",
      "0\t/etc/rc2.d/S03anacron\n",
      "0\t/etc/rc2.d/S03atd\n",
      "0\t/etc/rc2.d/S03gdomap\n",
      "0\t/etc/rc2.d/S03speech-dispatcher\n",
      "0\t/etc/rc2.d/S04bluetooth\n",
      "0\t/etc/rc2.d/S04exim4\n",
      "0\t/etc/rc2.d/S03neo4j\n",
      "0\t/etc/rc2.d/S02apache2\n",
      "0\t/etc/rc2.d/S04lightdm\n",
      "0\t/etc/rc2.d/S03dbus\n",
      "0\t/etc/rc2.d/S03cgproxy\n",
      "0\t/etc/rc2.d/S05cups-browsed\n",
      "0\t/etc/rc2.d/S01uwsgi\n",
      "0\t/etc/rc2.d/S01samba-ad-dc\n",
      "0\t/etc/rc2.d/S03acpid\n",
      "0\t/etc/rc2.d/S01nmbd\n",
      "0\t/etc/rc2.d/S04network-manager\n",
      "0\t/etc/rc2.d/S07plymouth\n",
      "0\t/etc/rc2.d/S01ctxusbd\n",
      "0\t/etc/rc2.d/S01motd\n",
      "0\t/etc/rc2.d/S03hddtemp\n",
      "8.0K\t/etc/rc2.d\n",
      "4.0K\t/etc/NetworkManager/VPN/nm-pptp-service.name\n",
      "8.0K\t/etc/NetworkManager/VPN\n",
      "4.0K\t/etc/NetworkManager/system-connections/Wired connection 1\n",
      "8.0K\t/etc/NetworkManager/system-connections\n",
      "4.0K\t/etc/NetworkManager/NetworkManager.conf\n",
      "4.0K\t/etc/NetworkManager/dispatcher.d/pre-down.d\n",
      "4.0K\t/etc/NetworkManager/dispatcher.d/pre-up.d\n",
      "4.0K\t/etc/NetworkManager/dispatcher.d/01ifupdown\n",
      "16K\t/etc/NetworkManager/dispatcher.d\n",
      "4.0K\t/etc/NetworkManager/conf.d\n",
      "44K\t/etc/NetworkManager\n",
      "0\t/etc/modules-load.d/modules.conf\n",
      "4.0K\t/etc/modules-load.d/cups-filters.conf\n",
      "8.0K\t/etc/modules-load.d\n",
      "12K\t/etc/sensors3.conf\n",
      "4.0K\t/etc/acpi/powerbtn-acpi-support.sh\n",
      "4.0K\t/etc/acpi/events/powerbtn-acpi-support\n",
      "8.0K\t/etc/acpi/events\n",
      "16K\t/etc/acpi\n",
      "4.0K\t/etc/iproute2/rt_dsfield\n",
      "4.0K\t/etc/iproute2/rt_protos\n",
      "4.0K\t/etc/iproute2/rt_tables\n",
      "4.0K\t/etc/iproute2/ematch_map\n",
      "4.0K\t/etc/iproute2/rt_realms\n",
      "4.0K\t/etc/iproute2/rt_scopes\n",
      "4.0K\t/etc/iproute2/group\n",
      "32K\t/etc/iproute2\n",
      "8.0K\t/etc/GNUstep/GNUstep.conf\n",
      "4.0K\t/etc/GNUstep/gdomap_probes\n",
      "16K\t/etc/GNUstep\n",
      "4.0K\t/etc/profile.d/vte-2.91.sh\n",
      "4.0K\t/etc/profile.d/bash_completion.sh\n",
      "4.0K\t/etc/profile.d/vte.sh\n",
      "16K\t/etc/profile.d\n",
      "4.0K\t/etc/rsyslog.d\n",
      "0\t/etc/rc3.d/S04avahi-daemon\n",
      "0\t/etc/rc3.d/S01mongodb\n",
      "0\t/etc/rc3.d/S01minissdpd\n",
      "0\t/etc/rc3.d/S01cgmanager\n",
      "0\t/etc/rc3.d/S05cups\n",
      "0\t/etc/rc3.d/S03fail2ban\n",
      "0\t/etc/rc3.d/S01uuidd\n",
      "0\t/etc/rc3.d/S06smbd\n",
      "0\t/etc/rc3.d/S01bootlogs\n",
      "0\t/etc/rc3.d/S04cron\n",
      "0\t/etc/rc3.d/S01rsyslog\n",
      "0\t/etc/rc3.d/S07rmnologin\n",
      "0\t/etc/rc3.d/S03mysql\n",
      "0\t/etc/rc3.d/S03ssh\n",
      "0\t/etc/rc3.d/S03rsync\n",
      "0\t/etc/rc3.d/S07rc.local\n",
      "0\t/etc/rc3.d/S01nginx\n",
      "0\t/etc/rc3.d/S03winbind\n",
      "0\t/etc/rc3.d/S03fglrx-atieventsd\n",
      "4.0K\t/etc/rc3.d/README\n",
      "0\t/etc/rc3.d/S05saned\n",
      "0\t/etc/rc3.d/S03postgresql\n",
      "0\t/etc/rc3.d/S03ntp\n",
      "0\t/etc/rc3.d/S03anacron\n",
      "0\t/etc/rc3.d/S03atd\n",
      "0\t/etc/rc3.d/S03gdomap\n",
      "0\t/etc/rc3.d/S03speech-dispatcher\n",
      "0\t/etc/rc3.d/S04bluetooth\n",
      "0\t/etc/rc3.d/S04exim4\n",
      "0\t/etc/rc3.d/S03neo4j\n",
      "0\t/etc/rc3.d/S02apache2\n",
      "0\t/etc/rc3.d/S04lightdm\n",
      "0\t/etc/rc3.d/S03dbus\n",
      "0\t/etc/rc3.d/S03cgproxy\n",
      "0\t/etc/rc3.d/S05cups-browsed\n",
      "0\t/etc/rc3.d/S01uwsgi\n",
      "0\t/etc/rc3.d/S01samba-ad-dc\n",
      "0\t/etc/rc3.d/S03acpid\n",
      "0\t/etc/rc3.d/S01nmbd\n",
      "0\t/etc/rc3.d/S04network-manager\n",
      "0\t/etc/rc3.d/S07plymouth\n",
      "0\t/etc/rc3.d/S01ctxusbd\n",
      "0\t/etc/rc3.d/S01motd\n",
      "0\t/etc/rc3.d/S03hddtemp\n",
      "8.0K\t/etc/rc3.d\n",
      "4.0K\t/etc/php5/mods-available/pdo_mysql.ini\n",
      "4.0K\t/etc/php5/mods-available/json.ini\n",
      "4.0K\t/etc/php5/mods-available/apcu.ini\n",
      "4.0K\t/etc/php5/mods-available/pdo.ini\n",
      "4.0K\t/etc/php5/mods-available/readline.ini\n",
      "4.0K\t/etc/php5/mods-available/opcache.ini\n",
      "4.0K\t/etc/php5/mods-available/intl.ini\n",
      "4.0K\t/etc/php5/mods-available/mysqli.ini\n",
      "4.0K\t/etc/php5/mods-available/mysql.ini\n",
      "40K\t/etc/php5/mods-available\n",
      "72K\t/etc/php5/cli/php.ini\n",
      "0\t/etc/php5/cli/conf.d/20-mysql.ini\n",
      "0\t/etc/php5/cli/conf.d/20-json.ini\n",
      "0\t/etc/php5/cli/conf.d/20-readline.ini\n",
      "0\t/etc/php5/cli/conf.d/20-intl.ini\n",
      "0\t/etc/php5/cli/conf.d/10-pdo.ini\n",
      "0\t/etc/php5/cli/conf.d/05-opcache.ini\n",
      "0\t/etc/php5/cli/conf.d/20-mysqli.ini\n",
      "0\t/etc/php5/cli/conf.d/20-pdo_mysql.ini\n",
      "0\t/etc/php5/cli/conf.d/20-apcu.ini\n",
      "4.0K\t/etc/php5/cli/conf.d\n",
      "80K\t/etc/php5/cli\n",
      "72K\t/etc/php5/apache2/php.ini\n",
      "0\t/etc/php5/apache2/conf.d/20-mysql.ini\n",
      "0\t/etc/php5/apache2/conf.d/20-json.ini\n",
      "0\t/etc/php5/apache2/conf.d/20-readline.ini\n",
      "0\t/etc/php5/apache2/conf.d/20-intl.ini\n",
      "0\t/etc/php5/apache2/conf.d/10-pdo.ini\n",
      "0\t/etc/php5/apache2/conf.d/05-opcache.ini\n",
      "0\t/etc/php5/apache2/conf.d/20-mysqli.ini\n",
      "0\t/etc/php5/apache2/conf.d/20-pdo_mysql.ini\n",
      "0\t/etc/php5/apache2/conf.d/20-apcu.ini\n",
      "4.0K\t/etc/php5/apache2/conf.d\n",
      "80K\t/etc/php5/apache2\n",
      "204K\t/etc/php5\n",
      "4.0K\t/etc/libreoffice/sofficerc\n",
      "4.0K\t/etc/libreoffice/soffice.sh\n",
      "4.0K\t/etc/libreoffice/psprint.conf\n",
      "16K\t/etc/libreoffice\n",
      "4.0K\t/etc/w3m/mailcap\n",
      "4.0K\t/etc/w3m/config\n",
      "12K\t/etc/w3m\n",
      "4.0K\t/etc/Muttrc.d/smime.rc\n",
      "4.0K\t/etc/Muttrc.d/gpg.rc\n",
      "4.0K\t/etc/Muttrc.d/colors.rc\n",
      "4.0K\t/etc/Muttrc.d/compressed-folders.rc\n",
      "4.0K\t/etc/Muttrc.d/charset.rc\n",
      "24K\t/etc/Muttrc.d\n",
      "4.0K\t/etc/ghostscript/fontmap.d/10gsfonts.conf\n",
      "8.0K\t/etc/ghostscript/fontmap.d\n",
      "4.0K\t/etc/ghostscript/cidfmap.d/90gs-cjk-resource-korea1.conf\n",
      "4.0K\t/etc/ghostscript/cidfmap.d/90gs-cjk-resource-gb1.conf\n",
      "4.0K\t/etc/ghostscript/cidfmap.d/90gs-cjk-resource-japan2.conf\n",
      "4.0K\t/etc/ghostscript/cidfmap.d/90gs-cjk-resource-japan1.conf\n",
      "4.0K\t/etc/ghostscript/cidfmap.d/90gs-cjk-resource-cns1.conf\n",
      "24K\t/etc/ghostscript/cidfmap.d\n",
      "36K\t/etc/ghostscript\n",
      "4.0K\t/etc/apg.conf\n",
      "4.0K\t/etc/ld.so.conf.d/i386-linux-gnu.conf\n",
      "4.0K\t/etc/ld.so.conf.d/zz_x32-biarch-compat.conf\n",
      "4.0K\t/etc/ld.so.conf.d/fakeroot-x86_64-linux-gnu.conf\n",
      "4.0K\t/etc/ld.so.conf.d/libc.conf\n",
      "4.0K\t/etc/ld.so.conf.d/zz_i386-biarch-compat.conf\n",
      "4.0K\t/etc/ld.so.conf.d/x86_64-linux-gnu.conf\n",
      "28K\t/etc/ld.so.conf.d\n",
      "4.0K\t/etc/idmapd.conf\n",
      "28K\t/etc/wpa_supplicant/functions.sh\n",
      "8.0K\t/etc/wpa_supplicant/ifupdown.sh\n",
      "4.0K\t/etc/wpa_supplicant/action_wpa.sh\n",
      "44K\t/etc/wpa_supplicant\n",
      "0\t/etc/rc1.d/K02cups\n",
      "0\t/etc/rc1.d/K06nfs-common\n",
      "0\t/etc/rc1.d/K01nginx\n",
      "0\t/etc/rc1.d/K01cgmanager\n",
      "0\t/etc/rc1.d/K01minissdpd\n",
      "0\t/etc/rc1.d/K02postgresql\n",
      "0\t/etc/rc1.d/K01saned\n",
      "0\t/etc/rc1.d/S01bootlogs\n",
      "0\t/etc/rc1.d/K02avahi-daemon\n",
      "0\t/etc/rc1.d/K06rpcbind\n",
      "0\t/etc/rc1.d/K01rdnssd\n",
      "0\t/etc/rc1.d/K01smbd\n",
      "0\t/etc/rc1.d/K01cgproxy\n",
      "0\t/etc/rc1.d/K01cups-browsed\n",
      "0\t/etc/rc1.d/K02mysql\n",
      "0\t/etc/rc1.d/K01fail2ban\n",
      "0\t/etc/rc1.d/K01samba-ad-dc\n",
      "0\t/etc/rc1.d/K01neo4j\n",
      "4.0K\t/etc/rc1.d/README\n",
      "0\t/etc/rc1.d/K01hddtemp\n",
      "0\t/etc/rc1.d/S01killprocs\n",
      "0\t/etc/rc1.d/K01bluetooth\n",
      "0\t/etc/rc1.d/K01atd\n",
      "0\t/etc/rc1.d/S02single\n",
      "0\t/etc/rc1.d/K01lightdm\n",
      "0\t/etc/rc1.d/K01uwsgi\n",
      "0\t/etc/rc1.d/K01mongodb\n",
      "0\t/etc/rc1.d/K01apache2\n",
      "0\t/etc/rc1.d/K01gdomap\n",
      "0\t/etc/rc1.d/K01nmbd\n",
      "0\t/etc/rc1.d/K01alsa-utils\n",
      "0\t/etc/rc1.d/K04rsyslog\n",
      "0\t/etc/rc1.d/K01fglrx-atieventsd\n",
      "0\t/etc/rc1.d/K01network-manager\n",
      "0\t/etc/rc1.d/K01winbind\n",
      "0\t/etc/rc1.d/K01speech-dispatcher\n",
      "0\t/etc/rc1.d/K01exim4\n",
      "0\t/etc/rc1.d/K01uuidd\n",
      "0\t/etc/rc1.d/K01ctxusbd\n",
      "0\t/etc/rc1.d/S01motd\n",
      "8.0K\t/etc/rc1.d\n",
      "20K\t/etc/sound/events/gtk-events-2.soundlist\n",
      "32K\t/etc/sound/events/gnome-2.soundlist\n",
      "56K\t/etc/sound/events\n",
      "60K\t/etc/sound\n",
      "4.0K\t/etc/python2.7/sitecustomize.py\n",
      "8.0K\t/etc/python2.7\n",
      "4.0K\t/etc/inputrc\n",
      "4.0K\t/etc/request-key.conf\n",
      "0\t/etc/dpkg/origins/default\n",
      "4.0K\t/etc/dpkg/origins/debian\n",
      "8.0K\t/etc/dpkg/origins\n",
      "4.0K\t/etc/dpkg/dpkg.cfg\n",
      "4.0K\t/etc/dpkg/shlibs.override\n",
      "4.0K\t/etc/dpkg/dpkg.cfg.d\n",
      "4.0K\t/etc/dpkg/shlibs.default\n",
      "28K\t/etc/dpkg\n",
      "4.0K\t/etc/rsyslog.conf\n",
      "252K\t/etc/ati/amdpcsdb.default\n",
      "4.0K\t/etc/ati/authatieventsd.sh\n",
      "108K\t/etc/ati/control\n",
      "4.0K\t/etc/ati/fglrx-blacklists-radeon.conf\n",
      "4.0K\t/etc/ati/signature\n",
      "96K\t/etc/ati/atiapfxx.blb\n",
      "472K\t/etc/ati\n",
      "4.0K\t/etc/security/limits.conf\n",
      "4.0K\t/etc/security/time.conf\n",
      "0\t/etc/security/opasswd\n",
      "4.0K\t/etc/security/pwquality.conf\n",
      "8.0K\t/etc/security/access.conf\n",
      "4.0K\t/etc/security/group.conf\n",
      "4.0K\t/etc/security/limits.d\n",
      "4.0K\t/etc/security/namespace.init\n",
      "4.0K\t/etc/security/namespace.conf\n",
      "4.0K\t/etc/security/namespace.d\n",
      "4.0K\t/etc/security/sepermit.conf\n",
      "4.0K\t/etc/security/pam_env.conf\n",
      "52K\t/etc/security\n",
      "4.0K\t/etc/java-8-openjdk/net.properties\n",
      "4.0K\t/etc/java-8-openjdk/sound.properties\n",
      "12K\t/etc/java-8-openjdk/psfontj2d.properties\n",
      "4.0K\t/etc/java-8-openjdk/calendars.properties\n",
      "4.0K\t/etc/java-8-openjdk/management/snmp.acl\n",
      "4.0K\t/etc/java-8-openjdk/management/jmxremote.password\n",
      "4.0K\t/etc/java-8-openjdk/management/jmxremote.access\n",
      "16K\t/etc/java-8-openjdk/management/management.properties\n",
      "32K\t/etc/java-8-openjdk/management\n",
      "8.0K\t/etc/java-8-openjdk/content-types.properties\n",
      "4.0K\t/etc/java-8-openjdk/swing.properties\n",
      "4.0K\t/etc/java-8-openjdk/accessibility.properties\n",
      "4.0K\t/etc/java-8-openjdk/jvm-amd64.cfg\n",
      "4.0K\t/etc/java-8-openjdk/flavormap.properties\n",
      "4.0K\t/etc/java-8-openjdk/security/blacklisted.certs\n",
      "4.0K\t/etc/java-8-openjdk/security/nss.cfg\n",
      "28K\t/etc/java-8-openjdk/security/java.security\n",
      "8.0K\t/etc/java-8-openjdk/security/java.policy\n",
      "48K\t/etc/java-8-openjdk/security\n",
      "4.0K\t/etc/java-8-openjdk/images/cursors/cursors.properties\n",
      "8.0K\t/etc/java-8-openjdk/images/cursors\n",
      "12K\t/etc/java-8-openjdk/images\n",
      "4.0K\t/etc/java-8-openjdk/psfont.properties.ja\n",
      "4.0K\t/etc/java-8-openjdk/logging.properties\n",
      "152K\t/etc/java-8-openjdk\n",
      "4.0K\t/etc/dput.cf\n",
      "4.0K\t/etc/apache2/ports.conf\n",
      "0\t/etc/apache2/mods-enabled/mime.conf\n",
      "0\t/etc/apache2/mods-enabled/mpm_prefork.conf\n",
      "0\t/etc/apache2/mods-enabled/dnssd.conf\n",
      "0\t/etc/apache2/mods-enabled/autoindex.conf\n",
      "0\t/etc/apache2/mods-enabled/php5.load\n",
      "0\t/etc/apache2/mods-enabled/reqtimeout.load\n",
      "0\t/etc/apache2/mods-enabled/dir.load\n",
      "0\t/etc/apache2/mods-enabled/reqtimeout.conf\n",
      "0\t/etc/apache2/mods-enabled/autoindex.load\n",
      "0\t/etc/apache2/mods-enabled/dnssd.load\n",
      "0\t/etc/apache2/mods-enabled/negotiation.load\n",
      "0\t/etc/apache2/mods-enabled/status.load\n",
      "0\t/etc/apache2/mods-enabled/negotiation.conf\n",
      "0\t/etc/apache2/mods-enabled/env.load\n",
      "0\t/etc/apache2/mods-enabled/alias.conf\n",
      "0\t/etc/apache2/mods-enabled/filter.load\n",
      "0\t/etc/apache2/mods-enabled/setenvif.conf\n",
      "0\t/etc/apache2/mods-enabled/setenvif.load\n",
      "0\t/etc/apache2/mods-enabled/status.conf\n",
      "0\t/etc/apache2/mods-enabled/authz_user.load\n",
      "0\t/etc/apache2/mods-enabled/authz_core.load\n",
      "0\t/etc/apache2/mods-enabled/auth_basic.load\n",
      "0\t/etc/apache2/mods-enabled/authn_file.load\n",
      "0\t/etc/apache2/mods-enabled/mpm_prefork.load\n",
      "0\t/etc/apache2/mods-enabled/alias.load\n",
      "0\t/etc/apache2/mods-enabled/mime.load\n",
      "0\t/etc/apache2/mods-enabled/access_compat.load\n",
      "0\t/etc/apache2/mods-enabled/deflate.load\n",
      "0\t/etc/apache2/mods-enabled/php5.conf\n",
      "0\t/etc/apache2/mods-enabled/authz_host.load\n",
      "0\t/etc/apache2/mods-enabled/deflate.conf\n",
      "0\t/etc/apache2/mods-enabled/dir.conf\n",
      "0\t/etc/apache2/mods-enabled/authn_core.load\n",
      "4.0K\t/etc/apache2/mods-enabled\n",
      "4.0K\t/etc/apache2/sites-available/000-default.conf\n",
      "8.0K\t/etc/apache2/sites-available/default-ssl.conf\n",
      "16K\t/etc/apache2/sites-available\n",
      "32K\t/etc/apache2/magic\n",
      "8.0K\t/etc/apache2/apache2.conf\n",
      "4.0K\t/etc/apache2/mods-available/buffer.load\n",
      "4.0K\t/etc/apache2/mods-available/heartbeat.load\n",
      "8.0K\t/etc/apache2/mods-available/mime.conf\n",
      "4.0K\t/etc/apache2/mods-available/proxy_http.load\n",
      "4.0K\t/etc/apache2/mods-available/mpm_worker.load\n",
      "4.0K\t/etc/apache2/mods-available/mime_magic.load\n",
      "4.0K\t/etc/apache2/mods-available/ident.load\n",
      "4.0K\t/etc/apache2/mods-available/unique_id.load\n",
      "4.0K\t/etc/apache2/mods-available/proxy_ftp.conf\n",
      "4.0K\t/etc/apache2/mods-available/authnz_fcgi.load\n",
      "4.0K\t/etc/apache2/mods-available/proxy_html.conf\n",
      "4.0K\t/etc/apache2/mods-available/cache.load\n",
      "4.0K\t/etc/apache2/mods-available/dbd.load\n",
      "4.0K\t/etc/apache2/mods-available/vhost_alias.load\n",
      "4.0K\t/etc/apache2/mods-available/mpm_prefork.conf\n",
      "4.0K\t/etc/apache2/mods-available/echo.load\n",
      "4.0K\t/etc/apache2/mods-available/slotmem_plain.load\n",
      "4.0K\t/etc/apache2/mods-available/auth_digest.load\n",
      "4.0K\t/etc/apache2/mods-available/ssl.load\n",
      "4.0K\t/etc/apache2/mods-available/log_forensic.load\n",
      "4.0K\t/etc/apache2/mods-available/expires.load\n",
      "4.0K\t/etc/apache2/mods-available/dnssd.conf\n",
      "4.0K\t/etc/apache2/mods-available/autoindex.conf\n",
      "4.0K\t/etc/apache2/mods-available/ext_filter.load\n",
      "4.0K\t/etc/apache2/mods-available/php5.load\n",
      "4.0K\t/etc/apache2/mods-available/ldap.load\n",
      "4.0K\t/etc/apache2/mods-available/reqtimeout.load\n",
      "4.0K\t/etc/apache2/mods-available/dir.load\n",
      "4.0K\t/etc/apache2/mods-available/proxy_express.load\n",
      "4.0K\t/etc/apache2/mods-available/proxy_fcgi.load\n",
      "4.0K\t/etc/apache2/mods-available/data.load\n",
      "4.0K\t/etc/apache2/mods-available/proxy_ajp.load\n",
      "4.0K\t/etc/apache2/mods-available/authn_dbm.load\n",
      "4.0K\t/etc/apache2/mods-available/lua.load\n",
      "4.0K\t/etc/apache2/mods-available/socache_dbm.load\n",
      "4.0K\t/etc/apache2/mods-available/authnz_ldap.load\n",
      "4.0K\t/etc/apache2/mods-available/slotmem_shm.load\n",
      "4.0K\t/etc/apache2/mods-available/macro.load\n",
      "4.0K\t/etc/apache2/mods-available/dump_io.load\n",
      "4.0K\t/etc/apache2/mods-available/reqtimeout.conf\n",
      "4.0K\t/etc/apache2/mods-available/asis.load\n",
      "4.0K\t/etc/apache2/mods-available/autoindex.load\n",
      "4.0K\t/etc/apache2/mods-available/session_cookie.load\n",
      "4.0K\t/etc/apache2/mods-available/info.conf\n",
      "4.0K\t/etc/apache2/mods-available/socache_memcache.load\n",
      "4.0K\t/etc/apache2/mods-available/dnssd.load\n",
      "4.0K\t/etc/apache2/mods-available/lbmethod_heartbeat.load\n",
      "4.0K\t/etc/apache2/mods-available/negotiation.load\n",
      "4.0K\t/etc/apache2/mods-available/authz_dbm.load\n",
      "4.0K\t/etc/apache2/mods-available/auth_form.load\n",
      "4.0K\t/etc/apache2/mods-available/ssl.conf\n",
      "4.0K\t/etc/apache2/mods-available/authz_groupfile.load\n",
      "4.0K\t/etc/apache2/mods-available/heartmonitor.load\n",
      "4.0K\t/etc/apache2/mods-available/dav_fs.load\n",
      "4.0K\t/etc/apache2/mods-available/session.load\n",
      "4.0K\t/etc/apache2/mods-available/status.load\n",
      "4.0K\t/etc/apache2/mods-available/negotiation.conf\n",
      "4.0K\t/etc/apache2/mods-available/file_cache.load\n",
      "4.0K\t/etc/apache2/mods-available/charset_lite.load\n",
      "4.0K\t/etc/apache2/mods-available/authn_socache.load\n",
      "4.0K\t/etc/apache2/mods-available/env.load\n",
      "4.0K\t/etc/apache2/mods-available/alias.conf\n",
      "4.0K\t/etc/apache2/mods-available/filter.load\n",
      "4.0K\t/etc/apache2/mods-available/mime_magic.conf\n",
      "4.0K\t/etc/apache2/mods-available/rewrite.load\n",
      "4.0K\t/etc/apache2/mods-available/request.load\n",
      "4.0K\t/etc/apache2/mods-available/substitute.load\n",
      "4.0K\t/etc/apache2/mods-available/info.load\n",
      "4.0K\t/etc/apache2/mods-available/actions.load\n",
      "4.0K\t/etc/apache2/mods-available/setenvif.conf\n",
      "4.0K\t/etc/apache2/mods-available/reflector.load\n",
      "4.0K\t/etc/apache2/mods-available/socache_shmcb.load\n",
      "4.0K\t/etc/apache2/mods-available/sed.load\n",
      "4.0K\t/etc/apache2/mods-available/setenvif.load\n",
      "4.0K\t/etc/apache2/mods-available/cache_disk.load\n",
      "4.0K\t/etc/apache2/mods-available/status.conf\n",
      "4.0K\t/etc/apache2/mods-available/actions.conf\n",
      "4.0K\t/etc/apache2/mods-available/authz_user.load\n",
      "4.0K\t/etc/apache2/mods-available/headers.load\n",
      "4.0K\t/etc/apache2/mods-available/suexec.load\n",
      "4.0K\t/etc/apache2/mods-available/authz_core.load\n",
      "4.0K\t/etc/apache2/mods-available/auth_basic.load\n",
      "4.0K\t/etc/apache2/mods-available/proxy_scgi.load\n",
      "4.0K\t/etc/apache2/mods-available/ratelimit.load\n",
      "4.0K\t/etc/apache2/mods-available/proxy_ftp.load\n",
      "4.0K\t/etc/apache2/mods-available/authz_dbd.load\n",
      "4.0K\t/etc/apache2/mods-available/remoteip.load\n",
      "4.0K\t/etc/apache2/mods-available/proxy_html.load\n",
      "4.0K\t/etc/apache2/mods-available/cgi.load\n",
      "4.0K\t/etc/apache2/mods-available/cgid.load\n",
      "4.0K\t/etc/apache2/mods-available/proxy_wstunnel.load\n",
      "4.0K\t/etc/apache2/mods-available/authn_file.load\n",
      "4.0K\t/etc/apache2/mods-available/allowmethods.load\n",
      "4.0K\t/etc/apache2/mods-available/mpm_prefork.load\n",
      "4.0K\t/etc/apache2/mods-available/cache_disk.conf\n",
      "4.0K\t/etc/apache2/mods-available/proxy_connect.load\n",
      "4.0K\t/etc/apache2/mods-available/alias.load\n",
      "4.0K\t/etc/apache2/mods-available/session_crypto.load\n",
      "4.0K\t/etc/apache2/mods-available/authn_dbd.load\n",
      "4.0K\t/etc/apache2/mods-available/mime.load\n",
      "4.0K\t/etc/apache2/mods-available/proxy_balancer.conf\n",
      "4.0K\t/etc/apache2/mods-available/proxy.load\n",
      "4.0K\t/etc/apache2/mods-available/mpm_worker.conf\n",
      "4.0K\t/etc/apache2/mods-available/cache_socache.load\n",
      "4.0K\t/etc/apache2/mods-available/lbmethod_bybusyness.load\n",
      "4.0K\t/etc/apache2/mods-available/access_compat.load\n",
      "4.0K\t/etc/apache2/mods-available/authz_owner.load\n",
      "4.0K\t/etc/apache2/mods-available/dav.load\n",
      "4.0K\t/etc/apache2/mods-available/include.load\n",
      "4.0K\t/etc/apache2/mods-available/deflate.load\n",
      "4.0K\t/etc/apache2/mods-available/lbmethod_bytraffic.load\n",
      "4.0K\t/etc/apache2/mods-available/session_dbd.load\n",
      "4.0K\t/etc/apache2/mods-available/cgid.conf\n",
      "4.0K\t/etc/apache2/mods-available/dialup.load\n",
      "4.0K\t/etc/apache2/mods-available/speling.load\n",
      "4.0K\t/etc/apache2/mods-available/proxy_balancer.load\n",
      "4.0K\t/etc/apache2/mods-available/php5.conf\n",
      "4.0K\t/etc/apache2/mods-available/authz_host.load\n",
      "4.0K\t/etc/apache2/mods-available/deflate.conf\n",
      "4.0K\t/etc/apache2/mods-available/usertrack.load\n",
      "4.0K\t/etc/apache2/mods-available/dav_lock.load\n",
      "4.0K\t/etc/apache2/mods-available/xml2enc.load\n",
      "4.0K\t/etc/apache2/mods-available/log_debug.load\n",
      "4.0K\t/etc/apache2/mods-available/dir.conf\n",
      "4.0K\t/etc/apache2/mods-available/userdir.load\n",
      "4.0K\t/etc/apache2/mods-available/mpm_event.conf\n",
      "4.0K\t/etc/apache2/mods-available/dav_fs.conf\n",
      "4.0K\t/etc/apache2/mods-available/authn_core.load\n",
      "4.0K\t/etc/apache2/mods-available/lbmethod_byrequests.load\n",
      "4.0K\t/etc/apache2/mods-available/userdir.conf\n",
      "4.0K\t/etc/apache2/mods-available/proxy_fdpass.load\n",
      "4.0K\t/etc/apache2/mods-available/ldap.conf\n",
      "4.0K\t/etc/apache2/mods-available/authn_anon.load\n",
      "4.0K\t/etc/apache2/mods-available/mpm_event.load\n",
      "4.0K\t/etc/apache2/mods-available/proxy.conf\n",
      "556K\t/etc/apache2/mods-available\n",
      "4.0K\t/etc/apache2/envvars\n",
      "0\t/etc/apache2/sites-enabled/000-default.conf\n",
      "4.0K\t/etc/apache2/sites-enabled\n",
      "0\t/etc/apache2/conf-enabled/apache2-doc.conf\n",
      "0\t/etc/apache2/conf-enabled/serve-cgi-bin.conf\n",
      "0\t/etc/apache2/conf-enabled/localized-error-pages.conf\n",
      "0\t/etc/apache2/conf-enabled/security.conf\n",
      "0\t/etc/apache2/conf-enabled/charset.conf\n",
      "0\t/etc/apache2/conf-enabled/other-vhosts-access-log.conf\n",
      "0\t/etc/apache2/conf-enabled/javascript-common.conf\n",
      "4.0K\t/etc/apache2/conf-enabled\n",
      "4.0K\t/etc/apache2/conf-available/apache2-doc.conf\n",
      "4.0K\t/etc/apache2/conf-available/serve-cgi-bin.conf\n",
      "4.0K\t/etc/apache2/conf-available/localized-error-pages.conf\n",
      "4.0K\t/etc/apache2/conf-available/security.conf\n",
      "4.0K\t/etc/apache2/conf-available/charset.conf\n",
      "4.0K\t/etc/apache2/conf-available/other-vhosts-access-log.conf\n",
      "4.0K\t/etc/apache2/conf-available/javascript-common.conf\n",
      "32K\t/etc/apache2/conf-available\n",
      "668K\t/etc/apache2\n",
      "4.0K\t/etc/apparmor.d/local/usr.sbin.mysqld\n",
      "4.0K\t/etc/apparmor.d/local/usr.bin.thunderbird\n",
      "4.0K\t/etc/apparmor.d/local/usr.sbin.cups-browsed\n",
      "4.0K\t/etc/apparmor.d/local/usr.sbin.cupsd\n",
      "20K\t/etc/apparmor.d/local\n",
      "4.0K\t/etc/apparmor.d/abstractions/lightdm\n",
      "4.0K\t/etc/apparmor.d/abstractions/lightdm_chromium-browser\n",
      "12K\t/etc/apparmor.d/abstractions\n",
      "4.0K\t/etc/apparmor.d/usr.sbin.mysqld\n",
      "12K\t/etc/apparmor.d/usr.bin.thunderbird\n",
      "4.0K\t/etc/apparmor.d/usr.sbin.cups-browsed\n",
      "8.0K\t/etc/apparmor.d/usr.sbin.cupsd\n",
      "64K\t/etc/apparmor.d\n",
      "12K\t/etc/ca-certificates.conf.dpkg-old\n",
      "4.0K\t/etc/selinux/semanage.conf\n",
      "8.0K\t/etc/selinux\n",
      "4.0K\t/etc/hosts.deny\n",
      "4.0K\t/etc/sgml/docbook-xml/4.5/dbgenent.mod\n",
      "8.0K\t/etc/sgml/docbook-xml/4.5\n",
      "4.0K\t/etc/sgml/docbook-xml/4.2/dbgenent.mod\n",
      "8.0K\t/etc/sgml/docbook-xml/4.2\n",
      "4.0K\t/etc/sgml/docbook-xml/4.4/dbgenent.mod\n",
      "8.0K\t/etc/sgml/docbook-xml/4.4\n",
      "4.0K\t/etc/sgml/docbook-xml/4.1.2/dbgenent.mod\n",
      "8.0K\t/etc/sgml/docbook-xml/4.1.2\n",
      "4.0K\t/etc/sgml/docbook-xml/4.3/dbgenent.mod\n",
      "8.0K\t/etc/sgml/docbook-xml/4.3\n",
      "4.0K\t/etc/sgml/docbook-xml/4.0/dbgenent.ent\n",
      "8.0K\t/etc/sgml/docbook-xml/4.0\n",
      "52K\t/etc/sgml/docbook-xml\n",
      "4.0K\t/etc/sgml/docbook-xml.cat\n",
      "0\t/etc/sgml/catalog\n",
      "4.0K\t/etc/sgml/docutils-common.cat\n",
      "4.0K\t/etc/sgml/sgml-data.cat\n",
      "4.0K\t/etc/sgml/xml-core.cat\n",
      "72K\t/etc/sgml\n",
      "140K\t/etc/ld.so.cache\n",
      "12K\t/etc/openal/alsoft.conf\n",
      "16K\t/etc/openal\n",
      "4.0K\t/etc/gtk-2.0/im-multipress.conf\n",
      "8.0K\t/etc/gtk-2.0\n",
      "12K\t/etc/cupshelpers/preferreddrivers.xml\n",
      "16K\t/etc/cupshelpers\n",
      "4.0K\t/etc/passwd-\n",
      "24K\t/etc/postgresql/9.4/main/postgresql.conf\n",
      "4.0K\t/etc/postgresql/9.4/main/pg_ctl.conf\n",
      "4.0K\t/etc/postgresql/9.4/main/start.conf\n",
      "4.0K\t/etc/postgresql/9.4/main/pg_ident.conf\n",
      "8.0K\t/etc/postgresql/9.4/main/pg_hba.conf~\n",
      "8.0K\t/etc/postgresql/9.4/main/pg_hba.conf\n",
      "4.0K\t/etc/postgresql/9.4/main/environment\n",
      "60K\t/etc/postgresql/9.4/main\n",
      "64K\t/etc/postgresql/9.4\n",
      "68K\t/etc/postgresql\n",
      "4.0K\t/etc/iceweasel/profile/mimeTypes.rdf\n",
      "4.0K\t/etc/iceweasel/profile/localstore.rdf\n",
      "4.0K\t/etc/iceweasel/profile/bookmarks.html\n",
      "4.0K\t/etc/iceweasel/profile/chrome/userContent-example.css\n",
      "4.0K\t/etc/iceweasel/profile/chrome/userChrome-example.css\n",
      "12K\t/etc/iceweasel/profile/chrome\n",
      "4.0K\t/etc/iceweasel/profile/prefs.js\n",
      "32K\t/etc/iceweasel/profile\n",
      "4.0K\t/etc/iceweasel/pref/iceweasel.js\n",
      "8.0K\t/etc/iceweasel/pref\n",
      "4.0K\t/etc/iceweasel/searchplugins/common/debsearch.xml\n",
      "8.0K\t/etc/iceweasel/searchplugins/common\n",
      "20K\t/etc/iceweasel/searchplugins/locale/en-US/ddg.xml\n",
      "12K\t/etc/iceweasel/searchplugins/locale/en-US/twitter.xml\n",
      "28K\t/etc/iceweasel/searchplugins/locale/en-US/google.xml\n",
      "32K\t/etc/iceweasel/searchplugins/locale/en-US/yahoo.xml\n",
      "20K\t/etc/iceweasel/searchplugins/locale/en-US/eBay.xml\n",
      "16K\t/etc/iceweasel/searchplugins/locale/en-US/bing.xml\n",
      "12K\t/etc/iceweasel/searchplugins/locale/en-US/amazondotcom.xml\n",
      "12K\t/etc/iceweasel/searchplugins/locale/en-US/wikipedia.xml\n",
      "156K\t/etc/iceweasel/searchplugins/locale/en-US\n",
      "160K\t/etc/iceweasel/searchplugins/locale\n",
      "172K\t/etc/iceweasel/searchplugins\n",
      "216K\t/etc/iceweasel\n",
      "4.0K\t/etc/xml/xml-core.xml.old\n",
      "4.0K\t/etc/xml/catalog.old\n",
      "4.0K\t/etc/xml/catalog\n",
      "12K\t/etc/xml/docbook-xml.xml.old\n",
      "4.0K\t/etc/xml/sgml-data.xml.old\n",
      "4.0K\t/etc/xml/sgml-data.xml\n",
      "4.0K\t/etc/xml/rarian-compat.xml\n",
      "4.0K\t/etc/xml/docutils-common.xml.old\n",
      "4.0K\t/etc/xml/docutils-common.xml\n",
      "4.0K\t/etc/xml/xml-core.xml\n",
      "12K\t/etc/xml/docbook-xml.xml\n",
      "64K\t/etc/xml\n",
      "4.0K\t/etc/motd\n",
      "24K\t/etc/mime.types\n",
      "4.0K\t/etc/shadow-\n",
      "20K\t/etc/services\n",
      "4.0K\t/etc/ca-certificates/update.d/jks-keystore\n",
      "8.0K\t/etc/ca-certificates/update.d\n",
      "12K\t/etc/ca-certificates\n",
      "4.0K\t/etc/ImageMagick-6/coder.xml\n",
      "12K\t/etc/ImageMagick-6/type-dejavu.xml\n",
      "4.0K\t/etc/ImageMagick-6/log.xml\n",
      "12K\t/etc/ImageMagick-6/thresholds.xml\n",
      "4.0K\t/etc/ImageMagick-6/quantization-table.xml\n",
      "4.0K\t/etc/ImageMagick-6/colors.xml\n",
      "4.0K\t/etc/ImageMagick-6/policy.xml\n",
      "16K\t/etc/ImageMagick-6/type-windows.xml\n",
      "16K\t/etc/ImageMagick-6/delegates.xml\n",
      "12K\t/etc/ImageMagick-6/type-ghostscript.xml\n",
      "4.0K\t/etc/ImageMagick-6/magic.xml\n",
      "132K\t/etc/ImageMagick-6/mime.xml\n",
      "4.0K\t/etc/ImageMagick-6/type.xml\n",
      "232K\t/etc/ImageMagick-6\n",
      "4.0K\t/etc/wodim.conf\n",
      "0\t/etc/rc6.d/K06nfs-common\n",
      "0\t/etc/rc6.d/K03sendsigs\n",
      "0\t/etc/rc6.d/K01nginx\n",
      "0\t/etc/rc6.d/K07networking\n",
      "0\t/etc/rc6.d/K01cgmanager\n",
      "0\t/etc/rc6.d/K01minissdpd\n",
      "0\t/etc/rc6.d/K02postgresql\n",
      "0\t/etc/rc6.d/K01saned\n",
      "0\t/etc/rc6.d/K02avahi-daemon\n",
      "0\t/etc/rc6.d/K06rpcbind\n",
      "0\t/etc/rc6.d/K01rdnssd\n",
      "0\t/etc/rc6.d/K01smbd\n",
      "0\t/etc/rc6.d/K01cgproxy\n",
      "0\t/etc/rc6.d/K01cups-browsed\n",
      "0\t/etc/rc6.d/K02mysql\n",
      "0\t/etc/rc6.d/K01fail2ban\n",
      "0\t/etc/rc6.d/K01samba-ad-dc\n",
      "0\t/etc/rc6.d/K01neo4j\n",
      "4.0K\t/etc/rc6.d/README\n",
      "0\t/etc/rc6.d/K01hddtemp\n",
      "0\t/etc/rc6.d/K01unattended-upgrades\n",
      "0\t/etc/rc6.d/K01bluetooth\n",
      "0\t/etc/rc6.d/K01atd\n",
      "0\t/etc/rc6.d/K01lightdm\n",
      "0\t/etc/rc6.d/K01uwsgi\n",
      "0\t/etc/rc6.d/K01mongodb\n",
      "0\t/etc/rc6.d/K01apache2\n",
      "0\t/etc/rc6.d/K05umountnfs.sh\n",
      "0\t/etc/rc6.d/K08umountfs\n",
      "0\t/etc/rc6.d/K09umountroot\n",
      "0\t/etc/rc6.d/K01gdomap\n",
      "0\t/etc/rc6.d/K01nmbd\n",
      "0\t/etc/rc6.d/K01plymouth\n",
      "0\t/etc/rc6.d/K01alsa-utils\n",
      "0\t/etc/rc6.d/K04rsyslog\n",
      "0\t/etc/rc6.d/K01fglrx-atieventsd\n",
      "0\t/etc/rc6.d/K01network-manager\n",
      "0\t/etc/rc6.d/K01winbind\n",
      "0\t/etc/rc6.d/K01speech-dispatcher\n",
      "0\t/etc/rc6.d/K01urandom\n",
      "0\t/etc/rc6.d/K01exim4\n",
      "0\t/etc/rc6.d/K01uuidd\n",
      "0\t/etc/rc6.d/K10reboot\n",
      "0\t/etc/rc6.d/K07hwclock.sh\n",
      "0\t/etc/rc6.d/K01ctxusbd\n",
      "8.0K\t/etc/rc6.d\n",
      "4.0K\t/etc/email-addresses\n",
      "4.0K\t/etc/pm/sleep.d/10_unattended-upgrades-hibernate\n",
      "8.0K\t/etc/pm/sleep.d\n",
      "12K\t/etc/pm\n",
      "4.0K\t/etc/group\n",
      "4.0K\t/etc/cron.monthly/0anacron\n",
      "4.0K\t/etc/cron.monthly/.placeholder\n",
      "12K\t/etc/cron.monthly\n",
      "4.0K\t/etc/daemon.conf\n",
      "0\t/etc/network/if-up.d/wpasupplicant\n",
      "4.0K\t/etc/network/if-up.d/upstart\n",
      "4.0K\t/etc/network/if-up.d/openssh-server\n",
      "4.0K\t/etc/network/if-up.d/avahi-daemon\n",
      "8.0K\t/etc/network/if-up.d/mountnfs\n",
      "24K\t/etc/network/if-up.d\n",
      "0\t/etc/network/if-down.d/wpasupplicant\n",
      "4.0K\t/etc/network/if-down.d/upstart\n",
      "8.0K\t/etc/network/if-down.d\n",
      "0\t/etc/network/run\n",
      "4.0K\t/etc/network/interfaces.d\n",
      "4.0K\t/etc/network/interfaces\n",
      "0\t/etc/network/if-pre-up.d/wpasupplicant\n",
      "4.0K\t/etc/network/if-pre-up.d\n",
      "0\t/etc/network/if-post-down.d/wpasupplicant\n",
      "0\t/etc/network/if-post-down.d/avahi-daemon\n",
      "4.0K\t/etc/network/if-post-down.d\n",
      "52K\t/etc/network\n",
      "4.0K\t/etc/subuid-\n",
      "4.0K\t/etc/drirc\n",
      "4.0K\t/etc/initramfs-tools/update-initramfs.conf\n",
      "4.0K\t/etc/initramfs-tools/modules\n",
      "4.0K\t/etc/initramfs-tools/initramfs.conf\n",
      "4.0K\t/etc/initramfs-tools/conf.d/resume\n",
      "8.0K\t/etc/initramfs-tools/conf.d\n",
      "4.0K\t/etc/initramfs-tools/scripts/init-top\n",
      "4.0K\t/etc/initramfs-tools/scripts/local-premount\n",
      "4.0K\t/etc/initramfs-tools/scripts/init-premount\n",
      "4.0K\t/etc/initramfs-tools/scripts/local-bottom\n",
      "4.0K\t/etc/initramfs-tools/scripts/local-top\n",
      "4.0K\t/etc/initramfs-tools/scripts/panic\n",
      "4.0K\t/etc/initramfs-tools/scripts/nfs-premount\n",
      "4.0K\t/etc/initramfs-tools/scripts/nfs-bottom\n",
      "4.0K\t/etc/initramfs-tools/scripts/init-bottom\n",
      "4.0K\t/etc/initramfs-tools/scripts/nfs-top\n",
      "44K\t/etc/initramfs-tools/scripts\n",
      "4.0K\t/etc/initramfs-tools/hooks\n",
      "72K\t/etc/initramfs-tools\n",
      "4.0K\t/etc/magic.mime\n",
      "4.0K\t/etc/icalicense/clientlicense\n",
      "8.0K\t/etc/icalicense\n",
      "4.0K\t/etc/ucf.conf\n",
      "4.0K\t/etc/nginx/win-utf\n",
      "4.0K\t/etc/nginx/snippets/snakeoil.conf\n",
      "4.0K\t/etc/nginx/snippets/fastcgi-php.conf\n",
      "12K\t/etc/nginx/snippets\n",
      "4.0K\t/etc/nginx/sites-available/mediawiki\n",
      "4.0K\t/etc/nginx/sites-available/default\n",
      "4.0K\t/etc/nginx/sites-available/coveyapp\n",
      "16K\t/etc/nginx/sites-available\n",
      "4.0K\t/etc/nginx/koi-win\n",
      "4.0K\t/etc/nginx/proxy_params\n",
      "4.0K\t/etc/nginx/nginx.conf\n",
      "4.0K\t/etc/nginx/uwsgi_params\n",
      "4.0K\t/etc/nginx/fastcgi_params\n",
      "4.0K\t/etc/nginx/scgi_params\n",
      "0\t/etc/nginx/modules\n",
      "4.0K\t/etc/nginx/fastcgi.conf\n",
      "0\t/etc/nginx/sites-enabled/default\n",
      "0\t/etc/nginx/sites-enabled/coveyapp\n",
      "4.0K\t/etc/nginx/sites-enabled\n",
      "4.0K\t/etc/nginx/mime.types\n",
      "4.0K\t/etc/nginx/conf.d/default.conf\n",
      "8.0K\t/etc/nginx/conf.d\n",
      "4.0K\t/etc/nginx/koi-utf\n",
      "4.0K\t/etc/nginx/nginx.conf~\n",
      "88K\t/etc/nginx\n",
      "4.0K\t/etc/hosts\n",
      "28K\t/etc/matplotlibrc\n",
      "4.0K\t/etc/console-setup/compose.ISO-8859-6.inc\n",
      "4.0K\t/etc/console-setup/compose.KOI8-R.inc\n",
      "4.0K\t/etc/console-setup/cached_UTF-8_del.kmap.gz\n",
      "4.0K\t/etc/console-setup/compose.KOI8-U.inc\n",
      "4.0K\t/etc/console-setup/compose.ISO-8859-7.inc\n",
      "4.0K\t/etc/console-setup/compose.ISO-8859-13.inc\n",
      "4.0K\t/etc/console-setup/compose.GEORGIAN-PS.inc\n",
      "4.0K\t/etc/console-setup/compose.ISO-8859-11.inc\n",
      "4.0K\t/etc/console-setup/compose.ISO-8859-1.inc\n",
      "4.0K\t/etc/console-setup/compose.CP1256.inc\n",
      "4.0K\t/etc/console-setup/compose.ISO-8859-10.inc\n",
      "4.0K\t/etc/console-setup/compose.ISO-8859-5.inc\n",
      "4.0K\t/etc/console-setup/compose.ARMSCII-8.inc\n",
      "4.0K\t/etc/console-setup/compose.ISO-8859-15.inc\n",
      "4.0K\t/etc/console-setup/compose.ISIRI-3342.inc\n",
      "4.0K\t/etc/console-setup/compose.ISO-8859-4.inc\n",
      "4.0K\t/etc/console-setup/compose.CP1251.inc\n",
      "4.0K\t/etc/console-setup/compose.CP1255.inc\n",
      "4.0K\t/etc/console-setup/compose.VISCII.inc\n",
      "4.0K\t/etc/console-setup/compose.ISO-8859-16.inc\n",
      "4.0K\t/etc/console-setup/cached_Lat15-Fixed16.psf.gz\n",
      "4.0K\t/etc/console-setup/compose.TIS-620.inc\n",
      "4.0K\t/etc/console-setup/compose.ISO-8859-9.inc\n",
      "4.0K\t/etc/console-setup/compose.ISO-8859-2.inc\n",
      "4.0K\t/etc/console-setup/compose.IBM1133.inc\n",
      "4.0K\t/etc/console-setup/compose.ISO-8859-3.inc\n",
      "4.0K\t/etc/console-setup/compose.GEORGIAN-ACADEMY.inc\n",
      "4.0K\t/etc/console-setup/compose.ISO-8859-8.inc\n",
      "4.0K\t/etc/console-setup/compose.ISO-8859-14.inc\n",
      "4.0K\t/etc/console-setup/remap.inc\n",
      "124K\t/etc/console-setup\n",
      "4.0K\t/etc/gnome-chess/engines.conf\n",
      "8.0K\t/etc/gnome-chess\n",
      "4.0K\t/etc/cups/printers.conf\n",
      "4.0K\t/etc/cups/cups-browsed.conf\n",
      "4.0K\t/etc/cups/subscriptions.conf.O\n",
      "4.0K\t/etc/cups/raw.types\n",
      "4.0K\t/etc/cups/printers.conf.O\n",
      "4.0K\t/etc/cups/ssl\n",
      "8.0K\t/etc/cups/cupsd.conf\n",
      "4.0K\t/etc/cups/interfaces\n",
      "4.0K\t/etc/cups/snmp.conf\n",
      "4.0K\t/etc/cups/cups-files.conf\n",
      "4.0K\t/etc/cups/ppd\n",
      "4.0K\t/etc/cups/raw.convs\n",
      "4.0K\t/etc/cups/subscriptions.conf\n",
      "60K\t/etc/cups\n",
      "4.0K\t/etc/mailname\n",
      "8.0K\t/etc/fonts/fonts.conf\n",
      "4.0K\t/etc/fonts/conf.avail/20-unhint-small-dejavu-lgc-sans-mono.conf\n",
      "4.0K\t/etc/fonts/conf.avail/20-unhint-small-dejavu-lgc-serif.conf\n",
      "4.0K\t/etc/fonts/conf.avail/58-dejavu-lgc-sans-mono.conf\n",
      "4.0K\t/etc/fonts/conf.avail/20-unhint-small-dejavu-sans-mono.conf\n",
      "4.0K\t/etc/fonts/conf.avail/57-dejavu-sans-mono.conf\n",
      "4.0K\t/etc/fonts/conf.avail/57-dejavu-sans.conf\n",
      "4.0K\t/etc/fonts/conf.avail/20-unhint-small-dejavu-serif.conf\n",
      "4.0K\t/etc/fonts/conf.avail/58-dejavu-lgc-serif.conf\n",
      "4.0K\t/etc/fonts/conf.avail/20-unhint-small-dejavu-lgc-sans.conf\n",
      "4.0K\t/etc/fonts/conf.avail/57-dejavu-serif.conf\n",
      "4.0K\t/etc/fonts/conf.avail/69-droid-sans-fallback.conf\n",
      "4.0K\t/etc/fonts/conf.avail/58-dejavu-lgc-sans.conf\n",
      "4.0K\t/etc/fonts/conf.avail/20-unhint-small-dejavu-sans.conf\n",
      "56K\t/etc/fonts/conf.avail\n",
      "0\t/etc/fonts/conf.d/20-unhint-small-dejavu-lgc-sans-mono.conf\n",
      "0\t/etc/fonts/conf.d/11-lcdfilter-default.conf\n",
      "4.0K\t/etc/fonts/conf.d/99pdftoopvp.conf\n",
      "0\t/etc/fonts/conf.d/20-unhint-small-dejavu-lgc-serif.conf\n",
      "0\t/etc/fonts/conf.d/10-scale-bitmap-fonts.conf\n",
      "0\t/etc/fonts/conf.d/60-latin.conf\n",
      "0\t/etc/fonts/conf.d/58-dejavu-lgc-sans-mono.conf\n",
      "0\t/etc/fonts/conf.d/90-synthetic.conf\n",
      "0\t/etc/fonts/conf.d/70-no-bitmaps.conf\n",
      "0\t/etc/fonts/conf.d/20-unhint-small-dejavu-sans-mono.conf\n",
      "4.0K\t/etc/fonts/conf.d/README\n",
      "0\t/etc/fonts/conf.d/49-sansserif.conf\n",
      "0\t/etc/fonts/conf.d/50-user.conf\n",
      "0\t/etc/fonts/conf.d/45-latin.conf\n",
      "0\t/etc/fonts/conf.d/30-metric-aliases.conf\n",
      "0\t/etc/fonts/conf.d/65-nonlatin.conf\n",
      "0\t/etc/fonts/conf.d/57-dejavu-sans-mono.conf\n",
      "0\t/etc/fonts/conf.d/57-dejavu-sans.conf\n",
      "0\t/etc/fonts/conf.d/20-unhint-small-dejavu-serif.conf\n",
      "0\t/etc/fonts/conf.d/40-nonlatin.conf\n",
      "0\t/etc/fonts/conf.d/58-dejavu-lgc-serif.conf\n",
      "0\t/etc/fonts/conf.d/80-delicious.conf\n",
      "0\t/etc/fonts/conf.d/20-unhint-small-dejavu-lgc-sans.conf\n",
      "0\t/etc/fonts/conf.d/57-dejavu-serif.conf\n",
      "0\t/etc/fonts/conf.d/69-unifont.conf\n",
      "0\t/etc/fonts/conf.d/30-urw-aliases.conf\n",
      "0\t/etc/fonts/conf.d/51-local.conf\n",
      "0\t/etc/fonts/conf.d/69-droid-sans-fallback.conf\n",
      "0\t/etc/fonts/conf.d/65-fonts-persian.conf\n",
      "0\t/etc/fonts/conf.d/58-dejavu-lgc-sans.conf\n",
      "0\t/etc/fonts/conf.d/20-unhint-small-dejavu-sans.conf\n",
      "0\t/etc/fonts/conf.d/20-unhint-small-vera.conf\n",
      "12K\t/etc/fonts/conf.d\n",
      "80K\t/etc/fonts\n",
      "4.0K\t/etc/ld.so.conf\n",
      "4.0K\t/etc/passwd\n",
      "4.0K\t/etc/insserv/overrides\n",
      "8.0K\t/etc/insserv\n",
      "0\t/etc/environment\n",
      "4.0K\t/etc/udisks2\n",
      "4.0K\t/etc/postgresql-common/createcluster.conf\n",
      "4.0K\t/etc/postgresql-common/pg_upgradecluster.d\n",
      "4.0K\t/etc/postgresql-common/root.crt\n",
      "4.0K\t/etc/postgresql-common/user_clusters\n",
      "20K\t/etc/postgresql-common\n",
      "12K\t/etc/locale.gen\n",
      "4.0K\t/etc/dhcp/dhclient-enter-hooks.d/samba\n",
      "4.0K\t/etc/dhcp/dhclient-enter-hooks.d/debug\n",
      "12K\t/etc/dhcp/dhclient-enter-hooks.d\n",
      "4.0K\t/etc/dhcp/dhclient.conf\n",
      "4.0K\t/etc/dhcp/dhclient-exit-hooks.d/rfc3442-classless-routes\n",
      "4.0K\t/etc/dhcp/dhclient-exit-hooks.d/ntp\n",
      "4.0K\t/etc/dhcp/dhclient-exit-hooks.d/debug\n",
      "16K\t/etc/dhcp/dhclient-exit-hooks.d\n",
      "36K\t/etc/dhcp\n",
      "4.0K\t/etc/fstab~\n",
      "4.0K\t/etc/libnl-3/classid\n",
      "4.0K\t/etc/libnl-3/pktloc\n",
      "12K\t/etc/libnl-3\n",
      "4.0K\t/etc/logcheck/ignore.d.workstation/mariadb-server-10_0\n",
      "4.0K\t/etc/logcheck/ignore.d.workstation/mysql-server-5_5\n",
      "12K\t/etc/logcheck/ignore.d.workstation\n",
      "4.0K\t/etc/logcheck/ignore.d.paranoid/cracklib-runtime\n",
      "4.0K\t/etc/logcheck/ignore.d.paranoid/mariadb-server-10_0\n",
      "4.0K\t/etc/logcheck/ignore.d.paranoid/mysql-server-5_5\n",
      "16K\t/etc/logcheck/ignore.d.paranoid\n",
      "4.0K\t/etc/logcheck/ignore.d.server/rsyslog\n",
      "4.0K\t/etc/logcheck/ignore.d.server/mariadb-server-10_0\n",
      "4.0K\t/etc/logcheck/ignore.d.server/mysql-server-5_5\n",
      "4.0K\t/etc/logcheck/ignore.d.server/libsasl2-modules\n",
      "4.0K\t/etc/logcheck/ignore.d.server/hddtemp\n",
      "24K\t/etc/logcheck/ignore.d.server\n",
      "56K\t/etc/logcheck\n",
      "4.0K\t/etc/speech-dispatcher/clients/emacs.conf\n",
      "4.0K\t/etc/speech-dispatcher/clients/gnome-speech.conf\n",
      "12K\t/etc/speech-dispatcher/clients\n",
      "4.0K\t/etc/speech-dispatcher/modules/festival.conf\n",
      "4.0K\t/etc/speech-dispatcher/modules/pico-generic.conf\n",
      "4.0K\t/etc/speech-dispatcher/modules/dtk-generic.conf\n",
      "4.0K\t/etc/speech-dispatcher/modules/ivona.conf\n",
      "4.0K\t/etc/speech-dispatcher/modules/flite.conf\n",
      "4.0K\t/etc/speech-dispatcher/modules/llia_phon-generic.conf\n",
      "4.0K\t/etc/speech-dispatcher/modules/epos-generic.conf\n",
      "8.0K\t/etc/speech-dispatcher/modules/ibmtts.conf\n",
      "8.0K\t/etc/speech-dispatcher/modules/espeak-mbrola-generic.conf\n",
      "4.0K\t/etc/speech-dispatcher/modules/swift-generic.conf\n",
      "4.0K\t/etc/speech-dispatcher/modules/espeak.conf\n",
      "4.0K\t/etc/speech-dispatcher/modules/cicero.conf\n",
      "8.0K\t/etc/speech-dispatcher/modules/espeak-generic.conf\n",
      "68K\t/etc/speech-dispatcher/modules\n",
      "12K\t/etc/speech-dispatcher/speechd.conf\n",
      "96K\t/etc/speech-dispatcher\n",
      "4.0K\t/etc/X11/Xsession.d/35x11-common_xhost-local\n",
      "4.0K\t/etc/X11/Xsession.d/30x11-common_xresources\n",
      "4.0K\t/etc/X11/Xsession.d/60xbrlapi\n",
      "4.0K\t/etc/X11/Xsession.d/90gpg-agent\n",
      "4.0K\t/etc/X11/Xsession.d/90qt-a11y\n",
      "4.0K\t/etc/X11/Xsession.d/99x11-common_start\n",
      "4.0K\t/etc/X11/Xsession.d/20x11-common_process-args\n",
      "4.0K\t/etc/X11/Xsession.d/90x11-common_ssh-agent\n",
      "4.0K\t/etc/X11/Xsession.d/40x11-common_xsessionrc\n",
      "4.0K\t/etc/X11/Xsession.d/60xdg-user-dirs-update\n",
      "4.0K\t/etc/X11/Xsession.d/50x11-common_determine-startup\n",
      "4.0K\t/etc/X11/Xsession.d/55cinnamon-session_gnomerc\n",
      "4.0K\t/etc/X11/Xsession.d/75dbus_dbus-launch\n",
      "56K\t/etc/X11/Xsession.d\n",
      "4.0K\t/etc/X11/Xwrapper.config\n",
      "4.0K\t/etc/X11/Xreset.d/README\n",
      "8.0K\t/etc/X11/Xreset.d\n",
      "0\t/etc/X11/X\n",
      "4.0K\t/etc/X11/xsm/system.xsm\n",
      "8.0K\t/etc/X11/xsm\n",
      "4.0K\t/etc/X11/Xsession\n",
      "4.0K\t/etc/X11/xkb\n",
      "4.0K\t/etc/X11/XvMCConfig\n",
      "8.0K\t/etc/X11/app-defaults/Bitmap-nocase\n",
      "8.0K\t/etc/X11/app-defaults/Xman\n",
      "4.0K\t/etc/X11/app-defaults/Xmag\n",
      "4.0K\t/etc/X11/app-defaults/Clock-color\n",
      "4.0K\t/etc/X11/app-defaults/UXTerm\n",
      "4.0K\t/etc/X11/app-defaults/XClock-color\n",
      "8.0K\t/etc/X11/app-defaults/XTerm-color\n",
      "4.0K\t/etc/X11/app-defaults/Bitmap-color\n",
      "12K\t/etc/X11/app-defaults/Editres\n",
      "8.0K\t/etc/X11/app-defaults/Bitmap\n",
      "8.0K\t/etc/X11/app-defaults/XFontSel\n",
      "4.0K\t/etc/X11/app-defaults/XClipboard\n",
      "12K\t/etc/X11/app-defaults/XCalc-color\n",
      "4.0K\t/etc/X11/app-defaults/Xgc-color\n",
      "8.0K\t/etc/X11/app-defaults/UXTerm-color\n",
      "4.0K\t/etc/X11/app-defaults/Editres-color\n",
      "8.0K\t/etc/X11/app-defaults/Xvidtune\n",
      "20K\t/etc/X11/app-defaults/XCalc\n",
      "4.0K\t/etc/X11/app-defaults/Xmessage-color\n",
      "4.0K\t/etc/X11/app-defaults/Xgc\n",
      "4.0K\t/etc/X11/app-defaults/XLoad\n",
      "4.0K\t/etc/X11/app-defaults/Xfd\n",
      "4.0K\t/etc/X11/app-defaults/Viewres-color\n",
      "4.0K\t/etc/X11/app-defaults/XLogo\n",
      "8.0K\t/etc/X11/app-defaults/KOI8RXTerm-color\n",
      "12K\t/etc/X11/app-defaults/XTerm\n",
      "4.0K\t/etc/X11/app-defaults/XLogo-color\n",
      "8.0K\t/etc/X11/app-defaults/Xedit-color\n",
      "4.0K\t/etc/X11/app-defaults/Xmessage\n",
      "4.0K\t/etc/X11/app-defaults/Xditview-chrtr\n",
      "4.0K\t/etc/X11/app-defaults/Viewres\n",
      "4.0K\t/etc/X11/app-defaults/XConsole\n",
      "4.0K\t/etc/X11/app-defaults/KOI8RXTerm\n",
      "4.0K\t/etc/X11/app-defaults/Xditview\n",
      "4.0K\t/etc/X11/app-defaults/XClock\n",
      "4.0K\t/etc/X11/app-defaults/XMore\n",
      "16K\t/etc/X11/app-defaults/Xedit\n",
      "4.0K\t/etc/X11/app-defaults/XSm\n",
      "244K\t/etc/X11/app-defaults\n",
      "4.0K\t/etc/X11/default-display-manager\n",
      "4.0K\t/etc/X11/Xsession.options\n",
      "4.0K\t/etc/X11/Xresources/x11-common\n",
      "8.0K\t/etc/X11/Xresources\n",
      "20K\t/etc/X11/rgb.txt\n",
      "4.0K\t/etc/X11/xinit/xserverrc\n",
      "4.0K\t/etc/X11/xinit/xinitrc\n",
      "12K\t/etc/X11/xinit\n",
      "4.0K\t/etc/X11/fonts/75dpi/xfonts-75dpi.alias\n",
      "8.0K\t/etc/X11/fonts/75dpi\n",
      "4.0K\t/etc/X11/fonts/Type1/xfonts-scalable.scale\n",
      "8.0K\t/etc/X11/fonts/Type1\n",
      "8.0K\t/etc/X11/fonts/misc/xfonts-base.alias\n",
      "12K\t/etc/X11/fonts/misc\n",
      "4.0K\t/etc/X11/fonts/100dpi/xfonts-100dpi.alias\n",
      "8.0K\t/etc/X11/fonts/100dpi\n",
      "40K\t/etc/X11/fonts\n",
      "4.0K\t/etc/X11/Xreset\n",
      "428K\t/etc/X11\n",
      "4.0K\t/etc/lftp.conf\n",
      "4.0K\t/etc/libpaper.d\n",
      "4.0K\t/etc/bmon.conf\n",
      "4.0K\t/etc/mailcap.order\n",
      "4.0K\t/etc/chatscripts/provider\n",
      "4.0K\t/etc/chatscripts/pap\n",
      "4.0K\t/etc/chatscripts/gprs\n",
      "16K\t/etc/chatscripts\n",
      "0\t/etc/lighttpd/conf-enabled/90-javascript-alias.conf\n",
      "4.0K\t/etc/lighttpd/conf-enabled\n",
      "4.0K\t/etc/lighttpd/conf-available/90-javascript-alias.conf\n",
      "8.0K\t/etc/lighttpd/conf-available\n",
      "16K\t/etc/lighttpd\n",
      "4.0K\t/etc/vbox\n",
      "4.0K\t/etc/shadow\n",
      "11M\t/etc\n"
     ]
    },
    {
     "name": "stderr",
     "output_type": "stream",
     "text": [
      "du: cannot read directory ‘/etc/polkit-1/localauthority’: Permission denied\n",
      "du: cannot read directory ‘/etc/ssl/private’: Permission denied\n",
      "du: cannot read directory ‘/etc/cups/ssl’: Permission denied\n"
     ]
    }
   ],
   "source": [
    "%%bash\n",
    "du -ah /etc"
   ]
  },
  {
   "cell_type": "markdown",
   "metadata": {
    "slideshow": {
     "slide_type": "subslide"
    }
   },
   "source": [
    "with so many items printed out, it would be nice if we could limit them -- especially the items that are several levels deep in the tree. let's see if that's possible:\n",
    "\n",
    "```bash\n",
    "du --help\n",
    "```"
   ]
  },
  {
   "cell_type": "code",
   "execution_count": 129,
   "metadata": {},
   "outputs": [
    {
     "name": "stdout",
     "output_type": "stream",
     "text": [
      "Usage: du [OPTION]... [FILE]...\n",
      "  or:  du [OPTION]... --files0-from=F\n",
      "Summarize disk usage of each FILE, recursively for directories.\n",
      "\n",
      "Mandatory arguments to long options are mandatory for short options too.\n",
      "  -0, --null            end each output line with NUL, not newline\n",
      "  -a, --all             write counts for all files, not just directories\n",
      "      --apparent-size   print apparent sizes, rather than disk usage; although\n",
      "                          the apparent size is usually smaller, it may be\n",
      "                          larger due to holes in ('sparse') files, internal\n",
      "                          fragmentation, indirect blocks, and the like\n",
      "  -B, --block-size=SIZE  scale sizes by SIZE before printing them; e.g.,\n",
      "                           '-BM' prints sizes in units of 1,048,576 bytes;\n",
      "                           see SIZE format below\n",
      "  -b, --bytes           equivalent to '--apparent-size --block-size=1'\n",
      "  -c, --total           produce a grand total\n",
      "  -D, --dereference-args  dereference only symlinks that are listed on the\n",
      "                          command line\n",
      "  -d, --max-depth=N     print the total for a directory (or file, with --all)\n",
      "                          only if it is N or fewer levels below the command\n",
      "                          line argument;  --max-depth=0 is the same as\n",
      "                          --summarize\n",
      "      --files0-from=F   summarize disk usage of the\n",
      "                          NUL-terminated file names specified in file F;\n",
      "                          if F is -, then read names from standard input\n",
      "  -H                    equivalent to --dereference-args (-D)\n",
      "  -h, --human-readable  print sizes in human readable format (e.g., 1K 234M 2G)\n",
      "      --inodes          list inode usage information instead of block usage\n",
      "  -k                    like --block-size=1K\n",
      "  -L, --dereference     dereference all symbolic links\n",
      "  -l, --count-links     count sizes many times if hard linked\n",
      "  -m                    like --block-size=1M\n",
      "  -P, --no-dereference  don't follow any symbolic links (this is the default)\n",
      "  -S, --separate-dirs   for directories do not include size of subdirectories\n",
      "      --si              like -h, but use powers of 1000 not 1024\n",
      "  -s, --summarize       display only a total for each argument\n",
      "  -t, --threshold=SIZE  exclude entries smaller than SIZE if positive,\n",
      "                          or entries greater than SIZE if negative\n",
      "      --time            show time of the last modification of any file in the\n",
      "                          directory, or any of its subdirectories\n",
      "      --time=WORD       show time as WORD instead of modification time:\n",
      "                          atime, access, use, ctime or status\n",
      "      --time-style=STYLE  show times using STYLE, which can be:\n",
      "                            full-iso, long-iso, iso, or +FORMAT;\n",
      "                            FORMAT is interpreted like in 'date'\n",
      "  -X, --exclude-from=FILE  exclude files that match any pattern in FILE\n",
      "      --exclude=PATTERN    exclude files that match PATTERN\n",
      "  -x, --one-file-system    skip directories on different file systems\n",
      "      --help     display this help and exit\n",
      "      --version  output version information and exit\n",
      "\n",
      "Display values are in units of the first available SIZE from --block-size,\n",
      "and the DU_BLOCK_SIZE, BLOCK_SIZE and BLOCKSIZE environment variables.\n",
      "Otherwise, units default to 1024 bytes (or 512 if POSIXLY_CORRECT is set).\n",
      "\n",
      "The SIZE argument is an integer and optional unit (example: 10K is 10*1024).\n",
      "Units are K,M,G,T,P,E,Z,Y (powers of 1024) or KB,MB,... (powers of 1000).\n",
      "\n",
      "GNU coreutils online help: <http://www.gnu.org/software/coreutils/>\n",
      "Full documentation at: <http://www.gnu.org/software/coreutils/du>\n",
      "or available locally via: info '(coreutils) du invocation'\n"
     ]
    }
   ],
   "source": [
    "%%bash\n",
    "du --help"
   ]
  },
  {
   "cell_type": "markdown",
   "metadata": {},
   "source": [
    "Let's try out `--summarize`\n",
    "\n",
    "```bash\n",
    "du -h --summarize /etc\n",
    "```"
   ]
  },
  {
   "cell_type": "code",
   "execution_count": 132,
   "metadata": {},
   "outputs": [
    {
     "name": "stdout",
     "output_type": "stream",
     "text": [
      "11M\t/etc\n"
     ]
    },
    {
     "name": "stderr",
     "output_type": "stream",
     "text": [
      "du: cannot read directory ‘/etc/polkit-1/localauthority’: Permission denied\n",
      "du: cannot read directory ‘/etc/ssl/private’: Permission denied\n",
      "du: cannot read directory ‘/etc/cups/ssl’: Permission denied\n"
     ]
    }
   ],
   "source": [
    "%%bash\n",
    "du -h --summarize /etc"
   ]
  },
  {
   "cell_type": "markdown",
   "metadata": {},
   "source": [
    "that's pretty nice. What if I still wanted to know at least the size of the items in the directory, and the size of each sub-directory, but not further? there we could use the `-d` / `--max-depth` flag to specify we are interested in a maximum depth of 1:\n",
    "\n",
    "```bash\n",
    "du -h --max-depth 1 /etc\n",
    "```"
   ]
  },
  {
   "cell_type": "code",
   "execution_count": 133,
   "metadata": {},
   "outputs": [
    {
     "name": "stdout",
     "output_type": "stream",
     "text": [
      "16K\t/etc/chromium.d\n",
      "76K\t/etc/grub.d\n",
      "8.0K\t/etc/ldap\n",
      "16K\t/etc/modprobe.d\n",
      "12K\t/etc/apm\n",
      "12K\t/etc/thunderbird\n",
      "12K\t/etc/groff\n",
      "4.0K\t/etc/binfmt.d\n",
      "4.0K\t/etc/tmpfiles.d\n",
      "8.0K\t/etc/at-spi2\n",
      "12K\t/etc/conky\n",
      "8.0K\t/etc/rcS.d\n",
      "184K\t/etc/dbus-1\n",
      "284K\t/etc/ssh\n",
      "8.0K\t/etc/bonobo-activation\n",
      "8.0K\t/etc/rc5.d\n",
      "268K\t/etc/init\n",
      "8.0K\t/etc/rc4.d\n",
      "8.0K\t/etc/terminfo\n",
      "20K\t/etc/ufw\n",
      "16K\t/etc/cron.d\n",
      "8.0K\t/etc/gtk-3.0\n",
      "24K\t/etc/lightdm\n",
      "20K\t/etc/uwsgi\n",
      "348K\t/etc/sane.d\n",
      "32K\t/etc/perl\n",
      "8.0K\t/etc/insserv.conf.d\n",
      "8.0K\t/etc/discover.conf.d\n",
      "8.0K\t/etc/.java\n",
      "28K\t/etc/polkit-1\n",
      "8.0K\t/etc/plymouth\n",
      "16K\t/etc/iscsi\n",
      "144K\t/etc/bash_completion.d\n",
      "180K\t/etc/alternatives\n",
      "24K\t/etc/pulse\n",
      "12K\t/etc/texmf\n",
      "8.0K\t/etc/python3\n",
      "12K\t/etc/kbd\n",
      "84K\t/etc/logrotate.d\n",
      "452K\t/etc/init.d\n",
      "432K\t/etc/fail2ban\n",
      "20K\t/etc/bluetooth\n",
      "8.0K\t/etc/python\n",
      "60K\t/etc/gimp\n",
      "232K\t/etc/apt\n",
      "4.0K\t/etc/opt\n",
      "24K\t/etc/samba\n",
      "32K\t/etc/emacs\n",
      "8.0K\t/etc/calendar\n",
      "12K\t/etc/sysctl.d\n",
      "60K\t/etc/neo4j\n",
      "8.0K\t/etc/cracklib\n",
      "32K\t/etc/R\n",
      "12K\t/etc/vim\n",
      "28K\t/etc/mercurial\n",
      "8.0K\t/etc/cron.hourly\n",
      "16K\t/etc/skel\n",
      "16K\t/etc/gnome-vfs-2.0\n",
      "28K\t/etc/udev\n",
      "12K\t/etc/gss\n",
      "8.0K\t/etc/python3.4\n",
      "240K\t/etc/icaclient\n",
      "4.0K\t/etc/sensors.d\n",
      "8.0K\t/etc/sudoers.d\n",
      "8.0K\t/etc/rdnssd\n",
      "12K\t/etc/PackageKit\n",
      "16K\t/etc/avahi\n",
      "56K\t/etc/kernel\n",
      "12K\t/etc/emacs24\n",
      "24K\t/etc/mysql\n",
      "8.0K\t/etc/hp\n",
      "12K\t/etc/resolvconf\n",
      "120K\t/etc/pam.d\n",
      "8.0K\t/etc/firefox-esr\n",
      "4.0K\t/etc/foomatic\n",
      "304K\t/etc/exim4\n",
      "4.0K\t/etc/usb_modeswitch.d\n",
      "4.0K\t/etc/dictionaries-common\n",
      "84K\t/etc/ppp\n",
      "24K\t/etc/gconf\n",
      "16K\t/etc/cron.weekly\n",
      "4.0K\t/etc/newt\n",
      "12K\t/etc/wildmidi\n",
      "56K\t/etc/dkms\n",
      "8.0K\t/etc/purple\n",
      "1.1M\t/etc/ssl\n",
      "100K\t/etc/cron.daily\n",
      "8.0K\t/etc/UPower\n",
      "184K\t/etc/default\n",
      "12K\t/etc/timidity\n",
      "8.0K\t/etc/ifplugd\n",
      "148K\t/etc/xdg\n",
      "4.0K\t/etc/java-6-sun\n",
      "12K\t/etc/teamviewer\n",
      "8.0K\t/etc/rc0.d\n",
      "12K\t/etc/xboard\n",
      "104K\t/etc/systemd\n",
      "8.0K\t/etc/geoclue\n",
      "16K\t/etc/request-key.d\n",
      "8.0K\t/etc/rc2.d\n",
      "44K\t/etc/NetworkManager\n",
      "8.0K\t/etc/modules-load.d\n",
      "16K\t/etc/acpi\n",
      "32K\t/etc/iproute2\n",
      "16K\t/etc/GNUstep\n",
      "16K\t/etc/profile.d\n",
      "4.0K\t/etc/rsyslog.d\n",
      "8.0K\t/etc/rc3.d\n",
      "204K\t/etc/php5\n",
      "16K\t/etc/libreoffice\n",
      "12K\t/etc/w3m\n",
      "24K\t/etc/Muttrc.d\n",
      "36K\t/etc/ghostscript\n",
      "28K\t/etc/ld.so.conf.d\n",
      "44K\t/etc/wpa_supplicant\n",
      "8.0K\t/etc/rc1.d\n",
      "60K\t/etc/sound\n",
      "8.0K\t/etc/python2.7\n",
      "28K\t/etc/dpkg\n",
      "472K\t/etc/ati\n",
      "52K\t/etc/security\n",
      "152K\t/etc/java-8-openjdk\n",
      "668K\t/etc/apache2\n",
      "64K\t/etc/apparmor.d\n",
      "8.0K\t/etc/selinux\n",
      "72K\t/etc/sgml\n",
      "16K\t/etc/openal\n",
      "8.0K\t/etc/gtk-2.0\n",
      "16K\t/etc/cupshelpers\n",
      "68K\t/etc/postgresql\n",
      "216K\t/etc/iceweasel\n",
      "64K\t/etc/xml\n",
      "12K\t/etc/ca-certificates\n",
      "232K\t/etc/ImageMagick-6\n",
      "8.0K\t/etc/rc6.d\n",
      "12K\t/etc/pm\n",
      "12K\t/etc/cron.monthly\n",
      "52K\t/etc/network\n",
      "72K\t/etc/initramfs-tools\n",
      "8.0K\t/etc/icalicense\n",
      "88K\t/etc/nginx\n",
      "124K\t/etc/console-setup\n",
      "8.0K\t/etc/gnome-chess\n",
      "60K\t/etc/cups\n",
      "80K\t/etc/fonts\n",
      "8.0K\t/etc/insserv\n",
      "4.0K\t/etc/udisks2\n",
      "20K\t/etc/postgresql-common\n",
      "36K\t/etc/dhcp\n",
      "12K\t/etc/libnl-3\n",
      "56K\t/etc/logcheck\n",
      "96K\t/etc/speech-dispatcher\n",
      "428K\t/etc/X11\n",
      "4.0K\t/etc/libpaper.d\n",
      "16K\t/etc/chatscripts\n",
      "16K\t/etc/lighttpd\n",
      "4.0K\t/etc/vbox\n",
      "11M\t/etc\n"
     ]
    },
    {
     "name": "stderr",
     "output_type": "stream",
     "text": [
      "du: cannot read directory ‘/etc/polkit-1/localauthority’: Permission denied\n",
      "du: cannot read directory ‘/etc/ssl/private’: Permission denied\n",
      "du: cannot read directory ‘/etc/cups/ssl’: Permission denied\n"
     ]
    }
   ],
   "source": [
    "%%bash\n",
    "du -h --max-depth 1 /etc"
   ]
  },
  {
   "cell_type": "markdown",
   "metadata": {
    "slideshow": {
     "slide_type": "subslide"
    }
   },
   "source": [
    "so why spend time talking about this command? Well, if you've never written a program which accidentally produced a dataset that was too large for your file system, you should really give it a try. And when you do, this set of commands will be fairly invaluable in determining which files are the real offenders and getting rid of them asap."
   ]
  },
  {
   "cell_type": "markdown",
   "metadata": {
    "slideshow": {
     "slide_type": "subslide"
    }
   },
   "source": [
    "##### `tree`\n",
    "\n",
    "one last file command, and this one is the best of the bunch -- you simply cannot live without it. It's called `tree` and it prints out the directory contents (*a la* `ls`), but in a graphical \"tree\"-like way such that the relationship between directories, sub-directories and file is visually obvious. It's a life-saver.\n",
    "\n",
    "it will expand to all depths by default (like `du` above), so let's limit it to only 1 level deep first using the `-L` flag. we'll also want to see all files, so `-a` should be included as well.\n",
    "\n",
    "```bash\n",
    "tree -a -L 1 ~\n",
    "```"
   ]
  },
  {
   "cell_type": "code",
   "execution_count": 137,
   "metadata": {
    "collapsed": true
   },
   "outputs": [],
   "source": [
    "%%bash\n",
    "tree -a -L 1 ~"
   ]
  },
  {
   "cell_type": "markdown",
   "metadata": {
    "slideshow": {
     "slide_type": "subslide"
    }
   },
   "source": [
    "wat\n",
    "\n",
    "```\n",
    "The program 'tree' is currently not installed. You can install it by typing:\n",
    "sudo apt install tree\n",
    "```"
   ]
  },
  {
   "cell_type": "markdown",
   "metadata": {
    "slideshow": {
     "slide_type": "slide"
    }
   },
   "source": [
    "### packages\n",
    "\n",
    "We simply *have* to have `tree` installed, but before we go fire off that command in the error message, let's talk for a second about packages.\n",
    "\n",
    "packages are the linux world standard for installable software. they are basically just compressed (think \"zipped\", but technically don't think that) directories of all of the files needed to run an application, plus some other files needed to create or install that software and get it to \"play nice\" with the rest of your operating system.\n",
    "\n",
    "unlike MSIs or DMGs in the windows and mac world, these are not programs which install software, but rather sets of files that *one* unified program can use to install software."
   ]
  },
  {
   "cell_type": "markdown",
   "metadata": {
    "slideshow": {
     "slide_type": "subslide"
    }
   },
   "source": [
    "for you as a user, you will generally\n",
    "\n",
    "1. want to install some software\n",
    "2. know the name of that software\n",
    "3. ...?\n",
    "\n",
    "this is where *package managers* come in. a package manager is a program which will\n",
    "\n",
    "1. find packages of applications (by name, typically)\n",
    "2. resolve the *dependencies* of that package (look up all of the *other* software that you might need to download in order to have that software work)\n",
    "3. download the package files and the dependency package files\n",
    "4. perform any of the installation instructions or configurations in those package files\n",
    "5. make sure that all parts of the system that \"need to know\" about new packages are informed"
   ]
  },
  {
   "cell_type": "markdown",
   "metadata": {
    "slideshow": {
     "slide_type": "subslide"
    }
   },
   "source": [
    "there are a handful of different package managers in linux world, but they are usually one-to-one with distributions:\n",
    "\n",
    "1. `apt` (for \"Advanced Package Tool\")\n",
    "    1. the primary package manager in modern debian (including Ubuntu) distributions\n",
    "2. `apt-get` \n",
    "    1. is part of the same project as `apt`, but is an older version (being replaced everywhere by `apt`)\n",
    "3. `yum` (for \"Yellowdog Updater Modified\")\n",
    "    1. wrapper around `rpm` (below)\n",
    "    2. primary package manager for Red Hat (RHEL), CentOS, and Fedora\n",
    "4. `rpm` (for \"Redhat Package Manager\")\n",
    "    1. basic package manager for Red Hat\n",
    "5. downloading files and installing them yourself (usually via `make` and `make install`)\n",
    "    1. this is possible and obviously a bit more advanced, but sometimes it is useful to be able to install what *you* want instead of what the package maintainer will allow you to install (which can lag behind development by years at times)"
   ]
  },
  {
   "cell_type": "markdown",
   "metadata": {
    "slideshow": {
     "slide_type": "subslide"
    }
   },
   "source": [
    "enough yaking, let's install `tree` already:\n",
    "\n",
    "```bash\n",
    "sudo apt install tree\n",
    "```\n",
    "\n",
    "one way we can check that tree is installed is just to run the command again:\n",
    "\n",
    "```bash\n",
    "tree -a -L 1 ~\n",
    "```"
   ]
  },
  {
   "cell_type": "markdown",
   "metadata": {
    "slideshow": {
     "slide_type": "slide"
    }
   },
   "source": [
    "### process information\n",
    "\n",
    "you may have experience with the window \"task manager\" or the mac \"activity manager\", and if so you know how helpful they can be. there are gui versions of those same utilities in linux world, but they are less standard and often require a bit more configuration or user knowledge.\n",
    "\n",
    "the tools that *are* standard tend to be a little more low-level and also a bit more single-use / niche (in following with the DOTADIW philosophy).\n",
    "\n",
    "knowing these commands is often essential to doing any sort of debugging of system performance. that being said, you will use these much less as a linux *user* than as an admin."
   ]
  },
  {
   "cell_type": "markdown",
   "metadata": {
    "slideshow": {
     "slide_type": "subslide"
    }
   },
   "source": [
    "##### `top` and `htop`\n",
    "\n",
    "both `top` (Table of Processes) and `htop` (Hisham (author's name) TOP) are programs used to list out all the currently running processes (think of the \"processes\" tab on task or activity monitor).\n",
    "\n",
    "both open in an interactive terminal window and can be exited (like `less`) with the `q` key.\n",
    "\n",
    "try both!\n",
    "\n",
    "```bash\n",
    "top\n",
    "```\n",
    "\n",
    "note: you may well have to install htop with `sudo apt install htop`\n",
    "\n",
    "```bash\n",
    "htop\n",
    "```"
   ]
  },
  {
   "cell_type": "markdown",
   "metadata": {
    "slideshow": {
     "slide_type": "subslide"
    }
   },
   "source": [
    "as far as I can tell, the one and only reason to use `top` instead of `htop` is that `htop` isn't installed and you can't install it"
   ]
  },
  {
   "cell_type": "markdown",
   "metadata": {
    "slideshow": {
     "slide_type": "subslide"
    }
   },
   "source": [
    "##### `ps`\n",
    "\n",
    "short for \"Process Status\", this command prints out some summary information about all running processes. unlike `top` and `htop`, this is a snapshot program, so you do not see updates.\n",
    "\n",
    "the default behavior is to print out only the running commands initiated by the current user (*e.g.* `ubuntu`), and the following valued:\n",
    "\n",
    "1. PID: the process id, an integer which uniquely identifies that process among all running processes on the system\n",
    "2. TTY: a value identifying the terminal in which that command is running (may be none for graphical or background processes)\n",
    "3. TIME: the time the command began (relative to the machine' start time)\n",
    "4. CMD: the actual executed command\n",
    "\n",
    "```bash\n",
    "ps\n",
    "```"
   ]
  },
  {
   "cell_type": "code",
   "execution_count": null,
   "metadata": {
    "collapsed": true
   },
   "outputs": [],
   "source": [
    "%%bash\n",
    "ps"
   ]
  },
  {
   "cell_type": "markdown",
   "metadata": {
    "slideshow": {
     "slide_type": "subslide"
    }
   },
   "source": [
    "it is fairly common to modify this command with the `aux` flag, which will\n",
    "\n",
    "1. `a`: list commands run by all users\n",
    "2. `u`: add a column listing the user\n",
    "3. `x`: include processes that weren't started in a terminal\n",
    "\n",
    "```bash\n",
    "ps -aux\n",
    "```"
   ]
  },
  {
   "cell_type": "code",
   "execution_count": null,
   "metadata": {
    "collapsed": true
   },
   "outputs": [],
   "source": [
    "%%bash\n",
    "ps -aux"
   ]
  },
  {
   "cell_type": "markdown",
   "metadata": {
    "slideshow": {
     "slide_type": "subslide"
    }
   },
   "source": [
    "##### `kill` and `pkill`\n",
    "\n",
    "sometimes you have a long-running process that you realize was a mistake, or has become unresponsive (*aka* a zombie process). it is nice to be able to kill these processes, but often difficult -- especially when there is no gui interface with an X button.\n",
    "\n",
    "the command to kill a process is, appropriately, `kill`, and it takes that unique process identifier we just saw via `ps`.\n",
    "\n",
    "```bash\n",
    "kill [the PID goes here]\n",
    "```\n",
    "\n",
    "the common workflow is to run `ps`, look up the PID (this is easier done via `ps` than `[h]top` because `ps` is a static snapshot), and run kill."
   ]
  },
  {
   "cell_type": "markdown",
   "metadata": {
    "slideshow": {
     "slide_type": "subslide"
    }
   },
   "source": [
    "under the hood, the `kill` command is sending a *signal* to the running process. there are several different signals that all effectively mean \"stop this process\", but they come with different levels of urgency (with lower meaning more urgent). the only two you really need to know are\n",
    "\n",
    "1. `SIGTERM`, level 15\n",
    "    1. default\n",
    "    2. this requests the process be \"terminated\"\n",
    "    3. graceful: will try and do useful cleanup before quitting (if the process supports such a thing)\n",
    "    4. not guaranteed to work\n",
    "2. `SIGKILL`, level 9\n",
    "    1. the \"just do it\" option\n",
    "    2. not graceful: kills the process immediately and without cleanup"
   ]
  },
  {
   "cell_type": "markdown",
   "metadata": {
    "slideshow": {
     "slide_type": "subslide"
    }
   },
   "source": [
    "an alternative to `kill` is to run `pkill`, which takes a *name* instead of a PID and will kill any proces running where that name is in the CMD of that process.\n",
    "\n",
    "this can be dangerous: for example, it is very possible that you might have several `python` scripts running, and only one becomes a zombie. In that case, you will not want to `pkill python`, and will *have* to look up the correct process id and use plain `kill` to stop it."
   ]
  },
  {
   "cell_type": "markdown",
   "metadata": {},
   "source": [
    "note: you can also kill process from within `htop` by selecting the process with the keyboard, pressing `k`, and selecting the signal to send (basically: `15 SIGTERM` or `9 SIGKILL`) "
   ]
  },
  {
   "cell_type": "markdown",
   "metadata": {
    "slideshow": {
     "slide_type": "subslide"
    }
   },
   "source": [
    "##### `shutdown` and `reboot`\n",
    "\n",
    "you know what these command will do by the name: they will `shutdown` or `reboot` the computer.\n",
    "\n",
    "technically, `reboot` is a specail instance of `shutdown`: `shutdown -r`.\n",
    "\n",
    "you can test these if you want. I won't ;)"
   ]
  },
  {
   "cell_type": "markdown",
   "metadata": {
    "slideshow": {
     "slide_type": "slide"
    }
   },
   "source": [
    "### utilities\n",
    "\n",
    "the following commands are a grabbag of utilities I use regularly for various purposes. your mileage may vary"
   ]
  },
  {
   "cell_type": "markdown",
   "metadata": {
    "slideshow": {
     "slide_type": "subslide"
    }
   },
   "source": [
    "##### `history`\n",
    "\n",
    "this prints out all of the commands you have recently executed.\n",
    "\n",
    "```bash\n",
    "history\n",
    "```"
   ]
  },
  {
   "cell_type": "code",
   "execution_count": 141,
   "metadata": {
    "collapsed": true
   },
   "outputs": [],
   "source": [
    "%%bash\n",
    "history 20"
   ]
  },
  {
   "cell_type": "markdown",
   "metadata": {
    "slideshow": {
     "slide_type": "subslide"
    }
   },
   "source": [
    "note: if you press `ctrl + r` you will be able to type and recursively search for commands you previously entered (those in your history) among all commands that contain that information.\n",
    "\n",
    "try it out -- with an empty terminal line, enter `ctrl + r` and then type `apt ` and see what happens."
   ]
  },
  {
   "cell_type": "markdown",
   "metadata": {
    "slideshow": {
     "slide_type": "subslide"
    }
   },
   "source": [
    "##### `date`\n",
    "\n",
    "this command is among the most useful of all linux commands. in addition to the default behavior (just printing the date and time to the terminal), it is possible to print out a large number of strings representing different formats and arrangements of time values as desired. \n",
    "\n",
    "Let's try out two examples:\n",
    "\n",
    "```bash\n",
    "# print out the Y, M, D, and then H, M, and S as a timestamp with \n",
    "# periods separating the date from the time characters\n",
    "date +%Y%m%d.%H%M%S\n",
    "```"
   ]
  },
  {
   "cell_type": "code",
   "execution_count": 143,
   "metadata": {},
   "outputs": [
    {
     "name": "stdout",
     "output_type": "stream",
     "text": [
      "20170826.230835\n"
     ]
    }
   ],
   "source": [
    "%%bash\n",
    "date +%Y%m%d.%H%M%S"
   ]
  },
  {
   "cell_type": "markdown",
   "metadata": {},
   "source": [
    "and now the same timestamp, but last Friday and then 20 days ago\n",
    "\n",
    "```bash\n",
    "date --date=\"last Friday\" +%Y%m%d.%H%M%S\n",
    "date --date=\"20 days ago\" +%Y%m%d.%H%M%S\n",
    "```"
   ]
  },
  {
   "cell_type": "code",
   "execution_count": 145,
   "metadata": {},
   "outputs": [
    {
     "name": "stdout",
     "output_type": "stream",
     "text": [
      "20170825.000000\n",
      "20170806.231034\n"
     ]
    }
   ],
   "source": [
    "%%bash\n",
    "date --date=\"last Friday\" +%Y%m%d.%H%M%S\n",
    "date --date=\"20 days ago\" +%Y%m%d.%H%M%S"
   ]
  },
  {
   "cell_type": "markdown",
   "metadata": {
    "slideshow": {
     "slide_type": "subslide"
    }
   },
   "source": [
    "##### `wc`\n",
    "\n",
    "`wc` is short for \"word count\", and it does just what you expect -- counts words in strings or files. It has the ability to count bytes, chards, lines, paragraphs, and maximum line lenghts as well.\n",
    "\n",
    "in all honesty, while it is *nice* to know the number of words in a file, I use this more often to count the number of *files* in a directory. If you print the number of files as a list (`ls -l`) and use `wc -l` to count the lines, you will have the number of files (plus two: `.` and `..`).\n",
    "\n",
    "```bash\n",
    "ls -l /etc | wc -l\n",
    "```"
   ]
  },
  {
   "cell_type": "code",
   "execution_count": 147,
   "metadata": {},
   "outputs": [
    {
     "name": "stdout",
     "output_type": "stream",
     "text": [
      "276\n"
     ]
    }
   ],
   "source": [
    "%%bash\n",
    "ls -l /etc | wc -l"
   ]
  },
  {
   "cell_type": "markdown",
   "metadata": {
    "slideshow": {
     "slide_type": "subslide"
    }
   },
   "source": [
    "##### `dirname` and `basename`\n",
    "\n",
    "every path in linux can be described as a full directory name (the list of all directories between the file and root) and the filename. If you consider directories themselves to be named what they are name (generalize filename to \"basename\"), every path can be split in half as a \"directory name\" and \"base name\". The commands `dirname` and `basename` will convert every file into those two components\n",
    "\n",
    "```bash\n",
    "dirname /this/is/a/test/path/to/file.txt\n",
    "basename /this/is/a/test/path/to/file.txt\n",
    "```\n",
    "\n",
    "*note: this is parsing strings based on path name rules, not looking at actual paths on the actual file system*"
   ]
  },
  {
   "cell_type": "code",
   "execution_count": 148,
   "metadata": {},
   "outputs": [
    {
     "name": "stdout",
     "output_type": "stream",
     "text": [
      "/this/is/a/test/path/to\n",
      "file.txt\n"
     ]
    }
   ],
   "source": [
    "%%bash\n",
    "dirname /this/is/a/test/path/to/file.txt\n",
    "basename /this/is/a/test/path/to/file.txt"
   ]
  },
  {
   "cell_type": "markdown",
   "metadata": {
    "slideshow": {
     "slide_type": "subslide"
    }
   },
   "source": [
    "##### `grep`\n",
    "\n",
    "as I've said about a couple different linux features and utilities now, you could take an entire class on using `grep` (short for \"Globally search a Regular Expression and Print\" -- catchy). \n",
    "\n",
    "the purpose of `grep` is to provide a fast and flexible way of performing generalized text searches (*i.e.* regular expression searches). Often we may want to find all of the files in which we referenced a certain variable (*e.g.*, we want to change the variable `LogisticRegression` to `NeuralNet`, because we're feeling *spicy*), or find all instances of a known typo in a single file. this is the primary use case for `grep`.\n",
    "\n",
    "As an example, let's suppose we want to see all of the aliases we created in our `bash` profile. We could perform a case-insensitive search (`-i`) and print off all the line numbers (`-n`) for all of the files under (`-r`, aka recursive) our home directory:\n",
    "\n",
    "```bash\n",
    "grep -nir alias ~/\n",
    "```"
   ]
  },
  {
   "cell_type": "code",
   "execution_count": 149,
   "metadata": {},
   "outputs": [
    {
     "name": "stdout",
     "output_type": "stream",
     "text": [
      "Process is interrupted.\n"
     ]
    }
   ],
   "source": [
    "%%bash\n",
    "grep -nir alias ~/"
   ]
  },
  {
   "cell_type": "markdown",
   "metadata": {
    "slideshow": {
     "slide_type": "subslide"
    }
   },
   "source": [
    "##### `diff`\n",
    "\n",
    "this utility compares two files to find the differences (hence, `diff`). this is mostly pointless for *different* files; it is used mostly to compare different iterations / versions of files. under the hood, the basic action of `git` (the preeminent version control system) is to track `diff` output between previous and current versions of code files.\n",
    "\n",
    "just to get an example of what diff output looks and feels like, let's do the following:\n",
    "\n",
    "```bash\n",
    "echo \"hello world my name is zach\" > ~/test.txt\n",
    "echo \"hello world my awesome name is zach\" > ~/test.2.txt\n",
    "diff ~/test.txt ~/test.2.txt\n",
    "```"
   ]
  },
  {
   "cell_type": "code",
   "execution_count": 154,
   "metadata": {},
   "outputs": [
    {
     "name": "stdout",
     "output_type": "stream",
     "text": [
      "1c1\n",
      "< hello world my name is zach\n",
      "---\n",
      "> hello world my awesome name is zach\n"
     ]
    }
   ],
   "source": [
    "%%bash\n",
    "echo \"hello world my name is zach\" > ~/test.txt\n",
    "echo \"hello world my awesome name is zach\" > ~/test.2.txt\n",
    "diff ~/test.txt ~/test.2.txt"
   ]
  },
  {
   "cell_type": "markdown",
   "metadata": {},
   "source": [
    "the way that `diff` displays differences is to find lines which disagree or are additions / subtractions and to print out the two different versions. The lines as they appear in the \"first\" file (to the left in the command line statement) get a `<` character in front of them. they are separated from the \"second\" file (to the right in the command line statement) by a row of `-` characters, and the second / right file lines are lead by a `>` character"
   ]
  },
  {
   "cell_type": "markdown",
   "metadata": {
    "slideshow": {
     "slide_type": "subslide"
    }
   },
   "source": [
    "##### `tar` and `unzip`\n",
    "\n",
    "you may not often think about Tape ARchives (`tar`) as a thing that happens, but in a lot of fields it is actually a legal compliance obligration (e.g. pretty much the entire financial sector, much of the government). that being said, you don't actually have to create tape archives -- but you will *very* often use the compression algorithms used in tape archives to compress collection of files before sending them to other folks, or decompressing files sent to you.\n",
    "\n",
    "in the windows and mac world, you are probably used to finding `.zip` files, and you are familiar with decompressing (\"extracting\") these archive files into several files and folders. you will soon also become familiar with `tar` and `tar.gz` file extensions -- these are archives in the linux world, and the command you use to compress or decompress files is `tar`.\n",
    "\n",
    "because of the ubiquitous of `zip` files, the `unzip` function is also available on most linux distributions for decompressing `zip` archives."
   ]
  },
  {
   "cell_type": "markdown",
   "metadata": {
    "slideshow": {
     "slide_type": "subslide"
    }
   },
   "source": [
    "##### `locate` and `find`\n",
    "\n",
    "both `locate` and `find` can be used to find files by file names, but `locate` is much faster and simpler for general use. `find` is more useful for collecting names which follow certain patterns, and that in turn is useful for scripting purposes.\n",
    "\n",
    "until you find  yourself reading about `find` on stack overflow posts, you should default to always using `locate`.\n",
    "\n",
    "```bash\n",
    "locate .bashrc\n",
    "```"
   ]
  },
  {
   "cell_type": "code",
   "execution_count": 155,
   "metadata": {},
   "outputs": [
    {
     "name": "stdout",
     "output_type": "stream",
     "text": [
      "/etc/bash.bashrc\n",
      "/etc/skel/.bashrc\n",
      "/home/zlamberty/.bashrc\n",
      "/home/zlamberty/.bashrc-anaconda2.bak\n",
      "/home/zlamberty/.bashrc-anaconda3.bak\n",
      "/home/zlamberty/code/linux_configs/files/.bashrc\n",
      "/usr/share/base-files/dot.bashrc\n",
      "/usr/share/doc/adduser/examples/adduser.local.conf.examples/bash.bashrc\n",
      "/usr/share/doc/adduser/examples/adduser.local.conf.examples/skel/dot.bashrc\n"
     ]
    }
   ],
   "source": [
    "%%bash\n",
    "locate .bashrc"
   ]
  },
  {
   "cell_type": "markdown",
   "metadata": {
    "slideshow": {
     "slide_type": "subslide"
    }
   },
   "source": [
    "##### `sort` and `unique`\n",
    "\n",
    "these two commands will take in lists of strings and sort them (`sort`, obviously) and remove duplicates / reduce them to a list of unique values (`unique`). As with `find`, these are usually more useful for scripting purposes, though `sort` finds some general application."
   ]
  },
  {
   "cell_type": "markdown",
   "metadata": {
    "slideshow": {
     "slide_type": "subslide"
    }
   },
   "source": [
    "##### `xargs`\n",
    "\n",
    "this command is a bit advanced, but let's quickly discuss *what* it does. As we mentioned in the philosophy section, each linux command is meant to act as a filter on an input variable. for historic reasons this was not always implemented in the same way: sometimes commands were built to take in *only* items from the command line (instead of standard in, so pipes are broken), or have a capped number of allowed arguments.\n",
    "\n",
    "`xargs` was created to solve many of these problems, and to help make sure that even \"broken\" or \"old\" processes will follow the linux philosophy.\n",
    "\n",
    "basically, `xargs` will take a list of items and use them to build as many executions of a single command on all the items in that list.\n",
    "\n",
    "as a side effect, the ability to chunk up list items into smaller groups allows for multi-threading and parallelization via `xargs`. this is a dirty hack, but [a pretty common one](https://github.com/RZachLamberty/zshell/blob/master/hydra-curl-nofrills.sh)"
   ]
  },
  {
   "cell_type": "markdown",
   "metadata": {
    "slideshow": {
     "slide_type": "subslide"
    }
   },
   "source": [
    "##### `screen`\n",
    "\n",
    "one thing that is probably not obvious yet: what if the command you want to run takes a *long* time and you just kicked it off? \n",
    "\n",
    "what does your terminal look like now?\n",
    "\n",
    "Can you do anything?\n",
    "\n",
    "what happens if you close the terminal window?"
   ]
  },
  {
   "cell_type": "markdown",
   "metadata": {
    "slideshow": {
     "slide_type": "subslide"
    }
   },
   "source": [
    "as it so happens, if you start a process in a terminal window, and then close that process, it will generally be killed. this is obviously less than desirable. you could leave terminals open until process close, but what about *permanent* processes?\n",
    "\n",
    "`screen` is a way of creating \"pseudo-terminals\" that you can access as you wish, but that you do not need to remain logged into.\n",
    "\n",
    "I pretty much exclusively use `screen` to run my long-running processes (like web apps or persistent API calls / web scrapers). We may get to use of screen in the future, but for now I will just mention it so you know about this super useful package"
   ]
  },
  {
   "cell_type": "markdown",
   "metadata": {
    "slideshow": {
     "slide_type": "subslide"
    }
   },
   "source": [
    "##### `cron` and `crontab`\n",
    "\n",
    "`cron` is named after the greek work for time, $\\chi\\rho\\omicron\\nu\\omicron\\sigma$ (*chronos*), and is the *de facto* methdo for scheduling executions of processes and jobs. all basic operating system actions are scheduled using this utility, so you absolutely should use it for your scheduling unless it is impossible.\n",
    "\n",
    "the basic frequency in `cron` is 1 minutes -- in my opinion, one of the only reason to move beyond `cron` as a scheduler is to get sub-minute frequency (some like things like web apps and dashboards, but I'm pretty happy with log files!).\n",
    "\n",
    "basically, a `cron` entry is a execution time pattern and a set of `bash` commands that you want to execute. To avoid writing it for the 18 billionth time, I'll refer to [the corresponding section on wikipedia](https://en.wikipedia.org/wiki/Cron#Overview).\n",
    "\n",
    "to add your own entries to `cron` you will use the `crontab` utility with the `-e` (edit) flag. this will open an editor and all you will need to do is add the timestamp and command"
   ]
  },
  {
   "cell_type": "markdown",
   "metadata": {
    "slideshow": {
     "slide_type": "slide"
    }
   },
   "source": [
    "### Networking\n",
    "\n",
    "given that we are working on remote desktops, we will now often be interested in networked communication between computers. there are a couple of commands which feature fairly prominently in these interactions.\n",
    "\n",
    "although this is explicitly a linux tutorial, many of these actions can be done with dedicated analogous programs in windows, and I will discuss those as well"
   ]
  },
  {
   "cell_type": "markdown",
   "metadata": {
    "slideshow": {
     "slide_type": "subslide"
    }
   },
   "source": [
    "##### `ssh`\n",
    "\n",
    "you've already used this -- `ssh` is the basic command for all Secure SHell connections between computers.\n",
    "\n",
    "1. linux, mac: the command `ssh` often comes pre-installed, but if not it can be installed as part of the `openssh` package\n",
    "2. windows: the industry standard is [PuTTY](https://www.chiark.greenend.org.uk/~sgtatham/putty/latest.html)"
   ]
  },
  {
   "cell_type": "markdown",
   "metadata": {
    "slideshow": {
     "slide_type": "subslide"
    }
   },
   "source": [
    "##### `scp`\n",
    "\n",
    "`scp` is short for Secure CoPy. basically, this is just an implementation of the copy command using the ssh connection protocol. It relies on all the same technology as `ssh` including configuration files and privay / public key exchange.\n",
    "\n",
    "1. linux, mac: the `scp` command is a part of the `openssh` package, so if you have `ssh` installed you will have `scp` available.\n",
    "2. windows: the industry standard is [WinSCP](https://winscp.net/eng/download.php)"
   ]
  },
  {
   "cell_type": "markdown",
   "metadata": {
    "slideshow": {
     "slide_type": "subslide"
    }
   },
   "source": [
    "##### `ftp`, `lftp`, and `sftp`\n",
    "\n",
    "I mentioned it briefly in a previous lecture, but there are a few protocols (rules for constructing messages and sending them to remote services) that are explicitly dedicated to file transfer. They fall into two camps:\n",
    "\n",
    "1. ftp: the first iteration, stands for File Transfer Protocol\n",
    "2. sftp: the second iteration, stands for Secure (or SSH) File Transfer Protocol\n",
    "\n",
    "in linux and mac world, each of these protocols has a command of the same name that implements the command line interface (cli) for that protocol. `lftp` is a general purpose command that provides many useful features in addition to the basic `ftp` and `sftp` commands"
   ]
  },
  {
   "cell_type": "markdown",
   "metadata": {
    "slideshow": {
     "slide_type": "subslide"
    }
   },
   "source": [
    "in terms of usage, these commands will effectively\n",
    "\n",
    "1. create a connection using the corresponding protocol\n",
    "2. create a new interactive session for executing ftp or sftp commands\n",
    "    1. example of commands: GET, PUT, MV, CP\n",
    "3. logging and error messages are all handled and displayed as needed\n",
    "\n",
    "the growing use of S3 as a file storage and sharing utility means that *our* file storage will be done in an entirely different way. that being said, ftp and sftp are still ubiquitous. I have used an FTP or SFTP server on every project I have worked on."
   ]
  },
  {
   "cell_type": "markdown",
   "metadata": {
    "slideshow": {
     "slide_type": "subslide"
    }
   },
   "source": [
    "let's do a quick demo of using one of these protocols (the simpler: ftp).\n",
    "\n",
    "first, in your browser, open [the NOAA CLASS (comprehensive large array-data stewardship system) ftp site for satelite data distribution](ftp://ftp-npp.class.ngdc.noaa.gov/20170827/)\n",
    "\n",
    "then, in your ec2 terminal try the following:\n",
    "\n",
    "```bash\n",
    "ftp ftp-npp.class.ngdc.noaa.gov\n",
    "# just press enter for the user name and password\n",
    "# or enter anything you want\n",
    "\n",
    "# then enter help to see the type of commands available\n",
    "# some should be familiar (ls, cd, pwd)\n",
    "ftp> help\n",
    "```"
   ]
  },
  {
   "cell_type": "markdown",
   "metadata": {
    "slideshow": {
     "slide_type": "subslide"
    }
   },
   "source": [
    "when you log in to an ftp server, you and all users are (by default) dropped off into a single root directory.\n",
    "\n",
    "let's try to get our bearings by listing out the contents of this root directory in which we find ourselves. for silly reasons, you [need to turn on \"passive\" mode](https://serverfault.com/a/450655) before you can do anything useful.\n",
    "\n",
    "```bash\n",
    "ftp> pass\n",
    "ftp> ls\n",
    "ftp> cd 20170830\n",
    "ftp> ls\n",
    "```"
   ]
  },
  {
   "cell_type": "markdown",
   "metadata": {
    "slideshow": {
     "slide_type": "subslide"
    }
   },
   "source": [
    "1. linux, mac: `ftp`, `lftp`, and `sftp`\n",
    "2. windows: [winscp](https://winscp.net/eng/index.php) (this is my recommendation for both ftp and sftp), also [filezilla](https://filezilla-project.org/)"
   ]
  },
  {
   "cell_type": "markdown",
   "metadata": {
    "slideshow": {
     "slide_type": "subslide"
    }
   },
   "source": [
    "##### `curl` and `wget`\n",
    "\n",
    "these two tools are the primary command line tools for downloading materials over the HTTP and HTTPS protocols. They each have many, many features, and I have found myself using both for various purposes. I recommend installing and being open to using both (as opposed to learning one well, as I would recommend for editors).\n",
    "\n",
    "let's just try the simples thing we can -- download a single, simple test webpage.\n",
    "\n",
    "```bash\n",
    "# curl: download and print to the screen\n",
    "curl https://www.york.ac.uk/teaching/cws/wws/webpage1.html\n",
    "\n",
    "# curl: download and write to file\n",
    "curl -o curl.html https://www.york.ac.uk/teaching/cws/wws/webpage1.html\n",
    "\n",
    "# wget: default behavior is to write to file \"webpage1.html\" (basename of url)\n",
    "#       let's write to a different file name\n",
    "wget -O wget.html https://www.york.ac.uk/teaching/cws/wws/webpage1.html\n",
    "```"
   ]
  },
  {
   "cell_type": "markdown",
   "metadata": {
    "slideshow": {
     "slide_type": "subslide"
    }
   },
   "source": [
    "1. linux, mac: `curl`, `wget`\n",
    "2. windows: [curl](https://curl.haxx.se/download.html#Win64), [wget](http://gnuwin32.sourceforge.net/packages/wget.htm)"
   ]
  },
  {
   "cell_type": "markdown",
   "metadata": {
    "slideshow": {
     "slide_type": "subslide"
    }
   },
   "source": [
    "##### `ping`\n",
    "\n",
    "often we simply want to know if a server exists and is responsive. the act of sending a single \"packet\" (a single piece of information) over the internet to ask if \"anyone is there\" is called \"pinging\", and `ping` is the command which does it.\n",
    "\n",
    "let's check on google:\n",
    "\n",
    "```bash\n",
    "ping -c 5 www.google.com\n",
    "```\n",
    "\n",
    "in addition to the fact that we hear back on all 5 of our \"pings\", we have some additional info:\n",
    "\n",
    "1. the ip address we received for \"www.google.com\"\n",
    "2. the round trip time (about 8 ms)"
   ]
  },
  {
   "cell_type": "markdown",
   "metadata": {
    "slideshow": {
     "slide_type": "subslide"
    }
   },
   "source": [
    "1. linux, mac: `ping`\n",
    "2. windows: `ping` is a built-in `cmd` and `powershell` command"
   ]
  },
  {
   "cell_type": "markdown",
   "metadata": {
    "slideshow": {
     "slide_type": "subslide"
    }
   },
   "source": [
    "##### `mtr`\n",
    "\n",
    "sometimes we would like some more information about how our packets are travelling from our server to others (c.f. complaining to comcast about internet latency). `ping` is nice for demonstrating that we can reach a server, but `mtr` is the standard command for debugging *how* we reached a server (called a \"traceroute\").\n",
    "\n",
    "```bash\n",
    "mtr www.google.com\n",
    "```\n",
    "\n",
    "in all honesty, I've never performed a similar operation in windows. there is a built-in command, though:\n",
    "\n",
    "1. linux, mac: `mtr`\n",
    "2. windows: `tracert` is a built-in `cmd` and `powershell` command"
   ]
  },
  {
   "cell_type": "markdown",
   "metadata": {
    "slideshow": {
     "slide_type": "subslide"
    }
   },
   "source": [
    "##### `hostname`\n",
    "\n",
    "this one is pretty simple: print out the name of your system's host (this is the human-readable text that corresponds to your ip address).\n",
    "\n",
    "```bash\n",
    "hostname\n",
    "```"
   ]
  },
  {
   "cell_type": "code",
   "execution_count": 156,
   "metadata": {},
   "outputs": [
    {
     "name": "stdout",
     "output_type": "stream",
     "text": [
      "megaman\n"
     ]
    }
   ],
   "source": [
    "%%bash\n",
    "hostname"
   ]
  },
  {
   "cell_type": "markdown",
   "metadata": {
    "slideshow": {
     "slide_type": "subslide"
    }
   },
   "source": [
    "##### `ifconfig`\n",
    "\n",
    "this command is generally used to simply get your IP address. \n",
    "\n",
    "```bash\n",
    "ifconfig\n",
    "```\n",
    "\n",
    "the address you are looking for will appear in the `eth0` block after \"`inet addr`\".\n",
    "\n",
    "on a windows machine, I would probably just google search \"what is my ip\" and let google figure it out for me."
   ]
  },
  {
   "cell_type": "markdown",
   "metadata": {
    "slideshow": {
     "slide_type": "slide"
    }
   },
   "source": [
    "<div align=\"center\">have we become... ***TOO*** powerful?</div>\n",
    "<img src=\"https://techviral.net/wp-content/uploads/2015/04/Why-Hackers-Use-Linux.jpg\"></img>\n",
    "\n",
    "# END OF LECTURE\n",
    "\n",
    "next lecture: [environment management and python](004_python.ipynb)"
   ]
  }
 ],
 "metadata": {
  "celltoolbar": "Slideshow",
  "kernelspec": {
   "display_name": "Python 3",
   "language": "python",
   "name": "python3"
  },
  "language_info": {
   "codemirror_mode": {
    "name": "ipython",
    "version": 3
   },
   "file_extension": ".py",
   "mimetype": "text/x-python",
   "name": "python",
   "nbconvert_exporter": "python",
   "pygments_lexer": "ipython3",
   "version": "3.6.1"
  }
 },
 "nbformat": 4,
 "nbformat_minor": 2
}

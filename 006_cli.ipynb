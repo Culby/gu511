{
 "cells": [
  {
   "cell_type": "markdown",
   "metadata": {
    "slideshow": {
     "slide_type": "slide"
    }
   },
   "source": [
    "# aws command line interface (`cli`)"
   ]
  },
  {
   "cell_type": "markdown",
   "metadata": {
    "collapsed": true,
    "slideshow": {
     "slide_type": "slide"
    }
   },
   "source": [
    "## what is the `aws cli`?"
   ]
  },
  {
   "cell_type": "markdown",
   "metadata": {
    "slideshow": {
     "slide_type": "subslide"
    }
   },
   "source": [
    "up until this point, all of the work we've done with aws services has been via their point-and-click web console. the console is pretty good (inconsistently formatted, but generally self-explanatory), but it is not the only way to interact with aws services.\n",
    "\n",
    "amazon has also created a command line interface (`cli`) tool which can be used to perform many (all?) of the actions one might perform on the console via a `python` program used on the command line."
   ]
  },
  {
   "cell_type": "markdown",
   "metadata": {
    "slideshow": {
     "slide_type": "slide"
    }
   },
   "source": [
    "## why use the `cli`"
   ]
  },
  {
   "cell_type": "markdown",
   "metadata": {
    "slideshow": {
     "slide_type": "subslide"
    }
   },
   "source": [
    "there are many reasons you may wish to use the `cli`, but the primary motivations are that\n",
    "\n",
    "1. it is possible to script and automate actions with the `cli`, and not so easy (or possible) via the web console\n",
    "2. it can be called from within `python` scripts\n",
    "3. the authentication process is different and -- depending on your perspective -- less onerous\n",
    "4. the interface from one service to the next is actually more consistent than the web console\n",
    "5. you can plug it in to other command line tools (e.g. your data science pipeline process!)\n",
    "6. I'm telling you you should and I have great authority"
   ]
  },
  {
   "cell_type": "markdown",
   "metadata": {
    "slideshow": {
     "slide_type": "subslide"
    }
   },
   "source": [
    "### an example\n",
    "\n",
    "maybe it would help to understand the sorts of things you might want to do with the `cli`. One project we are working on for \"fun\" at ERI is predictive modeling of power outages. we found out that a Connecticut power company (Eversource) posted [their reported outages](https://www.eversource.com/clp/outage/outagemap.aspx) on a webpage as a `json` request.\n",
    "\n",
    "we started downloading those files every 15 minutes, and we used an `aws` `ec2` instance to do that download. We actually saved those files to that machine, but we *could* have pushed them to `s3` instead -- it would have been as easy as\n",
    "\n",
    "```bash\n",
    "aws s3 cp outage.json s3://data.eri.com/eversource/outages/\n",
    "```\n",
    "\n",
    "the `cli` exposes every service as if it were a linux tool -- that's pretty cool."
   ]
  },
  {
   "cell_type": "markdown",
   "metadata": {
    "slideshow": {
     "slide_type": "slide"
    }
   },
   "source": [
    "## installing the `cli`"
   ]
  },
  {
   "cell_type": "markdown",
   "metadata": {
    "slideshow": {
     "slide_type": "subslide"
    }
   },
   "source": [
    "the `cli` is available for windows (download page [here](https://aws.amazon.com/cli/)), but we will all be using it from our beautiful new `ec2` instances.\n",
    "\n",
    "in the linux and mac world, you install the `awscli` python package. let's do that!\n",
    "\n",
    "first thing's first: log in to your `ec2` instance now."
   ]
  },
  {
   "cell_type": "markdown",
   "metadata": {
    "slideshow": {
     "slide_type": "subslide"
    }
   },
   "source": [
    "you may already have the `cli` installed (given that we picked the aws-maintained free tier ubuntu `ami`). let's check:\n",
    "\n",
    "```bash\n",
    "which aws\n",
    "```"
   ]
  },
  {
   "cell_type": "markdown",
   "metadata": {
    "slideshow": {
     "slide_type": "subslide"
    }
   },
   "source": [
    "if the result of the above was nothing or an error, we need to install the `cli`. we will do that using `pip`:\n",
    "\n",
    "```bash\n",
    "# the default pip in this linux ami is pip2. no idea why\n",
    "sudo apt install python3-pip\n",
    "pip3 install awscli\n",
    "```\n",
    "\n",
    "*note*: we didn't `conda` install this package because aws doesn't offer their package via `conda`. this is rare, but not uncommon. I suggest you always try to `conda` install first, and then `pip` install if that is not possible"
   ]
  },
  {
   "cell_type": "markdown",
   "metadata": {
    "slideshow": {
     "slide_type": "subslide"
    }
   },
   "source": [
    "the documentation recommends that all users attempt to update their `cli` immediately after installation, so whether you already had it installed or just `pip`-installed it yourself, you should run the following:\n",
    "\n",
    "```bash\n",
    "aws --version\n",
    "pip3 install --upgrade --user aws\n",
    "aws --version\n",
    "```"
   ]
  },
  {
   "cell_type": "markdown",
   "metadata": {
    "slideshow": {
     "slide_type": "slide"
    }
   },
   "source": [
    "## using the `cli`"
   ]
  },
  {
   "cell_type": "markdown",
   "metadata": {
    "slideshow": {
     "slide_type": "subslide"
    }
   },
   "source": [
    "the `cli` acts as a standalone service when interfacing with all the different `aws` services we may own and operate.\n",
    "\n",
    "because `aws` considers it to be on the same level as a \"user,\" the `cli` needs to \"sign in\" to those services the same way we would. the authentication method and credentials we use to sign in to our console account are not fit for sharing in this way, so we use an alternative (and standard) authentication method: \"access keys.\"\n",
    "\n",
    "often times, when you sign up for a REST api (application program interface), you are given an API key or authentication key -- this is generally a unique public and private key pair that allow the api to know that the \"owner\" (in this case: you) \"knows about\" the requests that are being made to that api in their (your) name."
   ]
  },
  {
   "cell_type": "markdown",
   "metadata": {
    "slideshow": {
     "slide_type": "subslide"
    }
   },
   "source": [
    "back in the very very very first lecture so many days ago, you *downloaded a csv* with a bunch of information in it, including an access key id and access key value for your account.\n",
    "\n",
    "you still have that right?\n",
    "\n",
    "**right?**"
   ]
  },
  {
   "cell_type": "markdown",
   "metadata": {
    "slideshow": {
     "slide_type": "subslide"
    }
   },
   "source": [
    "<div align=\"center\">**access key creation exercise**</div>\n",
    "<div align=\"center\">**https://console.aws.amazon.com/iam/home?region=us-east-1#/users/**</div>\n",
    "<br><br>\n",
    "<div align=\"center\">*make sure to save the access key value somewhere secure -- you can't ever get it again*</div>"
   ]
  },
  {
   "cell_type": "markdown",
   "metadata": {
    "slideshow": {
     "slide_type": "notes"
    }
   },
   "source": [
    "each `iam` user has the ability to have up to two access keys. to create one for yourself:\n",
    "\n",
    "1. head over to the [`iam` `users` dashboard](https://console.aws.amazon.com/iam/home?region=us-east-1#/users/).\n",
    "2. select your personal user account.\n",
    "3. click on the \"Security credentials\" tab\n",
    "4. click on the \"Create access key\" button\n",
    "5. SAVE THIS ACCESS KEY VALUE!!!\n",
    "    1. **you can't ever get this again**\n",
    "    2. you can create other access keys, so it's not the literal end of the world\n",
    "6. click \"ok\""
   ]
  },
  {
   "cell_type": "markdown",
   "metadata": {
    "slideshow": {
     "slide_type": "subslide"
    }
   },
   "source": [
    "ok. at this point we should all have:\n",
    "\n",
    "1. an access key ID (recoverable at any time from the `iam` console\n",
    "2. an access key *value* (if you don't have it, you done goofed, and have to do it again)\n",
    "\n",
    "so how do we *use* this access key?\n",
    "\n",
    "let's log in to our `ec2` server and try it out!"
   ]
  },
  {
   "cell_type": "markdown",
   "metadata": {
    "slideshow": {
     "slide_type": "subslide"
    }
   },
   "source": [
    "<div align=\"center\">**log in to your ec2 instance if you haven't already**</div>"
   ]
  },
  {
   "cell_type": "markdown",
   "metadata": {
    "slideshow": {
     "slide_type": "subslide"
    }
   },
   "source": [
    "the first thing we do is run the `aws configure` command to add our access key information.\n",
    "\n",
    "**best practice note**: `cli` supports a concept called \"profiles\" -- you could add more than one set of access keys to a single `ec2` instance and user account. \n",
    "\n",
    "for example, suppose you have one `ec2` server for generic web-scraping or etl work, but several different client projects. you could create a separate \"profile\" for each project."
   ]
  },
  {
   "cell_type": "markdown",
   "metadata": {
    "slideshow": {
     "slide_type": "subslide"
    }
   },
   "source": [
    "I recommend using profiles from the beginning. let's create one with the same name as your user account for now:\n",
    "\n",
    "```bash\n",
    "aws configure --profile [whatever you want to use as your profile name]\n",
    "```"
   ]
  },
  {
   "cell_type": "markdown",
   "metadata": {
    "slideshow": {
     "slide_type": "subslide"
    }
   },
   "source": [
    "the prompts that follow will request the access key id and access key value, so I hope you've gotten the message at this point that you should save them somewhere you won't lose them...\n",
    "\n",
    "just kidding, after you've done this, they're actually saved in plain text on your file system: check out\n",
    "\n",
    "```bash\n",
    "less ~/.aws/config\n",
    "```\n",
    "\n",
    "what do you think of this? how secure is or isn't this? who can see this?"
   ]
  },
  {
   "cell_type": "markdown",
   "metadata": {
    "slideshow": {
     "slide_type": "subslide"
    }
   },
   "source": [
    "let's verify that everything worked:\n",
    "\n",
    "```bash\n",
    "aws ec2 describe-instances --profile [whatever you used as your profile name]\n",
    "```\n",
    "\n",
    "you should see a big, sloppy mess of info from this -- if not, let's debug!"
   ]
  },
  {
   "cell_type": "markdown",
   "metadata": {
    "slideshow": {
     "slide_type": "slide"
    }
   },
   "source": [
    "<div align=\"center\">***all aboard the terminal train***</div>\n",
    "<img src=\"https://i.stack.imgur.com/KbxXW.png\"></img>\n",
    "\n",
    "# END OF LECTURE\n",
    "\n",
    "next lecture: [AWS `s3` (simple storage service)](007_s3.ipynb)"
   ]
  }
 ],
 "metadata": {
  "celltoolbar": "Slideshow",
  "kernelspec": {
   "display_name": "Python 3",
   "language": "python",
   "name": "python3"
  },
  "language_info": {
   "codemirror_mode": {
    "name": "ipython",
    "version": 3
   },
   "file_extension": ".py",
   "mimetype": "text/x-python",
   "name": "python",
   "nbconvert_exporter": "python",
   "pygments_lexer": "ipython3",
   "version": "3.6.1"
  }
 },
 "nbformat": 4,
 "nbformat_minor": 2
}

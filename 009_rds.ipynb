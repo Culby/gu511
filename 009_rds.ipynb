{
 "cells": [
  {
   "cell_type": "markdown",
   "metadata": {
    "slideshow": {
     "slide_type": "slide"
    }
   },
   "source": [
    "# `aws rds`"
   ]
  },
  {
   "cell_type": "markdown",
   "metadata": {
    "slideshow": {
     "slide_type": "subslide"
    }
   },
   "source": [
    "`aws rds` (Relational Database Service) is a remotely hosted service for spinning up databases.\n",
    "\n",
    "this lecture will cover the most important elements of the `rds` service, and will losely follow [the `aws rds` documentation](http://docs.aws.amazon.com/AmazonRDS/latest/UserGuide/Welcome.html), so look there for more details"
   ]
  },
  {
   "cell_type": "markdown",
   "metadata": {
    "slideshow": {
     "slide_type": "subslide"
    }
   },
   "source": [
    "by *relational* we mean classic table-style databases with inter-table *relations* (keys that exist to link normalized concepts in one table to another) and classic `sql` language and syntax\n",
    "\n",
    "for *non-relational* (*aka* `nosql`) databases, look elsewhere. for a `mongo`-esque solution, you can use `dynamodb`. at the moment there is no graph-centric (*e.g.* `neo4j`) database service for `aws` (but I bet one is coming soon). there is support for `titan` graph objects in `dynamodb`, for what that is worth."
   ]
  },
  {
   "cell_type": "markdown",
   "metadata": {
    "slideshow": {
     "slide_type": "slide"
    }
   },
   "source": [
    "## why `rds`?"
   ]
  },
  {
   "cell_type": "markdown",
   "metadata": {
    "collapsed": true,
    "slideshow": {
     "slide_type": "subslide"
    }
   },
   "source": [
    "it is absolutely possible to install a database on our remote `ec2` servers.\n",
    "\n",
    "if we did that, we'd have total control over that database's configuration, security, resource usage, replication, archival... total control is a two-edged sword though: maybe we don't want the responsibility, or have the expertise?\n",
    "\n",
    "we can let `aws` take on some of that burden"
   ]
  },
  {
   "cell_type": "markdown",
   "metadata": {
    "slideshow": {
     "slide_type": "subslide"
    }
   },
   "source": [
    "the tradeoff is the same as it has been for almost all of the `aws` services we've seen so far:\n",
    "\n",
    "+ self-run: more granular control; but more admin overhead, complexity, and responsibility\n",
    "+ managed: less admin overhead, complexity, and responsibility; but less granular control"
   ]
  },
  {
   "cell_type": "markdown",
   "metadata": {
    "slideshow": {
     "slide_type": "subslide"
    }
   },
   "source": [
    "additionally, it is almost guaranteed that the managed option will be easier and cheaper to operate at large scales (not that that matters to us in this moment!)\n",
    "\n",
    "scaling to meet resource consumption or consumer demand, replication and backup, security, and other nice-to-have features are click-button options in `rds`"
   ]
  },
  {
   "cell_type": "markdown",
   "metadata": {
    "slideshow": {
     "slide_type": "slide"
    }
   },
   "source": [
    "## what makes up an `rds` instance\n",
    "\n",
    "there are several pieces that, together, make up an `rds` service instance"
   ]
  },
  {
   "cell_type": "markdown",
   "metadata": {
    "slideshow": {
     "slide_type": "subslide"
    }
   },
   "source": [
    "### database instances\n",
    "\n",
    "each `rds` instance has a database instance -- actual database service software running on some `aws`-managed machine. as with `ec2` services before them, this means you must choose the hardware (memory and storage) and software (database service) that you want to use"
   ]
  },
  {
   "cell_type": "markdown",
   "metadata": {
    "slideshow": {
     "slide_type": "subslide"
    }
   },
   "source": [
    "#### hardware choices\n",
    "\n",
    "the main dimensions here are\n",
    "\n",
    "1. memory (will allow you to perform queries involving larger datasets)\n",
    "2. cpu (will allow you to perform queries faster)\n",
    "3. storage (will allow you to save more records)\n",
    "\n",
    "at it's heart, you're doing the same thing you did when you set up your `ec2` server: identifying which of the above are important to you and selecting the instance type that performs best for your use case.\n",
    "\n",
    "or just picking the free one. there's always that."
   ]
  },
  {
   "cell_type": "markdown",
   "metadata": {
    "slideshow": {
     "slide_type": "subslide"
    }
   },
   "source": [
    "####  software choices\n",
    "\n",
    "by \"software\" here we mean the installed sql database flavor. there are many flavors of relational databases, and `aws` supports some of the most popular:\n",
    "\n",
    "1. `mysql`\n",
    "2. `mariadb` (a special flavor / fork of `mysql`)\n",
    "3. `postgres`\n",
    "4. `oracle`\n",
    "5. `mssql`\n",
    "6. `amazon aurora` (an in-house modification of `mysql`)"
   ]
  },
  {
   "cell_type": "markdown",
   "metadata": {
    "slideshow": {
     "slide_type": "subslide"
    }
   },
   "source": [
    "### regions and availability zones\n",
    "\n",
    "each instance you create will be located -- that is, physically -- in one or more (your choice) data centers in whatever region you select.\n",
    "\n",
    "a *region* is a particular geographic area (*e.g.* US East 1, Northern Virginia).\n",
    "\n",
    "an *availability zone* is an isolated datacenter within a given region. different availability zones are designed to be completely isolated, such that a problem or outage at one does not affect the others."
   ]
  },
  {
   "cell_type": "markdown",
   "metadata": {
    "slideshow": {
     "slide_type": "subslide"
    }
   },
   "source": [
    "the default behavior (and the only free behavior) is to create *one* instance in *one* availability zone. in a sensitive and robust production setting, you would want to have multiple availability zones."
   ]
  },
  {
   "cell_type": "markdown",
   "metadata": {
    "slideshow": {
     "slide_type": "subslide"
    }
   },
   "source": [
    "### security groups\n",
    "\n",
    "just as with `ec2`, each database will need a security group to control access to and from this database. you can choose to open the database to the entire world, just your ip address, *etc*. it's the same `iam` song and dance."
   ]
  },
  {
   "cell_type": "markdown",
   "metadata": {
    "slideshow": {
     "slide_type": "subslide"
    }
   },
   "source": [
    "### db parameter and option groups\n",
    "\n",
    "there are *a lot* of configuration parameters and options associated with database management. `aws` separates them into two groups, and you created a normalized configuration object called a group for each type:\n",
    "\n",
    "1. db paramater group\n",
    "    1. these are parameters which determine how the database *itself* is configured\n",
    "    2. car analogy: every car has an engine; the number of cylinders in the engine is a parameter of the engine\n",
    "2. db option group\n",
    "    1. these are parameters which determine how optional, extra features (database dependent) are configured, *if* they are activated or utilized\n",
    "    2. car analogy: spoiler color; not every car has a spoiler, but if you want yours to be **AWESOME** and **FAST**, you should get a red one"
   ]
  },
  {
   "cell_type": "markdown",
   "metadata": {},
   "source": []
  },
  {
   "cell_type": "markdown",
   "metadata": {
    "slideshow": {
     "slide_type": "notes"
    }
   },
   "source": [
    "+ Purchase methods:\n",
    "    + Up-front reserved\n",
    "    + On-demand hourly\n",
    "    + spot\n",
    "+ interacting\n",
    "    + difference between interacting with the *service* and *database*\n",
    "+ Let’s build a postgres database!\n",
    "    + Diff between postgresql vs. devtest?\n",
    "    + A lot of steps here, and we should discuss them all.\n",
    "+ Let’s connect from our EC2 instance!\n",
    "    + Psql command -- do you have it?\n",
    "    + Psql command -- how do you use it?\n",
    "    + What things do you *think* you need? For example: user name. What else?\n",
    "    + psql -U <your user name> --host <your endpoint> -d <your database name>\n",
    "    + Did that work? If not, why not? What do you think you need to do?\n",
    "        + Check out these docs\n",
    "    + Hint: it’s pretty much always security…\n",
    "        + We could add an IP… or *all* IPs… or a security group\n",
    "        + What do you think we should do?"
   ]
  }
 ],
 "metadata": {
  "celltoolbar": "Slideshow",
  "kernelspec": {
   "display_name": "Python 3",
   "language": "python",
   "name": "python3"
  },
  "language_info": {
   "codemirror_mode": {
    "name": "ipython",
    "version": 3
   },
   "file_extension": ".py",
   "mimetype": "text/x-python",
   "name": "python",
   "nbconvert_exporter": "python",
   "pygments_lexer": "ipython3",
   "version": "3.6.2"
  }
 },
 "nbformat": 4,
 "nbformat_minor": 2
}

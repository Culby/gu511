{
 "cells": [
  {
   "cell_type": "markdown",
   "metadata": {
    "collapsed": true,
    "slideshow": {
     "slide_type": "slide"
    }
   },
   "source": [
    "# `aws s3` (Simple Storage Service)"
   ]
  },
  {
   "cell_type": "markdown",
   "metadata": {
    "slideshow": {
     "slide_type": "subslide"
    }
   },
   "source": [
    "when it comes to managing your data, you can get pretty far with just an `ec2` server and a virtual hard drive.\n",
    "\n",
    "for example, right now I have a postgres server running on an `ec2` instance with a 64G hard drive, and that server has been polling the [`wmata` train position api](https://developer.wmata.com/docs/services/5763fa6ff91823096cac1057/operations/5763fb35f91823096cac1058) every 10 seconds for about 10 months. it currently holds about 200 million records. not exactly big data, but not exactly small data either."
   ]
  },
  {
   "cell_type": "markdown",
   "metadata": {
    "slideshow": {
     "slide_type": "subslide"
    }
   },
   "source": [
    "as another example, right now ERI has a long-running project scraping power outage information (mentioned previously) in 15 minute intervals. the resulting `json` files are saved to the `/data` directory directly on that machine, and (barring anything truly bizarre) will keep on downloading and storing those files forever"
   ]
  },
  {
   "cell_type": "markdown",
   "metadata": {
    "slideshow": {
     "slide_type": "subslide"
    }
   },
   "source": [
    "there are disadvantages, though like:\n",
    "\n",
    "?"
   ]
  },
  {
   "cell_type": "markdown",
   "metadata": {
    "slideshow": {
     "slide_type": "fragment"
    }
   },
   "source": [
    "1. access\n",
    "    1. you have to log in to the linux server to access the files\n",
    "    2. this means I have to grant selective access to people\n",
    "2. cost\n",
    "    1. disk space (specifically: EBS (elastic block store)) on an `ec2` service is expensive, running about $0.10 per GB-month\n",
    "3. manual administration\n",
    "    1. if I want to grow the hard drive size, I have to do it myself\n",
    "    2. I have to know *when* that's going to happen, or I could fill my harddrive without paying attention\n",
    "    3. I could intentionally set up backup policies and redundancy mechanisms on my `ec2` server"
   ]
  },
  {
   "cell_type": "markdown",
   "metadata": {
    "slideshow": {
     "slide_type": "subslide"
    }
   },
   "source": [
    "`s3` is a service offered by `aws` to be a central file storage location, accessible from everywhere via standard REST api requests (`GET, PUT, COPY, POST, LIST`), which addresses some of those disadvantages:\n",
    "\n",
    "1. access\n",
    "    1. you can control access to any \"bucket\" (basically, a top-level directory in the file system) from the web console\n",
    "    2. you can be as permissive or as restrictive as you desire\n",
    "2. cost\n",
    "    1. standard storage starts at about $0.023 per GB-month (so about 23% the EBS `ec2` hard drive cost) for the first 50 TB, and gets *cheaper* from there\n",
    "3. manual administration\n",
    "    1. will grow on the fly without administration\n",
    "    2. redundancy and backup is a built-in service option\n",
    "    3. I can have easy-access logging and version information\n",
    "    4. I can just host a static webpage with a click of a butoon\n",
    "    \n",
    "it's not perfect, but it's pretty cool"
   ]
  },
  {
   "cell_type": "markdown",
   "metadata": {
    "slideshow": {
     "slide_type": "slide"
    }
   },
   "source": [
    "## buckets"
   ]
  },
  {
   "cell_type": "markdown",
   "metadata": {
    "slideshow": {
     "slide_type": "subslide"
    }
   },
   "source": [
    "open your `aws` console and go to the `s3` service\n",
    "\n",
    "https://s3.console.aws.amazon.com/s3/home?region=us-east-1\n",
    "\n",
    "everywhere you look: \"Buckets\". a *bucket* is effectively a top-level directory for a family of related files."
   ]
  },
  {
   "cell_type": "markdown",
   "metadata": {
    "slideshow": {
     "slide_type": "subslide"
    }
   },
   "source": [
    "you *could* create a single \"root\" bucket and keep everything in there, but you probably don't want to. why?\n",
    "\n",
    "1. a broad interpretation of the \"separation of concerns\" principle applies\n",
    "    1. you don't want to mix different files that are doing different things for different purposes\n",
    "2. permissions will be dicey\n",
    "    1. eventually you may want to be very restrictive or very permissive\n",
    "    2. you *can* controll permissions on a per-file basis in `s3`, so it is *possible*\n",
    "    3. *but* clients may not approve of this at all, or it may just be more onerouse to set permissions on a per-file basis than on a bucket-wide level\n",
    "3. descriptive names actually make for better code\n",
    "    1. long path names that have nothing to do with a task or project are wasted words\n",
    "    2. descriptive names can help you understand exactly what you're looking for from the main page"
   ]
  },
  {
   "cell_type": "markdown",
   "metadata": {
    "slideshow": {
     "slide_type": "subslide"
    }
   },
   "source": [
    "<div align=\"center\">**mini exercise: create an `s3` bucket**</div>\n",
    "\n",
    "1. pick a name -- it has to be *globally* (across *all* of `s3`) unique\n",
    "    1. this often leads to the \"url\" style of naming things, e.g. I tend to create `***********.lamberty.io` bucket names because I own that domain\n",
    "    2. it doesn't have to be that way -- just has to be unique\n",
    "2. go with the NOVA region\n",
    "3. tag 'em!\n",
    "4. "
   ]
  },
  {
   "cell_type": "markdown",
   "metadata": {
    "slideshow": {
     "slide_type": "subslide"
    }
   },
   "source": [
    "<div align=\"center\">**tour the `s3` web console**</div>"
   ]
  },
  {
   "cell_type": "markdown",
   "metadata": {
    "slideshow": {
     "slide_type": "notes"
    }
   },
   "source": [
    "1. main page\n",
    "    1. pretty self-explanatory: a list of buckets and the ability to create new ones\n",
    "    2. click on any bucket and a right context menu comes up\n",
    "        1. basic descriptions of the three types of configuration values (properties, permissions, management), and the ability to quickly access the ARN (amazon resource name)\n",
    "1. bucket page\n",
    "    1. overview tab\n",
    "        1. allows you to upload a file, create a directory, and set object permissions\n",
    "    2. properties tab\n",
    "        1. versioning: you have the ability to record version histories of every file in your bucket (off by default)\n",
    "        2. logging: log (to `s3`, $ for `aws`) access and file creation / manipulation log records\n",
    "        3. static website hosting: host a webpage straightout out of your `s3` bucket (not bad huh?)\n",
    "        4. tags: good for collecting resources for shared purpose or project\n",
    "        5. transfer acceleration: pay for faster access\n",
    "        6. events: create a trigger when a file gets dropped to a location\n",
    "        7. requester pays: like calling collect, but for the internet age\n",
    "    3. permissions tab\n",
    "        1. access control list: control bucket-level permissions for `aws` users and the public\n",
    "        2. bucket policy: generate an `iam` policy which you can later attach to `iam` users or roles\n",
    "        3. CORS configuration: advanced; allows you to allow other web services to access these files as if they were local to that web service (forbidden by default)\n",
    "    4. management tab\n",
    "        1. a suite of analytics and monitoring tools; not useful at this time since we have no information in these buckets"
   ]
  },
  {
   "cell_type": "markdown",
   "metadata": {
    "slideshow": {
     "slide_type": "slide"
    }
   },
   "source": [
    "### putting things in the bucket: web interface"
   ]
  },
  {
   "cell_type": "markdown",
   "metadata": {
    "slideshow": {
     "slide_type": "slide"
    }
   },
   "source": [
    "### putting things in the bucket: `cli`"
   ]
  },
  {
   "cell_type": "markdown",
   "metadata": {
    "slideshow": {
     "slide_type": "slide"
    }
   },
   "source": [
    "### putting things in the bucket: `python` and `boto3`"
   ]
  }
 ],
 "metadata": {
  "celltoolbar": "Slideshow",
  "kernelspec": {
   "display_name": "Python 3",
   "language": "python",
   "name": "python3"
  },
  "language_info": {
   "codemirror_mode": {
    "name": "ipython",
    "version": 3
   },
   "file_extension": ".py",
   "mimetype": "text/x-python",
   "name": "python",
   "nbconvert_exporter": "python",
   "pygments_lexer": "ipython3",
   "version": "3.6.2"
  }
 },
 "nbformat": 4,
 "nbformat_minor": 2
}

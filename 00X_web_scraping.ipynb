{
 "cells": [
  {
   "cell_type": "markdown",
   "metadata": {
    "slideshow": {
     "slide_type": "slide"
    }
   },
   "source": [
    "# web scraping"
   ]
  },
  {
   "cell_type": "markdown",
   "metadata": {
    "collapsed": true,
    "slideshow": {
     "slide_type": "subslide"
    }
   },
   "source": [
    "by the end of this lecture, you should have all the tools and skills you need to do some \"simple\" web scraping (i.e. static `GET` and `POST` requests), as well as a better understanding "
   ]
  },
  {
   "cell_type": "markdown",
   "metadata": {
    "slideshow": {
     "slide_type": "slide"
    }
   },
   "source": [
    "## basic web-scraping concepts\n",
    "\n",
    "This is by no means an exhaustive summary. there are 7.2 bajillion articles about web scraping and they're probably all better. [Especially the Mozilla ones](https://developer.mozilla.org/en-US/). Also, people always freak out about how bad the W3 pages are (and they are), but they're still (in my opinion) a good beginner's resource. So dont' be afraid to try them out, but be aware that there are some problems."
   ]
  },
  {
   "cell_type": "markdown",
   "metadata": {
    "slideshow": {
     "slide_type": "subslide"
    }
   },
   "source": [
    "The only thing that is special about this one is that I wrote it and you've been duped into reading it.\n",
    "\n",
    "So enjoy!"
   ]
  },
  {
   "cell_type": "markdown",
   "metadata": {
    "slideshow": {
     "slide_type": "subslide"
    }
   },
   "source": [
    "### requests\n",
    "\n",
    "The basic problem here is that some one out there in the ol' interwebs has put up a pretty page with some data we want, and we need to go get it.\n",
    "\n",
    "The primary action we will be executing is called a `request`. We are trying to make our computer yell at their computer and send us that neat data. So we need to figure out how to yell in a way that makes their computer happy."
   ]
  },
  {
   "cell_type": "markdown",
   "metadata": {
    "slideshow": {
     "slide_type": "subslide"
    }
   },
   "source": [
    "Our computers all yell at eachother in a language called HTTP -- you have perhaps heard of it.\n",
    "\n",
    "[There are a ton of details about how to yell](https://developer.mozilla.org/en-US/docs/Web/HTTP), what's appropriate and what isn't, etc. But for our purpose, we basically only care about [`requests`](https://developer.mozilla.org/en-US/docs/Web/HTTP/Methods)."
   ]
  },
  {
   "cell_type": "markdown",
   "metadata": {
    "slideshow": {
     "slide_type": "subslide"
    }
   },
   "source": [
    "There are several different types of yells:\n",
    "\n",
    "+ `GET` -- you want to get a thing and they should give it to you\n",
    "+ `POST` -- you want to send them a thing and they should at least write you a thank you card; if they want to give you something back that's cool but it's not expected (but it's polite, so, that's basically the same as expectation, but with all sorts of passive aggressiveness tacked on)"
   ]
  },
  {
   "cell_type": "markdown",
   "metadata": {
    "slideshow": {
     "slide_type": "subslide"
    }
   },
   "source": [
    "+ `HEAD` -- you want to get a thing but you would prefer it if they just told you about the thing first, like sent you a picture of it or told you how big it was. You may still want to get it at some point but you're just testing the water. it's a fun, no commitment thing -- why rush in?\n",
    "+ `PUT` -- a really pushy `POST` request, basically they tell us they have a cool painting and we say OUR PAINTING HERE IS BETTER FORGET YOURS"
   ]
  },
  {
   "cell_type": "markdown",
   "metadata": {
    "slideshow": {
     "slide_type": "subslide"
    }
   },
   "source": [
    "+ `DELETE` -- actually that painting was dumb. you were right. our bad\n",
    "+ `CONNECT`, `OPTIONS`, `TRACE`, `PATCH` -- stuff your parents yell to their friends but no one really does any more outside of really formal settings"
   ]
  },
  {
   "cell_type": "markdown",
   "metadata": {
    "slideshow": {
     "slide_type": "subslide"
    }
   },
   "source": [
    "all of these have their time and place and the web wouldn't work without them.\n",
    "\n",
    "that being said, you generally only need `GET` and `POST` messages"
   ]
  },
  {
   "cell_type": "markdown",
   "metadata": {
    "slideshow": {
     "slide_type": "subslide"
    }
   },
   "source": [
    "### data formats\n",
    "\n",
    "So, suppose you got your computer to yell at their computer and everyone's into it. You say HEY CAN A FELLA `GET` OR WHAT and the other computer said"
   ]
  },
  {
   "cell_type": "markdown",
   "metadata": {
    "slideshow": {
     "slide_type": "subslide"
    }
   },
   "source": [
    "```\n",
    "01100101 01100001 01110011 01110100 01100101 01110010 00100000 01100101 \n",
    "01100111 01100111 01110011 00100000 01100001 01110010 01100101 00100000 \n",
    "01100111 01110010 01100101 01100001 01110100 00100000 01001001 00100000 \n",
    "01101100 01101111 01110110 01100101 00100000 01100101 01100001 01110011 \n",
    "01110100 01100101 01110010 00100000 01100101 01100111 01100111 01110011 \n",
    "00101110 00100000 01110011 01100011 01110010 01100001 01101101 01100010 \n",
    "01101100 01100101 01100100 00101100 00100000 01101111 01110110 01100101 \n",
    "01110010 00100000 01100101 01100001 01110011 01111001 00101100 00100000 \n",
    "01100100 01101111 01101110 00100111 01110100 00100000 01100101 01110110 \n",
    "01100101 01101110 00100000 01100011 01100001 01110010 01100101 00101110 \n",
    "00100000 01110011 01100101 01110010 01101001 01101111 01110101 01110011 \n",
    "01101100 01111001 00100000 01110100 01100001 01110011 01110100 01111001 \n",
    "00101110\n",
    "```\n",
    "\n",
    "<!--a href=\"http://www.rapidtables.com/convert/number/binary-to-ascii.htm\">funtimes<a/ -->"
   ]
  },
  {
   "cell_type": "markdown",
   "metadata": {
    "slideshow": {
     "slide_type": "subslide"
    }
   },
   "source": [
    "not cool."
   ]
  },
  {
   "cell_type": "markdown",
   "metadata": {
    "slideshow": {
     "slide_type": "slide"
    }
   },
   "source": [
    "#### `html` format\n",
    "\n",
    "okay so it's actually a *little* cool, it looks like many of the other computers out there speak [HyperText Markup Language](https://developer.mozilla.org/en-US/docs/Web/HTML). So at least they're trying.\n",
    "\n",
    "`html` is a special amalgam of xml-like tag structures that is the language which is used by your browser to render webpages."
   ]
  },
  {
   "cell_type": "markdown",
   "metadata": {
    "slideshow": {
     "slide_type": "subslide"
    }
   },
   "source": [
    "check out [this example page with simple `html`](http://www.columbia.edu/~fdc/sample.html). Specifically, right click and go to \"view source.\" You can do that on any webpage."
   ]
  },
  {
   "cell_type": "markdown",
   "metadata": {
    "slideshow": {
     "slide_type": "subslide"
    }
   },
   "source": [
    "Of course, you usually will have more luck using the \"developers tools\" than just viewing source\n",
    "\n",
    "+ in google chrome, right click > \"Inspect\"\n",
    "+ in firefox, right click > \"Inspect Element\"\n",
    "+ in explorer or edge, press F12, and feel at least a little bit of jealousy\n",
    "+ in safari, go to www.google.com, search for, and download something else."
   ]
  },
  {
   "cell_type": "markdown",
   "metadata": {
    "slideshow": {
     "slide_type": "subslide"
    }
   },
   "source": [
    "##### `xpath`\n",
    "\n",
    "[`xpath`](https://msdn.microsoft.com/en-us/library/ms256086(v=vs.110%29.aspx) is a query language for `xml` documents. Given that `html` is effectively a refined subset of `xml`, it's a natural fit for parsing `html` documents.\n",
    "\n",
    "it's a bit more time-tested and battle-worn than `css`, though not really as popular and (in my opinion) not as easy to learn. It's kind of the `C` or `C++` to `css`'s `python`."
   ]
  },
  {
   "cell_type": "markdown",
   "metadata": {
    "slideshow": {
     "slide_type": "subslide"
    }
   },
   "source": [
    "that being said, it's by far my favorite of the two, and almost always my go-to. Just because I learned it first... and the edge cases are not as strange as the `css` edge cases, in my opinion. that being said, I'd probably recommend *learning* `css` selecting instead.\n",
    "\n",
    "which is why, naturally, I'm just gonna keep on teaching you `xpath`"
   ]
  },
  {
   "cell_type": "markdown",
   "metadata": {
    "slideshow": {
     "slide_type": "subslide"
    }
   },
   "source": [
    "in many respects, `xpath` is similar to describing paths of files on a linux file system.\n",
    "\n",
    "suppose that you know that somewhere several levels deep inside your root directory there is a folder called `important_files` and that it has a file in it where the extension is `.txt` and you want to list information about it.\n",
    "\n",
    "if you knew the *exact path*, you could use the `ls` command:\n",
    "\n",
    "```\n",
    "ls /path/to/directory/important_files/*.txt\n",
    "```"
   ]
  },
  {
   "cell_type": "markdown",
   "metadata": {
    "slideshow": {
     "slide_type": "subslide"
    }
   },
   "source": [
    "if you *don't* know the *exact path*, though, maybe you could use some wildcard / `glob` expressions to find it. For example, you could use the find tool:\n",
    "\n",
    "```bash\n",
    "find . -ipath \"*important_files/*.txt\"\n",
    "\n",
    "# real example:\n",
    "find ~/miniconda3 -ipath \"*packages/*.yaml\"\n",
    "```"
   ]
  },
  {
   "cell_type": "markdown",
   "metadata": {
    "slideshow": {
     "slide_type": "subslide"
    }
   },
   "source": [
    "basically, you can utilize what you know: somewhere underneat some stating point (*e.g.* the root directory or my home directory) there's an element that is a child of something I know, and that child item has a property."
   ]
  },
  {
   "cell_type": "markdown",
   "metadata": {
    "slideshow": {
     "slide_type": "subslide"
    }
   },
   "source": [
    "`xpath` is similar. take the example below, and suppose we wanted to \"select\" the `ul` item. \n",
    "\n",
    "you know things about the hierarchy of a document (it's a list item `ul`) and the attributes (it is in the class `zachs_list`)\n",
    "\n",
    "```html\n",
    "<body>\n",
    "    <div>\n",
    "        <ul class=\"zachs_list\">\n",
    "            <li>hello</li>\n",
    "            <li>world</li>\n",
    "        </ul>\n",
    "    </div>\n",
    "</body>\n",
    "```"
   ]
  },
  {
   "cell_type": "markdown",
   "metadata": {
    "slideshow": {
     "slide_type": "subslide"
    }
   },
   "source": [
    "we can specify the *exact path*:\n",
    "\n",
    "```\n",
    "path = /body/div/ul\n",
    "```\n",
    "\n",
    "```html\n",
    "<body>\n",
    "    <div>\n",
    "        <ul class=\"zachs_list\">\n",
    "            <li>hello</li>\n",
    "            <li>world</li>\n",
    "        </ul>\n",
    "    </div>\n",
    "</body>\n",
    "```"
   ]
  },
  {
   "cell_type": "markdown",
   "metadata": {
    "slideshow": {
     "slide_type": "subslide"
    }
   },
   "source": [
    "it's also possible to discuss *relative paths*. suppose we want to describe `ul` *relative* to `div`:\n",
    "\n",
    "```\n",
    "path = ./ul\n",
    "```\n",
    "\n",
    "```html\n",
    "<body>\n",
    "    <div>\n",
    "        <ul class=\"zachs_list\">\n",
    "            <li>hello</li>\n",
    "            <li>world</li>\n",
    "        </ul>\n",
    "    </div>\n",
    "</body>\n",
    "```"
   ]
  },
  {
   "cell_type": "markdown",
   "metadata": {
    "slideshow": {
     "slide_type": "subslide"
    }
   },
   "source": [
    "we can also represent unknown elements along some longer hierarchy (similar to our `*` in our patterns in the file path examples above. we do this in `xpath` by writing two consecutive `/` characters. suppose we want to find any `ul` element under the `root` (top of the document) with any intermediate elements:\n",
    "\n",
    "```\n",
    "path = .//ul\n",
    "```\n",
    "\n",
    "```html\n",
    "<body>\n",
    "    <div>\n",
    "        <ul class=\"zachs_list\">\n",
    "            <li>hello</li>\n",
    "            <li>world</li>\n",
    "        </ul>\n",
    "    </div>\n",
    "</body>\n",
    "```"
   ]
  },
  {
   "cell_type": "markdown",
   "metadata": {
    "slideshow": {
     "slide_type": "subslide"
    }
   },
   "source": [
    "finally, it's possible to select elements using their attributes (those items inside the `<>` characters such as `class`, `id`, *etc.*).\n",
    "\n",
    "you specify these elements using the following notation:\n",
    "\n",
    "```\n",
    "/path/to/xorhtml/element[@class=\"class_value\"]\n",
    "```"
   ]
  },
  {
   "cell_type": "markdown",
   "metadata": {
    "slideshow": {
     "slide_type": "subslide"
    }
   },
   "source": [
    "for example, we could find all `ul` elements with `class` value of `zachs_list` via the path:\n",
    "\n",
    "```\n",
    "path = .//ul[@class=\"zachs_list\"]\n",
    "```\n",
    "\n",
    "```html\n",
    "<body>\n",
    "    <div>\n",
    "        <ul class=\"zachs_list\">\n",
    "            <li>hello</li>\n",
    "            <li>world</li>\n",
    "        </ul>\n",
    "    </div>\n",
    "</body>\n",
    "```"
   ]
  },
  {
   "cell_type": "markdown",
   "metadata": {
    "slideshow": {
     "slide_type": "subslide"
    }
   },
   "source": [
    "<div align=\"center\">**mini-exercise: create some `xpath` expressions**</div>\n",
    "\n",
    "given the source `html` from this webpage: https://anaconda.org/anaconda/repo, develop some `xpath` expressions to select the \"Package Name\" elements.\n",
    "\n",
    "*hint: in \"inspect\" mode, you can find an \"element selector\" button that will allow you to click on the visible element and it will isolate that piece in the source code"
   ]
  },
  {
   "cell_type": "markdown",
   "metadata": {
    "slideshow": {
     "slide_type": "subslide"
    }
   },
   "source": [
    "here are some reasonable options:\n",
    "\n",
    "1. absolute: `html/body/div/div/div/div/div/div/div/div/div/table/tbody/tr/td/a/span`\n",
    "2. at any depth (over-inclusive): `//a/span`\n",
    "3. using attributes: `//span[@class=\"packageName\"]`"
   ]
  },
  {
   "cell_type": "markdown",
   "metadata": {
    "slideshow": {
     "slide_type": "subslide"
    }
   },
   "source": [
    "one final note on \"narrowing down\" the number of items which will match a given `xpath` expression: there are two very common attributes in `html` documents, and because they serve different purposes in `html` and `css`, they can be pretty useful in selecting items:\n",
    "\n",
    "1. `class`: this attribute marks that an element is \"in a class with\" other elements, so it often defines elements which are conceptually related. This is particularly common for groups of things that are specially formatted (e.g. our \"Package Name\" elements, which are all green links\n",
    "2. `id`: this is a *globally unique* attribute, so if we want to get one and only one element (*e.g.* `<table class=\"full-width\" id=\"repo-packages-table\">`) this is a guaranteed way to do so"
   ]
  },
  {
   "cell_type": "markdown",
   "metadata": {
    "slideshow": {
     "slide_type": "subslide"
    }
   },
   "source": [
    "##### `css`\n",
    "\n",
    "Cascading Style Sheets (*aka* [`css`](https://developer.mozilla.org/en-US/docs/Web/CSS)) is a language for describing how a browser should format and style the `html` documents it renders."
   ]
  },
  {
   "cell_type": "markdown",
   "metadata": {
    "slideshow": {
     "slide_type": "subslide"
    }
   },
   "source": [
    "`css` files are not a pre-requisite for creating a webpage (styling can be done directly in `html` docs), but websites that don't utilize this language (or some more advanced variant) are few and far between."
   ]
  },
  {
   "cell_type": "markdown",
   "metadata": {
    "slideshow": {
     "slide_type": "subslide"
    }
   },
   "source": [
    "If you want an example of `css`, you can again refer to the \"Inspect\" screen / \"developers tools.\" \n",
    "\n",
    "+ The entire right panel is dedicated to `css` and `javascript` properties of the highlighted `html` document elements.\n",
    "+ the `Sources` tab of the Inspect window has a lot of files, but all the delivered `css` files are there\n",
    "+ check out the `css` file for [the Elder Research landing page](http://www.elderresearch.com/): [source is here](http://www.elderresearch.com/hs-fs/hub/2176909/hub_generated/template_assets/1491831211917/custom/page/css/vast-style.min.css), but that's not that useful, is it?  "
   ]
  },
  {
   "cell_type": "markdown",
   "metadata": {
    "slideshow": {
     "slide_type": "subslide"
    }
   },
   "source": [
    "why does this matter?\n",
    "\n",
    "basically, there is a well-established language for telling browsers how to style \"things like this\", and those tags and keys are therefore \"naturally occurring.\" we can just use the existence of this language and statements such as those to take an `html` document and grab the same sorts of things.\n",
    "\n",
    "```css\n",
    "ul.zachs_list\n",
    "```"
   ]
  },
  {
   "cell_type": "markdown",
   "metadata": {
    "slideshow": {
     "slide_type": "subslide"
    }
   },
   "source": [
    "`css` is a remarkably flexible way of specifying elements within a hierarchy and [this MDN tutorial](https://developer.mozilla.org/en-US/docs/Learn/CSS/Introduction_to_CSS/Selectors) is an excellent intro. there are a few rules that are most important to know:\n",
    "\n",
    "+ `class` values are selected with the `.` character (e.g. `.class_name`)\n",
    "+ `id` values are selected with the `#` character (e.g. `#id_name`)\n",
    "+ a basic element in a selector is a combo of the `html` tag elements (e.g. `div`, `p`, `li`) and maybe the above (e.g. `div.class1`)"
   ]
  },
  {
   "cell_type": "markdown",
   "metadata": {
    "slideshow": {
     "slide_type": "subslide"
    }
   },
   "source": [
    "+ the basic elements can be combined in several ways\n",
    "    + a comma between elements (e.g. `div, p`) will select any element of either the first or second type\n",
    "    + a space (e.g. `div p`) will select any second element underneath the first\n",
    "    + a `>` (e.g. `div > p`) will select any second element which is a direct child of the first\n",
    "    + a `+` (e.g. `div + p`) will select any second element which is an immediate sibling of the first \n",
    "    + a `~` (e.g. `div ~ p`) will select any second element which is any sibling of the first"
   ]
  },
  {
   "cell_type": "markdown",
   "metadata": {
    "slideshow": {
     "slide_type": "subslide"
    }
   },
   "source": [
    "+ attributes can be selected via\n",
    "    + `[attr]`: any element which has a given attribute\n",
    "    + `[attr=val]`: any element which has the given attribute with the given value\n",
    "    + several other options performing logical test on the values"
   ]
  },
  {
   "cell_type": "markdown",
   "metadata": {
    "slideshow": {
     "slide_type": "subslide"
    }
   },
   "source": [
    "##### a quick diversion: installing selector gadget\n",
    "\n",
    "generally speaking, it never *hurts* to check out the source code when building an `xpath` expression or a `css` selector expression. but there's a pretty great tool for cutting short, if you're interested..."
   ]
  },
  {
   "cell_type": "markdown",
   "metadata": {
    "slideshow": {
     "slide_type": "subslide"
    }
   },
   "source": [
    "<div align=\"center\">**mini-exercise: install selector gadget**</div>\n",
    "\n",
    "go find the browser extension [selector gadget](http://selectorgadget.com/) and install it.\n",
    "\n",
    "note: this is optional. if you don't like cluttering your browser I get it and you can just follow along"
   ]
  },
  {
   "cell_type": "markdown",
   "metadata": {
    "slideshow": {
     "slide_type": "subslide"
    }
   },
   "source": [
    "up above we built an `xpath` expression to find the \"Package Name\" element in the table at (https://anaconda.org/anaconda/repo). let's look at how selector gadget helps us here"
   ]
  },
  {
   "cell_type": "markdown",
   "metadata": {
    "slideshow": {
     "slide_type": "subslide"
    }
   },
   "source": [
    "<div align=\"center\">**mini-exercise: use selector gadget to build a `css` path and an `xpath` expression**</div>\n",
    "\n",
    "1. activate selector gadget by clicking on the extension button\n",
    "2. select the package name element\n",
    "    1. this will activate (highlight yellow) elements which match that selected item under *some* `css` selector path\n",
    "3. click on any \"wrong\" items until only the desire elements are highlighted\n",
    "4. investigate the `css` selector item at the bottom, and click the `xpath` button\n",
    "5. repeat with the Summary field items"
   ]
  },
  {
   "cell_type": "markdown",
   "metadata": {
    "slideshow": {
     "slide_type": "slide"
    }
   },
   "source": [
    "#### `json` format and `javascript`\n",
    "\n",
    "`html` isn't the only way that computers yell at each other, though. there are other languages they yell in, and one of the most common is [JavaScript Object Notation](http://json.org/), or `json` for short."
   ]
  },
  {
   "cell_type": "markdown",
   "metadata": {
    "slideshow": {
     "slide_type": "subslide"
    }
   },
   "source": [
    "if you're familiar with `python` default data types, `json` can be converted directly to lists, dictionaries, numbers, and strings. my personal favorite example is [the Magic the Gathering `json` webpage](https://mtgjson.com/) ([direct link to example](https://mtgjson.com/json/XLN.json)), but [there are a ton out there](https://github.com/toddmotto/public-apis)."
   ]
  },
  {
   "cell_type": "markdown",
   "metadata": {
    "slideshow": {
     "slide_type": "subslide"
    }
   },
   "source": [
    "there are a million web tutorials out there. use any of them. they're all better than this.\n",
    "\n",
    "`json` is everywhere. it [has it's detractors](https://codepunk.io/xml-vs-json-why-json-sucks/), but it is essentially the *de facto* data and information transfer protocol on the web."
   ]
  },
  {
   "cell_type": "markdown",
   "metadata": {
    "slideshow": {
     "slide_type": "subslide"
    }
   },
   "source": [
    "as I wrote above, `json` is the \"JavaScript Object Notation.\" the reason it's so ubiquitous is that [`javascript`](https://developer.mozilla.org/en-US/docs/Web/JavaScript) is ubiquitous. \n",
    "\n",
    "`javascript` is a programming language which has a ton of ~~bugs~~ features resulting from its use case as the primary web language for client-side (aka heavy lifting is done by you (via your browser) rather than the server sending you information) computation."
   ]
  },
  {
   "cell_type": "markdown",
   "metadata": {
    "slideshow": {
     "slide_type": "subslide"
    }
   },
   "source": [
    "some people treat `javascript` as if it's not a chaos land of abominations and for the most part we all let them go on thinking those things, because they make us really pretty and fast webpages. Sometimes [everyone realizes that the whole enterprise is castles built on sand](https://qz.com/646467/how-one-programmer-broke-the-internet-by-deleting-a-tiny-piece-of-code/) and the super l33t trolls of the internet have a chuckle or two."
   ]
  },
  {
   "cell_type": "markdown",
   "metadata": {
    "slideshow": {
     "slide_type": "subslide"
    }
   },
   "source": [
    "The main reason I bring it up is this: sometimes the only way to access the data you want is via `javascript`. in about 95% of all cases, I find this is something you can avoid with some digging.\n",
    "\n",
    "why avoid it? because it requires breaking out of the simple `requests` paradigm and using a full-fledged `javascript` engine, and that's a big jump in complexity.\n",
    "\n",
    "**whenever possible, I try and just `GET` things.**"
   ]
  },
  {
   "cell_type": "markdown",
   "metadata": {
    "slideshow": {
     "slide_type": "slide"
    }
   },
   "source": [
    "## setup"
   ]
  },
  {
   "cell_type": "markdown",
   "metadata": {
    "slideshow": {
     "slide_type": "subslide"
    }
   },
   "source": [
    "<div align=\"center\">**mini-exercise: create a web scraping `conda` environment**</div>\n",
    "\n",
    "using `conda`, let's create a new environment and install the most basic items for our first web scraping tests.\n",
    "\n",
    "```bash\n",
    "conda create -n scrapesville python=3\n",
    "source activate scrapesville\n",
    "conda install requests lxml cssslect\n",
    "```\n",
    "\n",
    "that's it! we should be good to go"
   ]
  },
  {
   "cell_type": "markdown",
   "metadata": {
    "slideshow": {
     "slide_type": "slide"
    }
   },
   "source": [
    "## `GET` requests"
   ]
  },
  {
   "cell_type": "markdown",
   "metadata": {
    "slideshow": {
     "slide_type": "subslide"
    }
   },
   "source": [
    "let's do some scraping!\n",
    "\n",
    "as a reminder, a `GET` request is a request we send to a server to ask for some information, and the returned message is whatever content we asked for."
   ]
  },
  {
   "cell_type": "markdown",
   "metadata": {
    "slideshow": {
     "slide_type": "slide"
    }
   },
   "source": [
    "### `json` is almost too easy\n",
    "\n",
    "my go-to `json` example, as discussed above, is [mtgjson.com](https://mtgjson.com/). however, I can understand why maybe that's not the most useful resource for everyone. \n",
    "\n",
    "let's work with the (debatably) more useful [wikipedia `json` api](https://www.mediawiki.org/wiki/API:Main_page)"
   ]
  },
  {
   "cell_type": "markdown",
   "metadata": {
    "slideshow": {
     "slide_type": "subslide"
    }
   },
   "source": [
    "take, for example, the below url:\n",
    "\n",
    "```\n",
    "https://en.wikipedia.org/w/api.php?action=query&titles=Leet&prop=revisions&rvprop=content&format=json\n",
    "```\n",
    "[(link)](https://en.wikipedia.org/w/api.php?action=query&titles=Leet&prop=revisions&rvprop=content&format=json)\n",
    "\n",
    "Let's break the url from this request down into pieces"
   ]
  },
  {
   "cell_type": "markdown",
   "metadata": {
    "slideshow": {
     "slide_type": "subslide"
    }
   },
   "source": [
    "```\n",
    "https://en.wikipedia.org/w/api.php?action=query&titles=Leet&prop=revisions&rvprop=content&format=json\n",
    "^--------------------------------^\n",
    "```\n",
    "\n",
    "`https://en.wikipedia.org/w/api.php`: this is known as the api \"endpoint,\" a `url` to which we can send `request`s. basically, this is equivalent to a function name in a program"
   ]
  },
  {
   "cell_type": "markdown",
   "metadata": {
    "slideshow": {
     "slide_type": "subslide"
    }
   },
   "source": [
    "```\n",
    "https://en.wikipedia.org/w/api.php?action=query&titles=Leet&prop=revisions&rvprop=content&format=json\n",
    "                                  ^\n",
    "```\n",
    "\n",
    "`?` is a common delimiter (most common? only?) indicating that what follows is a list of key-value pairs of parameters. This is like the open-parentheses of a function declaration"
   ]
  },
  {
   "cell_type": "markdown",
   "metadata": {
    "slideshow": {
     "slide_type": "subslide"
    }
   },
   "source": [
    "```\n",
    "https://en.wikipedia.org/w/api.php?action=query&titles=Leet&prop=revisions&rvprop=content&format=json\n",
    "                                   ^----------^\n",
    "```\n",
    "\n",
    "`foo=bar`: each of the `key=value` strings is a parameter to the function and the parameter's value. the allowed keys are defined by the api endpoint, and a really good api will [tell you what the possibilities are](https://en.wikipedia.org/w/api.php) (but most won't)."
   ]
  },
  {
   "cell_type": "markdown",
   "metadata": {
    "slideshow": {
     "slide_type": "subslide"
    }
   },
   "source": [
    "```\n",
    "https://en.wikipedia.org/w/api.php?action=query&titles=Leet&prop=revisions&rvprop=content&format=json\n",
    "                                               ^\n",
    "```\n",
    "\n",
    "`&`: this symbol simply separates key-value pairs, like commas in an `R` or `python` function"
   ]
  },
  {
   "cell_type": "markdown",
   "metadata": {
    "slideshow": {
     "slide_type": "subslide"
    }
   },
   "source": [
    "```\n",
    "https://en.wikipedia.org/w/api.php?action=query&titles=Leet&prop=revisions&rvprop=content&format=json\n",
    "```\n",
    "\n",
    "+ ask the primary wikipedia api endpoint, and\n",
    "+ take the `action` of [`query`](https://en.wikipedia.org/w/api.php?action=help&modules=query)\n",
    "+ look for documents with `titles` of `Leet`\n",
    "+ look for the `prop`(erty) [`revisions`](https://en.wikipedia.org/w/api.php?action=help&modules=query%2Brevisions)\n",
    "+ for each revision, get the property (aka the `rvprop`) `content`\n",
    "+ return it to us with the `format` `json` (other options are `jsonfm` and `xml` -- in your browser, try changing that value in the url!"
   ]
  },
  {
   "cell_type": "markdown",
   "metadata": {
    "slideshow": {
     "slide_type": "subslide"
    }
   },
   "source": [
    "Let's do it with `python`!"
   ]
  },
  {
   "cell_type": "code",
   "execution_count": 20,
   "metadata": {
    "ExecuteTime": {
     "end_time": "2017-05-29T19:46:28.554830Z",
     "start_time": "2017-05-29T19:46:28.551277Z"
    },
    "slideshow": {
     "slide_type": "subslide"
    }
   },
   "outputs": [
    {
     "name": "stdout",
     "output_type": "stream",
     "text": [
      "Help on function get in module requests.api:\n",
      "\n",
      "get(url, params=None, **kwargs)\n",
      "    Sends a GET request.\n",
      "    \n",
      "    :param url: URL for the new :class:`Request` object.\n",
      "    :param params: (optional) Dictionary or bytes to be sent in the query string for the :class:`Request`.\n",
      "    :param \\*\\*kwargs: Optional arguments that ``request`` takes.\n",
      "    :return: :class:`Response <Response>` object\n",
      "    :rtype: requests.Response\n",
      "\n"
     ]
    }
   ],
   "source": [
    "import requests\n",
    "\n",
    "help(requests.get)"
   ]
  },
  {
   "cell_type": "code",
   "execution_count": 21,
   "metadata": {
    "ExecuteTime": {
     "end_time": "2017-05-29T19:57:42.970066Z",
     "start_time": "2017-05-29T19:57:42.962608Z"
    },
    "collapsed": true,
    "slideshow": {
     "slide_type": "subslide"
    }
   },
   "outputs": [],
   "source": [
    "def my_request(title='Leet'):\n",
    "    return requests.get(\n",
    "        url='https://en.wikipedia.org/w/api.php',\n",
    "        params={\n",
    "            'action': 'query',\n",
    "            'titles': title,\n",
    "            'prop': 'revisions',\n",
    "            'rvprop': 'content',\n",
    "            'format': 'json'\n",
    "        }\n",
    "    )"
   ]
  },
  {
   "cell_type": "code",
   "execution_count": 22,
   "metadata": {
    "ExecuteTime": {
     "end_time": "2017-05-29T19:57:57.275483Z",
     "start_time": "2017-05-29T19:57:56.981163Z"
    },
    "slideshow": {
     "slide_type": "subslide"
    }
   },
   "outputs": [
    {
     "data": {
      "text/plain": [
       "<Response [200]>"
      ]
     },
     "execution_count": 22,
     "metadata": {},
     "output_type": "execute_result"
    }
   ],
   "source": [
    "response = my_request()\n",
    "response"
   ]
  },
  {
   "cell_type": "markdown",
   "metadata": {
    "slideshow": {
     "slide_type": "subslide"
    }
   },
   "source": [
    "this message was either successful or unsuccessful, and there are a well-establish handful of reasons for whatever the result was. they are called [status code](https://developer.mozilla.org/en-US/docs/Web/HTTP/Status)\n",
    "\n",
    "this code is useful information for more automated process, but also sometimes helps us understand what went wrong. For the most part, we like 200s and we hate 400s and 500s. the others -- supposedly -- exist."
   ]
  },
  {
   "cell_type": "code",
   "execution_count": 5,
   "metadata": {
    "ExecuteTime": {
     "end_time": "2017-05-28T20:58:36.635583Z",
     "start_time": "2017-05-28T20:58:36.630604Z"
    },
    "slideshow": {
     "slide_type": "subslide"
    }
   },
   "outputs": [
    {
     "data": {
      "text/plain": [
       "200"
      ]
     },
     "execution_count": 5,
     "metadata": {},
     "output_type": "execute_result"
    }
   ],
   "source": [
    "response.status_code"
   ]
  },
  {
   "cell_type": "markdown",
   "metadata": {
    "slideshow": {
     "slide_type": "subslide"
    }
   },
   "source": [
    "awesome. now what about the content? as we requested in above, this `api` responded with `json`"
   ]
  },
  {
   "cell_type": "code",
   "execution_count": 23,
   "metadata": {
    "ExecuteTime": {
     "end_time": "2017-05-29T19:50:04.093796Z",
     "start_time": "2017-05-29T19:50:04.086461Z"
    },
    "slideshow": {
     "slide_type": "-"
    }
   },
   "outputs": [
    {
     "data": {
      "text/plain": [
       "{'batchcomplete': '',\n",
       " 'query': {'pages': {'18562': {'ns': 0,\n",
       "    'pageid': 18562,\n",
       "    'revisions': [{'*': '{{Other uses}}\\n{{pp-semi|small=yes}}\\n[[File:31337 h4x0r.jpg|thumb|A \"31337 h4x0r\" laptop sticker, along with a [[Kevin Mitnick]] sticker]]\\n\\'\\'\\'Leet\\'\\'\\' (or \"\\'\\'\\'1337\\'\\'\\'\"), also known as \\'\\'\\'eleet\\'\\'\\' or \\'\\'\\'leetspeak\\'\\'\\', is an alternative [[alphabet]] for many languages that is used primarily on the [[Internet]]. It uses some [[character (computing)|characters]] to replace others in ways that play on the similarity of their [[glyph]]s via [[reflection (mathematics)|reflection]] or other resemblance. For example, leet spellings of the word \\'\\'leet\\'\\' include \\'\\'1337\\'\\' and \\'\\'l33t\\'\\'; \\'\\'eleet\\'\\' may be spelled \\'\\'31337\\'\\' or \\'\\'3l33t\\'\\'.\\n\\nThe term leet is derived from the word \\'\\'[[elite]]\\'\\'. The leet alphabet is a specialized form of [[symbol]]ic writing. Leet may also be considered a [[substitution cipher]], although many [[dialects]] or [[Variety (linguistics)|linguistic varieties]] exist in different online communities. The term \\'\\'leet\\'\\' is also used as an [[adjective]] to describe formidable prowess or accomplishment, especially in the fields of [[online game|online gaming]] and in its original usage—[[Hacker (hobbyist)|computer hacking]].\\n\\n==History==\\nLeet originated within [[bulletin board system]]s (BBS) in the 1980s,<ref name=mitchell>Mitchell.</ref><ref name=bbc>An Explanation of l33t Speak.</ref> where having \"elite\" status on a BBS allowed a user access to file folders, games, and special chat rooms.  The [[Cult of the Dead Cow]] hacker collective has been credited with the original coining of the term, in their text-files of that era.<ref>Mello, John P.(2015) \"[http://www.ecommercetimes.com/story/Google-Expands-Bug-Bounty-Program-81668.html] Google Expands Bug Bounty Program\" February 2, 2015. \\'\\'E-Commerce Times\\'\\'</ref>  One theory is that it was developed to defeat text filters created by BBS or [[Internet Relay Chat]] [[system operators]] for message boards to discourage the discussion of forbidden topics, like [[Software cracking|cracking]] and [[Hacker (computer security)|hacking]].<ref name=mitchell/> Creative misspellings and ASCII-art-derived words were also a way to attempt to indicate one was knowledgeable about the culture of computer users. Once the reserve of [[Hacker (computer security)|hackers]], crackers, and [[script kiddie]]s, leet has since entered the mainstream.<ref name=mitchell/> It is now also used to mock [[newbie]]s, or newcomers, on web sites, or in gaming communities.<ref name=rome>Rome.</ref> Some consider [[emoticon]]s and [[ASCII art]], like smiley faces, to be leet, while others maintain that leet consists of only symbolic word encryption. More obscure forms of leet, involving the use of symbol combinations and almost no letters or numbers, continue to be used for its original purpose of encrypted communication. It is also sometimes used as a script language. Variants of leet have been used for censorship purposes for many years; for instance \"@$$\" (ass) and \"$#!+\" (shit) are frequently seen to make a word appear censored to the untrained eye but obvious to a person familiar with leet.\\n\\nLeet symbols, especially the number 1337, are [[Internet meme]]s that have spilled over into popular culture. Signs that show the numbers \"1337\" are popular motifs for pictures and shared widely across the Internet.\\n\\n==Orthography==\\n\\nOne of the hallmarks of leet is its unique approach to [[orthography]], using substitutions of other characters, letters or otherwise, to represent a letter or letters in a word.<ref name=sterling>Sterling, 70.</ref><ref name=\"goss 80\">Blashki & Nichol, 80.</ref> For more casual use of leet, the primary strategy is to use [[homoglyph]]s, symbols that closely resemble (to varying degrees) the letters for which they stand. The choice of symbol is not fixed—anything that the reader can make sense of is valid. However, this practice is not extensively used in regular leet; more often it is seen in situations where the [[argot]] (i.e., secret language) characteristics of the system are required, either to exclude newbies or outsiders in general, i.e., anything that the \\'\\'average\\'\\' reader \\'\\'cannot\\'\\' make sense of is valid; a valid reader should himself try to make sense, if deserving of the underlying message. Another use for Leet orthographic substitutions is the creation of paraphrased passwords.<ref name=mitchell/> Limitations imposed by websites on password length (usually no more than 36) and the characters permitted (usually alphanumeric and underscore) require less extensive forms of Leet when used in this application.\\n\\nSome examples of leet include \\'\\'[[B1ff]]\\'\\' and \\'\\'[[Newbie|n00b]]\\'\\', a term for the stereotypical [[newbie]]; the l33t programming language; and the web-comic \\'\\'[[Megatokyo]]\\'\\', which contains characters who speak leet.\\n\\n==Morphology==\\n\\nText rendered in leet is often characterized by distinctive, recurring forms.\\n\\n;The \\'\\'-xor\\'\\' suffix\\n:The meaning of this suffix is parallel with the English \\'\\'-er\\'\\' and \\'\\'-r\\'\\' suffixes (seen in \\'\\'hacker\\'\\' and \\'\\'lesser\\'\\'),<ref name=bbc/> in that it derives [[agent noun]]s from a verb [[stem (linguistics)|stem]]. It is realized in two different forms: \\'\\'-xor\\'\\' and \\'\\'-zor\\'\\', {{IPAc-en|-|s|ɔr}} and {{IPAc-en|-|z|ɔr}}, respectively. For example, the first may be seen in the word \\'\\'hax(x)or\\'\\' (\\'\\'H4x0r\\'\\' in leet) {{IPAc-en|ˈ|h|æ|k|s|ɔr}} and the second in \\'\\'[[pwn]]zor\\'\\' {{IPAc-en|ˈ|oʊ|n|z|ɔr}}. Additionally, this [[nominalization]] may also be [[inflection|inflected]] with all of the suffixes of regular [[English verbs]]. The letter \\'o\\' is often replaced with the numeral 0.\\n\\n;The \\'\\'-age\\'\\' suffix\\n:Derivation of a noun from a verb stem is possible by attaching \\'\\'-age\\'\\' to the base form of any verb. Attested derivations are \\'\\'pwnage\\'\\', \\'\\'skillage\\'\\',  and \\'\\'speakage\\'\\'. However, leet provides exceptions; the word \\'\\'leetage\\'\\' is acceptable, referring to actively being \\'\\'leet\\'\\'.<ref name=\"goss 79\">Blashki & Nichol, 79.</ref> These nouns are often used with a form of \"to be\" rather than \"to have,\" e.g., \"that was pwnage\" rather than \"he has pwnage\". Either is a more emphatic way of expressing the simpler \"he pwns,\" but the former implies that the person is \\'\\'embodying\\'\\' the trait rather than merely possessing it.\\n\\n;The \\'\\'-ness\\'\\' suffix\\n:Derivation of a noun from an adjective stem is done by attaching \\'\\'-ness\\'\\' to any adjective. This is entirely the same as the English form, except it is used much more often in Leet. Nouns such as \\'\\'lulzness\\'\\' and \\'\\'leetness\\'\\' are derivations using this suffix.\\n\\n;Words ending in \\'\\'-ed\\'\\'\\n:When forming a past participle ending in \\'\\'-ed\\'\\', the Leet user may replace the \\'\\'-e\\'\\' with an apostrophe, as was common in [[poetry]] of previous centuries, (e.g. \"pwned\" becomes \"pwn\\'d\"). Sometimes, the apostrophe is removed as well (e.g. \"pwned\" becomes \"pwnd\"). The word ending may also be substituted by \\'\\'-t\\'\\' (e.g. \\'\\'pwned\\'\\' becomes \\'\\'pwnt\\'\\').<ref name=\"blanc33\">LeBlanc, 33.</ref>\\n\\n;Use of the \\'\\'-&\\'\\' suffix\\n:Words ending in \\'\\'-and\\'\\', \\'\\'-anned\\'\\', \\'\\'-ant\\'\\', or a similar sound can sometimes be spelled with an [[ampersand]] (\\'\\'&\\'\\') to express the ending sound (e.g. \"This is the [[Sandbox (software development)|s&box]],\" \"I\\'m sorry, you\\'ve been b&\", \"&hill/&farm\"). This is most commonly used with the word \\'\\'banned.\\'\\' An alternate form of \"B&\" is \"B7\", as the ampersand is typed with the \"7\" key in the standard US keyboard layout.  It is often seen in the phrase \"IBB7\" (in before banned), which indicates that the poster believes that a previous poster will soon be banned from the site, channel, or board on which they are both posting.\\n\\n==Grammar==\\n\\nLeet can be pronounced as a single syllable, {{IPA|/ˈliːt/}}, rhyming with \\'\\'eat,\\'\\' by way of [[aphesis]] of the initial vowel of \"elite\". It may also be pronounced as two syllables, {{IPA|/ɛˈliːt/}}. Like [[Jargon File|hacker slang]], leet enjoys a looser grammar than standard English.<ref name=rome/> The loose grammar, just like loose spelling, encodes some level of emphasis, ironic or otherwise. A reader must rely more on intuitive [[parsing]] of leet to determine the meaning of a sentence rather than the actual sentence structure. In particular, speakers of leet are fond of [[verbing]] nouns, turning verbs into nouns (and back again) as forms of emphasis, e.g. \"Austin rocks\" is weaker than \"Austin roxxorz\" (note spelling), which is weaker than \"Au5t1N is t3h r0xx0rz\" (note grammar), which is weaker than something like \"0MFG D00D /\\\\Ü571N 15 T3H l_l83Я 1337 Я0XX0ЯZ\" ([[SMS language#Common abbreviations|OMG]], dude, Austin is the [[über]]-elite rocks-er!). In essence, all of these mean \"Austin rocks,\" not necessarily the other options. Added words and misspellings add to the speaker\\'s enjoyment. Leet, like hacker slang, employs analogy in construction of new words. For example, if \\'\\'haxored\\'\\' is the past tense of the verb \"to hack\" (hack → haxor → haxored), then \\'\\'winzored\\'\\' would be easily understood to be the past tense conjugation of \"to win,\" even if the reader had not seen that particular word before.\\n\\nLeet has its own colloquialisms, many of which originated as jokes based on common typing errors, habits of new computer users, or knowledge of [[cyberculture]] and history.<ref name=\"goss 81\">Blashki & Nichol, 81.</ref> Leet is not solely based upon one language or character set. Greek, Russian, and other languages have leet forms, and leet in one language may use characters from another where they are available. As such, while it may be referred to as a \"[[cipher]]\", a \"dialect\", or a \"language\", leet does not fit squarely into any of these categories. The term \\'\\'leet\\'\\' itself is often written \\'\\'31337\\'\\', or \\'\\'1337\\'\\', and many other variations. After the meaning of these became widely familiar, \\'\\'10100111001\\'\\' came to be used in its place, because it is the [[Binary numeral system|binary]] form of \\'\\'1337\\'\\' decimal, making it more of a puzzle to interpret.<ref group=\"Notes\">This appears as an in-joke for technical illustrations such as these: [[:Commons:File:Ami encoding.svg|\\'\\'(a)\\'\\']][[:Commons:File:Manchester encoding.svg|\\'\\'(b)\\'\\']]</ref> An increasingly common characteristic of leet is the changing of grammatical usage so as to be deliberately incorrect. The widespread popularity of deliberate misspelling is similar to the cult following of the \"[[All your base are belong to us]]\" phrase. Indeed, the online and computer communities have been international from their inception, so spellings and phrases typical of non-native speakers are quite common.\\n\\n==Vocabulary==\\n\\nMany words originally derived from leet slang have now become part of the modern [[Internet slang]], such as \"[[pwn]]ed\".<ref name=mitchell/> The original driving forces of new vocabulary in leet were common misspellings and typing errors such as \"[[teh]]\" (generally considered lolspeak), and intentional misspellings,<ref name=\"goss 83\">Blashki & Nichol, 83.</ref> especially the \"z\" at the end of words (\"skillz\").<ref name=mitchell/> Another prominent example of a surviving leet expression is \\'\\'[[w00t]]\\'\\', an exclamation of joy.<ref name=bbc/> w00t is sometimes used as a [[backronym]] for \"We owned the other team.\"\\n\\nNew words (or corruptions thereof) may arise from a need to make one\\'s username unique. As any given Internet service reaches more people, the number of names available to a given user is drastically reduced. While many users may wish to have the username \"CatLover,\" for example, in many cases it is only possible for one user to have the moniker. As such, degradations of the name may evolve, such as \"C@7L0vr.\" As the leet cipher is highly dynamic, there is a wider possibility for multiple users to share the \"same\" name, through combinations of spelling and transliterations.\\n\\nAdditionally, \\'\\'leet\\'\\'—the word itself—can be found in the [[User (computing)|screen-names]] and [[gamertags]] of many Internet and video games. Use of the term in such a manner announces a high level of skill, though such an announcement may be seen as baseless [[hubris]].<ref name=hope>Computer Hope Dictionary.</ref> <!-- NOTE: ANY FURTHER ADDITIONS MUST HAVE A PROPER REFERENCE OR WILL BE REMOVED PER WP:OR -->\\n\\n===Terminology and common misspellings===\\n\\n\\'\\'[[Warez]]\\'\\' (nominally {{IPAc-en|ˈ|w|ɛər|z}}) is a plural shortening of \"software\", typically referring to cracked and redistributed software.<ref name=hope/> \\'\\'[[Phreaking]]\\'\\' refers to the hacking of telephone systems and other non-Internet equipment.<ref name=mitchell/> \\'\\'[[Teh]]\\'\\' originated as a typographical error of \"the\", and is sometimes spelled \\'\\'t3h\\'\\'.<ref name=mitchell/><ref name=\"blanc34 35\">LeBlanc, 34-35.</ref> \\'\\'j00\\'\\' takes the place of \"you\",<ref name=bbc/> originating from the [[affricate]] sound that occurs in place of the [[palatal approximant]], {{IPA|/j/}}, when \\'\\'you\\'\\' follows a word ending in an [[alveolar consonant|alveolar]] [[plosive]] consonant, such as {{IPA|/t/}} or {{IPA|/d/}}. Also, from German, is \\'\\'[[wiktionary:Über|über]]\\'\\', which means \"over\" or \"above\"; it usually appears as a prefix attached to adjectives, and is frequently written without the [[Umlaut (diacritic)|umlaut]] over the \\'\\'u\\'\\'.<ref name=dutch>Van de Velde & Meuleman.</ref>\\n\\n===Haxor and suxxor (suxorz)===\\n\\n\\'\\'Haxor\\'\\', and derivations thereof, is leet for \"hacker\",<ref name=\"blanc30 32\">LeBlanc, 30; 32.</ref> and it is one of the most commonplace examples of the use of the \\'\\'-xor\\'\\' suffix. \\'\\'Suxxor\\'\\' (pronounced suck-zor) is a derogatory term which originated in warez culture and is currently used in multi-user environments such as multiplayer video games and [[instant messaging]]; it, like \\'\\'haxor\\'\\', is one of the early leet words to use the \\'\\'-xor\\'\\' suffix. \\'\\'Suxxor\\'\\' is a modified version of \"sucks\" (the phrase \"to suck\"), and the meaning is the same as the English slang. Its negative definition essentially makes it the opposite of \\'\\'roxxor\\'\\', and both can be used as a verb or a noun. The letters \\'\\'ck\\'\\' are often replaced with the Greek Χ (chi) in other words as well.\\n\\n===n00b===\\n{{main|Newbie}}\\n\\nWithin leet, the term \\'\\'n00b\\'\\', and derivations thereof, is used extensively. The word means and derives from \\'\\'newbie\\'\\' (as in new and inexperienced or uninformed),<ref name=\"goss 83\"/><ref name=dutch/><ref name=acronym/> and is used as a means of segregating them as less than the \"elite,\" or even \"normal,\" members of a group.\\n\\n===Owned and pwned===\\n{{Main|Owned|Pwn}}\\n\\n\\'\\'Owned\\'\\' and \\'\\'pwn3d\\'\\' (generally pronounced \"owned\" and \"poned\", respectively) both refer to the domination of a player in a video game or argument (rather than just a win), or the successful hacking of a website or computer.<ref name=mitchell/><ref name=dutch/><ref name=\"blanc32 33\">LeBlanc, 32-33.</ref>\\n\\nAs is a common characteristic of leet, the terms have also been adapted into noun and adjective forms,<ref name=dutch/> \\'\\'ownage\\'\\' and \\'\\'pwnage\\'\\', which can refer to the situation of \\'\\'pwning\\'\\' or to the superiority of its subject (e.g., \"He is a very good player. He is pwnage.\").\\n\\n===Pr0n<!-- This section is linked from [[Pr0n]] -->===\\n\\n\\'\\'Pr0n\\'\\' is [[slang]] for \\'\\'[[pornography]]\\'\\'.<ref name=mitchell/> This is a deliberately inaccurate spelling/pronunciation for \\'\\'porn\\'\\',<ref name=acronym>The Acronym Finder.</ref> where a zero is often used to replace the letter O. It is sometimes used in legitimate communications (such as email discussion groups, [[Usenet]], chat rooms, and Internet web pages) to circumvent language and [[content filter]]s, which may reject messages as offensive or [[spam (electronic)|spam]]. The word also helps prevent [[search engines]] from associating commercial sites with pornography, which might result in unwelcome traffic.{{Citation needed|date=March 2011}} \\'\\'Pr0n\\'\\' is also sometimes spelled backwards (n0rp) to further obscure the meaning to potentially uninformed readers.<ref group=\"Notes\">This can be observed by searching for \"n0rp\" on a search engine.</ref> It can also refer to [[ASCII art]] depicting pornographic images, or to photos of the internals of consumer and industrial hardware. \\'\\'Prawn\\'\\', a spoof of the misspelling, has started to come into use, as well; in \\'\\'[[Grand Theft Auto: Vice City]]\\'\\', a pornographer films his movies on \"Prawn Island\". Conversely, in the [[Role-playing game|RPG]] \\'\\'[[Kingdom of Loathing]]\\'\\', \\'\\'[[prawn]]\\'\\', referring to a kind of [[crustacean]], is spelled \\'\\'pr0n\\'\\', leading to the creation of food items such as \"pr0n chow mein\".\\n\\n== See also ==\\n{{Portal|Internet|Language}}\\n{{Div col|colwidth=20em}}\\n* [[Calculator spelling]]\\n* [[Elitism]]\\n* [[Faux Cyrillic]]\\n* [[Geek Code]]\\n* [[IDN homograph attack]]\\n* [[Magic debug values]], specific values written to a PC\\'s memory \\n* [[Mojibake]], garbled text, resulting from text being decoded using an unintended character encoding\\n* [[Numeronym]], e.g. \"K9\" for \"canine\"\\n* [[Rebus]], an allusional device that uses pictures to represent words or parts of words\\n* [[SMS language]], a term for the abbreviations and slang used in mobile phone text messaging and other social technology\\n* [[Urban Dictionary]], a crowd-sourced slang dictionary\\n* [[Verlan]], inversion of syllables in a word\\n* [[Jargon File]], is a glossary and usage dictionary of computer programmer slang\\n* [[Arabic chat alphabet]]\\n{{Div col end}}\\n\\n==Notes==\\n{{reflist|group=Notes}}\\n\\n==Footnotes==\\n{{Reflist|20em}}\\n\\n==References==\\n{{refbegin|30em}}\\n* {{cite web | url=http://acronymfinder.com/ | title=The Acronym Finder | publisher=Mountain Data Systems, LLC  | accessdate=2007-04-11 }}\\n* {{cite web | title=An Explanation of l33t Speak | url=http://www.bbc.co.uk/dna/h2g2/A787917 | work=h2g2 | publisher=BBC | date=2002-08-16 | accessdate=2007-03-29 }}\\n* {{Cite journal | journal = Australian Journal of Emerging Technologies and Society | volume = 3 | issue=2 |\\n title = Game Geek\\'s Goss: Linguistic Creativity In Young Males Within An Online University Forum | last1 = Blashki | first1 = Katherine | last2 = Nichol | first2 = Sophie | year=2005 | pages=77–86 | url = http://www.swinburne.edu.au/sbs/ajets/journal/V3N2/pdf/V3N2-2-Blashki.pdf |format=PDF | postscript = <!--None-->}}\\n* {{cite web | title=Computer Hope Dictionary - Game definitions | url=http://www.computerhope.com/jargon/game.htm | publisher=Computer Hope | accessdate=2007-04-02}}\\n* {{cite web | url=http://acronyms.thefreedictionary.com/ | title=The Free Dictionary -- Acronyms  | work=The Free Dictionary | publisher=Farlex, Inc | accessdate=2007-04-11 }}\\n* {{cite web|title=Google Directory - Computers |url=http://www.google.org/alpha/Top/Computers/Programming/Languages/Obfuscated/ | publisher=Google |accessdate=2007-04-29 |archiveurl = https://web.archive.org/web/20070930224351/http://www.google.org/alpha/Top/Computers/Programming/Languages/Obfuscated/ <!-- Bot retrieved archive --> |archivedate = 2007-09-30}}\\n* {{cite book|title=E-Mail Essentials: How to Make the Most of E-Communications|last=Haig|first=Matt|year=2001|publisher=Kogan Page|isbn=0-7494-3576-3|page=89}}\\n* {{cite web | title=\"Is There A Translator in Teh House?\": Cultural and Discourse Analysis of a Virtual Speech Community on an Internet Message Board | last=LeBlanc | first=Tracy Rene | date=2005-04-01 | publisher=Louisiana State University | url=http://etd.lsu.edu/docs/available/etd-04072005-145922/unrestricted/LeBlanc_thesis.pdf |format=PDF}}\\n* {{cite web | title=A Leet Primer | last=Mitchell | first=Anthony | date=2006-06-12 | accessdate=2007-04-10 | url=http://www.technewsworld.com/story/47607.html | work=Technology News | publisher=ECT News Network, Inc }}\\n* {{Cite journal \\n| last1 = Perea | first1 = M. \\n| last2 = Duñabeitia | first2 = J. A. \\n| last3 = Carreiras | first3 = M. \\n| doi = 10.1037/0096-1523.34.1.237 \\n| title = R34D1Ng W0Rd5 W1Th Numb3R5 \\n| journal = Journal of Experimental Psychology: Human Perception and Performance \\n| volume = 34 \\n| issue = 1 \\n| pages = 237–241 \\n| year = 2008 \\n| pmid = 18248151 \\n| pmc = \\n| url = http://www.uv.es/~mperea/leet1.pdf\\n}}\\n* {{Cite journal|title=The New Hacker\\'s Dictionary|last1=Raymond|first1=Eric R.|last2=Steele|first2=Guy L.|year=1996|publisher=MIT Press|postscript=<!--None-->|isbn=0-262-68092-0}}\\n* {{cite web | title=relax we understand j00 | last=Rome | first=James Andrew | date=2001-12-18 | accessdate=2007-05-03 | publisher=[[Sigma Tau Delta]], The International English Honor Society. [[Case Western University]], Beta Beta Chapter | url=http://www.case.edu/orgs/sigmataudelta/submissions/rome-relaxweunderstand.htm |archiveurl = https://web.archive.org/web/20070216195207/http://www.case.edu/orgs/sigmataudelta/submissions/rome-relaxweunderstand.htm <!-- Bot retrieved archive --> |archivedate = 2007-02-16}}\\n* {{cite book | last=Sterling | first=Bruce | authorlink=Bruce Sterling | title =[[The Hacker Crackdown|The Hacker Crackdown: Law and Disorder on the Electronic Frontier]] | publisher=Bantam Spectra Books | location=New York | year=1994 | page=70 | isbn=0-553-56370-X }}\\n* {{cite web | title=Lexical tensions in \\'internet english\\' : 1337 as language? |last=Van de Velde | first=Kristof |author2=Meuleman, Jeroen  | year=2004 | accessdate=2007-04-13 | url=http://www.verbumvanum.org/kristof/index.html }}\\n* {{cite web | url=http://pages.cpsc.ucalgary.ca/~crwth/LOL.html | title=The creation of \"LOL\" | first=Wayne | last=Pearson | accessdate=2008-11-06}}\\n{{refend}}\\n\\n==External links==\\n{{Wiktionary|leet}}\\n* [http://cryptii.com/text/leetspeak Leet Translator]\\n\\n{{Internet Dialects}}\\n{{internet slang}}\\n\\n[[Category:Leet| ]]\\n[[Category:Alphabets]]\\n[[Category:Encodings]]\\n[[Category:In-jokes]]\\n[[Category:Internet culture]]\\n[[Category:Internet slang]]\\n[[Category:Latin-script representations]]\\n[[Category:Nerd culture]]\\n[[Category:Nonstandard spelling]]\\n[[Category:Obfuscation]]\\n[[Category:Social networking services]]\\n[[Category:1990s slang]]',\n",
       "      'contentformat': 'text/x-wiki',\n",
       "      'contentmodel': 'wikitext'}],\n",
       "    'title': 'Leet'}}}}"
      ]
     },
     "execution_count": 23,
     "metadata": {},
     "output_type": "execute_result"
    }
   ],
   "source": [
    "j = response.json()\n",
    "j"
   ]
  },
  {
   "cell_type": "markdown",
   "metadata": {
    "slideshow": {
     "slide_type": "subslide"
    }
   },
   "source": [
    "we can dig into that as we would with any `python` dict of dicts of dicts of dicts of lists of dicts:"
   ]
  },
  {
   "cell_type": "code",
   "execution_count": 25,
   "metadata": {
    "ExecuteTime": {
     "end_time": "2017-05-29T19:50:56.966925Z",
     "start_time": "2017-05-29T19:50:56.959787Z"
    },
    "slideshow": {
     "slide_type": "-"
    }
   },
   "outputs": [
    {
     "name": "stdout",
     "output_type": "stream",
     "text": [
      "{{Other uses}}\n",
      "{{pp-semi|small=yes}}\n",
      "[[File:31337 h4x0r.jpg|thumb|A \"31337 h4x0r\" laptop sticker, along with a [[Kevin Mitnick]] sticker]]\n",
      "'''Leet''' (or \"'''1337'''\"), also known as '''eleet''' or '''leetspeak''', is an alternative [[alphabet]] for many languages that is used primarily on the [[Internet]]. It uses some [[character (computing)|characters]] to replace others in ways that play on the similarity of their [[glyph]]s via [[reflection (mathematics)|reflection]] or other resemblance. For example, leet spellings of the word ''leet'' include ''1337'' and ''l33t''; ''eleet'' may be spelled ''31337'' or ''3l33t''.\n",
      "\n",
      "The term leet is derived from the word ''[[elite]]''. The leet alphabet is a specialized form of [[symbol]]ic writing. Leet may also be considered a [[substitution cipher]], although many [[dialects]] or [[Variety (linguistics)|linguistic varieties]] exist in different online communities. The term ''leet'' is also used as an [[adjective]] to describe formidable prowess or accomplishment, especially in the fields of [[online game|online gaming]] and in its original usage—[[Hacker (hobbyist)|computer hacking]].\n",
      "\n",
      "==History==\n",
      "Leet originated within [[bulletin board system]]s (BBS) in the 1980s,<ref name=mitchell>Mitchell.</ref><ref name=bbc>An Explanation of l33t Speak.</ref> where having \"elite\" status on a BBS allowed a user access to file folders, games, and special chat rooms.  The [[Cult of the Dead Cow]] hacker collective has been credited with the original coining of the term, in their text-files of that era.<ref>Mello, John P.(2015) \"[http://www.ecommercetimes.com/story/Google-Expands-Bug-Bounty-Program-81668.html] Google Expands Bug Bounty Program\" February 2, 2015. ''E-Commerce Times''</ref>  One theory is that it was developed to defeat text filters created by BBS or [[Internet Relay Chat]] [[system operators]] for message boards to discourage the discussion of forbidden topics, like [[Software cracking|cracking]] and [[Hacker (computer security)|hacking]].<ref name=mitchell/> Creative misspellings and ASCII-art-derived words were also a way to attempt to indicate one was knowledgeable about the culture of computer users. Once the reserve of [[Hacker (computer security)|hackers]], crackers, and [[script kiddie]]s, leet has since entered the mainstream.<ref name=mitchell/> It is now also used to mock [[newbie]]s, or newcomers, on web sites, or in gaming communities.<ref name=rome>Rome.</ref> Some consider [[emoticon]]s and [[ASCII art]], like smiley faces, to be leet, while others maintain that leet consists of only symbolic word encryption. More obscure forms of leet, involving the use of symbol combinations and almost no letters or numbers, continue to be used for its original purpose of encrypted communication. It is also sometimes used as a script language. Variants of leet have been used for censorship purposes for many years; for instance \"@$$\" (ass) and \"$#!+\" (shit) are frequently seen to make a word appear censored to the untrained eye but obvious to a person familiar with leet.\n",
      "\n",
      "Leet symbols, especially the number 1337, are [[Internet meme]]s that have spilled over into popular culture. Signs that show the numbers \"1337\" are popular motifs for pictures and shared widely across the Internet.\n",
      "\n",
      "==Orthography==\n",
      "\n",
      "One of the hallmarks of leet is its unique approach to [[orthography]], using substitutions of other characters, letters or otherwise, to represent a letter or letters in a word.<ref name=sterling>Sterling, 70.</ref><ref name=\"goss 80\">Blashki & Nichol, 80.</ref> For more casual use of leet, the primary strategy is to use [[homoglyph]]s, symbols that closely resemble (to varying degrees) the letters for which they stand. The choice of symbol is not fixed—anything that the reader can make sense of is valid. However, this practice is not extensively used in regular leet; more often it is seen in situations where the [[argot]] (i.e., secret language) characteristics of the system are required, either to exclude newbies or outsiders in general, i.e., anything that the ''average'' reader ''cannot'' make sense of is valid; a valid reader should himself try to make sense, if deserving of the underlying message. Another use for Leet orthographic substitutions is the creation of paraphrased passwords.<ref name=mitchell/> Limitations imposed by websites on password length (usually no more than 36) and the characters permitted (usually alphanumeric and underscore) require less extensive forms of Leet when used in this application.\n",
      "\n",
      "Some examples of leet include ''[[B1ff]]'' and ''[[Newbie|n00b]]'', a term for the stereotypical [[newbie]]; the l33t programming language; and the web-comic ''[[Megatokyo]]'', which contains characters who speak leet.\n",
      "\n",
      "==Morphology==\n",
      "\n",
      "Text rendered in leet is often characterized by distinctive, recurring forms.\n",
      "\n",
      ";The ''-xor'' suffix\n",
      ":The meaning of this suffix is parallel with the English ''-er'' and ''-r'' suffixes (seen in ''hacker'' and ''lesser''),<ref name=bbc/> in that it derives [[agent noun]]s from a verb [[stem (linguistics)|stem]]. It is realized in two different forms: ''-xor'' and ''-zor'', {{IPAc-en|-|s|ɔr}} and {{IPAc-en|-|z|ɔr}}, respectively. For example, the first may be seen in the word ''hax(x)or'' (''H4x0r'' in leet) {{IPAc-en|ˈ|h|æ|k|s|ɔr}} and the second in ''[[pwn]]zor'' {{IPAc-en|ˈ|oʊ|n|z|ɔr}}. Additionally, this [[nominalization]] may also be [[inflection|inflected]] with all of the suffixes of regular [[English verbs]]. The letter 'o' is often replaced with the numeral 0.\n",
      "\n",
      ";The ''-age'' suffix\n",
      ":Derivation of a noun from a verb stem is possible by attaching ''-age'' to the base form of any verb. Attested derivations are ''pwnage'', ''skillage'',  and ''speakage''. However, leet provides exceptions; the word ''leetage'' is acceptable, referring to actively being ''leet''.<ref name=\"goss 79\">Blashki & Nichol, 79.</ref> These nouns are often used with a form of \"to be\" rather than \"to have,\" e.g., \"that was pwnage\" rather than \"he has pwnage\". Either is a more emphatic way of expressing the simpler \"he pwns,\" but the former implies that the person is ''embodying'' the trait rather than merely possessing it.\n",
      "\n",
      ";The ''-ness'' suffix\n",
      ":Derivation of a noun from an adjective stem is done by attaching ''-ness'' to any adjective. This is entirely the same as the English form, except it is used much more often in Leet. Nouns such as ''lulzness'' and ''leetness'' are derivations using this suffix.\n",
      "\n",
      ";Words ending in ''-ed''\n",
      ":When forming a past participle ending in ''-ed'', the Leet user may replace the ''-e'' with an apostrophe, as was common in [[poetry]] of previous centuries, (e.g. \"pwned\" becomes \"pwn'd\"). Sometimes, the apostrophe is removed as well (e.g. \"pwned\" becomes \"pwnd\"). The word ending may also be substituted by ''-t'' (e.g. ''pwned'' becomes ''pwnt'').<ref name=\"blanc33\">LeBlanc, 33.</ref>\n",
      "\n",
      ";Use of the ''-&'' suffix\n",
      ":Words ending in ''-and'', ''-anned'', ''-ant'', or a similar sound can sometimes be spelled with an [[ampersand]] (''&'') to express the ending sound (e.g. \"This is the [[Sandbox (software development)|s&box]],\" \"I'm sorry, you've been b&\", \"&hill/&farm\"). This is most commonly used with the word ''banned.'' An alternate form of \"B&\" is \"B7\", as the ampersand is typed with the \"7\" key in the standard US keyboard layout.  It is often seen in the phrase \"IBB7\" (in before banned), which indicates that the poster believes that a previous poster will soon be banned from the site, channel, or board on which they are both posting.\n",
      "\n",
      "==Grammar==\n",
      "\n",
      "Leet can be pronounced as a single syllable, {{IPA|/ˈliːt/}}, rhyming with ''eat,'' by way of [[aphesis]] of the initial vowel of \"elite\". It may also be pronounced as two syllables, {{IPA|/ɛˈliːt/}}. Like [[Jargon File|hacker slang]], leet enjoys a looser grammar than standard English.<ref name=rome/> The loose grammar, just like loose spelling, encodes some level of emphasis, ironic or otherwise. A reader must rely more on intuitive [[parsing]] of leet to determine the meaning of a sentence rather than the actual sentence structure. In particular, speakers of leet are fond of [[verbing]] nouns, turning verbs into nouns (and back again) as forms of emphasis, e.g. \"Austin rocks\" is weaker than \"Austin roxxorz\" (note spelling), which is weaker than \"Au5t1N is t3h r0xx0rz\" (note grammar), which is weaker than something like \"0MFG D00D /\\Ü571N 15 T3H l_l83Я 1337 Я0XX0ЯZ\" ([[SMS language#Common abbreviations|OMG]], dude, Austin is the [[über]]-elite rocks-er!). In essence, all of these mean \"Austin rocks,\" not necessarily the other options. Added words and misspellings add to the speaker's enjoyment. Leet, like hacker slang, employs analogy in construction of new words. For example, if ''haxored'' is the past tense of the verb \"to hack\" (hack → haxor → haxored), then ''winzored'' would be easily understood to be the past tense conjugation of \"to win,\" even if the reader had not seen that particular word before.\n",
      "\n",
      "Leet has its own colloquialisms, many of which originated as jokes based on common typing errors, habits of new computer users, or knowledge of [[cyberculture]] and history.<ref name=\"goss 81\">Blashki & Nichol, 81.</ref> Leet is not solely based upon one language or character set. Greek, Russian, and other languages have leet forms, and leet in one language may use characters from another where they are available. As such, while it may be referred to as a \"[[cipher]]\", a \"dialect\", or a \"language\", leet does not fit squarely into any of these categories. The term ''leet'' itself is often written ''31337'', or ''1337'', and many other variations. After the meaning of these became widely familiar, ''10100111001'' came to be used in its place, because it is the [[Binary numeral system|binary]] form of ''1337'' decimal, making it more of a puzzle to interpret.<ref group=\"Notes\">This appears as an in-joke for technical illustrations such as these: [[:Commons:File:Ami encoding.svg|''(a)'']][[:Commons:File:Manchester encoding.svg|''(b)'']]</ref> An increasingly common characteristic of leet is the changing of grammatical usage so as to be deliberately incorrect. The widespread popularity of deliberate misspelling is similar to the cult following of the \"[[All your base are belong to us]]\" phrase. Indeed, the online and computer communities have been international from their inception, so spellings and phrases typical of non-native speakers are quite common.\n",
      "\n",
      "==Vocabulary==\n",
      "\n",
      "Many words originally derived from leet slang have now become part of the modern [[Internet slang]], such as \"[[pwn]]ed\".<ref name=mitchell/> The original driving forces of new vocabulary in leet were common misspellings and typing errors such as \"[[teh]]\" (generally considered lolspeak), and intentional misspellings,<ref name=\"goss 83\">Blashki & Nichol, 83.</ref> especially the \"z\" at the end of words (\"skillz\").<ref name=mitchell/> Another prominent example of a surviving leet expression is ''[[w00t]]'', an exclamation of joy.<ref name=bbc/> w00t is sometimes used as a [[backronym]] for \"We owned the other team.\"\n",
      "\n",
      "New words (or corruptions thereof) may arise from a need to make one's username unique. As any given Internet service reaches more people, the number of names available to a given user is drastically reduced. While many users may wish to have the username \"CatLover,\" for example, in many cases it is only possible for one user to have the moniker. As such, degradations of the name may evolve, such as \"C@7L0vr.\" As the leet cipher is highly dynamic, there is a wider possibility for multiple users to share the \"same\" name, through combinations of spelling and transliterations.\n",
      "\n",
      "Additionally, ''leet''—the word itself—can be found in the [[User (computing)|screen-names]] and [[gamertags]] of many Internet and video games. Use of the term in such a manner announces a high level of skill, though such an announcement may be seen as baseless [[hubris]].<ref name=hope>Computer Hope Dictionary.</ref> <!-- NOTE: ANY FURTHER ADDITIONS MUST HAVE A PROPER REFERENCE OR WILL BE REMOVED PER WP:OR -->\n",
      "\n",
      "===Terminology and common misspellings===\n",
      "\n",
      "''[[Warez]]'' (nominally {{IPAc-en|ˈ|w|ɛər|z}}) is a plural shortening of \"software\", typically referring to cracked and redistributed software.<ref name=hope/> ''[[Phreaking]]'' refers to the hacking of telephone systems and other non-Internet equipment.<ref name=mitchell/> ''[[Teh]]'' originated as a typographical error of \"the\", and is sometimes spelled ''t3h''.<ref name=mitchell/><ref name=\"blanc34 35\">LeBlanc, 34-35.</ref> ''j00'' takes the place of \"you\",<ref name=bbc/> originating from the [[affricate]] sound that occurs in place of the [[palatal approximant]], {{IPA|/j/}}, when ''you'' follows a word ending in an [[alveolar consonant|alveolar]] [[plosive]] consonant, such as {{IPA|/t/}} or {{IPA|/d/}}. Also, from German, is ''[[wiktionary:Über|über]]'', which means \"over\" or \"above\"; it usually appears as a prefix attached to adjectives, and is frequently written without the [[Umlaut (diacritic)|umlaut]] over the ''u''.<ref name=dutch>Van de Velde & Meuleman.</ref>\n",
      "\n",
      "===Haxor and suxxor (suxorz)===\n",
      "\n",
      "''Haxor'', and derivations thereof, is leet for \"hacker\",<ref name=\"blanc30 32\">LeBlanc, 30; 32.</ref> and it is one of the most commonplace examples of the use of the ''-xor'' suffix. ''Suxxor'' (pronounced suck-zor) is a derogatory term which originated in warez culture and is currently used in multi-user environments such as multiplayer video games and [[instant messaging]]; it, like ''haxor'', is one of the early leet words to use the ''-xor'' suffix. ''Suxxor'' is a modified version of \"sucks\" (the phrase \"to suck\"), and the meaning is the same as the English slang. Its negative definition essentially makes it the opposite of ''roxxor'', and both can be used as a verb or a noun. The letters ''ck'' are often replaced with the Greek Χ (chi) in other words as well.\n",
      "\n",
      "===n00b===\n",
      "{{main|Newbie}}\n",
      "\n",
      "Within leet, the term ''n00b'', and derivations thereof, is used extensively. The word means and derives from ''newbie'' (as in new and inexperienced or uninformed),<ref name=\"goss 83\"/><ref name=dutch/><ref name=acronym/> and is used as a means of segregating them as less than the \"elite,\" or even \"normal,\" members of a group.\n",
      "\n",
      "===Owned and pwned===\n",
      "{{Main|Owned|Pwn}}\n",
      "\n",
      "''Owned'' and ''pwn3d'' (generally pronounced \"owned\" and \"poned\", respectively) both refer to the domination of a player in a video game or argument (rather than just a win), or the successful hacking of a website or computer.<ref name=mitchell/><ref name=dutch/><ref name=\"blanc32 33\">LeBlanc, 32-33.</ref>\n",
      "\n",
      "As is a common characteristic of leet, the terms have also been adapted into noun and adjective forms,<ref name=dutch/> ''ownage'' and ''pwnage'', which can refer to the situation of ''pwning'' or to the superiority of its subject (e.g., \"He is a very good player. He is pwnage.\").\n",
      "\n",
      "===Pr0n<!-- This section is linked from [[Pr0n]] -->===\n",
      "\n",
      "''Pr0n'' is [[slang]] for ''[[pornography]]''.<ref name=mitchell/> This is a deliberately inaccurate spelling/pronunciation for ''porn'',<ref name=acronym>The Acronym Finder.</ref> where a zero is often used to replace the letter O. It is sometimes used in legitimate communications (such as email discussion groups, [[Usenet]], chat rooms, and Internet web pages) to circumvent language and [[content filter]]s, which may reject messages as offensive or [[spam (electronic)|spam]]. The word also helps prevent [[search engines]] from associating commercial sites with pornography, which might result in unwelcome traffic.{{Citation needed|date=March 2011}} ''Pr0n'' is also sometimes spelled backwards (n0rp) to further obscure the meaning to potentially uninformed readers.<ref group=\"Notes\">This can be observed by searching for \"n0rp\" on a search engine.</ref> It can also refer to [[ASCII art]] depicting pornographic images, or to photos of the internals of consumer and industrial hardware. ''Prawn'', a spoof of the misspelling, has started to come into use, as well; in ''[[Grand Theft Auto: Vice City]]'', a pornographer films his movies on \"Prawn Island\". Conversely, in the [[Role-playing game|RPG]] ''[[Kingdom of Loathing]]'', ''[[prawn]]'', referring to a kind of [[crustacean]], is spelled ''pr0n'', leading to the creation of food items such as \"pr0n chow mein\".\n",
      "\n",
      "== See also ==\n",
      "{{Portal|Internet|Language}}\n",
      "{{Div col|colwidth=20em}}\n",
      "* [[Calculator spelling]]\n",
      "* [[Elitism]]\n",
      "* [[Faux Cyrillic]]\n",
      "* [[Geek Code]]\n",
      "* [[IDN homograph attack]]\n",
      "* [[Magic debug values]], specific values written to a PC's memory \n",
      "* [[Mojibake]], garbled text, resulting from text being decoded using an unintended character encoding\n",
      "* [[Numeronym]], e.g. \"K9\" for \"canine\"\n",
      "* [[Rebus]], an allusional device that uses pictures to represent words or parts of words\n",
      "* [[SMS language]], a term for the abbreviations and slang used in mobile phone text messaging and other social technology\n",
      "* [[Urban Dictionary]], a crowd-sourced slang dictionary\n",
      "* [[Verlan]], inversion of syllables in a word\n",
      "* [[Jargon File]], is a glossary and usage dictionary of computer programmer slang\n",
      "* [[Arabic chat alphabet]]\n",
      "{{Div col end}}\n",
      "\n",
      "==Notes==\n",
      "{{reflist|group=Notes}}\n",
      "\n",
      "==Footnotes==\n",
      "{{Reflist|20em}}\n",
      "\n",
      "==References==\n",
      "{{refbegin|30em}}\n",
      "* {{cite web | url=http://acronymfinder.com/ | title=The Acronym Finder | publisher=Mountain Data Systems, LLC  | accessdate=2007-04-11 }}\n",
      "* {{cite web | title=An Explanation of l33t Speak | url=http://www.bbc.co.uk/dna/h2g2/A787917 | work=h2g2 | publisher=BBC | date=2002-08-16 | accessdate=2007-03-29 }}\n",
      "* {{Cite journal | journal = Australian Journal of Emerging Technologies and Society | volume = 3 | issue=2 |\n",
      " title = Game Geek's Goss: Linguistic Creativity In Young Males Within An Online University Forum | last1 = Blashki | first1 = Katherine | last2 = Nichol | first2 = Sophie | year=2005 | pages=77–86 | url = http://www.swinburne.edu.au/sbs/ajets/journal/V3N2/pdf/V3N2-2-Blashki.pdf |format=PDF | postscript = <!--None-->}}\n",
      "* {{cite web | title=Computer Hope Dictionary - Game definitions | url=http://www.computerhope.com/jargon/game.htm | publisher=Computer Hope | accessdate=2007-04-02}}\n",
      "* {{cite web | url=http://acronyms.thefreedictionary.com/ | title=The Free Dictionary -- Acronyms  | work=The Free Dictionary | publisher=Farlex, Inc | accessdate=2007-04-11 }}\n",
      "* {{cite web|title=Google Directory - Computers |url=http://www.google.org/alpha/Top/Computers/Programming/Languages/Obfuscated/ | publisher=Google |accessdate=2007-04-29 |archiveurl = https://web.archive.org/web/20070930224351/http://www.google.org/alpha/Top/Computers/Programming/Languages/Obfuscated/ <!-- Bot retrieved archive --> |archivedate = 2007-09-30}}\n",
      "* {{cite book|title=E-Mail Essentials: How to Make the Most of E-Communications|last=Haig|first=Matt|year=2001|publisher=Kogan Page|isbn=0-7494-3576-3|page=89}}\n",
      "* {{cite web | title=\"Is There A Translator in Teh House?\": Cultural and Discourse Analysis of a Virtual Speech Community on an Internet Message Board | last=LeBlanc | first=Tracy Rene | date=2005-04-01 | publisher=Louisiana State University | url=http://etd.lsu.edu/docs/available/etd-04072005-145922/unrestricted/LeBlanc_thesis.pdf |format=PDF}}\n",
      "* {{cite web | title=A Leet Primer | last=Mitchell | first=Anthony | date=2006-06-12 | accessdate=2007-04-10 | url=http://www.technewsworld.com/story/47607.html | work=Technology News | publisher=ECT News Network, Inc }}\n",
      "* {{Cite journal \n",
      "| last1 = Perea | first1 = M. \n",
      "| last2 = Duñabeitia | first2 = J. A. \n",
      "| last3 = Carreiras | first3 = M. \n",
      "| doi = 10.1037/0096-1523.34.1.237 \n",
      "| title = R34D1Ng W0Rd5 W1Th Numb3R5 \n",
      "| journal = Journal of Experimental Psychology: Human Perception and Performance \n",
      "| volume = 34 \n",
      "| issue = 1 \n",
      "| pages = 237–241 \n",
      "| year = 2008 \n",
      "| pmid = 18248151 \n",
      "| pmc = \n",
      "| url = http://www.uv.es/~mperea/leet1.pdf\n",
      "}}\n",
      "* {{Cite journal|title=The New Hacker's Dictionary|last1=Raymond|first1=Eric R.|last2=Steele|first2=Guy L.|year=1996|publisher=MIT Press|postscript=<!--None-->|isbn=0-262-68092-0}}\n",
      "* {{cite web | title=relax we understand j00 | last=Rome | first=James Andrew | date=2001-12-18 | accessdate=2007-05-03 | publisher=[[Sigma Tau Delta]], The International English Honor Society. [[Case Western University]], Beta Beta Chapter | url=http://www.case.edu/orgs/sigmataudelta/submissions/rome-relaxweunderstand.htm |archiveurl = https://web.archive.org/web/20070216195207/http://www.case.edu/orgs/sigmataudelta/submissions/rome-relaxweunderstand.htm <!-- Bot retrieved archive --> |archivedate = 2007-02-16}}\n",
      "* {{cite book | last=Sterling | first=Bruce | authorlink=Bruce Sterling | title =[[The Hacker Crackdown|The Hacker Crackdown: Law and Disorder on the Electronic Frontier]] | publisher=Bantam Spectra Books | location=New York | year=1994 | page=70 | isbn=0-553-56370-X }}\n",
      "* {{cite web | title=Lexical tensions in 'internet english' : 1337 as language? |last=Van de Velde | first=Kristof |author2=Meuleman, Jeroen  | year=2004 | accessdate=2007-04-13 | url=http://www.verbumvanum.org/kristof/index.html }}\n",
      "* {{cite web | url=http://pages.cpsc.ucalgary.ca/~crwth/LOL.html | title=The creation of \"LOL\" | first=Wayne | last=Pearson | accessdate=2008-11-06}}\n",
      "{{refend}}\n",
      "\n",
      "==External links==\n",
      "{{Wiktionary|leet}}\n",
      "* [http://cryptii.com/text/leetspeak Leet Translator]\n",
      "\n",
      "{{Internet Dialects}}\n",
      "{{internet slang}}\n",
      "\n",
      "[[Category:Leet| ]]\n",
      "[[Category:Alphabets]]\n",
      "[[Category:Encodings]]\n",
      "[[Category:In-jokes]]\n",
      "[[Category:Internet culture]]\n",
      "[[Category:Internet slang]]\n",
      "[[Category:Latin-script representations]]\n",
      "[[Category:Nerd culture]]\n",
      "[[Category:Nonstandard spelling]]\n",
      "[[Category:Obfuscation]]\n",
      "[[Category:Social networking services]]\n",
      "[[Category:1990s slang]]\n"
     ]
    }
   ],
   "source": [
    "print(j['query']['pages']['18562']['revisions'][0]['*'])"
   ]
  },
  {
   "cell_type": "markdown",
   "metadata": {
    "slideshow": {
     "slide_type": "subslide"
    }
   },
   "source": [
    "not too bad!"
   ]
  },
  {
   "cell_type": "markdown",
   "metadata": {
    "slideshow": {
     "slide_type": "slide"
    }
   },
   "source": [
    "### `xpath` selection\n",
    "\n",
    "things are certainly more complicated when we don't have a convenient `json` endpoint, but we can still usually use `xpath` and static `GET` requests."
   ]
  },
  {
   "cell_type": "markdown",
   "metadata": {
    "slideshow": {
     "slide_type": "subslide"
    }
   },
   "source": [
    "as a working example, let's keep focusing on that `conda` repo table: https://anaconda.org/anaconda/repo."
   ]
  },
  {
   "cell_type": "markdown",
   "metadata": {
    "slideshow": {
     "slide_type": "subslide"
    }
   },
   "source": [
    "we'll use the `requests` library to get the `html` document, and `lxml` (specifically `lxml.html`) to parse the returned `html` to an `lxml python` object"
   ]
  },
  {
   "cell_type": "code",
   "execution_count": 26,
   "metadata": {
    "ExecuteTime": {
     "end_time": "2017-05-29T20:08:47.928238Z",
     "start_time": "2017-05-29T20:08:47.899689Z"
    },
    "collapsed": true,
    "slideshow": {
     "slide_type": "-"
    }
   },
   "outputs": [],
   "source": [
    "import lxml.html\n",
    "import requests"
   ]
  },
  {
   "cell_type": "code",
   "execution_count": 27,
   "metadata": {
    "ExecuteTime": {
     "end_time": "2017-05-29T20:08:48.636707Z",
     "start_time": "2017-05-29T20:08:48.058919Z"
    },
    "slideshow": {
     "slide_type": "subslide"
    }
   },
   "outputs": [
    {
     "data": {
      "text/plain": [
       "200"
      ]
     },
     "execution_count": 27,
     "metadata": {},
     "output_type": "execute_result"
    }
   ],
   "source": [
    "response = requests.get(url='https://anaconda.org/anaconda/repo')\n",
    "response.status_code"
   ]
  },
  {
   "cell_type": "code",
   "execution_count": 28,
   "metadata": {
    "ExecuteTime": {
     "end_time": "2017-05-29T20:08:48.648337Z",
     "start_time": "2017-05-29T20:08:48.639302Z"
    },
    "slideshow": {
     "slide_type": "-"
    }
   },
   "outputs": [
    {
     "name": "stdout",
     "output_type": "stream",
     "text": [
      "<!doctype html>\n",
      "<html lang=\"en\">\n",
      "  <head>\n",
      "    <meta charset=\"utf-8\" /><script type=\"text/javascript\">(window.NREUM||(NREUM={})).loader_config={xpid:\"VQUBU1dQChACUFhUAAcEVg==\"};window.NREUM||(NREUM={}),__nr_require=function(t,n,e){function r(e){if(!n[e]){var o=n[e]={exports:{}};t[e][0].call(o.exports,function(n){var o=t[e][1][n];return r(o||n)},o,o.exports)}return n[e].exports}if(\"function\"==typeof __nr_require)return __nr_require;for(var o=0;o<e.length;o++)r(e[o]);return r}({1:[function(t,n,e){function r(t){try{s.console&&console.log(t)}catch(n){}}var o,i=t(\"ee\"),a=t(15),s={};try{o=localStorage.getItem(\"__nr_flags\").split(\",\"),console&&\"function\"==typeof console.log&&(s.console=!0,o.indexOf(\"dev\")!==-1&&(s.dev=!0),o.indexOf(\"nr_dev\")!==-1&&(s.nrDev=!0))}catch(c){}s.nrDev&&i.on(\"internal-error\",function(t){r(t.stack)}),s.dev&&i.on(\"fn-err\",function(t,n,e){r(e.stack)}),s.dev&&(r(\"NR AGENT IN DEVELOPMENT MODE\"),r(\"flags: \"+a(s,function(t,n){return t}).join(\", \")))},{}],2:[function(t,n,e){function r(t,n,e,r,o){try{d?d-=1:i(\"err\",[o||new UncaughtException(t,n,e)])}catch(s){try{i(\"ierr\",[s,c.now(),!0])}catch(u){}}return\"function\"==typeof f&&f.apply(this,a(arguments))}function UncaughtException(t,n,e){this.message=t||\"Uncaught error with no additional information\",this.sourceURL=n,this.line=e}function o(t){i(\"err\",[t,c.now()])}var i=t(\"handle\"),a=t(16),s=t(\"ee\"),c=t(\"loader\"),f=window.onerror,u=!1,d=0;c.features.err=!0,t(1),window.onerror=r;try{throw new Error}catch(l){\"stack\"in l&&(t(8),t(7),\"addEventListener\"in window&&t(5),c.xhrWrappable&&t(9),u=!0)}s.on(\"fn-start\",function(t,n,e){u&&(d+=1)}),s.on(\"fn-err\",function(t,n,e){u&&(this.thrown=!0,o(e))}),s.on(\"fn-end\",function(){u&&!this.thrown&&d>0&&(d-=1)}),s.on(\"internal-error\",function(t){i(\"ierr\",[t,c.now(),!0])})},{}],3:[function(t,n,e){t(\"loader\").features.ins=!0},{}],4:[function(t,n,e){function r(t){}if(window.performance&&window.performance.timing&&window.performance.getEntriesByType){var o=t(\"ee\"),i=t(\"handle\"),a=t(8),s=t(7),c=\"learResourceTimings\",f=\"addEventListener\",u=\"resourcetimingbufferfull\",d=\"bstResource\",l=\"resource\",p=\"-start\",h=\"-end\",m=\"fn\"+p,w=\"fn\"+h,v=\"bstTimer\",y=\"pushState\",g=t(\"loader\");g.features.stn=!0,t(6);var b=NREUM.o.EV;o.on(m,function(t,n){var e=t[0];e instanceof b&&(this.bstStart=g.now())}),o.on(w,function(t,n){var e=t[0];e instanceof b&&i(\"bst\",[e,n,this.bstStart,g.now()])}),a.on(m,function(t,n,e){this.bstStart=g.now(),this.bstType=e}),a.on(w,function(t,n){i(v,[n,this.bstStart,g.now(),this.bstType])}),s.on(m,function(){this.bstStart=g.now()}),s.on(w,function(t,n){i(v,[n,this.bstStart,g.now(),\"requestAnimationFrame\"])}),o.on(y+p,function(t){this.time=g.now(),this.startPath=location.pathname+location.hash}),o.on(y+h,function(t){i(\"bstHist\",[location.pathname+location.hash,this.startPath,this.time])}),f in window.performance&&(window.performance[\"c\"+c]?window.performance[f](u,function(t){i(d,[window.performance.getEntriesByType(l)]),window.performance[\"c\"+c]()},!1):window.performance[f](\"webkit\"+u,function(t){i(d,[window.performance.getEntriesByType(l)]),window.performance[\"webkitC\"+c]()},!1)),document[f](\"scroll\",r,{passive:!0}),document[f](\"keypress\",r,!1),document[f](\"click\",r,!1)}},{}],5:[function(t,n,e){function r(t){for(var n=t;n&&!n.hasOwnProperty(u);)n=Object.getPrototypeOf(n);n&&o(n)}function o(t){s.inPlace(t,[u,d],\"-\",i)}function i(t,n){return t[1]}var a=t(\"ee\").get(\"events\"),s=t(18)(a,!0),c=t(\"gos\"),f=XMLHttpRequest,u=\"addEventListener\",d=\"removeEventListener\";n.exports=a,\"getPrototypeOf\"in Object?(r(document),r(window),r(f.prototype)):f.prototype.hasOwnProperty(u)&&(o(window),o(f.prototype)),a.on(u+\"-start\",function(t,n){var e=t[1],r=c(e,\"nr@wrapped\",function(){function t(){if(\"function\"==typeof e.handleEvent)return e.handleEvent.apply(e,arguments)}var n={object:t,\"function\":e}[typeof e];return n?s(n,\"fn-\",null,n.name||\"anonymous\"):e});this.wrapped=t[1]=r}),a.on(d+\"-start\",function(t){t[1]=this.wrapped||t[1]})},{}],6:[function(t,n,e){var r=t(\"ee\").get(\"history\"),o=t(18)(r);n.exports=r,o.inPlace(window.history,[\"pushState\",\"replaceState\"],\"-\")},{}],7:[function(t,n,e){var r=t(\"ee\").get(\"raf\"),o=t(18)(r),i=\"equestAnimationFrame\";n.exports=r,o.inPlace(window,[\"r\"+i,\"mozR\"+i,\"webkitR\"+i,\"msR\"+i],\"raf-\"),r.on(\"raf-start\",function(t){t[0]=o(t[0],\"fn-\")})},{}],8:[function(t,n,e){function r(t,n,e){t[0]=a(t[0],\"fn-\",null,e)}function o(t,n,e){this.method=e,this.timerDuration=isNaN(t[1])?0:+t[1],t[0]=a(t[0],\"fn-\",this,e)}var i=t(\"ee\").get(\"timer\"),a=t(18)(i),s=\"setTimeout\",c=\"setInterval\",f=\"clearTimeout\",u=\"-start\",d=\"-\";n.exports=i,a.inPlace(window,[s,\"setImmediate\"],s+d),a.inPlace(window,[c],c+d),a.inPlace(window,[f,\"clearImmediate\"],f+d),i.on(c+u,r),i.on(s+u,o)},{}],9:[function(t,n,e){function r(t,n){d.inPlace(n,[\"onreadystatechange\"],\"fn-\",s)}function o(){var t=this,n=u.context(t);t.readyState>3&&!n.resolved&&(n.resolved=!0,u.emit(\"xhr-resolved\",[],t)),d.inPlace(t,y,\"fn-\",s)}function i(t){g.push(t),h&&(x?x.then(a):w?w(a):(E=-E,O.data=E))}function a(){for(var t=0;t<g.length;t++)r([],g[t]);g.length&&(g=[])}function s(t,n){return n}function c(t,n){for(var e in t)n[e]=t[e];return n}t(5);var f=t(\"ee\"),u=f.get(\"xhr\"),d=t(18)(u),l=NREUM.o,p=l.XHR,h=l.MO,m=l.PR,w=l.SI,v=\"readystatechange\",y=[\"onload\",\"onerror\",\"onabort\",\"onloadstart\",\"onloadend\",\"onprogress\",\"ontimeout\"],g=[];n.exports=u;var b=window.XMLHttpRequest=function(t){var n=new p(t);try{u.emit(\"new-xhr\",[n],n),n.addEventListener(v,o,!1)}catch(e){try{u.emit(\"internal-error\",[e])}catch(r){}}return n};if(c(p,b),b.prototype=p.prototype,d.inPlace(b.prototype,[\"open\",\"send\"],\"-xhr-\",s),u.on(\"send-xhr-start\",function(t,n){r(t,n),i(n)}),u.on(\"open-xhr-start\",r),h){var x=m&&m.resolve();if(!w&&!m){var E=1,O=document.createTextNode(E);new h(a).observe(O,{characterData:!0})}}else f.on(\"fn-end\",function(t){t[0]&&t[0].type===v||a()})},{}],10:[function(t,n,e){function r(t){var n=this.params,e=this.metrics;if(!this.ended){this.ended=!0;for(var r=0;r<d;r++)t.removeEventListener(u[r],this.listener,!1);if(!n.aborted){if(e.duration=a.now()-this.startTime,4===t.readyState){n.status=t.status;var i=o(t,this.lastSize);if(i&&(e.rxSize=i),this.sameOrigin){var c=t.getResponseHeader(\"X-NewRelic-App-Data\");c&&(n.cat=c.split(\", \").pop())}}else n.status=0;e.cbTime=this.cbTime,f.emit(\"xhr-done\",[t],t),s(\"xhr\",[n,e,this.startTime])}}}function o(t,n){var e=t.responseType;if(\"json\"===e&&null!==n)return n;var r=\"arraybuffer\"===e||\"blob\"===e||\"json\"===e?t.response:t.responseText;return h(r)}function i(t,n){var e=c(n),r=t.params;r.host=e.hostname+\":\"+e.port,r.pathname=e.pathname,t.sameOrigin=e.sameOrigin}var a=t(\"loader\");if(a.xhrWrappable){var s=t(\"handle\"),c=t(11),f=t(\"ee\"),u=[\"load\",\"error\",\"abort\",\"timeout\"],d=u.length,l=t(\"id\"),p=t(14),h=t(13),m=window.XMLHttpRequest;a.features.xhr=!0,t(9),f.on(\"new-xhr\",function(t){var n=this;n.totalCbs=0,n.called=0,n.cbTime=0,n.end=r,n.ended=!1,n.xhrGuids={},n.lastSize=null,p&&(p>34||p<10)||window.opera||t.addEventListener(\"progress\",function(t){n.lastSize=t.loaded},!1)}),f.on(\"open-xhr-start\",function(t){this.params={method:t[0]},i(this,t[1]),this.metrics={}}),f.on(\"open-xhr-end\",function(t,n){\"loader_config\"in NREUM&&\"xpid\"in NREUM.loader_config&&this.sameOrigin&&n.setRequestHeader(\"X-NewRelic-ID\",NREUM.loader_config.xpid)}),f.on(\"send-xhr-start\",function(t,n){var e=this.metrics,r=t[0],o=this;if(e&&r){var i=h(r);i&&(e.txSize=i)}this.startTime=a.now(),this.listener=function(t){try{\"abort\"===t.type&&(o.params.aborted=!0),(\"load\"!==t.type||o.called===o.totalCbs&&(o.onloadCalled||\"function\"!=typeof n.onload))&&o.end(n)}catch(e){try{f.emit(\"internal-error\",[e])}catch(r){}}};for(var s=0;s<d;s++)n.addEventListener(u[s],this.listener,!1)}),f.on(\"xhr-cb-time\",function(t,n,e){this.cbTime+=t,n?this.onloadCalled=!0:this.called+=1,this.called!==this.totalCbs||!this.onloadCalled&&\"function\"==typeof e.onload||this.end(e)}),f.on(\"xhr-load-added\",function(t,n){var e=\"\"+l(t)+!!n;this.xhrGuids&&!this.xhrGuids[e]&&(this.xhrGuids[e]=!0,this.totalCbs+=1)}),f.on(\"xhr-load-removed\",function(t,n){var e=\"\"+l(t)+!!n;this.xhrGuids&&this.xhrGuids[e]&&(delete this.xhrGuids[e],this.totalCbs-=1)}),f.on(\"addEventListener-end\",function(t,n){n instanceof m&&\"load\"===t[0]&&f.emit(\"xhr-load-added\",[t[1],t[2]],n)}),f.on(\"removeEventListener-end\",function(t,n){n instanceof m&&\"load\"===t[0]&&f.emit(\"xhr-load-removed\",[t[1],t[2]],n)}),f.on(\"fn-start\",function(t,n,e){n instanceof m&&(\"onload\"===e&&(this.onload=!0),(\"load\"===(t[0]&&t[0].type)||this.onload)&&(this.xhrCbStart=a.now()))}),f.on(\"fn-end\",function(t,n){this.xhrCbStart&&f.emit(\"xhr-cb-time\",[a.now()-this.xhrCbStart,this.onload,n],n)})}},{}],11:[function(t,n,e){n.exports=function(t){var n=document.createElement(\"a\"),e=window.location,r={};n.href=t,r.port=n.port;var o=n.href.split(\"://\");!r.port&&o[1]&&(r.port=o[1].split(\"/\")[0].split(\"@\").pop().split(\":\")[1]),r.port&&\"0\"!==r.port||(r.port=\"https\"===o[0]?\"443\":\"80\"),r.hostname=n.hostname||e.hostname,r.pathname=n.pathname,r.protocol=o[0],\"/\"!==r.pathname.charAt(0)&&(r.pathname=\"/\"+r.pathname);var i=!n.protocol||\":\"===n.protocol||n.protocol===e.protocol,a=n.hostname===document.domain&&n.port===e.port;return r.sameOrigin=i&&(!n.hostname||a),r}},{}],12:[function(t,n,e){function r(){}function o(t,n,e){return function(){return i(t,[f.now()].concat(s(arguments)),n?null:this,e),n?void 0:this}}var i=t(\"handle\"),a=t(15),s=t(16),c=t(\"ee\").get(\"tracer\"),f=t(\"loader\"),u=NREUM;\"undefined\"==typeof window.newrelic&&(newrelic=u);var d=[\"setPageViewName\",\"setCustomAttribute\",\"setErrorHandler\",\"finished\",\"addToTrace\",\"inlineHit\",\"addRelease\"],l=\"api-\",p=l+\"ixn-\";a(d,function(t,n){u[n]=o(l+n,!0,\"api\")}),u.addPageAction=o(l+\"addPageAction\",!0),u.setCurrentRouteName=o(l+\"routeName\",!0),n.exports=newrelic,u.interaction=function(){return(new r).get()};var h=r.prototype={createTracer:function(t,n){var e={},r=this,o=\"function\"==typeof n;return i(p+\"tracer\",[f.now(),t,e],r),function(){if(c.emit((o?\"\":\"no-\")+\"fn-start\",[f.now(),r,o],e),o)try{return n.apply(this,arguments)}finally{c.emit(\"fn-end\",[f.now()],e)}}}};a(\"setName,setAttribute,save,ignore,onEnd,getContext,end,get\".split(\",\"),function(t,n){h[n]=o(p+n)}),newrelic.noticeError=function(t){\"string\"==typeof t&&(t=new Error(t)),i(\"err\",[t,f.now()])}},{}],13:[function(t,n,e){n.exports=function(t){if(\"string\"==typeof t&&t.length)return t.length;if(\"object\"==typeof t){if(\"undefined\"!=typeof ArrayBuffer&&t instanceof ArrayBuffer&&t.byteLength)return t.byteLength;if(\"undefined\"!=typeof Blob&&t instanceof Blob&&t.size)return t.size;if(!(\"undefined\"!=typeof FormData&&t instanceof FormData))try{return JSON.stringify(t).length}catch(n){return}}}},{}],14:[function(t,n,e){var r=0,o=navigator.userAgent.match(/Firefox[\\/\\s](\\d+\\.\\d+)/);o&&(r=+o[1]),n.exports=r},{}],15:[function(t,n,e){function r(t,n){var e=[],r=\"\",i=0;for(r in t)o.call(t,r)&&(e[i]=n(r,t[r]),i+=1);return e}var o=Object.prototype.hasOwnProperty;n.exports=r},{}],16:[function(t,n,e){function r(t,n,e){n||(n=0),\"undefined\"==typeof e&&(e=t?t.length:0);for(var r=-1,o=e-n||0,i=Array(o<0?0:o);++r<o;)i[r]=t[n+r];return i}n.exports=r},{}],17:[function(t,n,e){n.exports={exists:\"undefined\"!=typeof window.performance&&window.performance.timing&&\"undefined\"!=typeof window.performance.timing.navigationStart}},{}],18:[function(t,n,e){function r(t){return!(t&&t instanceof Function&&t.apply&&!t[a])}var o=t(\"ee\"),i=t(16),a=\"nr@original\",s=Object.prototype.hasOwnProperty,c=!1;n.exports=function(t,n){function e(t,n,e,o){function nrWrapper(){var r,a,s,c;try{a=this,r=i(arguments),s=\"function\"==typeof e?e(r,a):e||{}}catch(f){l([f,\"\",[r,a,o],s])}u(n+\"start\",[r,a,o],s);try{return c=t.apply(a,r)}catch(d){throw u(n+\"err\",[r,a,d],s),d}finally{u(n+\"end\",[r,a,c],s)}}return r(t)?t:(n||(n=\"\"),nrWrapper[a]=t,d(t,nrWrapper),nrWrapper)}function f(t,n,o,i){o||(o=\"\");var a,s,c,f=\"-\"===o.charAt(0);for(c=0;c<n.length;c++)s=n[c],a=t[s],r(a)||(t[s]=e(a,f?s+o:o,i,s))}function u(e,r,o){if(!c||n){var i=c;c=!0;try{t.emit(e,r,o,n)}catch(a){l([a,e,r,o])}c=i}}function d(t,n){if(Object.defineProperty&&Object.keys)try{var e=Object.keys(t);return e.forEach(function(e){Object.defineProperty(n,e,{get:function(){return t[e]},set:function(n){return t[e]=n,n}})}),n}catch(r){l([r])}for(var o in t)s.call(t,o)&&(n[o]=t[o]);return n}function l(n){try{t.emit(\"internal-error\",n)}catch(e){}}return t||(t=o),e.inPlace=f,e.flag=a,e}},{}],ee:[function(t,n,e){function r(){}function o(t){function n(t){return t&&t instanceof r?t:t?c(t,s,i):i()}function e(e,r,o,i){if(!l.aborted||i){t&&t(e,r,o);for(var a=n(o),s=h(e),c=s.length,f=0;f<c;f++)s[f].apply(a,r);var d=u[y[e]];return d&&d.push([g,e,r,a]),a}}function p(t,n){v[t]=h(t).concat(n)}function h(t){return v[t]||[]}function m(t){return d[t]=d[t]||o(e)}function w(t,n){f(t,function(t,e){n=n||\"feature\",y[e]=n,n in u||(u[n]=[])})}var v={},y={},g={on:p,emit:e,get:m,listeners:h,context:n,buffer:w,abort:a,aborted:!1};return g}function i(){return new r}function a(){(u.api||u.feature)&&(l.aborted=!0,u=l.backlog={})}var s=\"nr@context\",c=t(\"gos\"),f=t(15),u={},d={},l=n.exports=o();l.backlog=u},{}],gos:[function(t,n,e){function r(t,n,e){if(o.call(t,n))return t[n];var r=e();if(Object.defineProperty&&Object.keys)try{return Object.defineProperty(t,n,{value:r,writable:!0,enumerable:!1}),r}catch(i){}return t[n]=r,r}var o=Object.prototype.hasOwnProperty;n.exports=r},{}],handle:[function(t,n,e){function r(t,n,e,r){o.buffer([t],r),o.emit(t,n,e)}var o=t(\"ee\").get(\"handle\");n.exports=r,r.ee=o},{}],id:[function(t,n,e){function r(t){var n=typeof t;return!t||\"object\"!==n&&\"function\"!==n?-1:t===window?0:a(t,i,function(){return o++})}var o=1,i=\"nr@id\",a=t(\"gos\");n.exports=r},{}],loader:[function(t,n,e){function r(){if(!x++){var t=b.info=NREUM.info,n=l.getElementsByTagName(\"script\")[0];if(setTimeout(u.abort,3e4),!(t&&t.licenseKey&&t.applicationID&&n))return u.abort();f(y,function(n,e){t[n]||(t[n]=e)}),c(\"mark\",[\"onload\",a()+b.offset],null,\"api\");var e=l.createElement(\"script\");e.src=\"https://\"+t.agent,n.parentNode.insertBefore(e,n)}}function o(){\"complete\"===l.readyState&&i()}function i(){c(\"mark\",[\"domContent\",a()+b.offset],null,\"api\")}function a(){return E.exists&&performance.now?Math.round(performance.now()):(s=Math.max((new Date).getTime(),s))-b.offset}var s=(new Date).getTime(),c=t(\"handle\"),f=t(15),u=t(\"ee\"),d=window,l=d.document,p=\"addEventListener\",h=\"attachEvent\",m=d.XMLHttpRequest,w=m&&m.prototype;NREUM.o={ST:setTimeout,SI:d.setImmediate,CT:clearTimeout,XHR:m,REQ:d.Request,EV:d.Event,PR:d.Promise,MO:d.MutationObserver};var v=\"\"+location,y={beacon:\"bam.nr-data.net\",errorBeacon:\"bam.nr-data.net\",agent:\"js-agent.newrelic.com/nr-1044.min.js\"},g=m&&w&&w[p]&&!/CriOS/.test(navigator.userAgent),b=n.exports={offset:s,now:a,origin:v,features:{},xhrWrappable:g};t(12),l[p]?(l[p](\"DOMContentLoaded\",i,!1),d[p](\"load\",r,!1)):(l[h](\"onreadystatechange\",o),d[h](\"onload\",r)),c(\"mark\",[\"firstbyte\",s],null,\"api\");var x=0,E=t(17)},{}]},{},[\"loader\",2,10,4,3]);</script><script type=\"text/javascript\">window.NREUM||(NREUM={});NREUM.info={\"beacon\":\"bam.nr-data.net\",\"queueTime\":0,\"licenseKey\":\"e6ad4d06d5\",\"agent\":\"\",\"transactionName\":\"YVxbYkUAD0RYVBZRCVgWf0NZAhVeVllNWQhXWlZYUwA+R1VWFl4JRFQXVVgMEVhXUgxMSERcSVkZFwhSTkRMSAdVUlhRUhJbR1hUCVkBU0pmQF4EFg==\",\"applicationID\":\"24967630\",\"errorBeacon\":\"bam.nr-data.net\",\"applicationTime\":701}</script>\n",
      "    <meta name=\"viewport\" content=\"width=device-width, initial-scale=1, minimum-scale=1, maximum-scale=1\">\n",
      "    \n",
      "    <title>Package repository for anaconda :: Anaconda Cloud</title>\n",
      "    <link rel=\"shortcut icon\" href=\"//binstar-static-prod.s3.amazonaws.com/latest/img/apple-touch-icon.png\">\n",
      "    <link rel=\"stylesheet\" type=\"text/css\" href=\"//binstar-static-prod.s3.amazonaws.com/latest/css/app.css\">\n",
      "    <!--[if gte IE 9]>\n",
      "      <style type=\"text/css\">\n",
      "        .gradient {\n",
      "           filter: none;\n",
      "        }\n",
      "      </style>\n",
      "    <![endif]-->\n",
      "    <script src=\"//binstar-static-prod.s3.amazonaws.com/latest/js/bundle.js\"></script>\n",
      "    \n",
      "    \n",
      "  </head>\n",
      "  <body >\n",
      "    \n",
      "    \n",
      "      <div class=\"contain-to-grid\">\n",
      "  <nav class=\"top-bar\" data-topbar role=\"navigation\">\n",
      "    <ul class=\"title-area\">\n",
      "      <li class=\"name\">\n",
      "        <h1>\n",
      "          <a class=\"navbar-brand\" href=\"/\">\n",
      "            <img src=\"//binstar-static-prod.s3.amazonaws.com/latest/img/AnacondaCloud_logo_green.png\"\n",
      "                 class=\" small \" />\n",
      "          </a>\n",
      "        </h1>\n",
      "      </li>\n",
      "      <li class=\"toggle-topbar menu-icon\"><a href=\"#\"><span>Menu</span></a></li>\n",
      "    </ul>\n",
      "    <section class=\"top-bar-section\">\n",
      "      \n",
      "      <ul class=\"left\">\n",
      "        <li class=\"has-form\">\n",
      "          <form action=\"/search\">\n",
      "            <div class=\"row collapse\">\n",
      "              <div class=\"small-9 columns\">\n",
      "                <input type=\"text\" placeholder=\"Search Anaconda Cloud\" name=\"q\">\n",
      "              </div>\n",
      "              <div class=\"small-3 columns\">\n",
      "                <button type=\"submit\" class=\"button postfix fa fa-search\"></button>\n",
      "              </div>\n",
      "            </div>\n",
      "          </form>\n",
      "        </li>\n",
      "      </ul>\n",
      "      \n",
      "      <ul class=\"right\">\n",
      "        \n",
      "        <li><a href=\"/gallery\">Gallery</a></li>\n",
      "        \n",
      "        \n",
      "        <li><a href=\"/about\">About</a></li>\n",
      "        \n",
      "        <li><a href=\"/about/pricing\">Pricing</a></li>\n",
      "        \n",
      "        <li><a href=\"https://www.anaconda.com/what-is-anaconda/\" target=\"_blank\">Anaconda</a></li>\n",
      "        <li><a href=\"https://docs.anaconda.com/anaconda-cloud/user-guide\" target=\"_blank\">Help</a></li>\n",
      "        \n",
      "        <li><a href=\"https://www.anaconda.com/downloads\" target=\"_blank\">Download Anaconda</a></li>\n",
      "        \n",
      "        <li><a href=\"/account/login?next=%2Fanaconda%2Frepo\">Sign In</a></li>\n",
      "      </ul>\n",
      "    </section>\n",
      "  </nav>\n",
      "</div>\n",
      "    \n",
      "    \n",
      "    <div class=\"container\">\n",
      "      \n",
      "      <div class=\"row\">\n",
      "        <div class=\"columns medium-12\">\n",
      "          \n",
      "          \n",
      "          \n",
      "          \n",
      "        </div>\n",
      "      </div>\n",
      "      \n",
      "        <div class=\"row\"><div class=\"columns medium-12\">\n",
      "<div class=\"row\">\n",
      "  <div class=\"columns medium-12\">\n",
      "    <h2><a href=\"/anaconda\" class=\"long-breadcrumb\">anaconda</a> \n",
      "/ \n",
      "<strong>packages</strong></h2>\n",
      "    <div class=\"row\">\n",
      "      <div class=\"columns medium-12\">\n",
      "        \n",
      "<div class=\"row\" id=\"packageTopNav\">\n",
      "  <div class=\"columns medium-12\">\n",
      "    <ul class=\"tabs tabs-3 text-center navigation\">\n",
      "      <li class=\"tab-title active\"> <a href=\"/anaconda/repo\"> Packages </a> </li>\n",
      "      <li class=\"tab-title \"> <a href=\"/anaconda/repo/files\"> Files </a> </li>\n",
      "      <li class=\"tab-title \"> <a href=\"/anaconda/repo/installers\"> Install Instructions </a> </li>\n",
      "      \n",
      "    </ul>\n",
      "  </div>\n",
      "</div>\n",
      "\n",
      "\n",
      "        \n",
      "<div class=\"row\">\n",
      "  <div class=\"columns medium-12\">\n",
      "    <fieldset>\n",
      "      <legend><i class=\"fa fa-filter\"></i> Filters</legend>\n",
      "      <div class=\"row\">\n",
      "        <div class=\"columns medium-4\">\n",
      "          \n",
      "  <dl class=\"sub-nav\" role=\"menu\" title=\"Filter Menu List\">\n",
      "    <dd role=\"menuitem\" data-dropdown=\"Type\">\n",
      "      <a href=\"#\">\n",
      "        Type: all\n",
      "\n",
      "        <i class=\"fa fa-angle-down\"></i>\n",
      "      </a>\n",
      "    </dd>\n",
      "  </dl>\n",
      "  <ul id=\"Type\" class=\"f-dropdown\" data-dropdown-content aria-hidden=\"true\" tabindex=\"-1\">\n",
      "    <li class=\"active \"> <a href=\"/anaconda/repo?type=all\">All</a></li>\n",
      "    \n",
      "      <li class=\" \"> <a href=\"/anaconda/repo?type=pypi\"> <i class=\"ca ca-pypi\"></i> pypi</a></li>\n",
      "    \n",
      "      <li class=\" \"> <a href=\"/anaconda/repo?type=conda\"> <i class=\"ca ca-conda\"></i> conda</a></li>\n",
      "    \n",
      "      <li class=\" \"> <a href=\"/anaconda/repo?type=r\"> <i class=\"ca ca-r\"></i> r</a></li>\n",
      "    \n",
      "  </ul>\n",
      "\n",
      "        </div>\n",
      "        <div class=\"columns medium-4\">\n",
      "          \n",
      "  <dl class=\"sub-nav\" role=\"menu\" title=\"Filter Menu List\">\n",
      "    <dd role=\"menuitem\" data-dropdown=\"Access\">\n",
      "      <a href=\"#\">\n",
      "        Access: all\n",
      "        <i class=\"fa fa-angle-down\"></i>\n",
      "      </a>\n",
      "    </dd>\n",
      "  </dl>\n",
      "  <ul id=\"Access\" class=\"f-dropdown\" data-dropdown-content aria-hidden=\"true\" tabindex=\"-1\">\n",
      "    <li class=\"active \"> <a href=\"/anaconda/repo?access=all\"> <i class=\"fa fa-fw\"></i>Access: All</a> </li>\n",
      "    <li class=\" \"> <a href=\"/anaconda/repo?access=public\"> <i class=\"fa fa-fw fa-globe\"></i> Public</a> </li>\n",
      "    <li class=\" \"> <a href=\"/anaconda/repo?access=private\"> <i class=\"fa fa-fw fa-lock\"></i> Private</a> </li>\n",
      "  </ul>\n",
      "\n",
      "        </div>\n",
      "        <div class=\"columns medium-4\">\n",
      "          \n",
      "  <dl class=\"sub-nav\" role=\"menu\" title=\"Filter Menu List\">\n",
      "    <dd role=\"menuitem\" data-dropdown=\"Label\">\n",
      "      <a href=\"#\">\n",
      "        Label: all\n",
      "        <i class=\"fa fa-angle-down\"></i>\n",
      "      </a>\n",
      "    </dd>\n",
      "  </dl>\n",
      "  <ul id=\"Label\" class=\"f-dropdown\" data-dropdown-content aria-hidden=\"true\" tabindex=\"-1\">\n",
      "    <li class=\" \"> <a href=\"/anaconda/repo?label=main\"> <i class=\"fa fa-fw fa-tag\"></i>main</a></li>\n",
      "    \n",
      "    \n",
      "      <li class=\"active \"> <a href=\"/anaconda/repo?label=all\"> <i class=\"fa fa-fw \"></i>All labels</a> </li>\n",
      "    \n",
      "    \n",
      "      <li class=\" \"> <a href=\"/anaconda/repo?label=empty\"> <i class=\"fa fa-fw \"></i>Unlabeled</a> </li>\n",
      "    \n",
      "\n",
      "  </ul>\n",
      "\n",
      "        </div>\n",
      "      </div>\n",
      "    </fieldset>\n",
      "  </div>\n",
      "</div>\n",
      "\n",
      "        \n",
      "\n",
      "\n",
      "  <div class=\"row\">\n",
      "    <div class=\"columns medium-12\">\n",
      "      \n",
      "    </div>\n",
      "  </div>\n",
      "  <div class=\"row\">\n",
      "    <div class=\"columns medium-12 package-form-container\">\n",
      "      \n",
      "        <table class=\"full-width\" id=\"repo-packages-table\">\n",
      "          <thead>\n",
      "<tr>\n",
      "  <th class=\"ellipse\">\n",
      "    \n",
      "      \n",
      "    <a class=\"text-white\" href=\"/anaconda/repo?sort=_name&sort_order=desc\" >\n",
      "        <i class=\"fa fa-sort\"></i>\n",
      "        Package Name\n",
      "    </a>\n",
      "    \n",
      "    \n",
      "  </th>\n",
      "  <th class=\"ellipse sorter-false\">Access</th>\n",
      "  <th class=\"ellipse sorter-false\">Summary</th>\n",
      "  <th class=\"ellipse\">\n",
      "    \n",
      "    <a class=\"text-white\" href=\"/anaconda/repo?sort=time.modified&sort_order=asc\" >\n",
      "        <i class=\"fa fa-sort-desc\"></i>\n",
      "        Updated\n",
      "    </a>\n",
      "    \n",
      "  </th>\n",
      "</tr>\n",
      "</thead>\n",
      "          <tbody>\n",
      "\n",
      "  <tr>\n",
      "    <td class=\"package-title\">\n",
      "      \n",
      "      <a data-package href=\"/anaconda/anaconda\">\n",
      "        \n",
      "    <i class=\"ca ca-conda\"></i>\n",
      "  \n",
      "        <span class='packageName'>anaconda</span>\n",
      "      </a>\n",
      "    </td>\n",
      "    <td>public</td>\n",
      "    <td>\n",
      "      Simplifies package management and deployment of Anaconda\n",
      "    </td>\n",
      "    <td>2017-10-01</td>\n",
      "  </tr>\n",
      "\n",
      "  <tr>\n",
      "    <td class=\"package-title\">\n",
      "      \n",
      "      <a data-package href=\"/anaconda/python\">\n",
      "        \n",
      "    <i class=\"ca ca-conda\"></i>\n",
      "  \n",
      "        <span class='packageName'>python</span>\n",
      "      </a>\n",
      "    </td>\n",
      "    <td>public</td>\n",
      "    <td>\n",
      "      general purpose programming language\n",
      "    </td>\n",
      "    <td>2017-09-30</td>\n",
      "  </tr>\n",
      "\n",
      "  <tr>\n",
      "    <td class=\"package-title\">\n",
      "      \n",
      "      <a data-package href=\"/anaconda/conda-build\">\n",
      "        \n",
      "    <i class=\"ca ca-conda\"></i>\n",
      "  \n",
      "        <span class='packageName'>conda-build</span>\n",
      "      </a>\n",
      "    </td>\n",
      "    <td>public</td>\n",
      "    <td>\n",
      "      tools for building conda packages\n",
      "    </td>\n",
      "    <td>2017-09-29</td>\n",
      "  </tr>\n",
      "\n",
      "  <tr>\n",
      "    <td class=\"package-title\">\n",
      "      \n",
      "      <a data-package href=\"/anaconda/xar\">\n",
      "        \n",
      "    <i class=\"ca ca-conda\"></i>\n",
      "  \n",
      "        <span class='packageName'>xar</span>\n",
      "      </a>\n",
      "    </td>\n",
      "    <td>public</td>\n",
      "    <td>\n",
      "      eXtensible ARchiver\n",
      "    </td>\n",
      "    <td>2017-09-29</td>\n",
      "  </tr>\n",
      "\n",
      "  <tr>\n",
      "    <td class=\"package-title\">\n",
      "      \n",
      "      <a data-package href=\"/anaconda/wget\">\n",
      "        \n",
      "    <i class=\"ca ca-conda\"></i>\n",
      "  \n",
      "        <span class='packageName'>wget</span>\n",
      "      </a>\n",
      "    </td>\n",
      "    <td>public</td>\n",
      "    <td>\n",
      "      No Summary\n",
      "    </td>\n",
      "    <td>2017-09-29</td>\n",
      "  </tr>\n",
      "\n",
      "  <tr>\n",
      "    <td class=\"package-title\">\n",
      "      \n",
      "      <a data-package href=\"/anaconda/verboselogs\">\n",
      "        \n",
      "    <i class=\"ca ca-conda\"></i>\n",
      "  \n",
      "        <span class='packageName'>verboselogs</span>\n",
      "      </a>\n",
      "    </td>\n",
      "    <td>public</td>\n",
      "    <td>\n",
      "      Verbose logging level for Python&#39;s logging module.\n",
      "    </td>\n",
      "    <td>2017-09-29</td>\n",
      "  </tr>\n",
      "\n",
      "  <tr>\n",
      "    <td class=\"package-title\">\n",
      "      \n",
      "      <a data-package href=\"/anaconda/s3transfer\">\n",
      "        \n",
      "    <i class=\"ca ca-conda\"></i>\n",
      "  \n",
      "        <span class='packageName'>s3transfer</span>\n",
      "      </a>\n",
      "    </td>\n",
      "    <td>public</td>\n",
      "    <td>\n",
      "      No Summary\n",
      "    </td>\n",
      "    <td>2017-09-29</td>\n",
      "  </tr>\n",
      "\n",
      "  <tr>\n",
      "    <td class=\"package-title\">\n",
      "      \n",
      "      <a data-package href=\"/anaconda/snappy\">\n",
      "        \n",
      "    <i class=\"ca ca-conda\"></i>\n",
      "  \n",
      "        <span class='packageName'>snappy</span>\n",
      "      </a>\n",
      "    </td>\n",
      "    <td>public</td>\n",
      "    <td>\n",
      "      fast compressor/decompressor\n",
      "    </td>\n",
      "    <td>2017-09-29</td>\n",
      "  </tr>\n",
      "\n",
      "  <tr>\n",
      "    <td class=\"package-title\">\n",
      "      \n",
      "      <a data-package href=\"/anaconda/requests-kerberos\">\n",
      "        \n",
      "    <i class=\"ca ca-conda\"></i>\n",
      "  \n",
      "        <span class='packageName'>requests-kerberos</span>\n",
      "      </a>\n",
      "    </td>\n",
      "    <td>public</td>\n",
      "    <td>\n",
      "      Kerberos authentication handler for python-requests\n",
      "    </td>\n",
      "    <td>2017-09-29</td>\n",
      "  </tr>\n",
      "\n",
      "  <tr>\n",
      "    <td class=\"package-title\">\n",
      "      \n",
      "      <a data-package href=\"/anaconda/python-editor\">\n",
      "        \n",
      "    <i class=\"ca ca-conda\"></i>\n",
      "  \n",
      "        <span class='packageName'>python-editor</span>\n",
      "      </a>\n",
      "    </td>\n",
      "    <td>public</td>\n",
      "    <td>\n",
      "      Programmatically open an editor, capture the result.\n",
      "    </td>\n",
      "    <td>2017-09-29</td>\n",
      "  </tr>\n",
      "\n",
      "  <tr>\n",
      "    <td class=\"package-title\">\n",
      "      \n",
      "      <a data-package href=\"/anaconda/pytest-cov\">\n",
      "        \n",
      "    <i class=\"ca ca-conda\"></i>\n",
      "  \n",
      "        <span class='packageName'>pytest-cov</span>\n",
      "      </a>\n",
      "    </td>\n",
      "    <td>public</td>\n",
      "    <td>\n",
      "      Pytest plugin for measuring coverage\n",
      "    </td>\n",
      "    <td>2017-09-29</td>\n",
      "  </tr>\n",
      "\n",
      "  <tr>\n",
      "    <td class=\"package-title\">\n",
      "      \n",
      "      <a data-package href=\"/anaconda/pytables\">\n",
      "        \n",
      "    <i class=\"ca ca-conda\"></i>\n",
      "  \n",
      "        <span class='packageName'>pytables</span>\n",
      "      </a>\n",
      "    </td>\n",
      "    <td>public</td>\n",
      "    <td>\n",
      "      Manage hierarchical datasets to cope with large amounts of data\n",
      "    </td>\n",
      "    <td>2017-09-29</td>\n",
      "  </tr>\n",
      "\n",
      "  <tr>\n",
      "    <td class=\"package-title\">\n",
      "      \n",
      "      <a data-package href=\"/anaconda/pykerberos\">\n",
      "        \n",
      "    <i class=\"ca ca-conda\"></i>\n",
      "  \n",
      "        <span class='packageName'>pykerberos</span>\n",
      "      </a>\n",
      "    </td>\n",
      "    <td>public</td>\n",
      "    <td>\n",
      "      high-level interface to Kerberos\n",
      "    </td>\n",
      "    <td>2017-09-29</td>\n",
      "  </tr>\n",
      "\n",
      "  <tr>\n",
      "    <td class=\"package-title\">\n",
      "      \n",
      "      <a data-package href=\"/anaconda/pyjwt\">\n",
      "        \n",
      "    <i class=\"ca ca-conda\"></i>\n",
      "  \n",
      "        <span class='packageName'>pyjwt</span>\n",
      "      </a>\n",
      "    </td>\n",
      "    <td>public</td>\n",
      "    <td>\n",
      "      JSON Web Token implementation in Python\n",
      "    </td>\n",
      "    <td>2017-09-29</td>\n",
      "  </tr>\n",
      "\n",
      "  <tr>\n",
      "    <td class=\"package-title\">\n",
      "      \n",
      "      <a data-package href=\"/anaconda/py4j\">\n",
      "        \n",
      "    <i class=\"ca ca-conda\"></i>\n",
      "  \n",
      "        <span class='packageName'>py4j</span>\n",
      "      </a>\n",
      "    </td>\n",
      "    <td>public</td>\n",
      "    <td>\n",
      "      Enables Python programs to dynamically access arbitrary Java objects\n",
      "    </td>\n",
      "    <td>2017-09-29</td>\n",
      "  </tr>\n",
      "\n",
      "  <tr>\n",
      "    <td class=\"package-title\">\n",
      "      \n",
      "      <a data-package href=\"/anaconda/plotly\">\n",
      "        \n",
      "    <i class=\"ca ca-conda\"></i>\n",
      "  \n",
      "        <span class='packageName'>plotly</span>\n",
      "      </a>\n",
      "    </td>\n",
      "    <td>public</td>\n",
      "    <td>\n",
      "      An interactive, browser-based graphing library for Python\n",
      "    </td>\n",
      "    <td>2017-09-29</td>\n",
      "  </tr>\n",
      "\n",
      "  <tr>\n",
      "    <td class=\"package-title\">\n",
      "      \n",
      "      <a data-package href=\"/anaconda/pip\">\n",
      "        \n",
      "    <i class=\"ca ca-conda\"></i>\n",
      "  \n",
      "        <span class='packageName'>pip</span>\n",
      "      </a>\n",
      "    </td>\n",
      "    <td>public</td>\n",
      "    <td>\n",
      "      No Summary\n",
      "    </td>\n",
      "    <td>2017-09-29</td>\n",
      "  </tr>\n",
      "\n",
      "  <tr>\n",
      "    <td class=\"package-title\">\n",
      "      \n",
      "      <a data-package href=\"/anaconda/phonenumbers\">\n",
      "        \n",
      "    <i class=\"ca ca-conda\"></i>\n",
      "  \n",
      "        <span class='packageName'>phonenumbers</span>\n",
      "      </a>\n",
      "    </td>\n",
      "    <td>public</td>\n",
      "    <td>\n",
      "      Python version of Google&#39;s common library for parsing, formatting, storing and validating international phone numbers.\n",
      "    </td>\n",
      "    <td>2017-09-29</td>\n",
      "  </tr>\n",
      "\n",
      "  <tr>\n",
      "    <td class=\"package-title\">\n",
      "      \n",
      "      <a data-package href=\"/anaconda/pep8-naming\">\n",
      "        \n",
      "    <i class=\"ca ca-conda\"></i>\n",
      "  \n",
      "        <span class='packageName'>pep8-naming</span>\n",
      "      </a>\n",
      "    </td>\n",
      "    <td>public</td>\n",
      "    <td>\n",
      "      Plug-in for flake 8 to check the PEP-8 naming conventions\n",
      "    </td>\n",
      "    <td>2017-09-29</td>\n",
      "  </tr>\n",
      "\n",
      "  <tr>\n",
      "    <td class=\"package-title\">\n",
      "      \n",
      "      <a data-package href=\"/anaconda/pbr\">\n",
      "        \n",
      "    <i class=\"ca ca-conda\"></i>\n",
      "  \n",
      "        <span class='packageName'>pbr</span>\n",
      "      </a>\n",
      "    </td>\n",
      "    <td>public</td>\n",
      "    <td>\n",
      "      Python Build Reasonableness\n",
      "    </td>\n",
      "    <td>2017-09-29</td>\n",
      "  </tr>\n",
      "\n",
      "  <tr>\n",
      "    <td class=\"package-title\">\n",
      "      \n",
      "      <a data-package href=\"/anaconda/patch\">\n",
      "        \n",
      "    <i class=\"ca ca-conda\"></i>\n",
      "  \n",
      "        <span class='packageName'>patch</span>\n",
      "      </a>\n",
      "    </td>\n",
      "    <td>public</td>\n",
      "    <td>\n",
      "      Native Win32 versions of common unix tools\n",
      "    </td>\n",
      "    <td>2017-09-29</td>\n",
      "  </tr>\n",
      "\n",
      "  <tr>\n",
      "    <td class=\"package-title\">\n",
      "      \n",
      "      <a data-package href=\"/anaconda/parsedatetime\">\n",
      "        \n",
      "    <i class=\"ca ca-conda\"></i>\n",
      "  \n",
      "        <span class='packageName'>parsedatetime</span>\n",
      "      </a>\n",
      "    </td>\n",
      "    <td>public</td>\n",
      "    <td>\n",
      "      Parse human-readable date/time text.\n",
      "    </td>\n",
      "    <td>2017-09-29</td>\n",
      "  </tr>\n",
      "\n",
      "  <tr>\n",
      "    <td class=\"package-title\">\n",
      "      \n",
      "      <a data-package href=\"/anaconda/numpy\">\n",
      "        \n",
      "    <i class=\"ca ca-conda\"></i>\n",
      "  \n",
      "        <span class='packageName'>numpy</span>\n",
      "      </a>\n",
      "    </td>\n",
      "    <td>public</td>\n",
      "    <td>\n",
      "      array processing for numbers, strings, records, and objects\n",
      "    </td>\n",
      "    <td>2017-09-29</td>\n",
      "  </tr>\n",
      "\n",
      "  <tr>\n",
      "    <td class=\"package-title\">\n",
      "      \n",
      "      <a data-package href=\"/anaconda/orderedmultidict\">\n",
      "        \n",
      "    <i class=\"ca ca-conda\"></i>\n",
      "  \n",
      "        <span class='packageName'>orderedmultidict</span>\n",
      "      </a>\n",
      "    </td>\n",
      "    <td>public</td>\n",
      "    <td>\n",
      "      Ordered Multivalue Dictionary - omdict.\n",
      "    </td>\n",
      "    <td>2017-09-29</td>\n",
      "  </tr>\n",
      "\n",
      "  <tr>\n",
      "    <td class=\"package-title\">\n",
      "      \n",
      "      <a data-package href=\"/anaconda/nodejs\">\n",
      "        \n",
      "    <i class=\"ca ca-conda\"></i>\n",
      "  \n",
      "        <span class='packageName'>nodejs</span>\n",
      "      </a>\n",
      "    </td>\n",
      "    <td>public</td>\n",
      "    <td>\n",
      "      a platform for easily building fast, scalable network applications\n",
      "    </td>\n",
      "    <td>2017-09-29</td>\n",
      "  </tr>\n",
      "\n",
      "  <tr>\n",
      "    <td class=\"package-title\">\n",
      "      \n",
      "      <a data-package href=\"/anaconda/nbpresent\">\n",
      "        \n",
      "    <i class=\"ca ca-conda\"></i>\n",
      "  \n",
      "        <span class='packageName'>nbpresent</span>\n",
      "      </a>\n",
      "    </td>\n",
      "    <td>public</td>\n",
      "    <td>\n",
      "      No Summary\n",
      "    </td>\n",
      "    <td>2017-09-29</td>\n",
      "  </tr>\n",
      "\n",
      "  <tr>\n",
      "    <td class=\"package-title\">\n",
      "      \n",
      "      <a data-package href=\"/anaconda/nb_conda\">\n",
      "        \n",
      "    <i class=\"ca ca-conda\"></i>\n",
      "  \n",
      "        <span class='packageName'>nb_conda</span>\n",
      "      </a>\n",
      "    </td>\n",
      "    <td>public</td>\n",
      "    <td>\n",
      "      Conda environment and package access extension from within Jupyter\n",
      "    </td>\n",
      "    <td>2017-09-29</td>\n",
      "  </tr>\n",
      "\n",
      "  <tr>\n",
      "    <td class=\"package-title\">\n",
      "      \n",
      "      <a data-package href=\"/anaconda/mako\">\n",
      "        \n",
      "    <i class=\"ca ca-conda\"></i>\n",
      "  \n",
      "        <span class='packageName'>mako</span>\n",
      "      </a>\n",
      "    </td>\n",
      "    <td>public</td>\n",
      "    <td>\n",
      "      A super-fast templating language that borrows the best ideas from the existing templating languages.\n",
      "    </td>\n",
      "    <td>2017-09-29</td>\n",
      "  </tr>\n",
      "\n",
      "  <tr>\n",
      "    <td class=\"package-title\">\n",
      "      \n",
      "      <a data-package href=\"/anaconda/lzo\">\n",
      "        \n",
      "    <i class=\"ca ca-conda\"></i>\n",
      "  \n",
      "        <span class='packageName'>lzo</span>\n",
      "      </a>\n",
      "    </td>\n",
      "    <td>public</td>\n",
      "    <td>\n",
      "      LZO is a portable lossless data compression library written in ANSI C.\n",
      "    </td>\n",
      "    <td>2017-09-29</td>\n",
      "  </tr>\n",
      "\n",
      "  <tr>\n",
      "    <td class=\"package-title\">\n",
      "      \n",
      "      <a data-package href=\"/anaconda/libuuid\">\n",
      "        \n",
      "    <i class=\"ca ca-conda\"></i>\n",
      "  \n",
      "        <span class='packageName'>libuuid</span>\n",
      "      </a>\n",
      "    </td>\n",
      "    <td>public</td>\n",
      "    <td>\n",
      "      No Summary\n",
      "    </td>\n",
      "    <td>2017-09-29</td>\n",
      "  </tr>\n",
      "\n",
      "  <tr>\n",
      "    <td class=\"package-title\">\n",
      "      \n",
      "      <a data-package href=\"/anaconda/krb5\">\n",
      "        \n",
      "    <i class=\"ca ca-conda\"></i>\n",
      "  \n",
      "        <span class='packageName'>krb5</span>\n",
      "      </a>\n",
      "    </td>\n",
      "    <td>public</td>\n",
      "    <td>\n",
      "      A network authentication protocol.\n",
      "    </td>\n",
      "    <td>2017-09-29</td>\n",
      "  </tr>\n",
      "\n",
      "  <tr>\n",
      "    <td class=\"package-title\">\n",
      "      \n",
      "      <a data-package href=\"/anaconda/libgcc\">\n",
      "        \n",
      "    <i class=\"ca ca-conda\"></i>\n",
      "  \n",
      "        <span class='packageName'>libgcc</span>\n",
      "      </a>\n",
      "    </td>\n",
      "    <td>public</td>\n",
      "    <td>\n",
      "      Shared libraries for the GNU Compiler Collection\n",
      "    </td>\n",
      "    <td>2017-09-29</td>\n",
      "  </tr>\n",
      "\n",
      "  <tr>\n",
      "    <td class=\"package-title\">\n",
      "      \n",
      "      <a data-package href=\"/anaconda/jmespath\">\n",
      "        \n",
      "    <i class=\"ca ca-conda\"></i>\n",
      "  \n",
      "        <span class='packageName'>jmespath</span>\n",
      "      </a>\n",
      "    </td>\n",
      "    <td>public</td>\n",
      "    <td>\n",
      "      Query language for JSON\n",
      "    </td>\n",
      "    <td>2017-09-29</td>\n",
      "  </tr>\n",
      "\n",
      "  <tr>\n",
      "    <td class=\"package-title\">\n",
      "      \n",
      "      <a data-package href=\"/anaconda/humanfriendly\">\n",
      "        \n",
      "    <i class=\"ca ca-conda\"></i>\n",
      "  \n",
      "        <span class='packageName'>humanfriendly</span>\n",
      "      </a>\n",
      "    </td>\n",
      "    <td>public</td>\n",
      "    <td>\n",
      "      Human friendly output for text interfaces using Python.\n",
      "    </td>\n",
      "    <td>2017-09-29</td>\n",
      "  </tr>\n",
      "\n",
      "  <tr>\n",
      "    <td class=\"package-title\">\n",
      "      \n",
      "      <a data-package href=\"/anaconda/hdf5\">\n",
      "        \n",
      "    <i class=\"ca ca-conda\"></i>\n",
      "  \n",
      "        <span class='packageName'>hdf5</span>\n",
      "      </a>\n",
      "    </td>\n",
      "    <td>public</td>\n",
      "    <td>\n",
      "      HDF5 is a data model, library, and file format for storing and managing data\n",
      "    </td>\n",
      "    <td>2017-09-29</td>\n",
      "  </tr>\n",
      "\n",
      "  <tr>\n",
      "    <td class=\"package-title\">\n",
      "      \n",
      "      <a data-package href=\"/anaconda/git\">\n",
      "        \n",
      "    <i class=\"ca ca-conda\"></i>\n",
      "  \n",
      "        <span class='packageName'>git</span>\n",
      "      </a>\n",
      "    </td>\n",
      "    <td>public</td>\n",
      "    <td>\n",
      "      distributed version control system\n",
      "    </td>\n",
      "    <td>2017-09-29</td>\n",
      "  </tr>\n",
      "\n",
      "  <tr>\n",
      "    <td class=\"package-title\">\n",
      "      \n",
      "      <a data-package href=\"/anaconda/gsl\">\n",
      "        \n",
      "    <i class=\"ca ca-conda\"></i>\n",
      "  \n",
      "        <span class='packageName'>gsl</span>\n",
      "      </a>\n",
      "    </td>\n",
      "    <td>public</td>\n",
      "    <td>\n",
      "      No Summary\n",
      "    </td>\n",
      "    <td>2017-09-29</td>\n",
      "  </tr>\n",
      "\n",
      "  <tr>\n",
      "    <td class=\"package-title\">\n",
      "      \n",
      "      <a data-package href=\"/anaconda/gdb_linux-64\">\n",
      "        \n",
      "    <i class=\"ca ca-conda\"></i>\n",
      "  \n",
      "        <span class='packageName'>gdb_linux-64</span>\n",
      "      </a>\n",
      "    </td>\n",
      "    <td>public</td>\n",
      "    <td>\n",
      "      The GNU Project Debugger\n",
      "    </td>\n",
      "    <td>2017-09-29</td>\n",
      "  </tr>\n",
      "\n",
      "  <tr>\n",
      "    <td class=\"package-title\">\n",
      "      \n",
      "      <a data-package href=\"/anaconda/gettext\">\n",
      "        \n",
      "    <i class=\"ca ca-conda\"></i>\n",
      "  \n",
      "        <span class='packageName'>gettext</span>\n",
      "      </a>\n",
      "    </td>\n",
      "    <td>public</td>\n",
      "    <td>\n",
      "      Internationalization package.\n",
      "    </td>\n",
      "    <td>2017-09-29</td>\n",
      "  </tr>\n",
      "\n",
      "  <tr>\n",
      "    <td class=\"package-title\">\n",
      "      \n",
      "      <a data-package href=\"/anaconda/furl\">\n",
      "        \n",
      "    <i class=\"ca ca-conda\"></i>\n",
      "  \n",
      "        <span class='packageName'>furl</span>\n",
      "      </a>\n",
      "    </td>\n",
      "    <td>public</td>\n",
      "    <td>\n",
      "      URL manipulation made simple.\n",
      "    </td>\n",
      "    <td>2017-09-29</td>\n",
      "  </tr>\n",
      "\n",
      "  <tr>\n",
      "    <td class=\"package-title\">\n",
      "      \n",
      "      <a data-package href=\"/anaconda/flake8-import-order\">\n",
      "        \n",
      "    <i class=\"ca ca-conda\"></i>\n",
      "  \n",
      "        <span class='packageName'>flake8-import-order</span>\n",
      "      </a>\n",
      "    </td>\n",
      "    <td>public</td>\n",
      "    <td>\n",
      "      A flake8 and Pylama plugin that checks the ordering of your imports.\n",
      "    </td>\n",
      "    <td>2017-09-29</td>\n",
      "  </tr>\n",
      "\n",
      "  <tr>\n",
      "    <td class=\"package-title\">\n",
      "      \n",
      "      <a data-package href=\"/anaconda/flake8\">\n",
      "        \n",
      "    <i class=\"ca ca-conda\"></i>\n",
      "  \n",
      "        <span class='packageName'>flake8</span>\n",
      "      </a>\n",
      "    </td>\n",
      "    <td>public</td>\n",
      "    <td>\n",
      "      Your Tool For Style Guide Enforcement\n",
      "    </td>\n",
      "    <td>2017-09-29</td>\n",
      "  </tr>\n",
      "\n",
      "  <tr>\n",
      "    <td class=\"package-title\">\n",
      "      \n",
      "      <a data-package href=\"/anaconda/fastparquet\">\n",
      "        \n",
      "    <i class=\"ca ca-conda\"></i>\n",
      "  \n",
      "        <span class='packageName'>fastparquet</span>\n",
      "      </a>\n",
      "    </td>\n",
      "    <td>public</td>\n",
      "    <td>\n",
      "      Python interface to the parquet format\n",
      "    </td>\n",
      "    <td>2017-09-29</td>\n",
      "  </tr>\n",
      "\n",
      "  <tr>\n",
      "    <td class=\"package-title\">\n",
      "      \n",
      "      <a data-package href=\"/anaconda/elasticsearch-dsl\">\n",
      "        \n",
      "    <i class=\"ca ca-conda\"></i>\n",
      "  \n",
      "        <span class='packageName'>elasticsearch-dsl</span>\n",
      "      </a>\n",
      "    </td>\n",
      "    <td>public</td>\n",
      "    <td>\n",
      "      Higher-level Python client for Elasticsearch\n",
      "    </td>\n",
      "    <td>2017-09-29</td>\n",
      "  </tr>\n",
      "\n",
      "  <tr>\n",
      "    <td class=\"package-title\">\n",
      "      \n",
      "      <a data-package href=\"/anaconda/elasticsearch\">\n",
      "        \n",
      "    <i class=\"ca ca-conda\"></i>\n",
      "  \n",
      "        <span class='packageName'>elasticsearch</span>\n",
      "      </a>\n",
      "    </td>\n",
      "    <td>public</td>\n",
      "    <td>\n",
      "      Python client for Elasticsearch\n",
      "    </td>\n",
      "    <td>2017-09-29</td>\n",
      "  </tr>\n",
      "\n",
      "  <tr>\n",
      "    <td class=\"package-title\">\n",
      "      \n",
      "      <a data-package href=\"/anaconda/crosstool-ng\">\n",
      "        \n",
      "    <i class=\"ca ca-conda\"></i>\n",
      "  \n",
      "        <span class='packageName'>crosstool-ng</span>\n",
      "      </a>\n",
      "    </td>\n",
      "    <td>public</td>\n",
      "    <td>\n",
      "      No Summary\n",
      "    </td>\n",
      "    <td>2017-09-29</td>\n",
      "  </tr>\n",
      "\n",
      "  <tr>\n",
      "    <td class=\"package-title\">\n",
      "      \n",
      "      <a data-package href=\"/anaconda/duma_linux-64\">\n",
      "        \n",
      "    <i class=\"ca ca-conda\"></i>\n",
      "  \n",
      "        <span class='packageName'>duma_linux-64</span>\n",
      "      </a>\n",
      "    </td>\n",
      "    <td>public</td>\n",
      "    <td>\n",
      "      DUMA is an open-source library to detect buffer overruns and under-runs in C and C++ programs.\n",
      "    </td>\n",
      "    <td>2017-09-29</td>\n",
      "  </tr>\n",
      "\n",
      "  <tr>\n",
      "    <td class=\"package-title\">\n",
      "      \n",
      "      <a data-package href=\"/anaconda/coloredlogs\">\n",
      "        \n",
      "    <i class=\"ca ca-conda\"></i>\n",
      "  \n",
      "        <span class='packageName'>coloredlogs</span>\n",
      "      </a>\n",
      "    </td>\n",
      "    <td>public</td>\n",
      "    <td>\n",
      "      Colored terminal output for Python&#39;s logging module.\n",
      "    </td>\n",
      "    <td>2017-09-29</td>\n",
      "  </tr>\n",
      "\n",
      "  <tr>\n",
      "    <td class=\"package-title\">\n",
      "      \n",
      "      <a data-package href=\"/anaconda/chai\">\n",
      "        \n",
      "    <i class=\"ca ca-conda\"></i>\n",
      "  \n",
      "        <span class='packageName'>chai</span>\n",
      "      </a>\n",
      "    </td>\n",
      "    <td>public</td>\n",
      "    <td>\n",
      "      Easy to use mocking, stubbing and spying framework.\n",
      "    </td>\n",
      "    <td>2017-09-29</td>\n",
      "  </tr>\n",
      "\n",
      "  <tr>\n",
      "    <td class=\"package-title\">\n",
      "      \n",
      "      <a data-package href=\"/anaconda/botocore\">\n",
      "        \n",
      "    <i class=\"ca ca-conda\"></i>\n",
      "  \n",
      "        <span class='packageName'>botocore</span>\n",
      "      </a>\n",
      "    </td>\n",
      "    <td>public</td>\n",
      "    <td>\n",
      "      Low-level, data-driven core of boto 3.\n",
      "    </td>\n",
      "    <td>2017-09-29</td>\n",
      "  </tr>\n",
      "\n",
      "</tbody>\n",
      "        </table>\n",
      "      \n",
      "    </div>\n",
      "  </div>\n",
      "  \n",
      "    <div class=\"pagination-centered\">\n",
      "      <ul class=\"pagination\">\n",
      "        <li class=\"arrow unavailable\"><a href=\"/anaconda/repo?page=0\">&laquo; Previous</a></li>\n",
      "\n",
      "        <li class=\"unavailable\" aria-disabled=\"true\"><a href=\"\">showing 1 of 22</a></li>\n",
      "\n",
      "        <li class=\"arrow \"><a href=\"/anaconda/repo?page=2\">Next &raquo;</a></li>\n",
      "      </ul>\n",
      "    </div>\n",
      "    \n",
      " \n",
      "\n",
      "\n",
      "\n",
      "\n",
      "      </div>\n",
      "    </div>\n",
      "  </div>\n",
      "</div>\n",
      "</div></div>\n",
      "      \n",
      "      <div class=\"push\"></div>\n",
      "    </div>\n",
      "    <footer class=\"\">\n",
      "  \n",
      "  <div class=\"row\">\n",
      "    <div class=\"columns medium-3 medium-offset-3\">\n",
      "      <h5>Anaconda Cloud</h5>\n",
      "      <p>\n",
      "        <a href=\"/gallery\">Gallery</a><br>\n",
      "        <a href=\"/about\">About</a><br>\n",
      "        \n",
      "        <a href=\"/about/pricing\">Pricing</a><br>\n",
      "        \n",
      "        <a href=\"https://docs.anaconda.com/anaconda-cloud/user-guide\" target=\"_blank\">Documentation</a><br>\n",
      "        <a href=\"/contact\">Support</a><br>\n",
      "        <a href=\"https://www.anaconda.com/our-story\" target=\"_blank\">About Anaconda, Inc.</a><br>\n",
      "        <a href=\"https://www.anaconda.com/downloads\" target=\"_blank\">Download Anaconda</a><br>\n",
      "      </p>\n",
      "    </div>\n",
      "    <div class=\"columns medium-3 end\">\n",
      "      <h5>Community</h5>\n",
      "      <p>\n",
      "        <a href=\"https://www.anaconda.com/community\" target=\"_blank\">Anaconda Community</a><br>\n",
      "        <a href=\"https://www.anaconda.com/open-source-core-modern-software\" target=\"_blank\">Open Source</a><br>\n",
      "        <a href=\"https://www.anaconda.com/numfocus\" target=\"_blank\">NumFOCUS</a><br>\n",
      "        <a href=\"https://www.anaconda.com/support\" target=\"_blank\">Support</a><br>\n",
      "        <a href=\"https://www.anaconda.com/blog/developer-blog\" target=\"_blank\">Developer Blog</a>\n",
      "      </p>\n",
      "    </div>\n",
      "  </div>\n",
      "  <br>\n",
      "  <div class=\"row\">\n",
      "    <div class=\"social-icons columns medium-12\">\n",
      "      <ul>\n",
      "        <li><a href=\"https://twitter.com/anacondainc\" target=\"_blank\" aria-haspopup=\"true\" data-tooltip title=\"Follow us on Twitter\">\n",
      "          <img src=\"/static/img/social-icons/twitter.svg\" />\n",
      "        </a></li>\n",
      "        <li><a href=\"https://www.facebook.com/anacondainc\" target=\"_blank\" aria-haspopup=\"true\" data-tooltip title=\"Find us on Facebook\">\n",
      "          <img src=\"/static/img/social-icons/facebook.svg\" />\n",
      "        </a></li>\n",
      "        <li><a href=\"https://www.slideshare.net/continuumio\" target=\"_blank\" aria-haspopup=\"true\" data-tooltip title=\"Follow us on Slideshare\">\n",
      "          <img src=\"/static/img/social-icons/slideshare.svg\" />\n",
      "        </a></li>\n",
      "        <li><a href=\"https://www.linkedin.com/company/anacondainc\" target=\"_blank\" aria-haspopup=\"true\" data-tooltip title=\"Find us on LinkedIn\">\n",
      "          <img src=\"/static/img/social-icons/linkedin.svg\" />\n",
      "        </a></li>\n",
      "        <li><a href=\"https://www.instagram.com/anaconda_inc/\" target=\"_blank\" aria-haspopup=\"true\" data-tooltip title=\"Follow us on Instagram\">\n",
      "          <img src=\"/static/img/social-icons/instagram.svg\" />\n",
      "        </a></li>\n",
      "        <li><a href=\"https://www.youtube.com/c/ContinuumIo\" target=\"_blank\" aria-haspopup=\"true\" data-tooltip title=\"Watch us on YouTube\">\n",
      "          <img src=\"/static/img/social-icons/youtube.svg\" />\n",
      "        </a></li>\n",
      "        <li><a href=\"https://github.com/ContinuumIO\" target=\"_blank\" aria-haspopup=\"true\" data-tooltip title=\"Follow us on GitHub\">\n",
      "          <img src=\"/static/img/social-icons/github.svg\" />\n",
      "        </a></li>\n",
      "      </ul>\n",
      "    </div>\n",
      "  </div>\n",
      "\n",
      "</footer>\n",
      "<div class=\"license full-width\">\n",
      "  <div class=\"row\">\n",
      "    <div class=\"columns medium-12 text-center\">\n",
      "      <h5>\n",
      "        \n",
      "        <a href=\"/about/legal/privacy\" target=\"_blank\">PRIVACY POLICY</a>\n",
      "        &nbsp;&#124;&nbsp;\n",
      "        <a href=\"/about/legal/terms\" target=\"_blank\">EULA</a>\n",
      "        \n",
      "        <span>(Anaconda Cloud v2.33.0)</span>\n",
      "        &copy;\n",
      "        2017 Anaconda, Inc. All Rights Reserved.\n",
      "      </h5>\n",
      "    </div>\n",
      "  </div>\n",
      "</div>\n",
      "    \n",
      "   \n",
      "\n",
      "    \n",
      "    \n",
      "    <!-- Google Tag Manager -->\n",
      "<noscript><iframe src=\"//www.googletagmanager.com/ns.html?id=GTM-MTFQWW\"\n",
      "height=\"0\" width=\"0\" style=\"display:none;visibility:hidden\"></iframe></noscript>\n",
      "<script>(function(w,d,s,l,i){w[l]=w[l]||[];w[l].push({'gtm.start':\n",
      "new Date().getTime(),event:'gtm.js'});var f=d.getElementsByTagName(s)[0],\n",
      "j=d.createElement(s),dl=l!='dataLayer'?'&l='+l:'';j.async=true;j.src=\n",
      "'//www.googletagmanager.com/gtm.js?id='+i+dl;f.parentNode.insertBefore(j,f);\n",
      "})(window,document,'script','dataLayer','GTM-MTFQWW');</script>\n",
      "<!-- End Google Tag Manager -->\n",
      "    <!-- Hotjar Tracking Code for https://anaconda.org -->\n",
      "<script>\n",
      "    (function(h,o,t,j,a,r){\n",
      "        h.hj=h.hj||function(){(h.hj.q=h.hj.q||[]).push(arguments)};\n",
      "        h._hjSettings={hjid:248638,hjsv:5};\n",
      "        a=o.getElementsByTagName('head')[0];\n",
      "        r=o.createElement('script');r.async=1;\n",
      "        r.src=t+h._hjSettings.hjid+j+h._hjSettings.hjsv;\n",
      "        a.appendChild(r);\n",
      "    })(window,document,'//static.hotjar.com/c/hotjar-','.js?sv=');\n",
      "</script>\n",
      "<!-- End Hotjar -->\n",
      "    \n",
      "    <div id=\"ajax-modal\" class=\"reveal-modal\" data-reveal aria-hidden=\"true\"></div>\n",
      "  </body>\n",
      "</html>\n"
     ]
    }
   ],
   "source": [
    "print(response.text)"
   ]
  },
  {
   "cell_type": "markdown",
   "metadata": {
    "slideshow": {
     "slide_type": "subslide"
    }
   },
   "source": [
    "first, create an `lxml` `html` object out of the request response"
   ]
  },
  {
   "cell_type": "code",
   "execution_count": 11,
   "metadata": {
    "ExecuteTime": {
     "end_time": "2017-05-29T20:08:49.164770Z",
     "start_time": "2017-05-29T20:08:49.155322Z"
    }
   },
   "outputs": [
    {
     "data": {
      "text/plain": [
       "<Element html at 0x7f82492c0b88>"
      ]
     },
     "execution_count": 11,
     "metadata": {},
     "output_type": "execute_result"
    }
   ],
   "source": [
    "root = lxml.html.fromstring(response.text)\n",
    "root"
   ]
  },
  {
   "cell_type": "markdown",
   "metadata": {
    "slideshow": {
     "slide_type": "subslide"
    }
   },
   "source": [
    "the `Element` object is nested: it has \"children\" which are, themselves, `lxml.html Element` objects:"
   ]
  },
  {
   "cell_type": "code",
   "execution_count": 12,
   "metadata": {
    "ExecuteTime": {
     "end_time": "2017-05-29T20:09:19.186413Z",
     "start_time": "2017-05-29T20:09:19.179952Z"
    }
   },
   "outputs": [
    {
     "data": {
      "text/plain": [
       "[<Element head at 0x7f824817b9a8>, <Element body at 0x7f824817ba98>]"
      ]
     },
     "execution_count": 12,
     "metadata": {},
     "output_type": "execute_result"
    }
   ],
   "source": [
    "root.getchildren()"
   ]
  },
  {
   "cell_type": "markdown",
   "metadata": {
    "slideshow": {
     "slide_type": "subslide"
    }
   },
   "source": [
    "we can use `xpath` expressions via the `xpath` method on each `Element` object. by definition, all `xpath` expressions executed this way are relative to the particular object whose method we are using"
   ]
  },
  {
   "cell_type": "code",
   "execution_count": 13,
   "metadata": {
    "ExecuteTime": {
     "end_time": "2017-05-29T20:10:31.310437Z",
     "start_time": "2017-05-29T20:10:31.303160Z"
    }
   },
   "outputs": [
    {
     "data": {
      "text/plain": [
       "[<Element body at 0x7f824817ba98>]"
      ]
     },
     "execution_count": 13,
     "metadata": {},
     "output_type": "execute_result"
    }
   ],
   "source": [
    "root.xpath('body')"
   ]
  },
  {
   "cell_type": "markdown",
   "metadata": {
    "slideshow": {
     "slide_type": "subslide"
    }
   },
   "source": [
    "let's take the full `xpath` to the \"Package Name\" elements we developed above:\n",
    "\n",
    "```\n",
    "body/div/div/div/div/div/div/div/div/div/table/tbody/tr/td/a/span\n",
    "```\n",
    "\n",
    "and find elements at this `xpath` using the `xpath` method, one element at a time"
   ]
  },
  {
   "cell_type": "code",
   "execution_count": 29,
   "metadata": {
    "ExecuteTime": {
     "end_time": "2017-05-29T20:10:37.561101Z",
     "start_time": "2017-05-29T20:10:37.553486Z"
    },
    "slideshow": {
     "slide_type": "subslide"
    }
   },
   "outputs": [
    {
     "data": {
      "text/plain": [
       "[<Element body at 0x7f824817ba98>]"
      ]
     },
     "execution_count": 29,
     "metadata": {},
     "output_type": "execute_result"
    }
   ],
   "source": [
    "# build it up one element at a time\n",
    "#root.xpath('body/div/div/div/div/div/div/div/div/div/table/tbody/tr/td/a/span')\n",
    "root.xpath('body')"
   ]
  },
  {
   "cell_type": "markdown",
   "metadata": {
    "slideshow": {
     "slide_type": "subslide"
    }
   },
   "source": [
    "note that `tbody` element in the path above. it turns out that modern browsers add the `tbody` element in there whether it's in the source code or not.\n",
    "\n",
    "this means that we can often end up in a situation where `tbody` is what we see in the chrome devtools, for example, but there's actually no `tbody` element in the `lxml` object.\n",
    "\n",
    "why is still mostly a mystery to me, and [I'm comforted by the fact that I'm not alone](https://stackoverflow.com/questions/27918086/why-tbody-will-be-added-automatically-by-browser)."
   ]
  },
  {
   "cell_type": "code",
   "execution_count": 31,
   "metadata": {
    "scrolled": true,
    "slideshow": {
     "slide_type": "subslide"
    }
   },
   "outputs": [
    {
     "data": {
      "text/plain": [
       "[<Element span at 0x7f824817bd18>,\n",
       " <Element span at 0x7f824817bd68>,\n",
       " <Element span at 0x7f824817bdb8>,\n",
       " <Element span at 0x7f824817be08>,\n",
       " <Element span at 0x7f824817be58>,\n",
       " <Element span at 0x7f824817bea8>,\n",
       " <Element span at 0x7f824817bef8>,\n",
       " <Element span at 0x7f824817bf48>,\n",
       " <Element span at 0x7f824817bf98>,\n",
       " <Element span at 0x7f8248108048>,\n",
       " <Element span at 0x7f8248108098>,\n",
       " <Element span at 0x7f82481080e8>,\n",
       " <Element span at 0x7f8248108138>,\n",
       " <Element span at 0x7f8248108188>,\n",
       " <Element span at 0x7f82481081d8>,\n",
       " <Element span at 0x7f8248108228>,\n",
       " <Element span at 0x7f8248108278>,\n",
       " <Element span at 0x7f82481082c8>,\n",
       " <Element span at 0x7f8248108318>,\n",
       " <Element span at 0x7f8248108368>,\n",
       " <Element span at 0x7f82481083b8>,\n",
       " <Element span at 0x7f8248108408>,\n",
       " <Element span at 0x7f8248108458>,\n",
       " <Element span at 0x7f82481084a8>,\n",
       " <Element span at 0x7f82481084f8>,\n",
       " <Element span at 0x7f8248108548>,\n",
       " <Element span at 0x7f8248108598>,\n",
       " <Element span at 0x7f82481085e8>,\n",
       " <Element span at 0x7f8248108638>,\n",
       " <Element span at 0x7f8248108688>,\n",
       " <Element span at 0x7f82481086d8>,\n",
       " <Element span at 0x7f8248108728>,\n",
       " <Element span at 0x7f8248108778>,\n",
       " <Element span at 0x7f82481087c8>,\n",
       " <Element span at 0x7f8248108818>,\n",
       " <Element span at 0x7f8248108868>,\n",
       " <Element span at 0x7f82481088b8>,\n",
       " <Element span at 0x7f8248108908>,\n",
       " <Element span at 0x7f8248108958>,\n",
       " <Element span at 0x7f82481089a8>,\n",
       " <Element span at 0x7f82481089f8>,\n",
       " <Element span at 0x7f8248108a48>,\n",
       " <Element span at 0x7f8248108a98>,\n",
       " <Element span at 0x7f8248108ae8>,\n",
       " <Element span at 0x7f8248108b38>,\n",
       " <Element span at 0x7f8248108b88>,\n",
       " <Element span at 0x7f8248108bd8>,\n",
       " <Element span at 0x7f8248108c28>,\n",
       " <Element span at 0x7f8248108c78>,\n",
       " <Element span at 0x7f8248108cc8>]"
      ]
     },
     "execution_count": 31,
     "metadata": {},
     "output_type": "execute_result"
    }
   ],
   "source": [
    "root.xpath('body/div/div/div/div/div/div/div/div/div/table/tbody/tr/td/a/span')"
   ]
  },
  {
   "cell_type": "markdown",
   "metadata": {
    "slideshow": {
     "slide_type": "subslide"
    }
   },
   "source": [
    "SO USEFUL RIGHT? Let's look at one of those items above"
   ]
  },
  {
   "cell_type": "code",
   "execution_count": 32,
   "metadata": {
    "ExecuteTime": {
     "end_time": "2017-05-29T20:11:44.061211Z",
     "start_time": "2017-05-29T20:11:44.052941Z"
    }
   },
   "outputs": [
    {
     "name": "stdout",
     "output_type": "stream",
     "text": [
      "we have 50 td cells\n",
      "b'<span class=\"packageName\">anaconda</span>\\n      '\n"
     ]
    }
   ],
   "source": [
    "packageElems = root.xpath('body/div/div/div/div/div/div/div/div/div/table/tbody/tr/td/a/span')\n",
    "print('we have {} td cells'.format(len(packageElems)))\n",
    "\n",
    "pkg0 = packageElems[0]\n",
    "print(lxml.html.tostring(pkg0))"
   ]
  },
  {
   "cell_type": "markdown",
   "metadata": {
    "slideshow": {
     "slide_type": "subslide"
    }
   },
   "source": [
    "this `span` element has a `class` attribute with value `\"packageName\"`:"
   ]
  },
  {
   "cell_type": "code",
   "execution_count": 33,
   "metadata": {
    "ExecuteTime": {
     "end_time": "2017-05-29T20:12:30.762546Z",
     "start_time": "2017-05-29T20:12:30.757188Z"
    }
   },
   "outputs": [
    {
     "data": {
      "text/plain": [
       "{'class': 'packageName'}"
      ]
     },
     "execution_count": 33,
     "metadata": {},
     "output_type": "execute_result"
    }
   ],
   "source": [
    "pkg0.attrib"
   ]
  },
  {
   "cell_type": "markdown",
   "metadata": {
    "slideshow": {
     "slide_type": "subslide"
    }
   },
   "source": [
    "that seems pretty dang unique to the \"package name\" column we are interested in, right? how about we use it in our `xpath` expression:"
   ]
  },
  {
   "cell_type": "code",
   "execution_count": 37,
   "metadata": {},
   "outputs": [
    {
     "name": "stdout",
     "output_type": "stream",
     "text": [
      "we have 50 td cells\n",
      "b'<span class=\"packageName\">anaconda</span>\\n      '\n"
     ]
    }
   ],
   "source": [
    "packageElems = root.xpath('//span[@class=\"packageName\"]')\n",
    "print('we have {} td cells'.format(len(packageElems)))\n",
    "\n",
    "pkg0 = packageElems[0]\n",
    "print(lxml.html.tostring(pkg0))"
   ]
  },
  {
   "cell_type": "markdown",
   "metadata": {
    "slideshow": {
     "slide_type": "subslide"
    }
   },
   "source": [
    "same elements with about 1/80th of the work. cool.\n",
    "\n",
    "the text contained \"within\" this first `span` element is `anaconda`, and can be accessed via the `text` object attribute:"
   ]
  },
  {
   "cell_type": "code",
   "execution_count": 38,
   "metadata": {
    "ExecuteTime": {
     "end_time": "2017-05-28T21:55:39.828425Z",
     "start_time": "2017-05-28T21:55:39.821335Z"
    },
    "slideshow": {
     "slide_type": "-"
    }
   },
   "outputs": [
    {
     "data": {
      "text/plain": [
       "'anaconda'"
      ]
     },
     "execution_count": 38,
     "metadata": {},
     "output_type": "execute_result"
    }
   ],
   "source": [
    "pkg0.text"
   ]
  },
  {
   "cell_type": "markdown",
   "metadata": {
    "slideshow": {
     "slide_type": "subslide"
    }
   },
   "source": [
    "using that `text` object attribute we can get all of the package names from a simple list comprehension"
   ]
  },
  {
   "cell_type": "code",
   "execution_count": 39,
   "metadata": {
    "ExecuteTime": {
     "end_time": "2017-05-29T20:13:31.615896Z",
     "start_time": "2017-05-29T20:13:31.611198Z"
    },
    "slideshow": {
     "slide_type": "-"
    }
   },
   "outputs": [
    {
     "data": {
      "text/plain": [
       "['anaconda',\n",
       " 'python',\n",
       " 'conda-build',\n",
       " 'xar',\n",
       " 'wget',\n",
       " 'verboselogs',\n",
       " 's3transfer',\n",
       " 'snappy',\n",
       " 'requests-kerberos',\n",
       " 'python-editor']"
      ]
     },
     "execution_count": 39,
     "metadata": {},
     "output_type": "execute_result"
    }
   ],
   "source": [
    "packagenames = [elem.text for elem in packageElems]\n",
    "\n",
    "packagenames[:10]"
   ]
  },
  {
   "cell_type": "markdown",
   "metadata": {
    "slideshow": {
     "slide_type": "subslide"
    }
   },
   "source": [
    "that's pretty good so far, but what if we want to actually pull down *all* the contents of that table -- not just the package name?\n",
    "\n",
    "we could create a separate parser for each column and zip them together\n",
    "\n",
    "there are issues with this sort of approach, though -- any idea what would be problematic with this?"
   ]
  },
  {
   "cell_type": "markdown",
   "metadata": {
    "slideshow": {
     "slide_type": "subslide"
    }
   },
   "source": [
    "first, what would happen if one of the rows was missing an element, and we zipped lists of different lengths? or a future table had multiple sub-elements in a cell in a row (e.g. [here](https://en.wikipedia.org/wiki/Help:Table#Cells_spanning_multiple_rows_or_columns))"
   ]
  },
  {
   "cell_type": "markdown",
   "metadata": {
    "slideshow": {
     "slide_type": "subslide"
    }
   },
   "source": [
    "second, that approach actually throws away quite a bit of information. every element within one *row* of the table is actually a *child* of a table row element (`tr`). \n",
    "\n",
    "we could use an `xpath` expression to get our `tr`, and then iterate through the elements (`td`) that are children of those rows."
   ]
  },
  {
   "cell_type": "markdown",
   "metadata": {
    "slideshow": {
     "slide_type": "subslide"
    }
   },
   "source": [
    "let's start by building an expression to get the table rows:"
   ]
  },
  {
   "cell_type": "code",
   "execution_count": 41,
   "metadata": {
    "ExecuteTime": {
     "end_time": "2017-05-28T22:00:29.521328Z",
     "start_time": "2017-05-28T22:00:29.514293Z"
    },
    "slideshow": {
     "slide_type": "-"
    }
   },
   "outputs": [
    {
     "name": "stdout",
     "output_type": "stream",
     "text": [
      "we got 50 rows\n"
     ]
    },
    {
     "data": {
      "text/plain": [
       "<Element tr at 0x7f8248106d18>"
      ]
     },
     "execution_count": 41,
     "metadata": {},
     "output_type": "execute_result"
    }
   ],
   "source": [
    "rows = root.xpath('//table[@id=\"repo-packages-table\"]/tbody/tr')\n",
    "print('we got {} rows'.format(len(rows)))\n",
    "\n",
    "row0 = rows[0]\n",
    "row0"
   ]
  },
  {
   "cell_type": "markdown",
   "metadata": {
    "slideshow": {
     "slide_type": "subslide"
    }
   },
   "source": [
    "this `tr` element has four children, one for each column"
   ]
  },
  {
   "cell_type": "code",
   "execution_count": 42,
   "metadata": {
    "ExecuteTime": {
     "end_time": "2017-05-28T22:00:33.258378Z",
     "start_time": "2017-05-28T22:00:33.252770Z"
    },
    "slideshow": {
     "slide_type": "-"
    }
   },
   "outputs": [
    {
     "data": {
      "text/plain": [
       "[<Element td at 0x7f824808eb38>,\n",
       " <Element td at 0x7f824808eb88>,\n",
       " <Element td at 0x7f824808ebd8>,\n",
       " <Element td at 0x7f824808ec28>]"
      ]
     },
     "execution_count": 42,
     "metadata": {},
     "output_type": "execute_result"
    }
   ],
   "source": [
    "row0.getchildren()"
   ]
  },
  {
   "cell_type": "markdown",
   "metadata": {
    "slideshow": {
     "slide_type": "subslide"
    }
   },
   "source": [
    "let's unpack this row and parse out the info we want from each element"
   ]
  },
  {
   "cell_type": "code",
   "execution_count": 43,
   "metadata": {
    "collapsed": true,
    "slideshow": {
     "slide_type": "-"
    }
   },
   "outputs": [],
   "source": [
    "packageelem, accesselem, summaryelem, updatedelem = row0.getchildren()"
   ]
  },
  {
   "cell_type": "markdown",
   "metadata": {
    "slideshow": {
     "slide_type": "subslide"
    }
   },
   "source": [
    "for `packageelem`, let's get the link to and name of the package. we can use the `find` object method to return the first (and only the first) element which matches a given `xpath` expression"
   ]
  },
  {
   "cell_type": "code",
   "execution_count": 48,
   "metadata": {
    "slideshow": {
     "slide_type": "-"
    }
   },
   "outputs": [
    {
     "name": "stdout",
     "output_type": "stream",
     "text": [
      "<Element a at 0x7f82480c1098>\n"
     ]
    },
    {
     "data": {
      "text/plain": [
       "{'data-package': '', 'href': '/anaconda/anaconda'}"
      ]
     },
     "execution_count": 48,
     "metadata": {},
     "output_type": "execute_result"
    }
   ],
   "source": [
    "a = packageelem.find('a')\n",
    "print(a)\n",
    "\n",
    "a.attrib"
   ]
  },
  {
   "cell_type": "code",
   "execution_count": 49,
   "metadata": {
    "slideshow": {
     "slide_type": "subslide"
    }
   },
   "outputs": [
    {
     "data": {
      "text/plain": [
       "'/anaconda/anaconda'"
      ]
     },
     "execution_count": 49,
     "metadata": {},
     "output_type": "execute_result"
    }
   ],
   "source": [
    "packagelink = packageelem.find('a').attrib['href']\n",
    "packagelink"
   ]
  },
  {
   "cell_type": "markdown",
   "metadata": {
    "slideshow": {
     "slide_type": "subslide"
    }
   },
   "source": [
    "as for the name, that's the `text` element on the `span` (we saw this up above)."
   ]
  },
  {
   "cell_type": "code",
   "execution_count": 51,
   "metadata": {
    "slideshow": {
     "slide_type": "-"
    }
   },
   "outputs": [
    {
     "data": {
      "text/plain": [
       "'anaconda'"
      ]
     },
     "execution_count": 51,
     "metadata": {},
     "output_type": "execute_result"
    }
   ],
   "source": [
    "packagename = packageelem.find('a/span').text\n",
    "packagename"
   ]
  },
  {
   "cell_type": "markdown",
   "metadata": {
    "slideshow": {
     "slide_type": "subslide"
    }
   },
   "source": [
    "the other four are much easier -- each is simply a `td` element with a text item we'd like to pull out"
   ]
  },
  {
   "cell_type": "code",
   "execution_count": 53,
   "metadata": {
    "slideshow": {
     "slide_type": "-"
    }
   },
   "outputs": [
    {
     "data": {
      "text/plain": [
       "('public',\n",
       " '\\n      Simplifies package management and deployment of Anaconda\\n    ',\n",
       " '2017-10-01')"
      ]
     },
     "execution_count": 53,
     "metadata": {},
     "output_type": "execute_result"
    }
   ],
   "source": [
    "access = accesselem.text\n",
    "summary = summaryelem.text\n",
    "updated = updatedelem.text\n",
    "\n",
    "access, summary, updated"
   ]
  },
  {
   "cell_type": "markdown",
   "metadata": {
    "slideshow": {
     "slide_type": "subslide"
    }
   },
   "source": [
    "the extra whitespace on the `summary` is annoying -- we can `strip` that off. also, let's parse the `updated` date string into a datetime object"
   ]
  },
  {
   "cell_type": "code",
   "execution_count": 57,
   "metadata": {
    "slideshow": {
     "slide_type": "-"
    }
   },
   "outputs": [
    {
     "data": {
      "text/plain": [
       "('public',\n",
       " 'Simplifies package management and deployment of Anaconda',\n",
       " datetime.datetime(2017, 10, 1, 0, 0))"
      ]
     },
     "execution_count": 57,
     "metadata": {},
     "output_type": "execute_result"
    }
   ],
   "source": [
    "import datetime\n",
    "\n",
    "access = accesselem.text\n",
    "summary = summaryelem.text.strip()\n",
    "updated = datetime.datetime.strptime(updatedelem.text, '%Y-%m-%d')\n",
    "\n",
    "access, summary, updated"
   ]
  },
  {
   "cell_type": "markdown",
   "metadata": {
    "slideshow": {
     "slide_type": "subslide"
    }
   },
   "source": [
    "let's unpack these four elements all in one place and put them together into a dictionary for this record"
   ]
  },
  {
   "cell_type": "code",
   "execution_count": 60,
   "metadata": {
    "ExecuteTime": {
     "end_time": "2017-05-28T22:00:41.080453Z",
     "start_time": "2017-05-28T22:00:41.070761Z"
    },
    "slideshow": {
     "slide_type": "-"
    }
   },
   "outputs": [
    {
     "data": {
      "text/plain": [
       "{'access': 'public',\n",
       " 'packagelink': '/anaconda/anaconda',\n",
       " 'packagename': 'anaconda',\n",
       " 'summary': 'Simplifies package management and deployment of Anaconda',\n",
       " 'updated': datetime.datetime(2017, 10, 1, 0, 0)}"
      ]
     },
     "execution_count": 60,
     "metadata": {},
     "output_type": "execute_result"
    }
   ],
   "source": [
    "packageelem, accesselem, summaryelem, updatedelem = row0.getchildren()\n",
    "d = {\n",
    "    'packagelink': packageelem.find('a').attrib['href'],\n",
    "    'packagename': packageelem.find('a/span').text,\n",
    "    'access': accesselem.text,\n",
    "    'summary': summaryelem.text.strip(),\n",
    "    'updated': datetime.datetime.strptime(updatedelem.text, '%Y-%m-%d'),\n",
    "}\n",
    "d"
   ]
  },
  {
   "cell_type": "markdown",
   "metadata": {
    "slideshow": {
     "slide_type": "subslide"
    }
   },
   "source": [
    "let's turn that into a function we can apply to all of the rows in our parsed table"
   ]
  },
  {
   "cell_type": "code",
   "execution_count": 62,
   "metadata": {
    "ExecuteTime": {
     "end_time": "2017-05-28T22:00:41.080453Z",
     "start_time": "2017-05-28T22:00:41.070761Z"
    },
    "slideshow": {
     "slide_type": "-"
    }
   },
   "outputs": [],
   "source": [
    "def parse_row(elem):\n",
    "    packageelem, accesselem, summaryelem, updatedelem = elem.getchildren()\n",
    "    d = {\n",
    "        'packagelink': packageelem.find('a').attrib['href'],\n",
    "        'packagename': packageelem.find('a/span').text,\n",
    "        'access': accesselem.text,\n",
    "        'summary': summaryelem.text.strip(),\n",
    "        'updated': datetime.datetime.strptime(updatedelem.text, '%Y-%m-%d'),\n",
    "    }\n",
    "    return d"
   ]
  },
  {
   "cell_type": "markdown",
   "metadata": {
    "slideshow": {
     "slide_type": "subslide"
    }
   },
   "source": [
    "and finally, we can take our `rows` element from wayyyyyyyy back and use a list comprehension to parse each row in that list to a dictionary of useful information. in fact, it'll be a list of dictionaries -- let's just toss it into a `pandas` dataframe while we're at it"
   ]
  },
  {
   "cell_type": "code",
   "execution_count": 64,
   "metadata": {
    "slideshow": {
     "slide_type": "-"
    }
   },
   "outputs": [
    {
     "data": {
      "text/html": [
       "<div>\n",
       "<style>\n",
       "    .dataframe thead tr:only-child th {\n",
       "        text-align: right;\n",
       "    }\n",
       "\n",
       "    .dataframe thead th {\n",
       "        text-align: left;\n",
       "    }\n",
       "\n",
       "    .dataframe tbody tr th {\n",
       "        vertical-align: top;\n",
       "    }\n",
       "</style>\n",
       "<table border=\"1\" class=\"dataframe\">\n",
       "  <thead>\n",
       "    <tr style=\"text-align: right;\">\n",
       "      <th></th>\n",
       "      <th>access</th>\n",
       "      <th>packagelink</th>\n",
       "      <th>packagename</th>\n",
       "      <th>summary</th>\n",
       "      <th>updated</th>\n",
       "    </tr>\n",
       "  </thead>\n",
       "  <tbody>\n",
       "    <tr>\n",
       "      <th>0</th>\n",
       "      <td>public</td>\n",
       "      <td>/anaconda/anaconda</td>\n",
       "      <td>anaconda</td>\n",
       "      <td>Simplifies package management and deployment o...</td>\n",
       "      <td>2017-10-01</td>\n",
       "    </tr>\n",
       "    <tr>\n",
       "      <th>1</th>\n",
       "      <td>public</td>\n",
       "      <td>/anaconda/python</td>\n",
       "      <td>python</td>\n",
       "      <td>general purpose programming language</td>\n",
       "      <td>2017-09-30</td>\n",
       "    </tr>\n",
       "    <tr>\n",
       "      <th>2</th>\n",
       "      <td>public</td>\n",
       "      <td>/anaconda/conda-build</td>\n",
       "      <td>conda-build</td>\n",
       "      <td>tools for building conda packages</td>\n",
       "      <td>2017-09-29</td>\n",
       "    </tr>\n",
       "    <tr>\n",
       "      <th>3</th>\n",
       "      <td>public</td>\n",
       "      <td>/anaconda/xar</td>\n",
       "      <td>xar</td>\n",
       "      <td>eXtensible ARchiver</td>\n",
       "      <td>2017-09-29</td>\n",
       "    </tr>\n",
       "    <tr>\n",
       "      <th>4</th>\n",
       "      <td>public</td>\n",
       "      <td>/anaconda/wget</td>\n",
       "      <td>wget</td>\n",
       "      <td>No Summary</td>\n",
       "      <td>2017-09-29</td>\n",
       "    </tr>\n",
       "  </tbody>\n",
       "</table>\n",
       "</div>"
      ],
      "text/plain": [
       "   access            packagelink  packagename  \\\n",
       "0  public     /anaconda/anaconda     anaconda   \n",
       "1  public       /anaconda/python       python   \n",
       "2  public  /anaconda/conda-build  conda-build   \n",
       "3  public          /anaconda/xar          xar   \n",
       "4  public         /anaconda/wget         wget   \n",
       "\n",
       "                                             summary    updated  \n",
       "0  Simplifies package management and deployment o... 2017-10-01  \n",
       "1               general purpose programming language 2017-09-30  \n",
       "2                  tools for building conda packages 2017-09-29  \n",
       "3                                eXtensible ARchiver 2017-09-29  \n",
       "4                                         No Summary 2017-09-29  "
      ]
     },
     "execution_count": 64,
     "metadata": {},
     "output_type": "execute_result"
    }
   ],
   "source": [
    "import pandas as pd\n",
    "\n",
    "rows = root.xpath('//table[@id=\"repo-packages-table\"]/tbody/tr')\n",
    "packageinfo = [parse_row(row) for row in rows]\n",
    "dfpackage = pd.DataFrame(packageinfo)\n",
    "dfpackage.head()"
   ]
  },
  {
   "cell_type": "markdown",
   "metadata": {
    "slideshow": {
     "slide_type": "subslide"
    }
   },
   "source": [
    "from end to end, then, we have the following `python` code to parse this entire table:"
   ]
  },
  {
   "cell_type": "code",
   "execution_count": 78,
   "metadata": {
    "slideshow": {
     "slide_type": "subslide"
    }
   },
   "outputs": [
    {
     "data": {
      "text/html": [
       "<div>\n",
       "<style>\n",
       "    .dataframe thead tr:only-child th {\n",
       "        text-align: right;\n",
       "    }\n",
       "\n",
       "    .dataframe thead th {\n",
       "        text-align: left;\n",
       "    }\n",
       "\n",
       "    .dataframe tbody tr th {\n",
       "        vertical-align: top;\n",
       "    }\n",
       "</style>\n",
       "<table border=\"1\" class=\"dataframe\">\n",
       "  <thead>\n",
       "    <tr style=\"text-align: right;\">\n",
       "      <th></th>\n",
       "      <th>access</th>\n",
       "      <th>packagelink</th>\n",
       "      <th>packagename</th>\n",
       "      <th>summary</th>\n",
       "      <th>updated</th>\n",
       "    </tr>\n",
       "  </thead>\n",
       "  <tbody>\n",
       "    <tr>\n",
       "      <th>0</th>\n",
       "      <td>public</td>\n",
       "      <td>/anaconda/anaconda</td>\n",
       "      <td>anaconda</td>\n",
       "      <td>Simplifies package management and deployment o...</td>\n",
       "      <td>2017-10-01</td>\n",
       "    </tr>\n",
       "    <tr>\n",
       "      <th>1</th>\n",
       "      <td>public</td>\n",
       "      <td>/anaconda/python</td>\n",
       "      <td>python</td>\n",
       "      <td>general purpose programming language</td>\n",
       "      <td>2017-09-30</td>\n",
       "    </tr>\n",
       "    <tr>\n",
       "      <th>2</th>\n",
       "      <td>public</td>\n",
       "      <td>/anaconda/conda-build</td>\n",
       "      <td>conda-build</td>\n",
       "      <td>tools for building conda packages</td>\n",
       "      <td>2017-09-29</td>\n",
       "    </tr>\n",
       "    <tr>\n",
       "      <th>3</th>\n",
       "      <td>public</td>\n",
       "      <td>/anaconda/xar</td>\n",
       "      <td>xar</td>\n",
       "      <td>eXtensible ARchiver</td>\n",
       "      <td>2017-09-29</td>\n",
       "    </tr>\n",
       "    <tr>\n",
       "      <th>4</th>\n",
       "      <td>public</td>\n",
       "      <td>/anaconda/wget</td>\n",
       "      <td>wget</td>\n",
       "      <td>No Summary</td>\n",
       "      <td>2017-09-29</td>\n",
       "    </tr>\n",
       "  </tbody>\n",
       "</table>\n",
       "</div>"
      ],
      "text/plain": [
       "   access            packagelink  packagename  \\\n",
       "0  public     /anaconda/anaconda     anaconda   \n",
       "1  public       /anaconda/python       python   \n",
       "2  public  /anaconda/conda-build  conda-build   \n",
       "3  public          /anaconda/xar          xar   \n",
       "4  public         /anaconda/wget         wget   \n",
       "\n",
       "                                             summary    updated  \n",
       "0  Simplifies package management and deployment o... 2017-10-01  \n",
       "1               general purpose programming language 2017-09-30  \n",
       "2                  tools for building conda packages 2017-09-29  \n",
       "3                                eXtensible ARchiver 2017-09-29  \n",
       "4                                         No Summary 2017-09-29  "
      ]
     },
     "execution_count": 78,
     "metadata": {},
     "output_type": "execute_result"
    }
   ],
   "source": [
    "def parse_row(elem):\n",
    "    packageelem, accesselem, summaryelem, updatedelem = elem.getchildren()\n",
    "    return {\n",
    "        'packagelink': packageelem.find('a').attrib['href'],\n",
    "        'packagename': packageelem.find('a/span').text,\n",
    "        'access': accesselem.text,\n",
    "        'summary': summaryelem.text.strip(),\n",
    "        'updated': datetime.datetime.strptime(updatedelem.text, '%Y-%m-%d'),\n",
    "    }\n",
    "\n",
    "def get_packages():\n",
    "    response = requests.get(url='https://anaconda.org/anaconda/repo')\n",
    "    root = lxml.html.fromstring(response.text)\n",
    "    return pd.DataFrame([\n",
    "        parse_row(row)\n",
    "        for row in root.xpath('//table[@id=\"repo-packages-table\"]/tbody/tr')\n",
    "    ])\n",
    "\n",
    "dfpackage = get_packages()\n",
    "dfpackage.head()"
   ]
  },
  {
   "cell_type": "markdown",
   "metadata": {
    "slideshow": {
     "slide_type": "slide"
    }
   },
   "source": [
    "### `css` selection\n",
    "\n",
    "as you saw above, we were generally referring to the `class` or `id` elements of `html` tag elements -- well, that's almost identical to what is done in `css`."
   ]
  },
  {
   "cell_type": "markdown",
   "metadata": {
    "slideshow": {
     "slide_type": "subslide"
    }
   },
   "source": [
    "we can use the `cssselect` (three `s` characters there) to do the `css` selection. repeating the selection of *just* the \"Package Name\" column is easy to reproduce\n",
    "\n",
    "*note: we will reuse the `lxml.html` object from before*"
   ]
  },
  {
   "cell_type": "code",
   "execution_count": 68,
   "metadata": {
    "ExecuteTime": {
     "end_time": "2017-05-29T20:29:01.666896Z",
     "start_time": "2017-05-29T20:29:01.644927Z"
    },
    "slideshow": {
     "slide_type": "-"
    }
   },
   "outputs": [
    {
     "data": {
      "text/plain": [
       "['anaconda', 'python', 'conda-build', 'xar', 'wget']"
      ]
     },
     "execution_count": 68,
     "metadata": {},
     "output_type": "execute_result"
    }
   ],
   "source": [
    "packageElems = root.cssselect('.packageName')\n",
    "packages = [elem.text for elem in packageElems]\n",
    "packages[:5]"
   ]
  },
  {
   "cell_type": "markdown",
   "metadata": {
    "slideshow": {
     "slide_type": "subslide"
    }
   },
   "source": [
    "the selection of the table element is also trivial. we can use the `#` character to select based on the `id` value, and the `tr` element to select a descendent of that selected table"
   ]
  },
  {
   "cell_type": "code",
   "execution_count": 72,
   "metadata": {
    "ExecuteTime": {
     "end_time": "2017-05-29T20:29:02.281904Z",
     "start_time": "2017-05-29T20:29:02.272074Z"
    },
    "slideshow": {
     "slide_type": "-"
    }
   },
   "outputs": [
    {
     "name": "stdout",
     "output_type": "stream",
     "text": [
      "we found 51 rows\n"
     ]
    },
    {
     "data": {
      "text/plain": [
       "[<Element tr at 0x7f825468d4a8>,\n",
       " <Element tr at 0x7f8248106d18>,\n",
       " <Element tr at 0x7f8248106ef8>,\n",
       " <Element tr at 0x7f8248106f48>,\n",
       " <Element tr at 0x7f8248106f98>]"
      ]
     },
     "execution_count": 72,
     "metadata": {},
     "output_type": "execute_result"
    }
   ],
   "source": [
    "rows = root.cssselect('table#repo-packages-table tr')\n",
    "print('we found {} rows'.format(len(rows)))\n",
    "\n",
    "rows[:5]"
   ]
  },
  {
   "cell_type": "markdown",
   "metadata": {
    "slideshow": {
     "slide_type": "subslide"
    }
   },
   "source": [
    "notice something weird?"
   ]
  },
  {
   "cell_type": "markdown",
   "metadata": {
    "slideshow": {
     "slide_type": "subslide"
    }
   },
   "source": [
    "that `css` selection grabbed 51 rows, but we were only supposed to have 50. our \"any descendant\" selector picked up the header as well. not cool!\n",
    "\n",
    "let's be more specific"
   ]
  },
  {
   "cell_type": "code",
   "execution_count": 73,
   "metadata": {
    "ExecuteTime": {
     "end_time": "2017-05-29T20:29:02.281904Z",
     "start_time": "2017-05-29T20:29:02.272074Z"
    },
    "slideshow": {
     "slide_type": "-"
    }
   },
   "outputs": [
    {
     "name": "stdout",
     "output_type": "stream",
     "text": [
      "we found 50 rows\n"
     ]
    },
    {
     "data": {
      "text/plain": [
       "[<Element tr at 0x7f8248106d18>,\n",
       " <Element tr at 0x7f8248106ef8>,\n",
       " <Element tr at 0x7f8248106f48>,\n",
       " <Element tr at 0x7f8248106f98>,\n",
       " <Element tr at 0x7f824808f048>]"
      ]
     },
     "execution_count": 73,
     "metadata": {},
     "output_type": "execute_result"
    }
   ],
   "source": [
    "rows = root.cssselect('table#repo-packages-table tbody tr')\n",
    "print('we found {} rows'.format(len(rows)))\n",
    "\n",
    "rows[:5]"
   ]
  },
  {
   "cell_type": "markdown",
   "metadata": {
    "slideshow": {
     "slide_type": "subslide"
    }
   },
   "source": [
    "we can reproduce the entire earlier behavior with `css` selectors:"
   ]
  },
  {
   "cell_type": "code",
   "execution_count": 77,
   "metadata": {
    "slideshow": {
     "slide_type": "subslide"
    }
   },
   "outputs": [
    {
     "data": {
      "text/html": [
       "<div>\n",
       "<style>\n",
       "    .dataframe thead tr:only-child th {\n",
       "        text-align: right;\n",
       "    }\n",
       "\n",
       "    .dataframe thead th {\n",
       "        text-align: left;\n",
       "    }\n",
       "\n",
       "    .dataframe tbody tr th {\n",
       "        vertical-align: top;\n",
       "    }\n",
       "</style>\n",
       "<table border=\"1\" class=\"dataframe\">\n",
       "  <thead>\n",
       "    <tr style=\"text-align: right;\">\n",
       "      <th></th>\n",
       "      <th>access</th>\n",
       "      <th>packagelink</th>\n",
       "      <th>packagename</th>\n",
       "      <th>summary</th>\n",
       "      <th>updated</th>\n",
       "    </tr>\n",
       "  </thead>\n",
       "  <tbody>\n",
       "    <tr>\n",
       "      <th>0</th>\n",
       "      <td>public</td>\n",
       "      <td>/anaconda/anaconda</td>\n",
       "      <td>anaconda</td>\n",
       "      <td>Simplifies package management and deployment o...</td>\n",
       "      <td>2017-10-01</td>\n",
       "    </tr>\n",
       "    <tr>\n",
       "      <th>1</th>\n",
       "      <td>public</td>\n",
       "      <td>/anaconda/python</td>\n",
       "      <td>python</td>\n",
       "      <td>general purpose programming language</td>\n",
       "      <td>2017-09-30</td>\n",
       "    </tr>\n",
       "    <tr>\n",
       "      <th>2</th>\n",
       "      <td>public</td>\n",
       "      <td>/anaconda/conda-build</td>\n",
       "      <td>conda-build</td>\n",
       "      <td>tools for building conda packages</td>\n",
       "      <td>2017-09-29</td>\n",
       "    </tr>\n",
       "    <tr>\n",
       "      <th>3</th>\n",
       "      <td>public</td>\n",
       "      <td>/anaconda/xar</td>\n",
       "      <td>xar</td>\n",
       "      <td>eXtensible ARchiver</td>\n",
       "      <td>2017-09-29</td>\n",
       "    </tr>\n",
       "    <tr>\n",
       "      <th>4</th>\n",
       "      <td>public</td>\n",
       "      <td>/anaconda/wget</td>\n",
       "      <td>wget</td>\n",
       "      <td>No Summary</td>\n",
       "      <td>2017-09-29</td>\n",
       "    </tr>\n",
       "  </tbody>\n",
       "</table>\n",
       "</div>"
      ],
      "text/plain": [
       "   access            packagelink  packagename  \\\n",
       "0  public     /anaconda/anaconda     anaconda   \n",
       "1  public       /anaconda/python       python   \n",
       "2  public  /anaconda/conda-build  conda-build   \n",
       "3  public          /anaconda/xar          xar   \n",
       "4  public         /anaconda/wget         wget   \n",
       "\n",
       "                                             summary    updated  \n",
       "0  Simplifies package management and deployment o... 2017-10-01  \n",
       "1               general purpose programming language 2017-09-30  \n",
       "2                  tools for building conda packages 2017-09-29  \n",
       "3                                eXtensible ARchiver 2017-09-29  \n",
       "4                                         No Summary 2017-09-29  "
      ]
     },
     "execution_count": 77,
     "metadata": {},
     "output_type": "execute_result"
    }
   ],
   "source": [
    "def parse_row(elem):\n",
    "    packageelem, accesselem, summaryelem, updatedelem = elem.getchildren()\n",
    "    return {\n",
    "        'packagelink': packageelem.cssselect('a')[0].attrib['href'],\n",
    "        'packagename': packageelem.cssselect('a span')[0].text,\n",
    "        'access': accesselem.text,\n",
    "        'summary': summaryelem.text.strip(),\n",
    "        'updated': datetime.datetime.strptime(updatedelem.text, '%Y-%m-%d'),\n",
    "    }\n",
    "\n",
    "def get_packages():\n",
    "    response = requests.get(url='https://anaconda.org/anaconda/repo')\n",
    "    root = lxml.html.fromstring(response.text)\n",
    "    return pd.DataFrame([\n",
    "        parse_row(row)\n",
    "        for row in root.cssselect('table#repo-packages-table tbody tr')\n",
    "    ])\n",
    "\n",
    "dfpackage = get_packages()\n",
    "dfpackage.head()"
   ]
  },
  {
   "cell_type": "markdown",
   "metadata": {
    "slideshow": {
     "slide_type": "slide"
    }
   },
   "source": [
    "## `POST` requests"
   ]
  },
  {
   "cell_type": "markdown",
   "metadata": {
    "slideshow": {
     "slide_type": "subslide"
    }
   },
   "source": [
    "sometimes a `POST` request is basically the same as `GET` request -- point at a `url` and yell `POST` instead of `GET` and you're done.\n",
    "\n",
    "generally speaking, though, we are *also* sending data along with our `POST` request"
   ]
  },
  {
   "cell_type": "markdown",
   "metadata": {
    "slideshow": {
     "slide_type": "subslide"
    }
   },
   "source": [
    "far and away, the most common use case for `POST` requests is submitting data via `html` forms (e.g. login forms, uploads, submission forms). \n",
    "\n",
    "as a quick and simple example of a `POST` request, let's check out the submission api for [github gist](https://gist.github.com/RZachLamberty) (a place to host small snippets of code instead of full repos):\n",
    "\n",
    "https://developer.github.com/v3/gists/#create-a-gist"
   ]
  },
  {
   "cell_type": "markdown",
   "metadata": {
    "slideshow": {
     "slide_type": "subslide"
    }
   },
   "source": [
    "so, we have the ability to create a new gist via an automated `POST` message. let's do that!\n",
    "\n",
    "our first task is to build the data object in that gist. It looks like a dictionary, so let's just see if that works."
   ]
  },
  {
   "cell_type": "code",
   "execution_count": 79,
   "metadata": {
    "collapsed": true,
    "slideshow": {
     "slide_type": "subslide"
    }
   },
   "outputs": [],
   "source": [
    "data = {\n",
    "    'description': 'a test post of a gist',\n",
    "    'public': True,\n",
    "    'files': {\n",
    "        'my_test_file.py': {\n",
    "            'content': \"print('hello world')\"\n",
    "        }\n",
    "    }\n",
    "}"
   ]
  },
  {
   "cell_type": "markdown",
   "metadata": {
    "slideshow": {
     "slide_type": "subslide"
    }
   },
   "source": [
    "we can post this information using the `requests.post` function. we could either convert the `data` element to `json` using the `python json.dumps` function, or we could let `requests` do it for us via the `json` parameter."
   ]
  },
  {
   "cell_type": "code",
   "execution_count": 95,
   "metadata": {
    "slideshow": {
     "slide_type": "-"
    }
   },
   "outputs": [
    {
     "data": {
      "text/plain": [
       "201"
      ]
     },
     "execution_count": 95,
     "metadata": {},
     "output_type": "execute_result"
    }
   ],
   "source": [
    "resp = requests.post(\n",
    "    url=\"https://api.github.com/gists\",\n",
    "    json=data\n",
    ")\n",
    "resp.status_code"
   ]
  },
  {
   "cell_type": "markdown",
   "metadata": {
    "slideshow": {
     "slide_type": "subslide"
    }
   },
   "source": [
    "and our results (click on the link!):"
   ]
  },
  {
   "cell_type": "code",
   "execution_count": 98,
   "metadata": {
    "slideshow": {
     "slide_type": "-"
    }
   },
   "outputs": [
    {
     "name": "stdout",
     "output_type": "stream",
     "text": [
      "https://gist.github.com/3c32fb3eacff5d7b78ea5c05c00f351e\n"
     ]
    },
    {
     "data": {
      "text/plain": [
       "{'comments': 0,\n",
       " 'comments_url': 'https://api.github.com/gists/3c32fb3eacff5d7b78ea5c05c00f351e/comments',\n",
       " 'commits_url': 'https://api.github.com/gists/3c32fb3eacff5d7b78ea5c05c00f351e/commits',\n",
       " 'created_at': '2017-10-04T04:23:28Z',\n",
       " 'description': 'a test post of a gist',\n",
       " 'files': {'my_test_file.py': {'content': \"print('hello world')\",\n",
       "   'filename': 'my_test_file.py',\n",
       "   'language': 'Python',\n",
       "   'raw_url': 'https://gist.githubusercontent.com/anonymous/3c32fb3eacff5d7b78ea5c05c00f351e/raw/00950d9ac57ceeabf45f9120c2615199746d35fb/my_test_file.py',\n",
       "   'size': 20,\n",
       "   'truncated': False,\n",
       "   'type': 'application/x-python'}},\n",
       " 'forks': [],\n",
       " 'forks_url': 'https://api.github.com/gists/3c32fb3eacff5d7b78ea5c05c00f351e/forks',\n",
       " 'git_pull_url': 'https://gist.github.com/3c32fb3eacff5d7b78ea5c05c00f351e.git',\n",
       " 'git_push_url': 'https://gist.github.com/3c32fb3eacff5d7b78ea5c05c00f351e.git',\n",
       " 'history': [{'change_status': {'additions': 1, 'deletions': 0, 'total': 1},\n",
       "   'committed_at': '2017-10-04T04:23:28Z',\n",
       "   'url': 'https://api.github.com/gists/3c32fb3eacff5d7b78ea5c05c00f351e/2c615d48dad7f184bc04743b673aafb8e6fd1841',\n",
       "   'user': {'avatar_url': 'https://avatars0.githubusercontent.com/u/148100?v=4',\n",
       "    'events_url': 'https://api.github.com/users/invalid-email-address/events{/privacy}',\n",
       "    'followers_url': 'https://api.github.com/users/invalid-email-address/followers',\n",
       "    'following_url': 'https://api.github.com/users/invalid-email-address/following{/other_user}',\n",
       "    'gists_url': 'https://api.github.com/users/invalid-email-address/gists{/gist_id}',\n",
       "    'gravatar_id': '',\n",
       "    'html_url': 'https://github.com/invalid-email-address',\n",
       "    'id': 148100,\n",
       "    'login': 'invalid-email-address',\n",
       "    'organizations_url': 'https://api.github.com/users/invalid-email-address/orgs',\n",
       "    'received_events_url': 'https://api.github.com/users/invalid-email-address/received_events',\n",
       "    'repos_url': 'https://api.github.com/users/invalid-email-address/repos',\n",
       "    'site_admin': False,\n",
       "    'starred_url': 'https://api.github.com/users/invalid-email-address/starred{/owner}{/repo}',\n",
       "    'subscriptions_url': 'https://api.github.com/users/invalid-email-address/subscriptions',\n",
       "    'type': 'User',\n",
       "    'url': 'https://api.github.com/users/invalid-email-address'},\n",
       "   'version': '2c615d48dad7f184bc04743b673aafb8e6fd1841'}],\n",
       " 'html_url': 'https://gist.github.com/3c32fb3eacff5d7b78ea5c05c00f351e',\n",
       " 'id': '3c32fb3eacff5d7b78ea5c05c00f351e',\n",
       " 'public': True,\n",
       " 'truncated': False,\n",
       " 'updated_at': '2017-10-04T04:23:28Z',\n",
       " 'url': 'https://api.github.com/gists/3c32fb3eacff5d7b78ea5c05c00f351e',\n",
       " 'user': None}"
      ]
     },
     "execution_count": 98,
     "metadata": {},
     "output_type": "execute_result"
    }
   ],
   "source": [
    "j = resp.json()\n",
    "print(j['html_url'])\n",
    "j"
   ]
  },
  {
   "cell_type": "markdown",
   "metadata": {
    "slideshow": {
     "slide_type": "subslide"
    }
   },
   "source": [
    "### once more, with ~~feeling~~ authentication\n",
    "\n",
    "fundamentally, a `POST` request is allowing users to add some data to some data source. github did us a pretty big solid up above -- allowing us to `POST` as an anonymous user.\n",
    "\n",
    "pretty often, though, we'll need to authenticate before we can make a `POST` request."
   ]
  },
  {
   "cell_type": "markdown",
   "metadata": {
    "slideshow": {
     "slide_type": "subslide"
    }
   },
   "source": [
    "remember the `boto3` library `session` objects which we created to encapsulate information that applied to all of our requests? and do you remember that one of the things we specified in the `session` -- so we didn't have to specify it every time we called one of our functions -- was our credentials?\n",
    "\n",
    "you'll never believe what's I'm about to say."
   ]
  },
  {
   "cell_type": "markdown",
   "metadata": {
    "slideshow": {
     "slide_type": "subslide"
    }
   },
   "source": [
    "adding credentials or authentication to a re-usable `session` object is actual a construct from the `requests` library (and almost any other web request library)."
   ]
  },
  {
   "cell_type": "markdown",
   "metadata": {
    "slideshow": {
     "slide_type": "subslide"
    }
   },
   "source": [
    "as with `boto`, we could authenticate every `requests.post` function or we could create a single authenticated `session` and authenticate that"
   ]
  },
  {
   "cell_type": "code",
   "execution_count": 102,
   "metadata": {
    "scrolled": true,
    "slideshow": {
     "slide_type": "-"
    }
   },
   "outputs": [
    {
     "name": "stdout",
     "output_type": "stream",
     "text": [
      "Help on class Request in module requests.models:\n",
      "\n",
      "class Request(RequestHooksMixin)\n",
      " |  A user-created :class:`Request <Request>` object.\n",
      " |  \n",
      " |  Used to prepare a :class:`PreparedRequest <PreparedRequest>`, which is sent to the server.\n",
      " |  \n",
      " |  :param method: HTTP method to use.\n",
      " |  :param url: URL to send.\n",
      " |  :param headers: dictionary of headers to send.\n",
      " |  :param files: dictionary of {filename: fileobject} files to multipart upload.\n",
      " |  :param data: the body to attach to the request. If a dictionary is provided, form-encoding will take place.\n",
      " |  :param json: json for the body to attach to the request (if files or data is not specified).\n",
      " |  :param params: dictionary of URL parameters to append to the URL.\n",
      " |  :param auth: Auth handler or (user, pass) tuple.\n",
      " |  :param cookies: dictionary or CookieJar of cookies to attach to this request.\n",
      " |  :param hooks: dictionary of callback hooks, for internal usage.\n",
      " |  \n",
      " |  Usage::\n",
      " |  \n",
      " |    >>> import requests\n",
      " |    >>> req = requests.Request('GET', 'http://httpbin.org/get')\n",
      " |    >>> req.prepare()\n",
      " |    <PreparedRequest [GET]>\n",
      " |  \n",
      " |  Method resolution order:\n",
      " |      Request\n",
      " |      RequestHooksMixin\n",
      " |      builtins.object\n",
      " |  \n",
      " |  Methods defined here:\n",
      " |  \n",
      " |  __init__(self, method=None, url=None, headers=None, files=None, data=None, params=None, auth=None, cookies=None, hooks=None, json=None)\n",
      " |      Initialize self.  See help(type(self)) for accurate signature.\n",
      " |  \n",
      " |  __repr__(self)\n",
      " |      Return repr(self).\n",
      " |  \n",
      " |  prepare(self)\n",
      " |      Constructs a :class:`PreparedRequest <PreparedRequest>` for transmission and returns it.\n",
      " |  \n",
      " |  ----------------------------------------------------------------------\n",
      " |  Methods inherited from RequestHooksMixin:\n",
      " |  \n",
      " |  deregister_hook(self, event, hook)\n",
      " |      Deregister a previously registered hook.\n",
      " |      Returns True if the hook existed, False if not.\n",
      " |  \n",
      " |  register_hook(self, event, hook)\n",
      " |      Properly register a hook.\n",
      " |  \n",
      " |  ----------------------------------------------------------------------\n",
      " |  Data descriptors inherited from RequestHooksMixin:\n",
      " |  \n",
      " |  __dict__\n",
      " |      dictionary for instance variables (if defined)\n",
      " |  \n",
      " |  __weakref__\n",
      " |      list of weak references to the object (if defined)\n",
      "\n"
     ]
    }
   ],
   "source": [
    "# check out `auth` below\n",
    "help(requests.Request)"
   ]
  },
  {
   "cell_type": "markdown",
   "metadata": {
    "slideshow": {
     "slide_type": "subslide"
    }
   },
   "source": [
    "github gists support this as well, so let's do it! enter your user name and password below:"
   ]
  },
  {
   "cell_type": "code",
   "execution_count": 107,
   "metadata": {
    "slideshow": {
     "slide_type": "-"
    }
   },
   "outputs": [
    {
     "name": "stdout",
     "output_type": "stream",
     "text": [
      "Password: ········\n"
     ]
    }
   ],
   "source": [
    "import getpass\n",
    "\n",
    "username = 'rzachlamberty'\n",
    "pw = getpass.getpass('Password: ')"
   ]
  },
  {
   "cell_type": "markdown",
   "metadata": {
    "slideshow": {
     "slide_type": "subslide"
    }
   },
   "source": [
    "and now, just use that user name and password directly in the call to the github `POST` function"
   ]
  },
  {
   "cell_type": "code",
   "execution_count": 108,
   "metadata": {
    "slideshow": {
     "slide_type": "-"
    }
   },
   "outputs": [
    {
     "data": {
      "text/plain": [
       "201"
      ]
     },
     "execution_count": 108,
     "metadata": {},
     "output_type": "execute_result"
    }
   ],
   "source": [
    "resp = requests.post(\n",
    "    url=\"https://api.github.com/gists\",\n",
    "    json=data,\n",
    "    auth=(username, pw)\n",
    ")\n",
    "resp.status_code"
   ]
  },
  {
   "cell_type": "markdown",
   "metadata": {
    "slideshow": {
     "slide_type": "subslide"
    }
   },
   "source": [
    "and our results (click on the link!):"
   ]
  },
  {
   "cell_type": "code",
   "execution_count": 109,
   "metadata": {
    "slideshow": {
     "slide_type": "-"
    }
   },
   "outputs": [
    {
     "name": "stdout",
     "output_type": "stream",
     "text": [
      "https://gist.github.com/a743b312f1e5396e687b0124bc758c3d\n"
     ]
    },
    {
     "data": {
      "text/plain": [
       "{'comments': 0,\n",
       " 'comments_url': 'https://api.github.com/gists/a743b312f1e5396e687b0124bc758c3d/comments',\n",
       " 'commits_url': 'https://api.github.com/gists/a743b312f1e5396e687b0124bc758c3d/commits',\n",
       " 'created_at': '2017-10-04T04:36:27Z',\n",
       " 'description': 'a test post of a gist',\n",
       " 'files': {'my_test_file.py': {'content': \"print('hello world')\",\n",
       "   'filename': 'my_test_file.py',\n",
       "   'language': 'Python',\n",
       "   'raw_url': 'https://gist.githubusercontent.com/RZachLamberty/a743b312f1e5396e687b0124bc758c3d/raw/00950d9ac57ceeabf45f9120c2615199746d35fb/my_test_file.py',\n",
       "   'size': 20,\n",
       "   'truncated': False,\n",
       "   'type': 'application/x-python'}},\n",
       " 'forks': [],\n",
       " 'forks_url': 'https://api.github.com/gists/a743b312f1e5396e687b0124bc758c3d/forks',\n",
       " 'git_pull_url': 'https://gist.github.com/a743b312f1e5396e687b0124bc758c3d.git',\n",
       " 'git_push_url': 'https://gist.github.com/a743b312f1e5396e687b0124bc758c3d.git',\n",
       " 'history': [{'change_status': {'additions': 1, 'deletions': 0, 'total': 1},\n",
       "   'committed_at': '2017-10-04T04:36:27Z',\n",
       "   'url': 'https://api.github.com/gists/a743b312f1e5396e687b0124bc758c3d/9fec671ca5feb8d77385006e7b649b73cb38b087',\n",
       "   'user': {'avatar_url': 'https://avatars1.githubusercontent.com/u/6100896?v=4',\n",
       "    'events_url': 'https://api.github.com/users/RZachLamberty/events{/privacy}',\n",
       "    'followers_url': 'https://api.github.com/users/RZachLamberty/followers',\n",
       "    'following_url': 'https://api.github.com/users/RZachLamberty/following{/other_user}',\n",
       "    'gists_url': 'https://api.github.com/users/RZachLamberty/gists{/gist_id}',\n",
       "    'gravatar_id': '',\n",
       "    'html_url': 'https://github.com/RZachLamberty',\n",
       "    'id': 6100896,\n",
       "    'login': 'RZachLamberty',\n",
       "    'organizations_url': 'https://api.github.com/users/RZachLamberty/orgs',\n",
       "    'received_events_url': 'https://api.github.com/users/RZachLamberty/received_events',\n",
       "    'repos_url': 'https://api.github.com/users/RZachLamberty/repos',\n",
       "    'site_admin': False,\n",
       "    'starred_url': 'https://api.github.com/users/RZachLamberty/starred{/owner}{/repo}',\n",
       "    'subscriptions_url': 'https://api.github.com/users/RZachLamberty/subscriptions',\n",
       "    'type': 'User',\n",
       "    'url': 'https://api.github.com/users/RZachLamberty'},\n",
       "   'version': '9fec671ca5feb8d77385006e7b649b73cb38b087'}],\n",
       " 'html_url': 'https://gist.github.com/a743b312f1e5396e687b0124bc758c3d',\n",
       " 'id': 'a743b312f1e5396e687b0124bc758c3d',\n",
       " 'owner': {'avatar_url': 'https://avatars1.githubusercontent.com/u/6100896?v=4',\n",
       "  'events_url': 'https://api.github.com/users/RZachLamberty/events{/privacy}',\n",
       "  'followers_url': 'https://api.github.com/users/RZachLamberty/followers',\n",
       "  'following_url': 'https://api.github.com/users/RZachLamberty/following{/other_user}',\n",
       "  'gists_url': 'https://api.github.com/users/RZachLamberty/gists{/gist_id}',\n",
       "  'gravatar_id': '',\n",
       "  'html_url': 'https://github.com/RZachLamberty',\n",
       "  'id': 6100896,\n",
       "  'login': 'RZachLamberty',\n",
       "  'organizations_url': 'https://api.github.com/users/RZachLamberty/orgs',\n",
       "  'received_events_url': 'https://api.github.com/users/RZachLamberty/received_events',\n",
       "  'repos_url': 'https://api.github.com/users/RZachLamberty/repos',\n",
       "  'site_admin': False,\n",
       "  'starred_url': 'https://api.github.com/users/RZachLamberty/starred{/owner}{/repo}',\n",
       "  'subscriptions_url': 'https://api.github.com/users/RZachLamberty/subscriptions',\n",
       "  'type': 'User',\n",
       "  'url': 'https://api.github.com/users/RZachLamberty'},\n",
       " 'public': True,\n",
       " 'truncated': False,\n",
       " 'updated_at': '2017-10-04T04:36:27Z',\n",
       " 'url': 'https://api.github.com/gists/a743b312f1e5396e687b0124bc758c3d',\n",
       " 'user': None}"
      ]
     },
     "execution_count": 109,
     "metadata": {},
     "output_type": "execute_result"
    }
   ],
   "source": [
    "j = resp.json()\n",
    "print(j['html_url'])\n",
    "j"
   ]
  },
  {
   "cell_type": "markdown",
   "metadata": {
    "slideshow": {
     "slide_type": "slide"
    }
   },
   "source": [
    "## `javascript` engines and `selenium`\n",
    "\n",
    "sometimes a simple request is not enough. A good example is `cnn.com`, where one must scroll through the page to load new stories."
   ]
  },
  {
   "cell_type": "code",
   "execution_count": 57,
   "metadata": {
    "ExecuteTime": {
     "end_time": "2017-05-29T20:45:01.825662Z",
     "start_time": "2017-05-29T20:45:01.737348Z"
    }
   },
   "outputs": [
    {
     "data": {
      "text/plain": [
       "{'d': [{'CustomersAffected': '12',\n",
       "   'Latitide': 0,\n",
       "   'Longitide': 0,\n",
       "   'Name': 'BRIDGEWATER',\n",
       "   'NumberOfCustomersServed': '966',\n",
       "   'PercentageCustomersAffected': 1.24,\n",
       "   'ReportDate': '5/29/2017 4:32:16 PM',\n",
       "   'StateTotalCustomersServed': 1264715,\n",
       "   '__type': 'NU.Web.OutageMap.TownOutageInfo'},\n",
       "  {'CustomersAffected': '1',\n",
       "   'Latitide': 0,\n",
       "   'Longitide': 0,\n",
       "   'Name': 'DANBURY',\n",
       "   'NumberOfCustomersServed': '36260',\n",
       "   'PercentageCustomersAffected': 0,\n",
       "   'ReportDate': '5/29/2017 4:32:16 PM',\n",
       "   'StateTotalCustomersServed': 1264715,\n",
       "   '__type': 'NU.Web.OutageMap.TownOutageInfo'},\n",
       "  {'CustomersAffected': '14',\n",
       "   'Latitide': 0,\n",
       "   'Longitide': 0,\n",
       "   'Name': 'GREENWICH',\n",
       "   'NumberOfCustomersServed': '27995',\n",
       "   'PercentageCustomersAffected': 0.05,\n",
       "   'ReportDate': '5/29/2017 4:32:16 PM',\n",
       "   'StateTotalCustomersServed': 1264715,\n",
       "   '__type': 'NU.Web.OutageMap.TownOutageInfo'},\n",
       "  {'CustomersAffected': '3',\n",
       "   'Latitide': 0,\n",
       "   'Longitide': 0,\n",
       "   'Name': 'NORTH CANAAN',\n",
       "   'NumberOfCustomersServed': '1471',\n",
       "   'PercentageCustomersAffected': 0.2,\n",
       "   'ReportDate': '5/29/2017 4:32:16 PM',\n",
       "   'StateTotalCustomersServed': 1264715,\n",
       "   '__type': 'NU.Web.OutageMap.TownOutageInfo'},\n",
       "  {'CustomersAffected': '28',\n",
       "   'Latitide': 0,\n",
       "   'Longitide': 0,\n",
       "   'Name': 'OXFORD',\n",
       "   'NumberOfCustomersServed': '5379',\n",
       "   'PercentageCustomersAffected': 0.52,\n",
       "   'ReportDate': '5/29/2017 4:32:16 PM',\n",
       "   'StateTotalCustomersServed': 1264715,\n",
       "   '__type': 'NU.Web.OutageMap.TownOutageInfo'},\n",
       "  {'CustomersAffected': '6',\n",
       "   'Latitide': 0,\n",
       "   'Longitide': 0,\n",
       "   'Name': 'SEYMOUR',\n",
       "   'NumberOfCustomersServed': '7549',\n",
       "   'PercentageCustomersAffected': 0.08,\n",
       "   'ReportDate': '5/29/2017 4:32:16 PM',\n",
       "   'StateTotalCustomersServed': 1264715,\n",
       "   '__type': 'NU.Web.OutageMap.TownOutageInfo'}]}"
      ]
     },
     "execution_count": 57,
     "metadata": {},
     "output_type": "execute_result"
    }
   ],
   "source": [
    "import requests\n",
    "\n",
    "resp = requests.post(\n",
    "    url='https://www.eversource.com/clp/outage/services/OutageData.asmx/AllOutageData', \n",
    "    headers={'content-type': 'application/json'}\n",
    ")\n",
    "\n",
    "resp.json()"
   ]
  },
  {
   "cell_type": "markdown",
   "metadata": {},
   "source": [
    "# scrape naysh y'all\n",
    "https://i.redd.it/sijtr7lf298x.png"
   ]
  },
  {
   "cell_type": "markdown",
   "metadata": {},
   "source": []
  },
  {
   "cell_type": "markdown",
   "metadata": {},
   "source": []
  },
  {
   "cell_type": "markdown",
   "metadata": {},
   "source": []
  },
  {
   "cell_type": "markdown",
   "metadata": {},
   "source": []
  },
  {
   "cell_type": "markdown",
   "metadata": {},
   "source": []
  },
  {
   "cell_type": "markdown",
   "metadata": {},
   "source": []
  }
 ],
 "metadata": {
  "celltoolbar": "Slideshow",
  "kernelspec": {
   "display_name": "Python 3",
   "language": "python",
   "name": "python3"
  },
  "language_info": {
   "codemirror_mode": {
    "name": "ipython",
    "version": 3
   },
   "file_extension": ".py",
   "mimetype": "text/x-python",
   "name": "python",
   "nbconvert_exporter": "python",
   "pygments_lexer": "ipython3",
   "version": "3.6.2"
  },
  "toc": {
   "toc_cell": false,
   "toc_number_sections": true,
   "toc_threshold": 6,
   "toc_window_display": false
  }
 },
 "nbformat": 4,
 "nbformat_minor": 2
}

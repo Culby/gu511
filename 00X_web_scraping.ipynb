{
 "cells": [
  {
   "cell_type": "markdown",
   "metadata": {
    "collapsed": true
   },
   "source": [
    "# scrape naysh y'all\n",
    "\n",
    "by the end of this tutorial, you should have all the tools and skills you need to do some \"simple\" web scraping (i.e. static `GET` and `POST` requests only)"
   ]
  },
  {
   "cell_type": "markdown",
   "metadata": {},
   "source": [
    "## basic web-scraping concepts\n",
    "\n",
    "This is by no means an exhaustive summary. there are 7.2 bajillion articles about web scraping and they're probably all better. [Especially the Mozilla ones](https://developer.mozilla.org/en-US/). Also, people always freak out about how bad the W3 pages are (and they are), but they're still (in my opinion) a good beginner's resource. So dont' be afraid to try them out, but be aware that there are some problems.\n",
    "\n",
    "The only thing that is special about this one is that I wrote it and you've been duped into reading it.\n",
    "\n",
    "So enjoy!"
   ]
  },
  {
   "cell_type": "markdown",
   "metadata": {},
   "source": [
    "### requests\n",
    "\n",
    "The basic problem here is that some one out there in the ol' interwebs has put up a pretty page with some data we want, and we need to go get it. The primary action we will be executing is called a `request`. We are trying to make our computer yell at their computer and send us that thing we like. So we need to figure out how to yell in a way that makes their computer happy.\n",
    "\n",
    "Our computers all yell at eachother in a language called HTTP -- you have perhaps heard of it.\n",
    "\n",
    "[There are a ton of details about how to yell](https://developer.mozilla.org/en-US/docs/Web/HTTP), what's appropriate and what isn't, etc. But for our purpose, we basically only care about [`requests`](https://developer.mozilla.org/en-US/docs/Web/HTTP/Methods). There are several different types of yells:\n",
    "\n",
    "+ `GET` -- you want to get a thing and they should give it to you\n",
    "+ `POST` -- you want to send them a thing and they should at least write you a thank you card; if they want to give you something back that's cool but it's not expected (but it's polite, so, that's basically the same as expectation, but with all sorts of passive aggressiveness tacked on)\n",
    "+ `HEAD` -- you want to get a thing but you would prefer it if they just told you about the thing first, like sent you a picture of it or told you how big it was. You may still want to get it at some point but you're just testing the water\n",
    "+ `PUT` -- a really pushy `POST` request, basically they tell us they have a cool painting and we say OUR PAINTING HERE IS BETTER EFF YOURS\n",
    "+ `DELETE` -- actually that painting sucked, our bad\n",
    "+ `CONNECT`, `OPTIONS`, `TRACE`, `PATCH` -- stuff your parents yell to their friends but no one really does any more outside of really formal settings\n",
    "\n",
    "Of these, you basically only need `GET` and `POST`. Like, I had to use a `PUT` once and it was really annoying."
   ]
  },
  {
   "cell_type": "markdown",
   "metadata": {},
   "source": [
    "### data\n",
    "\n",
    "So, suppose you got your computer to yell at their computer and everyone's into it. You say HEY CAN A FELLA `GET` OR WHAT and the other computer said\n",
    "\n",
    "01011001 01100101 11101010 01011100 01001010 00001001 01101101 10111001 \n",
    "00011010 00011010 00101100 00000101 01111111 10110000 01001001 10100111 \n",
    "01010011 01101000 10010010 11110101 00011001 00001000 10100011 01000010 \n",
    "11000111 00110011 00111110 00001000 11110010 10010101 00100101 01101101 \n",
    "10010100 10011011 10111001 01100011 01110101 01111110 00100011 01010111 \n",
    "10101111 10000111 10000101 01100101 00000000 11111110 10110011 11011110 \n",
    "01011110 00100101 01011001 11101110 01101100 01000001 01010000 01101101 \n",
    "01010011 11100010 01111010 10101101 11100011 00000001 01011010 01001010 \n",
    "01000110 01011000 01011110 00000010 00110111 11111101 11001101 00000001 \n",
    "11001101 01111001 10111001 10001010 11100010 11011011 01010100 10101101 \n",
    "11101000 00000011 11110010 00001101 10100001 00101110 11000010 00110010 \n",
    "01001000 11010001 10111000 11101011 01111000 00000100 10000110 10101010 \n",
    "00110001 01111110 00101011 01110010 \n",
    "\n",
    "not cool"
   ]
  },
  {
   "cell_type": "markdown",
   "metadata": {},
   "source": [
    "#### `html`\n",
    "\n",
    "okay so a little cool, it looks like they speak [HyperText Markup Language](https://developer.mozilla.org/en-US/docs/Web/HTML). So at least they're trying. It's a special amalgam of xml-like tag structures that is the backbone of pretty much every single webpage.\n",
    "\n",
    "check out [this example page with simple `html`](http://www.columbia.edu/~fdc/sample.html). Specifically, right click and go to \"view source.\" You can do that on any webpage.\n",
    "\n",
    "Of course, you usually will have more luck using the \"developers tools\" than just viewing source -- in google chrome, try right click > \"Inspect\""
   ]
  },
  {
   "cell_type": "markdown",
   "metadata": {},
   "source": [
    "##### `xpath`\n",
    "\n",
    "[`xpath`](https://msdn.microsoft.com/en-us/library/ms256086(v=vs.110%29.aspx) is a query language for `xml` documents. Given that `html` is effectively a refined subset of `xml`, it's a natural fit for parsing `html` documents. It's a bit more time-tested and battle-worn than `css`, though not really as popular and (in my opinion) not as easy to learn. It's kind of the `C` or `C++` to `css`'s `python`.\n",
    "\n",
    "that being said, it's by far my favorite of the two, and almost always my go-to. Just because I learned it first... and the edge cases are not as strange as the `css` edge cases, in my opinion. That being said, I'd probably recommend *learning* `css` selecting instead.\n",
    "\n",
    "The best way to think of it, in my opinion, is like selecting files on a file system -- you know that somewhere several levels deep inside your root directory there is a folder called `important_files` and that it has a file in it where the extension is `.doc`. You could look for it (using wildcards in the linux world) by typing:\n",
    "\n",
    "```bash\n",
    "find . -name important_files/*.doc\n",
    "```\n",
    "\n",
    "you know that somewhere there's an element that is a child of something and has a property.\n",
    "\n",
    "`xpath` is similar -- you know things about the hierarchy of a document (it's a list item `ul`) and the attributes (it is in the class `zachs_list`), and the `xpath` translation is\n",
    "\n",
    "```html\n",
    "<div>\n",
    "    <ul class=\"zachs_list\">\n",
    "        <li>hello</li>\n",
    "        <li>world</li>\n",
    "    </ul>\n",
    "</div>\n",
    "```\n",
    "\n",
    "```xpath\n",
    ".//ul[@class=\"zachs_list\"]\n",
    "```"
   ]
  },
  {
   "cell_type": "markdown",
   "metadata": {},
   "source": [
    "##### `css`"
   ]
  },
  {
   "cell_type": "markdown",
   "metadata": {},
   "source": [
    "Cascading Style Sheets (*aka* [`css`](https://developer.mozilla.org/en-US/docs/Web/CSS)) is a language for describing how a browser should render `html` documents. they are not a pre-requisite for creating a webpage (styling can be done directly in `html` docs), but websites that don't utilize this language (or some more advanced variant) are few and far between.\n",
    "\n",
    "If you want an example of `css`, you can again refer to the \"Inspect\" screen / \"developers tools.\" \n",
    "\n",
    "+ The entire right panel is dedicated to `css` and `javascript` properties of the highlighted `html` document elements.\n",
    "+ the `Sources` tab of the Inspect window has a lot of files, but all the delivered `css` files are there\n",
    "+ check out the `css` file for [the Elder Research landing page](http://www.elderresearch.com/): [source is here](http://www.elderresearch.com/hs-fs/hub/2176909/hub_generated/template_assets/1491831211917/custom/page/css/vast-style.min.css), but that's not that useful, is it?  \n",
    "\n",
    "So basically, there is a well-established language for telling browsers how to style \"things like this\" -- we can just use the existence of this language and statements such as those to take an `html` document and grab the same sorts of things.\n",
    "\n",
    "```css\n",
    "ul.zachs_list\n",
    "```"
   ]
  },
  {
   "cell_type": "markdown",
   "metadata": {},
   "source": [
    "#### `json`\n",
    "\n",
    "`html` isn't the only way that computers yell at each other, though. There are other languages they yell in, and one of the most common is [JavaScript Object Notation](http://json.org/), or `json` for short.\n",
    "\n",
    "If you're familiar with `python` default data types, `json` can be converted directly to lists, dictionaries, numbers, and strings. My personal favorite example is [the Magic the Gathering `json` webpage](https://mtgjson.com/) ([direct link to example](https://mtgjson.com/json/KLD.json)), but [there are a ton out there](https://github.com/toddmotto/public-apis).\n",
    "\n",
    "There are a million web tutorials out there. Use any of them. They're all better than this.\n",
    "\n",
    "`json` is everywhere. it [has it's detractors](https://codepunk.io/xml-vs-json-why-json-sucks/), but it is essentially the *de facto* data and information transfer protocol on the web."
   ]
  },
  {
   "cell_type": "markdown",
   "metadata": {},
   "source": [
    "#### javascript\n",
    "\n",
    "A quick note related to `json` -- as I wrote above, `json` is the JavaScript Object Notation. The reason it's so ubiquitous is that [`javascript`](https://developer.mozilla.org/en-US/docs/Web/JavaScript) is ubiquitous. Javascript is a programming language which has a ton of bugs and features resulting from it's use case as the primary web language for client-side (aka heavy lifting is done by you (via your browser) rather than the server sending you information) computation.\n",
    "\n",
    "Some people treat `javascript` as if it's not a chaos land of abominations and for the most part we all let them go on thinking those things, because they make us really pretty and fast webpages. Sometimes [everyone realizes that the whole enterprise is castles built on sand](https://qz.com/646467/how-one-programmer-broke-the-internet-by-deleting-a-tiny-piece-of-code/) and the super l33t trolls of the internet have a chuckle or two.\n",
    "\n",
    "The main reason I bring it up is this: sometimes the only way to access the data you want is via `javascript`. In about 90% of all cases, I find this is something you can avoid with some digging. Why avoid it? because it requires breaking out of the simple `requests` paradigm and using a full-fledged `javascript` engine, and that's a big jump in complexity.\n",
    "\n",
    "**Whenever possible, I try and just `GET` things.**"
   ]
  },
  {
   "cell_type": "markdown",
   "metadata": {},
   "source": [
    "## setup"
   ]
  },
  {
   "cell_type": "markdown",
   "metadata": {},
   "source": [
    "### `python`\n",
    "\n",
    "First of all, you should have done most of the steps in `basic python - 001 - installing the basic data science toolkit`. If you haven't done that yet, go check out that mini-course.\n",
    "\n",
    "I'm going to assume that you have a working installation of `conda` or `miniconda`. Let's create a new environment and install the most basic items for our first web scraping tests.\n",
    "\n",
    "```bash\n",
    "> conda create -n scrapesville python=3\n",
    "> source activate scrapesville\n",
    "> conda install requests lxml cssslect\n",
    "```\n",
    "\n",
    "that's it! we should be good to go"
   ]
  },
  {
   "cell_type": "markdown",
   "metadata": {},
   "source": [
    "## simple example"
   ]
  },
  {
   "cell_type": "markdown",
   "metadata": {},
   "source": [
    "Let's do some scraping!"
   ]
  },
  {
   "cell_type": "markdown",
   "metadata": {},
   "source": [
    "### `GET` request\n",
    "\n",
    "as a reminder, a `GET` request is a request we send to a server to ask for some information, and the returned message is whatever content we asked for."
   ]
  },
  {
   "cell_type": "markdown",
   "metadata": {},
   "source": [
    "#### `json` is almost too easy"
   ]
  },
  {
   "cell_type": "markdown",
   "metadata": {},
   "source": [
    "My go to `json` resource, as discussed above, is [mtgjson.com](https://mtgjson.com/). However, I can understand why maybe that's not the most useful resource for everyone. Let's work with the (debatably) more useful [wikipedia `json` api](https://www.mediawiki.org/wiki/API:Main_page)\n",
    "\n",
    "https://en.wikipedia.org/w/api.php?action=query&titles=Leet&prop=revisions&rvprop=content&format=json\n",
    "\n",
    "Let's break the url from this request down into pieces\n",
    "\n",
    "+ `https://en.wikipedia.org/w/api.php` - the endpoint (this is a common term used for an api (application programming interface) url that provides us with some resource). One way of thinking of this is that it is the \"function\" name for this particular very generic function \n",
    "+ `?` - a common delimiter (most common?) indicating that what follows is a list of key-value pairs of parameters. This is like the open-parentheses of a function declaration\n",
    "+ `foo=bar` - the \"key = value\" parameter list. the allowed keys are defined by the api endpoint, and a really good api will [tell you what the possibilities are](https://en.wikipedia.org/w/api.php) (but most won't).\n",
    "+ `&` - the delimiter separating key-value pairs, like commas in an `R` or `python` function\n",
    "\n",
    "altogether this makes for a an easier reading of the above url:\n",
    "\n",
    "+ to to the primary wikipedia api endpoint, and\n",
    "+ take the `action` of [`query`](https://en.wikipedia.org/w/api.php?action=help&modules=query)\n",
    "+ look for documents with `titles` of `Leet`\n",
    "+ look for the `prop`(erty) [`revisions`](https://en.wikipedia.org/w/api.php?action=help&modules=query%2Brevisions)\n",
    "+ for each revision, get the property (aka the `rvprop`) `content`\n",
    "+ return it to us with the `format` `json` (other options are `jsonfm` and `xml` -- in your browser, try changing that value in the url!\n",
    "\n",
    "Let's do it with `python`!"
   ]
  },
  {
   "cell_type": "code",
   "execution_count": 1,
   "metadata": {
    "ExecuteTime": {
     "end_time": "2017-05-29T19:46:28.554830Z",
     "start_time": "2017-05-29T19:46:28.551277Z"
    },
    "collapsed": true
   },
   "outputs": [],
   "source": [
    "import requests"
   ]
  },
  {
   "cell_type": "code",
   "execution_count": 2,
   "metadata": {
    "ExecuteTime": {
     "end_time": "2017-05-29T19:46:28.865523Z",
     "start_time": "2017-05-29T19:46:28.859585Z"
    }
   },
   "outputs": [
    {
     "name": "stdout",
     "output_type": "stream",
     "text": [
      "Help on function get in module requests.api:\n",
      "\n",
      "get(url, params=None, **kwargs)\n",
      "    Sends a GET request.\n",
      "    \n",
      "    :param url: URL for the new :class:`Request` object.\n",
      "    :param params: (optional) Dictionary or bytes to be sent in the query string for the :class:`Request`.\n",
      "    :param \\*\\*kwargs: Optional arguments that ``request`` takes.\n",
      "    :return: :class:`Response <Response>` object\n",
      "    :rtype: requests.Response\n",
      "\n"
     ]
    }
   ],
   "source": [
    "help(requests.get)"
   ]
  },
  {
   "cell_type": "code",
   "execution_count": 3,
   "metadata": {
    "ExecuteTime": {
     "end_time": "2017-05-29T19:57:42.970066Z",
     "start_time": "2017-05-29T19:57:42.962608Z"
    },
    "collapsed": true
   },
   "outputs": [],
   "source": [
    "def my_request(title='Leet'):\n",
    "    return requests.get(\n",
    "        url='https://en.wikipedia.org/w/api.php',\n",
    "        params={\n",
    "            'action': 'query',\n",
    "            'titles': title,\n",
    "            'prop': 'revisions',\n",
    "            'rvprop': 'content',\n",
    "            'format': 'json'\n",
    "        }\n",
    "    )"
   ]
  },
  {
   "cell_type": "code",
   "execution_count": 4,
   "metadata": {
    "ExecuteTime": {
     "end_time": "2017-05-29T19:57:57.275483Z",
     "start_time": "2017-05-29T19:57:56.981163Z"
    }
   },
   "outputs": [
    {
     "data": {
      "text/plain": [
       "<Response [200]>"
      ]
     },
     "execution_count": 4,
     "metadata": {},
     "output_type": "execute_result"
    }
   ],
   "source": [
    "response = my_request()\n",
    "response"
   ]
  },
  {
   "cell_type": "markdown",
   "metadata": {},
   "source": [
    "We can check which [status code](https://developer.mozilla.org/en-US/docs/Web/HTTP/Status) the server returned us. These are standardized codes that summarize the response we get from the server (e.g. \"this was easy\", \"wtf are you talking about?!\")\n",
    "\n",
    "This is useful information for more automated process, but also sometimes helps us understand what went wrong. For the most part, we like 200s and we hate 400s and 500s. The others, supposedly, exist."
   ]
  },
  {
   "cell_type": "code",
   "execution_count": 5,
   "metadata": {
    "ExecuteTime": {
     "end_time": "2017-05-28T20:58:36.635583Z",
     "start_time": "2017-05-28T20:58:36.630604Z"
    }
   },
   "outputs": [
    {
     "data": {
      "text/plain": [
       "200"
      ]
     },
     "execution_count": 5,
     "metadata": {},
     "output_type": "execute_result"
    }
   ],
   "source": [
    "response.status_code"
   ]
  },
  {
   "cell_type": "markdown",
   "metadata": {},
   "source": [
    "awesome. Now what about the content?"
   ]
  },
  {
   "cell_type": "code",
   "execution_count": 6,
   "metadata": {
    "ExecuteTime": {
     "end_time": "2017-05-29T19:50:04.093796Z",
     "start_time": "2017-05-29T19:50:04.086461Z"
    }
   },
   "outputs": [
    {
     "data": {
      "text/plain": [
       "{'batchcomplete': '',\n",
       " 'query': {'pages': {'18562': {'ns': 0,\n",
       "    'pageid': 18562,\n",
       "    'revisions': [{'*': '{{Other uses}}\\n{{pp-semi|small=yes}}\\n[[File:31337 h4x0r.jpg|thumb|A \"31337 h4x0r\" laptop sticker, along with a [[Kevin Mitnick]] sticker]]\\n\\'\\'\\'Leet\\'\\'\\' (or \"\\'\\'\\'1337\\'\\'\\'\"), also known as \\'\\'\\'eleet\\'\\'\\' or \\'\\'\\'leetspeak\\'\\'\\', is an alternative [[alphabet]] for many languages that is used primarily on the [[Internet]]. It uses some [[character (computing)|characters]] to replace others in ways that play on the similarity of their [[glyph]]s via [[reflection (mathematics)|reflection]] or other resemblance. For example, leet spellings of the word \\'\\'leet\\'\\' include \\'\\'1337\\'\\' and \\'\\'l33t\\'\\'; \\'\\'eleet\\'\\' may be spelled \\'\\'31337\\'\\' or \\'\\'3l33t\\'\\'.\\n\\nThe term leet is derived from the word \\'\\'[[elite]]\\'\\'. The leet alphabet is a specialized form of [[symbol]]ic writing. Leet may also be considered a [[substitution cipher]], although many [[dialects]] or [[Variety (linguistics)|linguistic varieties]] exist in different online communities. The term \\'\\'leet\\'\\' is also used as an [[adjective]] to describe formidable prowess or accomplishment, especially in the fields of [[online game|online gaming]] and in its original usage—[[Hacker (hobbyist)|computer hacking]].\\n\\n==History==\\nLeet originated within [[bulletin board system]]s (BBS) in the 1980s,<ref name=mitchell>Mitchell.</ref><ref name=bbc>An Explanation of l33t Speak.</ref> where having \"elite\" status on a BBS allowed a user access to file folders, games, and special chat rooms.  The [[Cult of the Dead Cow]] hacker collective has been credited with the original coining of the term, in their text-files of that era.<ref>Mello, John P.(2015) \"[http://www.ecommercetimes.com/story/Google-Expands-Bug-Bounty-Program-81668.html] Google Expands Bug Bounty Program\" February 2, 2015. \\'\\'E-Commerce Times\\'\\'</ref>  One theory is that it was developed to defeat text filters created by BBS or [[Internet Relay Chat]] [[system operators]] for message boards to discourage the discussion of forbidden topics, like [[Software cracking|cracking]] and [[Hacker (computer security)|hacking]].<ref name=mitchell/> Creative misspellings and ASCII-art-derived words were also a way to attempt to indicate one was knowledgeable about the culture of computer users. Once the reserve of [[Hacker (computer security)|hackers]], crackers, and [[script kiddie]]s, leet has since entered the mainstream.<ref name=mitchell/> It is now also used to mock [[newbie]]s, or newcomers, on web sites, or in gaming communities.<ref name=rome>Rome.</ref> Some consider [[emoticon]]s and [[ASCII art]], like smiley faces, to be leet, while others maintain that leet consists of only symbolic word encryption. More obscure forms of leet, involving the use of symbol combinations and almost no letters or numbers, continue to be used for its original purpose of encrypted communication. It is also sometimes used as a script language. Variants of leet have been used for censorship purposes for many years; for instance \"@$$\" (ass) and \"$#!+\" (shit) are frequently seen to make a word appear censored to the untrained eye but obvious to a person familiar with leet.\\n\\nLeet symbols, especially the number 1337, are [[Internet meme]]s that have spilled over into popular culture. Signs that show the numbers \"1337\" are popular motifs for pictures and shared widely across the Internet.\\n\\n==Orthography==\\n\\nOne of the hallmarks of leet is its unique approach to [[orthography]], using substitutions of other characters, letters or otherwise, to represent a letter or letters in a word.<ref name=sterling>Sterling, 70.</ref><ref name=\"goss 80\">Blashki & Nichol, 80.</ref> For more casual use of leet, the primary strategy is to use [[homoglyph]]s, symbols that closely resemble (to varying degrees) the letters for which they stand. The choice of symbol is not fixed—anything that the reader can make sense of is valid. However, this practice is not extensively used in regular leet; more often it is seen in situations where the [[argot]] (i.e., secret language) characteristics of the system are required, either to exclude newbies or outsiders in general, i.e., anything that the \\'\\'average\\'\\' reader \\'\\'cannot\\'\\' make sense of is valid; a valid reader should himself try to make sense, if deserving of the underlying message. Another use for Leet orthographic substitutions is the creation of paraphrased passwords.<ref name=mitchell/> Limitations imposed by websites on password length (usually no more than 36) and the characters permitted (usually alphanumeric and underscore) require less extensive forms of Leet when used in this application.\\n\\nSome examples of leet include \\'\\'[[B1ff]]\\'\\' and \\'\\'[[Newbie|n00b]]\\'\\', a term for the stereotypical [[newbie]]; the l33t programming language; and the web-comic \\'\\'[[Megatokyo]]\\'\\', which contains characters who speak leet.\\n\\n==Morphology==\\n\\nText rendered in leet is often characterized by distinctive, recurring forms.\\n\\n;The \\'\\'-xor\\'\\' suffix\\n:The meaning of this suffix is parallel with the English \\'\\'-er\\'\\' and \\'\\'-r\\'\\' suffixes (seen in \\'\\'hacker\\'\\' and \\'\\'lesser\\'\\'),<ref name=bbc/> in that it derives [[agent noun]]s from a verb [[stem (linguistics)|stem]]. It is realized in two different forms: \\'\\'-xor\\'\\' and \\'\\'-zor\\'\\', {{IPAc-en|-|s|ɔr}} and {{IPAc-en|-|z|ɔr}}, respectively. For example, the first may be seen in the word \\'\\'hax(x)or\\'\\' (\\'\\'H4x0r\\'\\' in leet) {{IPAc-en|ˈ|h|æ|k|s|ɔr}} and the second in \\'\\'[[pwn]]zor\\'\\' {{IPAc-en|ˈ|oʊ|n|z|ɔr}}. Additionally, this [[nominalization]] may also be [[inflection|inflected]] with all of the suffixes of regular [[English verbs]]. The letter \\'o\\' is often replaced with the numeral 0.\\n\\n;The \\'\\'-age\\'\\' suffix\\n:Derivation of a noun from a verb stem is possible by attaching \\'\\'-age\\'\\' to the base form of any verb. Attested derivations are \\'\\'pwnage\\'\\', \\'\\'skillage\\'\\',  and \\'\\'speakage\\'\\'. However, leet provides exceptions; the word \\'\\'leetage\\'\\' is acceptable, referring to actively being \\'\\'leet\\'\\'.<ref name=\"goss 79\">Blashki & Nichol, 79.</ref> These nouns are often used with a form of \"to be\" rather than \"to have,\" e.g., \"that was pwnage\" rather than \"he has pwnage\". Either is a more emphatic way of expressing the simpler \"he pwns,\" but the former implies that the person is \\'\\'embodying\\'\\' the trait rather than merely possessing it.\\n\\n;The \\'\\'-ness\\'\\' suffix\\n:Derivation of a noun from an adjective stem is done by attaching \\'\\'-ness\\'\\' to any adjective. This is entirely the same as the English form, except it is used much more often in Leet. Nouns such as \\'\\'lulzness\\'\\' and \\'\\'leetness\\'\\' are derivations using this suffix.\\n\\n;Words ending in \\'\\'-ed\\'\\'\\n:When forming a past participle ending in \\'\\'-ed\\'\\', the Leet user may replace the \\'\\'-e\\'\\' with an apostrophe, as was common in [[poetry]] of previous centuries, (e.g. \"pwned\" becomes \"pwn\\'d\"). Sometimes, the apostrophe is removed as well (e.g. \"pwned\" becomes \"pwnd\"). The word ending may also be substituted by \\'\\'-t\\'\\' (e.g. \\'\\'pwned\\'\\' becomes \\'\\'pwnt\\'\\').<ref name=\"blanc33\">LeBlanc, 33.</ref>\\n\\n;Use of the \\'\\'-&\\'\\' suffix\\n:Words ending in \\'\\'-and\\'\\', \\'\\'-anned\\'\\', \\'\\'-ant\\'\\', or a similar sound can sometimes be spelled with an [[ampersand]] (\\'\\'&\\'\\') to express the ending sound (e.g. \"This is the [[Sandbox (software development)|s&box]],\" \"I\\'m sorry, you\\'ve been b&\", \"&hill/&farm\"). This is most commonly used with the word \\'\\'banned.\\'\\' An alternate form of \"B&\" is \"B7\", as the ampersand is typed with the \"7\" key in the standard US keyboard layout.  It is often seen in the phrase \"IBB7\" (in before banned), which indicates that the poster believes that a previous poster will soon be banned from the site, channel, or board on which they are both posting.\\n\\n==Grammar==\\n\\nLeet can be pronounced as a single syllable, {{IPA|/ˈliːt/}}, rhyming with \\'\\'eat,\\'\\' by way of [[aphesis]] of the initial vowel of \"elite\". It may also be pronounced as two syllables, {{IPA|/ɛˈliːt/}}. Like [[Jargon File|hacker slang]], leet enjoys a looser grammar than standard English.<ref name=rome/> The loose grammar, just like loose spelling, encodes some level of emphasis, ironic or otherwise. A reader must rely more on intuitive [[parsing]] of leet to determine the meaning of a sentence rather than the actual sentence structure. In particular, speakers of leet are fond of [[verbing]] nouns, turning verbs into nouns (and back again) as forms of emphasis, e.g. \"Austin rocks\" is weaker than \"Austin roxxorz\" (note spelling), which is weaker than \"Au5t1N is t3h r0xx0rz\" (note grammar), which is weaker than something like \"0MFG D00D /\\\\Ü571N 15 T3H l_l83Я 1337 Я0XX0ЯZ\" ([[SMS language#Common abbreviations|OMG]], dude, Austin is the [[über]]-elite rocks-er!). In essence, all of these mean \"Austin rocks,\" not necessarily the other options. Added words and misspellings add to the speaker\\'s enjoyment. Leet, like hacker slang, employs analogy in construction of new words. For example, if \\'\\'haxored\\'\\' is the past tense of the verb \"to hack\" (hack → haxor → haxored), then \\'\\'winzored\\'\\' would be easily understood to be the past tense conjugation of \"to win,\" even if the reader had not seen that particular word before.\\n\\nLeet has its own colloquialisms, many of which originated as jokes based on common typing errors, habits of new computer users, or knowledge of [[cyberculture]] and history.<ref name=\"goss 81\">Blashki & Nichol, 81.</ref> Leet is not solely based upon one language or character set. Greek, Russian, and other languages have leet forms, and leet in one language may use characters from another where they are available. As such, while it may be referred to as a \"[[cipher]]\", a \"dialect\", or a \"language\", leet does not fit squarely into any of these categories. The term \\'\\'leet\\'\\' itself is often written \\'\\'31337\\'\\', or \\'\\'1337\\'\\', and many other variations. After the meaning of these became widely familiar, \\'\\'10100111001\\'\\' came to be used in its place, because it is the [[Binary numeral system|binary]] form of \\'\\'1337\\'\\' decimal, making it more of a puzzle to interpret.<ref group=\"Notes\">This appears as an in-joke for technical illustrations such as these: [[:Commons:File:Ami encoding.svg|\\'\\'(a)\\'\\']][[:Commons:File:Manchester encoding.svg|\\'\\'(b)\\'\\']]</ref> An increasingly common characteristic of leet is the changing of grammatical usage so as to be deliberately incorrect. The widespread popularity of deliberate misspelling is similar to the cult following of the \"[[All your base are belong to us]]\" phrase. Indeed, the online and computer communities have been international from their inception, so spellings and phrases typical of non-native speakers are quite common.\\n\\n==Vocabulary==\\n\\nMany words originally derived from leet slang have now become part of the modern [[Internet slang]], such as \"[[pwn]]ed\".<ref name=mitchell/> The original driving forces of new vocabulary in leet were common misspellings and typing errors such as \"[[teh]]\" (generally considered lolspeak), and intentional misspellings,<ref name=\"goss 83\">Blashki & Nichol, 83.</ref> especially the \"z\" at the end of words (\"skillz\").<ref name=mitchell/> Another prominent example of a surviving leet expression is \\'\\'[[w00t]]\\'\\', an exclamation of joy.<ref name=bbc/> w00t is sometimes used as a [[backronym]] for \"We owned the other team.\"\\n\\nNew words (or corruptions thereof) may arise from a need to make one\\'s username unique. As any given Internet service reaches more people, the number of names available to a given user is drastically reduced. While many users may wish to have the username \"CatLover,\" for example, in many cases it is only possible for one user to have the moniker. As such, degradations of the name may evolve, such as \"C@7L0vr.\" As the leet cipher is highly dynamic, there is a wider possibility for multiple users to share the \"same\" name, through combinations of spelling and transliterations.\\n\\nAdditionally, \\'\\'leet\\'\\'—the word itself—can be found in the [[User (computing)|screen-names]] and [[gamertags]] of many Internet and video games. Use of the term in such a manner announces a high level of skill, though such an announcement may be seen as baseless [[hubris]].<ref name=hope>Computer Hope Dictionary.</ref> <!-- NOTE: ANY FURTHER ADDITIONS MUST HAVE A PROPER REFERENCE OR WILL BE REMOVED PER WP:OR -->\\n\\n===Terminology and common misspellings===\\n\\n\\'\\'[[Warez]]\\'\\' (nominally {{IPAc-en|ˈ|w|ɛər|z}}) is a plural shortening of \"software\", typically referring to cracked and redistributed software.<ref name=hope/> \\'\\'[[Phreaking]]\\'\\' refers to the hacking of telephone systems and other non-Internet equipment.<ref name=mitchell/> \\'\\'[[Teh]]\\'\\' originated as a typographical error of \"the\", and is sometimes spelled \\'\\'t3h\\'\\'.<ref name=mitchell/><ref name=\"blanc34 35\">LeBlanc, 34-35.</ref> \\'\\'j00\\'\\' takes the place of \"you\",<ref name=bbc/> originating from the [[affricate]] sound that occurs in place of the [[palatal approximant]], {{IPA|/j/}}, when \\'\\'you\\'\\' follows a word ending in an [[alveolar consonant|alveolar]] [[plosive]] consonant, such as {{IPA|/t/}} or {{IPA|/d/}}. Also, from German, is \\'\\'[[wiktionary:Über|über]]\\'\\', which means \"over\" or \"above\"; it usually appears as a prefix attached to adjectives, and is frequently written without the [[Umlaut (diacritic)|umlaut]] over the \\'\\'u\\'\\'.<ref name=dutch>Van de Velde & Meuleman.</ref>\\n\\n===Haxor and suxxor (suxorz)===\\n\\n\\'\\'Haxor\\'\\', and derivations thereof, is leet for \"hacker\",<ref name=\"blanc30 32\">LeBlanc, 30; 32.</ref> and it is one of the most commonplace examples of the use of the \\'\\'-xor\\'\\' suffix. \\'\\'Suxxor\\'\\' (pronounced suck-zor) is a derogatory term which originated in warez culture and is currently used in multi-user environments such as multiplayer video games and [[instant messaging]]; it, like \\'\\'haxor\\'\\', is one of the early leet words to use the \\'\\'-xor\\'\\' suffix. \\'\\'Suxxor\\'\\' is a modified version of \"sucks\" (the phrase \"to suck\"), and the meaning is the same as the English slang. Its negative definition essentially makes it the opposite of \\'\\'roxxor\\'\\', and both can be used as a verb or a noun. The letters \\'\\'ck\\'\\' are often replaced with the Greek Χ (chi) in other words as well.\\n\\n===n00b===\\n{{main|Newbie}}\\n\\nWithin leet, the term \\'\\'n00b\\'\\', and derivations thereof, is used extensively. The word means and derives from \\'\\'newbie\\'\\' (as in new and inexperienced or uninformed),<ref name=\"goss 83\"/><ref name=dutch/><ref name=acronym/> and is used as a means of segregating them as less than the \"elite,\" or even \"normal,\" members of a group.\\n\\n===Owned and pwned===\\n{{Main|Owned|Pwn}}\\n\\n\\'\\'Owned\\'\\' and \\'\\'pwn3d\\'\\' (generally pronounced \"owned\" and \"poned\", respectively) both refer to the domination of a player in a video game or argument (rather than just a win), or the successful hacking of a website or computer.<ref name=mitchell/><ref name=dutch/><ref name=\"blanc32 33\">LeBlanc, 32-33.</ref>\\n\\nAs is a common characteristic of leet, the terms have also been adapted into noun and adjective forms,<ref name=dutch/> \\'\\'ownage\\'\\' and \\'\\'pwnage\\'\\', which can refer to the situation of \\'\\'pwning\\'\\' or to the superiority of its subject (e.g., \"He is a very good player. He is pwnage.\").\\n\\n===Pr0n<!-- This section is linked from [[Pr0n]] -->===\\n\\n\\'\\'Pr0n\\'\\' is [[slang]] for \\'\\'[[pornography]]\\'\\'.<ref name=mitchell/> This is a deliberately inaccurate spelling/pronunciation for \\'\\'porn\\'\\',<ref name=acronym>The Acronym Finder.</ref> where a zero is often used to replace the letter O. It is sometimes used in legitimate communications (such as email discussion groups, [[Usenet]], chat rooms, and Internet web pages) to circumvent language and [[content filter]]s, which may reject messages as offensive or [[spam (electronic)|spam]]. The word also helps prevent [[search engines]] from associating commercial sites with pornography, which might result in unwelcome traffic.{{Citation needed|date=March 2011}} \\'\\'Pr0n\\'\\' is also sometimes spelled backwards (n0rp) to further obscure the meaning to potentially uninformed readers.<ref group=\"Notes\">This can be observed by searching for \"n0rp\" on a search engine.</ref> It can also refer to [[ASCII art]] depicting pornographic images, or to photos of the internals of consumer and industrial hardware. \\'\\'Prawn\\'\\', a spoof of the misspelling, has started to come into use, as well; in \\'\\'[[Grand Theft Auto: Vice City]]\\'\\', a pornographer films his movies on \"Prawn Island\". Conversely, in the [[Role-playing game|RPG]] \\'\\'[[Kingdom of Loathing]]\\'\\', \\'\\'[[prawn]]\\'\\', referring to a kind of [[crustacean]], is spelled \\'\\'pr0n\\'\\', leading to the creation of food items such as \"pr0n chow mein\".\\n\\n== See also ==\\n{{Portal|Internet|Language}}\\n{{Div col|colwidth=20em}}\\n* [[Calculator spelling]]\\n* [[Elitism]]\\n* [[Faux Cyrillic]]\\n* [[Geek Code]]\\n* [[IDN homograph attack]]\\n* [[Magic debug values]], specific values written to a PC\\'s memory \\n* [[Mojibake]], garbled text, resulting from text being decoded using an unintended character encoding\\n* [[Numeronym]], e.g. \"K9\" for \"canine\"\\n* [[Rebus]], an allusional device that uses pictures to represent words or parts of words\\n* [[SMS language]], a term for the abbreviations and slang used in mobile phone text messaging and other social technology\\n* [[Urban Dictionary]], a crowd-sourced slang dictionary\\n* [[Verlan]], inversion of syllables in a word\\n* [[Jargon File]], is a glossary and usage dictionary of computer programmer slang\\n* [[Arabic chat alphabet]]\\n{{Div col end}}\\n\\n==Notes==\\n{{reflist|group=Notes}}\\n\\n==Footnotes==\\n{{Reflist|20em}}\\n\\n==References==\\n{{refbegin|30em}}\\n* {{cite web | url=http://acronymfinder.com/ | title=The Acronym Finder | publisher=Mountain Data Systems, LLC  | accessdate=2007-04-11 }}\\n* {{cite web | title=An Explanation of l33t Speak | url=http://www.bbc.co.uk/dna/h2g2/A787917 | work=h2g2 | publisher=BBC | date=2002-08-16 | accessdate=2007-03-29 }}\\n* {{Cite journal | journal = Australian Journal of Emerging Technologies and Society | volume = 3 | issue=2 |\\n title = Game Geek\\'s Goss: Linguistic Creativity In Young Males Within An Online University Forum | last1 = Blashki | first1 = Katherine | last2 = Nichol | first2 = Sophie | year=2005 | pages=77–86 | url = http://www.swinburne.edu.au/sbs/ajets/journal/V3N2/pdf/V3N2-2-Blashki.pdf |format=PDF | postscript = <!--None-->}}\\n* {{cite web | title=Computer Hope Dictionary - Game definitions | url=http://www.computerhope.com/jargon/game.htm | publisher=Computer Hope | accessdate=2007-04-02}}\\n* {{cite web | url=http://acronyms.thefreedictionary.com/ | title=The Free Dictionary -- Acronyms  | work=The Free Dictionary | publisher=Farlex, Inc | accessdate=2007-04-11 }}\\n* {{cite web|title=Google Directory - Computers |url=http://www.google.org/alpha/Top/Computers/Programming/Languages/Obfuscated/ | publisher=Google |accessdate=2007-04-29 |archiveurl = https://web.archive.org/web/20070930224351/http://www.google.org/alpha/Top/Computers/Programming/Languages/Obfuscated/ <!-- Bot retrieved archive --> |archivedate = 2007-09-30}}\\n* {{cite book|title=E-Mail Essentials: How to Make the Most of E-Communications|last=Haig|first=Matt|year=2001|publisher=Kogan Page|isbn=0-7494-3576-3|page=89}}\\n* {{cite web | title=\"Is There A Translator in Teh House?\": Cultural and Discourse Analysis of a Virtual Speech Community on an Internet Message Board | last=LeBlanc | first=Tracy Rene | date=2005-04-01 | publisher=Louisiana State University | url=http://etd.lsu.edu/docs/available/etd-04072005-145922/unrestricted/LeBlanc_thesis.pdf |format=PDF}}\\n* {{cite web | title=A Leet Primer | last=Mitchell | first=Anthony | date=2006-06-12 | accessdate=2007-04-10 | url=http://www.technewsworld.com/story/47607.html | work=Technology News | publisher=ECT News Network, Inc }}\\n* {{Cite journal \\n| last1 = Perea | first1 = M. \\n| last2 = Duñabeitia | first2 = J. A. \\n| last3 = Carreiras | first3 = M. \\n| doi = 10.1037/0096-1523.34.1.237 \\n| title = R34D1Ng W0Rd5 W1Th Numb3R5 \\n| journal = Journal of Experimental Psychology: Human Perception and Performance \\n| volume = 34 \\n| issue = 1 \\n| pages = 237–241 \\n| year = 2008 \\n| pmid = 18248151 \\n| pmc = \\n| url = http://www.uv.es/~mperea/leet1.pdf\\n}}\\n* {{Cite journal|title=The New Hacker\\'s Dictionary|last1=Raymond|first1=Eric R.|last2=Steele|first2=Guy L.|year=1996|publisher=MIT Press|postscript=<!--None-->|isbn=0-262-68092-0}}\\n* {{cite web | title=relax we understand j00 | last=Rome | first=James Andrew | date=2001-12-18 | accessdate=2007-05-03 | publisher=[[Sigma Tau Delta]], The International English Honor Society. [[Case Western University]], Beta Beta Chapter | url=http://www.case.edu/orgs/sigmataudelta/submissions/rome-relaxweunderstand.htm |archiveurl = https://web.archive.org/web/20070216195207/http://www.case.edu/orgs/sigmataudelta/submissions/rome-relaxweunderstand.htm <!-- Bot retrieved archive --> |archivedate = 2007-02-16}}\\n* {{cite book | last=Sterling | first=Bruce | authorlink=Bruce Sterling | title =[[The Hacker Crackdown|The Hacker Crackdown: Law and Disorder on the Electronic Frontier]] | publisher=Bantam Spectra Books | location=New York | year=1994 | page=70 | isbn=0-553-56370-X }}\\n* {{cite web | title=Lexical tensions in \\'internet english\\' : 1337 as language? |last=Van de Velde | first=Kristof |author2=Meuleman, Jeroen  | year=2004 | accessdate=2007-04-13 | url=http://www.verbumvanum.org/kristof/index.html }}\\n* {{cite web | url=http://pages.cpsc.ucalgary.ca/~crwth/LOL.html | title=The creation of \"LOL\" | first=Wayne | last=Pearson | accessdate=2008-11-06}}\\n{{refend}}\\n\\n==External links==\\n{{Wiktionary|leet}}\\n* [http://cryptii.com/text/leetspeak Leet Translator]\\n\\n{{Internet Dialects}}\\n{{internet slang}}\\n\\n[[Category:Leet| ]]\\n[[Category:Alphabets]]\\n[[Category:Encodings]]\\n[[Category:In-jokes]]\\n[[Category:Internet culture]]\\n[[Category:Internet slang]]\\n[[Category:Latin-script representations]]\\n[[Category:Nerd culture]]\\n[[Category:Nonstandard spelling]]\\n[[Category:Obfuscation]]\\n[[Category:Social networking services]]\\n[[Category:1990s slang]]',\n",
       "      'contentformat': 'text/x-wiki',\n",
       "      'contentmodel': 'wikitext'}],\n",
       "    'title': 'Leet'}}}}"
      ]
     },
     "execution_count": 6,
     "metadata": {},
     "output_type": "execute_result"
    }
   ],
   "source": [
    "j = response.json()\n",
    "j"
   ]
  },
  {
   "cell_type": "code",
   "execution_count": 7,
   "metadata": {
    "ExecuteTime": {
     "end_time": "2017-05-29T19:50:56.966925Z",
     "start_time": "2017-05-29T19:50:56.959787Z"
    }
   },
   "outputs": [
    {
     "data": {
      "text/plain": [
       "'{{Other uses}}\\n{{pp-semi|small=yes}}\\n[[File:31337 h4x0r.jpg|thumb|A \"31337 h4x0r\" laptop sticker, along with a [[Kevin Mitnick]] sticker]]\\n\\'\\'\\'Leet\\'\\'\\' (or \"\\'\\'\\'1337\\'\\'\\'\"), also known as \\'\\'\\'eleet\\'\\'\\' or \\'\\'\\'leetspeak\\'\\'\\', is an alternative [[alphabet]] for many languages that is used primarily on the [[Internet]]. It uses some [[character (computing)|characters]] to replace others in ways that play on the similarity of their [[glyph]]s via [[reflection (mathematics)|reflection]] or other resemblance. For example, leet spellings of the word \\'\\'leet\\'\\' include \\'\\'1337\\'\\' and \\'\\'l33t\\'\\'; \\'\\'eleet\\'\\' may be spelled \\'\\'31337\\'\\' or \\'\\'3l33t\\'\\'.\\n\\nThe term leet is derived from the word \\'\\'[[elite]]\\'\\'. The leet alphabet is a specialized form of [[symbol]]ic writing. Leet may also be considered a [[substitution cipher]], although many [[dialects]] or [[Variety (linguistics)|linguistic varieties]] exist in different online communities. The term \\'\\'leet\\'\\' is also used as an [[adjective]] to describe formidable prowess or accomplishment, especially in the fields of [[online game|online gaming]] and in its original usage—[[Hacker (hobbyist)|computer hacking]].\\n\\n==History==\\nLeet originated within [[bulletin board system]]s (BBS) in the 1980s,<ref name=mitchell>Mitchell.</ref><ref name=bbc>An Explanation of l33t Speak.</ref> where having \"elite\" status on a BBS allowed a user access to file folders, games, and special chat rooms.  The [[Cult of the Dead Cow]] hacker collective has been credited with the original coining of the term, in their text-files of that era.<ref>Mello, John P.(2015) \"[http://www.ecommercetimes.com/story/Google-Expands-Bug-Bounty-Program-81668.html] Google Expands Bug Bounty Program\" February 2, 2015. \\'\\'E-Commerce Times\\'\\'</ref>  One theory is that it was developed to defeat text filters created by BBS or [[Internet Relay Chat]] [[system operators]] for message boards to discourage the discussion of forbidden topics, like [[Software cracking|cracking]] and [[Hacker (computer security)|hacking]].<ref name=mitchell/> Creative misspellings and ASCII-art-derived words were also a way to attempt to indicate one was knowledgeable about the culture of computer users. Once the reserve of [[Hacker (computer security)|hackers]], crackers, and [[script kiddie]]s, leet has since entered the mainstream.<ref name=mitchell/> It is now also used to mock [[newbie]]s, or newcomers, on web sites, or in gaming communities.<ref name=rome>Rome.</ref> Some consider [[emoticon]]s and [[ASCII art]], like smiley faces, to be leet, while others maintain that leet consists of only symbolic word encryption. More obscure forms of leet, involving the use of symbol combinations and almost no letters or numbers, continue to be used for its original purpose of encrypted communication. It is also sometimes used as a script language. Variants of leet have been used for censorship purposes for many years; for instance \"@$$\" (ass) and \"$#!+\" (shit) are frequently seen to make a word appear censored to the untrained eye but obvious to a person familiar with leet.\\n\\nLeet symbols, especially the number 1337, are [[Internet meme]]s that have spilled over into popular culture. Signs that show the numbers \"1337\" are popular motifs for pictures and shared widely across the Internet.\\n\\n==Orthography==\\n\\nOne of the hallmarks of leet is its unique approach to [[orthography]], using substitutions of other characters, letters or otherwise, to represent a letter or letters in a word.<ref name=sterling>Sterling, 70.</ref><ref name=\"goss 80\">Blashki & Nichol, 80.</ref> For more casual use of leet, the primary strategy is to use [[homoglyph]]s, symbols that closely resemble (to varying degrees) the letters for which they stand. The choice of symbol is not fixed—anything that the reader can make sense of is valid. However, this practice is not extensively used in regular leet; more often it is seen in situations where the [[argot]] (i.e., secret language) characteristics of the system are required, either to exclude newbies or outsiders in general, i.e., anything that the \\'\\'average\\'\\' reader \\'\\'cannot\\'\\' make sense of is valid; a valid reader should himself try to make sense, if deserving of the underlying message. Another use for Leet orthographic substitutions is the creation of paraphrased passwords.<ref name=mitchell/> Limitations imposed by websites on password length (usually no more than 36) and the characters permitted (usually alphanumeric and underscore) require less extensive forms of Leet when used in this application.\\n\\nSome examples of leet include \\'\\'[[B1ff]]\\'\\' and \\'\\'[[Newbie|n00b]]\\'\\', a term for the stereotypical [[newbie]]; the l33t programming language; and the web-comic \\'\\'[[Megatokyo]]\\'\\', which contains characters who speak leet.\\n\\n==Morphology==\\n\\nText rendered in leet is often characterized by distinctive, recurring forms.\\n\\n;The \\'\\'-xor\\'\\' suffix\\n:The meaning of this suffix is parallel with the English \\'\\'-er\\'\\' and \\'\\'-r\\'\\' suffixes (seen in \\'\\'hacker\\'\\' and \\'\\'lesser\\'\\'),<ref name=bbc/> in that it derives [[agent noun]]s from a verb [[stem (linguistics)|stem]]. It is realized in two different forms: \\'\\'-xor\\'\\' and \\'\\'-zor\\'\\', {{IPAc-en|-|s|ɔr}} and {{IPAc-en|-|z|ɔr}}, respectively. For example, the first may be seen in the word \\'\\'hax(x)or\\'\\' (\\'\\'H4x0r\\'\\' in leet) {{IPAc-en|ˈ|h|æ|k|s|ɔr}} and the second in \\'\\'[[pwn]]zor\\'\\' {{IPAc-en|ˈ|oʊ|n|z|ɔr}}. Additionally, this [[nominalization]] may also be [[inflection|inflected]] with all of the suffixes of regular [[English verbs]]. The letter \\'o\\' is often replaced with the numeral 0.\\n\\n;The \\'\\'-age\\'\\' suffix\\n:Derivation of a noun from a verb stem is possible by attaching \\'\\'-age\\'\\' to the base form of any verb. Attested derivations are \\'\\'pwnage\\'\\', \\'\\'skillage\\'\\',  and \\'\\'speakage\\'\\'. However, leet provides exceptions; the word \\'\\'leetage\\'\\' is acceptable, referring to actively being \\'\\'leet\\'\\'.<ref name=\"goss 79\">Blashki & Nichol, 79.</ref> These nouns are often used with a form of \"to be\" rather than \"to have,\" e.g., \"that was pwnage\" rather than \"he has pwnage\". Either is a more emphatic way of expressing the simpler \"he pwns,\" but the former implies that the person is \\'\\'embodying\\'\\' the trait rather than merely possessing it.\\n\\n;The \\'\\'-ness\\'\\' suffix\\n:Derivation of a noun from an adjective stem is done by attaching \\'\\'-ness\\'\\' to any adjective. This is entirely the same as the English form, except it is used much more often in Leet. Nouns such as \\'\\'lulzness\\'\\' and \\'\\'leetness\\'\\' are derivations using this suffix.\\n\\n;Words ending in \\'\\'-ed\\'\\'\\n:When forming a past participle ending in \\'\\'-ed\\'\\', the Leet user may replace the \\'\\'-e\\'\\' with an apostrophe, as was common in [[poetry]] of previous centuries, (e.g. \"pwned\" becomes \"pwn\\'d\"). Sometimes, the apostrophe is removed as well (e.g. \"pwned\" becomes \"pwnd\"). The word ending may also be substituted by \\'\\'-t\\'\\' (e.g. \\'\\'pwned\\'\\' becomes \\'\\'pwnt\\'\\').<ref name=\"blanc33\">LeBlanc, 33.</ref>\\n\\n;Use of the \\'\\'-&\\'\\' suffix\\n:Words ending in \\'\\'-and\\'\\', \\'\\'-anned\\'\\', \\'\\'-ant\\'\\', or a similar sound can sometimes be spelled with an [[ampersand]] (\\'\\'&\\'\\') to express the ending sound (e.g. \"This is the [[Sandbox (software development)|s&box]],\" \"I\\'m sorry, you\\'ve been b&\", \"&hill/&farm\"). This is most commonly used with the word \\'\\'banned.\\'\\' An alternate form of \"B&\" is \"B7\", as the ampersand is typed with the \"7\" key in the standard US keyboard layout.  It is often seen in the phrase \"IBB7\" (in before banned), which indicates that the poster believes that a previous poster will soon be banned from the site, channel, or board on which they are both posting.\\n\\n==Grammar==\\n\\nLeet can be pronounced as a single syllable, {{IPA|/ˈliːt/}}, rhyming with \\'\\'eat,\\'\\' by way of [[aphesis]] of the initial vowel of \"elite\". It may also be pronounced as two syllables, {{IPA|/ɛˈliːt/}}. Like [[Jargon File|hacker slang]], leet enjoys a looser grammar than standard English.<ref name=rome/> The loose grammar, just like loose spelling, encodes some level of emphasis, ironic or otherwise. A reader must rely more on intuitive [[parsing]] of leet to determine the meaning of a sentence rather than the actual sentence structure. In particular, speakers of leet are fond of [[verbing]] nouns, turning verbs into nouns (and back again) as forms of emphasis, e.g. \"Austin rocks\" is weaker than \"Austin roxxorz\" (note spelling), which is weaker than \"Au5t1N is t3h r0xx0rz\" (note grammar), which is weaker than something like \"0MFG D00D /\\\\Ü571N 15 T3H l_l83Я 1337 Я0XX0ЯZ\" ([[SMS language#Common abbreviations|OMG]], dude, Austin is the [[über]]-elite rocks-er!). In essence, all of these mean \"Austin rocks,\" not necessarily the other options. Added words and misspellings add to the speaker\\'s enjoyment. Leet, like hacker slang, employs analogy in construction of new words. For example, if \\'\\'haxored\\'\\' is the past tense of the verb \"to hack\" (hack → haxor → haxored), then \\'\\'winzored\\'\\' would be easily understood to be the past tense conjugation of \"to win,\" even if the reader had not seen that particular word before.\\n\\nLeet has its own colloquialisms, many of which originated as jokes based on common typing errors, habits of new computer users, or knowledge of [[cyberculture]] and history.<ref name=\"goss 81\">Blashki & Nichol, 81.</ref> Leet is not solely based upon one language or character set. Greek, Russian, and other languages have leet forms, and leet in one language may use characters from another where they are available. As such, while it may be referred to as a \"[[cipher]]\", a \"dialect\", or a \"language\", leet does not fit squarely into any of these categories. The term \\'\\'leet\\'\\' itself is often written \\'\\'31337\\'\\', or \\'\\'1337\\'\\', and many other variations. After the meaning of these became widely familiar, \\'\\'10100111001\\'\\' came to be used in its place, because it is the [[Binary numeral system|binary]] form of \\'\\'1337\\'\\' decimal, making it more of a puzzle to interpret.<ref group=\"Notes\">This appears as an in-joke for technical illustrations such as these: [[:Commons:File:Ami encoding.svg|\\'\\'(a)\\'\\']][[:Commons:File:Manchester encoding.svg|\\'\\'(b)\\'\\']]</ref> An increasingly common characteristic of leet is the changing of grammatical usage so as to be deliberately incorrect. The widespread popularity of deliberate misspelling is similar to the cult following of the \"[[All your base are belong to us]]\" phrase. Indeed, the online and computer communities have been international from their inception, so spellings and phrases typical of non-native speakers are quite common.\\n\\n==Vocabulary==\\n\\nMany words originally derived from leet slang have now become part of the modern [[Internet slang]], such as \"[[pwn]]ed\".<ref name=mitchell/> The original driving forces of new vocabulary in leet were common misspellings and typing errors such as \"[[teh]]\" (generally considered lolspeak), and intentional misspellings,<ref name=\"goss 83\">Blashki & Nichol, 83.</ref> especially the \"z\" at the end of words (\"skillz\").<ref name=mitchell/> Another prominent example of a surviving leet expression is \\'\\'[[w00t]]\\'\\', an exclamation of joy.<ref name=bbc/> w00t is sometimes used as a [[backronym]] for \"We owned the other team.\"\\n\\nNew words (or corruptions thereof) may arise from a need to make one\\'s username unique. As any given Internet service reaches more people, the number of names available to a given user is drastically reduced. While many users may wish to have the username \"CatLover,\" for example, in many cases it is only possible for one user to have the moniker. As such, degradations of the name may evolve, such as \"C@7L0vr.\" As the leet cipher is highly dynamic, there is a wider possibility for multiple users to share the \"same\" name, through combinations of spelling and transliterations.\\n\\nAdditionally, \\'\\'leet\\'\\'—the word itself—can be found in the [[User (computing)|screen-names]] and [[gamertags]] of many Internet and video games. Use of the term in such a manner announces a high level of skill, though such an announcement may be seen as baseless [[hubris]].<ref name=hope>Computer Hope Dictionary.</ref> <!-- NOTE: ANY FURTHER ADDITIONS MUST HAVE A PROPER REFERENCE OR WILL BE REMOVED PER WP:OR -->\\n\\n===Terminology and common misspellings===\\n\\n\\'\\'[[Warez]]\\'\\' (nominally {{IPAc-en|ˈ|w|ɛər|z}}) is a plural shortening of \"software\", typically referring to cracked and redistributed software.<ref name=hope/> \\'\\'[[Phreaking]]\\'\\' refers to the hacking of telephone systems and other non-Internet equipment.<ref name=mitchell/> \\'\\'[[Teh]]\\'\\' originated as a typographical error of \"the\", and is sometimes spelled \\'\\'t3h\\'\\'.<ref name=mitchell/><ref name=\"blanc34 35\">LeBlanc, 34-35.</ref> \\'\\'j00\\'\\' takes the place of \"you\",<ref name=bbc/> originating from the [[affricate]] sound that occurs in place of the [[palatal approximant]], {{IPA|/j/}}, when \\'\\'you\\'\\' follows a word ending in an [[alveolar consonant|alveolar]] [[plosive]] consonant, such as {{IPA|/t/}} or {{IPA|/d/}}. Also, from German, is \\'\\'[[wiktionary:Über|über]]\\'\\', which means \"over\" or \"above\"; it usually appears as a prefix attached to adjectives, and is frequently written without the [[Umlaut (diacritic)|umlaut]] over the \\'\\'u\\'\\'.<ref name=dutch>Van de Velde & Meuleman.</ref>\\n\\n===Haxor and suxxor (suxorz)===\\n\\n\\'\\'Haxor\\'\\', and derivations thereof, is leet for \"hacker\",<ref name=\"blanc30 32\">LeBlanc, 30; 32.</ref> and it is one of the most commonplace examples of the use of the \\'\\'-xor\\'\\' suffix. \\'\\'Suxxor\\'\\' (pronounced suck-zor) is a derogatory term which originated in warez culture and is currently used in multi-user environments such as multiplayer video games and [[instant messaging]]; it, like \\'\\'haxor\\'\\', is one of the early leet words to use the \\'\\'-xor\\'\\' suffix. \\'\\'Suxxor\\'\\' is a modified version of \"sucks\" (the phrase \"to suck\"), and the meaning is the same as the English slang. Its negative definition essentially makes it the opposite of \\'\\'roxxor\\'\\', and both can be used as a verb or a noun. The letters \\'\\'ck\\'\\' are often replaced with the Greek Χ (chi) in other words as well.\\n\\n===n00b===\\n{{main|Newbie}}\\n\\nWithin leet, the term \\'\\'n00b\\'\\', and derivations thereof, is used extensively. The word means and derives from \\'\\'newbie\\'\\' (as in new and inexperienced or uninformed),<ref name=\"goss 83\"/><ref name=dutch/><ref name=acronym/> and is used as a means of segregating them as less than the \"elite,\" or even \"normal,\" members of a group.\\n\\n===Owned and pwned===\\n{{Main|Owned|Pwn}}\\n\\n\\'\\'Owned\\'\\' and \\'\\'pwn3d\\'\\' (generally pronounced \"owned\" and \"poned\", respectively) both refer to the domination of a player in a video game or argument (rather than just a win), or the successful hacking of a website or computer.<ref name=mitchell/><ref name=dutch/><ref name=\"blanc32 33\">LeBlanc, 32-33.</ref>\\n\\nAs is a common characteristic of leet, the terms have also been adapted into noun and adjective forms,<ref name=dutch/> \\'\\'ownage\\'\\' and \\'\\'pwnage\\'\\', which can refer to the situation of \\'\\'pwning\\'\\' or to the superiority of its subject (e.g., \"He is a very good player. He is pwnage.\").\\n\\n===Pr0n<!-- This section is linked from [[Pr0n]] -->===\\n\\n\\'\\'Pr0n\\'\\' is [[slang]] for \\'\\'[[pornography]]\\'\\'.<ref name=mitchell/> This is a deliberately inaccurate spelling/pronunciation for \\'\\'porn\\'\\',<ref name=acronym>The Acronym Finder.</ref> where a zero is often used to replace the letter O. It is sometimes used in legitimate communications (such as email discussion groups, [[Usenet]], chat rooms, and Internet web pages) to circumvent language and [[content filter]]s, which may reject messages as offensive or [[spam (electronic)|spam]]. The word also helps prevent [[search engines]] from associating commercial sites with pornography, which might result in unwelcome traffic.{{Citation needed|date=March 2011}} \\'\\'Pr0n\\'\\' is also sometimes spelled backwards (n0rp) to further obscure the meaning to potentially uninformed readers.<ref group=\"Notes\">This can be observed by searching for \"n0rp\" on a search engine.</ref> It can also refer to [[ASCII art]] depicting pornographic images, or to photos of the internals of consumer and industrial hardware. \\'\\'Prawn\\'\\', a spoof of the misspelling, has started to come into use, as well; in \\'\\'[[Grand Theft Auto: Vice City]]\\'\\', a pornographer films his movies on \"Prawn Island\". Conversely, in the [[Role-playing game|RPG]] \\'\\'[[Kingdom of Loathing]]\\'\\', \\'\\'[[prawn]]\\'\\', referring to a kind of [[crustacean]], is spelled \\'\\'pr0n\\'\\', leading to the creation of food items such as \"pr0n chow mein\".\\n\\n== See also ==\\n{{Portal|Internet|Language}}\\n{{Div col|colwidth=20em}}\\n* [[Calculator spelling]]\\n* [[Elitism]]\\n* [[Faux Cyrillic]]\\n* [[Geek Code]]\\n* [[IDN homograph attack]]\\n* [[Magic debug values]], specific values written to a PC\\'s memory \\n* [[Mojibake]], garbled text, resulting from text being decoded using an unintended character encoding\\n* [[Numeronym]], e.g. \"K9\" for \"canine\"\\n* [[Rebus]], an allusional device that uses pictures to represent words or parts of words\\n* [[SMS language]], a term for the abbreviations and slang used in mobile phone text messaging and other social technology\\n* [[Urban Dictionary]], a crowd-sourced slang dictionary\\n* [[Verlan]], inversion of syllables in a word\\n* [[Jargon File]], is a glossary and usage dictionary of computer programmer slang\\n* [[Arabic chat alphabet]]\\n{{Div col end}}\\n\\n==Notes==\\n{{reflist|group=Notes}}\\n\\n==Footnotes==\\n{{Reflist|20em}}\\n\\n==References==\\n{{refbegin|30em}}\\n* {{cite web | url=http://acronymfinder.com/ | title=The Acronym Finder | publisher=Mountain Data Systems, LLC  | accessdate=2007-04-11 }}\\n* {{cite web | title=An Explanation of l33t Speak | url=http://www.bbc.co.uk/dna/h2g2/A787917 | work=h2g2 | publisher=BBC | date=2002-08-16 | accessdate=2007-03-29 }}\\n* {{Cite journal | journal = Australian Journal of Emerging Technologies and Society | volume = 3 | issue=2 |\\n title = Game Geek\\'s Goss: Linguistic Creativity In Young Males Within An Online University Forum | last1 = Blashki | first1 = Katherine | last2 = Nichol | first2 = Sophie | year=2005 | pages=77–86 | url = http://www.swinburne.edu.au/sbs/ajets/journal/V3N2/pdf/V3N2-2-Blashki.pdf |format=PDF | postscript = <!--None-->}}\\n* {{cite web | title=Computer Hope Dictionary - Game definitions | url=http://www.computerhope.com/jargon/game.htm | publisher=Computer Hope | accessdate=2007-04-02}}\\n* {{cite web | url=http://acronyms.thefreedictionary.com/ | title=The Free Dictionary -- Acronyms  | work=The Free Dictionary | publisher=Farlex, Inc | accessdate=2007-04-11 }}\\n* {{cite web|title=Google Directory - Computers |url=http://www.google.org/alpha/Top/Computers/Programming/Languages/Obfuscated/ | publisher=Google |accessdate=2007-04-29 |archiveurl = https://web.archive.org/web/20070930224351/http://www.google.org/alpha/Top/Computers/Programming/Languages/Obfuscated/ <!-- Bot retrieved archive --> |archivedate = 2007-09-30}}\\n* {{cite book|title=E-Mail Essentials: How to Make the Most of E-Communications|last=Haig|first=Matt|year=2001|publisher=Kogan Page|isbn=0-7494-3576-3|page=89}}\\n* {{cite web | title=\"Is There A Translator in Teh House?\": Cultural and Discourse Analysis of a Virtual Speech Community on an Internet Message Board | last=LeBlanc | first=Tracy Rene | date=2005-04-01 | publisher=Louisiana State University | url=http://etd.lsu.edu/docs/available/etd-04072005-145922/unrestricted/LeBlanc_thesis.pdf |format=PDF}}\\n* {{cite web | title=A Leet Primer | last=Mitchell | first=Anthony | date=2006-06-12 | accessdate=2007-04-10 | url=http://www.technewsworld.com/story/47607.html | work=Technology News | publisher=ECT News Network, Inc }}\\n* {{Cite journal \\n| last1 = Perea | first1 = M. \\n| last2 = Duñabeitia | first2 = J. A. \\n| last3 = Carreiras | first3 = M. \\n| doi = 10.1037/0096-1523.34.1.237 \\n| title = R34D1Ng W0Rd5 W1Th Numb3R5 \\n| journal = Journal of Experimental Psychology: Human Perception and Performance \\n| volume = 34 \\n| issue = 1 \\n| pages = 237–241 \\n| year = 2008 \\n| pmid = 18248151 \\n| pmc = \\n| url = http://www.uv.es/~mperea/leet1.pdf\\n}}\\n* {{Cite journal|title=The New Hacker\\'s Dictionary|last1=Raymond|first1=Eric R.|last2=Steele|first2=Guy L.|year=1996|publisher=MIT Press|postscript=<!--None-->|isbn=0-262-68092-0}}\\n* {{cite web | title=relax we understand j00 | last=Rome | first=James Andrew | date=2001-12-18 | accessdate=2007-05-03 | publisher=[[Sigma Tau Delta]], The International English Honor Society. [[Case Western University]], Beta Beta Chapter | url=http://www.case.edu/orgs/sigmataudelta/submissions/rome-relaxweunderstand.htm |archiveurl = https://web.archive.org/web/20070216195207/http://www.case.edu/orgs/sigmataudelta/submissions/rome-relaxweunderstand.htm <!-- Bot retrieved archive --> |archivedate = 2007-02-16}}\\n* {{cite book | last=Sterling | first=Bruce | authorlink=Bruce Sterling | title =[[The Hacker Crackdown|The Hacker Crackdown: Law and Disorder on the Electronic Frontier]] | publisher=Bantam Spectra Books | location=New York | year=1994 | page=70 | isbn=0-553-56370-X }}\\n* {{cite web | title=Lexical tensions in \\'internet english\\' : 1337 as language? |last=Van de Velde | first=Kristof |author2=Meuleman, Jeroen  | year=2004 | accessdate=2007-04-13 | url=http://www.verbumvanum.org/kristof/index.html }}\\n* {{cite web | url=http://pages.cpsc.ucalgary.ca/~crwth/LOL.html | title=The creation of \"LOL\" | first=Wayne | last=Pearson | accessdate=2008-11-06}}\\n{{refend}}\\n\\n==External links==\\n{{Wiktionary|leet}}\\n* [http://cryptii.com/text/leetspeak Leet Translator]\\n\\n{{Internet Dialects}}\\n{{internet slang}}\\n\\n[[Category:Leet| ]]\\n[[Category:Alphabets]]\\n[[Category:Encodings]]\\n[[Category:In-jokes]]\\n[[Category:Internet culture]]\\n[[Category:Internet slang]]\\n[[Category:Latin-script representations]]\\n[[Category:Nerd culture]]\\n[[Category:Nonstandard spelling]]\\n[[Category:Obfuscation]]\\n[[Category:Social networking services]]\\n[[Category:1990s slang]]'"
      ]
     },
     "execution_count": 7,
     "metadata": {},
     "output_type": "execute_result"
    }
   ],
   "source": [
    "j['query']['pages']['18562']['revisions'][0]['*']"
   ]
  },
  {
   "cell_type": "markdown",
   "metadata": {},
   "source": [
    "not too bad!"
   ]
  },
  {
   "cell_type": "markdown",
   "metadata": {},
   "source": [
    "#### a quick diversion: installing selector gadget\n",
    "\n",
    "Not hard to explain -- go find the browser extension [selector gadget](http://selectorgadget.com/) and install it.\n",
    "\n",
    "So let's suppose now that we found a webpage we want to scrape, but they haven't built an awesome `json` api for us to use. Let's use [the list of the most downloaded `python` packages](http://pypi-ranking.info/alltime), and let's try and get the package name and the numbers from this list.\n",
    "\n",
    "Quick demo of selector gadget!"
   ]
  },
  {
   "cell_type": "markdown",
   "metadata": {},
   "source": [
    "#### `xpath` selection"
   ]
  },
  {
   "cell_type": "markdown",
   "metadata": {},
   "source": [
    "let's just dive right in and discuss things as we go through the example"
   ]
  },
  {
   "cell_type": "code",
   "execution_count": 8,
   "metadata": {
    "ExecuteTime": {
     "end_time": "2017-05-29T20:08:47.928238Z",
     "start_time": "2017-05-29T20:08:47.899689Z"
    },
    "collapsed": true
   },
   "outputs": [],
   "source": [
    "import lxml.html\n",
    "import requests"
   ]
  },
  {
   "cell_type": "code",
   "execution_count": 9,
   "metadata": {
    "ExecuteTime": {
     "end_time": "2017-05-29T20:08:48.636707Z",
     "start_time": "2017-05-29T20:08:48.058919Z"
    }
   },
   "outputs": [
    {
     "data": {
      "text/plain": [
       "200"
      ]
     },
     "execution_count": 9,
     "metadata": {},
     "output_type": "execute_result"
    }
   ],
   "source": [
    "response = requests.get(url='https://anaconda.org/anaconda/repo')\n",
    "response.status_code"
   ]
  },
  {
   "cell_type": "code",
   "execution_count": 10,
   "metadata": {
    "ExecuteTime": {
     "end_time": "2017-05-29T20:08:48.648337Z",
     "start_time": "2017-05-29T20:08:48.639302Z"
    }
   },
   "outputs": [
    {
     "name": "stdout",
     "output_type": "stream",
     "text": [
      "<!doctype html>\n",
      "<html lang=\"en\">\n",
      "  <head>\n",
      "    <meta charset=\"utf-8\" /><script type=\"text/javascript\">(window.NREUM||(NREUM={})).loader_config={xpid:\"VQUBU1dQChACUFhUAAcEVg==\"};window.NREUM||(NREUM={}),__nr_require=function(t,n,e){function r(e){if(!n[e]){var o=n[e]={exports:{}};t[e][0].call(o.exports,function(n){var o=t[e][1][n];return r(o||n)},o,o.exports)}return n[e].exports}if(\"function\"==typeof __nr_require)return __nr_require;for(var o=0;o<e.length;o++)r(e[o]);return r}({1:[function(t,n,e){function r(t){try{s.console&&console.log(t)}catch(n){}}var o,i=t(\"ee\"),a=t(15),s={};try{o=localStorage.getItem(\"__nr_flags\").split(\",\"),console&&\"function\"==typeof console.log&&(s.console=!0,o.indexOf(\"dev\")!==-1&&(s.dev=!0),o.indexOf(\"nr_dev\")!==-1&&(s.nrDev=!0))}catch(c){}s.nrDev&&i.on(\"internal-error\",function(t){r(t.stack)}),s.dev&&i.on(\"fn-err\",function(t,n,e){r(e.stack)}),s.dev&&(r(\"NR AGENT IN DEVELOPMENT MODE\"),r(\"flags: \"+a(s,function(t,n){return t}).join(\", \")))},{}],2:[function(t,n,e){function r(t,n,e,r,o){try{d?d-=1:i(\"err\",[o||new UncaughtException(t,n,e)])}catch(s){try{i(\"ierr\",[s,c.now(),!0])}catch(u){}}return\"function\"==typeof f&&f.apply(this,a(arguments))}function UncaughtException(t,n,e){this.message=t||\"Uncaught error with no additional information\",this.sourceURL=n,this.line=e}function o(t){i(\"err\",[t,c.now()])}var i=t(\"handle\"),a=t(16),s=t(\"ee\"),c=t(\"loader\"),f=window.onerror,u=!1,d=0;c.features.err=!0,t(1),window.onerror=r;try{throw new Error}catch(l){\"stack\"in l&&(t(8),t(7),\"addEventListener\"in window&&t(5),c.xhrWrappable&&t(9),u=!0)}s.on(\"fn-start\",function(t,n,e){u&&(d+=1)}),s.on(\"fn-err\",function(t,n,e){u&&(this.thrown=!0,o(e))}),s.on(\"fn-end\",function(){u&&!this.thrown&&d>0&&(d-=1)}),s.on(\"internal-error\",function(t){i(\"ierr\",[t,c.now(),!0])})},{}],3:[function(t,n,e){t(\"loader\").features.ins=!0},{}],4:[function(t,n,e){function r(t){}if(window.performance&&window.performance.timing&&window.performance.getEntriesByType){var o=t(\"ee\"),i=t(\"handle\"),a=t(8),s=t(7),c=\"learResourceTimings\",f=\"addEventListener\",u=\"resourcetimingbufferfull\",d=\"bstResource\",l=\"resource\",p=\"-start\",h=\"-end\",m=\"fn\"+p,w=\"fn\"+h,v=\"bstTimer\",y=\"pushState\",g=t(\"loader\");g.features.stn=!0,t(6);var b=NREUM.o.EV;o.on(m,function(t,n){var e=t[0];e instanceof b&&(this.bstStart=g.now())}),o.on(w,function(t,n){var e=t[0];e instanceof b&&i(\"bst\",[e,n,this.bstStart,g.now()])}),a.on(m,function(t,n,e){this.bstStart=g.now(),this.bstType=e}),a.on(w,function(t,n){i(v,[n,this.bstStart,g.now(),this.bstType])}),s.on(m,function(){this.bstStart=g.now()}),s.on(w,function(t,n){i(v,[n,this.bstStart,g.now(),\"requestAnimationFrame\"])}),o.on(y+p,function(t){this.time=g.now(),this.startPath=location.pathname+location.hash}),o.on(y+h,function(t){i(\"bstHist\",[location.pathname+location.hash,this.startPath,this.time])}),f in window.performance&&(window.performance[\"c\"+c]?window.performance[f](u,function(t){i(d,[window.performance.getEntriesByType(l)]),window.performance[\"c\"+c]()},!1):window.performance[f](\"webkit\"+u,function(t){i(d,[window.performance.getEntriesByType(l)]),window.performance[\"webkitC\"+c]()},!1)),document[f](\"scroll\",r,{passive:!0}),document[f](\"keypress\",r,!1),document[f](\"click\",r,!1)}},{}],5:[function(t,n,e){function r(t){for(var n=t;n&&!n.hasOwnProperty(u);)n=Object.getPrototypeOf(n);n&&o(n)}function o(t){s.inPlace(t,[u,d],\"-\",i)}function i(t,n){return t[1]}var a=t(\"ee\").get(\"events\"),s=t(18)(a,!0),c=t(\"gos\"),f=XMLHttpRequest,u=\"addEventListener\",d=\"removeEventListener\";n.exports=a,\"getPrototypeOf\"in Object?(r(document),r(window),r(f.prototype)):f.prototype.hasOwnProperty(u)&&(o(window),o(f.prototype)),a.on(u+\"-start\",function(t,n){var e=t[1],r=c(e,\"nr@wrapped\",function(){function t(){if(\"function\"==typeof e.handleEvent)return e.handleEvent.apply(e,arguments)}var n={object:t,\"function\":e}[typeof e];return n?s(n,\"fn-\",null,n.name||\"anonymous\"):e});this.wrapped=t[1]=r}),a.on(d+\"-start\",function(t){t[1]=this.wrapped||t[1]})},{}],6:[function(t,n,e){var r=t(\"ee\").get(\"history\"),o=t(18)(r);n.exports=r,o.inPlace(window.history,[\"pushState\",\"replaceState\"],\"-\")},{}],7:[function(t,n,e){var r=t(\"ee\").get(\"raf\"),o=t(18)(r),i=\"equestAnimationFrame\";n.exports=r,o.inPlace(window,[\"r\"+i,\"mozR\"+i,\"webkitR\"+i,\"msR\"+i],\"raf-\"),r.on(\"raf-start\",function(t){t[0]=o(t[0],\"fn-\")})},{}],8:[function(t,n,e){function r(t,n,e){t[0]=a(t[0],\"fn-\",null,e)}function o(t,n,e){this.method=e,this.timerDuration=isNaN(t[1])?0:+t[1],t[0]=a(t[0],\"fn-\",this,e)}var i=t(\"ee\").get(\"timer\"),a=t(18)(i),s=\"setTimeout\",c=\"setInterval\",f=\"clearTimeout\",u=\"-start\",d=\"-\";n.exports=i,a.inPlace(window,[s,\"setImmediate\"],s+d),a.inPlace(window,[c],c+d),a.inPlace(window,[f,\"clearImmediate\"],f+d),i.on(c+u,r),i.on(s+u,o)},{}],9:[function(t,n,e){function r(t,n){d.inPlace(n,[\"onreadystatechange\"],\"fn-\",s)}function o(){var t=this,n=u.context(t);t.readyState>3&&!n.resolved&&(n.resolved=!0,u.emit(\"xhr-resolved\",[],t)),d.inPlace(t,y,\"fn-\",s)}function i(t){g.push(t),h&&(x?x.then(a):w?w(a):(E=-E,O.data=E))}function a(){for(var t=0;t<g.length;t++)r([],g[t]);g.length&&(g=[])}function s(t,n){return n}function c(t,n){for(var e in t)n[e]=t[e];return n}t(5);var f=t(\"ee\"),u=f.get(\"xhr\"),d=t(18)(u),l=NREUM.o,p=l.XHR,h=l.MO,m=l.PR,w=l.SI,v=\"readystatechange\",y=[\"onload\",\"onerror\",\"onabort\",\"onloadstart\",\"onloadend\",\"onprogress\",\"ontimeout\"],g=[];n.exports=u;var b=window.XMLHttpRequest=function(t){var n=new p(t);try{u.emit(\"new-xhr\",[n],n),n.addEventListener(v,o,!1)}catch(e){try{u.emit(\"internal-error\",[e])}catch(r){}}return n};if(c(p,b),b.prototype=p.prototype,d.inPlace(b.prototype,[\"open\",\"send\"],\"-xhr-\",s),u.on(\"send-xhr-start\",function(t,n){r(t,n),i(n)}),u.on(\"open-xhr-start\",r),h){var x=m&&m.resolve();if(!w&&!m){var E=1,O=document.createTextNode(E);new h(a).observe(O,{characterData:!0})}}else f.on(\"fn-end\",function(t){t[0]&&t[0].type===v||a()})},{}],10:[function(t,n,e){function r(t){var n=this.params,e=this.metrics;if(!this.ended){this.ended=!0;for(var r=0;r<d;r++)t.removeEventListener(u[r],this.listener,!1);if(!n.aborted){if(e.duration=a.now()-this.startTime,4===t.readyState){n.status=t.status;var i=o(t,this.lastSize);if(i&&(e.rxSize=i),this.sameOrigin){var c=t.getResponseHeader(\"X-NewRelic-App-Data\");c&&(n.cat=c.split(\", \").pop())}}else n.status=0;e.cbTime=this.cbTime,f.emit(\"xhr-done\",[t],t),s(\"xhr\",[n,e,this.startTime])}}}function o(t,n){var e=t.responseType;if(\"json\"===e&&null!==n)return n;var r=\"arraybuffer\"===e||\"blob\"===e||\"json\"===e?t.response:t.responseText;return h(r)}function i(t,n){var e=c(n),r=t.params;r.host=e.hostname+\":\"+e.port,r.pathname=e.pathname,t.sameOrigin=e.sameOrigin}var a=t(\"loader\");if(a.xhrWrappable){var s=t(\"handle\"),c=t(11),f=t(\"ee\"),u=[\"load\",\"error\",\"abort\",\"timeout\"],d=u.length,l=t(\"id\"),p=t(14),h=t(13),m=window.XMLHttpRequest;a.features.xhr=!0,t(9),f.on(\"new-xhr\",function(t){var n=this;n.totalCbs=0,n.called=0,n.cbTime=0,n.end=r,n.ended=!1,n.xhrGuids={},n.lastSize=null,p&&(p>34||p<10)||window.opera||t.addEventListener(\"progress\",function(t){n.lastSize=t.loaded},!1)}),f.on(\"open-xhr-start\",function(t){this.params={method:t[0]},i(this,t[1]),this.metrics={}}),f.on(\"open-xhr-end\",function(t,n){\"loader_config\"in NREUM&&\"xpid\"in NREUM.loader_config&&this.sameOrigin&&n.setRequestHeader(\"X-NewRelic-ID\",NREUM.loader_config.xpid)}),f.on(\"send-xhr-start\",function(t,n){var e=this.metrics,r=t[0],o=this;if(e&&r){var i=h(r);i&&(e.txSize=i)}this.startTime=a.now(),this.listener=function(t){try{\"abort\"===t.type&&(o.params.aborted=!0),(\"load\"!==t.type||o.called===o.totalCbs&&(o.onloadCalled||\"function\"!=typeof n.onload))&&o.end(n)}catch(e){try{f.emit(\"internal-error\",[e])}catch(r){}}};for(var s=0;s<d;s++)n.addEventListener(u[s],this.listener,!1)}),f.on(\"xhr-cb-time\",function(t,n,e){this.cbTime+=t,n?this.onloadCalled=!0:this.called+=1,this.called!==this.totalCbs||!this.onloadCalled&&\"function\"==typeof e.onload||this.end(e)}),f.on(\"xhr-load-added\",function(t,n){var e=\"\"+l(t)+!!n;this.xhrGuids&&!this.xhrGuids[e]&&(this.xhrGuids[e]=!0,this.totalCbs+=1)}),f.on(\"xhr-load-removed\",function(t,n){var e=\"\"+l(t)+!!n;this.xhrGuids&&this.xhrGuids[e]&&(delete this.xhrGuids[e],this.totalCbs-=1)}),f.on(\"addEventListener-end\",function(t,n){n instanceof m&&\"load\"===t[0]&&f.emit(\"xhr-load-added\",[t[1],t[2]],n)}),f.on(\"removeEventListener-end\",function(t,n){n instanceof m&&\"load\"===t[0]&&f.emit(\"xhr-load-removed\",[t[1],t[2]],n)}),f.on(\"fn-start\",function(t,n,e){n instanceof m&&(\"onload\"===e&&(this.onload=!0),(\"load\"===(t[0]&&t[0].type)||this.onload)&&(this.xhrCbStart=a.now()))}),f.on(\"fn-end\",function(t,n){this.xhrCbStart&&f.emit(\"xhr-cb-time\",[a.now()-this.xhrCbStart,this.onload,n],n)})}},{}],11:[function(t,n,e){n.exports=function(t){var n=document.createElement(\"a\"),e=window.location,r={};n.href=t,r.port=n.port;var o=n.href.split(\"://\");!r.port&&o[1]&&(r.port=o[1].split(\"/\")[0].split(\"@\").pop().split(\":\")[1]),r.port&&\"0\"!==r.port||(r.port=\"https\"===o[0]?\"443\":\"80\"),r.hostname=n.hostname||e.hostname,r.pathname=n.pathname,r.protocol=o[0],\"/\"!==r.pathname.charAt(0)&&(r.pathname=\"/\"+r.pathname);var i=!n.protocol||\":\"===n.protocol||n.protocol===e.protocol,a=n.hostname===document.domain&&n.port===e.port;return r.sameOrigin=i&&(!n.hostname||a),r}},{}],12:[function(t,n,e){function r(){}function o(t,n,e){return function(){return i(t,[f.now()].concat(s(arguments)),n?null:this,e),n?void 0:this}}var i=t(\"handle\"),a=t(15),s=t(16),c=t(\"ee\").get(\"tracer\"),f=t(\"loader\"),u=NREUM;\"undefined\"==typeof window.newrelic&&(newrelic=u);var d=[\"setPageViewName\",\"setCustomAttribute\",\"setErrorHandler\",\"finished\",\"addToTrace\",\"inlineHit\",\"addRelease\"],l=\"api-\",p=l+\"ixn-\";a(d,function(t,n){u[n]=o(l+n,!0,\"api\")}),u.addPageAction=o(l+\"addPageAction\",!0),u.setCurrentRouteName=o(l+\"routeName\",!0),n.exports=newrelic,u.interaction=function(){return(new r).get()};var h=r.prototype={createTracer:function(t,n){var e={},r=this,o=\"function\"==typeof n;return i(p+\"tracer\",[f.now(),t,e],r),function(){if(c.emit((o?\"\":\"no-\")+\"fn-start\",[f.now(),r,o],e),o)try{return n.apply(this,arguments)}finally{c.emit(\"fn-end\",[f.now()],e)}}}};a(\"setName,setAttribute,save,ignore,onEnd,getContext,end,get\".split(\",\"),function(t,n){h[n]=o(p+n)}),newrelic.noticeError=function(t){\"string\"==typeof t&&(t=new Error(t)),i(\"err\",[t,f.now()])}},{}],13:[function(t,n,e){n.exports=function(t){if(\"string\"==typeof t&&t.length)return t.length;if(\"object\"==typeof t){if(\"undefined\"!=typeof ArrayBuffer&&t instanceof ArrayBuffer&&t.byteLength)return t.byteLength;if(\"undefined\"!=typeof Blob&&t instanceof Blob&&t.size)return t.size;if(!(\"undefined\"!=typeof FormData&&t instanceof FormData))try{return JSON.stringify(t).length}catch(n){return}}}},{}],14:[function(t,n,e){var r=0,o=navigator.userAgent.match(/Firefox[\\/\\s](\\d+\\.\\d+)/);o&&(r=+o[1]),n.exports=r},{}],15:[function(t,n,e){function r(t,n){var e=[],r=\"\",i=0;for(r in t)o.call(t,r)&&(e[i]=n(r,t[r]),i+=1);return e}var o=Object.prototype.hasOwnProperty;n.exports=r},{}],16:[function(t,n,e){function r(t,n,e){n||(n=0),\"undefined\"==typeof e&&(e=t?t.length:0);for(var r=-1,o=e-n||0,i=Array(o<0?0:o);++r<o;)i[r]=t[n+r];return i}n.exports=r},{}],17:[function(t,n,e){n.exports={exists:\"undefined\"!=typeof window.performance&&window.performance.timing&&\"undefined\"!=typeof window.performance.timing.navigationStart}},{}],18:[function(t,n,e){function r(t){return!(t&&t instanceof Function&&t.apply&&!t[a])}var o=t(\"ee\"),i=t(16),a=\"nr@original\",s=Object.prototype.hasOwnProperty,c=!1;n.exports=function(t,n){function e(t,n,e,o){function nrWrapper(){var r,a,s,c;try{a=this,r=i(arguments),s=\"function\"==typeof e?e(r,a):e||{}}catch(f){l([f,\"\",[r,a,o],s])}u(n+\"start\",[r,a,o],s);try{return c=t.apply(a,r)}catch(d){throw u(n+\"err\",[r,a,d],s),d}finally{u(n+\"end\",[r,a,c],s)}}return r(t)?t:(n||(n=\"\"),nrWrapper[a]=t,d(t,nrWrapper),nrWrapper)}function f(t,n,o,i){o||(o=\"\");var a,s,c,f=\"-\"===o.charAt(0);for(c=0;c<n.length;c++)s=n[c],a=t[s],r(a)||(t[s]=e(a,f?s+o:o,i,s))}function u(e,r,o){if(!c||n){var i=c;c=!0;try{t.emit(e,r,o,n)}catch(a){l([a,e,r,o])}c=i}}function d(t,n){if(Object.defineProperty&&Object.keys)try{var e=Object.keys(t);return e.forEach(function(e){Object.defineProperty(n,e,{get:function(){return t[e]},set:function(n){return t[e]=n,n}})}),n}catch(r){l([r])}for(var o in t)s.call(t,o)&&(n[o]=t[o]);return n}function l(n){try{t.emit(\"internal-error\",n)}catch(e){}}return t||(t=o),e.inPlace=f,e.flag=a,e}},{}],ee:[function(t,n,e){function r(){}function o(t){function n(t){return t&&t instanceof r?t:t?c(t,s,i):i()}function e(e,r,o,i){if(!l.aborted||i){t&&t(e,r,o);for(var a=n(o),s=h(e),c=s.length,f=0;f<c;f++)s[f].apply(a,r);var d=u[y[e]];return d&&d.push([g,e,r,a]),a}}function p(t,n){v[t]=h(t).concat(n)}function h(t){return v[t]||[]}function m(t){return d[t]=d[t]||o(e)}function w(t,n){f(t,function(t,e){n=n||\"feature\",y[e]=n,n in u||(u[n]=[])})}var v={},y={},g={on:p,emit:e,get:m,listeners:h,context:n,buffer:w,abort:a,aborted:!1};return g}function i(){return new r}function a(){(u.api||u.feature)&&(l.aborted=!0,u=l.backlog={})}var s=\"nr@context\",c=t(\"gos\"),f=t(15),u={},d={},l=n.exports=o();l.backlog=u},{}],gos:[function(t,n,e){function r(t,n,e){if(o.call(t,n))return t[n];var r=e();if(Object.defineProperty&&Object.keys)try{return Object.defineProperty(t,n,{value:r,writable:!0,enumerable:!1}),r}catch(i){}return t[n]=r,r}var o=Object.prototype.hasOwnProperty;n.exports=r},{}],handle:[function(t,n,e){function r(t,n,e,r){o.buffer([t],r),o.emit(t,n,e)}var o=t(\"ee\").get(\"handle\");n.exports=r,r.ee=o},{}],id:[function(t,n,e){function r(t){var n=typeof t;return!t||\"object\"!==n&&\"function\"!==n?-1:t===window?0:a(t,i,function(){return o++})}var o=1,i=\"nr@id\",a=t(\"gos\");n.exports=r},{}],loader:[function(t,n,e){function r(){if(!x++){var t=b.info=NREUM.info,n=l.getElementsByTagName(\"script\")[0];if(setTimeout(u.abort,3e4),!(t&&t.licenseKey&&t.applicationID&&n))return u.abort();f(y,function(n,e){t[n]||(t[n]=e)}),c(\"mark\",[\"onload\",a()+b.offset],null,\"api\");var e=l.createElement(\"script\");e.src=\"https://\"+t.agent,n.parentNode.insertBefore(e,n)}}function o(){\"complete\"===l.readyState&&i()}function i(){c(\"mark\",[\"domContent\",a()+b.offset],null,\"api\")}function a(){return E.exists&&performance.now?Math.round(performance.now()):(s=Math.max((new Date).getTime(),s))-b.offset}var s=(new Date).getTime(),c=t(\"handle\"),f=t(15),u=t(\"ee\"),d=window,l=d.document,p=\"addEventListener\",h=\"attachEvent\",m=d.XMLHttpRequest,w=m&&m.prototype;NREUM.o={ST:setTimeout,SI:d.setImmediate,CT:clearTimeout,XHR:m,REQ:d.Request,EV:d.Event,PR:d.Promise,MO:d.MutationObserver};var v=\"\"+location,y={beacon:\"bam.nr-data.net\",errorBeacon:\"bam.nr-data.net\",agent:\"js-agent.newrelic.com/nr-1044.min.js\"},g=m&&w&&w[p]&&!/CriOS/.test(navigator.userAgent),b=n.exports={offset:s,now:a,origin:v,features:{},xhrWrappable:g};t(12),l[p]?(l[p](\"DOMContentLoaded\",i,!1),d[p](\"load\",r,!1)):(l[h](\"onreadystatechange\",o),d[h](\"onload\",r)),c(\"mark\",[\"firstbyte\",s],null,\"api\");var x=0,E=t(17)},{}]},{},[\"loader\",2,10,4,3]);</script><script type=\"text/javascript\">window.NREUM||(NREUM={});NREUM.info={\"beacon\":\"bam.nr-data.net\",\"queueTime\":0,\"licenseKey\":\"e6ad4d06d5\",\"agent\":\"\",\"transactionName\":\"YVxbYkUAD0RYVBZRCVgWf0NZAhVeVllNWQhXWlZYUwA+R1VWFl4JRFQXVVgMEVhXUgxMSERcSVkZFwhSTkRMSAdVUlhRUhJbR1hUCVkBU0pmQF4EFg==\",\"applicationID\":\"24967630\",\"errorBeacon\":\"bam.nr-data.net\",\"applicationTime\":697}</script>\n",
      "    <meta name=\"viewport\" content=\"width=device-width, initial-scale=1, minimum-scale=1, maximum-scale=1\">\n",
      "    \n",
      "    <title>Package repository for anaconda :: Anaconda Cloud</title>\n",
      "    <link rel=\"shortcut icon\" href=\"//binstar-static-prod.s3.amazonaws.com/latest/img/apple-touch-icon.png\">\n",
      "    <link rel=\"stylesheet\" type=\"text/css\" href=\"//binstar-static-prod.s3.amazonaws.com/latest/css/app.css\">\n",
      "    <!--[if gte IE 9]>\n",
      "      <style type=\"text/css\">\n",
      "        .gradient {\n",
      "           filter: none;\n",
      "        }\n",
      "      </style>\n",
      "    <![endif]-->\n",
      "    <script src=\"//binstar-static-prod.s3.amazonaws.com/latest/js/bundle.js\"></script>\n",
      "    \n",
      "    \n",
      "  </head>\n",
      "  <body >\n",
      "    \n",
      "    \n",
      "      <div class=\"contain-to-grid\">\n",
      "  <nav class=\"top-bar\" data-topbar role=\"navigation\">\n",
      "    <ul class=\"title-area\">\n",
      "      <li class=\"name\">\n",
      "        <h1>\n",
      "          <a class=\"navbar-brand\" href=\"/\">\n",
      "            <img src=\"//binstar-static-prod.s3.amazonaws.com/latest/img/AnacondaCloud_logo_green.png\"\n",
      "                 class=\" small \" />\n",
      "          </a>\n",
      "        </h1>\n",
      "      </li>\n",
      "      <li class=\"toggle-topbar menu-icon\"><a href=\"#\"><span>Menu</span></a></li>\n",
      "    </ul>\n",
      "    <section class=\"top-bar-section\">\n",
      "      \n",
      "      <ul class=\"left\">\n",
      "        <li class=\"has-form\">\n",
      "          <form action=\"/search\">\n",
      "            <div class=\"row collapse\">\n",
      "              <div class=\"small-9 columns\">\n",
      "                <input type=\"text\" placeholder=\"Search Anaconda Cloud\" name=\"q\">\n",
      "              </div>\n",
      "              <div class=\"small-3 columns\">\n",
      "                <button type=\"submit\" class=\"button postfix fa fa-search\"></button>\n",
      "              </div>\n",
      "            </div>\n",
      "          </form>\n",
      "        </li>\n",
      "      </ul>\n",
      "      \n",
      "      <ul class=\"right\">\n",
      "        \n",
      "        <li><a href=\"/gallery\">Gallery</a></li>\n",
      "        \n",
      "        \n",
      "        <li><a href=\"/about\">About</a></li>\n",
      "        \n",
      "        <li><a href=\"/about/pricing\">Pricing</a></li>\n",
      "        \n",
      "        <li><a href=\"https://www.anaconda.com/what-is-anaconda/\" target=\"_blank\">Anaconda</a></li>\n",
      "        <li><a href=\"https://docs.anaconda.com/anaconda-cloud/user-guide\" target=\"_blank\">Help</a></li>\n",
      "        \n",
      "        <li><a href=\"https://www.anaconda.com/downloads\" target=\"_blank\">Download Anaconda</a></li>\n",
      "        \n",
      "        <li><a href=\"/account/login?next=%2Fanaconda%2Frepo\">Sign In</a></li>\n",
      "      </ul>\n",
      "    </section>\n",
      "  </nav>\n",
      "</div>\n",
      "    \n",
      "    \n",
      "    <div class=\"container\">\n",
      "      \n",
      "      <div class=\"row\">\n",
      "        <div class=\"columns medium-12\">\n",
      "          \n",
      "          \n",
      "          \n",
      "          \n",
      "        </div>\n",
      "      </div>\n",
      "      \n",
      "        <div class=\"row\"><div class=\"columns medium-12\">\n",
      "<div class=\"row\">\n",
      "  <div class=\"columns medium-12\">\n",
      "    <h2><a href=\"/anaconda\" class=\"long-breadcrumb\">anaconda</a> \n",
      "/ \n",
      "<strong>packages</strong></h2>\n",
      "    <div class=\"row\">\n",
      "      <div class=\"columns medium-12\">\n",
      "        \n",
      "<div class=\"row\" id=\"packageTopNav\">\n",
      "  <div class=\"columns medium-12\">\n",
      "    <ul class=\"tabs tabs-3 text-center navigation\">\n",
      "      <li class=\"tab-title active\"> <a href=\"/anaconda/repo\"> Packages </a> </li>\n",
      "      <li class=\"tab-title \"> <a href=\"/anaconda/repo/files\"> Files </a> </li>\n",
      "      <li class=\"tab-title \"> <a href=\"/anaconda/repo/installers\"> Install Instructions </a> </li>\n",
      "      \n",
      "    </ul>\n",
      "  </div>\n",
      "</div>\n",
      "\n",
      "\n",
      "        \n",
      "<div class=\"row\">\n",
      "  <div class=\"columns medium-12\">\n",
      "    <fieldset>\n",
      "      <legend><i class=\"fa fa-filter\"></i> Filters</legend>\n",
      "      <div class=\"row\">\n",
      "        <div class=\"columns medium-4\">\n",
      "          \n",
      "  <dl class=\"sub-nav\" role=\"menu\" title=\"Filter Menu List\">\n",
      "    <dd role=\"menuitem\" data-dropdown=\"Type\">\n",
      "      <a href=\"#\">\n",
      "        Type: all\n",
      "\n",
      "        <i class=\"fa fa-angle-down\"></i>\n",
      "      </a>\n",
      "    </dd>\n",
      "  </dl>\n",
      "  <ul id=\"Type\" class=\"f-dropdown\" data-dropdown-content aria-hidden=\"true\" tabindex=\"-1\">\n",
      "    <li class=\"active \"> <a href=\"/anaconda/repo?type=all\">All</a></li>\n",
      "    \n",
      "      <li class=\" \"> <a href=\"/anaconda/repo?type=pypi\"> <i class=\"ca ca-pypi\"></i> pypi</a></li>\n",
      "    \n",
      "      <li class=\" \"> <a href=\"/anaconda/repo?type=conda\"> <i class=\"ca ca-conda\"></i> conda</a></li>\n",
      "    \n",
      "      <li class=\" \"> <a href=\"/anaconda/repo?type=r\"> <i class=\"ca ca-r\"></i> r</a></li>\n",
      "    \n",
      "  </ul>\n",
      "\n",
      "        </div>\n",
      "        <div class=\"columns medium-4\">\n",
      "          \n",
      "  <dl class=\"sub-nav\" role=\"menu\" title=\"Filter Menu List\">\n",
      "    <dd role=\"menuitem\" data-dropdown=\"Access\">\n",
      "      <a href=\"#\">\n",
      "        Access: all\n",
      "        <i class=\"fa fa-angle-down\"></i>\n",
      "      </a>\n",
      "    </dd>\n",
      "  </dl>\n",
      "  <ul id=\"Access\" class=\"f-dropdown\" data-dropdown-content aria-hidden=\"true\" tabindex=\"-1\">\n",
      "    <li class=\"active \"> <a href=\"/anaconda/repo?access=all\"> <i class=\"fa fa-fw\"></i>Access: All</a> </li>\n",
      "    <li class=\" \"> <a href=\"/anaconda/repo?access=public\"> <i class=\"fa fa-fw fa-globe\"></i> Public</a> </li>\n",
      "    <li class=\" \"> <a href=\"/anaconda/repo?access=private\"> <i class=\"fa fa-fw fa-lock\"></i> Private</a> </li>\n",
      "  </ul>\n",
      "\n",
      "        </div>\n",
      "        <div class=\"columns medium-4\">\n",
      "          \n",
      "  <dl class=\"sub-nav\" role=\"menu\" title=\"Filter Menu List\">\n",
      "    <dd role=\"menuitem\" data-dropdown=\"Label\">\n",
      "      <a href=\"#\">\n",
      "        Label: all\n",
      "        <i class=\"fa fa-angle-down\"></i>\n",
      "      </a>\n",
      "    </dd>\n",
      "  </dl>\n",
      "  <ul id=\"Label\" class=\"f-dropdown\" data-dropdown-content aria-hidden=\"true\" tabindex=\"-1\">\n",
      "    <li class=\" \"> <a href=\"/anaconda/repo?label=main\"> <i class=\"fa fa-fw fa-tag\"></i>main</a></li>\n",
      "    \n",
      "    \n",
      "      <li class=\"active \"> <a href=\"/anaconda/repo?label=all\"> <i class=\"fa fa-fw \"></i>All labels</a> </li>\n",
      "    \n",
      "    \n",
      "      <li class=\" \"> <a href=\"/anaconda/repo?label=empty\"> <i class=\"fa fa-fw \"></i>Unlabeled</a> </li>\n",
      "    \n",
      "\n",
      "  </ul>\n",
      "\n",
      "        </div>\n",
      "      </div>\n",
      "    </fieldset>\n",
      "  </div>\n",
      "</div>\n",
      "\n",
      "        \n",
      "\n",
      "\n",
      "  <div class=\"row\">\n",
      "    <div class=\"columns medium-12\">\n",
      "      \n",
      "    </div>\n",
      "  </div>\n",
      "  <div class=\"row\">\n",
      "    <div class=\"columns medium-12 package-form-container\">\n",
      "      \n",
      "        <table class=\"full-width\" id=\"repo-packages-table\">\n",
      "          <thead>\n",
      "<tr>\n",
      "  <th class=\"ellipse\">\n",
      "    \n",
      "      \n",
      "    <a class=\"text-white\" href=\"/anaconda/repo?sort=_name&sort_order=desc\" >\n",
      "        <i class=\"fa fa-sort\"></i>\n",
      "        Package Name\n",
      "    </a>\n",
      "    \n",
      "    \n",
      "  </th>\n",
      "  <th class=\"ellipse sorter-false\">Access</th>\n",
      "  <th class=\"ellipse sorter-false\">Summary</th>\n",
      "  <th class=\"ellipse\">\n",
      "    \n",
      "    <a class=\"text-white\" href=\"/anaconda/repo?sort=time.modified&sort_order=asc\" >\n",
      "        <i class=\"fa fa-sort-desc\"></i>\n",
      "        Updated\n",
      "    </a>\n",
      "    \n",
      "  </th>\n",
      "</tr>\n",
      "</thead>\n",
      "          <tbody>\n",
      "\n",
      "  <tr>\n",
      "    <td class=\"package-title\">\n",
      "      \n",
      "      <a data-package href=\"/anaconda/anaconda\">\n",
      "        \n",
      "    <i class=\"ca ca-conda\"></i>\n",
      "  \n",
      "        <span class='packageName'>anaconda</span>\n",
      "      </a>\n",
      "    </td>\n",
      "    <td>public</td>\n",
      "    <td>\n",
      "      Simplifies package management and deployment of Anaconda\n",
      "    </td>\n",
      "    <td>2017-10-01</td>\n",
      "  </tr>\n",
      "\n",
      "  <tr>\n",
      "    <td class=\"package-title\">\n",
      "      \n",
      "      <a data-package href=\"/anaconda/python\">\n",
      "        \n",
      "    <i class=\"ca ca-conda\"></i>\n",
      "  \n",
      "        <span class='packageName'>python</span>\n",
      "      </a>\n",
      "    </td>\n",
      "    <td>public</td>\n",
      "    <td>\n",
      "      general purpose programming language\n",
      "    </td>\n",
      "    <td>2017-09-30</td>\n",
      "  </tr>\n",
      "\n",
      "  <tr>\n",
      "    <td class=\"package-title\">\n",
      "      \n",
      "      <a data-package href=\"/anaconda/conda-build\">\n",
      "        \n",
      "    <i class=\"ca ca-conda\"></i>\n",
      "  \n",
      "        <span class='packageName'>conda-build</span>\n",
      "      </a>\n",
      "    </td>\n",
      "    <td>public</td>\n",
      "    <td>\n",
      "      tools for building conda packages\n",
      "    </td>\n",
      "    <td>2017-09-29</td>\n",
      "  </tr>\n",
      "\n",
      "  <tr>\n",
      "    <td class=\"package-title\">\n",
      "      \n",
      "      <a data-package href=\"/anaconda/xar\">\n",
      "        \n",
      "    <i class=\"ca ca-conda\"></i>\n",
      "  \n",
      "        <span class='packageName'>xar</span>\n",
      "      </a>\n",
      "    </td>\n",
      "    <td>public</td>\n",
      "    <td>\n",
      "      eXtensible ARchiver\n",
      "    </td>\n",
      "    <td>2017-09-29</td>\n",
      "  </tr>\n",
      "\n",
      "  <tr>\n",
      "    <td class=\"package-title\">\n",
      "      \n",
      "      <a data-package href=\"/anaconda/wget\">\n",
      "        \n",
      "    <i class=\"ca ca-conda\"></i>\n",
      "  \n",
      "        <span class='packageName'>wget</span>\n",
      "      </a>\n",
      "    </td>\n",
      "    <td>public</td>\n",
      "    <td>\n",
      "      No Summary\n",
      "    </td>\n",
      "    <td>2017-09-29</td>\n",
      "  </tr>\n",
      "\n",
      "  <tr>\n",
      "    <td class=\"package-title\">\n",
      "      \n",
      "      <a data-package href=\"/anaconda/verboselogs\">\n",
      "        \n",
      "    <i class=\"ca ca-conda\"></i>\n",
      "  \n",
      "        <span class='packageName'>verboselogs</span>\n",
      "      </a>\n",
      "    </td>\n",
      "    <td>public</td>\n",
      "    <td>\n",
      "      Verbose logging level for Python&#39;s logging module.\n",
      "    </td>\n",
      "    <td>2017-09-29</td>\n",
      "  </tr>\n",
      "\n",
      "  <tr>\n",
      "    <td class=\"package-title\">\n",
      "      \n",
      "      <a data-package href=\"/anaconda/s3transfer\">\n",
      "        \n",
      "    <i class=\"ca ca-conda\"></i>\n",
      "  \n",
      "        <span class='packageName'>s3transfer</span>\n",
      "      </a>\n",
      "    </td>\n",
      "    <td>public</td>\n",
      "    <td>\n",
      "      No Summary\n",
      "    </td>\n",
      "    <td>2017-09-29</td>\n",
      "  </tr>\n",
      "\n",
      "  <tr>\n",
      "    <td class=\"package-title\">\n",
      "      \n",
      "      <a data-package href=\"/anaconda/snappy\">\n",
      "        \n",
      "    <i class=\"ca ca-conda\"></i>\n",
      "  \n",
      "        <span class='packageName'>snappy</span>\n",
      "      </a>\n",
      "    </td>\n",
      "    <td>public</td>\n",
      "    <td>\n",
      "      fast compressor/decompressor\n",
      "    </td>\n",
      "    <td>2017-09-29</td>\n",
      "  </tr>\n",
      "\n",
      "  <tr>\n",
      "    <td class=\"package-title\">\n",
      "      \n",
      "      <a data-package href=\"/anaconda/requests-kerberos\">\n",
      "        \n",
      "    <i class=\"ca ca-conda\"></i>\n",
      "  \n",
      "        <span class='packageName'>requests-kerberos</span>\n",
      "      </a>\n",
      "    </td>\n",
      "    <td>public</td>\n",
      "    <td>\n",
      "      Kerberos authentication handler for python-requests\n",
      "    </td>\n",
      "    <td>2017-09-29</td>\n",
      "  </tr>\n",
      "\n",
      "  <tr>\n",
      "    <td class=\"package-title\">\n",
      "      \n",
      "      <a data-package href=\"/anaconda/python-editor\">\n",
      "        \n",
      "    <i class=\"ca ca-conda\"></i>\n",
      "  \n",
      "        <span class='packageName'>python-editor</span>\n",
      "      </a>\n",
      "    </td>\n",
      "    <td>public</td>\n",
      "    <td>\n",
      "      Programmatically open an editor, capture the result.\n",
      "    </td>\n",
      "    <td>2017-09-29</td>\n",
      "  </tr>\n",
      "\n",
      "  <tr>\n",
      "    <td class=\"package-title\">\n",
      "      \n",
      "      <a data-package href=\"/anaconda/pytest-cov\">\n",
      "        \n",
      "    <i class=\"ca ca-conda\"></i>\n",
      "  \n",
      "        <span class='packageName'>pytest-cov</span>\n",
      "      </a>\n",
      "    </td>\n",
      "    <td>public</td>\n",
      "    <td>\n",
      "      Pytest plugin for measuring coverage\n",
      "    </td>\n",
      "    <td>2017-09-29</td>\n",
      "  </tr>\n",
      "\n",
      "  <tr>\n",
      "    <td class=\"package-title\">\n",
      "      \n",
      "      <a data-package href=\"/anaconda/pytables\">\n",
      "        \n",
      "    <i class=\"ca ca-conda\"></i>\n",
      "  \n",
      "        <span class='packageName'>pytables</span>\n",
      "      </a>\n",
      "    </td>\n",
      "    <td>public</td>\n",
      "    <td>\n",
      "      Manage hierarchical datasets to cope with large amounts of data\n",
      "    </td>\n",
      "    <td>2017-09-29</td>\n",
      "  </tr>\n",
      "\n",
      "  <tr>\n",
      "    <td class=\"package-title\">\n",
      "      \n",
      "      <a data-package href=\"/anaconda/pykerberos\">\n",
      "        \n",
      "    <i class=\"ca ca-conda\"></i>\n",
      "  \n",
      "        <span class='packageName'>pykerberos</span>\n",
      "      </a>\n",
      "    </td>\n",
      "    <td>public</td>\n",
      "    <td>\n",
      "      high-level interface to Kerberos\n",
      "    </td>\n",
      "    <td>2017-09-29</td>\n",
      "  </tr>\n",
      "\n",
      "  <tr>\n",
      "    <td class=\"package-title\">\n",
      "      \n",
      "      <a data-package href=\"/anaconda/pyjwt\">\n",
      "        \n",
      "    <i class=\"ca ca-conda\"></i>\n",
      "  \n",
      "        <span class='packageName'>pyjwt</span>\n",
      "      </a>\n",
      "    </td>\n",
      "    <td>public</td>\n",
      "    <td>\n",
      "      JSON Web Token implementation in Python\n",
      "    </td>\n",
      "    <td>2017-09-29</td>\n",
      "  </tr>\n",
      "\n",
      "  <tr>\n",
      "    <td class=\"package-title\">\n",
      "      \n",
      "      <a data-package href=\"/anaconda/py4j\">\n",
      "        \n",
      "    <i class=\"ca ca-conda\"></i>\n",
      "  \n",
      "        <span class='packageName'>py4j</span>\n",
      "      </a>\n",
      "    </td>\n",
      "    <td>public</td>\n",
      "    <td>\n",
      "      Enables Python programs to dynamically access arbitrary Java objects\n",
      "    </td>\n",
      "    <td>2017-09-29</td>\n",
      "  </tr>\n",
      "\n",
      "  <tr>\n",
      "    <td class=\"package-title\">\n",
      "      \n",
      "      <a data-package href=\"/anaconda/plotly\">\n",
      "        \n",
      "    <i class=\"ca ca-conda\"></i>\n",
      "  \n",
      "        <span class='packageName'>plotly</span>\n",
      "      </a>\n",
      "    </td>\n",
      "    <td>public</td>\n",
      "    <td>\n",
      "      An interactive, browser-based graphing library for Python\n",
      "    </td>\n",
      "    <td>2017-09-29</td>\n",
      "  </tr>\n",
      "\n",
      "  <tr>\n",
      "    <td class=\"package-title\">\n",
      "      \n",
      "      <a data-package href=\"/anaconda/pip\">\n",
      "        \n",
      "    <i class=\"ca ca-conda\"></i>\n",
      "  \n",
      "        <span class='packageName'>pip</span>\n",
      "      </a>\n",
      "    </td>\n",
      "    <td>public</td>\n",
      "    <td>\n",
      "      No Summary\n",
      "    </td>\n",
      "    <td>2017-09-29</td>\n",
      "  </tr>\n",
      "\n",
      "  <tr>\n",
      "    <td class=\"package-title\">\n",
      "      \n",
      "      <a data-package href=\"/anaconda/phonenumbers\">\n",
      "        \n",
      "    <i class=\"ca ca-conda\"></i>\n",
      "  \n",
      "        <span class='packageName'>phonenumbers</span>\n",
      "      </a>\n",
      "    </td>\n",
      "    <td>public</td>\n",
      "    <td>\n",
      "      Python version of Google&#39;s common library for parsing, formatting, storing and validating international phone numbers.\n",
      "    </td>\n",
      "    <td>2017-09-29</td>\n",
      "  </tr>\n",
      "\n",
      "  <tr>\n",
      "    <td class=\"package-title\">\n",
      "      \n",
      "      <a data-package href=\"/anaconda/pep8-naming\">\n",
      "        \n",
      "    <i class=\"ca ca-conda\"></i>\n",
      "  \n",
      "        <span class='packageName'>pep8-naming</span>\n",
      "      </a>\n",
      "    </td>\n",
      "    <td>public</td>\n",
      "    <td>\n",
      "      Plug-in for flake 8 to check the PEP-8 naming conventions\n",
      "    </td>\n",
      "    <td>2017-09-29</td>\n",
      "  </tr>\n",
      "\n",
      "  <tr>\n",
      "    <td class=\"package-title\">\n",
      "      \n",
      "      <a data-package href=\"/anaconda/pbr\">\n",
      "        \n",
      "    <i class=\"ca ca-conda\"></i>\n",
      "  \n",
      "        <span class='packageName'>pbr</span>\n",
      "      </a>\n",
      "    </td>\n",
      "    <td>public</td>\n",
      "    <td>\n",
      "      Python Build Reasonableness\n",
      "    </td>\n",
      "    <td>2017-09-29</td>\n",
      "  </tr>\n",
      "\n",
      "  <tr>\n",
      "    <td class=\"package-title\">\n",
      "      \n",
      "      <a data-package href=\"/anaconda/patch\">\n",
      "        \n",
      "    <i class=\"ca ca-conda\"></i>\n",
      "  \n",
      "        <span class='packageName'>patch</span>\n",
      "      </a>\n",
      "    </td>\n",
      "    <td>public</td>\n",
      "    <td>\n",
      "      Native Win32 versions of common unix tools\n",
      "    </td>\n",
      "    <td>2017-09-29</td>\n",
      "  </tr>\n",
      "\n",
      "  <tr>\n",
      "    <td class=\"package-title\">\n",
      "      \n",
      "      <a data-package href=\"/anaconda/parsedatetime\">\n",
      "        \n",
      "    <i class=\"ca ca-conda\"></i>\n",
      "  \n",
      "        <span class='packageName'>parsedatetime</span>\n",
      "      </a>\n",
      "    </td>\n",
      "    <td>public</td>\n",
      "    <td>\n",
      "      Parse human-readable date/time text.\n",
      "    </td>\n",
      "    <td>2017-09-29</td>\n",
      "  </tr>\n",
      "\n",
      "  <tr>\n",
      "    <td class=\"package-title\">\n",
      "      \n",
      "      <a data-package href=\"/anaconda/numpy\">\n",
      "        \n",
      "    <i class=\"ca ca-conda\"></i>\n",
      "  \n",
      "        <span class='packageName'>numpy</span>\n",
      "      </a>\n",
      "    </td>\n",
      "    <td>public</td>\n",
      "    <td>\n",
      "      array processing for numbers, strings, records, and objects\n",
      "    </td>\n",
      "    <td>2017-09-29</td>\n",
      "  </tr>\n",
      "\n",
      "  <tr>\n",
      "    <td class=\"package-title\">\n",
      "      \n",
      "      <a data-package href=\"/anaconda/orderedmultidict\">\n",
      "        \n",
      "    <i class=\"ca ca-conda\"></i>\n",
      "  \n",
      "        <span class='packageName'>orderedmultidict</span>\n",
      "      </a>\n",
      "    </td>\n",
      "    <td>public</td>\n",
      "    <td>\n",
      "      Ordered Multivalue Dictionary - omdict.\n",
      "    </td>\n",
      "    <td>2017-09-29</td>\n",
      "  </tr>\n",
      "\n",
      "  <tr>\n",
      "    <td class=\"package-title\">\n",
      "      \n",
      "      <a data-package href=\"/anaconda/nodejs\">\n",
      "        \n",
      "    <i class=\"ca ca-conda\"></i>\n",
      "  \n",
      "        <span class='packageName'>nodejs</span>\n",
      "      </a>\n",
      "    </td>\n",
      "    <td>public</td>\n",
      "    <td>\n",
      "      a platform for easily building fast, scalable network applications\n",
      "    </td>\n",
      "    <td>2017-09-29</td>\n",
      "  </tr>\n",
      "\n",
      "  <tr>\n",
      "    <td class=\"package-title\">\n",
      "      \n",
      "      <a data-package href=\"/anaconda/nbpresent\">\n",
      "        \n",
      "    <i class=\"ca ca-conda\"></i>\n",
      "  \n",
      "        <span class='packageName'>nbpresent</span>\n",
      "      </a>\n",
      "    </td>\n",
      "    <td>public</td>\n",
      "    <td>\n",
      "      No Summary\n",
      "    </td>\n",
      "    <td>2017-09-29</td>\n",
      "  </tr>\n",
      "\n",
      "  <tr>\n",
      "    <td class=\"package-title\">\n",
      "      \n",
      "      <a data-package href=\"/anaconda/nb_conda\">\n",
      "        \n",
      "    <i class=\"ca ca-conda\"></i>\n",
      "  \n",
      "        <span class='packageName'>nb_conda</span>\n",
      "      </a>\n",
      "    </td>\n",
      "    <td>public</td>\n",
      "    <td>\n",
      "      Conda environment and package access extension from within Jupyter\n",
      "    </td>\n",
      "    <td>2017-09-29</td>\n",
      "  </tr>\n",
      "\n",
      "  <tr>\n",
      "    <td class=\"package-title\">\n",
      "      \n",
      "      <a data-package href=\"/anaconda/mako\">\n",
      "        \n",
      "    <i class=\"ca ca-conda\"></i>\n",
      "  \n",
      "        <span class='packageName'>mako</span>\n",
      "      </a>\n",
      "    </td>\n",
      "    <td>public</td>\n",
      "    <td>\n",
      "      A super-fast templating language that borrows the best ideas from the existing templating languages.\n",
      "    </td>\n",
      "    <td>2017-09-29</td>\n",
      "  </tr>\n",
      "\n",
      "  <tr>\n",
      "    <td class=\"package-title\">\n",
      "      \n",
      "      <a data-package href=\"/anaconda/lzo\">\n",
      "        \n",
      "    <i class=\"ca ca-conda\"></i>\n",
      "  \n",
      "        <span class='packageName'>lzo</span>\n",
      "      </a>\n",
      "    </td>\n",
      "    <td>public</td>\n",
      "    <td>\n",
      "      LZO is a portable lossless data compression library written in ANSI C.\n",
      "    </td>\n",
      "    <td>2017-09-29</td>\n",
      "  </tr>\n",
      "\n",
      "  <tr>\n",
      "    <td class=\"package-title\">\n",
      "      \n",
      "      <a data-package href=\"/anaconda/libuuid\">\n",
      "        \n",
      "    <i class=\"ca ca-conda\"></i>\n",
      "  \n",
      "        <span class='packageName'>libuuid</span>\n",
      "      </a>\n",
      "    </td>\n",
      "    <td>public</td>\n",
      "    <td>\n",
      "      No Summary\n",
      "    </td>\n",
      "    <td>2017-09-29</td>\n",
      "  </tr>\n",
      "\n",
      "  <tr>\n",
      "    <td class=\"package-title\">\n",
      "      \n",
      "      <a data-package href=\"/anaconda/krb5\">\n",
      "        \n",
      "    <i class=\"ca ca-conda\"></i>\n",
      "  \n",
      "        <span class='packageName'>krb5</span>\n",
      "      </a>\n",
      "    </td>\n",
      "    <td>public</td>\n",
      "    <td>\n",
      "      A network authentication protocol.\n",
      "    </td>\n",
      "    <td>2017-09-29</td>\n",
      "  </tr>\n",
      "\n",
      "  <tr>\n",
      "    <td class=\"package-title\">\n",
      "      \n",
      "      <a data-package href=\"/anaconda/libgcc\">\n",
      "        \n",
      "    <i class=\"ca ca-conda\"></i>\n",
      "  \n",
      "        <span class='packageName'>libgcc</span>\n",
      "      </a>\n",
      "    </td>\n",
      "    <td>public</td>\n",
      "    <td>\n",
      "      Shared libraries for the GNU Compiler Collection\n",
      "    </td>\n",
      "    <td>2017-09-29</td>\n",
      "  </tr>\n",
      "\n",
      "  <tr>\n",
      "    <td class=\"package-title\">\n",
      "      \n",
      "      <a data-package href=\"/anaconda/jmespath\">\n",
      "        \n",
      "    <i class=\"ca ca-conda\"></i>\n",
      "  \n",
      "        <span class='packageName'>jmespath</span>\n",
      "      </a>\n",
      "    </td>\n",
      "    <td>public</td>\n",
      "    <td>\n",
      "      Query language for JSON\n",
      "    </td>\n",
      "    <td>2017-09-29</td>\n",
      "  </tr>\n",
      "\n",
      "  <tr>\n",
      "    <td class=\"package-title\">\n",
      "      \n",
      "      <a data-package href=\"/anaconda/humanfriendly\">\n",
      "        \n",
      "    <i class=\"ca ca-conda\"></i>\n",
      "  \n",
      "        <span class='packageName'>humanfriendly</span>\n",
      "      </a>\n",
      "    </td>\n",
      "    <td>public</td>\n",
      "    <td>\n",
      "      Human friendly output for text interfaces using Python.\n",
      "    </td>\n",
      "    <td>2017-09-29</td>\n",
      "  </tr>\n",
      "\n",
      "  <tr>\n",
      "    <td class=\"package-title\">\n",
      "      \n",
      "      <a data-package href=\"/anaconda/hdf5\">\n",
      "        \n",
      "    <i class=\"ca ca-conda\"></i>\n",
      "  \n",
      "        <span class='packageName'>hdf5</span>\n",
      "      </a>\n",
      "    </td>\n",
      "    <td>public</td>\n",
      "    <td>\n",
      "      HDF5 is a data model, library, and file format for storing and managing data\n",
      "    </td>\n",
      "    <td>2017-09-29</td>\n",
      "  </tr>\n",
      "\n",
      "  <tr>\n",
      "    <td class=\"package-title\">\n",
      "      \n",
      "      <a data-package href=\"/anaconda/git\">\n",
      "        \n",
      "    <i class=\"ca ca-conda\"></i>\n",
      "  \n",
      "        <span class='packageName'>git</span>\n",
      "      </a>\n",
      "    </td>\n",
      "    <td>public</td>\n",
      "    <td>\n",
      "      distributed version control system\n",
      "    </td>\n",
      "    <td>2017-09-29</td>\n",
      "  </tr>\n",
      "\n",
      "  <tr>\n",
      "    <td class=\"package-title\">\n",
      "      \n",
      "      <a data-package href=\"/anaconda/gsl\">\n",
      "        \n",
      "    <i class=\"ca ca-conda\"></i>\n",
      "  \n",
      "        <span class='packageName'>gsl</span>\n",
      "      </a>\n",
      "    </td>\n",
      "    <td>public</td>\n",
      "    <td>\n",
      "      No Summary\n",
      "    </td>\n",
      "    <td>2017-09-29</td>\n",
      "  </tr>\n",
      "\n",
      "  <tr>\n",
      "    <td class=\"package-title\">\n",
      "      \n",
      "      <a data-package href=\"/anaconda/gdb_linux-64\">\n",
      "        \n",
      "    <i class=\"ca ca-conda\"></i>\n",
      "  \n",
      "        <span class='packageName'>gdb_linux-64</span>\n",
      "      </a>\n",
      "    </td>\n",
      "    <td>public</td>\n",
      "    <td>\n",
      "      The GNU Project Debugger\n",
      "    </td>\n",
      "    <td>2017-09-29</td>\n",
      "  </tr>\n",
      "\n",
      "  <tr>\n",
      "    <td class=\"package-title\">\n",
      "      \n",
      "      <a data-package href=\"/anaconda/gettext\">\n",
      "        \n",
      "    <i class=\"ca ca-conda\"></i>\n",
      "  \n",
      "        <span class='packageName'>gettext</span>\n",
      "      </a>\n",
      "    </td>\n",
      "    <td>public</td>\n",
      "    <td>\n",
      "      Internationalization package.\n",
      "    </td>\n",
      "    <td>2017-09-29</td>\n",
      "  </tr>\n",
      "\n",
      "  <tr>\n",
      "    <td class=\"package-title\">\n",
      "      \n",
      "      <a data-package href=\"/anaconda/furl\">\n",
      "        \n",
      "    <i class=\"ca ca-conda\"></i>\n",
      "  \n",
      "        <span class='packageName'>furl</span>\n",
      "      </a>\n",
      "    </td>\n",
      "    <td>public</td>\n",
      "    <td>\n",
      "      URL manipulation made simple.\n",
      "    </td>\n",
      "    <td>2017-09-29</td>\n",
      "  </tr>\n",
      "\n",
      "  <tr>\n",
      "    <td class=\"package-title\">\n",
      "      \n",
      "      <a data-package href=\"/anaconda/flake8-import-order\">\n",
      "        \n",
      "    <i class=\"ca ca-conda\"></i>\n",
      "  \n",
      "        <span class='packageName'>flake8-import-order</span>\n",
      "      </a>\n",
      "    </td>\n",
      "    <td>public</td>\n",
      "    <td>\n",
      "      A flake8 and Pylama plugin that checks the ordering of your imports.\n",
      "    </td>\n",
      "    <td>2017-09-29</td>\n",
      "  </tr>\n",
      "\n",
      "  <tr>\n",
      "    <td class=\"package-title\">\n",
      "      \n",
      "      <a data-package href=\"/anaconda/flake8\">\n",
      "        \n",
      "    <i class=\"ca ca-conda\"></i>\n",
      "  \n",
      "        <span class='packageName'>flake8</span>\n",
      "      </a>\n",
      "    </td>\n",
      "    <td>public</td>\n",
      "    <td>\n",
      "      Your Tool For Style Guide Enforcement\n",
      "    </td>\n",
      "    <td>2017-09-29</td>\n",
      "  </tr>\n",
      "\n",
      "  <tr>\n",
      "    <td class=\"package-title\">\n",
      "      \n",
      "      <a data-package href=\"/anaconda/fastparquet\">\n",
      "        \n",
      "    <i class=\"ca ca-conda\"></i>\n",
      "  \n",
      "        <span class='packageName'>fastparquet</span>\n",
      "      </a>\n",
      "    </td>\n",
      "    <td>public</td>\n",
      "    <td>\n",
      "      Python interface to the parquet format\n",
      "    </td>\n",
      "    <td>2017-09-29</td>\n",
      "  </tr>\n",
      "\n",
      "  <tr>\n",
      "    <td class=\"package-title\">\n",
      "      \n",
      "      <a data-package href=\"/anaconda/elasticsearch-dsl\">\n",
      "        \n",
      "    <i class=\"ca ca-conda\"></i>\n",
      "  \n",
      "        <span class='packageName'>elasticsearch-dsl</span>\n",
      "      </a>\n",
      "    </td>\n",
      "    <td>public</td>\n",
      "    <td>\n",
      "      Higher-level Python client for Elasticsearch\n",
      "    </td>\n",
      "    <td>2017-09-29</td>\n",
      "  </tr>\n",
      "\n",
      "  <tr>\n",
      "    <td class=\"package-title\">\n",
      "      \n",
      "      <a data-package href=\"/anaconda/elasticsearch\">\n",
      "        \n",
      "    <i class=\"ca ca-conda\"></i>\n",
      "  \n",
      "        <span class='packageName'>elasticsearch</span>\n",
      "      </a>\n",
      "    </td>\n",
      "    <td>public</td>\n",
      "    <td>\n",
      "      Python client for Elasticsearch\n",
      "    </td>\n",
      "    <td>2017-09-29</td>\n",
      "  </tr>\n",
      "\n",
      "  <tr>\n",
      "    <td class=\"package-title\">\n",
      "      \n",
      "      <a data-package href=\"/anaconda/crosstool-ng\">\n",
      "        \n",
      "    <i class=\"ca ca-conda\"></i>\n",
      "  \n",
      "        <span class='packageName'>crosstool-ng</span>\n",
      "      </a>\n",
      "    </td>\n",
      "    <td>public</td>\n",
      "    <td>\n",
      "      No Summary\n",
      "    </td>\n",
      "    <td>2017-09-29</td>\n",
      "  </tr>\n",
      "\n",
      "  <tr>\n",
      "    <td class=\"package-title\">\n",
      "      \n",
      "      <a data-package href=\"/anaconda/duma_linux-64\">\n",
      "        \n",
      "    <i class=\"ca ca-conda\"></i>\n",
      "  \n",
      "        <span class='packageName'>duma_linux-64</span>\n",
      "      </a>\n",
      "    </td>\n",
      "    <td>public</td>\n",
      "    <td>\n",
      "      DUMA is an open-source library to detect buffer overruns and under-runs in C and C++ programs.\n",
      "    </td>\n",
      "    <td>2017-09-29</td>\n",
      "  </tr>\n",
      "\n",
      "  <tr>\n",
      "    <td class=\"package-title\">\n",
      "      \n",
      "      <a data-package href=\"/anaconda/coloredlogs\">\n",
      "        \n",
      "    <i class=\"ca ca-conda\"></i>\n",
      "  \n",
      "        <span class='packageName'>coloredlogs</span>\n",
      "      </a>\n",
      "    </td>\n",
      "    <td>public</td>\n",
      "    <td>\n",
      "      Colored terminal output for Python&#39;s logging module.\n",
      "    </td>\n",
      "    <td>2017-09-29</td>\n",
      "  </tr>\n",
      "\n",
      "  <tr>\n",
      "    <td class=\"package-title\">\n",
      "      \n",
      "      <a data-package href=\"/anaconda/chai\">\n",
      "        \n",
      "    <i class=\"ca ca-conda\"></i>\n",
      "  \n",
      "        <span class='packageName'>chai</span>\n",
      "      </a>\n",
      "    </td>\n",
      "    <td>public</td>\n",
      "    <td>\n",
      "      Easy to use mocking, stubbing and spying framework.\n",
      "    </td>\n",
      "    <td>2017-09-29</td>\n",
      "  </tr>\n",
      "\n",
      "  <tr>\n",
      "    <td class=\"package-title\">\n",
      "      \n",
      "      <a data-package href=\"/anaconda/botocore\">\n",
      "        \n",
      "    <i class=\"ca ca-conda\"></i>\n",
      "  \n",
      "        <span class='packageName'>botocore</span>\n",
      "      </a>\n",
      "    </td>\n",
      "    <td>public</td>\n",
      "    <td>\n",
      "      Low-level, data-driven core of boto 3.\n",
      "    </td>\n",
      "    <td>2017-09-29</td>\n",
      "  </tr>\n",
      "\n",
      "</tbody>\n",
      "        </table>\n",
      "      \n",
      "    </div>\n",
      "  </div>\n",
      "  \n",
      "    <div class=\"pagination-centered\">\n",
      "      <ul class=\"pagination\">\n",
      "        <li class=\"arrow unavailable\"><a href=\"/anaconda/repo?page=0\">&laquo; Previous</a></li>\n",
      "\n",
      "        <li class=\"unavailable\" aria-disabled=\"true\"><a href=\"\">showing 1 of 22</a></li>\n",
      "\n",
      "        <li class=\"arrow \"><a href=\"/anaconda/repo?page=2\">Next &raquo;</a></li>\n",
      "      </ul>\n",
      "    </div>\n",
      "    \n",
      " \n",
      "\n",
      "\n",
      "\n",
      "\n",
      "      </div>\n",
      "    </div>\n",
      "  </div>\n",
      "</div>\n",
      "</div></div>\n",
      "      \n",
      "      <div class=\"push\"></div>\n",
      "    </div>\n",
      "    <footer class=\"\">\n",
      "  \n",
      "  <div class=\"row\">\n",
      "    <div class=\"columns medium-3 medium-offset-3\">\n",
      "      <h5>Anaconda Cloud</h5>\n",
      "      <p>\n",
      "        <a href=\"/gallery\">Gallery</a><br>\n",
      "        <a href=\"/about\">About</a><br>\n",
      "        \n",
      "        <a href=\"/about/pricing\">Pricing</a><br>\n",
      "        \n",
      "        <a href=\"https://docs.anaconda.com/anaconda-cloud/user-guide\" target=\"_blank\">Documentation</a><br>\n",
      "        <a href=\"/contact\">Support</a><br>\n",
      "        <a href=\"https://www.anaconda.com/our-story\" target=\"_blank\">About Anaconda, Inc.</a><br>\n",
      "        <a href=\"https://www.anaconda.com/downloads\" target=\"_blank\">Download Anaconda</a><br>\n",
      "      </p>\n",
      "    </div>\n",
      "    <div class=\"columns medium-3 end\">\n",
      "      <h5>Community</h5>\n",
      "      <p>\n",
      "        <a href=\"https://www.anaconda.com/community\" target=\"_blank\">Anaconda Community</a><br>\n",
      "        <a href=\"https://www.anaconda.com/open-source-core-modern-software\" target=\"_blank\">Open Source</a><br>\n",
      "        <a href=\"https://www.anaconda.com/numfocus\" target=\"_blank\">NumFOCUS</a><br>\n",
      "        <a href=\"https://www.anaconda.com/support\" target=\"_blank\">Support</a><br>\n",
      "        <a href=\"https://www.anaconda.com/blog/developer-blog\" target=\"_blank\">Developer Blog</a>\n",
      "      </p>\n",
      "    </div>\n",
      "  </div>\n",
      "  <br>\n",
      "  <div class=\"row\">\n",
      "    <div class=\"social-icons columns medium-12\">\n",
      "      <ul>\n",
      "        <li><a href=\"https://twitter.com/anacondainc\" target=\"_blank\" aria-haspopup=\"true\" data-tooltip title=\"Follow us on Twitter\">\n",
      "          <img src=\"/static/img/social-icons/twitter.svg\" />\n",
      "        </a></li>\n",
      "        <li><a href=\"https://www.facebook.com/anacondainc\" target=\"_blank\" aria-haspopup=\"true\" data-tooltip title=\"Find us on Facebook\">\n",
      "          <img src=\"/static/img/social-icons/facebook.svg\" />\n",
      "        </a></li>\n",
      "        <li><a href=\"https://www.slideshare.net/continuumio\" target=\"_blank\" aria-haspopup=\"true\" data-tooltip title=\"Follow us on Slideshare\">\n",
      "          <img src=\"/static/img/social-icons/slideshare.svg\" />\n",
      "        </a></li>\n",
      "        <li><a href=\"https://www.linkedin.com/company/anacondainc\" target=\"_blank\" aria-haspopup=\"true\" data-tooltip title=\"Find us on LinkedIn\">\n",
      "          <img src=\"/static/img/social-icons/linkedin.svg\" />\n",
      "        </a></li>\n",
      "        <li><a href=\"https://www.instagram.com/anaconda_inc/\" target=\"_blank\" aria-haspopup=\"true\" data-tooltip title=\"Follow us on Instagram\">\n",
      "          <img src=\"/static/img/social-icons/instagram.svg\" />\n",
      "        </a></li>\n",
      "        <li><a href=\"https://www.youtube.com/c/ContinuumIo\" target=\"_blank\" aria-haspopup=\"true\" data-tooltip title=\"Watch us on YouTube\">\n",
      "          <img src=\"/static/img/social-icons/youtube.svg\" />\n",
      "        </a></li>\n",
      "        <li><a href=\"https://github.com/ContinuumIO\" target=\"_blank\" aria-haspopup=\"true\" data-tooltip title=\"Follow us on GitHub\">\n",
      "          <img src=\"/static/img/social-icons/github.svg\" />\n",
      "        </a></li>\n",
      "      </ul>\n",
      "    </div>\n",
      "  </div>\n",
      "\n",
      "</footer>\n",
      "<div class=\"license full-width\">\n",
      "  <div class=\"row\">\n",
      "    <div class=\"columns medium-12 text-center\">\n",
      "      <h5>\n",
      "        \n",
      "        <a href=\"/about/legal/privacy\" target=\"_blank\">PRIVACY POLICY</a>\n",
      "        &nbsp;&#124;&nbsp;\n",
      "        <a href=\"/about/legal/terms\" target=\"_blank\">EULA</a>\n",
      "        \n",
      "        <span>(Anaconda Cloud v2.33.0)</span>\n",
      "        &copy;\n",
      "        2017 Anaconda, Inc. All Rights Reserved.\n",
      "      </h5>\n",
      "    </div>\n",
      "  </div>\n",
      "</div>\n",
      "    \n",
      "   \n",
      "\n",
      "    \n",
      "    \n",
      "    <!-- Google Tag Manager -->\n",
      "<noscript><iframe src=\"//www.googletagmanager.com/ns.html?id=GTM-MTFQWW\"\n",
      "height=\"0\" width=\"0\" style=\"display:none;visibility:hidden\"></iframe></noscript>\n",
      "<script>(function(w,d,s,l,i){w[l]=w[l]||[];w[l].push({'gtm.start':\n",
      "new Date().getTime(),event:'gtm.js'});var f=d.getElementsByTagName(s)[0],\n",
      "j=d.createElement(s),dl=l!='dataLayer'?'&l='+l:'';j.async=true;j.src=\n",
      "'//www.googletagmanager.com/gtm.js?id='+i+dl;f.parentNode.insertBefore(j,f);\n",
      "})(window,document,'script','dataLayer','GTM-MTFQWW');</script>\n",
      "<!-- End Google Tag Manager -->\n",
      "    <!-- Hotjar Tracking Code for https://anaconda.org -->\n",
      "<script>\n",
      "    (function(h,o,t,j,a,r){\n",
      "        h.hj=h.hj||function(){(h.hj.q=h.hj.q||[]).push(arguments)};\n",
      "        h._hjSettings={hjid:248638,hjsv:5};\n",
      "        a=o.getElementsByTagName('head')[0];\n",
      "        r=o.createElement('script');r.async=1;\n",
      "        r.src=t+h._hjSettings.hjid+j+h._hjSettings.hjsv;\n",
      "        a.appendChild(r);\n",
      "    })(window,document,'//static.hotjar.com/c/hotjar-','.js?sv=');\n",
      "</script>\n",
      "<!-- End Hotjar -->\n",
      "    \n",
      "    <div id=\"ajax-modal\" class=\"reveal-modal\" data-reveal aria-hidden=\"true\"></div>\n",
      "  </body>\n",
      "</html>\n"
     ]
    }
   ],
   "source": [
    "print(response.text)"
   ]
  },
  {
   "cell_type": "markdown",
   "metadata": {},
   "source": [
    "first, we need to create an `lxml` `html` object out of the request response"
   ]
  },
  {
   "cell_type": "code",
   "execution_count": 11,
   "metadata": {
    "ExecuteTime": {
     "end_time": "2017-05-29T20:08:49.164770Z",
     "start_time": "2017-05-29T20:08:49.155322Z"
    }
   },
   "outputs": [
    {
     "data": {
      "text/plain": [
       "<Element html at 0x7f82492c0b88>"
      ]
     },
     "execution_count": 11,
     "metadata": {},
     "output_type": "execute_result"
    }
   ],
   "source": [
    "root = lxml.html.fromstring(response.text)\n",
    "root"
   ]
  },
  {
   "cell_type": "code",
   "execution_count": 12,
   "metadata": {
    "ExecuteTime": {
     "end_time": "2017-05-29T20:09:19.186413Z",
     "start_time": "2017-05-29T20:09:19.179952Z"
    }
   },
   "outputs": [
    {
     "data": {
      "text/plain": [
       "[<Element head at 0x7f824817b9a8>, <Element body at 0x7f824817ba98>]"
      ]
     },
     "execution_count": 12,
     "metadata": {},
     "output_type": "execute_result"
    }
   ],
   "source": [
    "root.getchildren()"
   ]
  },
  {
   "cell_type": "markdown",
   "metadata": {},
   "source": [
    "let's look up the elements by hard-coding the path:"
   ]
  },
  {
   "cell_type": "code",
   "execution_count": 13,
   "metadata": {
    "ExecuteTime": {
     "end_time": "2017-05-29T20:10:31.310437Z",
     "start_time": "2017-05-29T20:10:31.303160Z"
    }
   },
   "outputs": [
    {
     "data": {
      "text/plain": [
       "[<Element body at 0x7f824817ba98>]"
      ]
     },
     "execution_count": 13,
     "metadata": {},
     "output_type": "execute_result"
    }
   ],
   "source": [
    "root.xpath('body')"
   ]
  },
  {
   "cell_type": "code",
   "execution_count": 14,
   "metadata": {
    "ExecuteTime": {
     "end_time": "2017-05-29T20:10:37.561101Z",
     "start_time": "2017-05-29T20:10:37.553486Z"
    }
   },
   "outputs": [
    {
     "data": {
      "text/plain": [
       "[<Element span at 0x7f824817bd18>,\n",
       " <Element span at 0x7f824817bd68>,\n",
       " <Element span at 0x7f824817bdb8>,\n",
       " <Element span at 0x7f824817be08>,\n",
       " <Element span at 0x7f824817be58>,\n",
       " <Element span at 0x7f824817bea8>,\n",
       " <Element span at 0x7f824817bef8>,\n",
       " <Element span at 0x7f824817bf48>,\n",
       " <Element span at 0x7f824817bf98>,\n",
       " <Element span at 0x7f8248108048>,\n",
       " <Element span at 0x7f8248108098>,\n",
       " <Element span at 0x7f82481080e8>,\n",
       " <Element span at 0x7f8248108138>,\n",
       " <Element span at 0x7f8248108188>,\n",
       " <Element span at 0x7f82481081d8>,\n",
       " <Element span at 0x7f8248108228>,\n",
       " <Element span at 0x7f8248108278>,\n",
       " <Element span at 0x7f82481082c8>,\n",
       " <Element span at 0x7f8248108318>,\n",
       " <Element span at 0x7f8248108368>,\n",
       " <Element span at 0x7f82481083b8>,\n",
       " <Element span at 0x7f8248108408>,\n",
       " <Element span at 0x7f8248108458>,\n",
       " <Element span at 0x7f82481084a8>,\n",
       " <Element span at 0x7f82481084f8>,\n",
       " <Element span at 0x7f8248108548>,\n",
       " <Element span at 0x7f8248108598>,\n",
       " <Element span at 0x7f82481085e8>,\n",
       " <Element span at 0x7f8248108638>,\n",
       " <Element span at 0x7f8248108688>,\n",
       " <Element span at 0x7f82481086d8>,\n",
       " <Element span at 0x7f8248108728>,\n",
       " <Element span at 0x7f8248108778>,\n",
       " <Element span at 0x7f82481087c8>,\n",
       " <Element span at 0x7f8248108818>,\n",
       " <Element span at 0x7f8248108868>,\n",
       " <Element span at 0x7f82481088b8>,\n",
       " <Element span at 0x7f8248108908>,\n",
       " <Element span at 0x7f8248108958>,\n",
       " <Element span at 0x7f82481089a8>,\n",
       " <Element span at 0x7f82481089f8>,\n",
       " <Element span at 0x7f8248108a48>,\n",
       " <Element span at 0x7f8248108a98>,\n",
       " <Element span at 0x7f8248108ae8>,\n",
       " <Element span at 0x7f8248108b38>,\n",
       " <Element span at 0x7f8248108b88>,\n",
       " <Element span at 0x7f8248108bd8>,\n",
       " <Element span at 0x7f8248108c28>,\n",
       " <Element span at 0x7f8248108c78>,\n",
       " <Element span at 0x7f8248108cc8>]"
      ]
     },
     "execution_count": 14,
     "metadata": {},
     "output_type": "execute_result"
    }
   ],
   "source": [
    "# build it up one element at a time\n",
    "#root.xpath('body/div/div/div/div/div/div/div/div/div/table/tbody/tr/td/a/span')\n",
    "root.xpath('body/div/div/div/div/div/div/div/div/div/table/tbody/tr/td/a/span')"
   ]
  },
  {
   "cell_type": "markdown",
   "metadata": {},
   "source": [
    "note that `tbody` element in the path above. it turns out that modern browsers add the `tbody` element in there whether it's in the source code or not. this means that we can often end up in a situation where `tbody` is what we see in the chrome devtools, for example, but there's actually no `tbody` element in the `lxml` object.\n",
    "\n",
    "Why is still mostly a mystery to me, and [I'm comforted by the fact that I'm not alone](https://stackoverflow.com/questions/27918086/why-tbody-will-be-added-automatically-by-browser)."
   ]
  },
  {
   "cell_type": "code",
   "execution_count": 15,
   "metadata": {},
   "outputs": [
    {
     "data": {
      "text/plain": [
       "[<Element span at 0x7f824817bd18>,\n",
       " <Element span at 0x7f824817bd68>,\n",
       " <Element span at 0x7f824817bdb8>,\n",
       " <Element span at 0x7f824817be08>,\n",
       " <Element span at 0x7f824817be58>,\n",
       " <Element span at 0x7f824817bea8>,\n",
       " <Element span at 0x7f824817bef8>,\n",
       " <Element span at 0x7f824817bf48>,\n",
       " <Element span at 0x7f824817bf98>,\n",
       " <Element span at 0x7f8248108048>,\n",
       " <Element span at 0x7f8248108098>,\n",
       " <Element span at 0x7f82481080e8>,\n",
       " <Element span at 0x7f8248108138>,\n",
       " <Element span at 0x7f8248108188>,\n",
       " <Element span at 0x7f82481081d8>,\n",
       " <Element span at 0x7f8248108228>,\n",
       " <Element span at 0x7f8248108278>,\n",
       " <Element span at 0x7f82481082c8>,\n",
       " <Element span at 0x7f8248108318>,\n",
       " <Element span at 0x7f8248108368>,\n",
       " <Element span at 0x7f82481083b8>,\n",
       " <Element span at 0x7f8248108408>,\n",
       " <Element span at 0x7f8248108458>,\n",
       " <Element span at 0x7f82481084a8>,\n",
       " <Element span at 0x7f82481084f8>,\n",
       " <Element span at 0x7f8248108548>,\n",
       " <Element span at 0x7f8248108598>,\n",
       " <Element span at 0x7f82481085e8>,\n",
       " <Element span at 0x7f8248108638>,\n",
       " <Element span at 0x7f8248108688>,\n",
       " <Element span at 0x7f82481086d8>,\n",
       " <Element span at 0x7f8248108728>,\n",
       " <Element span at 0x7f8248108778>,\n",
       " <Element span at 0x7f82481087c8>,\n",
       " <Element span at 0x7f8248108818>,\n",
       " <Element span at 0x7f8248108868>,\n",
       " <Element span at 0x7f82481088b8>,\n",
       " <Element span at 0x7f8248108908>,\n",
       " <Element span at 0x7f8248108958>,\n",
       " <Element span at 0x7f82481089a8>,\n",
       " <Element span at 0x7f82481089f8>,\n",
       " <Element span at 0x7f8248108a48>,\n",
       " <Element span at 0x7f8248108a98>,\n",
       " <Element span at 0x7f8248108ae8>,\n",
       " <Element span at 0x7f8248108b38>,\n",
       " <Element span at 0x7f8248108b88>,\n",
       " <Element span at 0x7f8248108bd8>,\n",
       " <Element span at 0x7f8248108c28>,\n",
       " <Element span at 0x7f8248108c78>,\n",
       " <Element span at 0x7f8248108cc8>]"
      ]
     },
     "execution_count": 15,
     "metadata": {},
     "output_type": "execute_result"
    }
   ],
   "source": [
    "root.xpath('body/div/div/div/div/div/div/div/div/div/table/tbody/tr/td/a/span')"
   ]
  },
  {
   "cell_type": "markdown",
   "metadata": {},
   "source": [
    "SO USEFUL RIGHT? Let's look at one of those items above"
   ]
  },
  {
   "cell_type": "code",
   "execution_count": 16,
   "metadata": {
    "ExecuteTime": {
     "end_time": "2017-05-29T20:11:44.061211Z",
     "start_time": "2017-05-29T20:11:44.052941Z"
    }
   },
   "outputs": [
    {
     "name": "stdout",
     "output_type": "stream",
     "text": [
      "we have 50 td cells\n",
      "b'<span class=\"packageName\">anaconda</span>\\n      '\n"
     ]
    }
   ],
   "source": [
    "packageElems = root.xpath('body/div/div/div/div/div/div/div/div/div/table/tbody/tr/td/a/span')\n",
    "print('we have {} td cells'.format(len(packageElems)))\n",
    "\n",
    "pkg0 = packageElems[0]\n",
    "print(lxml.html.tostring(pkg0))"
   ]
  },
  {
   "cell_type": "code",
   "execution_count": 17,
   "metadata": {
    "ExecuteTime": {
     "end_time": "2017-05-29T20:12:30.762546Z",
     "start_time": "2017-05-29T20:12:30.757188Z"
    }
   },
   "outputs": [
    {
     "data": {
      "text/plain": [
       "{'class': 'packageName'}"
      ]
     },
     "execution_count": 17,
     "metadata": {},
     "output_type": "execute_result"
    }
   ],
   "source": [
    "pkg0.attrib"
   ]
  },
  {
   "cell_type": "code",
   "execution_count": 18,
   "metadata": {
    "ExecuteTime": {
     "end_time": "2017-05-28T21:55:39.828425Z",
     "start_time": "2017-05-28T21:55:39.821335Z"
    }
   },
   "outputs": [
    {
     "data": {
      "text/plain": [
       "'anaconda'"
      ]
     },
     "execution_count": 18,
     "metadata": {},
     "output_type": "execute_result"
    }
   ],
   "source": [
    "pkg0.text"
   ]
  },
  {
   "cell_type": "markdown",
   "metadata": {},
   "source": [
    "so we can get all of the package names:"
   ]
  },
  {
   "cell_type": "code",
   "execution_count": 120,
   "metadata": {
    "ExecuteTime": {
     "end_time": "2017-05-29T20:13:31.615896Z",
     "start_time": "2017-05-29T20:13:31.611198Z"
    }
   },
   "outputs": [
    {
     "data": {
      "text/plain": [
       "['anaconda', 'python', 'conda-build', 'xar', 'wget']"
      ]
     },
     "execution_count": 120,
     "metadata": {},
     "output_type": "execute_result"
    }
   ],
   "source": [
    "packages = []\n",
    "for elem in packageElems:\n",
    "    packages.append(elem.text)\n",
    "    \n",
    "packages[:5]"
   ]
  },
  {
   "cell_type": "markdown",
   "metadata": {},
   "source": [
    "But that path -- it was pretty ugly, right? Is there a better way?\n",
    "\n",
    "Well, it turns out that the elements we were looking for have a specific property:\n",
    "\n",
    "```html\n",
    "<span class=\"packageName\">anaconda</span>\n",
    "```\n",
    "\n",
    "we could just pull all the spans which have that class, instead"
   ]
  },
  {
   "cell_type": "code",
   "execution_count": 121,
   "metadata": {
    "ExecuteTime": {
     "end_time": "2017-05-28T21:58:58.068978Z",
     "start_time": "2017-05-28T21:58:58.060192Z"
    }
   },
   "outputs": [
    {
     "data": {
      "text/plain": [
       "['anaconda', 'python', 'conda-build', 'xar', 'wget']"
      ]
     },
     "execution_count": 121,
     "metadata": {},
     "output_type": "execute_result"
    }
   ],
   "source": [
    "packageElems = root.xpath('.//span[@class=\"packageName\"]')\n",
    "packages = [elem.text for elem in packageElems]\n",
    "packages[:5]"
   ]
  },
  {
   "cell_type": "markdown",
   "metadata": {},
   "source": [
    "not bad!\n",
    "\n",
    "and now for the number of downloads... Unforunately, the actual element we wish to pull doesn't have any special attributes -- but its parent (`td` element) does"
   ]
  },
  {
   "cell_type": "code",
   "execution_count": 57,
   "metadata": {
    "ExecuteTime": {
     "end_time": "2017-05-28T22:00:29.521328Z",
     "start_time": "2017-05-28T22:00:29.514293Z"
    }
   },
   "outputs": [
    {
     "data": {
      "text/plain": [
       "<Element span at 0x10a5a95e8>"
      ]
     },
     "execution_count": 57,
     "metadata": {},
     "output_type": "execute_result"
    }
   ],
   "source": [
    "dlElems = root.xpath('.//td[@class=\"count\"]/span')\n",
    "elem0 = dlElems[0]\n",
    "elem0"
   ]
  },
  {
   "cell_type": "code",
   "execution_count": 58,
   "metadata": {
    "ExecuteTime": {
     "end_time": "2017-05-28T22:00:33.258378Z",
     "start_time": "2017-05-28T22:00:33.252770Z"
    }
   },
   "outputs": [
    {
     "data": {
      "text/plain": [
       "'182,739,575'"
      ]
     },
     "execution_count": 58,
     "metadata": {},
     "output_type": "execute_result"
    }
   ],
   "source": [
    "elem0.text"
   ]
  },
  {
   "cell_type": "code",
   "execution_count": 60,
   "metadata": {
    "ExecuteTime": {
     "end_time": "2017-05-28T22:00:41.080453Z",
     "start_time": "2017-05-28T22:00:41.070761Z"
    }
   },
   "outputs": [
    {
     "ename": "ValueError",
     "evalue": "invalid literal for int() with base 10: '182,739,575'",
     "output_type": "error",
     "traceback": [
      "\u001b[0;31m---------------------------------------------------------------------------\u001b[0m",
      "\u001b[0;31mValueError\u001b[0m                                Traceback (most recent call last)",
      "\u001b[0;32m<ipython-input-60-1bc13c16a18e>\u001b[0m in \u001b[0;36m<module>\u001b[0;34m()\u001b[0m\n\u001b[0;32m----> 1\u001b[0;31m \u001b[0mint\u001b[0m\u001b[0;34m(\u001b[0m\u001b[0melem0\u001b[0m\u001b[0;34m.\u001b[0m\u001b[0mtext\u001b[0m\u001b[0;34m)\u001b[0m\u001b[0;34m\u001b[0m\u001b[0m\n\u001b[0m",
      "\u001b[0;31mValueError\u001b[0m: invalid literal for int() with base 10: '182,739,575'"
     ]
    }
   ],
   "source": [
    "int(elem0.text)"
   ]
  },
  {
   "cell_type": "code",
   "execution_count": 61,
   "metadata": {
    "ExecuteTime": {
     "end_time": "2017-05-28T22:00:54.778164Z",
     "start_time": "2017-05-28T22:00:54.772335Z"
    }
   },
   "outputs": [
    {
     "data": {
      "text/plain": [
       "182739575"
      ]
     },
     "execution_count": 61,
     "metadata": {},
     "output_type": "execute_result"
    }
   ],
   "source": [
    "int(elem0.text.replace(',', ''))"
   ]
  },
  {
   "cell_type": "code",
   "execution_count": 63,
   "metadata": {
    "ExecuteTime": {
     "end_time": "2017-05-28T22:01:16.324977Z",
     "start_time": "2017-05-28T22:01:16.318387Z"
    }
   },
   "outputs": [
    {
     "data": {
      "text/plain": [
       "[182739575, 63758431, 54950976, 53961784, 46718553]"
      ]
     },
     "execution_count": 63,
     "metadata": {},
     "output_type": "execute_result"
    }
   ],
   "source": [
    "dlElems = root.xpath('.//td[@class=\"count\"]/span')\n",
    "dlnums = [int(elem.text.replace(',', '')) for elem in dlElems]\n",
    "dlnums[:5]"
   ]
  },
  {
   "cell_type": "code",
   "execution_count": 44,
   "metadata": {
    "ExecuteTime": {
     "end_time": "2017-05-29T20:22:51.621607Z",
     "start_time": "2017-05-29T20:22:51.614392Z"
    }
   },
   "outputs": [
    {
     "data": {
      "text/plain": [
       "{'a': 1, 'b': 2, 'c': 3}"
      ]
     },
     "execution_count": 44,
     "metadata": {},
     "output_type": "execute_result"
    }
   ],
   "source": [
    "l1 = ['a', 'b', 'c']\n",
    "l2 = [1, 2, 3]\n",
    "\n",
    "dict(zip(l1, l2))"
   ]
  },
  {
   "cell_type": "code",
   "execution_count": 64,
   "metadata": {
    "ExecuteTime": {
     "end_time": "2017-05-28T22:01:41.368361Z",
     "start_time": "2017-05-28T22:01:41.361452Z"
    }
   },
   "outputs": [
    {
     "data": {
      "text/plain": [
       "[('simplejson', 182739575),\n",
       " ('setuptools', 63758431),\n",
       " ('six', 54950976),\n",
       " ('requests', 53961784),\n",
       " ('virtualenv', 46718553)]"
      ]
     },
     "execution_count": 64,
     "metadata": {},
     "output_type": "execute_result"
    }
   ],
   "source": [
    "list(zip(packages, dlnums))[:5]"
   ]
  },
  {
   "cell_type": "code",
   "execution_count": 66,
   "metadata": {
    "ExecuteTime": {
     "end_time": "2017-05-28T22:01:53.722000Z",
     "start_time": "2017-05-28T22:01:53.715158Z"
    }
   },
   "outputs": [
    {
     "data": {
      "text/plain": [
       "{'Django': 19012909,\n",
       " 'Flask': 12589687,\n",
       " 'Jinja2': 29235056,\n",
       " 'MarkupSafe': 28424794,\n",
       " 'MySQL-python': 11555841,\n",
       " 'PyYAML': 31187268,\n",
       " 'SQLAlchemy': 15423285,\n",
       " 'Werkzeug': 14080114,\n",
       " 'argparse': 11366156,\n",
       " 'awscli': 20843084,\n",
       " 'bcdoc': 13189266,\n",
       " 'boto': 39863297,\n",
       " 'botocore': 22592831,\n",
       " 'carbon': 11348979,\n",
       " 'certifi': 40255065,\n",
       " 'cffi': 22297207,\n",
       " 'colorama': 23305345,\n",
       " 'coverage': 20628750,\n",
       " 'distribute': 43653961,\n",
       " 'docutils': 32384615,\n",
       " 'ecdsa': 16393643,\n",
       " 'httplib2': 12782616,\n",
       " 'jmespath': 20563872,\n",
       " 'lxml': 26859463,\n",
       " 'mock': 15312191,\n",
       " 'nose': 26967202,\n",
       " 'paramiko': 17588385,\n",
       " 'pbr': 36266846,\n",
       " 'pep8': 12960047,\n",
       " 'pika': 19967479,\n",
       " 'pip': 46683031,\n",
       " 'psutil': 11750760,\n",
       " 'psycopg2': 18494339,\n",
       " 'pyasn1': 32080664,\n",
       " 'pycparser': 19999901,\n",
       " 'pycrypto': 25149446,\n",
       " 'pymongo': 11848837,\n",
       " 'python-dateutil': 40294908,\n",
       " 'pytz': 27274457,\n",
       " 'redis': 14767408,\n",
       " 'requests': 53961784,\n",
       " 'rsa': 24867479,\n",
       " 'selenium': 13598489,\n",
       " 'setuptools': 63758431,\n",
       " 'simplejson': 182739575,\n",
       " 'six': 54950976,\n",
       " 'supervisor': 13113608,\n",
       " 'virtualenv': 46718553,\n",
       " 'wincertstore': 34279054,\n",
       " 'zc.buildout': 11843053}"
      ]
     },
     "execution_count": 66,
     "metadata": {},
     "output_type": "execute_result"
    }
   ],
   "source": [
    "d = dict(zip(packages, dlnums))\n",
    "d"
   ]
  },
  {
   "cell_type": "code",
   "execution_count": 48,
   "metadata": {
    "ExecuteTime": {
     "end_time": "2017-05-29T20:27:42.387335Z",
     "start_time": "2017-05-29T20:27:42.373365Z"
    },
    "collapsed": true
   },
   "outputs": [],
   "source": [
    "table = root.find('.//table[@id=\"main_list\"]')\n",
    "x = []\n",
    "for row in table.xpath('./tr'):\n",
    "    packagename = row.find('.//span[@class=\"list_title\"]').text\n",
    "    dlct = row.find('./td[@class=\"count\"]/span').text\n",
    "    dlct = int(dlct.replace(',', ''))\n",
    "    x.append({'name': packagename, 'dlct': dlct})"
   ]
  },
  {
   "cell_type": "code",
   "execution_count": 49,
   "metadata": {
    "ExecuteTime": {
     "end_time": "2017-05-29T20:27:45.013115Z",
     "start_time": "2017-05-29T20:27:44.999689Z"
    }
   },
   "outputs": [
    {
     "data": {
      "text/plain": [
       "[{'dlct': 182739575, 'name': 'simplejson'},\n",
       " {'dlct': 63758431, 'name': 'setuptools'},\n",
       " {'dlct': 54950976, 'name': 'six'},\n",
       " {'dlct': 53961784, 'name': 'requests'},\n",
       " {'dlct': 46718553, 'name': 'virtualenv'},\n",
       " {'dlct': 46683031, 'name': 'pip'},\n",
       " {'dlct': 43653961, 'name': 'distribute'},\n",
       " {'dlct': 40294908, 'name': 'python-dateutil'},\n",
       " {'dlct': 40255065, 'name': 'certifi'},\n",
       " {'dlct': 39863297, 'name': 'boto'},\n",
       " {'dlct': 36266846, 'name': 'pbr'},\n",
       " {'dlct': 34279054, 'name': 'wincertstore'},\n",
       " {'dlct': 32384615, 'name': 'docutils'},\n",
       " {'dlct': 32080664, 'name': 'pyasn1'},\n",
       " {'dlct': 31187268, 'name': 'PyYAML'},\n",
       " {'dlct': 29235056, 'name': 'Jinja2'},\n",
       " {'dlct': 28424794, 'name': 'MarkupSafe'},\n",
       " {'dlct': 27274457, 'name': 'pytz'},\n",
       " {'dlct': 26967202, 'name': 'nose'},\n",
       " {'dlct': 26859463, 'name': 'lxml'},\n",
       " {'dlct': 25149446, 'name': 'pycrypto'},\n",
       " {'dlct': 24867479, 'name': 'rsa'},\n",
       " {'dlct': 23305345, 'name': 'colorama'},\n",
       " {'dlct': 22592831, 'name': 'botocore'},\n",
       " {'dlct': 22297207, 'name': 'cffi'},\n",
       " {'dlct': 20843084, 'name': 'awscli'},\n",
       " {'dlct': 20628750, 'name': 'coverage'},\n",
       " {'dlct': 20563872, 'name': 'jmespath'},\n",
       " {'dlct': 19999901, 'name': 'pycparser'},\n",
       " {'dlct': 19967479, 'name': 'pika'},\n",
       " {'dlct': 19012909, 'name': 'Django'},\n",
       " {'dlct': 18494339, 'name': 'psycopg2'},\n",
       " {'dlct': 17588385, 'name': 'paramiko'},\n",
       " {'dlct': 16393643, 'name': 'ecdsa'},\n",
       " {'dlct': 15423285, 'name': 'SQLAlchemy'},\n",
       " {'dlct': 15312191, 'name': 'mock'},\n",
       " {'dlct': 14767408, 'name': 'redis'},\n",
       " {'dlct': 14080114, 'name': 'Werkzeug'},\n",
       " {'dlct': 13598489, 'name': 'selenium'},\n",
       " {'dlct': 13189266, 'name': 'bcdoc'},\n",
       " {'dlct': 13113608, 'name': 'supervisor'},\n",
       " {'dlct': 12960047, 'name': 'pep8'},\n",
       " {'dlct': 12782616, 'name': 'httplib2'},\n",
       " {'dlct': 12589687, 'name': 'Flask'},\n",
       " {'dlct': 11848837, 'name': 'pymongo'},\n",
       " {'dlct': 11843053, 'name': 'zc.buildout'},\n",
       " {'dlct': 11750760, 'name': 'psutil'},\n",
       " {'dlct': 11555841, 'name': 'MySQL-python'},\n",
       " {'dlct': 11366156, 'name': 'argparse'},\n",
       " {'dlct': 11348979, 'name': 'carbon'}]"
      ]
     },
     "execution_count": 49,
     "metadata": {},
     "output_type": "execute_result"
    }
   ],
   "source": [
    "x"
   ]
  },
  {
   "cell_type": "markdown",
   "metadata": {},
   "source": [
    "#### `css` selection\n",
    "\n",
    "as you saw above, we were generally referring to the class or `id` elements of `html` tag elements -- well, that's almost identical to what is done in `css`. Let's use selector gadget to select elements using `css` selectors.\n",
    "\n",
    "Note: we will reuse the `lxml.html` object from before"
   ]
  },
  {
   "cell_type": "code",
   "execution_count": 50,
   "metadata": {
    "ExecuteTime": {
     "end_time": "2017-05-29T20:29:01.666896Z",
     "start_time": "2017-05-29T20:29:01.644927Z"
    }
   },
   "outputs": [
    {
     "data": {
      "text/plain": [
       "['simplejson', 'setuptools', 'six', 'requests', 'virtualenv']"
      ]
     },
     "execution_count": 50,
     "metadata": {},
     "output_type": "execute_result"
    }
   ],
   "source": [
    "packageElems = root.cssselect('.list_title')\n",
    "packages = [elem.text for elem in packageElems]\n",
    "packages[:5]"
   ]
  },
  {
   "cell_type": "code",
   "execution_count": 51,
   "metadata": {
    "ExecuteTime": {
     "end_time": "2017-05-29T20:29:02.281904Z",
     "start_time": "2017-05-29T20:29:02.272074Z"
    }
   },
   "outputs": [
    {
     "data": {
      "text/plain": [
       "[182739575, 63758431, 54950976, 53961784, 46718553]"
      ]
     },
     "execution_count": 51,
     "metadata": {},
     "output_type": "execute_result"
    }
   ],
   "source": [
    "dlElems = root.cssselect('.count span')\n",
    "dlnums = [int(elem.text.replace(',', '')) for elem in dlElems]\n",
    "dlnums[:5]"
   ]
  },
  {
   "cell_type": "code",
   "execution_count": 52,
   "metadata": {
    "ExecuteTime": {
     "end_time": "2017-05-29T20:29:03.298670Z",
     "start_time": "2017-05-29T20:29:03.291501Z"
    }
   },
   "outputs": [
    {
     "data": {
      "text/plain": [
       "{'Django': 19012909,\n",
       " 'Flask': 12589687,\n",
       " 'Jinja2': 29235056,\n",
       " 'MarkupSafe': 28424794,\n",
       " 'MySQL-python': 11555841,\n",
       " 'PyYAML': 31187268,\n",
       " 'SQLAlchemy': 15423285,\n",
       " 'Werkzeug': 14080114,\n",
       " 'argparse': 11366156,\n",
       " 'awscli': 20843084,\n",
       " 'bcdoc': 13189266,\n",
       " 'boto': 39863297,\n",
       " 'botocore': 22592831,\n",
       " 'carbon': 11348979,\n",
       " 'certifi': 40255065,\n",
       " 'cffi': 22297207,\n",
       " 'colorama': 23305345,\n",
       " 'coverage': 20628750,\n",
       " 'distribute': 43653961,\n",
       " 'docutils': 32384615,\n",
       " 'ecdsa': 16393643,\n",
       " 'httplib2': 12782616,\n",
       " 'jmespath': 20563872,\n",
       " 'lxml': 26859463,\n",
       " 'mock': 15312191,\n",
       " 'nose': 26967202,\n",
       " 'paramiko': 17588385,\n",
       " 'pbr': 36266846,\n",
       " 'pep8': 12960047,\n",
       " 'pika': 19967479,\n",
       " 'pip': 46683031,\n",
       " 'psutil': 11750760,\n",
       " 'psycopg2': 18494339,\n",
       " 'pyasn1': 32080664,\n",
       " 'pycparser': 19999901,\n",
       " 'pycrypto': 25149446,\n",
       " 'pymongo': 11848837,\n",
       " 'python-dateutil': 40294908,\n",
       " 'pytz': 27274457,\n",
       " 'redis': 14767408,\n",
       " 'requests': 53961784,\n",
       " 'rsa': 24867479,\n",
       " 'selenium': 13598489,\n",
       " 'setuptools': 63758431,\n",
       " 'simplejson': 182739575,\n",
       " 'six': 54950976,\n",
       " 'supervisor': 13113608,\n",
       " 'virtualenv': 46718553,\n",
       " 'wincertstore': 34279054,\n",
       " 'zc.buildout': 11843053}"
      ]
     },
     "execution_count": 52,
     "metadata": {},
     "output_type": "execute_result"
    }
   ],
   "source": [
    "d = dict(zip(packages, dlnums))\n",
    "d"
   ]
  },
  {
   "cell_type": "markdown",
   "metadata": {},
   "source": [
    "## advanced example: `POST` form request"
   ]
  },
  {
   "cell_type": "markdown",
   "metadata": {},
   "source": [
    "The most common use case for `POST` requests is `html` forms. There are forms all over the internet, and many have a `method` of `POST`. If you're looking for an example of a `POST` request, check out the github gist submission api:\n",
    "\n",
    "https://developer.github.com/v3/gists/#create-a-gist"
   ]
  },
  {
   "cell_type": "markdown",
   "metadata": {},
   "source": [
    "## `javascript` engines and `selenium`\n",
    "\n",
    "sometimes a simple request is not enough. A good example is `cnn.com`, where one must scroll through the page to load new stories."
   ]
  },
  {
   "cell_type": "code",
   "execution_count": 57,
   "metadata": {
    "ExecuteTime": {
     "end_time": "2017-05-29T20:45:01.825662Z",
     "start_time": "2017-05-29T20:45:01.737348Z"
    }
   },
   "outputs": [
    {
     "data": {
      "text/plain": [
       "{'d': [{'CustomersAffected': '12',\n",
       "   'Latitide': 0,\n",
       "   'Longitide': 0,\n",
       "   'Name': 'BRIDGEWATER',\n",
       "   'NumberOfCustomersServed': '966',\n",
       "   'PercentageCustomersAffected': 1.24,\n",
       "   'ReportDate': '5/29/2017 4:32:16 PM',\n",
       "   'StateTotalCustomersServed': 1264715,\n",
       "   '__type': 'NU.Web.OutageMap.TownOutageInfo'},\n",
       "  {'CustomersAffected': '1',\n",
       "   'Latitide': 0,\n",
       "   'Longitide': 0,\n",
       "   'Name': 'DANBURY',\n",
       "   'NumberOfCustomersServed': '36260',\n",
       "   'PercentageCustomersAffected': 0,\n",
       "   'ReportDate': '5/29/2017 4:32:16 PM',\n",
       "   'StateTotalCustomersServed': 1264715,\n",
       "   '__type': 'NU.Web.OutageMap.TownOutageInfo'},\n",
       "  {'CustomersAffected': '14',\n",
       "   'Latitide': 0,\n",
       "   'Longitide': 0,\n",
       "   'Name': 'GREENWICH',\n",
       "   'NumberOfCustomersServed': '27995',\n",
       "   'PercentageCustomersAffected': 0.05,\n",
       "   'ReportDate': '5/29/2017 4:32:16 PM',\n",
       "   'StateTotalCustomersServed': 1264715,\n",
       "   '__type': 'NU.Web.OutageMap.TownOutageInfo'},\n",
       "  {'CustomersAffected': '3',\n",
       "   'Latitide': 0,\n",
       "   'Longitide': 0,\n",
       "   'Name': 'NORTH CANAAN',\n",
       "   'NumberOfCustomersServed': '1471',\n",
       "   'PercentageCustomersAffected': 0.2,\n",
       "   'ReportDate': '5/29/2017 4:32:16 PM',\n",
       "   'StateTotalCustomersServed': 1264715,\n",
       "   '__type': 'NU.Web.OutageMap.TownOutageInfo'},\n",
       "  {'CustomersAffected': '28',\n",
       "   'Latitide': 0,\n",
       "   'Longitide': 0,\n",
       "   'Name': 'OXFORD',\n",
       "   'NumberOfCustomersServed': '5379',\n",
       "   'PercentageCustomersAffected': 0.52,\n",
       "   'ReportDate': '5/29/2017 4:32:16 PM',\n",
       "   'StateTotalCustomersServed': 1264715,\n",
       "   '__type': 'NU.Web.OutageMap.TownOutageInfo'},\n",
       "  {'CustomersAffected': '6',\n",
       "   'Latitide': 0,\n",
       "   'Longitide': 0,\n",
       "   'Name': 'SEYMOUR',\n",
       "   'NumberOfCustomersServed': '7549',\n",
       "   'PercentageCustomersAffected': 0.08,\n",
       "   'ReportDate': '5/29/2017 4:32:16 PM',\n",
       "   'StateTotalCustomersServed': 1264715,\n",
       "   '__type': 'NU.Web.OutageMap.TownOutageInfo'}]}"
      ]
     },
     "execution_count": 57,
     "metadata": {},
     "output_type": "execute_result"
    }
   ],
   "source": [
    "import requests\n",
    "\n",
    "resp = requests.post(\n",
    "    url='https://www.eversource.com/clp/outage/services/OutageData.asmx/AllOutageData', \n",
    "    headers={'content-type': 'application/json'}\n",
    ")\n",
    "\n",
    "resp.json()"
   ]
  },
  {
   "cell_type": "markdown",
   "metadata": {},
   "source": []
  },
  {
   "cell_type": "markdown",
   "metadata": {},
   "source": []
  },
  {
   "cell_type": "markdown",
   "metadata": {},
   "source": []
  },
  {
   "cell_type": "markdown",
   "metadata": {},
   "source": []
  },
  {
   "cell_type": "markdown",
   "metadata": {},
   "source": []
  },
  {
   "cell_type": "markdown",
   "metadata": {},
   "source": []
  },
  {
   "cell_type": "markdown",
   "metadata": {},
   "source": []
  }
 ],
 "metadata": {
  "kernelspec": {
   "display_name": "Python 3",
   "language": "python",
   "name": "python3"
  },
  "language_info": {
   "codemirror_mode": {
    "name": "ipython",
    "version": 3
   },
   "file_extension": ".py",
   "mimetype": "text/x-python",
   "name": "python",
   "nbconvert_exporter": "python",
   "pygments_lexer": "ipython3",
   "version": "3.6.2"
  },
  "toc": {
   "toc_cell": false,
   "toc_number_sections": true,
   "toc_threshold": 6,
   "toc_window_display": false
  }
 },
 "nbformat": 4,
 "nbformat_minor": 2
}

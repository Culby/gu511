{
 "cells": [
  {
   "cell_type": "markdown",
   "metadata": {
    "slideshow": {
     "slide_type": "slide"
    }
   },
   "source": [
    "# `aws lambda`"
   ]
  },
  {
   "cell_type": "markdown",
   "metadata": {
    "slideshow": {
     "slide_type": "subslide"
    }
   },
   "source": [
    "think of the steps we needed to go through before we were able to execute our sad `alarm_clock.py` script in the previous lectures and homeworks:\n",
    "\n",
    "1. provision an `ec2` instance\n",
    "2. make an `ssh` connection to that server\n",
    "3. copy our `python` script to that server\n",
    "4. create an environment capable of executing that `python` script\n",
    "5. establish an `iam role` for `aws cli` and `boto3` process running on that server\n",
    "6. add a `crontab` entry to run that script with some frequency\n",
    "7. leave our `ec2` server up and running while the script runs once a day"
   ]
  },
  {
   "cell_type": "markdown",
   "metadata": {
    "slideshow": {
     "slide_type": "subslide"
    }
   },
   "source": [
    "that's a fair amount of work and infrastructure for doing something as simple as running a block of code. \n",
    "\n",
    "it's also relatively expensive: we didn't *need* our `ec2` service to be up and running constantly -- only for a few seconds each day. And we didn't utilize all of the resources available to our machine while we were executing that code, so even that time was somewhat wasted."
   ]
  },
  {
   "cell_type": "markdown",
   "metadata": {
    "slideshow": {
     "slide_type": "subslide"
    }
   },
   "source": [
    "`aws lambda` is a serverless code execution service which tries to provide a more streamlined and simple process for executing simple code in a way that is highly integrated with other `aws` services.\n",
    "\n",
    "it also generalizes from *scheduling* to *triggered* events -- meaning we can execute code with some temporal frequency, *or* any time some particular thing happens (*e.g.* a file is posted to a particular `s3` bucket). this makes it a sort of \"if this then that\" for `aws`"
   ]
  },
  {
   "cell_type": "markdown",
   "metadata": {
    "slideshow": {
     "slide_type": "slide"
    }
   },
   "source": [
    "## how `lambda` functions are defined"
   ]
  },
  {
   "cell_type": "markdown",
   "metadata": {
    "slideshow": {
     "slide_type": "subslide"
    }
   },
   "source": [
    "a `lambda` function is comprised of three things:\n",
    "\n",
    "1. a runtime and an environment: a particular language and particular versions of that language, other environment setups\n",
    "2. a trigger: some event that causes a function to run\n",
    "3. a function: some code executed in that run-time after that trigger"
   ]
  },
  {
   "cell_type": "markdown",
   "metadata": {
    "slideshow": {
     "slide_type": "subslide"
    }
   },
   "source": [
    "### run-time and execution environment\n",
    "\n",
    "the available runtimes are updated with some frequency, so it's usually best to look it up and check out [this page](https://docs.aws.amazon.com/lambda/latest/dg/current-supported-versions.html). of course, the `lambda` function creation dialog will also make you choose one of them."
   ]
  },
  {
   "cell_type": "markdown",
   "metadata": {
    "slideshow": {
     "slide_type": "subslide"
    }
   },
   "source": [
    "at the time of writing, though, the environment and runtimes were as follows:\n",
    "\n",
    "+ os: all executed on the Amazon Linux AMI, 64 bit\n",
    "+ runtimes:\n",
    "    + `node.js` v4.3.2 and 5.10.3\n",
    "    + `java` 8\n",
    "    + **`python` 3.6 and 2.7**\n",
    "    + `C# .NET Core` 1.0.1\n",
    "+ sdks\n",
    "    + `javascript`\n",
    "    + `boto3` for `python 2.7, python 3.6`"
   ]
  },
  {
   "cell_type": "markdown",
   "metadata": {
    "slideshow": {
     "slide_type": "subslide"
    }
   },
   "source": [
    "### triggers\n",
    "\n",
    "there is a *huge* list of events and items that could trigger the execution of your `lambda` function. for example,\n",
    "\n",
    "1. any event in any `aws` application\n",
    "2. an open `api`\n",
    "3. an alexa\n",
    "4. nothing at all (manual)\n",
    "\n",
    "moral of the story: you can *probably* trigger it the way you want. It may not be obvious, but I bet you can do it."
   ]
  },
  {
   "cell_type": "markdown",
   "metadata": {
    "slideshow": {
     "slide_type": "subslide"
    }
   },
   "source": [
    "### functions\n",
    "\n",
    "at their heart, every `aws lambda` function is a zip directory of code that can be executed in the given, fixed runtime from above, and a single functional endpoint called a \"handler\". \n",
    "\n",
    "in the `python` world, that endpoint is specified as a python module (basically, a file name) and single file in that file which looks like\n",
    "\n",
    "```python\n",
    "# file: file_name.py\n",
    "def function_name(event, context):\n",
    "    # does something using the event json and the context\n",
    "```\n",
    "\n",
    "the handler here is `file_name.function_name`"
   ]
  },
  {
   "cell_type": "markdown",
   "metadata": {
    "slideshow": {
     "slide_type": "subslide"
    }
   },
   "source": [
    "#### `event`\n",
    "\n",
    "the `event` item is a `json` object that is usually completely defined by the triggering event you chose above. \n",
    "\n",
    "this means that you need to know the structure of that event `json` object if you wish to perform any function logic with it, or not care about it and just resond to the fact that *some* event happened.\n",
    "\n",
    "either way, though, it is expected that your `lambda` function code will take the event in as its first parameter"
   ]
  },
  {
   "cell_type": "markdown",
   "metadata": {
    "slideshow": {
     "slide_type": "subslide"
    }
   },
   "source": [
    "#### `context`\n",
    "\n",
    "in each of the runtimes, `aws` creates an object called a `context` that allows the user to interactively interact with the runtime and environment. the [`python` context object is discussed here](http://docs.aws.amazon.com/lambda/latest/dg/python-context-object.html).\n",
    "\n",
    "it will tell you (among many other things):\n",
    "\n",
    "+ how long till your function times out\n",
    "+ the memory limit of this `lambda` function\n",
    "+ the function name or version"
   ]
  },
  {
   "cell_type": "markdown",
   "metadata": {
    "slideshow": {
     "slide_type": "subslide"
    }
   },
   "source": [
    "use of the `context` is pretty... context dependent. use of the `event` is much more common, though, so it's good to get used to examining the event structure"
   ]
  },
  {
   "cell_type": "markdown",
   "metadata": {
    "slideshow": {
     "slide_type": "subslide"
    }
   },
   "source": [
    "<div align=\"center\">**walkthrough: create a hello world `lambda` function**</div>"
   ]
  },
  {
   "cell_type": "markdown",
   "metadata": {
    "slideshow": {
     "slide_type": "notes"
    }
   },
   "source": [
    "this is following [the walkthrough in the `lambda` documentation](https://docs.aws.amazon.com/lambda/latest/dg/getting-started-create-function.html)\n",
    "\n",
    "1. go to [the `lambda` service dashboard](https://console.aws.amazon.com/lambda/home?region=us-east-1#/home)\n",
    "2. create a function\n",
    "    1. blueprint\n",
    "        1. search for hello-world-python3 and select it\n",
    "    2. triggers\n",
    "        1. do nothing and click \"next\"\n",
    "    3. function\n",
    "        1. give it whatever name you want\n",
    "        2. the rest of the configurations are okay\n",
    "    4. review\n",
    "        1. just do it!\n",
    "3. testing it\n",
    "    1. be on the function page\n",
    "        1. you were dropped there after creating it\n",
    "        2. but if you left, you can get there be clicking \"functions\" in the left panel and selecting the name of your function\n",
    "    2. click the \"test\" button\n",
    "    3. use the default `json`\n",
    "        1. if there is no default, `{\"key3\": \"value, \"key2\": \"value2\",, \"key1\": \"value1\"}`\n",
    "4. monitoring\n",
    "    1. click the monitoring tab\n",
    "        1. check out the invocation and time used graph\n",
    "    2. click on the cloudwatch logs\n",
    "        1. look at the log stream "
   ]
  },
  {
   "cell_type": "markdown",
   "metadata": {
    "slideshow": {
     "slide_type": "slide"
    }
   },
   "source": [
    "## `trigger`s worth knowing about\n",
    "\n",
    "there are a lot of options for triggers, and depending on what you want to do with `aws` you will explore any number of them. that being said, there are a few that have immediate impact on services we've used already or will be likely to use while doing data science.\n",
    "\n",
    "the big question to ask is:\n",
    "\n",
    "*what does the `json` object passed from the triggered event look like, and how can / should we use it in our function?*"
   ]
  },
  {
   "cell_type": "markdown",
   "metadata": {
    "slideshow": {
     "slide_type": "subslide"
    }
   },
   "source": [
    "### scheduled events\n",
    "\n",
    "the `lambda` world has its own version of `cron` in `CloudWatch Events`. the same way that we were able to create shell scripts that could be executed on some frequency, we can creaet `lambda` functions and execute them with some frequency."
   ]
  },
  {
   "cell_type": "markdown",
   "metadata": {
    "slideshow": {
     "slide_type": "subslide"
    }
   },
   "source": [
    "when we set the frequency of the scheduled event, we can use `cron` syntax, or rate expressions -- docs are [here](https://docs.aws.amazon.com/lambda/latest/dg/tutorial-scheduled-events-schedule-expressions.html)\n",
    "\n",
    "```bash\n",
    "# rate example: daily\n",
    "rate(1 day)\n",
    "\n",
    "# cron example: work weekdays at 6 AM UTC\n",
    "cron(0 6 * * MON-FRI *)\n",
    "```"
   ]
  },
  {
   "cell_type": "markdown",
   "metadata": {
    "slideshow": {
     "slide_type": "subslide"
    }
   },
   "source": [
    "<div align=\"center\">**walkthrough: creating a `cloudwatch` scheduled event `lambda` function**</div>"
   ]
  },
  {
   "cell_type": "markdown",
   "metadata": {
    "slideshow": {
     "slide_type": "notes"
    }
   },
   "source": [
    "the walkthrough goes through the following steps\n",
    "\n",
    "+ create a new function\n",
    "+ on the trigger menu, select \"Cloudwatch Event\"\n",
    "+ enter a cron expression\n",
    "+ use the code below as the function defitinion\n",
    "+ submit\n",
    "\n",
    "```python\n",
    "def lambda_handler(event, context):\n",
    "    print(\"event = {}\".format(event))\n",
    "    return 'hello world'\n",
    "```"
   ]
  },
  {
   "cell_type": "markdown",
   "metadata": {
    "slideshow": {
     "slide_type": "subslide"
    }
   },
   "source": [
    "whichever we pick, an actual `cloudwatch` event `rule` is created. we could have created the rule ahead of time via the `cloudwatch` service, or we could let `lambda` build one for us.\n",
    "\n",
    "I've already created a simple `lambda` function and a simple rule, so let's check out [the `cloudwatch` service](https://console.aws.amazon.com/cloudwatch/home?region=us-east-1) to see an example rule to get some context"
   ]
  },
  {
   "cell_type": "markdown",
   "metadata": {
    "slideshow": {
     "slide_type": "subslide"
    }
   },
   "source": [
    "<div align=\"center\">**walkthrough: looking at `cloudwatch` scheduled event options**</div>"
   ]
  },
  {
   "cell_type": "markdown",
   "metadata": {
    "slideshow": {
     "slide_type": "notes"
    }
   },
   "source": [
    "the walkthrough goes through the following pages\n",
    "\n",
    "+ navigate to the `cloudwatch` service\n",
    "+ select the \"Events > Rule\" page from the left menu\n",
    "+ select any rule to go to the rule's summary page\n",
    "+ click edit\n",
    "    + source\n",
    "        + event pattern (trigger on *any* event across `aws` services)\n",
    "        + schedule (rate or cron expression\n",
    "        + dropdown of sample event indicates exactly what the event is\n",
    "    + target: `lambda` function\n",
    "        + this happens to point at a `lambda` function (because it was built for us via `lambda`)\n",
    "        + the `input` discussed here is the `input` `event` object for the `lambda` function\n",
    "        + we have options\n",
    "            + the exact object\n",
    "            + a single sub-element from the object\n",
    "            + a *constant* version\n",
    "            + a value constructure from the components of the original event object (based on key-value replacement)"
   ]
  },
  {
   "cell_type": "markdown",
   "metadata": {
    "slideshow": {
     "slide_type": "subslide"
    }
   },
   "source": [
    "so, the basic `event` object is\n",
    "\n",
    "```json\n",
    "// cloudwatch scheduled event example\n",
    "{\n",
    "  \"account\": \"123456789012\",\n",
    "  \"region\": \"us-east-1\",\n",
    "  \"detail\": {},\n",
    "  \"detail-type\": \"Scheduled Event\",\n",
    "  \"source\": \"aws.events\",\n",
    "  \"time\": \"1970-01-01T00:00:00Z\",\n",
    "  \"id\": \"cdc73f9d-aea9-11e3-9d5a-835b769c0d9c\",\n",
    "  \"resources\": [\n",
    "    \"arn:aws:events:us-east-1:123456789012:rule/my-schedule\"\n",
    "  ]\n",
    "}\n",
    "```"
   ]
  },
  {
   "cell_type": "markdown",
   "metadata": {
    "slideshow": {
     "slide_type": "subslide"
    }
   },
   "source": [
    "we could take our `hello world` example and make a small modification to incorporate elements of this event:\n",
    "\n",
    "```python\n",
    "def lambda_handler(event, context):\n",
    "    print(\"event = {}\".format(event))\n",
    "    return 'hello world! it is {}'.format(event['time'])\n",
    "```"
   ]
  },
  {
   "cell_type": "markdown",
   "metadata": {
    "slideshow": {
     "slide_type": "subslide"
    }
   },
   "source": [
    "<div align=\"center\">**mini exercise: create a scheduled hello world `lambda` function**</div>\n",
    "\n",
    "1. create a new `lambda` function with whatever name you'd like\n",
    "2. trigger the event on a `cloudwatch` scheduled event\n",
    "3. schedule the even to trigger every M-F at 6:00 GMT\n",
    "4. use the definition below for the function\n",
    "5. test your lambda function\n",
    "\n",
    "```python\n",
    "def lambda_handler(event, context):\n",
    "    print(\"event = {}\".format(event))\n",
    "    return 'hello world! it is {}'.format(event['time'])\n",
    "```"
   ]
  },
  {
   "cell_type": "markdown",
   "metadata": {
    "slideshow": {
     "slide_type": "subslide"
    }
   },
   "source": [
    "### `s3`\n",
    "\n",
    "suppose you created a process which checks every day for an update to some important externally-managed datasource, and downloads any new items posted to that external source to your `s3` bucket -- good thinking!\n",
    "\n",
    "also suppose that this new data affects a model you already trained, but with the previous version of that data set. wouldn't it be awesome if you could have your training process kick off automatically whenever a new dataset arrives?"
   ]
  },
  {
   "cell_type": "markdown",
   "metadata": {
    "slideshow": {
     "slide_type": "subslide"
    }
   },
   "source": [
    "it will surely come as a *great shock* that you can do this with `lambda` functions. can you believe it? I posed that arbitrary hypothetical in this lecture on `lambda` functions and here we are, possibly addressing that hypothetical.\n",
    "\n",
    "wild!"
   ]
  },
  {
   "cell_type": "markdown",
   "metadata": {
    "slideshow": {
     "slide_type": "subslide"
    }
   },
   "source": [
    "<div align=\"center\">**walkthrough: creating a useless `s3` event triggered `lambda` function**</div>"
   ]
  },
  {
   "cell_type": "markdown",
   "metadata": {
    "slideshow": {
     "slide_type": "notes"
    }
   },
   "source": [
    "the walkthrough does the following\n",
    "\n",
    "1. navigate to the `s3` service page\n",
    "    1. create an `s3` event-producing bucket\n",
    "    2. create a subfolder in that bucket\n",
    "2. navigate back to the `lambda` service page\n",
    "3. create a new `lambda` function\n",
    "    1. no blueprint\n",
    "    2. trigger type is `s3`\n",
    "    3. configure trigger\n",
    "        1. pick the bucket you create in step 1.1\n",
    "        2. event type is \"Object Created (All)\"\n",
    "        3. prefix is the subfolder you chose in step 1.2 (with a trailing \"/\" character, e.g. \"myfolder/\")\n",
    "        4. no suffix needed\n",
    "        5. enable trigger\n",
    "    4. configure function\n",
    "        1. use the `python 3.6` code below (does nothing but print our event)\n",
    "    5. save\n",
    "4. test new `lambda` function\n",
    "    1. click the \"actions\" dropdown to select the \"configure test event\" option\n",
    "    2. selet an `s3 put` event template\n",
    "    3. \"save and test\"\n",
    "    \n",
    "```python\n",
    "def lambda_handler(event, context):\n",
    "    print(\"event = {}\".format(event))\n",
    "    return 'hello world!'\n",
    "```"
   ]
  },
  {
   "cell_type": "markdown",
   "metadata": {
    "slideshow": {
     "slide_type": "subslide"
    }
   },
   "source": [
    "toward the end of that walkthrough, we created a test `s3 PUT` event that looked like the following:\n",
    "\n",
    "```json\n",
    "{\n",
    "    \"Records\": [\n",
    "        {\n",
    "            \"eventVersion\": \"2.0\",\n",
    "            \"eventTime\": \"1970-01-01T00:00:00.000Z\",\n",
    "            \"requestParameters\": {\"sourceIPAddress\": \"127.0.0.1\"},\n",
    "            \"s3\": {\n",
    "                \"configurationId\": \"testConfigRule\",\n",
    "                \"object\": {\n",
    "                    \"eTag\": \"0123456789abcdef0123456789abcdef\",\n",
    "                    \"sequencer\": \"0A1B2C3D4E5F678901\",\n",
    "                    \"key\": \"HappyFace.jpg\",\n",
    "                    \"size\": 1024\n",
    "                },\n",
    "                \"bucket\": {\n",
    "                    \"arn\": \"arn:aws:s3:::mybucket\",\n",
    "                    \"name\": \"sourcebucket\",\n",
    "                    \"ownerIdentity\": {\"principalId\": \"EXAMPLE\"}\n",
    "                },\n",
    "                \"s3SchemaVersion\": \"1.0\"\n",
    "            },\n",
    "            \"responseElements\": {...},\n",
    "            \"awsRegion\": \"us-east-1\",\n",
    "            \"eventName\": \"ObjectCreated:Put\",\n",
    "            \"userIdentity\": {\"principalId\": \"EXAMPLE\"},\n",
    "            \"eventSource\": \"aws:s3\"\n",
    "        }\n",
    "    ]\n",
    "}\n",
    "```"
   ]
  },
  {
   "cell_type": "markdown",
   "metadata": {
    "slideshow": {
     "slide_type": "subslide"
    }
   },
   "source": [
    "let's update our hello world script to (pretend to) run our data science pipeline process\n",
    "\n",
    "```python\n",
    "def lambda_handler(event, context):\n",
    "    print(\"event = {}\".format(event))\n",
    "    s3info = event['Records'][0]['s3']\n",
    "    # return a str version of the command we could execute\n",
    "    cmd = 'dspipeline.update_file(bucket={}, key={})'.format(\n",
    "        s3info['bucket']['name'], \n",
    "        s3info['object']['key']\n",
    "    )\n",
    "    print(cmd)\n",
    "    return cmd\n",
    "```"
   ]
  },
  {
   "cell_type": "markdown",
   "metadata": {
    "slideshow": {
     "slide_type": "notes"
    }
   },
   "source": [
    "<div align=\"center\">**mini exercise: create an `s3`-triggered hello world `lambda` function**</div>\n",
    "\n",
    "1. create a new `s3` bucket and subfolder\n",
    "2. create a new `lambda` function triggered on any new file in that subfolder\n",
    "3. use the (`python 3.6` runtime) code below as the function defintion\n",
    "4. test it out by creating a new file in `s3` and looking at the `cloudwatch` logs\n",
    "    \n",
    "```python\n",
    "def lambda_handler(event, context):\n",
    "    print(\"event = {}\".format(event))\n",
    "    s3info = event['Records'][0]['s3']\n",
    "    # return a str version of the command we could execute\n",
    "    cmd = 'dspipeline.update_file(bucket={}, key={})'.format(\n",
    "        s3info['bucket']['name'], \n",
    "        s3info['object']['key']\n",
    "    )\n",
    "    print(cmd)\n",
    "    return cmd\n",
    "```"
   ]
  },
  {
   "cell_type": "markdown",
   "metadata": {
    "slideshow": {
     "slide_type": "subslide"
    }
   },
   "source": [
    "### api gateway\n",
    "\n",
    "this service allows you to create your own RESTful api endpoint -- a url to which you may send `GET, POST, PUT,` or `DELETE` requests to perform some action. that action that you perform can very easily be a `lambda` function!"
   ]
  },
  {
   "cell_type": "markdown",
   "metadata": {
    "slideshow": {
     "slide_type": "subslide"
    }
   },
   "source": [
    "why might we want to do this?\n",
    "\n",
    "as we will see later, it is possible (even easy) to invoke a serverless `lambda` function from code which is written using one of the `aws sdk`s (e.g. `boto3`), and in the `aws` environment. but what if we don't have access to these tools or environments for parts of our project?\n",
    "\n",
    "RESTful apis are language agnostic and highly standardized ways of providing an integration point to the `lambda` function we wrote and external code. you can expose this `lambda` function as an api endpoint and anyone with knowledge and permissions can invoke it in any way they want"
   ]
  },
  {
   "cell_type": "markdown",
   "metadata": {
    "slideshow": {
     "slide_type": "subslide"
    }
   },
   "source": [
    "<div align=\"center\">**walkthrough: creating an api gateway triggered `lambda` function**</div>"
   ]
  },
  {
   "cell_type": "markdown",
   "metadata": {
    "slideshow": {
     "slide_type": "notes"
    }
   },
   "source": [
    "the walkthrough does the following\n",
    "\n",
    "1. create a new `lambda` function\n",
    "    1. no blueprint\n",
    "    2. trigger type is `api gateway`\n",
    "    3. configure trigger\n",
    "        1. we can pick any name (e.g. `HelloWorldTest`)\n",
    "        2. we leave all other defaults the same\n",
    "    4. configure function\n",
    "        1. use the `python 3.6` code below (does nothing but print our event)\n",
    "    5. save\n",
    "2. test new `lambda` function\n",
    "    1. click the \"actions\" dropdown to select the \"configure test event\" option\n",
    "    2. enter the `json` test message below\n",
    "    3. \"save and test\"\n",
    "    \n",
    "```python\n",
    "import json\n",
    "\n",
    "def respond(err, res=None):\n",
    "    return {\n",
    "        'statusCode': '400' if err else '200',\n",
    "        'body': err.message if err else json.dumps(res),\n",
    "        'headers': {'Content-Type': 'application/json'},\n",
    "    }\n",
    "\n",
    "\n",
    "def lambda_handler(event, context):\n",
    "    print(\"event = {}\".format(event))\n",
    "\n",
    "    reqtype = event['httpMethod']\n",
    "    if reqtype == 'GET':\n",
    "        return respond(\n",
    "            err=None,\n",
    "            res='value 1 is {}'.format(\n",
    "                event['queryStringParameters'].get('key1')\n",
    "            )\n",
    "        )\n",
    "    else:\n",
    "        return respond(ValueError('Unsupported method \"{}\"'.format(reqtype)))\n",
    "```\n",
    "\n",
    "```json\n",
    "// simple json test GET request\n",
    "// change the method POST\" for different test case\n",
    "{\n",
    "  \"queryStringParameters\": {\n",
    "    \"foo\": \"bar\",\n",
    "    \"key1\": \"val1\"\n",
    "  },\n",
    "  \"httpMethod\": \"GET\"\n",
    "}\n",
    "```"
   ]
  },
  {
   "cell_type": "markdown",
   "metadata": {
    "slideshow": {
     "slide_type": "subslide"
    }
   },
   "source": [
    "one thing to note here: the `event` we get is pretty much a direct pass-through of the `http` request sent to the api gateway -- in this sense, we can define whatever structure we want, and impose it on the downstream consumer (so long as it fits within the [`http` message structure](https://developer.mozilla.org/en-US/docs/Web/HTTP/Messages)).\n",
    "\n",
    "let's look at this from the point of view of the api gateway we just created."
   ]
  },
  {
   "cell_type": "markdown",
   "metadata": {
    "slideshow": {
     "slide_type": "subslide"
    }
   },
   "source": [
    "#### `api gateway` object"
   ]
  },
  {
   "cell_type": "markdown",
   "metadata": {
    "slideshow": {
     "slide_type": "subslide"
    }
   },
   "source": [
    "<div align=\"center\">**walkthrough: looking at `cloudwatch` scheduled event options**</div>"
   ]
  },
  {
   "cell_type": "markdown",
   "metadata": {
    "slideshow": {
     "slide_type": "notes"
    }
   },
   "source": [
    "the walkthrough goes through the following pages\n",
    "\n",
    "+ navigate to the `api gateway` service\n",
    "+ select the \"APIs > [YOUR API NAME] > Resources\" page from the left menu\n",
    "+ select the api endpoint you just created\n",
    "+ click on the ANY method (it could have been GET, POST, etc)\n",
    "    + test\n",
    "        + allows us to perform a http request (a la `curl`)\n",
    "        + can set arbitrary parameters and see what our response is\n",
    "        + try `GET` with nothing\n",
    "            + it fails with a cryptic message... maybe we should fix that... two steps later...\n",
    "        + try `GET` with paramaters `key1=val1&key2=val2`. SUCCESS!\n",
    "        + try `POST`. FAILURE, but more descriptive failure. that's progress.\n",
    "    + method request\n",
    "        + defines the interface of the api endpoint\n",
    "        + url query string parameters section\n",
    "            + let's update it to *require* parameter key1, and suggest key2 and key3\n",
    "            + let's update the docs for each of those (click the book on the same line)\n",
    "            + required error message says we should create a validator -- let's do it!\n",
    "        + request validator\n",
    "            + click the edit pencil\n",
    "            + select query string and header option\n",
    "    + back to test\n",
    "        + try `GET` with nothing now. cool!\n",
    "    + integration request\n",
    "        + this piece specifically configures the handoff to `lambda`\n",
    "    + lambda function is what we know from before\n",
    "    + integration response: NA\n",
    "    + method resposne\n",
    "        + allows us to provide specific documentation and structure for non-200 responses\n",
    "+ deploy!\n",
    "    + actions button dropdown > deploy api\n",
    "    + basic configs\n",
    "+ stage: prod\n",
    "    + check out export tab > export as swagger"
   ]
  },
  {
   "cell_type": "markdown",
   "metadata": {
    "slideshow": {
     "slide_type": "subslide"
    }
   },
   "source": [
    "so, the basic `event` object is\n",
    "\n",
    "```json\n",
    "// cloudwatch scheduled event example\n",
    "{\n",
    "  \"account\": \"123456789012\",\n",
    "  \"region\": \"us-east-1\",\n",
    "  \"detail\": {},\n",
    "  \"detail-type\": \"Scheduled Event\",\n",
    "  \"source\": \"aws.events\",\n",
    "  \"time\": \"1970-01-01T00:00:00Z\",\n",
    "  \"id\": \"cdc73f9d-aea9-11e3-9d5a-835b769c0d9c\",\n",
    "  \"resources\": [\n",
    "    \"arn:aws:events:us-east-1:123456789012:rule/my-schedule\"\n",
    "  ]\n",
    "}\n",
    "```"
   ]
  },
  {
   "cell_type": "markdown",
   "metadata": {
    "slideshow": {
     "slide_type": "subslide"
    }
   },
   "source": [
    "### `kinesis` and `firehose`"
   ]
  },
  {
   "cell_type": "markdown",
   "metadata": {
    "slideshow": {
     "slide_type": "subslide"
    }
   },
   "source": [
    "### `rds`"
   ]
  },
  {
   "cell_type": "markdown",
   "metadata": {
    "slideshow": {
     "slide_type": "notes"
    }
   },
   "source": [
    "+ Lambda\n",
    "    + cli integration\n",
    "        + creating a simple funciton from local code files\n",
    "        + invoking a function (`aws lambda invoke`)\n",
    "    + free tier limits\n",
    "        + https://aws.amazon.com/lambda/pricing/\n",
    "    + exercise: a harder function from the command line\n",
    "        + something that requires an external package (requests, probably) and a zipped venv\n",
    "        + s3 example: https://docs.aws.amazon.com/lambda/latest/dg/with-s3-example-upload-deployment-pkg.html\n",
    "    + Exercise: \"the world’s worst alarm clock\": \n",
    "        + Goal: create a job to post a file to S3 saying \"WAKE UP\" every day at 7 AM\n",
    "        + Creating the function\n",
    "            + Nav to \"AWS Lambda\" page\n",
    "            + \"Get started Now\"\n",
    "            + Examine blueprints, but \"Author from scratch\"\n",
    "            + Ignore the trigger (for now)\n",
    "            + Choose descriptive name\n",
    "            + Runtime == python 3.6\n",
    "            + \"Edit code inline\" and add the bad alarm clock python file from the s3 example\n",
    "            + Create new role from template, name it something simple like \"lambda_basic_execution\"\n",
    "            + Finish\n",
    "        + Testing with our own test event\n",
    "            + Test json object:\n",
    "                + `{\"message\": \"hello world\", \"bucket\": \"YOUR BUCKET NAME HERE\"}`\n",
    "            + Did it work?\n",
    "            + Why might access be denied?\n",
    "        + Permissions\n",
    "            + Go to the bucket permissions\n",
    "            + Also go to the IAM console (more on that below)\n",
    "            + Go to policy generator\n",
    "            + Figure out how to update the policy\n",
    "            + Answer:\n",
    "            + Add the block\n",
    "                {\n",
    "                    \"Sid\": \"LambdaPutObject\",\n",
    "                    \"Action\": \"s3:PutObject\",\n",
    "                    \"Effect\": \"Allow\",\n",
    "                    \"Principal\": {\n",
    "                        \"AWS\": [\n",
    "                            \"arn:aws:iam::336188965589:role/service-role/gu511_lambda_basic_execution\"\n",
    "                        ]\n",
    "                    },\n",
    "                    \"Resource\": \"arn:aws:s3:::gu511.lamberty.io/*\"\n",
    "                }\n",
    "            + See the policy for my bucket if necessary\n",
    "            + Test again\n",
    "        + Adding a timed trigger and specifying the event\n",
    "            + \"Cloudwatch event\"\n",
    "            + Create a cron rule\n",
    "                + Set the time to 7 AM EST (note: must convert that time to GMT), and enter it in as a cron rule\n",
    "            + Update the target \"input\" (the thing we send to be input to the target lambda function) to be {\"message\": \"YOUR ALARM + CLOCK MESSAGE\", \"bucket\": \"YOUR BUCKET NAME HERE\"}\n",
    "        + Check out the logs for this rule in CloudWatch (this is the case for *all* lambda functions, independent of whether or not the *triggering* event was a lambda function)\n",
    "    + Exercise: compare and contrast the cron setup to the lambda setup\n",
    "        + What were the pros of each? What were the cons?\n",
    "+ Can you think of situations in which you might want to use one method instead of the other?"
   ]
  },
  {
   "cell_type": "markdown",
   "metadata": {
    "slideshow": {
     "slide_type": "notes"
    }
   },
   "source": [
    "things created in this lecture that you may want to clean up afterward:\n",
    "\n",
    "1. `lambda` functions\n",
    "    1. all are named `helloworld_{event type}_test`, and you can delete them all\n",
    "2. `iam role` items\n",
    "    1. all are named `helloworld_{event type}_test_role` and you can delete them all\n",
    "3. events\n",
    "    1. `s3` bucket, subdirectory, and attached event\n",
    "    2. `Cloudwatch` scheduled event\n",
    "    3. `api gateway` endpoint url"
   ]
  }
 ],
 "metadata": {
  "celltoolbar": "Slideshow",
  "kernelspec": {
   "display_name": "Python 3",
   "language": "python",
   "name": "python3"
  },
  "language_info": {
   "codemirror_mode": {
    "name": "ipython",
    "version": 3
   },
   "file_extension": ".py",
   "mimetype": "text/x-python",
   "name": "python",
   "nbconvert_exporter": "python",
   "pygments_lexer": "ipython3",
   "version": "3.6.2"
  }
 },
 "nbformat": 4,
 "nbformat_minor": 2
}

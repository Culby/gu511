{
 "cells": [
  {
   "cell_type": "markdown",
   "metadata": {
    "slideshow": {
     "slide_type": "slide"
    }
   },
   "source": [
    "# `aws lambda`"
   ]
  },
  {
   "cell_type": "markdown",
   "metadata": {
    "slideshow": {
     "slide_type": "subslide"
    }
   },
   "source": [
    "think of the steps we needed to go through before we were able to execute our sad `alarm_clock.py` script in the previous lectures and homeworks:\n",
    "\n",
    "1. provision an `ec2` instance\n",
    "2. make an `ssh` connection to that server\n",
    "3. copy our `python` script to that server\n",
    "4. create an environment capable of executing that `python` script\n",
    "5. establish an `iam role` for `aws cli` and `boto3` process running on that server\n",
    "6. add a `crontab` entry to run that script with some frequency\n",
    "7. leave our `ec2` server up and running while the script runs once a day"
   ]
  },
  {
   "cell_type": "markdown",
   "metadata": {
    "slideshow": {
     "slide_type": "subslide"
    }
   },
   "source": [
    "that's a fair amount of work and infrastructure for doing something as simple as running a block of code. \n",
    "\n",
    "it's also relatively expensive: we didn't *need* our `ec2` service to be up and running constantly -- only for a few seconds each day. And we didn't utilize all of the resources available to our machine while we were executing that code, so even that time was somewhat wasted."
   ]
  },
  {
   "cell_type": "markdown",
   "metadata": {
    "slideshow": {
     "slide_type": "subslide"
    }
   },
   "source": [
    "`aws lambda` is a serverless code execution service which tries to provide a more streamlined and simple process for executing simple code in a way that is highly integrated with other `aws` services.\n",
    "\n",
    "it also generalizes from *scheduling* to *triggered* events -- meaning we can execute code with some temporal frequency, *or* any time some particular thing happens (*e.g.* a file is posted to a particular `s3` bucket). this makes it a sort of \"if this then that\" for `aws`"
   ]
  },
  {
   "cell_type": "markdown",
   "metadata": {
    "slideshow": {
     "slide_type": "slide"
    }
   },
   "source": [
    "## how `lambda` functions are defined"
   ]
  },
  {
   "cell_type": "markdown",
   "metadata": {
    "slideshow": {
     "slide_type": "subslide"
    }
   },
   "source": [
    "a `lambda` function is comprised of three things:\n",
    "\n",
    "1. a runtime and an environment: a particular language and particular versions of that language, other environment setups\n",
    "2. a trigger: some event that causes a function to run\n",
    "3. a function: some code executed in that run-time after that trigger"
   ]
  },
  {
   "cell_type": "markdown",
   "metadata": {
    "slideshow": {
     "slide_type": "subslide"
    }
   },
   "source": [
    "### run-time and execution environment\n",
    "\n",
    "the available runtimes are updated with some frequency, so it's usually best to look it up and check out [this page](https://docs.aws.amazon.com/lambda/latest/dg/current-supported-versions.html). of course, the `lambda` function creation dialog will also make you choose one of them."
   ]
  },
  {
   "cell_type": "markdown",
   "metadata": {
    "slideshow": {
     "slide_type": "subslide"
    }
   },
   "source": [
    "at the time of writing, though, the environment and runtimes were as follows:\n",
    "\n",
    "+ os: all executed on the Amazon Linux AMI, 64 bit\n",
    "+ runtimes:\n",
    "    + `node.js` v4.3.2 and 5.10.3\n",
    "    + `java` 8\n",
    "    + **`python` 3.6 and 2.7**\n",
    "    + `C# .NET Core` 1.0.1\n",
    "+ sdks\n",
    "    + `javascript`\n",
    "    + `boto3` for `python 2.7, python 3.6`"
   ]
  },
  {
   "cell_type": "markdown",
   "metadata": {
    "slideshow": {
     "slide_type": "subslide"
    }
   },
   "source": [
    "### triggers\n",
    "\n",
    "there is a *huge* list of events and items that could trigger the execution of your `lambda` function. for example,\n",
    "\n",
    "1. any event in any `aws` application\n",
    "2. an open `api`\n",
    "3. an alexa\n",
    "4. nothing at all (manual)\n",
    "\n",
    "moral of the story: you can *probably* trigger it the way you want. It may not be obvious, but I bet you can do it."
   ]
  },
  {
   "cell_type": "markdown",
   "metadata": {
    "slideshow": {
     "slide_type": "subslide"
    }
   },
   "source": [
    "### functions\n",
    "\n",
    "at their heart, every `aws lambda` function is a zip directory of code that can be executed in the given, fixed runtime from above, and a single functional endpoint called a \"handler\". \n",
    "\n",
    "in the `python` world, that endpoint is specified as a python module (basically, a file name) and single file in that file which looks like\n",
    "\n",
    "```python\n",
    "# file: file_name.py\n",
    "def function_name(event, context):\n",
    "    # does something using the event json and the context\n",
    "```\n",
    "\n",
    "the handler here is `file_name.function_name`"
   ]
  },
  {
   "cell_type": "markdown",
   "metadata": {
    "slideshow": {
     "slide_type": "subslide"
    }
   },
   "source": [
    "#### `event`\n",
    "\n",
    "the `event` item is a `json` object that is usually completely defined by the triggering event you chose above. \n",
    "\n",
    "this means that you need to know the structure of that event `json` object if you wish to perform any function logic with it, or not care about it and just resond to the fact that *some* event happened.\n",
    "\n",
    "either way, though, it is expected that your `lambda` function code will take the event in as its first parameter"
   ]
  },
  {
   "cell_type": "markdown",
   "metadata": {
    "slideshow": {
     "slide_type": "subslide"
    }
   },
   "source": [
    "##### example `event`s\n",
    "\n",
    "TBD"
   ]
  },
  {
   "cell_type": "markdown",
   "metadata": {
    "slideshow": {
     "slide_type": "subslide"
    }
   },
   "source": [
    "#### `context`\n",
    "\n",
    "in each of the runtimes, `aws` creates an object called a `context` that allows the user to interactively interact with the runtime and environment. the [`python` context object is discussed here](http://docs.aws.amazon.com/lambda/latest/dg/python-context-object.html).\n",
    "\n",
    "it will tell you (among many other things):\n",
    "\n",
    "+ how long till your function times out\n",
    "+ the memory limit of this `lambda` function\n",
    "+ the function name or version"
   ]
  },
  {
   "cell_type": "markdown",
   "metadata": {
    "slideshow": {
     "slide_type": "subslide"
    }
   },
   "source": [
    "use of the `context` is pretty... context dependent. use of the `event` is much more common, though, so it's good to get used to examining the event structure"
   ]
  },
  {
   "cell_type": "markdown",
   "metadata": {
    "slideshow": {
     "slide_type": "subslide"
    }
   },
   "source": [
    "<div align=\"center\">**walkthrough: create a hello world `lambda` function**</div>"
   ]
  },
  {
   "cell_type": "markdown",
   "metadata": {
    "slideshow": {
     "slide_type": "notes"
    }
   },
   "source": [
    "this is following [the walkthrough in the `lambda` documentation](https://docs.aws.amazon.com/lambda/latest/dg/getting-started-create-function.html)\n",
    "\n",
    "1. go to [the `lambda` service dashboard](https://console.aws.amazon.com/lambda/home?region=us-east-1#/home)\n",
    "2. create a function\n",
    "    1. blueprint\n",
    "        1. search for hello-world-python3 and select it\n",
    "    2. triggers\n",
    "        1. do nothing and click \"next\"\n",
    "    3. function\n",
    "        1. give it whatever name you want\n",
    "        2. the rest of the configurations are okay\n",
    "    4. review\n",
    "        1. just do it!\n",
    "3. testing it\n",
    "    1. be on the function page\n",
    "        1. you were dropped there after creating it\n",
    "        2. but if you left, you can get there be clicking \"functions\" in the left panel and selecting the name of your function\n",
    "    2. click the \"test\" button\n",
    "    3. use the default `json`\n",
    "        1. if there is no default, `{\"key3\": \"value, \"key2\": \"value2\",, \"key1\": \"value1\"}`\n",
    "4. monitoring\n",
    "    1. click the monitoring tab\n",
    "        1. check out the invocation and time used graph\n",
    "    2. click on the cloudwatch logs\n",
    "        1. look at the log stream "
   ]
  },
  {
   "cell_type": "markdown",
   "metadata": {
    "slideshow": {
     "slide_type": "slide"
    }
   },
   "source": [
    "## `trigger`s worth knowing about\n",
    "\n",
    "there are a lot of options for triggers, and depending on what you want to do with `aws` you will explore any number of them. that being said, there are a few that have immediate impact on services we've used already or will be likely to use while doing data science.\n",
    "\n",
    "the big question to ask is:\n",
    "\n",
    "*what does the `json` object passed from the triggered event look like, and how can / should we use it in our function?*"
   ]
  },
  {
   "cell_type": "markdown",
   "metadata": {
    "slideshow": {
     "slide_type": "subslide"
    }
   },
   "source": [
    "### scheduled events\n",
    "\n",
    "the `lambda` world has its own version of `cron` in `CloudWatch Events`. the same way that we were able to create shell scripts that could be executed on some frequency, we can creaet `lambda` functions and execute them with some frequency."
   ]
  },
  {
   "cell_type": "markdown",
   "metadata": {
    "slideshow": {
     "slide_type": "subslide"
    }
   },
   "source": [
    "when we set the frequency of the scheduled event, we can use `cron` syntax, or rate expressions -- docs are [here](https://docs.aws.amazon.com/lambda/latest/dg/tutorial-scheduled-events-schedule-expressions.html)\n",
    "\n",
    "```bash\n",
    "# rate example: daily\n",
    "rate(1 day)\n",
    "\n",
    "# cron example: work weekdays at 6 AM UTC\n",
    "cron(0 6 * * MON-FRI *)\n",
    "```"
   ]
  },
  {
   "cell_type": "markdown",
   "metadata": {
    "slideshow": {
     "slide_type": "subslide"
    }
   },
   "source": [
    "whichever we pick, an actual `cloudwatch` event `rule` is created. we could have created the rule ahead of time via the `cloudwatch` service, or we could let `lambda` build one for us.\n",
    "\n",
    "I've already created a simple `lambda` function and a simple rule, so let's check out [the `cloudwatch` service](https://console.aws.amazon.com/cloudwatch/home?region=us-east-1) to see an example rule to get some context"
   ]
  },
  {
   "cell_type": "markdown",
   "metadata": {
    "slideshow": {
     "slide_type": "subslide"
    }
   },
   "source": [
    "<div align=\"center\">**walkthrough: looking at `cloudwatch` scheduled event options**</div>"
   ]
  },
  {
   "cell_type": "markdown",
   "metadata": {
    "slideshow": {
     "slide_type": "notes"
    }
   },
   "source": [
    "the walkthrough goes through the following pages\n",
    "\n",
    "+ navigate to the `cloudwatch` service\n",
    "+ select the \"Events > Rule\" page from the left menu\n",
    "+ select any rule to go to the rule's summary page\n",
    "+ click edit\n",
    "    + source\n",
    "        + event pattern (trigger on *any* event across `aws` services)\n",
    "        + schedule (rate or cron expression\n",
    "        + dropdown of sample event indicates exactly what the event is\n",
    "    + target: `lambda` function\n",
    "        + this happens to point at a `lambda` function (because it was built for us via `lambda`)\n",
    "        + the `input` discussed here is the `input` `event` object for the `lambda` function\n",
    "        + we have options\n",
    "            + the exact object\n",
    "            + a single sub-element from the object\n",
    "            + a *constant* version\n",
    "            + a value constructure from the components of the original event object (based on key-value replacement)"
   ]
  },
  {
   "cell_type": "markdown",
   "metadata": {
    "slideshow": {
     "slide_type": "subslide"
    }
   },
   "source": [
    "so, the basic `event` object is\n",
    "\n",
    "```json\n",
    "// cloudwatch scheduled event example\n",
    "{\n",
    "  \"account\": \"123456789012\",\n",
    "  \"region\": \"us-east-1\",\n",
    "  \"detail\": {},\n",
    "  \"detail-type\": \"Scheduled Event\",\n",
    "  \"source\": \"aws.events\",\n",
    "  \"time\": \"1970-01-01T00:00:00Z\",\n",
    "  \"id\": \"cdc73f9d-aea9-11e3-9d5a-835b769c0d9c\",\n",
    "  \"resources\": [\n",
    "    \"arn:aws:events:us-east-1:123456789012:rule/my-schedule\"\n",
    "  ]\n",
    "}\n",
    "```"
   ]
  },
  {
   "cell_type": "markdown",
   "metadata": {
    "slideshow": {
     "slide_type": "subslide"
    }
   },
   "source": [
    "we could take our `hello world` example and make a small modification to incorporate elements of this event:\n",
    "\n",
    "```python\n",
    "def lambda_handler(event, context):\n",
    "    print(\"event = {}\".format(event))\n",
    "    return 'hello world! it is {}'.format(event['time'])\n",
    "```"
   ]
  },
  {
   "cell_type": "markdown",
   "metadata": {
    "slideshow": {
     "slide_type": "subslide"
    }
   },
   "source": [
    "<div align=\"center\">**mini exercise: create a scheduled hello world `lambda` function**</div>\n",
    "\n",
    "1. create a new `lambda` function with whatever name you'd like\n",
    "2. trigger the event on a `cloudwatch` scheduled event\n",
    "3. schedule the even to trigger every M-F at 6:00 GMT\n",
    "4. use the definition below for the function\n",
    "5. test your lambda function\n",
    "\n",
    "```python\n",
    "def lambda_handler(event, context):\n",
    "    print(\"event = {}\".format(event))\n",
    "    return 'hello world! it is {}'.format(event['time'])\n",
    "```"
   ]
  },
  {
   "cell_type": "markdown",
   "metadata": {
    "slideshow": {
     "slide_type": "subslide"
    }
   },
   "source": [
    "### `s3`"
   ]
  },
  {
   "cell_type": "markdown",
   "metadata": {
    "slideshow": {
     "slide_type": "subslide"
    }
   },
   "source": [
    "### api gateway\n",
    "\n",
    "this service allows you to create your own RESTful api endpoint -- a url to which you may send `GET, POST, PUT,` or `DELETE` requests to perform some action. that action that you perform can very easily be a `lambda` function!\n",
    "\n",
    "+ we made one, code is below\n",
    "+ we haven't invoked one yet, need to do that"
   ]
  },
  {
   "cell_type": "markdown",
   "metadata": {
    "slideshow": {
     "slide_type": "subslide"
    }
   },
   "source": [
    "### `kinesis` and `firehose`"
   ]
  },
  {
   "cell_type": "markdown",
   "metadata": {
    "slideshow": {
     "slide_type": "subslide"
    }
   },
   "source": [
    "### `rds`"
   ]
  },
  {
   "cell_type": "markdown",
   "metadata": {
    "slideshow": {
     "slide_type": "notes"
    }
   },
   "source": [
    "+ Lambda\n",
    "    + Makeup of lambda object:\n",
    "        + A function\n",
    "    + free tier limits\n",
    "        + https://aws.amazon.com/lambda/pricing/\n",
    "    + Exercise: \"the world’s worst alarm clock\": \n",
    "        + Goal: create a job to post a file to S3 saying \"WAKE UP\" every day at 7 AM\n",
    "        + Creating the function\n",
    "            + Nav to \"AWS Lambda\" page\n",
    "            + \"Get started Now\"\n",
    "            + Examine blueprints, but \"Author from scratch\"\n",
    "            + Ignore the trigger (for now)\n",
    "            + Choose descriptive name\n",
    "            + Runtime == python 3.6\n",
    "            + \"Edit code inline\" and add the bad alarm clock python file from the s3 example\n",
    "            + Create new role from template, name it something simple like \"lambda_basic_execution\"\n",
    "            + Finish\n",
    "        + Testing with our own test event\n",
    "            + Test json object:\n",
    "                + `{\"message\": \"hello world\", \"bucket\": \"YOUR BUCKET NAME HERE\"}`\n",
    "            + Did it work?\n",
    "            + Why might access be denied?\n",
    "        + Permissions\n",
    "            + Go to the bucket permissions\n",
    "            + Also go to the IAM console (more on that below)\n",
    "            + Go to policy generator\n",
    "            + Figure out how to update the policy\n",
    "            + Answer:\n",
    "            + Add the block\n",
    "                {\n",
    "                    \"Sid\": \"LambdaPutObject\",\n",
    "                    \"Action\": \"s3:PutObject\",\n",
    "                    \"Effect\": \"Allow\",\n",
    "                    \"Principal\": {\n",
    "                        \"AWS\": [\n",
    "                            \"arn:aws:iam::336188965589:role/service-role/gu511_lambda_basic_execution\"\n",
    "                        ]\n",
    "                    },\n",
    "                    \"Resource\": \"arn:aws:s3:::gu511.lamberty.io/*\"\n",
    "                }\n",
    "            + See the policy for my bucket if necessary\n",
    "            + Test again\n",
    "        + Adding a timed trigger and specifying the event\n",
    "            + \"Cloudwatch event\"\n",
    "            + Create a cron rule\n",
    "                + Set the time to 7 AM EST (note: must convert that time to GMT), and enter it in as a cron rule\n",
    "            + Update the target \"input\" (the thing we send to be input to the target lambda function) to be {\"message\": \"YOUR ALARM + CLOCK MESSAGE\", \"bucket\": \"YOUR BUCKET NAME HERE\"}\n",
    "        + Check out the logs for this rule in CloudWatch (this is the case for *all* lambda functions, independent of whether or not the *triggering* event was a lambda function)\n",
    "    + Exercise: compare and contrast the cron setup to the lambda setup\n",
    "        + What were the pros of each? What were the cons?\n",
    "+ Can you think of situations in which you might want to use one method instead of the other?"
   ]
  },
  {
   "cell_type": "markdown",
   "metadata": {
    "slideshow": {
     "slide_type": "notes"
    }
   },
   "source": [
    "```python\n",
    "# simple hello world version\n",
    "def lambda_handler(event, context):\n",
    "    print(\"event = {}\".format(event))\n",
    "    return event['key1']\n",
    "```"
   ]
  },
  {
   "cell_type": "markdown",
   "metadata": {
    "collapsed": true,
    "slideshow": {
     "slide_type": "notes"
    }
   },
   "source": [
    "```python\n",
    "# api gateway lambda function\n",
    "import boto3\n",
    "import json\n",
    "\n",
    "print('Loading function')\n",
    "\n",
    "def respond(err, res=None):\n",
    "    return {\n",
    "        'statusCode': '400' if err else '200',\n",
    "        'body': err.message if err else json.dumps(res),\n",
    "        'headers': {\n",
    "            'Content-Type': 'application/json',\n",
    "        },\n",
    "    }\n",
    "\n",
    "\n",
    "def lambda_handler(event, context):\n",
    "    '''Demonstrates a simple HTTP endpoint using API Gateway. You have full\n",
    "    access to the request and response payload, including headers and\n",
    "    status code.\n",
    "\n",
    "    To scan a DynamoDB table, make a GET request with the TableName as a\n",
    "    query string parameter. To put, update, or delete an item, make a POST,\n",
    "    PUT, or DELETE request respectively, passing in the payload to the\n",
    "    DynamoDB API as a JSON body.\n",
    "    '''\n",
    "    print(\"Received event: \" + json.dumps(event, indent=2))\n",
    "\n",
    "    reqtype = event['httpMethod']\n",
    "    if reqtype == 'GET':\n",
    "        return respond(\n",
    "            err=None, \n",
    "            res='value 1 is {}'.format(event['queryStringParameters'].get('key1'))\n",
    "        )\n",
    "    else:\n",
    "        return respond(ValueError('Unsupported method \"{}\"'.format(reqtype)))\n",
    "```"
   ]
  }
 ],
 "metadata": {
  "celltoolbar": "Slideshow",
  "kernelspec": {
   "display_name": "Python 3",
   "language": "python",
   "name": "python3"
  },
  "language_info": {
   "codemirror_mode": {
    "name": "ipython",
    "version": 3
   },
   "file_extension": ".py",
   "mimetype": "text/x-python",
   "name": "python",
   "nbconvert_exporter": "python",
   "pygments_lexer": "ipython3",
   "version": "3.6.2"
  }
 },
 "nbformat": 4,
 "nbformat_minor": 2
}

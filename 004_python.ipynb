{
 "cells": [
  {
   "cell_type": "markdown",
   "metadata": {
    "slideshow": {
     "slide_type": "slide"
    }
   },
   "source": [
    "# python"
   ]
  },
  {
   "cell_type": "markdown",
   "metadata": {
    "slideshow": {
     "slide_type": "subslide"
    }
   },
   "source": [
    "[`python`](https://www.python.org/) is one of the most popular scripting and programming languages in the world. there are, [like, ninefinity different ways of ranking programming lanaguages](https://www.python.org/), and `python` sits in the top 5 of almost every one of them.\n",
    "\n",
    "I have used it on every single project I've ever worked on. I am an unashamed `python` fanboy.\n",
    "\n",
    "I'm also not really one for the `R` vs. `python` holy wars -- the two have different use cases and any conversation that attempts to settle \"which is better\" is already fundamentally flawed, in my opinion. That being said, I'd like to make the following case as to why you should *learn* `python`, even if it doesn't become your go-to data science language:"
   ]
  },
  {
   "cell_type": "markdown",
   "metadata": {
    "slideshow": {
     "slide_type": "subslide"
    }
   },
   "source": [
    "##### `python` is much more common than `R`\n",
    "\n",
    "this is a feature of a number of biases, but also speaks to something fundamental about the differences between the languages: `R` is a very *deep* language in a very *narrow* field of concepts (namely, statistics), whereas `python` is among the most *broad* and *flexible* languages without a central purpose.\n",
    "\n",
    "Another reason this matters: the barrier to entry for a company or government agency's IT department will be lower (or already surpassed) for `python` and `python` packages if for no other reason than that computer engineers are familiar with it by default."
   ]
  },
  {
   "cell_type": "markdown",
   "metadata": {
    "slideshow": {
     "slide_type": "subslide"
    }
   },
   "source": [
    "##### there is a package for that\n",
    "\n",
    "this is a corollary of the previous point: if there is a thing you want to do, it is very likely that some one has already done it in `python`, and that their work is available for you to use.\n",
    "\n",
    "For a point of comparison, there are 11,282 `R` packages on `CRAN`, and 115,497 on `python`."
   ]
  },
  {
   "cell_type": "code",
   "execution_count": 4,
   "metadata": {
    "collapsed": true
   },
   "outputs": [],
   "source": [
    "import antigravity"
   ]
  },
  {
   "cell_type": "markdown",
   "metadata": {
    "slideshow": {
     "slide_type": "subslide"
    }
   },
   "source": [
    "##### it does all the most basic things well\n",
    "\n",
    "although it is available and well-supported on every OS, `python` is very much a linux-focused language. it \"grew up\" in linux as an alternative scripting language (alternative to `bash` and other `shell` scripts). because of this, it acquired some of the linux philosophy points, and specifically those that focus on simplicity.\n",
    "\n",
    "many of the current iterations of linux tools are actually calling `python` scripts under the hood, which means that essential things like web scraping, emailing, scheduling and timing, networking, logging, and database access are all possible and highly optimized in `python`"
   ]
  },
  {
   "cell_type": "markdown",
   "metadata": {
    "slideshow": {
     "slide_type": "subslide"
    }
   },
   "source": [
    "##### it is fun\n",
    "\n",
    "`python` was created with the express interest of being as simple to program in as possible. most of the syntax and rules are specifically generated to make the language function as much like pseudo-code as possible, so code is easy to read.\n",
    "\n",
    "the community also has an edge to it. a good example: start a python session and type\n",
    "\n",
    "```python\n",
    "import this\n",
    "```"
   ]
  },
  {
   "cell_type": "code",
   "execution_count": 1,
   "metadata": {
    "slideshow": {
     "slide_type": "subslide"
    }
   },
   "outputs": [
    {
     "name": "stdout",
     "output_type": "stream",
     "text": [
      "The Zen of Python, by Tim Peters\n",
      "\n",
      "Beautiful is better than ugly.\n",
      "Explicit is better than implicit.\n",
      "Simple is better than complex.\n",
      "Complex is better than complicated.\n",
      "Flat is better than nested.\n",
      "Sparse is better than dense.\n",
      "Readability counts.\n",
      "Special cases aren't special enough to break the rules.\n",
      "Although practicality beats purity.\n",
      "Errors should never pass silently.\n",
      "Unless explicitly silenced.\n",
      "In the face of ambiguity, refuse the temptation to guess.\n",
      "There should be one-- and preferably only one --obvious way to do it.\n",
      "Although that way may not be obvious at first unless you're Dutch.\n",
      "Now is better than never.\n",
      "Although never is often better than *right* now.\n",
      "If the implementation is hard to explain, it's a bad idea.\n",
      "If the implementation is easy to explain, it may be a good idea.\n",
      "Namespaces are one honking great idea -- let's do more of those!\n"
     ]
    }
   ],
   "source": [
    "import this"
   ]
  },
  {
   "cell_type": "markdown",
   "metadata": {
    "slideshow": {
     "slide_type": "slide"
    }
   },
   "source": [
    "## version 2 vs. 3"
   ]
  },
  {
   "cell_type": "markdown",
   "metadata": {},
   "source": [
    "I'd be remiss not to mention one of the major red marks against `python` -- the infamous \"2 vs. 3\" upgrade controversy.\n",
    "\n",
    "in order to make some very low-level changes to the language (primarily for performance improvements and to support international languages), the developer community chose to make a new major version of `python`: `python3`.\n",
    "\n",
    "the process caused a lot of confusion among newcomers to the language -- which was exploding in popularity at around the same time -- and also put a large burden of uncertainty on corporate developers and development.\n",
    "\n",
    "the bottom line, in my opinion is this:\n",
    "\n",
    "***unless you have no other option, you should always use python 3 and only python 3***"
   ]
  },
  {
   "cell_type": "markdown",
   "metadata": {
    "slideshow": {
     "slide_type": "slide"
    }
   },
   "source": [
    "## packages"
   ]
  },
  {
   "cell_type": "markdown",
   "metadata": {
    "slideshow": {
     "slide_type": "subslide"
    }
   },
   "source": [
    "a given file of executible `python` code is probably best referred to as a \"script\", but a collection of scripts which expose some sort of interface to a user to do \"something\" are generally called a \"library\" or a \"package\". \n",
    "\n",
    "This is mostly the same convention as in the `R` community -- think of the differences between scripts you wrote and `dplyr` and all the other stuff Hadley wrote."
   ]
  },
  {
   "cell_type": "markdown",
   "metadata": {
    "slideshow": {
     "slide_type": "subslide"
    }
   },
   "source": [
    "### my favorite packages\n",
    "\n",
    "So what sorts of `python` packages should you use?"
   ]
  },
  {
   "cell_type": "markdown",
   "metadata": {
    "slideshow": {
     "slide_type": "subslide"
    }
   },
   "source": [
    "first of all, the builtin packages are pretty great, and cover a wide range of the most necessary use cases for a programming language (e.g. file i/o and os utilities and tie-ins). The ones I use most often are:\n",
    "\n",
    "+ `argparse` - reading in and parsing command line arguments\n",
    "+ `collections` - sets of \"collection\" objects (e.g. ordered dictionaries, named tuples, default dictionaries)\n",
    "+ `csv` - for reading and writing delimited files\n",
    "+ `datetime` - the fundamental date object and utilities library\n",
    "+ `functools` - functional tools, including fancy stuff like partial function definitions and caching\n",
    "+ `itertools` - an awesome library of utilities for iterating through collections of items\n",
    "+ `json` - for parsing and constructing well formatted JSON\n",
    "+ `logging` - for logging messages to console, file, etc\n",
    "+ `os` - operating system interaction (I use this in almost every single program)\n",
    "+ `pickle` - a `python`-native serialization protocol, for saving `python` stuff\n",
    "+ `random` - a decent (if not special) randomization library\n",
    "+ `re` - regular expression parsing library\n",
    "+ `time` - a generic OS-level time interface\n",
    "\n",
    "for any `python` installation, these *already exist* -- no installation necessary"
   ]
  },
  {
   "cell_type": "markdown",
   "metadata": {
    "slideshow": {
     "slide_type": "subslide"
    }
   },
   "source": [
    "there are also a ton of great open-source libraries for just about any purpose you might imagine. Again, the ones I use most often:\n",
    "\n",
    "+ `flask` - a `python` web framework (for standing up webpages)\n",
    "+ `ipython` - the best interactive shell, it just makes the normal python program look silly\n",
    "+ `jupyter` - the interactive extension of the above (`ipython`, this is what is used to make this bodacious document you see before you)\n",
    "+ `lxml` - a fast and flexible XML / HTML library\n",
    "+ `matplotlib` - a plotting library that is super useful but will make `R` users dream of their former glory\n",
    "+ `nltk` - Natural Language Tool Kit, a library for language processing and text analytics\n",
    "+ `numpy` - NUMerical PYthon, a lot of super duper array and linear algebra glue code to make C and FORTRAN routines available in `python`.\n",
    "+ `pandas` - PANel DAta, a dataframe interface for feature data. This is the main data science library in `python` and, again, I use it in almost every single program\n",
    "+ `plotly` - an amazing plotting library"
   ]
  },
  {
   "cell_type": "markdown",
   "metadata": {
    "slideshow": {
     "slide_type": "subslide"
    }
   },
   "source": [
    "+ `psycopg2` - a `postgres` library\n",
    "+ `requests` - the main web GET and POST library\n",
    "+ `scipy` - SCIentific PYthon, and extension of `numpy` to include a more scientific utilities\n",
    "+ `scrapy` - a flexibile but easy web scraping framework\n",
    "+ `seaborn` - something you import whenever you use `matplotlib` to make your plots non-heinous (also has some useful functions that no one has discovered yet)\n",
    "+ `selenium` - a javascript engine library (for when `requests` isn't good enough)\n",
    "+ `sklearn` - the other half of the primary data science workflow, an all-purpose modeling library\n",
    "+ `sqlalchemy` - an ORM library for most sql databases. It's pretty flashy and when you finally need it, you'll know in your heart.\n",
    "+ `tqdm` - a fancy-pants progress bar library. You don't need it, but you want it.\n",
    "+ `yaml` - a library for parsing the world's greatest configuration format, Yet Another Markup Language (YAML)"
   ]
  },
  {
   "cell_type": "markdown",
   "metadata": {
    "slideshow": {
     "slide_type": "subslide"
    }
   },
   "source": [
    "### installing packages\n",
    "\n",
    "So, let's take a journey together.\n",
    "\n",
    "Unlike `R`, the folks who put `python` together thought that people should care about the versions of the packages they installed. They didn't really do anything to make this happen in a sane way, though, so there were like ten different ways to install packages. \n",
    "\n",
    "If you learned `python` in the early days, you probably heard it was hard to install packages. Well, it was. Maybe it still is, depending on your attitude. That's right, I'm blaming the victim."
   ]
  },
  {
   "cell_type": "markdown",
   "metadata": {
    "slideshow": {
     "slide_type": "subslide"
    }
   },
   "source": [
    "Really, though, I'm sorry. If you're coming to `python` from `R` this probably feels silly. Why not just have an `install` function and install whatever you want? \n",
    "\n",
    "Why? Basically, because that's a bad idea for writing production-level software.\n",
    "\n",
    "production-level software is meant to be deterministic, and to be stable. Software that has the ability to install packages within the language has several disadvantages:\n",
    "\n",
    "1. avoids administrator oversight\n",
    "    1. having to ask your admin to install something is a *good* thing\n",
    "2. could install something malicious or broken without anyone knowing\n",
    "3. could install different versions on different machines at different times"
   ]
  },
  {
   "cell_type": "markdown",
   "metadata": {
    "slideshow": {
     "slide_type": "subslide"
    }
   },
   "source": [
    "Basically, the versions of all your packages matter, so you should care about that stuff. The `python` community is pretty stickly about that and has gone to great lengths (and, like, 15 different methods) to try and solve that problem. And today, that means that everyone is doing one of the following:\n",
    "\n",
    "+ using `pip` (\"Pip Installs Python\", and yes, recursive acronyms are annoying)\n",
    "+ using `pip`, but in a virtual environment\n",
    "+ using `conda` (virtual environments on steroids or amphetamines, depending on whether you're a data scientist or sysad (resp))\n",
    "\n",
    "I advocate using `conda` for many reasons -- more on this later."
   ]
  },
  {
   "cell_type": "markdown",
   "metadata": {
    "slideshow": {
     "slide_type": "slide"
    }
   },
   "source": [
    "## environments"
   ]
  },
  {
   "cell_type": "markdown",
   "metadata": {
    "slideshow": {
     "slide_type": "subslide"
    }
   },
   "source": [
    "### basic environments\n",
    "\n",
    "Let's take a quick python version poll:\n",
    "\n",
    "on your laptop (not your `ec2` instance), what `python` version do you have installed?\n",
    "\n",
    "```bash\n",
    "python --version\n",
    "```"
   ]
  },
  {
   "cell_type": "code",
   "execution_count": 5,
   "metadata": {},
   "outputs": [
    {
     "name": "stderr",
     "output_type": "stream",
     "text": [
      "Python 3.6.1 :: Continuum Analytics, Inc.\n"
     ]
    }
   ],
   "source": [
    "%%bash\n",
    "python --version"
   ]
  },
  {
   "cell_type": "markdown",
   "metadata": {
    "slideshow": {
     "slide_type": "subslide"
    }
   },
   "source": [
    "different versions of `python` (and different versions of installed packages) have different files defining the language's behavior and thus different levels of compatability. personally, I think knowing that these files exist is among the more important.\n",
    "\n",
    "***the way that the code you wrote behaves depends on these files***\n",
    "\n",
    "recall the `which` command, which will tell us they path that will actually be called when we type in a command\n",
    "\n",
    "```bash\n",
    "which python3\n",
    "```"
   ]
  },
  {
   "cell_type": "code",
   "execution_count": 12,
   "metadata": {},
   "outputs": [
    {
     "name": "stdout",
     "output_type": "stream",
     "text": [
      "/home/zlamberty/anaconda3/envs/bs/bin/python3\n"
     ]
    }
   ],
   "source": [
    "%%bash\n",
    "which python3"
   ]
  },
  {
   "cell_type": "markdown",
   "metadata": {
    "slideshow": {
     "slide_type": "subslide"
    }
   },
   "source": [
    "your out-of-the-box `ec2` instances will likely return `/usr/bin/python3`. so when you type `python3` on the command line, you will actually call the executible file `/usr/bin/python3`.\n",
    "\n",
    "the same sort of thing is going on for individual `python` modules we import. Every module has a \"private\" member `__file__` which lists the path to the file used to define that module:"
   ]
  },
  {
   "cell_type": "code",
   "execution_count": 13,
   "metadata": {},
   "outputs": [
    {
     "data": {
      "text/plain": [
       "'/home/zlamberty/anaconda3/envs/bs/lib/python3.6/os.py'"
      ]
     },
     "execution_count": 13,
     "metadata": {},
     "output_type": "execute_result"
    }
   ],
   "source": [
    "import os\n",
    "os.__file__"
   ]
  },
  {
   "cell_type": "markdown",
   "metadata": {
    "slideshow": {
     "slide_type": "subslide"
    }
   },
   "source": [
    "let's look at that file!\n",
    "\n",
    "```bash\n",
    "# for you, it is:\n",
    "less /usr/lib/python3.5/os.py\n",
    "\n",
    "#for me, right now, it'll be different -- hence the craziness below. sorry!\n",
    "```"
   ]
  },
  {
   "cell_type": "code",
   "execution_count": 14,
   "metadata": {},
   "outputs": [
    {
     "name": "stdout",
     "output_type": "stream",
     "text": [
      "r\"\"\"OS routines for NT or Posix depending on what system we're on.\n",
      "\n",
      "This exports:\n",
      "  - all functions from posix or nt, e.g. unlink, stat, etc.\n",
      "  - os.path is either posixpath or ntpath\n",
      "  - os.name is either 'posix' or 'nt'\n",
      "  - os.curdir is a string representing the current directory (always '.')\n",
      "  - os.pardir is a string representing the parent directory (always '..')\n",
      "  - os.sep is the (or a most common) pathname separator ('/' or '\\\\')\n",
      "  - os.extsep is the extension separator (always '.')\n",
      "  - os.altsep is the alternate pathname separator (None or '/')\n",
      "  - os.pathsep is the component separator used in $PATH etc\n",
      "  - os.linesep is the line separator in text files ('\\r' or '\\n' or '\\r\\n')\n",
      "  - os.defpath is the default search path for executables\n",
      "  - os.devnull is the file path of the null device ('/dev/null', etc.)\n",
      "\n",
      "Programs that import and use 'os' stand a better chance of being\n",
      "portable between different platforms.  Of course, they must then\n",
      "only use functions that are defined by all platforms (e.g., unlink\n",
      "and opendir), and leave all pathname manipulation to os.path\n",
      "(e.g., split and join).\n",
      "\"\"\"\n",
      "\n",
      "#'\n",
      "import abc\n",
      "import sys, errno\n",
      "import stat as st\n",
      "\n",
      "_names = sys.builtin_module_names\n",
      "\n",
      "# Note:  more names are added to __all__ later.\n",
      "__all__ = [\"altsep\", \"curdir\", \"pardir\", \"sep\", \"pathsep\", \"linesep\",\n",
      "           \"defpath\", \"name\", \"path\", \"devnull\", \"SEEK_SET\", \"SEEK_CUR\",\n",
      "           \"SEEK_END\", \"fsencode\", \"fsdecode\", \"get_exec_path\", \"fdopen\",\n",
      "           \"popen\", \"extsep\"]\n",
      "\n",
      "def _exists(name):\n",
      "    return name in globals()\n",
      "\n",
      "def _get_exports_list(module):\n",
      "    try:\n",
      "        return list(module.__all__)\n",
      "    except AttributeError:\n",
      "        return [n for n in dir(module) if n[0] != '_']\n",
      "\n",
      "# Any new dependencies of the os module and/or changes in path separator\n",
      "# requires updating importlib as well.\n",
      "if 'posix' in _names:\n",
      "    name = 'posix'\n",
      "    linesep = '\\n'\n",
      "    from posix import *\n",
      "    try:\n",
      "        from posix import _exit\n",
      "        __all__.append('_exit')\n",
      "    except ImportError:\n",
      "        pass\n",
      "    import posixpath as path\n",
      "\n",
      "    try:\n",
      "        from posix import _have_functions\n",
      "    except ImportError:\n",
      "        pass\n",
      "\n",
      "    import posix\n",
      "    __all__.extend(_get_exports_list(posix))\n",
      "    del posix\n",
      "\n",
      "elif 'nt' in _names:\n",
      "    name = 'nt'\n",
      "    linesep = '\\r\\n'\n",
      "    from nt import *\n",
      "    try:\n",
      "        from nt import _exit\n",
      "        __all__.append('_exit')\n",
      "    except ImportError:\n",
      "        pass\n",
      "    import ntpath as path\n",
      "\n",
      "    import nt\n",
      "    __all__.extend(_get_exports_list(nt))\n",
      "    del nt\n",
      "\n",
      "    try:\n",
      "        from nt import _have_functions\n",
      "    except ImportError:\n",
      "        pass\n",
      "\n",
      "else:\n",
      "    raise ImportError('no os specific module found')\n",
      "\n",
      "sys.modules['os.path'] = path\n",
      "from os.path import (curdir, pardir, sep, pathsep, defpath, extsep, altsep,\n",
      "    devnull)\n",
      "\n",
      "del _names\n",
      "\n",
      "\n",
      "if _exists(\"_have_functions\"):\n",
      "    _globals = globals()\n",
      "    def _add(str, fn):\n",
      "        if (fn in _globals) and (str in _have_functions):\n",
      "            _set.add(_globals[fn])\n",
      "\n",
      "    _set = set()\n",
      "    _add(\"HAVE_FACCESSAT\",  \"access\")\n",
      "    _add(\"HAVE_FCHMODAT\",   \"chmod\")\n",
      "    _add(\"HAVE_FCHOWNAT\",   \"chown\")\n",
      "    _add(\"HAVE_FSTATAT\",    \"stat\")\n",
      "    _add(\"HAVE_FUTIMESAT\",  \"utime\")\n",
      "    _add(\"HAVE_LINKAT\",     \"link\")\n",
      "    _add(\"HAVE_MKDIRAT\",    \"mkdir\")\n",
      "    _add(\"HAVE_MKFIFOAT\",   \"mkfifo\")\n",
      "    _add(\"HAVE_MKNODAT\",    \"mknod\")\n",
      "    _add(\"HAVE_OPENAT\",     \"open\")\n",
      "    _add(\"HAVE_READLINKAT\", \"readlink\")\n",
      "    _add(\"HAVE_RENAMEAT\",   \"rename\")\n",
      "    _add(\"HAVE_SYMLINKAT\",  \"symlink\")\n",
      "    _add(\"HAVE_UNLINKAT\",   \"unlink\")\n",
      "    _add(\"HAVE_UNLINKAT\",   \"rmdir\")\n",
      "    _add(\"HAVE_UTIMENSAT\",  \"utime\")\n",
      "    supports_dir_fd = _set\n",
      "\n",
      "    _set = set()\n",
      "    _add(\"HAVE_FACCESSAT\",  \"access\")\n",
      "    supports_effective_ids = _set\n",
      "\n",
      "    _set = set()\n",
      "    _add(\"HAVE_FCHDIR\",     \"chdir\")\n",
      "    _add(\"HAVE_FCHMOD\",     \"chmod\")\n",
      "    _add(\"HAVE_FCHOWN\",     \"chown\")\n",
      "    _add(\"HAVE_FDOPENDIR\",  \"listdir\")\n",
      "    _add(\"HAVE_FEXECVE\",    \"execve\")\n",
      "    _set.add(stat) # fstat always works\n",
      "    _add(\"HAVE_FTRUNCATE\",  \"truncate\")\n",
      "    _add(\"HAVE_FUTIMENS\",   \"utime\")\n",
      "    _add(\"HAVE_FUTIMES\",    \"utime\")\n",
      "    _add(\"HAVE_FPATHCONF\",  \"pathconf\")\n",
      "    if _exists(\"statvfs\") and _exists(\"fstatvfs\"): # mac os x10.3\n",
      "        _add(\"HAVE_FSTATVFS\", \"statvfs\")\n",
      "    supports_fd = _set\n",
      "\n",
      "    _set = set()\n",
      "    _add(\"HAVE_FACCESSAT\",  \"access\")\n",
      "    # Some platforms don't support lchmod().  Often the function exists\n",
      "    # anyway, as a stub that always returns ENOSUP or perhaps EOPNOTSUPP.\n",
      "    # (No, I don't know why that's a good design.)  ./configure will detect\n",
      "    # this and reject it--so HAVE_LCHMOD still won't be defined on such\n",
      "    # platforms.  This is Very Helpful.\n",
      "    #\n",
      "    # However, sometimes platforms without a working lchmod() *do* have\n",
      "    # fchmodat().  (Examples: Linux kernel 3.2 with glibc 2.15,\n",
      "    # OpenIndiana 3.x.)  And fchmodat() has a flag that theoretically makes\n",
      "    # it behave like lchmod().  So in theory it would be a suitable\n",
      "    # replacement for lchmod().  But when lchmod() doesn't work, fchmodat()'s\n",
      "    # flag doesn't work *either*.  Sadly ./configure isn't sophisticated\n",
      "    # enough to detect this condition--it only determines whether or not\n",
      "    # fchmodat() minimally works.\n",
      "    #\n",
      "    # Therefore we simply ignore fchmodat() when deciding whether or not\n",
      "    # os.chmod supports follow_symlinks.  Just checking lchmod() is\n",
      "    # sufficient.  After all--if you have a working fchmodat(), your\n",
      "    # lchmod() almost certainly works too.\n",
      "    #\n",
      "    # _add(\"HAVE_FCHMODAT\",   \"chmod\")\n",
      "    _add(\"HAVE_FCHOWNAT\",   \"chown\")\n",
      "    _add(\"HAVE_FSTATAT\",    \"stat\")\n",
      "    _add(\"HAVE_LCHFLAGS\",   \"chflags\")\n",
      "    _add(\"HAVE_LCHMOD\",     \"chmod\")\n",
      "    if _exists(\"lchown\"): # mac os x10.3\n",
      "        _add(\"HAVE_LCHOWN\", \"chown\")\n",
      "    _add(\"HAVE_LINKAT\",     \"link\")\n",
      "    _add(\"HAVE_LUTIMES\",    \"utime\")\n",
      "    _add(\"HAVE_LSTAT\",      \"stat\")\n",
      "    _add(\"HAVE_FSTATAT\",    \"stat\")\n",
      "    _add(\"HAVE_UTIMENSAT\",  \"utime\")\n",
      "    _add(\"MS_WINDOWS\",      \"stat\")\n",
      "    supports_follow_symlinks = _set\n",
      "\n",
      "    del _set\n",
      "    del _have_functions\n",
      "    del _globals\n",
      "    del _add\n",
      "\n",
      "\n",
      "# Python uses fixed values for the SEEK_ constants; they are mapped\n",
      "# to native constants if necessary in posixmodule.c\n",
      "# Other possible SEEK values are directly imported from posixmodule.c\n",
      "SEEK_SET = 0\n",
      "SEEK_CUR = 1\n",
      "SEEK_END = 2\n",
      "\n",
      "# Super directory utilities.\n",
      "# (Inspired by Eric Raymond; the doc strings are mostly his)\n",
      "\n",
      "def makedirs(name, mode=0o777, exist_ok=False):\n",
      "    \"\"\"makedirs(name [, mode=0o777][, exist_ok=False])\n",
      "\n",
      "    Super-mkdir; create a leaf directory and all intermediate ones.  Works like\n",
      "    mkdir, except that any intermediate path segment (not just the rightmost)\n",
      "    will be created if it does not exist. If the target directory already\n",
      "    exists, raise an OSError if exist_ok is False. Otherwise no exception is\n",
      "    raised.  This is recursive.\n",
      "\n",
      "    \"\"\"\n",
      "    head, tail = path.split(name)\n",
      "    if not tail:\n",
      "        head, tail = path.split(head)\n",
      "    if head and tail and not path.exists(head):\n",
      "        try:\n",
      "            makedirs(head, mode, exist_ok)\n",
      "        except FileExistsError:\n",
      "            # Defeats race condition when another thread created the path\n",
      "            pass\n",
      "        cdir = curdir\n",
      "        if isinstance(tail, bytes):\n",
      "            cdir = bytes(curdir, 'ASCII')\n",
      "        if tail == cdir:           # xxx/newdir/. exists if xxx/newdir exists\n",
      "            return\n",
      "    try:\n",
      "        mkdir(name, mode)\n",
      "    except OSError:\n",
      "        # Cannot rely on checking for EEXIST, since the operating system\n",
      "        # could give priority to other errors like EACCES or EROFS\n",
      "        if not exist_ok or not path.isdir(name):\n",
      "            raise\n",
      "\n",
      "def removedirs(name):\n",
      "    \"\"\"removedirs(name)\n",
      "\n",
      "    Super-rmdir; remove a leaf directory and all empty intermediate\n",
      "    ones.  Works like rmdir except that, if the leaf directory is\n",
      "    successfully removed, directories corresponding to rightmost path\n",
      "    segments will be pruned away until either the whole path is\n",
      "    consumed or an error occurs.  Errors during this latter phase are\n",
      "    ignored -- they generally mean that a directory was not empty.\n",
      "\n",
      "    \"\"\"\n",
      "    rmdir(name)\n",
      "    head, tail = path.split(name)\n",
      "    if not tail:\n",
      "        head, tail = path.split(head)\n",
      "    while head and tail:\n",
      "        try:\n",
      "            rmdir(head)\n",
      "        except OSError:\n",
      "            break\n",
      "        head, tail = path.split(head)\n",
      "\n",
      "def renames(old, new):\n",
      "    \"\"\"renames(old, new)\n",
      "\n",
      "    Super-rename; create directories as necessary and delete any left\n",
      "    empty.  Works like rename, except creation of any intermediate\n",
      "    directories needed to make the new pathname good is attempted\n",
      "    first.  After the rename, directories corresponding to rightmost\n",
      "    path segments of the old name will be pruned until either the\n",
      "    whole path is consumed or a nonempty directory is found.\n",
      "\n",
      "    Note: this function can fail with the new directory structure made\n",
      "    if you lack permissions needed to unlink the leaf directory or\n",
      "    file.\n",
      "\n",
      "    \"\"\"\n",
      "    head, tail = path.split(new)\n",
      "    if head and tail and not path.exists(head):\n",
      "        makedirs(head)\n",
      "    rename(old, new)\n",
      "    head, tail = path.split(old)\n",
      "    if head and tail:\n",
      "        try:\n",
      "            removedirs(head)\n",
      "        except OSError:\n",
      "            pass\n",
      "\n",
      "__all__.extend([\"makedirs\", \"removedirs\", \"renames\"])\n",
      "\n",
      "def walk(top, topdown=True, onerror=None, followlinks=False):\n",
      "    \"\"\"Directory tree generator.\n",
      "\n",
      "    For each directory in the directory tree rooted at top (including top\n",
      "    itself, but excluding '.' and '..'), yields a 3-tuple\n",
      "\n",
      "        dirpath, dirnames, filenames\n",
      "\n",
      "    dirpath is a string, the path to the directory.  dirnames is a list of\n",
      "    the names of the subdirectories in dirpath (excluding '.' and '..').\n",
      "    filenames is a list of the names of the non-directory files in dirpath.\n",
      "    Note that the names in the lists are just names, with no path components.\n",
      "    To get a full path (which begins with top) to a file or directory in\n",
      "    dirpath, do os.path.join(dirpath, name).\n",
      "\n",
      "    If optional arg 'topdown' is true or not specified, the triple for a\n",
      "    directory is generated before the triples for any of its subdirectories\n",
      "    (directories are generated top down).  If topdown is false, the triple\n",
      "    for a directory is generated after the triples for all of its\n",
      "    subdirectories (directories are generated bottom up).\n",
      "\n",
      "    When topdown is true, the caller can modify the dirnames list in-place\n",
      "    (e.g., via del or slice assignment), and walk will only recurse into the\n",
      "    subdirectories whose names remain in dirnames; this can be used to prune the\n",
      "    search, or to impose a specific order of visiting.  Modifying dirnames when\n",
      "    topdown is false is ineffective, since the directories in dirnames have\n",
      "    already been generated by the time dirnames itself is generated. No matter\n",
      "    the value of topdown, the list of subdirectories is retrieved before the\n",
      "    tuples for the directory and its subdirectories are generated.\n",
      "\n",
      "    By default errors from the os.scandir() call are ignored.  If\n",
      "    optional arg 'onerror' is specified, it should be a function; it\n",
      "    will be called with one argument, an OSError instance.  It can\n",
      "    report the error to continue with the walk, or raise the exception\n",
      "    to abort the walk.  Note that the filename is available as the\n",
      "    filename attribute of the exception object.\n",
      "\n",
      "    By default, os.walk does not follow symbolic links to subdirectories on\n",
      "    systems that support them.  In order to get this functionality, set the\n",
      "    optional argument 'followlinks' to true.\n",
      "\n",
      "    Caution:  if you pass a relative pathname for top, don't change the\n",
      "    current working directory between resumptions of walk.  walk never\n",
      "    changes the current directory, and assumes that the client doesn't\n",
      "    either.\n",
      "\n",
      "    Example:\n",
      "\n",
      "    import os\n",
      "    from os.path import join, getsize\n",
      "    for root, dirs, files in os.walk('python/Lib/email'):\n",
      "        print(root, \"consumes\", end=\"\")\n",
      "        print(sum([getsize(join(root, name)) for name in files]), end=\"\")\n",
      "        print(\"bytes in\", len(files), \"non-directory files\")\n",
      "        if 'CVS' in dirs:\n",
      "            dirs.remove('CVS')  # don't visit CVS directories\n",
      "\n",
      "    \"\"\"\n",
      "    top = fspath(top)\n",
      "    dirs = []\n",
      "    nondirs = []\n",
      "    walk_dirs = []\n",
      "\n",
      "    # We may not have read permission for top, in which case we can't\n",
      "    # get a list of the files the directory contains.  os.walk\n",
      "    # always suppressed the exception then, rather than blow up for a\n",
      "    # minor reason when (say) a thousand readable directories are still\n",
      "    # left to visit.  That logic is copied here.\n",
      "    try:\n",
      "        # Note that scandir is global in this module due\n",
      "        # to earlier import-*.\n",
      "        scandir_it = scandir(top)\n",
      "    except OSError as error:\n",
      "        if onerror is not None:\n",
      "            onerror(error)\n",
      "        return\n",
      "\n",
      "    with scandir_it:\n",
      "        while True:\n",
      "            try:\n",
      "                try:\n",
      "                    entry = next(scandir_it)\n",
      "                except StopIteration:\n",
      "                    break\n",
      "            except OSError as error:\n",
      "                if onerror is not None:\n",
      "                    onerror(error)\n",
      "                return\n",
      "\n",
      "            try:\n",
      "                is_dir = entry.is_dir()\n",
      "            except OSError:\n",
      "                # If is_dir() raises an OSError, consider that the entry is not\n",
      "                # a directory, same behaviour than os.path.isdir().\n",
      "                is_dir = False\n",
      "\n",
      "            if is_dir:\n",
      "                dirs.append(entry.name)\n",
      "            else:\n",
      "                nondirs.append(entry.name)\n",
      "\n",
      "            if not topdown and is_dir:\n",
      "                # Bottom-up: recurse into sub-directory, but exclude symlinks to\n",
      "                # directories if followlinks is False\n",
      "                if followlinks:\n",
      "                    walk_into = True\n",
      "                else:\n",
      "                    try:\n",
      "                        is_symlink = entry.is_symlink()\n",
      "                    except OSError:\n",
      "                        # If is_symlink() raises an OSError, consider that the\n",
      "                        # entry is not a symbolic link, same behaviour than\n",
      "                        # os.path.islink().\n",
      "                        is_symlink = False\n",
      "                    walk_into = not is_symlink\n",
      "\n",
      "                if walk_into:\n",
      "                    walk_dirs.append(entry.path)\n",
      "\n",
      "    # Yield before recursion if going top down\n",
      "    if topdown:\n",
      "        yield top, dirs, nondirs\n",
      "\n",
      "        # Recurse into sub-directories\n",
      "        islink, join = path.islink, path.join\n",
      "        for dirname in dirs:\n",
      "            new_path = join(top, dirname)\n",
      "            # Issue #23605: os.path.islink() is used instead of caching\n",
      "            # entry.is_symlink() result during the loop on os.scandir() because\n",
      "            # the caller can replace the directory entry during the \"yield\"\n",
      "            # above.\n",
      "            if followlinks or not islink(new_path):\n",
      "                yield from walk(new_path, topdown, onerror, followlinks)\n",
      "    else:\n",
      "        # Recurse into sub-directories\n",
      "        for new_path in walk_dirs:\n",
      "            yield from walk(new_path, topdown, onerror, followlinks)\n",
      "        # Yield after recursion if going bottom up\n",
      "        yield top, dirs, nondirs\n",
      "\n",
      "__all__.append(\"walk\")\n",
      "\n",
      "if {open, stat} <= supports_dir_fd and {listdir, stat} <= supports_fd:\n",
      "\n",
      "    def fwalk(top=\".\", topdown=True, onerror=None, *, follow_symlinks=False, dir_fd=None):\n",
      "        \"\"\"Directory tree generator.\n",
      "\n",
      "        This behaves exactly like walk(), except that it yields a 4-tuple\n",
      "\n",
      "            dirpath, dirnames, filenames, dirfd\n",
      "\n",
      "        `dirpath`, `dirnames` and `filenames` are identical to walk() output,\n",
      "        and `dirfd` is a file descriptor referring to the directory `dirpath`.\n",
      "\n",
      "        The advantage of fwalk() over walk() is that it's safe against symlink\n",
      "        races (when follow_symlinks is False).\n",
      "\n",
      "        If dir_fd is not None, it should be a file descriptor open to a directory,\n",
      "          and top should be relative; top will then be relative to that directory.\n",
      "          (dir_fd is always supported for fwalk.)\n",
      "\n",
      "        Caution:\n",
      "        Since fwalk() yields file descriptors, those are only valid until the\n",
      "        next iteration step, so you should dup() them if you want to keep them\n",
      "        for a longer period.\n",
      "\n",
      "        Example:\n",
      "\n",
      "        import os\n",
      "        for root, dirs, files, rootfd in os.fwalk('python/Lib/email'):\n",
      "            print(root, \"consumes\", end=\"\")\n",
      "            print(sum([os.stat(name, dir_fd=rootfd).st_size for name in files]),\n",
      "                  end=\"\")\n",
      "            print(\"bytes in\", len(files), \"non-directory files\")\n",
      "            if 'CVS' in dirs:\n",
      "                dirs.remove('CVS')  # don't visit CVS directories\n",
      "        \"\"\"\n",
      "        if not isinstance(top, int) or not hasattr(top, '__index__'):\n",
      "            top = fspath(top)\n",
      "        # Note: To guard against symlink races, we use the standard\n",
      "        # lstat()/open()/fstat() trick.\n",
      "        orig_st = stat(top, follow_symlinks=False, dir_fd=dir_fd)\n",
      "        topfd = open(top, O_RDONLY, dir_fd=dir_fd)\n",
      "        try:\n",
      "            if (follow_symlinks or (st.S_ISDIR(orig_st.st_mode) and\n",
      "                                    path.samestat(orig_st, stat(topfd)))):\n",
      "                yield from _fwalk(topfd, top, topdown, onerror, follow_symlinks)\n",
      "        finally:\n",
      "            close(topfd)\n",
      "\n",
      "    def _fwalk(topfd, toppath, topdown, onerror, follow_symlinks):\n",
      "        # Note: This uses O(depth of the directory tree) file descriptors: if\n",
      "        # necessary, it can be adapted to only require O(1) FDs, see issue\n",
      "        # #13734.\n",
      "\n",
      "        names = listdir(topfd)\n",
      "        dirs, nondirs = [], []\n",
      "        for name in names:\n",
      "            try:\n",
      "                # Here, we don't use AT_SYMLINK_NOFOLLOW to be consistent with\n",
      "                # walk() which reports symlinks to directories as directories.\n",
      "                # We do however check for symlinks before recursing into\n",
      "                # a subdirectory.\n",
      "                if st.S_ISDIR(stat(name, dir_fd=topfd).st_mode):\n",
      "                    dirs.append(name)\n",
      "                else:\n",
      "                    nondirs.append(name)\n",
      "            except OSError:\n",
      "                try:\n",
      "                    # Add dangling symlinks, ignore disappeared files\n",
      "                    if st.S_ISLNK(stat(name, dir_fd=topfd, follow_symlinks=False)\n",
      "                                .st_mode):\n",
      "                        nondirs.append(name)\n",
      "                except OSError:\n",
      "                    continue\n",
      "\n",
      "        if topdown:\n",
      "            yield toppath, dirs, nondirs, topfd\n",
      "\n",
      "        for name in dirs:\n",
      "            try:\n",
      "                orig_st = stat(name, dir_fd=topfd, follow_symlinks=follow_symlinks)\n",
      "                dirfd = open(name, O_RDONLY, dir_fd=topfd)\n",
      "            except OSError as err:\n",
      "                if onerror is not None:\n",
      "                    onerror(err)\n",
      "                continue\n",
      "            try:\n",
      "                if follow_symlinks or path.samestat(orig_st, stat(dirfd)):\n",
      "                    dirpath = path.join(toppath, name)\n",
      "                    yield from _fwalk(dirfd, dirpath, topdown, onerror, follow_symlinks)\n",
      "            finally:\n",
      "                close(dirfd)\n",
      "\n",
      "        if not topdown:\n",
      "            yield toppath, dirs, nondirs, topfd\n",
      "\n",
      "    __all__.append(\"fwalk\")\n",
      "\n",
      "# Make sure os.environ exists, at least\n",
      "try:\n",
      "    environ\n",
      "except NameError:\n",
      "    environ = {}\n",
      "\n",
      "def execl(file, *args):\n",
      "    \"\"\"execl(file, *args)\n",
      "\n",
      "    Execute the executable file with argument list args, replacing the\n",
      "    current process. \"\"\"\n",
      "    execv(file, args)\n",
      "\n",
      "def execle(file, *args):\n",
      "    \"\"\"execle(file, *args, env)\n",
      "\n",
      "    Execute the executable file with argument list args and\n",
      "    environment env, replacing the current process. \"\"\"\n",
      "    env = args[-1]\n",
      "    execve(file, args[:-1], env)\n",
      "\n",
      "def execlp(file, *args):\n",
      "    \"\"\"execlp(file, *args)\n",
      "\n",
      "    Execute the executable file (which is searched for along $PATH)\n",
      "    with argument list args, replacing the current process. \"\"\"\n",
      "    execvp(file, args)\n",
      "\n",
      "def execlpe(file, *args):\n",
      "    \"\"\"execlpe(file, *args, env)\n",
      "\n",
      "    Execute the executable file (which is searched for along $PATH)\n",
      "    with argument list args and environment env, replacing the current\n",
      "    process. \"\"\"\n",
      "    env = args[-1]\n",
      "    execvpe(file, args[:-1], env)\n",
      "\n",
      "def execvp(file, args):\n",
      "    \"\"\"execvp(file, args)\n",
      "\n",
      "    Execute the executable file (which is searched for along $PATH)\n",
      "    with argument list args, replacing the current process.\n",
      "    args may be a list or tuple of strings. \"\"\"\n",
      "    _execvpe(file, args)\n",
      "\n",
      "def execvpe(file, args, env):\n",
      "    \"\"\"execvpe(file, args, env)\n",
      "\n",
      "    Execute the executable file (which is searched for along $PATH)\n",
      "    with argument list args and environment env , replacing the\n",
      "    current process.\n",
      "    args may be a list or tuple of strings. \"\"\"\n",
      "    _execvpe(file, args, env)\n",
      "\n",
      "__all__.extend([\"execl\",\"execle\",\"execlp\",\"execlpe\",\"execvp\",\"execvpe\"])\n",
      "\n",
      "def _execvpe(file, args, env=None):\n",
      "    if env is not None:\n",
      "        exec_func = execve\n",
      "        argrest = (args, env)\n",
      "    else:\n",
      "        exec_func = execv\n",
      "        argrest = (args,)\n",
      "        env = environ\n",
      "\n",
      "    head, tail = path.split(file)\n",
      "    if head:\n",
      "        exec_func(file, *argrest)\n",
      "        return\n",
      "    last_exc = saved_exc = None\n",
      "    saved_tb = None\n",
      "    path_list = get_exec_path(env)\n",
      "    if name != 'nt':\n",
      "        file = fsencode(file)\n",
      "        path_list = map(fsencode, path_list)\n",
      "    for dir in path_list:\n",
      "        fullname = path.join(dir, file)\n",
      "        try:\n",
      "            exec_func(fullname, *argrest)\n",
      "        except OSError as e:\n",
      "            last_exc = e\n",
      "            tb = sys.exc_info()[2]\n",
      "            if (e.errno != errno.ENOENT and e.errno != errno.ENOTDIR\n",
      "                and saved_exc is None):\n",
      "                saved_exc = e\n",
      "                saved_tb = tb\n",
      "    if saved_exc:\n",
      "        raise saved_exc.with_traceback(saved_tb)\n",
      "    raise last_exc.with_traceback(tb)\n",
      "\n",
      "\n",
      "def get_exec_path(env=None):\n",
      "    \"\"\"Returns the sequence of directories that will be searched for the\n",
      "    named executable (similar to a shell) when launching a process.\n",
      "\n",
      "    *env* must be an environment variable dict or None.  If *env* is None,\n",
      "    os.environ will be used.\n",
      "    \"\"\"\n",
      "    # Use a local import instead of a global import to limit the number of\n",
      "    # modules loaded at startup: the os module is always loaded at startup by\n",
      "    # Python. It may also avoid a bootstrap issue.\n",
      "    import warnings\n",
      "\n",
      "    if env is None:\n",
      "        env = environ\n",
      "\n",
      "    # {b'PATH': ...}.get('PATH') and {'PATH': ...}.get(b'PATH') emit a\n",
      "    # BytesWarning when using python -b or python -bb: ignore the warning\n",
      "    with warnings.catch_warnings():\n",
      "        warnings.simplefilter(\"ignore\", BytesWarning)\n",
      "\n",
      "        try:\n",
      "            path_list = env.get('PATH')\n",
      "        except TypeError:\n",
      "            path_list = None\n",
      "\n",
      "        if supports_bytes_environ:\n",
      "            try:\n",
      "                path_listb = env[b'PATH']\n",
      "            except (KeyError, TypeError):\n",
      "                pass\n",
      "            else:\n",
      "                if path_list is not None:\n",
      "                    raise ValueError(\n",
      "                        \"env cannot contain 'PATH' and b'PATH' keys\")\n",
      "                path_list = path_listb\n",
      "\n",
      "            if path_list is not None and isinstance(path_list, bytes):\n",
      "                path_list = fsdecode(path_list)\n",
      "\n",
      "    if path_list is None:\n",
      "        path_list = defpath\n",
      "    return path_list.split(pathsep)\n",
      "\n",
      "\n",
      "# Change environ to automatically call putenv(), unsetenv if they exist.\n",
      "from _collections_abc import MutableMapping\n",
      "\n",
      "class _Environ(MutableMapping):\n",
      "    def __init__(self, data, encodekey, decodekey, encodevalue, decodevalue, putenv, unsetenv):\n",
      "        self.encodekey = encodekey\n",
      "        self.decodekey = decodekey\n",
      "        self.encodevalue = encodevalue\n",
      "        self.decodevalue = decodevalue\n",
      "        self.putenv = putenv\n",
      "        self.unsetenv = unsetenv\n",
      "        self._data = data\n",
      "\n",
      "    def __getitem__(self, key):\n",
      "        try:\n",
      "            value = self._data[self.encodekey(key)]\n",
      "        except KeyError:\n",
      "            # raise KeyError with the original key value\n",
      "            raise KeyError(key) from None\n",
      "        return self.decodevalue(value)\n",
      "\n",
      "    def __setitem__(self, key, value):\n",
      "        key = self.encodekey(key)\n",
      "        value = self.encodevalue(value)\n",
      "        self.putenv(key, value)\n",
      "        self._data[key] = value\n",
      "\n",
      "    def __delitem__(self, key):\n",
      "        encodedkey = self.encodekey(key)\n",
      "        self.unsetenv(encodedkey)\n",
      "        try:\n",
      "            del self._data[encodedkey]\n",
      "        except KeyError:\n",
      "            # raise KeyError with the original key value\n",
      "            raise KeyError(key) from None\n",
      "\n",
      "    def __iter__(self):\n",
      "        for key in self._data:\n",
      "            yield self.decodekey(key)\n",
      "\n",
      "    def __len__(self):\n",
      "        return len(self._data)\n",
      "\n",
      "    def __repr__(self):\n",
      "        return 'environ({{{}}})'.format(', '.join(\n",
      "            ('{!r}: {!r}'.format(self.decodekey(key), self.decodevalue(value))\n",
      "            for key, value in self._data.items())))\n",
      "\n",
      "    def copy(self):\n",
      "        return dict(self)\n",
      "\n",
      "    def setdefault(self, key, value):\n",
      "        if key not in self:\n",
      "            self[key] = value\n",
      "        return self[key]\n",
      "\n",
      "try:\n",
      "    _putenv = putenv\n",
      "except NameError:\n",
      "    _putenv = lambda key, value: None\n",
      "else:\n",
      "    if \"putenv\" not in __all__:\n",
      "        __all__.append(\"putenv\")\n",
      "\n",
      "try:\n",
      "    _unsetenv = unsetenv\n",
      "except NameError:\n",
      "    _unsetenv = lambda key: _putenv(key, \"\")\n",
      "else:\n",
      "    if \"unsetenv\" not in __all__:\n",
      "        __all__.append(\"unsetenv\")\n",
      "\n",
      "def _createenviron():\n",
      "    if name == 'nt':\n",
      "        # Where Env Var Names Must Be UPPERCASE\n",
      "        def check_str(value):\n",
      "            if not isinstance(value, str):\n",
      "                raise TypeError(\"str expected, not %s\" % type(value).__name__)\n",
      "            return value\n",
      "        encode = check_str\n",
      "        decode = str\n",
      "        def encodekey(key):\n",
      "            return encode(key).upper()\n",
      "        data = {}\n",
      "        for key, value in environ.items():\n",
      "            data[encodekey(key)] = value\n",
      "    else:\n",
      "        # Where Env Var Names Can Be Mixed Case\n",
      "        encoding = sys.getfilesystemencoding()\n",
      "        def encode(value):\n",
      "            if not isinstance(value, str):\n",
      "                raise TypeError(\"str expected, not %s\" % type(value).__name__)\n",
      "            return value.encode(encoding, 'surrogateescape')\n",
      "        def decode(value):\n",
      "            return value.decode(encoding, 'surrogateescape')\n",
      "        encodekey = encode\n",
      "        data = environ\n",
      "    return _Environ(data,\n",
      "        encodekey, decode,\n",
      "        encode, decode,\n",
      "        _putenv, _unsetenv)\n",
      "\n",
      "# unicode environ\n",
      "environ = _createenviron()\n",
      "del _createenviron\n",
      "\n",
      "\n",
      "def getenv(key, default=None):\n",
      "    \"\"\"Get an environment variable, return None if it doesn't exist.\n",
      "    The optional second argument can specify an alternate default.\n",
      "    key, default and the result are str.\"\"\"\n",
      "    return environ.get(key, default)\n",
      "\n",
      "supports_bytes_environ = (name != 'nt')\n",
      "__all__.extend((\"getenv\", \"supports_bytes_environ\"))\n",
      "\n",
      "if supports_bytes_environ:\n",
      "    def _check_bytes(value):\n",
      "        if not isinstance(value, bytes):\n",
      "            raise TypeError(\"bytes expected, not %s\" % type(value).__name__)\n",
      "        return value\n",
      "\n",
      "    # bytes environ\n",
      "    environb = _Environ(environ._data,\n",
      "        _check_bytes, bytes,\n",
      "        _check_bytes, bytes,\n",
      "        _putenv, _unsetenv)\n",
      "    del _check_bytes\n",
      "\n",
      "    def getenvb(key, default=None):\n",
      "        \"\"\"Get an environment variable, return None if it doesn't exist.\n",
      "        The optional second argument can specify an alternate default.\n",
      "        key, default and the result are bytes.\"\"\"\n",
      "        return environb.get(key, default)\n",
      "\n",
      "    __all__.extend((\"environb\", \"getenvb\"))\n",
      "\n",
      "def _fscodec():\n",
      "    encoding = sys.getfilesystemencoding()\n",
      "    errors = sys.getfilesystemencodeerrors()\n",
      "\n",
      "    def fsencode(filename):\n",
      "        \"\"\"Encode filename (an os.PathLike, bytes, or str) to the filesystem\n",
      "        encoding with 'surrogateescape' error handler, return bytes unchanged.\n",
      "        On Windows, use 'strict' error handler if the file system encoding is\n",
      "        'mbcs' (which is the default encoding).\n",
      "        \"\"\"\n",
      "        filename = fspath(filename)  # Does type-checking of `filename`.\n",
      "        if isinstance(filename, str):\n",
      "            return filename.encode(encoding, errors)\n",
      "        else:\n",
      "            return filename\n",
      "\n",
      "    def fsdecode(filename):\n",
      "        \"\"\"Decode filename (an os.PathLike, bytes, or str) from the filesystem\n",
      "        encoding with 'surrogateescape' error handler, return str unchanged. On\n",
      "        Windows, use 'strict' error handler if the file system encoding is\n",
      "        'mbcs' (which is the default encoding).\n",
      "        \"\"\"\n",
      "        filename = fspath(filename)  # Does type-checking of `filename`.\n",
      "        if isinstance(filename, bytes):\n",
      "            return filename.decode(encoding, errors)\n",
      "        else:\n",
      "            return filename\n",
      "\n",
      "    return fsencode, fsdecode\n",
      "\n",
      "fsencode, fsdecode = _fscodec()\n",
      "del _fscodec\n",
      "\n",
      "# Supply spawn*() (probably only for Unix)\n",
      "if _exists(\"fork\") and not _exists(\"spawnv\") and _exists(\"execv\"):\n",
      "\n",
      "    P_WAIT = 0\n",
      "    P_NOWAIT = P_NOWAITO = 1\n",
      "\n",
      "    __all__.extend([\"P_WAIT\", \"P_NOWAIT\", \"P_NOWAITO\"])\n",
      "\n",
      "    # XXX Should we support P_DETACH?  I suppose it could fork()**2\n",
      "    # and close the std I/O streams.  Also, P_OVERLAY is the same\n",
      "    # as execv*()?\n",
      "\n",
      "    def _spawnvef(mode, file, args, env, func):\n",
      "        # Internal helper; func is the exec*() function to use\n",
      "        if not isinstance(args, (tuple, list)):\n",
      "            raise TypeError('argv must be a tuple or a list')\n",
      "        if not args or not args[0]:\n",
      "            raise ValueError('argv first element cannot be empty')\n",
      "        pid = fork()\n",
      "        if not pid:\n",
      "            # Child\n",
      "            try:\n",
      "                if env is None:\n",
      "                    func(file, args)\n",
      "                else:\n",
      "                    func(file, args, env)\n",
      "            except:\n",
      "                _exit(127)\n",
      "        else:\n",
      "            # Parent\n",
      "            if mode == P_NOWAIT:\n",
      "                return pid # Caller is responsible for waiting!\n",
      "            while 1:\n",
      "                wpid, sts = waitpid(pid, 0)\n",
      "                if WIFSTOPPED(sts):\n",
      "                    continue\n",
      "                elif WIFSIGNALED(sts):\n",
      "                    return -WTERMSIG(sts)\n",
      "                elif WIFEXITED(sts):\n",
      "                    return WEXITSTATUS(sts)\n",
      "                else:\n",
      "                    raise OSError(\"Not stopped, signaled or exited???\")\n",
      "\n",
      "    def spawnv(mode, file, args):\n",
      "        \"\"\"spawnv(mode, file, args) -> integer\n",
      "\n",
      "Execute file with arguments from args in a subprocess.\n",
      "If mode == P_NOWAIT return the pid of the process.\n",
      "If mode == P_WAIT return the process's exit code if it exits normally;\n",
      "otherwise return -SIG, where SIG is the signal that killed it. \"\"\"\n",
      "        return _spawnvef(mode, file, args, None, execv)\n",
      "\n",
      "    def spawnve(mode, file, args, env):\n",
      "        \"\"\"spawnve(mode, file, args, env) -> integer\n",
      "\n",
      "Execute file with arguments from args in a subprocess with the\n",
      "specified environment.\n",
      "If mode == P_NOWAIT return the pid of the process.\n",
      "If mode == P_WAIT return the process's exit code if it exits normally;\n",
      "otherwise return -SIG, where SIG is the signal that killed it. \"\"\"\n",
      "        return _spawnvef(mode, file, args, env, execve)\n",
      "\n",
      "    # Note: spawnvp[e] is't currently supported on Windows\n",
      "\n",
      "    def spawnvp(mode, file, args):\n",
      "        \"\"\"spawnvp(mode, file, args) -> integer\n",
      "\n",
      "Execute file (which is looked for along $PATH) with arguments from\n",
      "args in a subprocess.\n",
      "If mode == P_NOWAIT return the pid of the process.\n",
      "If mode == P_WAIT return the process's exit code if it exits normally;\n",
      "otherwise return -SIG, where SIG is the signal that killed it. \"\"\"\n",
      "        return _spawnvef(mode, file, args, None, execvp)\n",
      "\n",
      "    def spawnvpe(mode, file, args, env):\n",
      "        \"\"\"spawnvpe(mode, file, args, env) -> integer\n",
      "\n",
      "Execute file (which is looked for along $PATH) with arguments from\n",
      "args in a subprocess with the supplied environment.\n",
      "If mode == P_NOWAIT return the pid of the process.\n",
      "If mode == P_WAIT return the process's exit code if it exits normally;\n",
      "otherwise return -SIG, where SIG is the signal that killed it. \"\"\"\n",
      "        return _spawnvef(mode, file, args, env, execvpe)\n",
      "\n",
      "\n",
      "    __all__.extend([\"spawnv\", \"spawnve\", \"spawnvp\", \"spawnvpe\"])\n",
      "\n",
      "\n",
      "if _exists(\"spawnv\"):\n",
      "    # These aren't supplied by the basic Windows code\n",
      "    # but can be easily implemented in Python\n",
      "\n",
      "    def spawnl(mode, file, *args):\n",
      "        \"\"\"spawnl(mode, file, *args) -> integer\n",
      "\n",
      "Execute file with arguments from args in a subprocess.\n",
      "If mode == P_NOWAIT return the pid of the process.\n",
      "If mode == P_WAIT return the process's exit code if it exits normally;\n",
      "otherwise return -SIG, where SIG is the signal that killed it. \"\"\"\n",
      "        return spawnv(mode, file, args)\n",
      "\n",
      "    def spawnle(mode, file, *args):\n",
      "        \"\"\"spawnle(mode, file, *args, env) -> integer\n",
      "\n",
      "Execute file with arguments from args in a subprocess with the\n",
      "supplied environment.\n",
      "If mode == P_NOWAIT return the pid of the process.\n",
      "If mode == P_WAIT return the process's exit code if it exits normally;\n",
      "otherwise return -SIG, where SIG is the signal that killed it. \"\"\"\n",
      "        env = args[-1]\n",
      "        return spawnve(mode, file, args[:-1], env)\n",
      "\n",
      "\n",
      "    __all__.extend([\"spawnl\", \"spawnle\"])\n",
      "\n",
      "\n",
      "if _exists(\"spawnvp\"):\n",
      "    # At the moment, Windows doesn't implement spawnvp[e],\n",
      "    # so it won't have spawnlp[e] either.\n",
      "    def spawnlp(mode, file, *args):\n",
      "        \"\"\"spawnlp(mode, file, *args) -> integer\n",
      "\n",
      "Execute file (which is looked for along $PATH) with arguments from\n",
      "args in a subprocess with the supplied environment.\n",
      "If mode == P_NOWAIT return the pid of the process.\n",
      "If mode == P_WAIT return the process's exit code if it exits normally;\n",
      "otherwise return -SIG, where SIG is the signal that killed it. \"\"\"\n",
      "        return spawnvp(mode, file, args)\n",
      "\n",
      "    def spawnlpe(mode, file, *args):\n",
      "        \"\"\"spawnlpe(mode, file, *args, env) -> integer\n",
      "\n",
      "Execute file (which is looked for along $PATH) with arguments from\n",
      "args in a subprocess with the supplied environment.\n",
      "If mode == P_NOWAIT return the pid of the process.\n",
      "If mode == P_WAIT return the process's exit code if it exits normally;\n",
      "otherwise return -SIG, where SIG is the signal that killed it. \"\"\"\n",
      "        env = args[-1]\n",
      "        return spawnvpe(mode, file, args[:-1], env)\n",
      "\n",
      "\n",
      "    __all__.extend([\"spawnlp\", \"spawnlpe\"])\n",
      "\n",
      "\n",
      "# Supply os.popen()\n",
      "def popen(cmd, mode=\"r\", buffering=-1):\n",
      "    if not isinstance(cmd, str):\n",
      "        raise TypeError(\"invalid cmd type (%s, expected string)\" % type(cmd))\n",
      "    if mode not in (\"r\", \"w\"):\n",
      "        raise ValueError(\"invalid mode %r\" % mode)\n",
      "    if buffering == 0 or buffering is None:\n",
      "        raise ValueError(\"popen() does not support unbuffered streams\")\n",
      "    import subprocess, io\n",
      "    if mode == \"r\":\n",
      "        proc = subprocess.Popen(cmd,\n",
      "                                shell=True,\n",
      "                                stdout=subprocess.PIPE,\n",
      "                                bufsize=buffering)\n",
      "        return _wrap_close(io.TextIOWrapper(proc.stdout), proc)\n",
      "    else:\n",
      "        proc = subprocess.Popen(cmd,\n",
      "                                shell=True,\n",
      "                                stdin=subprocess.PIPE,\n",
      "                                bufsize=buffering)\n",
      "        return _wrap_close(io.TextIOWrapper(proc.stdin), proc)\n",
      "\n",
      "# Helper for popen() -- a proxy for a file whose close waits for the process\n",
      "class _wrap_close:\n",
      "    def __init__(self, stream, proc):\n",
      "        self._stream = stream\n",
      "        self._proc = proc\n",
      "    def close(self):\n",
      "        self._stream.close()\n",
      "        returncode = self._proc.wait()\n",
      "        if returncode == 0:\n",
      "            return None\n",
      "        if name == 'nt':\n",
      "            return returncode\n",
      "        else:\n",
      "            return returncode << 8  # Shift left to match old behavior\n",
      "    def __enter__(self):\n",
      "        return self\n",
      "    def __exit__(self, *args):\n",
      "        self.close()\n",
      "    def __getattr__(self, name):\n",
      "        return getattr(self._stream, name)\n",
      "    def __iter__(self):\n",
      "        return iter(self._stream)\n",
      "\n",
      "# Supply os.fdopen()\n",
      "def fdopen(fd, *args, **kwargs):\n",
      "    if not isinstance(fd, int):\n",
      "        raise TypeError(\"invalid fd type (%s, expected integer)\" % type(fd))\n",
      "    import io\n",
      "    return io.open(fd, *args, **kwargs)\n",
      "\n",
      "\n",
      "# For testing purposes, make sure the function is available when the C\n",
      "# implementation exists.\n",
      "def _fspath(path):\n",
      "    \"\"\"Return the path representation of a path-like object.\n",
      "\n",
      "    If str or bytes is passed in, it is returned unchanged. Otherwise the\n",
      "    os.PathLike interface is used to get the path representation. If the\n",
      "    path representation is not str or bytes, TypeError is raised. If the\n",
      "    provided path is not str, bytes, or os.PathLike, TypeError is raised.\n",
      "    \"\"\"\n",
      "    if isinstance(path, (str, bytes)):\n",
      "        return path\n",
      "\n",
      "    # Work from the object's type to match method resolution of other magic\n",
      "    # methods.\n",
      "    path_type = type(path)\n",
      "    try:\n",
      "        path_repr = path_type.__fspath__(path)\n",
      "    except AttributeError:\n",
      "        if hasattr(path_type, '__fspath__'):\n",
      "            raise\n",
      "        else:\n",
      "            raise TypeError(\"expected str, bytes or os.PathLike object, \"\n",
      "                            \"not \" + path_type.__name__)\n",
      "    if isinstance(path_repr, (str, bytes)):\n",
      "        return path_repr\n",
      "    else:\n",
      "        raise TypeError(\"expected {}.__fspath__() to return str or bytes, \"\n",
      "                        \"not {}\".format(path_type.__name__,\n",
      "                                        type(path_repr).__name__))\n",
      "\n",
      "# If there is no C implementation, make the pure Python version the\n",
      "# implementation as transparently as possible.\n",
      "if not _exists('fspath'):\n",
      "    fspath = _fspath\n",
      "    fspath.__name__ = \"fspath\"\n",
      "\n",
      "\n",
      "class PathLike(abc.ABC):\n",
      "\n",
      "    \"\"\"Abstract base class for implementing the file system path protocol.\"\"\"\n",
      "\n",
      "    @abc.abstractmethod\n",
      "    def __fspath__(self):\n",
      "        \"\"\"Return the file system path representation of the object.\"\"\"\n",
      "        raise NotImplementedError\n",
      "\n",
      "    @classmethod\n",
      "    def __subclasshook__(cls, subclass):\n",
      "        return hasattr(subclass, '__fspath__')\n"
     ]
    }
   ],
   "source": [
    "%%bash\n",
    "OS_FILE=$(python -c \"import os; print(os.__file__)\")\n",
    "cat $OS_FILE"
   ]
  },
  {
   "cell_type": "markdown",
   "metadata": {
    "slideshow": {
     "slide_type": "subslide"
    }
   },
   "source": [
    "if you change that file, or your friend (who is running your code) doesn't have that same file, the code that uses `os` will be different.\n",
    "\n",
    "the same caveat goes for every file or environment variable used by your python process on any machine. This collection of files is often called the \"`python` environment\", and it can be different on any system.\n",
    "\n",
    "in the real world, the implication is immediate: if one of my programs only works for version 1.2, and another only works for version 2.1, and the `GOVERNMENT AGENCY NAME REDACTED` sysad just installed library 1.0 and *that* took two years, this  will probably be a problem.\n",
    "\n",
    "It would be nice if this problem was solved..."
   ]
  },
  {
   "cell_type": "markdown",
   "metadata": {
    "slideshow": {
     "slide_type": "subslide"
    }
   },
   "source": [
    "### virtual environments"
   ]
  },
  {
   "cell_type": "markdown",
   "metadata": {
    "slideshow": {
     "slide_type": "subslide"
    }
   },
   "source": [
    "\"virtual environments\" are ways of isolating out the contents (the files) of libraries you're installing.\n",
    "\n",
    "This is something you've actually probably done in `R`, actually, without knowing it. if you've ever tried installing a package but didn't have admin rights, the `R` interpreter prompts you to see if there's some other place you'd like to install things (usually in your home directory). \n",
    "\n",
    "that is a system-level isolation of the files you want to install. When the interpreter is told to load a package, it looks first for your local copy to see if you have anything spicy, and then the global copy, and then it cries."
   ]
  },
  {
   "cell_type": "markdown",
   "metadata": {
    "slideshow": {
     "slide_type": "subslide"
    }
   },
   "source": [
    "So, generalize that idea: let's make *many* separate environments (collections of files defining how our `python` code behaves).\n",
    "\n",
    "We can generalize this beyond just \"global\" and \"user\" (as with `R`), even creating a separate environment for each process or code base.\n",
    "\n",
    "On a very basic level, all we're doing here is re-installing packages into a special sub-directory somewhere on the machine, and then telling `python` (through environment variables like the `PATH` variable) where to look to find them. \n",
    "\n",
    "We're tricking `python` into doing the right thing. and `python` is cool about it; once it realizes it's been tricked it's not even mad or anything, it's strong in our relationship and knows that it was all a bit of a goof and what's more, we all actually really had a great time and made some good memories."
   ]
  },
  {
   "cell_type": "markdown",
   "metadata": {
    "slideshow": {
     "slide_type": "subslide"
    }
   },
   "source": [
    "Often times finished `python` projects will ship with a `requirements.txt` file, which lists each `python` package which should be installed and the exact version that it was tested against, and it is expected that it will be executed by a system with the same packages and versions. \n",
    "\n",
    "The \"virtual environment\" is an isolated set of packages that will meet that requirement.\n",
    "\n",
    "The original way of creating a virtual environment was the python utility `virtualenv`, which is awesome and worth checking out. That being said, however, it's not what I'll recommend. Instead, I'll recommend..."
   ]
  },
  {
   "cell_type": "markdown",
   "metadata": {
    "slideshow": {
     "slide_type": "slide"
    }
   },
   "source": [
    "## generalizing virtual environments: `conda`"
   ]
  },
  {
   "cell_type": "markdown",
   "metadata": {
    "slideshow": {
     "slide_type": "subslide"
    }
   },
   "source": [
    "`conda`, short for `anaconda`, is a *distribution* of python. it takes the virtual environment concept above and adds a special wrinkle: while most virtual environment managers allow you to install different versions of `python` *packages*, `conda` allows you to install different versions of `python` *itself*.\n",
    "\n",
    "this should help you deal with any `python2` vs. `python3` problems you may experience."
   ]
  },
  {
   "cell_type": "markdown",
   "metadata": {
    "slideshow": {
     "slide_type": "subslide"
    }
   },
   "source": [
    "so, let's go ahead and install `conda`, create a virtual environment, and install something.\n",
    "\n",
    "*note: I would recommend you install `conda` on both your laptop and your `ec2` instance, but we will *require* you to install it on your `ec2` instance (it's part of the homework), so you may want to use that instance to do all of this right now*"
   ]
  },
  {
   "cell_type": "markdown",
   "metadata": {
    "slideshow": {
     "slide_type": "subslide"
    }
   },
   "source": [
    "#### installing `conda`\n",
    "\n",
    "`conda`, by default, comes with many of the most commonly downloaded `python` packages. This is great because it gives you a pretty solid working base without any modification, *BUT* given our time and bandwidth limits, I'm going to recommend you install the `miniconda` version (the bare bones) and install packages *as needed* instead of up front.\n",
    "\n",
    "+ [`conda`](https://www.continuum.io/downloads): a big installation, which will take a few minutes, and pre-installs several of the \"must haves\" (many of the above, and maybe more)\n",
    "+ [`miniconda`](https://conda.io/miniconda.html): a bare-bones implementation of the above for the *discerning* gentleprogrammer"
   ]
  },
  {
   "cell_type": "markdown",
   "metadata": {
    "slideshow": {
     "slide_type": "subslide"
    }
   },
   "source": [
    "Download that stuff. Then follow the instructions on the download page, which will probably say:\n",
    "\n",
    "```bash\n",
    "bash Miniconda_some_other_stuff_.sh\n",
    "```\n",
    "\n",
    "And then, once everything is done:\n",
    "\n",
    "```bash\n",
    "conda update conda\n",
    "```"
   ]
  },
  {
   "cell_type": "markdown",
   "metadata": {
    "slideshow": {
     "slide_type": "subslide"
    }
   },
   "source": [
    "<div align=\"center\">**everyone installs `conda`**</div>"
   ]
  },
  {
   "cell_type": "markdown",
   "metadata": {
    "slideshow": {
     "slide_type": "subslide"
    }
   },
   "source": [
    "recall that we previously called\n",
    "\n",
    "```bash\n",
    "which python3\n",
    "```\n",
    "\n",
    "and got `/usr/bin/python3`, and we also checked the file path to the `os` package (from within a `python` shell):\n",
    "\n",
    "```python\n",
    "import os\n",
    "os.__file__\n",
    "```\n",
    "\n",
    "what do we get now, after installing `conda`?"
   ]
  },
  {
   "cell_type": "markdown",
   "metadata": {
    "slideshow": {
     "slide_type": "subslide"
    }
   },
   "source": [
    "*everything* about `conda` is installed in one and only one directory. \"uninstalling\" `conda` is equivalent to simply deleting that directory.\n",
    "\n",
    "the act of creating an environment creates a new folder under the `env` sub-directory in that main `conda` directory, and installing all of our required packages there. Let's look into that right now:\n",
    "\n",
    "```bash\n",
    "conda create -n l33tmode python=3\n",
    "```\n",
    "\n",
    "will use `conda` to create an environment named \"`l33tmode`\" with `python` version 3 installed."
   ]
  },
  {
   "cell_type": "markdown",
   "metadata": {
    "slideshow": {
     "slide_type": "subslide"
    }
   },
   "source": [
    "as the little dialog will state after you create the environemnt, you have to \"activate\" that environment if you want to use it. You have to do this any time you want to use a virtual environment.\n",
    "\n",
    "what we're *actually* doing here is updating the `PATH` environment variable to \"point\" `python` to our newly created set of files. Now, when we wish to use `python`, we will be using our specialized, isolated versions\n",
    "\n",
    "So let's do that:\n",
    "\n",
    "```bash\n",
    "# mac or linux:\n",
    "source activate l33tmode\n",
    "\n",
    "# windows\n",
    "activate l33tmode\n",
    "```\n",
    "\n",
    "This should have made our terminal prompt 10 times l33t3r. To verify that we're now looking at different files:\n",
    "\n",
    "```bash\n",
    "which python3\n",
    "```"
   ]
  },
  {
   "cell_type": "markdown",
   "metadata": {
    "slideshow": {
     "slide_type": "subslide"
    }
   },
   "source": [
    "Now let's install some stuff\n",
    "\n",
    "```bash\n",
    "conda install jupyter ipython\n",
    "```\n",
    "\n",
    "and then try it out\n",
    "\n",
    "```bash\n",
    "ipython\n",
    "```\n",
    "\n",
    "this should open a fancier python interpreter (`ipython`)"
   ]
  },
  {
   "cell_type": "markdown",
   "metadata": {
    "slideshow": {
     "slide_type": "slide"
    }
   },
   "source": [
    "## `ipython` and `jupyter notebook`"
   ]
  },
  {
   "cell_type": "markdown",
   "metadata": {
    "slideshow": {
     "slide_type": "subslide"
    }
   },
   "source": [
    "the documents and slideshows we've been using as lecture notes this whole time were created with `jupyter`, a cool `python` package which allows you to execute interpreted `python` commands in a \"notebook\" format, where commands and notes are isolated into separate \"cells\" that can be executed on demand.\n",
    "\n",
    "There are a couple of popular \"ways\" of developing `python` code, and `jupyter` notebooks are probably the most popular.\n",
    "\n",
    "I highly recommend becomming familiar with both, but particularly `jupyter`!"
   ]
  },
  {
   "cell_type": "markdown",
   "metadata": {
    "slideshow": {
     "slide_type": "slide"
    }
   },
   "source": [
    "<div align=\"center\">***YESSSSSSSSSSSSSSSSSSSSSSSSSSSSSSSSSSSSSSSSS***</div>\n",
    "<img src=\"http://ih0.redbubble.net/image.13413141.8561/flat,550x550,075,f.u3.jpg\"></img>\n",
    "\n",
    "# END OF LECTURE\n",
    "\n",
    "next lecture: [AWS identity access management (IAM)](005_iam.ipynb)"
   ]
  }
 ],
 "metadata": {
  "celltoolbar": "Slideshow",
  "kernelspec": {
   "display_name": "Python 3",
   "language": "python",
   "name": "python3"
  },
  "language_info": {
   "codemirror_mode": {
    "name": "ipython",
    "version": 3
   },
   "file_extension": ".py",
   "mimetype": "text/x-python",
   "name": "python",
   "nbconvert_exporter": "python",
   "pygments_lexer": "ipython3",
   "version": "3.6.1"
  }
 },
 "nbformat": 4,
 "nbformat_minor": 2
}

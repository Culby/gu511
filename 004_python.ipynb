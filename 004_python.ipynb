{
 "cells": [
  {
   "cell_type": "markdown",
   "metadata": {
    "slideshow": {
     "slide_type": "slide"
    }
   },
   "source": [
    "# python"
   ]
  },
  {
   "cell_type": "markdown",
   "metadata": {
    "slideshow": {
     "slide_type": "subslide"
    }
   },
   "source": [
    "[`python`](https://www.python.org/) is one of the most popular scripting and programming languages in the world. there are, [like, ninefinity different ways of ranking programming lanaguages](https://www.python.org/), and `python` sits in the top 5 of almost every one of them.\n",
    "\n",
    "I have used it on every single project I've ever worked on. I am an unashamed `python` fanboy.\n",
    "\n",
    "I'm also not really one for the `R` vs. `python` holy wars -- the two have different use cases and any conversation that attempts to settle \"which is better\" is already fundamentally flawed, in my opinion. That being said, I'd like to make the following case as to why you should *learn* `python`, even if it doesn't become your go-to data science language:"
   ]
  },
  {
   "cell_type": "markdown",
   "metadata": {
    "slideshow": {
     "slide_type": "subslide"
    }
   },
   "source": [
    "##### `python` is much more common than `R`\n",
    "\n",
    "this is a feature of a number of biases, but also speaks to something fundamental about the differences between the languages: `R` is a very *deep* language in a very *narrow* field of concepts (namely, statistics), whereas `python` is among the most *broad* and *flexible* languages without a central purpose.\n",
    "\n",
    "Another reason this matters: the barrier to entry for a company or government agency's IT department will be lower (or already surpassed) for `python` and `python` packages if for no other reason than that computer engineers are familiar with it by default."
   ]
  },
  {
   "cell_type": "markdown",
   "metadata": {
    "slideshow": {
     "slide_type": "subslide"
    }
   },
   "source": [
    "##### there is a package for that\n",
    "\n",
    "this is a corollary of the previous point: if there is a thing you want to do, it is very likely that some one has already done it in `python`, and that their work is available for you to use.\n",
    "\n",
    "For a point of comparison, there are 11,282 `R` packages on `CRAN`, and 115,497 on `python`."
   ]
  },
  {
   "cell_type": "code",
   "execution_count": null,
   "metadata": {
    "collapsed": true
   },
   "outputs": [],
   "source": [
    "import antigravity"
   ]
  },
  {
   "cell_type": "markdown",
   "metadata": {
    "slideshow": {
     "slide_type": "subslide"
    }
   },
   "source": [
    "##### it does all the most basic things well\n",
    "\n",
    "although it is available and well-supported on every OS, `python` is very much a linux-focused language. it \"grew up\" in linux as an alternative scripting language (alternative to `bash` and other `shell` scripts). because of this, it acquired some of the linux philosophy points, and specifically those that focus on simplicity.\n",
    "\n",
    "many of the current iterations of linux tools are actually calling `python` scripts under the hood, which means that essential things like web scraping, emailing, scheduling and timing, networking, logging, and database access are all possible and highly optimized in `python`"
   ]
  },
  {
   "cell_type": "markdown",
   "metadata": {
    "slideshow": {
     "slide_type": "subslide"
    }
   },
   "source": [
    "##### it is fun\n",
    "\n",
    "`python` was created with the express interest of being as simple to program in as possible. most of the syntax and rules are specifically generated to make the language function as much like pseudo-code as possible, so code is easy to read.\n",
    "\n",
    "the community also has an edge to it. a good example: start a python session and type\n",
    "\n",
    "```python\n",
    "import this\n",
    "```"
   ]
  },
  {
   "cell_type": "code",
   "execution_count": null,
   "metadata": {
    "slideshow": {
     "slide_type": "subslide"
    }
   },
   "outputs": [],
   "source": [
    "import this"
   ]
  },
  {
   "cell_type": "markdown",
   "metadata": {
    "slideshow": {
     "slide_type": "slide"
    }
   },
   "source": [
    "## version 2 vs. 3"
   ]
  },
  {
   "cell_type": "markdown",
   "metadata": {},
   "source": [
    "I'd be remiss not to mention one of the major red marks against `python` -- the infamous \"2 vs. 3\" upgrade controversy.\n",
    "\n",
    "in order to make some very low-level changes to the language (primarily for performance improvements and to support international languages), the developer community chose to make a new major version of `python`: `python3`.\n",
    "\n",
    "the process caused a lot of confusion among newcomers to the language -- which was exploding in popularity at around the same time -- and also put a large burden of uncertainty on corporate developers and development.\n",
    "\n",
    "the bottom line, in my opinion is this:\n",
    "\n",
    "***unless you have no other option, you should always use python 3 and only python 3***"
   ]
  },
  {
   "cell_type": "markdown",
   "metadata": {
    "slideshow": {
     "slide_type": "slide"
    }
   },
   "source": [
    "## packages"
   ]
  },
  {
   "cell_type": "markdown",
   "metadata": {
    "slideshow": {
     "slide_type": "subslide"
    }
   },
   "source": [
    "a given file of executible `python` code is probably best referred to as a \"script\", but a collection of scripts which expose some sort of interface to a user to do \"something\" are generally called a \"library\" or a \"package\". \n",
    "\n",
    "This is mostly the same convention as in the `R` community -- think of the differences between scripts you wrote and `dplyr` and all the other stuff Hadley wrote."
   ]
  },
  {
   "cell_type": "markdown",
   "metadata": {
    "slideshow": {
     "slide_type": "subslide"
    }
   },
   "source": [
    "### my favorite packages\n",
    "\n",
    "So what sorts of `python` packages should you use?"
   ]
  },
  {
   "cell_type": "markdown",
   "metadata": {
    "slideshow": {
     "slide_type": "subslide"
    }
   },
   "source": [
    "first of all, the builtin packages are pretty great, and cover a wide range of the most necessary use cases for a programming language (e.g. file i/o and os utilities and tie-ins). The ones I use most often are:\n",
    "\n",
    "+ `argparse` - reading in and parsing command line arguments\n",
    "+ `collections` - sets of \"collection\" objects (e.g. ordered dictionaries, named tuples, default dictionaries)\n",
    "+ `csv` - for reading and writing delimited files\n",
    "+ `datetime` - the fundamental date object and utilities library\n",
    "+ `functools` - functional tools, including fancy stuff like partial function definitions and caching\n",
    "+ `itertools` - an awesome library of utilities for iterating through collections of items\n",
    "+ `json` - for parsing and constructing well formatted JSON\n",
    "+ `logging` - for logging messages to console, file, etc\n",
    "+ `os` - operating system interaction (I use this in almost every single program)\n",
    "+ `pickle` - a `python`-native serialization protocol, for saving `python` stuff\n",
    "+ `random` - a decent (if not special) randomization library\n",
    "+ `re` - regular expression parsing library\n",
    "+ `time` - a generic OS-level time interface\n",
    "\n",
    "for any `python` installation, these *already exist* -- no installation necessary"
   ]
  },
  {
   "cell_type": "markdown",
   "metadata": {
    "slideshow": {
     "slide_type": "subslide"
    }
   },
   "source": [
    "there are also a ton of great open-source libraries for just about any purpose you might imagine. Again, the ones I use most often:\n",
    "\n",
    "+ `flask` - a `python` web framework (for standing up webpages)\n",
    "+ `ipython` - the best interactive shell, it just makes the normal python program look silly\n",
    "+ `jupyter` - the interactive extension of the above (`ipython`, this is what is used to make this bodacious document you see before you)\n",
    "+ `lxml` - a fast and flexible XML / HTML library\n",
    "+ `matplotlib` - a plotting library that is super useful but will make `R` users dream of their former glory\n",
    "+ `nltk` - Natural Language Tool Kit, a library for language processing and text analytics\n",
    "+ `numpy` - NUMerical PYthon, a lot of super duper array and linear algebra glue code to make C and FORTRAN routines available in `python`.\n",
    "+ `pandas` - PANel DAta, a dataframe interface for feature data. This is the main data science library in `python` and, again, I use it in almost every single program\n",
    "+ `plotly` - an amazing plotting library"
   ]
  },
  {
   "cell_type": "markdown",
   "metadata": {
    "slideshow": {
     "slide_type": "subslide"
    }
   },
   "source": [
    "+ `psycopg2` - a `postgres` library\n",
    "+ `requests` - the main web GET and POST library\n",
    "+ `scipy` - SCIentific PYthon, and extension of `numpy` to include a more scientific utilities\n",
    "+ `scrapy` - a flexibile but easy web scraping framework\n",
    "+ `seaborn` - something you import whenever you use `matplotlib` to make your plots non-heinous (also has some useful functions that no one has discovered yet)\n",
    "+ `selenium` - a javascript engine library (for when `requests` isn't good enough)\n",
    "+ `sklearn` - the other half of the primary data science workflow, an all-purpose modeling library\n",
    "+ `sqlalchemy` - an ORM library for most sql databases. It's pretty flashy and when you finally need it, you'll know in your heart.\n",
    "+ `tqdm` - a fancy-pants progress bar library. You don't need it, but you want it.\n",
    "+ `yaml` - a library for parsing the world's greatest configuration format, Yet Another Markup Language (YAML)"
   ]
  },
  {
   "cell_type": "markdown",
   "metadata": {
    "slideshow": {
     "slide_type": "subslide"
    }
   },
   "source": [
    "### installing packages\n",
    "\n",
    "So, let's take a journey together.\n",
    "\n",
    "Unlike `R`, the folks who put `python` together thought that people should care about the versions of the packages they installed. They didn't really do anything to make this happen in a sane way, though, so there were like ten different ways to install packages. \n",
    "\n",
    "If you learned `python` in the early days, you probably heard it was hard to install packages. Well, it was. Maybe it still is, depending on your attitude. That's right, I'm blaming the victim."
   ]
  },
  {
   "cell_type": "markdown",
   "metadata": {
    "slideshow": {
     "slide_type": "subslide"
    }
   },
   "source": [
    "Really, though, I'm sorry. If you're coming to `python` from `R` this probably feels silly. Why not just have an `install` function and install whatever you want? \n",
    "\n",
    "Why? Basically, because that's a bad idea for writing production-level software.\n",
    "\n",
    "production-level software is meant to be deterministic, and to be stable. Software that has the ability to install packages within the language has several disadvantages:\n",
    "\n",
    "1. avoids administrator oversight\n",
    "    1. having to ask your admin to install something is a *good* thing\n",
    "2. could install something malicious or broken without anyone knowing\n",
    "3. could install different versions on different machines at different times"
   ]
  },
  {
   "cell_type": "markdown",
   "metadata": {
    "slideshow": {
     "slide_type": "subslide"
    }
   },
   "source": [
    "Basically, the versions of all your packages matter, so you should care about that stuff. The `python` community is pretty stickly about that and has gone to great lengths (and, like, 15 different methods) to try and solve that problem. And today, that means that everyone is doing one of the following:\n",
    "\n",
    "+ using `pip` (\"Pip Installs Python\", and yes, recursive acronyms are annoying)\n",
    "+ using `pip`, but in a virtual environment\n",
    "+ using `conda` (virtual environments on steroids or amphetamines, depending on whether you're a data scientist or sysad (resp))\n",
    "\n",
    "I advocate using `conda` for many reasons -- more on this later."
   ]
  },
  {
   "cell_type": "markdown",
   "metadata": {
    "slideshow": {
     "slide_type": "slide"
    }
   },
   "source": [
    "## environments"
   ]
  },
  {
   "cell_type": "markdown",
   "metadata": {
    "slideshow": {
     "slide_type": "subslide"
    }
   },
   "source": [
    "### basic environments\n",
    "\n",
    "Let's take a quick python version poll:\n",
    "\n",
    "on your laptop (not your `ec2` instance), what `python` version do you have installed?\n",
    "\n",
    "```bash\n",
    "python --version\n",
    "```"
   ]
  },
  {
   "cell_type": "code",
   "execution_count": null,
   "metadata": {},
   "outputs": [],
   "source": [
    "%%bash\n",
    "python --version"
   ]
  },
  {
   "cell_type": "markdown",
   "metadata": {
    "slideshow": {
     "slide_type": "subslide"
    }
   },
   "source": [
    "different versions of `python` (and different versions of installed packages) have different files defining the language's behavior and thus different levels of compatability. personally, I think knowing that these files exist is among the more important.\n",
    "\n",
    "***the way that the code you wrote behaves depends on these files***\n",
    "\n",
    "recall the `which` command, which will tell us they path that will actually be called when we type in a command\n",
    "\n",
    "```bash\n",
    "which python3\n",
    "```"
   ]
  },
  {
   "cell_type": "code",
   "execution_count": null,
   "metadata": {},
   "outputs": [],
   "source": [
    "%%bash\n",
    "which python3"
   ]
  },
  {
   "cell_type": "markdown",
   "metadata": {
    "slideshow": {
     "slide_type": "subslide"
    }
   },
   "source": [
    "your out-of-the-box `ec2` instances will likely return `/usr/bin/python3`. so when you type `python3` on the command line, you will actually call the executible file `/usr/bin/python3`.\n",
    "\n",
    "the same sort of thing is going on for individual `python` modules we import. Every module has a \"private\" member `__file__` which lists the path to the file used to define that module:"
   ]
  },
  {
   "cell_type": "code",
   "execution_count": null,
   "metadata": {},
   "outputs": [],
   "source": [
    "import os\n",
    "os.__file__"
   ]
  },
  {
   "cell_type": "markdown",
   "metadata": {
    "slideshow": {
     "slide_type": "subslide"
    }
   },
   "source": [
    "let's look at that file!\n",
    "\n",
    "```bash\n",
    "# for you, it is:\n",
    "less /usr/lib/python3.5/os.py\n",
    "\n",
    "#for me, right now, it'll be different -- hence the craziness below. sorry!\n",
    "```"
   ]
  },
  {
   "cell_type": "code",
   "execution_count": null,
   "metadata": {},
   "outputs": [],
   "source": [
    "%%bash\n",
    "OS_FILE=$(python -c \"import os; print(os.__file__)\")\n",
    "cat $OS_FILE"
   ]
  },
  {
   "cell_type": "markdown",
   "metadata": {
    "slideshow": {
     "slide_type": "subslide"
    }
   },
   "source": [
    "if you change that file, or your friend (who is running your code) doesn't have that same file, the code that uses `os` will be different.\n",
    "\n",
    "the same caveat goes for every file or environment variable used by your python process on any machine. This collection of files is often called the \"`python` environment\", and it can be different on any system.\n",
    "\n",
    "in the real world, the implication is immediate: if one of my programs only works for version 1.2, and another only works for version 2.1, and the `GOVERNMENT AGENCY NAME REDACTED` sysad just installed library 1.0 and *that* took two years, this  will probably be a problem.\n",
    "\n",
    "It would be nice if this problem was solved..."
   ]
  },
  {
   "cell_type": "markdown",
   "metadata": {
    "slideshow": {
     "slide_type": "subslide"
    }
   },
   "source": [
    "### virtual environments"
   ]
  },
  {
   "cell_type": "markdown",
   "metadata": {
    "slideshow": {
     "slide_type": "subslide"
    }
   },
   "source": [
    "\"virtual environments\" are ways of isolating out the contents (the files) of libraries you're installing.\n",
    "\n",
    "This is something you've actually probably done in `R`, actually, without knowing it. if you've ever tried installing a package but didn't have admin rights, the `R` interpreter prompts you to see if there's some other place you'd like to install things (usually in your home directory). \n",
    "\n",
    "that is a system-level isolation of the files you want to install. When the interpreter is told to load a package, it looks first for your local copy to see if you have anything spicy, and then the global copy, and then it cries."
   ]
  },
  {
   "cell_type": "markdown",
   "metadata": {
    "slideshow": {
     "slide_type": "subslide"
    }
   },
   "source": [
    "So, generalize that idea: let's make *many* separate environments (collections of files defining how our `python` code behaves).\n",
    "\n",
    "We can generalize this beyond just \"global\" and \"user\" (as with `R`), even creating a separate environment for each process or code base.\n",
    "\n",
    "On a very basic level, all we're doing here is re-installing packages into a special sub-directory somewhere on the machine, and then telling `python` (through environment variables like the `PATH` variable) where to look to find them. \n",
    "\n",
    "We're tricking `python` into doing the right thing. and `python` is cool about it; once it realizes it's been tricked it's not even mad or anything, it's strong in our relationship and knows that it was all a bit of a goof and what's more, we all actually really had a great time and made some good memories."
   ]
  },
  {
   "cell_type": "markdown",
   "metadata": {
    "slideshow": {
     "slide_type": "subslide"
    }
   },
   "source": [
    "Often times finished `python` projects will ship with a `requirements.txt` file, which lists each `python` package which should be installed and the exact version that it was tested against, and it is expected that it will be executed by a system with the same packages and versions. \n",
    "\n",
    "The \"virtual environment\" is an isolated set of packages that will meet that requirement.\n",
    "\n",
    "The original way of creating a virtual environment was the python utility `virtualenv`, which is awesome and worth checking out. That being said, however, it's not what I'll recommend. Instead, I'll recommend..."
   ]
  },
  {
   "cell_type": "markdown",
   "metadata": {
    "slideshow": {
     "slide_type": "slide"
    }
   },
   "source": [
    "## generalizing virtual environments: `conda`"
   ]
  },
  {
   "cell_type": "markdown",
   "metadata": {
    "slideshow": {
     "slide_type": "subslide"
    }
   },
   "source": [
    "`conda`, short for `anaconda`, is a *distribution* of python. it takes the virtual environment concept above and adds a special wrinkle: while most virtual environment managers allow you to install different versions of `python` *packages*, `conda` allows you to install different versions of `python` *itself*.\n",
    "\n",
    "this should help you deal with any `python2` vs. `python3` problems you may experience."
   ]
  },
  {
   "cell_type": "markdown",
   "metadata": {
    "slideshow": {
     "slide_type": "subslide"
    }
   },
   "source": [
    "so, let's go ahead and install `conda`, create a virtual environment, and install something.\n",
    "\n",
    "*note: I would recommend you install `conda` on both your laptop and your `ec2` instance, but we will *require* you to install it on your `ec2` instance (it's part of the homework), so you may want to use that instance to do all of this right now*"
   ]
  },
  {
   "cell_type": "markdown",
   "metadata": {
    "slideshow": {
     "slide_type": "subslide"
    }
   },
   "source": [
    "#### installing `conda`\n",
    "\n",
    "`conda`, by default, comes with many of the most commonly downloaded `python` packages. This is great because it gives you a pretty solid working base without any modification, *BUT* given our time and bandwidth limits, I'm going to recommend you install the `miniconda` version (the bare bones) and install packages *as needed* instead of up front.\n",
    "\n",
    "+ [`conda`](https://www.continuum.io/downloads): a big installation, which will take a few minutes, and pre-installs several of the \"must haves\" (many of the above, and maybe more)\n",
    "+ [`miniconda`](https://conda.io/miniconda.html): a bare-bones implementation of the above for the *discerning* gentleprogrammer"
   ]
  },
  {
   "cell_type": "markdown",
   "metadata": {
    "slideshow": {
     "slide_type": "subslide"
    }
   },
   "source": [
    "Download that stuff. Then follow the instructions on the download page, which will probably say:\n",
    "\n",
    "```bash\n",
    "bash Miniconda_some_other_stuff_.sh\n",
    "```\n",
    "\n",
    "And then, once everything is done:\n",
    "\n",
    "```bash\n",
    "conda update conda\n",
    "```"
   ]
  },
  {
   "cell_type": "markdown",
   "metadata": {
    "slideshow": {
     "slide_type": "subslide"
    }
   },
   "source": [
    "<div align=\"center\">**everyone installs `conda`**</div>"
   ]
  },
  {
   "cell_type": "markdown",
   "metadata": {
    "slideshow": {
     "slide_type": "notes"
    }
   },
   "source": [
    "note: the download link for the miniconda bash script *will change*! update it by actually going to [the miniconda website](https://conda.io/miniconda.html)\n",
    "\n",
    "+ go to [the miniconda website](https://conda.io/miniconda.html) to get the bash script name\n",
    "    + we are looking at the 64-bit linux installer\n",
    "+ download that bash script to your `ec2` server and run it\n",
    "\n",
    "```bash\n",
    "cd ~\n",
    "wget https://repo.continuum.io/miniconda/Miniconda3-latest-Linux-x86_64.sh\n",
    "bash Miniconda3-latest-Linux-x86_64.sh\n",
    "\n",
    "# when prompted, we do the following:\n",
    "# press ENTER to read the license\n",
    "#     press `d` to scroll *d*own\n",
    "# yes: approve the license\n",
    "# ENTER: we are okay with this location\n",
    "# yes: allow your path to be updated to *always* include conda\n",
    "\n",
    "conda update conda\n",
    "```"
   ]
  },
  {
   "cell_type": "markdown",
   "metadata": {
    "slideshow": {
     "slide_type": "subslide"
    }
   },
   "source": [
    "recall that we previously called\n",
    "\n",
    "```bash\n",
    "which python3\n",
    "```\n",
    "\n",
    "and got `/usr/bin/python3`, and we also checked the file path to the `os` package (from within a `python` shell):\n",
    "\n",
    "```python\n",
    "import os\n",
    "os.__file__\n",
    "```\n",
    "\n",
    "what do we get now, after installing `conda`?"
   ]
  },
  {
   "cell_type": "markdown",
   "metadata": {
    "slideshow": {
     "slide_type": "subslide"
    }
   },
   "source": [
    "*everything* about `conda` is installed in one and only one directory. \"uninstalling\" `conda` is equivalent to simply deleting that directory.\n",
    "\n",
    "the act of creating an environment creates a new folder under the `env` sub-directory in that main `conda` directory, and installing all of our required packages there. Let's look into that right now:\n",
    "\n",
    "```bash\n",
    "conda create -n l33tmode python=3\n",
    "```\n",
    "\n",
    "will use `conda` to create an environment named \"`l33tmode`\" with `python` version 3 installed."
   ]
  },
  {
   "cell_type": "markdown",
   "metadata": {
    "slideshow": {
     "slide_type": "subslide"
    }
   },
   "source": [
    "as the little dialog will state after you create the environemnt, you have to \"activate\" that environment if you want to use it. You have to do this any time you want to use a virtual environment.\n",
    "\n",
    "what we're *actually* doing here is updating the `PATH` environment variable to \"point\" `python` to our newly created set of files. Now, when we wish to use `python`, we will be using our specialized, isolated versions\n",
    "\n",
    "So let's do that:\n",
    "\n",
    "```bash\n",
    "# mac or linux:\n",
    "source activate l33tmode\n",
    "\n",
    "# windows\n",
    "activate l33tmode\n",
    "```\n",
    "\n",
    "This should have made our terminal prompt 10 times l33t3r. To verify that we're now looking at different files:\n",
    "\n",
    "```bash\n",
    "which python3\n",
    "```"
   ]
  },
  {
   "cell_type": "markdown",
   "metadata": {
    "slideshow": {
     "slide_type": "subslide"
    }
   },
   "source": [
    "Now let's install some stuff\n",
    "\n",
    "```bash\n",
    "conda install jupyter ipython\n",
    "```\n",
    "\n",
    "and then try it out\n",
    "\n",
    "```bash\n",
    "ipython\n",
    "```\n",
    "\n",
    "this should open a fancier python interpreter (`ipython`)"
   ]
  },
  {
   "cell_type": "markdown",
   "metadata": {
    "slideshow": {
     "slide_type": "slide"
    }
   },
   "source": [
    "## `ipython` and `jupyter notebook`"
   ]
  },
  {
   "cell_type": "markdown",
   "metadata": {
    "slideshow": {
     "slide_type": "subslide"
    }
   },
   "source": [
    "the documents and slideshows we've been using as lecture notes this whole time were created with `jupyter`, a cool `python` package which allows you to execute interpreted `python` commands in a \"notebook\" format, where commands and notes are isolated into separate \"cells\" that can be executed on demand.\n",
    "\n",
    "There are a couple of popular \"ways\" of developing `python` code, and `jupyter` notebooks are probably the most popular.\n",
    "\n",
    "I highly recommend becomming familiar with both, but particularly `jupyter`!"
   ]
  },
  {
   "cell_type": "markdown",
   "metadata": {
    "slideshow": {
     "slide_type": "slide"
    }
   },
   "source": [
    "<div align=\"center\">***YESSSSSSSSSSSSSSSSSSSSSSSSSSSSSSSSSSSSSSSSS***</div>\n",
    "<img align=\"middle\" src=\"http://ih0.redbubble.net/image.13413141.8561/flat,550x550,075,f.u3.jpg\"></img>\n",
    "\n",
    "# END OF LECTURE\n",
    "\n",
    "next lecture: [AWS identity access management (IAM)](005_iam.ipynb)"
   ]
  }
 ],
 "metadata": {
  "celltoolbar": "Slideshow",
  "kernelspec": {
   "display_name": "Python 3",
   "language": "python",
   "name": "python3"
  },
  "language_info": {
   "codemirror_mode": {
    "name": "ipython",
    "version": 3
   },
   "file_extension": ".py",
   "mimetype": "text/x-python",
   "name": "python",
   "nbconvert_exporter": "python",
   "pygments_lexer": "ipython3",
   "version": "3.6.1"
  }
 },
 "nbformat": 4,
 "nbformat_minor": 2
}
